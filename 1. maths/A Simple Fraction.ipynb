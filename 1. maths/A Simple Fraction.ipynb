{
 "cells": [
  {
   "cell_type": "code",
   "execution_count": 1,
   "id": "67cfd4c0",
   "metadata": {},
   "outputs": [
    {
     "data": {
      "text/plain": [
       "'\\nhttps://practice.geeksforgeeks.org/problems/a-simple-fraction0921/1?page=1&company[]=Amazon&category[]=Mathematical&category[]=Prime%20Number&sortBy=submissions\\n\\n\\nGiven a fraction. Convert it into a decimal. \\nIf the fractional part is repeating, enclose the \\nrepeating part in parentheses.\\n \\n\\nExample 1:\\n\\nInput: numerator = 1, denominator = 3\\nOutput: \"0.(3)\"\\nExplanation: 1/3 = 0.3333... So here 3 is \\nrecurring.\\nExample 2:\\n\\nInput: numerator = 5, denominator = 2\\nOutput: \"2.5\"\\nExplanation: 5/2 = 2.5\\n \\n\\nYour Task:\\nYou don\\'t need to read or print anyhting. Your task is to\\ncomplete the function fractionToDecimal() which takes \\nnumerator and denominator as input parameter and returns \\nits decimal form in string format.\\n\\nNote: In case, the numerator is divisible by the denominator, \\njust print the integer value.\\n \\n\\nExpected Time Compelxity: O(k) where k is constant.\\nExpected Space Complexity: O(k)\\n \\n\\nConstraints:\\n1 ≤ numerator, denominator ≤ 2000\\n'"
      ]
     },
     "execution_count": 1,
     "metadata": {},
     "output_type": "execute_result"
    }
   ],
   "source": [
    "'''\n",
    "https://practice.geeksforgeeks.org/problems/a-simple-fraction0921/1?page=1&company[]=Amazon&category[]=Mathematical&category[]=Prime%20Number&sortBy=submissions\n",
    "\n",
    "\n",
    "Given a fraction. Convert it into a decimal. \n",
    "If the fractional part is repeating, enclose the \n",
    "repeating part in parentheses.\n",
    " \n",
    "\n",
    "Example 1:\n",
    "\n",
    "Input: numerator = 1, denominator = 3\n",
    "Output: \"0.(3)\"\n",
    "Explanation: 1/3 = 0.3333... So here 3 is \n",
    "recurring.\n",
    "Example 2:\n",
    "\n",
    "Input: numerator = 5, denominator = 2\n",
    "Output: \"2.5\"\n",
    "Explanation: 5/2 = 2.5\n",
    " \n",
    "\n",
    "Your Task:\n",
    "You don't need to read or print anyhting. Your task is to\n",
    "complete the function fractionToDecimal() which takes \n",
    "numerator and denominator as input parameter and returns \n",
    "its decimal form in string format.\n",
    "\n",
    "Note: In case, the numerator is divisible by the denominator, \n",
    "just print the integer value.\n",
    " \n",
    "\n",
    "Expected Time Compelxity: O(k) where k is constant.\n",
    "Expected Space Complexity: O(k)\n",
    " \n",
    "\n",
    "Constraints:\n",
    "1 ≤ numerator, denominator ≤ 2000\n",
    "'''"
   ]
  },
  {
   "cell_type": "code",
   "execution_count": 2,
   "id": "2c1dfe2c",
   "metadata": {},
   "outputs": [],
   "source": [
    "def fractionToDecimal(self, num, de):\n",
    "    # Code here\n",
    "    ans=''\n",
    "    quot=num//de\n",
    "    rem=num%de\n",
    "    ans+=str(quot)\n",
    "\n",
    "    if(rem):\n",
    "        d=dict()\n",
    "        recurring=False\n",
    "        fraction=''\n",
    "        pos=0\n",
    "        while(rem):\n",
    "            if(rem in d):\n",
    "                recurring=True\n",
    "                pos=d[rem]\n",
    "                break\n",
    "            else:\n",
    "                #print(rem)\n",
    "                d[rem]=pos\n",
    "                rem*=10\n",
    "                quot=rem//de\n",
    "                rem=rem%de\n",
    "                fraction+=str(quot)\n",
    "                pos+=1\n",
    "        if(recurring):\n",
    "            fraction=fraction[:pos]+'('+fraction[pos:]+')'\n",
    "        ans+='.'+str(fraction)\n",
    "    return ans"
   ]
  },
  {
   "cell_type": "code",
   "execution_count": null,
   "id": "0f676f8e",
   "metadata": {},
   "outputs": [],
   "source": []
  }
 ],
 "metadata": {
  "kernelspec": {
   "display_name": "Python 3 (ipykernel)",
   "language": "python",
   "name": "python3"
  },
  "language_info": {
   "codemirror_mode": {
    "name": "ipython",
    "version": 3
   },
   "file_extension": ".py",
   "mimetype": "text/x-python",
   "name": "python",
   "nbconvert_exporter": "python",
   "pygments_lexer": "ipython3",
   "version": "3.8.2"
  }
 },
 "nbformat": 4,
 "nbformat_minor": 5
}

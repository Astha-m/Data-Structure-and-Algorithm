{
 "cells": [
  {
   "cell_type": "code",
   "execution_count": 1,
   "id": "f87dc8b5",
   "metadata": {},
   "outputs": [
    {
     "data": {
      "text/plain": [
       "'\\nhttps://practice.geeksforgeeks.org/problems/a-difference-of-values-and-indexes0302/1\\n\\n\\nGiven an unsorted array arr[ ] of size n, you need to \\nfind the maximum difference of absolute values of elements\\nand indexes, i.e., for i <= j, calculate maximum of | arr[ i ] - arr[ j ] | + | i - j |. \\n\\nExample 1:\\n\\nInput : \\nn = 3\\narr[ ] = {1, 3, -1}\\nOutput: 5\\nExplanation:\\nMaximum difference comes from indexes \\n1, 2 i.e | 3 - (-1) | + | 1 - 2 | = 5\\n\\nExample 2:\\n\\nInput : \\nn = 4\\narr[ ] = {5, 9, 2, 6} \\nOutput:  8\\nExplanation: \\nMaximum difference comes from indexes \\n1, 2 i.e | 9 - 2 | + | 1 - 2 | = 8\\n \\n\\n'"
      ]
     },
     "execution_count": 1,
     "metadata": {},
     "output_type": "execute_result"
    }
   ],
   "source": [
    "'''\n",
    "https://practice.geeksforgeeks.org/problems/a-difference-of-values-and-indexes0302/1\n",
    "\n",
    "\n",
    "Given an unsorted array arr[ ] of size n, you need to \n",
    "find the maximum difference of absolute values of elements\n",
    "and indexes, i.e., for i <= j, calculate maximum of | arr[ i ] - arr[ j ] | + | i - j |. \n",
    "\n",
    "Example 1:\n",
    "\n",
    "Input : \n",
    "n = 3\n",
    "arr[ ] = {1, 3, -1}\n",
    "Output: 5\n",
    "Explanation:\n",
    "Maximum difference comes from indexes \n",
    "1, 2 i.e | 3 - (-1) | + | 1 - 2 | = 5\n",
    "\n",
    "Example 2:\n",
    "\n",
    "Input : \n",
    "n = 4\n",
    "arr[ ] = {5, 9, 2, 6} \n",
    "Output:  8\n",
    "Explanation: \n",
    "Maximum difference comes from indexes \n",
    "1, 2 i.e | 9 - 2 | + | 1 - 2 | = 8\n",
    " \n",
    "\n",
    "'''"
   ]
  },
  {
   "cell_type": "code",
   "execution_count": 2,
   "id": "ffbd59a3",
   "metadata": {},
   "outputs": [],
   "source": [
    "def maxDistance (self, arr, n) : \n",
    "        #Complete the function\n",
    "        ma1=arr[0]\n",
    "        mi1=arr[0]\n",
    "        ma2=arr[0]\n",
    "        mi2=arr[0]\n",
    "        \n",
    "        '''\n",
    "        Given equation: | arr[ i ] - arr[ j ] | + | i - j | \n",
    "\n",
    "        |i-j| will always be positive  as j>=i.\n",
    "\n",
    "        If we remove the modulus part from | arr[i] - arr[j] | then we get two option : \n",
    "\n",
    "        1 > (arr[i] - arr[j]) + (j - i) = max\n",
    "\n",
    "            (arr[i] - i)- (arr[j] - j)= max\n",
    "\n",
    "        A-B = max\n",
    "\n",
    "        Hence maximise A and minimise  B to get max value from option 1.\n",
    "\n",
    "        2>   -(arr[i] - arr[j]) + (j - i) = max \n",
    "\n",
    "              (arr[j] + j) - (arr[i] + i) = max\n",
    "\n",
    "        A-B = max\n",
    "\n",
    "        Hence maximise A and minimise  B to get max value from option 2.'''\n",
    "        \n",
    "        for i in range(n):\n",
    "            ma1=max(ma1,arr[i]-i)\n",
    "            mi1=min(mi1,arr[i]-i)\n",
    "            ma2=max(ma2,arr[i]+i)\n",
    "            mi2=min(mi2,arr[i]+i)\n",
    "        return max(ma1-mi1,ma2-mi2)\n",
    "            "
   ]
  },
  {
   "cell_type": "code",
   "execution_count": null,
   "id": "eb9e0fe0",
   "metadata": {},
   "outputs": [],
   "source": []
  }
 ],
 "metadata": {
  "kernelspec": {
   "display_name": "Python 3 (ipykernel)",
   "language": "python",
   "name": "python3"
  },
  "language_info": {
   "codemirror_mode": {
    "name": "ipython",
    "version": 3
   },
   "file_extension": ".py",
   "mimetype": "text/x-python",
   "name": "python",
   "nbconvert_exporter": "python",
   "pygments_lexer": "ipython3",
   "version": "3.8.2"
  }
 },
 "nbformat": 4,
 "nbformat_minor": 5
}

{
 "cells": [
  {
   "cell_type": "code",
   "execution_count": null,
   "id": "e8f1ca16",
   "metadata": {},
   "outputs": [],
   "source": [
    "'''\n",
    "https://practice.geeksforgeeks.org/problems/chicks-in-a-zoo1159/1?page=2&difficulty[]=0&category[]=Dynamic%20Programming&sortBy=submissions\n",
    "\n",
    "\n",
    "Initially, the zoo have a single chick. A \n",
    "chick gives birth to 2 chicks every day and \n",
    "the life expectancy of a chick is 6 days. Zoo \n",
    "officials want to buy food for chicks so they\n",
    "want to know the number of chicks on an Nth day.\n",
    "Help the officials with this task.\n",
    " \n",
    "\n",
    "Example 1:\n",
    "\n",
    "Input: N = 2 \n",
    "Output: 3\n",
    "Explanation: First day there is only 1 chick.\n",
    "On second day total number of chicks = 3. \n",
    "Example 2:\n",
    "\n",
    "Input: N = 3\n",
    "Output: 9\n",
    "Explanation: First day there is only 1 chick.\n",
    "On second day total number of chicks = 3.\n",
    "On third day total number of chicks = 9\n",
    " \n",
    "\n",
    "Your Task:\n",
    "You don't need to read or print anything, Your \n",
    "task is to complete the function NoOfChicks() \n",
    "which takes N as the input parameter and returns\n",
    "the total no. of chicks on the Nth day.\n",
    " \n",
    "\n",
    "Expected Time Complexity: O(N)\n",
    "Expected Space Complexity: O(N)\n",
    " \n",
    "\n",
    "Constraints:\n",
    "1 <= N <= 35\n",
    "\n",
    "\n",
    "\n",
    "'''"
   ]
  },
  {
   "cell_type": "code",
   "execution_count": null,
   "id": "0e632f75",
   "metadata": {},
   "outputs": [],
   "source": [
    "def NoOfChicks(self, n):\n",
    "    # Code here\n",
    "    lst=[1]\n",
    "    for i in range(1,n):\n",
    "        if(i<6):\n",
    "            lst.append(sum(lst)*2)\n",
    "        else:\n",
    "            lst.pop(0)\n",
    "            lst.append(sum(lst)*2)\n",
    "    return sum(lst)"
   ]
  }
 ],
 "metadata": {
  "kernelspec": {
   "display_name": "Python 3 (ipykernel)",
   "language": "python",
   "name": "python3"
  },
  "language_info": {
   "codemirror_mode": {
    "name": "ipython",
    "version": 3
   },
   "file_extension": ".py",
   "mimetype": "text/x-python",
   "name": "python",
   "nbconvert_exporter": "python",
   "pygments_lexer": "ipython3",
   "version": "3.9.13"
  }
 },
 "nbformat": 4,
 "nbformat_minor": 5
}

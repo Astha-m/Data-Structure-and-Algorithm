{
 "cells": [
  {
   "cell_type": "code",
   "execution_count": 2,
   "id": "79330861",
   "metadata": {},
   "outputs": [
    {
     "data": {
      "text/plain": [
       "'\\ncount the integers from 1 to n that have gcd as 1 with n.\\ndenoted as phi(n)\\n\\n1 2 3 4 5 6 7 8 9 10\\n1 1 2 2 4 2 6 4 6 4\\n\\n'"
      ]
     },
     "execution_count": 2,
     "metadata": {},
     "output_type": "execute_result"
    }
   ],
   "source": [
    "'''\n",
    "count the integers from 1 to n that have gcd as 1 with n.\n",
    "denoted as phi(n)\n",
    "\n",
    "1 2 3 4 5 6 7 8 9 10\n",
    "1 1 2 2 4 2 6 4 6 4\n",
    "\n",
    "'''\n"
   ]
  },
  {
   "cell_type": "code",
   "execution_count": 4,
   "id": "6f08bcbb",
   "metadata": {},
   "outputs": [
    {
     "data": {
      "text/plain": [
       "4"
      ]
     },
     "execution_count": 4,
     "metadata": {},
     "output_type": "execute_result"
    }
   ],
   "source": [
    "# naive\n",
    "\n",
    "\n",
    "def gcd(m,n):\n",
    "    if(m<n):\n",
    "        m,n=n,m\n",
    "    while((m%n)!=0):\n",
    "        m,n=n,(m%n)\n",
    "    return n\n",
    "\n",
    "def phi(n):\n",
    "    \n",
    "    res=1\n",
    "    for i in range(2,n+1):\n",
    "        if(gcd(n,i)==1):\n",
    "            res+=1\n",
    "    return res\n",
    "\n",
    "phi(10)"
   ]
  },
  {
   "cell_type": "code",
   "execution_count": null,
   "id": "899eba12",
   "metadata": {},
   "outputs": [],
   "source": []
  },
  {
   "cell_type": "code",
   "execution_count": 5,
   "id": "22bd1712",
   "metadata": {},
   "outputs": [
    {
     "data": {
      "text/plain": [
       "'\\nphi(n)=n*(1-(1/p1))*(1-(1/p2))....*(1-(1/pk))\\n\\n'"
      ]
     },
     "execution_count": 5,
     "metadata": {},
     "output_type": "execute_result"
    }
   ],
   "source": [
    "# formula:-\n",
    "'''\n",
    "phi(n)=n*(1-(1/p1))*(1-(1/p2))....*(1-(1/pk))\n",
    "here p1,p2...pk are the unique prime factors of n\n",
    "\n",
    "'''"
   ]
  },
  {
   "cell_type": "code",
   "execution_count": 9,
   "id": "e7595418",
   "metadata": {},
   "outputs": [
    {
     "data": {
      "text/plain": [
       "6"
      ]
     },
     "execution_count": 9,
     "metadata": {},
     "output_type": "execute_result"
    }
   ],
   "source": [
    "import math\n",
    "def phi_effi(n):\n",
    "    res=n\n",
    "    for p in range(2,int(math.sqrt(n)+1)):\n",
    "        if(n%p==0):\n",
    "            while(n%p==0):\n",
    "                n//=p\n",
    "            res=res-res//p\n",
    "    if(n>1):\n",
    "        res=res-res//n\n",
    "    return res\n",
    "phi_effi(9)"
   ]
  },
  {
   "cell_type": "code",
   "execution_count": null,
   "id": "861c4da0",
   "metadata": {},
   "outputs": [],
   "source": []
  }
 ],
 "metadata": {
  "kernelspec": {
   "display_name": "Python 3 (ipykernel)",
   "language": "python",
   "name": "python3"
  },
  "language_info": {
   "codemirror_mode": {
    "name": "ipython",
    "version": 3
   },
   "file_extension": ".py",
   "mimetype": "text/x-python",
   "name": "python",
   "nbconvert_exporter": "python",
   "pygments_lexer": "ipython3",
   "version": "3.9.8"
  }
 },
 "nbformat": 4,
 "nbformat_minor": 5
}

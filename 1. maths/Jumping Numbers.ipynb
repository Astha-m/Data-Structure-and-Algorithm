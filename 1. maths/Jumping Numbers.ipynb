{
 "cells": [
  {
   "cell_type": "code",
   "execution_count": 1,
   "id": "4e1f1677",
   "metadata": {},
   "outputs": [
    {
     "data": {
      "text/plain": [
       "\"\\nhttps://practice.geeksforgeeks.org/problems/jumping-numbers3805/1\\n\\nGiven a positive number X. Find the largest Jumping \\nNumber which is smaller than or equal to X. \\nJumping Number: A number is called Jumping Number if all \\nadjacent digits in it differ by only 1. All single-digit numbers \\nare considered as Jumping Numbers. For example 7, 8987 and 4343456\\nare Jumping numbers but 796, 677 and 89098 are not.\\n\\n \\n\\nExample 1:\\n\\nInput:\\nX = 10\\nOutput:\\n10\\nExplanation:\\n10 is the largest Jumping Number\\npossible for X = 10.\\nExample 2:\\n\\nInput:\\nX = 50\\nOutput:\\n45\\nExplanation:\\n45 is the largest Jumping Number\\npossible for X = 50.\\n \\n\\nYour Task:\\nYou don't need to read input or print anything. Your task is to \\ncomplete the function jumpingNums() which takes an Integer X as \\ninput and returns the largest Jumping Number less than or equal\\nto X.\\n\\n \\n\\nExpected Time Complexity: O(k), where k is no of jumping numbers\\nExpected Auxiliary Space: O(k), where k is no of jumping numbers\\n\\n \\n\\nConstraints:\\n1 <= X <= 109\\n\\n\""
      ]
     },
     "execution_count": 1,
     "metadata": {},
     "output_type": "execute_result"
    }
   ],
   "source": [
    "'''\n",
    "https://practice.geeksforgeeks.org/problems/jumping-numbers3805/1\n",
    "\n",
    "Given a positive number X. Find the largest Jumping \n",
    "Number which is smaller than or equal to X. \n",
    "Jumping Number: A number is called Jumping Number if all \n",
    "adjacent digits in it differ by only 1. All single-digit numbers \n",
    "are considered as Jumping Numbers. For example 7, 8987 and 4343456\n",
    "are Jumping numbers but 796, 677 and 89098 are not.\n",
    "\n",
    " \n",
    "\n",
    "Example 1:\n",
    "\n",
    "Input:\n",
    "X = 10\n",
    "Output:\n",
    "10\n",
    "Explanation:\n",
    "10 is the largest Jumping Number\n",
    "possible for X = 10.\n",
    "Example 2:\n",
    "\n",
    "Input:\n",
    "X = 50\n",
    "Output:\n",
    "45\n",
    "Explanation:\n",
    "45 is the largest Jumping Number\n",
    "possible for X = 50.\n",
    " \n",
    "\n",
    "Your Task:\n",
    "You don't need to read input or print anything. Your task is to \n",
    "complete the function jumpingNums() which takes an Integer X as \n",
    "input and returns the largest Jumping Number less than or equal\n",
    "to X.\n",
    "\n",
    " \n",
    "\n",
    "Expected Time Complexity: O(k), where k is no of jumping numbers\n",
    "Expected Auxiliary Space: O(k), where k is no of jumping numbers\n",
    "\n",
    " \n",
    "\n",
    "Constraints:\n",
    "1 <= X <= 109\n",
    "\n",
    "'''"
   ]
  },
  {
   "cell_type": "code",
   "execution_count": 2,
   "id": "e7dac93a",
   "metadata": {},
   "outputs": [],
   "source": [
    "def jumpingNums(self, X):\n",
    "    queue=list(range(1,10))\n",
    "\n",
    "    ans=-float('inf')\n",
    "    while(queue):\n",
    "        curr=queue.pop()\n",
    "\n",
    "        if(curr>X):\n",
    "            continue\n",
    "        ans=max(ans,curr)\n",
    "        rem=curr%10\n",
    "        if(rem!=9):\n",
    "            queue.append(curr*10+rem+1)\n",
    "        if(rem!=0):\n",
    "            queue.append(curr*10+rem-1)\n",
    "    return ans"
   ]
  },
  {
   "cell_type": "code",
   "execution_count": null,
   "id": "1d364f9a",
   "metadata": {},
   "outputs": [],
   "source": []
  }
 ],
 "metadata": {
  "kernelspec": {
   "display_name": "Python 3 (ipykernel)",
   "language": "python",
   "name": "python3"
  },
  "language_info": {
   "codemirror_mode": {
    "name": "ipython",
    "version": 3
   },
   "file_extension": ".py",
   "mimetype": "text/x-python",
   "name": "python",
   "nbconvert_exporter": "python",
   "pygments_lexer": "ipython3",
   "version": "3.8.2"
  }
 },
 "nbformat": 4,
 "nbformat_minor": 5
}

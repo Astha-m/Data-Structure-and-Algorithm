{
 "cells": [
  {
   "cell_type": "code",
   "execution_count": 1,
   "id": "293a97d1",
   "metadata": {},
   "outputs": [
    {
     "data": {
      "text/plain": [
       "\"Given a number N. Find the minimum number of operations required to\\nreach N starting from 0. You have 2 operations available:\\n\\nDouble the number\\nAdd one to the number\\n\\nExample 1:\\n\\nInput:\\nN = 8\\nOutput: 4\\nExplanation: 0 + 1 = 1, 1 + 1 = 2,\\n2 * 2 = 4, 4 * 2 = 8\\n\\nâ€‹Example 2:\\n\\nInput: \\nN = 7\\nOutput: 5\\nExplanation: 0 + 1 = 1, 1 + 1 = 2,\\n1 + 2 = 3, 3 * 2 = 6, 6 + 1 = 7\\n\\nYour Task:\\nYou don't need to read input or print anything. Your \\ntask is to complete the function minOperation() which \\naccepts an integer N and return number of minimum operations\\nrequired to reach N from 0.\\n\\n\\nExpected Time Complexity: O(LogN)\\nExpected Auxiliary Space: O(1)\""
      ]
     },
     "execution_count": 1,
     "metadata": {},
     "output_type": "execute_result"
    }
   ],
   "source": [
    "'''Given a number N. Find the minimum number of operations required to\n",
    "reach N starting from 0. You have 2 operations available:\n",
    "\n",
    "Double the number\n",
    "Add one to the number\n",
    "\n",
    "Example 1:\n",
    "\n",
    "Input:\n",
    "N = 8\n",
    "Output: 4\n",
    "Explanation: 0 + 1 = 1, 1 + 1 = 2,\n",
    "2 * 2 = 4, 4 * 2 = 8\n",
    "\n",
    "â€‹Example 2:\n",
    "\n",
    "Input: \n",
    "N = 7\n",
    "Output: 5\n",
    "Explanation: 0 + 1 = 1, 1 + 1 = 2,\n",
    "1 + 2 = 3, 3 * 2 = 6, 6 + 1 = 7\n",
    "\n",
    "Your Task:\n",
    "You don't need to read input or print anything. Your \n",
    "task is to complete the function minOperation() which \n",
    "accepts an integer N and return number of minimum operations\n",
    "required to reach N from 0.\n",
    "\n",
    "\n",
    "Expected Time Complexity: O(LogN)\n",
    "Expected Auxiliary Space: O(1)'''"
   ]
  },
  {
   "cell_type": "code",
   "execution_count": null,
   "id": "4705537e",
   "metadata": {},
   "outputs": [],
   "source": [
    "def minOperation(self, n):\n",
    "    ans=0\n",
    "    if(n==0):\n",
    "        return 0\n",
    "    if(n==1):\n",
    "        return 1\n",
    "\n",
    "    while(n>0):\n",
    "        if(n%2==0):\n",
    "            n//=2\n",
    "            ans+=1\n",
    "        else:\n",
    "            n=n-1\n",
    "            ans+=1\n",
    "    return ans"
   ]
  }
 ],
 "metadata": {
  "kernelspec": {
   "display_name": "Python 3 (ipykernel)",
   "language": "python",
   "name": "python3"
  },
  "language_info": {
   "codemirror_mode": {
    "name": "ipython",
    "version": 3
   },
   "file_extension": ".py",
   "mimetype": "text/x-python",
   "name": "python",
   "nbconvert_exporter": "python",
   "pygments_lexer": "ipython3",
   "version": "3.10.7"
  }
 },
 "nbformat": 4,
 "nbformat_minor": 5
}

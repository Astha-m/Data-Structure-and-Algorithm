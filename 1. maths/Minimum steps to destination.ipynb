{
 "cells": [
  {
   "cell_type": "code",
   "execution_count": 1,
   "id": "3962ddaf",
   "metadata": {},
   "outputs": [
    {
     "data": {
      "text/plain": [
       "'\\nhttps://practice.geeksforgeeks.org/problems/minimum-number-of-steps-to-reach-a-given-number5234/1?page=2&company[]=Amazon&category[]=Recursion&sortBy=submissions\\n\\n\\nGiven an infinite number line. You start at 0 \\nand can go either to the left or to the right. \\nThe condition is that in the ith move, youmust \\ntake i steps. Given a destination D , find the \\nminimum number of steps required to reach that destination.\\n\\nExample 1:\\n\\nInput: D = 2\\nOutput: 3\\nExplaination: The steps takn are +1, -2 and +3.\\nExample 2:\\n\\nInput: D = 10\\nOutput: 4\\nExplaination: The steps are +1, +2, +3 and +4.\\nYour Task:\\nYou do not need to read input or print anything. \\nYour task is to complete the function minSteps() \\nwhich takes the value D as input parameter and \\nreturns the minimum number of steps required to\\nreach the dedstination D from 0.\\n\\nExpected Time Complexity: O(D)\\nExpected Auxiliary Space: O(1)\\n\\nConstraints:\\n1 ≤ D ≤ 10000\\n\\n\\n'"
      ]
     },
     "execution_count": 1,
     "metadata": {},
     "output_type": "execute_result"
    }
   ],
   "source": [
    "'''\n",
    "https://practice.geeksforgeeks.org/problems/minimum-number-of-steps-to-reach-a-given-number5234/1?page=2&company[]=Amazon&category[]=Recursion&sortBy=submissions\n",
    "\n",
    "\n",
    "Given an infinite number line. You start at 0 \n",
    "and can go either to the left or to the right. \n",
    "The condition is that in the ith move, youmust \n",
    "take i steps. Given a destination D , find the \n",
    "minimum number of steps required to reach that destination.\n",
    "\n",
    "Example 1:\n",
    "\n",
    "Input: D = 2\n",
    "Output: 3\n",
    "Explaination: The steps takn are +1, -2 and +3.\n",
    "Example 2:\n",
    "\n",
    "Input: D = 10\n",
    "Output: 4\n",
    "Explaination: The steps are +1, +2, +3 and +4.\n",
    "Your Task:\n",
    "You do not need to read input or print anything. \n",
    "Your task is to complete the function minSteps() \n",
    "which takes the value D as input parameter and \n",
    "returns the minimum number of steps required to\n",
    "reach the dedstination D from 0.\n",
    "\n",
    "Expected Time Complexity: O(D)\n",
    "Expected Auxiliary Space: O(1)\n",
    "\n",
    "Constraints:\n",
    "1 ≤ D ≤ 10000\n",
    "\n",
    "\n",
    "'''\n"
   ]
  },
  {
   "cell_type": "code",
   "execution_count": null,
   "id": "18748dac",
   "metadata": {},
   "outputs": [],
   "source": [
    "def minSteps(self, target):\n",
    "        # code here\n",
    "        steps=0\n",
    "        source=0\n",
    "        target=abs(target)\n",
    "        while(source<target):\n",
    "            steps+=1\n",
    "            source+=steps\n",
    "        \n",
    "        while((source-target)%2!=0):\n",
    "            steps+=1\n",
    "            source+=steps\n",
    "        return steps"
   ]
  }
 ],
 "metadata": {
  "kernelspec": {
   "display_name": "Python 3 (ipykernel)",
   "language": "python",
   "name": "python3"
  },
  "language_info": {
   "codemirror_mode": {
    "name": "ipython",
    "version": 3
   },
   "file_extension": ".py",
   "mimetype": "text/x-python",
   "name": "python",
   "nbconvert_exporter": "python",
   "pygments_lexer": "ipython3",
   "version": "3.9.13"
  }
 },
 "nbformat": 4,
 "nbformat_minor": 5
}

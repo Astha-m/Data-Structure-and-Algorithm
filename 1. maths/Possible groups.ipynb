{
 "cells": [
  {
   "cell_type": "code",
   "execution_count": 1,
   "id": "d8d323ba",
   "metadata": {},
   "outputs": [
    {
     "data": {
      "text/plain": [
       "\"\\nhttps://practice.geeksforgeeks.org/problems/possible-groups2013/1?page=8&company[]=Amazon&category[]=Arrays&sortBy=submissions\\n\\n\\nGiven an array of positive integers of size\\nN, form groups of two or three such that \\nthe sum of all elements in a group is a \\nmultiple of 3. Count all possible number \\nof groups that can be generated in this way.\\n\\n\\nExample 1:\\n\\nInput:\\nN = 5\\narr[] = {3, 6, 7, 2, 9}\\nOutput: 8\\nExplanation: \\nGroups of two are: \\n{3, 6}, {3, 9}, {9, 6}, {7, 2}.\\nGroups of three are: \\n{3, 7, 2}, {7, 2, 6}, {7, 2, 9}, {3, 6, 9}.\\n\\nExample 2:\\n\\nInput:\\nN = 4\\narr[] = {2, 1, 3, 4}\\nOutput: 4\\nExplanation: Groups are {2,1}, {2,4}, \\n{2,1,3}, {2,4,3}\\n\\nYour Task:\\nYou don't need to read input or print anything.\\nYour task is to complete the function findgroups() \\nwhich takes arr[] and n as input parameters and returns\\nthe number of possible groups.\\n\\n\\nExpected Time Complexity: O(N)\\nExpected Auxiliary Space: O(1)\\n\\n\\nConstraints:\\n1 ≤ N ≤ 106\\n1 ≤ arri ≤ 106\\n\\n\\n\""
      ]
     },
     "execution_count": 1,
     "metadata": {},
     "output_type": "execute_result"
    }
   ],
   "source": [
    "'''\n",
    "https://practice.geeksforgeeks.org/problems/possible-groups2013/1?page=8&company[]=Amazon&category[]=Arrays&sortBy=submissions\n",
    "\n",
    "\n",
    "Given an array of positive integers of size\n",
    "N, form groups of two or three such that \n",
    "the sum of all elements in a group is a \n",
    "multiple of 3. Count all possible number \n",
    "of groups that can be generated in this way.\n",
    "\n",
    "\n",
    "Example 1:\n",
    "\n",
    "Input:\n",
    "N = 5\n",
    "arr[] = {3, 6, 7, 2, 9}\n",
    "Output: 8\n",
    "Explanation: \n",
    "Groups of two are: \n",
    "{3, 6}, {3, 9}, {9, 6}, {7, 2}.\n",
    "Groups of three are: \n",
    "{3, 7, 2}, {7, 2, 6}, {7, 2, 9}, {3, 6, 9}.\n",
    "\n",
    "Example 2:\n",
    "\n",
    "Input:\n",
    "N = 4\n",
    "arr[] = {2, 1, 3, 4}\n",
    "Output: 4\n",
    "Explanation: Groups are {2,1}, {2,4}, \n",
    "{2,1,3}, {2,4,3}\n",
    "\n",
    "Your Task:\n",
    "You don't need to read input or print anything.\n",
    "Your task is to complete the function findgroups() \n",
    "which takes arr[] and n as input parameters and returns\n",
    "the number of possible groups.\n",
    "\n",
    "\n",
    "Expected Time Complexity: O(N)\n",
    "Expected Auxiliary Space: O(1)\n",
    "\n",
    "\n",
    "Constraints:\n",
    "1 ≤ N ≤ 106\n",
    "1 ≤ arri ≤ 106\n",
    "\n",
    "\n",
    "'''"
   ]
  },
  {
   "cell_type": "code",
   "execution_count": null,
   "id": "a16908a6",
   "metadata": {},
   "outputs": [],
   "source": [
    "def findgroups(self, lst, n):\n",
    "    # code here\n",
    "    '''\n",
    "    Group of 2 :\n",
    "\n",
    "    rem == 1 + rem == 2\n",
    "    rem == 0 + rem == 0\n",
    "\n",
    "    Group of 3 :\n",
    "\n",
    "    rem == 0 + rem == 1 + rem == 2\n",
    "    rem == 0 + rem == 0 + rem == 0\n",
    "    rem == 1 + rem == 1 + rem == 1\n",
    "    rem == 2 + rem == 2 + rem == 2\n",
    "\n",
    "    rem ==> remainder arr[i]%3\n",
    "    '''\n",
    "    res=0\n",
    "    arr=[0]*3\n",
    "    for i in range(n):\n",
    "        arr[lst[i]%3]+=1\n",
    "\n",
    "    res+=(arr[0]*(arr[0]-1))//2\n",
    "    res+=(arr[1]*arr[2])\n",
    "    res+=(arr[0]*arr[1]*arr[2])\n",
    "    res+=(arr[0]*(arr[0]-1)*(arr[0]-2))//6\n",
    "    res+=(arr[1]*(arr[1]-1)*(arr[1]-2))//6\n",
    "    res+=(arr[2]*(arr[2]-1)*(arr[2]-2))//6\n",
    "    return res\n"
   ]
  }
 ],
 "metadata": {
  "kernelspec": {
   "display_name": "Python 3 (ipykernel)",
   "language": "python",
   "name": "python3"
  },
  "language_info": {
   "codemirror_mode": {
    "name": "ipython",
    "version": 3
   },
   "file_extension": ".py",
   "mimetype": "text/x-python",
   "name": "python",
   "nbconvert_exporter": "python",
   "pygments_lexer": "ipython3",
   "version": "3.9.13"
  }
 },
 "nbformat": 4,
 "nbformat_minor": 5
}

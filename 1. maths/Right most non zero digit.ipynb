{
 "cells": [
  {
   "cell_type": "code",
   "execution_count": 1,
   "id": "01dcefeb",
   "metadata": {},
   "outputs": [
    {
     "data": {
      "text/plain": [
       "\"\\nhttps://practice.geeksforgeeks.org/problems/right-most-non-zero-digit1834/1?page=25&company[]=Amazon&sortBy=submissions\\n\\n\\nYou will be given an array A of N non-negative integers.\\nYour task is to find the rightmost non-zero digit in the product \\nof array elements.\\n\\n\\nExample 1:\\n\\nInput:\\nN = 4, A = {3, 23, 30, 45}\\nOutput:\\n5\\nExplanation:\\nProduct of these numbers \\nare 93150.Rightmost \\nnon-zero digit is 5.\\nExample 2:\\n\\nInput:\\nN = 5, A = {1, 2, 3, 4, 5}\\nOutput:\\n2\\nExplanation:\\nProduct of these numbers \\nare 120. Rightmost \\nnon-zero digit is 2.\\n\\nYour Task:\\n\\nYou don't need to read input or print anything. Your task is\\nto complete the function rightmostNonZeroDigit() which takes an\\narray A and returns the rightmost non-zero digit in the product \\nof array elements, if there is no right most non zero digit, then \\nreturn -1.\\n\\n\\nExpected Time Complexity: O(N*logN)\\nExpected Auxiliary Space: O(N)\\n\\n\\nConstraints:\\n1 ≤ N ≤ 105\\n0 ≤ A[i] ≤ 105 \\n\\n\\n\\n\\n\""
      ]
     },
     "execution_count": 1,
     "metadata": {},
     "output_type": "execute_result"
    }
   ],
   "source": [
    "'''\n",
    "https://practice.geeksforgeeks.org/problems/right-most-non-zero-digit1834/1?page=25&company[]=Amazon&sortBy=submissions\n",
    "\n",
    "\n",
    "You will be given an array A of N non-negative integers.\n",
    "Your task is to find the rightmost non-zero digit in the product \n",
    "of array elements.\n",
    "\n",
    "\n",
    "Example 1:\n",
    "\n",
    "Input:\n",
    "N = 4, A = {3, 23, 30, 45}\n",
    "Output:\n",
    "5\n",
    "Explanation:\n",
    "Product of these numbers \n",
    "are 93150.Rightmost \n",
    "non-zero digit is 5.\n",
    "Example 2:\n",
    "\n",
    "Input:\n",
    "N = 5, A = {1, 2, 3, 4, 5}\n",
    "Output:\n",
    "2\n",
    "Explanation:\n",
    "Product of these numbers \n",
    "are 120. Rightmost \n",
    "non-zero digit is 2.\n",
    "\n",
    "Your Task:\n",
    "\n",
    "You don't need to read input or print anything. Your task is\n",
    "to complete the function rightmostNonZeroDigit() which takes an\n",
    "array A and returns the rightmost non-zero digit in the product \n",
    "of array elements, if there is no right most non zero digit, then \n",
    "return -1.\n",
    "\n",
    "\n",
    "Expected Time Complexity: O(N*logN)\n",
    "Expected Auxiliary Space: O(N)\n",
    "\n",
    "\n",
    "Constraints:\n",
    "1 ≤ N ≤ 105\n",
    "0 ≤ A[i] ≤ 105 \n",
    "\n",
    "\n",
    "\n",
    "\n",
    "'''"
   ]
  },
  {
   "cell_type": "code",
   "execution_count": 2,
   "id": "26229ca8",
   "metadata": {},
   "outputs": [],
   "source": [
    "def rightmostNonZeroDigit (self, n,arr):\n",
    "    count5=0\n",
    "    count2=0\n",
    "    rem=1\n",
    "    for i in range(n):\n",
    "        if(arr[i]==0):\n",
    "            rem=0\n",
    "            break\n",
    "\n",
    "        while(arr[i]%5==0):\n",
    "            count5+=1\n",
    "            arr[i]=arr[i]//5\n",
    "\n",
    "        while(arr[i]%2==0):\n",
    "            count2+=1\n",
    "            arr[i]=arr[i]//2\n",
    "\n",
    "        rem=(rem*arr[i])%10\n",
    "\n",
    "    if(rem==0):\n",
    "        return -1\n",
    "\n",
    "    k=min(count5,count2)\n",
    "    count2-=k\n",
    "    count5-=k\n",
    "    while(count5>0):\n",
    "        rem=(rem*5)%10\n",
    "        count5-=1\n",
    "\n",
    "    while(count2>0):\n",
    "        rem=(rem*2)%10\n",
    "        count2-=1\n",
    "\n",
    "    return rem\n"
   ]
  },
  {
   "cell_type": "code",
   "execution_count": null,
   "id": "70590b16",
   "metadata": {},
   "outputs": [],
   "source": []
  }
 ],
 "metadata": {
  "kernelspec": {
   "display_name": "Python 3 (ipykernel)",
   "language": "python",
   "name": "python3"
  },
  "language_info": {
   "codemirror_mode": {
    "name": "ipython",
    "version": 3
   },
   "file_extension": ".py",
   "mimetype": "text/x-python",
   "name": "python",
   "nbconvert_exporter": "python",
   "pygments_lexer": "ipython3",
   "version": "3.8.2"
  }
 },
 "nbformat": 4,
 "nbformat_minor": 5
}

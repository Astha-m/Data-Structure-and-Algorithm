{
 "cells": [
  {
   "cell_type": "code",
   "execution_count": 4,
   "id": "e1936c5f",
   "metadata": {},
   "outputs": [
    {
     "data": {
      "text/plain": [
       "6"
      ]
     },
     "execution_count": 4,
     "metadata": {},
     "output_type": "execute_result"
    }
   ],
   "source": [
    "'''\n",
    "https://practice.geeksforgeeks.org/problems/two-numbers-with-sum-closest-to-zero1737/1\n",
    "\n",
    "\n",
    "Given an integer array of N elements. You need to\n",
    "find the maximum sum of two elements such that \n",
    "sum is closest to zero.\n",
    "\n",
    "Example 1:\n",
    "\n",
    "Input:\n",
    "N = 3\n",
    "arr[] = {-8 -66 -60}\n",
    "Output: -68\n",
    "Explanation: Sum of two elements closest to \n",
    "zero is -68 using numbers -60 and -8.\n",
    "Example 2:\n",
    "\n",
    "Input: \n",
    "N = 6\n",
    "arr[] = {-21 -67 -37 -18 4 -65}\n",
    "Output: -14\n",
    "Explanation: Sum of two elements closest to\n",
    "zero is -14 using numbers -18 and 4.\n",
    "Note : In Case if we have two of more ways to form \n",
    "sum of two elements closest to zero return the maximum sum.\n",
    "\n",
    "\n",
    "Your Task:\n",
    "You don't need to read input or print anything.\n",
    "You just need to complete the function closestToZero()\n",
    "which takes an array arr[] and its size n as inputs and \n",
    "returns the maximum sum closest to zero that can be formed\n",
    "by summing any two elements in the array.\n",
    "\n",
    "\n",
    "Expected Time Complexity: O(N*logN).\n",
    "Expected Auxiliary Space: O(1).\n",
    "\n",
    "\n",
    "Constraints:\n",
    "2 ≤ N ≤ 5 * 105\n",
    "-106 ≤ arr[i] ≤ 106\n",
    "\n",
    "'''"
   ]
  },
  {
   "cell_type": "code",
   "execution_count": null,
   "id": "d03b7142",
   "metadata": {},
   "outputs": [],
   "source": [
    "def closestToZero (self,arr, n):\n",
    "    # your code here\n",
    "    arr.sort()\n",
    "    res=arr[0]+arr[n-1]\n",
    "    i=0\n",
    "    j=n-1\n",
    "    while(i<j):\n",
    "        temp=arr[i]+arr[j]\n",
    "        if(temp==0):\n",
    "            return 0\n",
    "        if(temp<0):\n",
    "            i+=1\n",
    "        else:\n",
    "            j-=1\n",
    "        if(abs(temp)<abs(res)):\n",
    "            res=temp\n",
    "        if(abs(temp)==abs(res)):\n",
    "            res=max(res,temp)\n",
    "    return res"
   ]
  }
 ],
 "metadata": {
  "kernelspec": {
   "display_name": "Python 3 (ipykernel)",
   "language": "python",
   "name": "python3"
  },
  "language_info": {
   "codemirror_mode": {
    "name": "ipython",
    "version": 3
   },
   "file_extension": ".py",
   "mimetype": "text/x-python",
   "name": "python",
   "nbconvert_exporter": "python",
   "pygments_lexer": "ipython3",
   "version": "3.9.13"
  }
 },
 "nbformat": 4,
 "nbformat_minor": 5
}

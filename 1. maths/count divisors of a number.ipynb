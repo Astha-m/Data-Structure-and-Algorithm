{
 "cells": [
  {
   "cell_type": "code",
   "execution_count": 1,
   "id": "52d0ffab",
   "metadata": {},
   "outputs": [
    {
     "data": {
      "text/plain": [
       "4"
      ]
     },
     "execution_count": 1,
     "metadata": {},
     "output_type": "execute_result"
    }
   ],
   "source": [
    "# naive approach\n",
    "import math\n",
    "def divisors(n):\n",
    "    count=2\n",
    "    for i in range(2,int(math.sqrt(n)+1)):\n",
    "        if(n%i==0):\n",
    "            if(n//i==i):\n",
    "                count+=1\n",
    "            else:\n",
    "                count+=2\n",
    "    return count\n",
    "divisors(15)"
   ]
  },
  {
   "cell_type": "code",
   "execution_count": 2,
   "id": "acf8ce44",
   "metadata": {},
   "outputs": [
    {
     "data": {
      "text/plain": [
       "4"
      ]
     },
     "execution_count": 2,
     "metadata": {},
     "output_type": "execute_result"
    }
   ],
   "source": [
    "# efficient approach\n",
    "def divisors2(n):\n",
    "    res=1\n",
    "    for i in range(2,int(math.sqrt(n)+1)):\n",
    "        if(n%i==0):\n",
    "            count=0\n",
    "            while(n%i==0):\n",
    "                count+=1\n",
    "                n//=i\n",
    "            res=res*(count+1)\n",
    "    if(n>1):\n",
    "        res=res*2\n",
    "    return res\n",
    "divisors2(15)"
   ]
  },
  {
   "cell_type": "code",
   "execution_count": null,
   "id": "7b192bcd",
   "metadata": {},
   "outputs": [],
   "source": []
  }
 ],
 "metadata": {
  "kernelspec": {
   "display_name": "Python 3 (ipykernel)",
   "language": "python",
   "name": "python3"
  },
  "language_info": {
   "codemirror_mode": {
    "name": "ipython",
    "version": 3
   },
   "file_extension": ".py",
   "mimetype": "text/x-python",
   "name": "python",
   "nbconvert_exporter": "python",
   "pygments_lexer": "ipython3",
   "version": "3.9.8"
  }
 },
 "nbformat": 4,
 "nbformat_minor": 5
}

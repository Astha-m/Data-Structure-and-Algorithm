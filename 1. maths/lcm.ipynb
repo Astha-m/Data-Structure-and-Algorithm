{
 "cells": [
  {
   "cell_type": "code",
   "execution_count": 2,
   "id": "5ac35df9",
   "metadata": {},
   "outputs": [],
   "source": [
    "def gcd(m,n):\n",
    "    if(m<n):\n",
    "        m,n=n,m\n",
    "    while(m%n!=0):\n",
    "        m,n=n,m%n\n",
    "    return n\n",
    "lcm=(15*2)//gcd(15,2)"
   ]
  },
  {
   "cell_type": "code",
   "execution_count": 3,
   "id": "4c4bbe54",
   "metadata": {},
   "outputs": [
    {
     "data": {
      "text/plain": [
       "30"
      ]
     },
     "execution_count": 3,
     "metadata": {},
     "output_type": "execute_result"
    }
   ],
   "source": [
    "lcm"
   ]
  },
  {
   "cell_type": "code",
   "execution_count": null,
   "id": "154f6ab5",
   "metadata": {},
   "outputs": [],
   "source": []
  }
 ],
 "metadata": {
  "kernelspec": {
   "display_name": "Python 3 (ipykernel)",
   "language": "python",
   "name": "python3"
  },
  "language_info": {
   "codemirror_mode": {
    "name": "ipython",
    "version": 3
   },
   "file_extension": ".py",
   "mimetype": "text/x-python",
   "name": "python",
   "nbconvert_exporter": "python",
   "pygments_lexer": "ipython3",
   "version": "3.9.8"
  }
 },
 "nbformat": 4,
 "nbformat_minor": 5
}

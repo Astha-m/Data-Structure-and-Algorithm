{
 "cells": [
  {
   "cell_type": "code",
   "execution_count": 8,
   "id": "1c4a87cb",
   "metadata": {},
   "outputs": [
    {
     "name": "stdout",
     "output_type": "stream",
     "text": [
      "4\n",
      "9\n",
      "25\n",
      "49\n"
     ]
    }
   ],
   "source": [
    "# given a number n find all the numbers with exactly 3 divisors upto n\n",
    "import math\n",
    "def num3div(n):\n",
    "    prime=[True]*(n+1)\n",
    "    prime[0]=False\n",
    "    prime[1]=False\n",
    "    for i in range(2,int(math.sqrt(n)+1)):\n",
    "        if(prime[i]):\n",
    "            print(i*i)\n",
    "            for j in range(i*i,n+1,i):\n",
    "                prime[j]=False\n",
    "    #print(prime)\n",
    "num3div(100)"
   ]
  },
  {
   "cell_type": "code",
   "execution_count": null,
   "id": "775c53ce",
   "metadata": {},
   "outputs": [],
   "source": []
  }
 ],
 "metadata": {
  "kernelspec": {
   "display_name": "Python 3 (ipykernel)",
   "language": "python",
   "name": "python3"
  },
  "language_info": {
   "codemirror_mode": {
    "name": "ipython",
    "version": 3
   },
   "file_extension": ".py",
   "mimetype": "text/x-python",
   "name": "python",
   "nbconvert_exporter": "python",
   "pygments_lexer": "ipython3",
   "version": "3.9.8"
  }
 },
 "nbformat": 4,
 "nbformat_minor": 5
}

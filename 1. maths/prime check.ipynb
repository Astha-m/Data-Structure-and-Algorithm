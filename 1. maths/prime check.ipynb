{
 "cells": [
  {
   "cell_type": "code",
   "execution_count": 2,
   "id": "7ec23e00",
   "metadata": {},
   "outputs": [
    {
     "data": {
      "text/plain": [
       "False"
      ]
     },
     "execution_count": 2,
     "metadata": {},
     "output_type": "execute_result"
    }
   ],
   "source": [
    "import math\n",
    "def isPrime(n):\n",
    "    if(n<=1):\n",
    "        return False\n",
    "    if(n<=3):\n",
    "        return True\n",
    "    \n",
    "    if(n%2==0 or n%3==0):\n",
    "        return False\n",
    "    \n",
    "    for i in range(5,int(math.sqrt(n)+1),6):\n",
    "        if(n%i==0 or n%(i+2)==0):\n",
    "            return False\n",
    "    return True\n",
    "\n",
    "isPrime(91)"
   ]
  },
  {
   "cell_type": "code",
   "execution_count": null,
   "id": "7a8c2932",
   "metadata": {},
   "outputs": [],
   "source": []
  }
 ],
 "metadata": {
  "kernelspec": {
   "display_name": "Python 3 (ipykernel)",
   "language": "python",
   "name": "python3"
  },
  "language_info": {
   "codemirror_mode": {
    "name": "ipython",
    "version": 3
   },
   "file_extension": ".py",
   "mimetype": "text/x-python",
   "name": "python",
   "nbconvert_exporter": "python",
   "pygments_lexer": "ipython3",
   "version": "3.9.8"
  }
 },
 "nbformat": 4,
 "nbformat_minor": 5
}

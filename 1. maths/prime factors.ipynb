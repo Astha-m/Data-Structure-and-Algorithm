{
 "cells": [
  {
   "cell_type": "code",
   "execution_count": 2,
   "id": "4634e471",
   "metadata": {},
   "outputs": [
    {
     "name": "stdout",
     "output_type": "stream",
     "text": [
      "2\n",
      "2\n",
      "5\n",
      "5\n"
     ]
    }
   ],
   "source": [
    "def prime_factors(n):\n",
    "    if(n<=1):\n",
    "        return -1\n",
    "    i=2\n",
    "    while(i*i<=n):\n",
    "        while(n%i==0):\n",
    "            print(i)\n",
    "            n//=i\n",
    "        i+=1\n",
    "    if(n>1):\n",
    "        return n\n",
    "    \n",
    "prime_factors(100)"
   ]
  },
  {
   "cell_type": "code",
   "execution_count": null,
   "id": "217df846",
   "metadata": {},
   "outputs": [],
   "source": []
  }
 ],
 "metadata": {
  "kernelspec": {
   "display_name": "Python 3 (ipykernel)",
   "language": "python",
   "name": "python3"
  },
  "language_info": {
   "codemirror_mode": {
    "name": "ipython",
    "version": 3
   },
   "file_extension": ".py",
   "mimetype": "text/x-python",
   "name": "python",
   "nbconvert_exporter": "python",
   "pygments_lexer": "ipython3",
   "version": "3.9.8"
  }
 },
 "nbformat": 4,
 "nbformat_minor": 5
}

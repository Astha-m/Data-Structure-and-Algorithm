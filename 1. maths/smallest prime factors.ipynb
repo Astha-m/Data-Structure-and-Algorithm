{
 "cells": [
  {
   "cell_type": "code",
   "execution_count": 1,
   "id": "1d43513c",
   "metadata": {},
   "outputs": [
    {
     "data": {
      "text/plain": [
       "'\\ngiven a number n, find all the smallest prime factors of numbers in the range 1-n\\nn=10\\n1 2 3 2 5 2 7 2 3 2\\n'"
      ]
     },
     "execution_count": 1,
     "metadata": {},
     "output_type": "execute_result"
    }
   ],
   "source": [
    "'''\n",
    "given a number n, find all the smallest prime factors of numbers in the range 1-n\n",
    "n=10\n",
    "1 2 3 2 5 2 7 2 3 2\n",
    "'''"
   ]
  },
  {
   "cell_type": "code",
   "execution_count": 2,
   "id": "8ef42b1e",
   "metadata": {},
   "outputs": [
    {
     "name": "stdout",
     "output_type": "stream",
     "text": [
      "1\n",
      "2\n",
      "3\n",
      "2\n",
      "5\n",
      "2\n",
      "7\n",
      "2\n",
      "3\n",
      "2\n"
     ]
    }
   ],
   "source": [
    "# using seive algo\n",
    "def smallest_prime_fact(n):\n",
    "    print(1)\n",
    "    least_prime=[-1]*(n+1)\n",
    "    least_prime[1]=1\n",
    "    for i in range(2,n+1):\n",
    "        if(least_prime[i]==-1):\n",
    "            print(i)\n",
    "            for j in range(i*i,n+1,i):\n",
    "                least_prime[j]=i\n",
    "        else:\n",
    "            print(least_prime[i])\n",
    "smallest_prime_fact(10)"
   ]
  },
  {
   "cell_type": "code",
   "execution_count": null,
   "id": "57013540",
   "metadata": {},
   "outputs": [],
   "source": []
  }
 ],
 "metadata": {
  "kernelspec": {
   "display_name": "Python 3 (ipykernel)",
   "language": "python",
   "name": "python3"
  },
  "language_info": {
   "codemirror_mode": {
    "name": "ipython",
    "version": 3
   },
   "file_extension": ".py",
   "mimetype": "text/x-python",
   "name": "python",
   "nbconvert_exporter": "python",
   "pygments_lexer": "ipython3",
   "version": "3.9.8"
  }
 },
 "nbformat": 4,
 "nbformat_minor": 5
}

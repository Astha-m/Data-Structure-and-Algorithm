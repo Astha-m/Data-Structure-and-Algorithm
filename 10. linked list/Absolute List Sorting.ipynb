{
 "cells": [
  {
   "cell_type": "code",
   "execution_count": 1,
   "id": "e4abf4d1",
   "metadata": {},
   "outputs": [
    {
     "data": {
      "text/plain": [
       "\"\\nhttps://practice.geeksforgeeks.org/problems/absolute-list-sorting/1?page=19&company[]=Amazon&sortBy=submissions\\n\\nGiven a linked list L of N nodes, sorted in ascending order\\nbased on the absolute values of its data,i.e. negative values \\nare considered as positive ones. Sort the linked list according\\nto the actual values, consider negative numbers as negative and \\npositive number as positive.\\n\\n\\nExample 1:\\n\\nInput: \\nList: 1, -2, -3, 4, -5\\nOutput: \\nList: -5, -3, -2, 1, 4\\n \\n\\nExample 2:\\n\\nInput: \\nList: 5, -10\\nOutput: \\nList: -10, 5\\n \\n\\nYour Task:\\nYou don't need to read or print anyhting. Your Task is to\\ncomple the function sortList() which takes the head of the \\nLinked List as input parameter and sort the list in ascending\\norder. Don't create a new Linked List instead rearrange the given List.\\n\\n \\n\\nExpected Time Complexity: O(N)\\nExpected Space Complexity: O(1)\\n\\n\""
      ]
     },
     "execution_count": 1,
     "metadata": {},
     "output_type": "execute_result"
    }
   ],
   "source": [
    "'''\n",
    "https://practice.geeksforgeeks.org/problems/absolute-list-sorting/1?page=19&company[]=Amazon&sortBy=submissions\n",
    "\n",
    "Given a linked list L of N nodes, sorted in ascending order\n",
    "based on the absolute values of its data,i.e. negative values \n",
    "are considered as positive ones. Sort the linked list according\n",
    "to the actual values, consider negative numbers as negative and \n",
    "positive number as positive.\n",
    "\n",
    "\n",
    "Example 1:\n",
    "\n",
    "Input: \n",
    "List: 1, -2, -3, 4, -5\n",
    "Output: \n",
    "List: -5, -3, -2, 1, 4\n",
    " \n",
    "\n",
    "Example 2:\n",
    "\n",
    "Input: \n",
    "List: 5, -10\n",
    "Output: \n",
    "List: -10, 5\n",
    " \n",
    "\n",
    "Your Task:\n",
    "You don't need to read or print anyhting. Your Task is to\n",
    "comple the function sortList() which takes the head of the \n",
    "Linked List as input parameter and sort the list in ascending\n",
    "order. Don't create a new Linked List instead rearrange the given List.\n",
    "\n",
    " \n",
    "\n",
    "Expected Time Complexity: O(N)\n",
    "Expected Space Complexity: O(1)\n",
    "\n",
    "'''"
   ]
  },
  {
   "cell_type": "code",
   "execution_count": null,
   "id": "50e509b4",
   "metadata": {},
   "outputs": [],
   "source": [
    "def sortList(head):\n",
    "    '''\n",
    "    head: head of linkedList\n",
    "    \n",
    "    Your method shouldn't print anything\n",
    "    it should transform the passed linked list\n",
    "    '''\n",
    "    \n",
    "    temp=head\n",
    "    while(temp and temp.next):\n",
    "        \n",
    "        if(temp.next.data<0):\n",
    "            temp2=temp.next\n",
    "            temp.next=temp.next.next\n",
    "            temp2.next=head\n",
    "            head=temp2\n",
    "        else:\n",
    "            temp=temp.next\n",
    "        \n",
    "    ll.head=head"
   ]
  }
 ],
 "metadata": {
  "kernelspec": {
   "display_name": "Python 3 (ipykernel)",
   "language": "python",
   "name": "python3"
  },
  "language_info": {
   "codemirror_mode": {
    "name": "ipython",
    "version": 3
   },
   "file_extension": ".py",
   "mimetype": "text/x-python",
   "name": "python",
   "nbconvert_exporter": "python",
   "pygments_lexer": "ipython3",
   "version": "3.10.7"
  }
 },
 "nbformat": 4,
 "nbformat_minor": 5
}

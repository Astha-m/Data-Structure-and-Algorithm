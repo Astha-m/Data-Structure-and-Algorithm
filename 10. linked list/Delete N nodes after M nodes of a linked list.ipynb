{
 "cells": [
  {
   "cell_type": "code",
   "execution_count": 1,
   "id": "d7831687",
   "metadata": {},
   "outputs": [
    {
     "data": {
      "text/plain": [
       "'\\nGiven a linked list, delete N nodes after skipping M nodes of a linked list until the last of the linked list.\\n\\nExample:\\nInput:\\n2\\n8\\n2 1\\n9 1 3 5 9 4 10 1\\n6\\n6 1\\n1 2 3 4 5 6 \\n\\nOutput: \\n9 1 5 9 10 1\\n1 2 3 4 5 6\\n\\nExplanation:\\nDeleting one node after skipping the M nodes each time, we have list as 9-> 1-> 5-> 9-> 10-> 1.\\n\\n'"
      ]
     },
     "execution_count": 1,
     "metadata": {},
     "output_type": "execute_result"
    }
   ],
   "source": [
    "'''\n",
    "Given a linked list, delete N nodes after skipping M nodes of a linked list until the last of the linked list.\n",
    "\n",
    "Example:\n",
    "Input:\n",
    "2\n",
    "8\n",
    "2 1\n",
    "9 1 3 5 9 4 10 1\n",
    "6\n",
    "6 1\n",
    "1 2 3 4 5 6 \n",
    "\n",
    "Output: \n",
    "9 1 5 9 10 1\n",
    "1 2 3 4 5 6\n",
    "\n",
    "Explanation:\n",
    "Deleting one node after skipping the M nodes each time, we have list as 9-> 1-> 5-> 9-> 10-> 1.\n",
    "\n",
    "'''"
   ]
  },
  {
   "cell_type": "code",
   "execution_count": null,
   "id": "80068da2",
   "metadata": {},
   "outputs": [],
   "source": [
    "def delete_consecutive(self,root,k):\n",
    "    curr=root\n",
    "    prev=None\n",
    "    while(k>0 and curr!=None):\n",
    "        prev=curr\n",
    "        curr=curr.next\n",
    "        k-=1\n",
    "\n",
    "    if(prev):\n",
    "        prev.next=None\n",
    "    #print(curr)\n",
    "    return curr\n",
    "        \n",
    "    \n",
    "    \n",
    "def skipMdeleteN(self, head, M, N):\n",
    "    # Code here\n",
    "    curr=head\n",
    "    while(curr!=None):\n",
    "        count=M-1\n",
    "        while(count>0 and curr!=None):\n",
    "            curr=curr.next\n",
    "            count-=1\n",
    "        if(curr!=None):\n",
    "            get=self.delete_consecutive(curr.next,N)\n",
    "\n",
    "            curr.next=get\n",
    "            curr=curr.next\n",
    "    return head"
   ]
  }
 ],
 "metadata": {
  "kernelspec": {
   "display_name": "Python 3 (ipykernel)",
   "language": "python",
   "name": "python3"
  },
  "language_info": {
   "codemirror_mode": {
    "name": "ipython",
    "version": 3
   },
   "file_extension": ".py",
   "mimetype": "text/x-python",
   "name": "python",
   "nbconvert_exporter": "python",
   "pygments_lexer": "ipython3",
   "version": "3.9.8"
  }
 },
 "nbformat": 4,
 "nbformat_minor": 5
}

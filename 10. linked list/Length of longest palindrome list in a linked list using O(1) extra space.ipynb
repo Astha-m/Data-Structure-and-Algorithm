{
 "cells": [
  {
   "cell_type": "code",
   "execution_count": null,
   "id": "10dfdd72",
   "metadata": {},
   "outputs": [],
   "source": [
    "'''\n",
    "Length of longest palindrome list in a linked list using O(1) extra space\n",
    "\n",
    "https://www.geeksforgeeks.org/length-longest-palindrome-list-linked-list-using-o1-extra-space/\n",
    "\n",
    "\n",
    "Input  : List = 2->3->7->3->2->12->24\n",
    "Output : 5\n",
    "The longest palindrome list is 2->3->7->3->2\n",
    "\n",
    "\n",
    "'''"
   ]
  },
  {
   "cell_type": "code",
   "execution_count": 1,
   "id": "27e21898",
   "metadata": {},
   "outputs": [],
   "source": [
    "class Node:\n",
    "    def __init__(self, data):\n",
    "        self.data = data\n",
    "        self.next = None"
   ]
  },
  {
   "cell_type": "code",
   "execution_count": 2,
   "id": "3fcc1c11",
   "metadata": {},
   "outputs": [],
   "source": [
    "head = Node(2)\n",
    "head.next = Node(4)\n",
    "head.next.next = Node(3)\n",
    "head.next.next.next = Node(4)\n",
    "head.next.next.next.next = Node(2)\n",
    "head.next.next.next.next.next = Node(15)"
   ]
  },
  {
   "cell_type": "code",
   "execution_count": null,
   "id": "58d00dec",
   "metadata": {},
   "outputs": [
    {
     "name": "stdout",
     "output_type": "stream",
     "text": [
      "2\n",
      "4\n",
      "3\n"
     ]
    }
   ],
   "source": [
    "\n",
    "def counter(head1,head2):\n",
    "    count=0\n",
    "    \n",
    "    while(head1 and head2):\n",
    "        if(head1.data==head2.data):\n",
    "            count+=1\n",
    "        else:\n",
    "            break\n",
    "    return count\n",
    "\n",
    "\n",
    "def maxPalindrome(head):\n",
    "    prev=None\n",
    "    curr=head\n",
    "    \n",
    "    res=0\n",
    "    while(curr!=None):\n",
    "        print(curr.data)\n",
    "        nextt=curr.next\n",
    "        curr.next=prev\n",
    "        \n",
    "        res=max(res,2*counter(prev,nextt)+1)# odd length\n",
    "        \n",
    "        res=max(res,2*counter(curr,nextt))# even length\n",
    "        \n",
    "        prev=curr\n",
    "        curr=nextt\n",
    "        \n",
    "    return res\n",
    "        \n",
    "        \n",
    "maxPalindrome(head)"
   ]
  },
  {
   "cell_type": "code",
   "execution_count": null,
   "id": "db68cc8d",
   "metadata": {},
   "outputs": [],
   "source": []
  }
 ],
 "metadata": {
  "kernelspec": {
   "display_name": "Python 3 (ipykernel)",
   "language": "python",
   "name": "python3"
  },
  "language_info": {
   "codemirror_mode": {
    "name": "ipython",
    "version": 3
   },
   "file_extension": ".py",
   "mimetype": "text/x-python",
   "name": "python",
   "nbconvert_exporter": "python",
   "pygments_lexer": "ipython3",
   "version": "3.9.8"
  }
 },
 "nbformat": 4,
 "nbformat_minor": 5
}

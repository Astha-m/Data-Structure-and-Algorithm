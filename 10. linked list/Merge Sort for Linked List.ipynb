{
 "cells": [
  {
   "cell_type": "code",
   "execution_count": 1,
   "id": "ef68d710",
   "metadata": {},
   "outputs": [
    {
     "data": {
      "text/plain": [
       "'\\nGiven Pointer/Reference to the head of the linked list, the task is to Sort the given linked list using Merge Sort.\\nNote: If the length of linked list is odd, then the extra node should go in the first list while splitting.\\n\\nExample 1:\\n\\nInput:\\nN = 5\\nvalue[]  = {3,5,2,4,1}\\nOutput: 1 2 3 4 5\\nExplanation: After sorting the given\\nlinked list, the resultant matrix\\nwill be 1->2->3->4->5.\\nExample 2:\\n\\nInput:\\nN = 3\\nvalue[]  = {9,15,0}\\nOutput: 0 9 15\\nExplanation: After sorting the given\\nlinked list , resultant will be\\n0->9->15.\\n\\n'"
      ]
     },
     "execution_count": 1,
     "metadata": {},
     "output_type": "execute_result"
    }
   ],
   "source": [
    "'''\n",
    "Given Pointer/Reference to the head of the linked list, the task is to Sort the given linked list using Merge Sort.\n",
    "Note: If the length of linked list is odd, then the extra node should go in the first list while splitting.\n",
    "\n",
    "Example 1:\n",
    "\n",
    "Input:\n",
    "N = 5\n",
    "value[]  = {3,5,2,4,1}\n",
    "Output: 1 2 3 4 5\n",
    "Explanation: After sorting the given\n",
    "linked list, the resultant matrix\n",
    "will be 1->2->3->4->5.\n",
    "Example 2:\n",
    "\n",
    "Input:\n",
    "N = 3\n",
    "value[]  = {9,15,0}\n",
    "Output: 0 9 15\n",
    "Explanation: After sorting the given\n",
    "linked list , resultant will be\n",
    "0->9->15.\n",
    "\n",
    "'''"
   ]
  },
  {
   "cell_type": "code",
   "execution_count": null,
   "id": "607a933a",
   "metadata": {},
   "outputs": [],
   "source": [
    "import sys\n",
    "sys.setrecursionlimit(10**6)\n",
    "\n",
    "def merge(self,head1,head2):\n",
    "    merged=Node(-1)\n",
    "\n",
    "    temp=merged\n",
    "\n",
    "    while(head1!=None and head2!=None):\n",
    "        if(head1.data<=head2.data):\n",
    "            temp.next=head1\n",
    "            head1=head1.next\n",
    "        else:\n",
    "            temp.next=head2\n",
    "            head2=head2.next\n",
    "        temp=temp.next\n",
    "\n",
    "    while(head1!=None):\n",
    "        temp.next=head1\n",
    "        head1=head1.next\n",
    "        temp=temp.next\n",
    "\n",
    "    while(head2!=None):\n",
    "        temp.next=head2\n",
    "        head2=head2.next\n",
    "        temp=temp.next\n",
    "\n",
    "    return merged.next\n",
    "\n",
    "\n",
    "def findMid(self,head):\n",
    "    slow=head\n",
    "    fast=head.next\n",
    "\n",
    "    while(fast!=None and fast.next!=None):\n",
    "        slow=slow.next\n",
    "        fast=fast.next.next\n",
    "    return slow\n",
    "\n",
    "\n",
    "def mergeSort(self, head):\n",
    "\n",
    "    if(head.next==None):\n",
    "        return head\n",
    "\n",
    "    mid=self.findMid(head)\n",
    "    head2=mid.next\n",
    "\n",
    "    mid.next=None\n",
    "\n",
    "    newhead1=self.mergeSort(head)\n",
    "    newhead2=self.mergeSort(head2)\n",
    "    finalHead=self.merge(newhead1,newhead2)\n",
    "\n",
    "    return finalHead\n"
   ]
  }
 ],
 "metadata": {
  "kernelspec": {
   "display_name": "Python 3 (ipykernel)",
   "language": "python",
   "name": "python3"
  },
  "language_info": {
   "codemirror_mode": {
    "name": "ipython",
    "version": 3
   },
   "file_extension": ".py",
   "mimetype": "text/x-python",
   "name": "python",
   "nbconvert_exporter": "python",
   "pygments_lexer": "ipython3",
   "version": "3.9.8"
  }
 },
 "nbformat": 4,
 "nbformat_minor": 5
}

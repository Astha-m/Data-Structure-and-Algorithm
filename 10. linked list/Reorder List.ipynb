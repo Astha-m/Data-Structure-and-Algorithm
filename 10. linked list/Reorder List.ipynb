{
 "cells": [
  {
   "cell_type": "code",
   "execution_count": 1,
   "id": "c9306181",
   "metadata": {},
   "outputs": [
    {
     "data": {
      "text/plain": [
       "\"\\nGiven a singly linked list: A0→A1→…→An-1→An, reorder it to: A0→An→A1→An-1→A2→An-2→…\\nFor example: Given 1->2->3->4->5 its reorder is 1->5->2->4->3.\\n\\nNote: It is recommended do this in-place without altering the nodes' values.\\n\\nExample 1:\\n\\nInput:\\nLinkedList: 1->2->3\\nOutput: 1 3 2\\nExample 2:\\n\\nInput:\\nLinkedList: 1->7->3->4\\nOutput: 1 4 7 3.\\nYour Task:\\nThe task is to complete the function reorderList() which should reorder \\nthe list as required. The reorder list is automatically printed by the driver's code.\\n\\nNote: Try to solve without using any auxilliary space.\\n\\nExpected Time Complexity: O(N)\\nExpected Auxiliary Space: O(1)\\n\\n\""
      ]
     },
     "execution_count": 1,
     "metadata": {},
     "output_type": "execute_result"
    }
   ],
   "source": [
    "'''\n",
    "Given a singly linked list: A0→A1→…→An-1→An, reorder it to: A0→An→A1→An-1→A2→An-2→…\n",
    "For example: Given 1->2->3->4->5 its reorder is 1->5->2->4->3.\n",
    "\n",
    "Note: It is recommended do this in-place without altering the nodes' values.\n",
    "\n",
    "Example 1:\n",
    "\n",
    "Input:\n",
    "LinkedList: 1->2->3\n",
    "Output: 1 3 2\n",
    "Example 2:\n",
    "\n",
    "Input:\n",
    "LinkedList: 1->7->3->4\n",
    "Output: 1 4 7 3.\n",
    "Your Task:\n",
    "The task is to complete the function reorderList() which should reorder \n",
    "the list as required. The reorder list is automatically printed by the driver's code.\n",
    "\n",
    "Note: Try to solve without using any auxilliary space.\n",
    "\n",
    "Expected Time Complexity: O(N)\n",
    "Expected Auxiliary Space: O(1)\n",
    "\n",
    "'''"
   ]
  },
  {
   "cell_type": "code",
   "execution_count": null,
   "id": "c48ab9b5",
   "metadata": {},
   "outputs": [],
   "source": [
    "def reorderList(self):\n",
    "    if (self.head==None or self.head.next==None):\n",
    "        return\n",
    "    head=self.head\n",
    "    slow=head\n",
    "    fast=head.next\n",
    "    while(fast and fast.next):\n",
    "        slow=slow.next\n",
    "        fast=fast.next.next\n",
    "    \n",
    "    head2=slow.next\n",
    "    slow.next=None\n",
    "    \n",
    "    curr=head2\n",
    "    prev=None\n",
    "    nextt=None\n",
    "    while(curr):\n",
    "        nextt=curr.next\n",
    "        curr.next=prev\n",
    "        prev=curr\n",
    "        curr=nextt\n",
    "    \n",
    "    head2=prev\n",
    "    \n",
    "    while(head2):\n",
    "        ptr1=head.next\n",
    "        ptr2=head2.next\n",
    "        \n",
    "        head.next=head2\n",
    "        head2.next=ptr1\n",
    "        head=ptr1\n",
    "        head2=ptr2\n",
    "    \n",
    "        \n",
    "        "
   ]
  }
 ],
 "metadata": {
  "kernelspec": {
   "display_name": "Python 3 (ipykernel)",
   "language": "python",
   "name": "python3"
  },
  "language_info": {
   "codemirror_mode": {
    "name": "ipython",
    "version": 3
   },
   "file_extension": ".py",
   "mimetype": "text/x-python",
   "name": "python",
   "nbconvert_exporter": "python",
   "pygments_lexer": "ipython3",
   "version": "3.9.8"
  }
 },
 "nbformat": 4,
 "nbformat_minor": 5
}

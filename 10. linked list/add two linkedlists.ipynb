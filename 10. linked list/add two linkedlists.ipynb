{
 "cells": [
  {
   "cell_type": "code",
   "execution_count": 1,
   "id": "4ceb49a9",
   "metadata": {},
   "outputs": [],
   "source": [
    "def adder(lst1,lst2):\n",
    "    if(lst1==None and lst2==None):\n",
    "        return None\n",
    "    su=0\n",
    "    value=0\n",
    "    carry=0\n",
    "    if(lst1!=None):\n",
    "        su+=lst1.key\n",
    "    if(lst2!=None):\n",
    "        su+=lst2.key\n",
    "    \n",
    "    if(su>=10):\n",
    "        value=su%10\n",
    "        carry=su//10\n",
    "    else:\n",
    "        value=su\n",
    "        carry=0\n",
    "    \n",
    "    head=Node(value)\n",
    "    temp=head\n",
    "    lst1=lst1.next\n",
    "    lst2=lst2.next\n",
    "    \n",
    "    while(lst1 or lst2):\n",
    "        if(lst1==None):\n",
    "            su=lst2.key+carry\n",
    "            lst2=lst2.next\n",
    "        elif(lst2==None):\n",
    "            su=lst1.key+carry\n",
    "            lst1=lst1.next\n",
    "        else:\n",
    "            su=lst1.key+lst2.key+carry\n",
    "            lst1=lst1.next\n",
    "            lst2=lst2.next\n",
    "        \n",
    "        if(su>=10):\n",
    "            value=su%10\n",
    "            carry=su//10\n",
    "        else:\n",
    "            value=su\n",
    "            carry=0\n",
    "        temp.next=Node(value)\n",
    "        temp=temp.next\n",
    "    \n",
    "    if(carry>0):\n",
    "        temp.next=Node(carry)\n",
    "    return head"
   ]
  },
  {
   "cell_type": "code",
   "execution_count": null,
   "id": "17b92b41",
   "metadata": {},
   "outputs": [],
   "source": []
  }
 ],
 "metadata": {
  "kernelspec": {
   "display_name": "Python 3 (ipykernel)",
   "language": "python",
   "name": "python3"
  },
  "language_info": {
   "codemirror_mode": {
    "name": "ipython",
    "version": 3
   },
   "file_extension": ".py",
   "mimetype": "text/x-python",
   "name": "python",
   "nbconvert_exporter": "python",
   "pygments_lexer": "ipython3",
   "version": "3.9.8"
  }
 },
 "nbformat": 4,
 "nbformat_minor": 5
}

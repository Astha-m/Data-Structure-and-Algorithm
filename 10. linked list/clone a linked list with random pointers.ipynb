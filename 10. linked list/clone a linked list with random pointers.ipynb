{
 "cells": [
  {
   "cell_type": "code",
   "execution_count": 1,
   "id": "4a750f51",
   "metadata": {},
   "outputs": [],
   "source": [
    "def clone_ll_random(head):\n",
    "    curr=head\n",
    "    while(curr!=None):\n",
    "        nextt=curr.next\n",
    "        curr.next=Node(curr.val)\n",
    "        curr.next.next=nextt\n",
    "        curr=nextt\n",
    "    \n",
    "    curr=head\n",
    "    while(curr!=None):\n",
    "        if(curr.random!=None):\n",
    "            curr.next.random=curr.random.next\n",
    "        else:\n",
    "            curr.next.random=None\n",
    "    \n",
    "    curr=head\n",
    "    newhead=curr.next\n",
    "    temp=newhead\n",
    "    curr=curr.next\n",
    "    while(curr!=None and curr.next!=None):\n",
    "        temp.next=curr.next.next\n",
    "        curr=curr.next.next\n",
    "        temp=temp.next\n",
    "    return newhead"
   ]
  },
  {
   "cell_type": "code",
   "execution_count": null,
   "id": "71e65e67",
   "metadata": {},
   "outputs": [],
   "source": []
  }
 ],
 "metadata": {
  "kernelspec": {
   "display_name": "Python 3 (ipykernel)",
   "language": "python",
   "name": "python3"
  },
  "language_info": {
   "codemirror_mode": {
    "name": "ipython",
    "version": 3
   },
   "file_extension": ".py",
   "mimetype": "text/x-python",
   "name": "python",
   "nbconvert_exporter": "python",
   "pygments_lexer": "ipython3",
   "version": "3.9.8"
  }
 },
 "nbformat": 4,
 "nbformat_minor": 5
}

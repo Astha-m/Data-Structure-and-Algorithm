{
 "cells": [
  {
   "cell_type": "code",
   "execution_count": null,
   "id": "96b6d830",
   "metadata": {},
   "outputs": [],
   "source": [
    "def copyList(self, head):\n",
    "        if(head==None):\n",
    "            return None\n",
    "            \n",
    "        curr=head\n",
    "        \n",
    "        while(curr!=None):\n",
    "            nextt=curr.next\n",
    "            newnode=Node(curr.data)\n",
    "            curr.next=newnode\n",
    "            newnode.next=nextt\n",
    "            curr=nextt\n",
    "        \n",
    "        curr=head\n",
    "        while(curr!=None):\n",
    "            if(curr.arb!=None):\n",
    "                curr.next.arb=curr.arb.next\n",
    "            else:\n",
    "                curr.next.arb=None\n",
    "            curr=curr.next.next\n",
    "        \n",
    "        curr=head\n",
    "        newhead=Node(0)\n",
    "        temp=newhead\n",
    "\n",
    "        while(curr!=None):\n",
    "            nextt=curr.next.next\n",
    "            temp.next=curr.next\n",
    "            curr.next=nextt\n",
    "            temp=temp.next\n",
    "            curr=nextt\n",
    "            \n",
    "        \n",
    "        \n",
    "        return newhead.next"
   ]
  }
 ],
 "metadata": {
  "kernelspec": {
   "display_name": "Python 3 (ipykernel)",
   "language": "python",
   "name": "python3"
  },
  "language_info": {
   "codemirror_mode": {
    "name": "ipython",
    "version": 3
   },
   "file_extension": ".py",
   "mimetype": "text/x-python",
   "name": "python",
   "nbconvert_exporter": "python",
   "pygments_lexer": "ipython3",
   "version": "3.9.8"
  }
 },
 "nbformat": 4,
 "nbformat_minor": 5
}

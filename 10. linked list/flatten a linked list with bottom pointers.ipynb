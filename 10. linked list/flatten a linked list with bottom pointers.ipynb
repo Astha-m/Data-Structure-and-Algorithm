{
 "cells": [
  {
   "cell_type": "code",
   "execution_count": 1,
   "id": "75e471e7",
   "metadata": {},
   "outputs": [],
   "source": [
    "def merge_two_sorted_ll(lst1,lst2):\n",
    "    \n",
    "    head=None\n",
    "    if(lst1.val<=lst2.val):\n",
    "        head=Node(lst1.val)\n",
    "        lst1=lst1.bottom\n",
    "    else:\n",
    "        head=Node(lst2.val)\n",
    "        lst2=lst2.bottom\n",
    "    temp=head\n",
    "    while(lst1!=None and lst2!=None):\n",
    "        if(lst1.val<=lst2.val):\n",
    "            temp.next=Node(lst1.val)\n",
    "            temp=temp.bottom\n",
    "            lst1=lst1.bottom\n",
    "        else:\n",
    "            temp.next=Node(lst2.val)\n",
    "            temp=temp.bottom\n",
    "            lst2=lst2.bottom\n",
    "    \n",
    "    while(lst1!=None):\n",
    "        temp.next=Node(lst1.val)\n",
    "        temp=temp.bottom\n",
    "        lst1=lst1.bottom\n",
    "    \n",
    "    while(lst2!=None):\n",
    "        temp.next=Node(lst2.val)\n",
    "        temp=temp.bottom\n",
    "        lst2=lst2.bottom\n",
    "    \n",
    "    \n",
    "    return head\n",
    "\n",
    "\n",
    "def flatten_ll_btm_ptr(head):\n",
    "    curr=head\n",
    "    if(curr==None):\n",
    "        return None\n",
    "    else:\n",
    "        temp=None\n",
    "        while(curr!=None):\n",
    "            nextt=curr.next\n",
    "            temp=merge_two_sorted_ll(temp,curr)\n",
    "            curr=nextt\n",
    "        return temp"
   ]
  },
  {
   "cell_type": "code",
   "execution_count": null,
   "id": "ad94da16",
   "metadata": {},
   "outputs": [],
   "source": []
  }
 ],
 "metadata": {
  "kernelspec": {
   "display_name": "Python 3 (ipykernel)",
   "language": "python",
   "name": "python3"
  },
  "language_info": {
   "codemirror_mode": {
    "name": "ipython",
    "version": 3
   },
   "file_extension": ".py",
   "mimetype": "text/x-python",
   "name": "python",
   "nbconvert_exporter": "python",
   "pygments_lexer": "ipython3",
   "version": "3.9.8"
  }
 },
 "nbformat": 4,
 "nbformat_minor": 5
}

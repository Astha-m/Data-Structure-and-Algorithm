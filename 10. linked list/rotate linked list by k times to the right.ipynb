{
 "cells": [
  {
   "cell_type": "code",
   "execution_count": 1,
   "id": "ab823b9d",
   "metadata": {},
   "outputs": [],
   "source": [
    "def rotate_k_right(head,k):\n",
    "    if(head==None):\n",
    "        return None\n",
    "    \n",
    "    length=0\n",
    "    curr=head\n",
    "    while(curr!=None):\n",
    "        length+=1\n",
    "        curr=curr.next\n",
    "        \n",
    "    if(k>length):\n",
    "        k=k%length\n",
    "        \n",
    "    for i in range(k):\n",
    "        prev=None\n",
    "        curr=head\n",
    "        while(curr.next!=None):\n",
    "            prev=curr\n",
    "            curr=curr.next\n",
    "        \n",
    "        prev.next=None\n",
    "        curr.next=head\n",
    "        head=curr\n",
    "    return head\n",
    "        "
   ]
  },
  {
   "cell_type": "code",
   "execution_count": null,
   "id": "2e266be9",
   "metadata": {},
   "outputs": [],
   "source": []
  }
 ],
 "metadata": {
  "kernelspec": {
   "display_name": "Python 3 (ipykernel)",
   "language": "python",
   "name": "python3"
  },
  "language_info": {
   "codemirror_mode": {
    "name": "ipython",
    "version": 3
   },
   "file_extension": ".py",
   "mimetype": "text/x-python",
   "name": "python",
   "nbconvert_exporter": "python",
   "pygments_lexer": "ipython3",
   "version": "3.9.8"
  }
 },
 "nbformat": 4,
 "nbformat_minor": 5
}

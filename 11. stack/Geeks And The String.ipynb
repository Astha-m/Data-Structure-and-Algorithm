{
 "cells": [
  {
   "cell_type": "code",
   "execution_count": 1,
   "id": "7a04a002",
   "metadata": {},
   "outputs": [
    {
     "data": {
      "text/plain": [
       "'\\nhttps://practice.geeksforgeeks.org/problems/466faca80c3e86f13880710491c634d26abd44a7/1\\n\\n\\nOur geek loves to play with strings, Currently,\\nhe is trying to reduce the size of a string by \\nrecursively removing all the consecutive duplicate\\npairs. In other words, He can apply the below operations \\nany number of times.\\n\\nRemove all the consecutive duplicate pairs and concatenate\\nthe remaining string to replace the original string.\\nYour task is to find the string with minimum length after\\napplying the above operations.\\n\\nNote: If the string length become zero after applying \\noperations, return \"-1\" as a string.\\n\\n\\nExample 1:\\n\\nInput:\\naaabbaaccd\\nOutput: \\nad\\nExplanation: \\nRemove (aa)abbaaccd =>abbaaccd\\nRemove a(bb)aaccd => aaaccd\\nRemove (aa)accd => accd\\nRemove a(cc)d => ad\\nExample 2:\\n\\nInput: \\naaaa\\nOutput: \\nEmpty String\\nExplanation: \\nRemove (aa)aa => aa\\nAgain removing pair of duplicates then (aa) \\nwill be removed and we will get \\'Empty String\\'.\\n\\nYour Task:\\nThis is a function problem. You only need to complete the \\nfunction removePair() that takes a string as a parameter \\nand returns the modified string. Return an empty string\\nif the whole string is deleted.\\n\\nExpected Time Complexity: O(N)\\nExpected Auxiliary Space: O(N)\\n\\nConstraints:\\n1 <= |str| <= 104\\n\\n'"
      ]
     },
     "execution_count": 1,
     "metadata": {},
     "output_type": "execute_result"
    }
   ],
   "source": [
    "'''\n",
    "https://practice.geeksforgeeks.org/problems/466faca80c3e86f13880710491c634d26abd44a7/1\n",
    "\n",
    "\n",
    "Our geek loves to play with strings, Currently,\n",
    "he is trying to reduce the size of a string by \n",
    "recursively removing all the consecutive duplicate\n",
    "pairs. In other words, He can apply the below operations \n",
    "any number of times.\n",
    "\n",
    "Remove all the consecutive duplicate pairs and concatenate\n",
    "the remaining string to replace the original string.\n",
    "Your task is to find the string with minimum length after\n",
    "applying the above operations.\n",
    "\n",
    "Note: If the string length become zero after applying \n",
    "operations, return \"-1\" as a string.\n",
    "\n",
    "\n",
    "Example 1:\n",
    "\n",
    "Input:\n",
    "aaabbaaccd\n",
    "Output: \n",
    "ad\n",
    "Explanation: \n",
    "Remove (aa)abbaaccd =>abbaaccd\n",
    "Remove a(bb)aaccd => aaaccd\n",
    "Remove (aa)accd => accd\n",
    "Remove a(cc)d => ad\n",
    "Example 2:\n",
    "\n",
    "Input: \n",
    "aaaa\n",
    "Output: \n",
    "Empty String\n",
    "Explanation: \n",
    "Remove (aa)aa => aa\n",
    "Again removing pair of duplicates then (aa) \n",
    "will be removed and we will get 'Empty String'.\n",
    "\n",
    "Your Task:\n",
    "This is a function problem. You only need to complete the \n",
    "function removePair() that takes a string as a parameter \n",
    "and returns the modified string. Return an empty string\n",
    "if the whole string is deleted.\n",
    "\n",
    "Expected Time Complexity: O(N)\n",
    "Expected Auxiliary Space: O(N)\n",
    "\n",
    "Constraints:\n",
    "1 <= |str| <= 104\n",
    "\n",
    "'''"
   ]
  },
  {
   "cell_type": "code",
   "execution_count": null,
   "id": "6c40cf2c",
   "metadata": {},
   "outputs": [],
   "source": [
    "def removePair(self,s):\n",
    "    stack=[]\n",
    "\n",
    "    for i in s:\n",
    "        if(stack and stack[-1]==i):\n",
    "            stack.pop()\n",
    "        else:\n",
    "            stack.append(i)\n",
    "    if(not stack):\n",
    "        return '-1'\n",
    "    return ''.join(stack)"
   ]
  }
 ],
 "metadata": {
  "kernelspec": {
   "display_name": "Python 3 (ipykernel)",
   "language": "python",
   "name": "python3"
  },
  "language_info": {
   "codemirror_mode": {
    "name": "ipython",
    "version": 3
   },
   "file_extension": ".py",
   "mimetype": "text/x-python",
   "name": "python",
   "nbconvert_exporter": "python",
   "pygments_lexer": "ipython3",
   "version": "3.9.13"
  }
 },
 "nbformat": 4,
 "nbformat_minor": 5
}

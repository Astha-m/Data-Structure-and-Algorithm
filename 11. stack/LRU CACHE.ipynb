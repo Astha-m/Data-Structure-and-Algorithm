{
 "cells": [
  {
   "cell_type": "code",
   "execution_count": null,
   "id": "81b98d7c",
   "metadata": {},
   "outputs": [],
   "source": [
    "class LRUCache:\n",
    "\n",
    "    def __init__(self, capacity: int):\n",
    "        self.capacity=capacity\n",
    "        self.cache=OrderedDict()\n",
    "\n",
    "    def get(self, key: int) -> int:\n",
    "        if(key in self.cache):\n",
    "            self.cache.move_to_end(key)\n",
    "            return self.cache[key]\n",
    "        return -1\n",
    "        \n",
    "\n",
    "    def put(self, key: int, value: int) -> None:\n",
    "        if(key in self.cache):\n",
    "            self.cache.move_to_end(key)\n",
    "        elif(len(self.cache)==self.capacity):\n",
    "            self.cache.popitem(last=False)\n",
    "        self.cache[key]=value\n"
   ]
  }
 ],
 "metadata": {
  "kernelspec": {
   "display_name": "Python 3 (ipykernel)",
   "language": "python",
   "name": "python3"
  },
  "language_info": {
   "codemirror_mode": {
    "name": "ipython",
    "version": 3
   },
   "file_extension": ".py",
   "mimetype": "text/x-python",
   "name": "python",
   "nbconvert_exporter": "python",
   "pygments_lexer": "ipython3",
   "version": "3.9.8"
  }
 },
 "nbformat": 4,
 "nbformat_minor": 5
}

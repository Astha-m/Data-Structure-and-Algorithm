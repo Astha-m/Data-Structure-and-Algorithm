{
 "cells": [
  {
   "cell_type": "code",
   "execution_count": 1,
   "id": "f0eeb922",
   "metadata": {},
   "outputs": [],
   "source": [
    "def balanced_parenthesis(lst):\n",
    "    stack=[]\n",
    "    for i in lst:\n",
    "        if(i=='(' or i=='{' or i=='['):\n",
    "            stack.append(i)\n",
    "        elif(len(stack)>0):\n",
    "            if(i==')' and stack[-1]=='('):\n",
    "                stack.pop()\n",
    "            elif(i=='}' and stack[-1]=='{'):\n",
    "                stack.pop()\n",
    "            elif(i==']' and stack[-1]=='['):\n",
    "                stack.pop()\n",
    "            else:\n",
    "                return False\n",
    "        else:\n",
    "            return False\n",
    "    if(len(stack)>0):\n",
    "        return False\n",
    "    return True"
   ]
  },
  {
   "cell_type": "code",
   "execution_count": 3,
   "id": "641e0917",
   "metadata": {},
   "outputs": [
    {
     "data": {
      "text/plain": [
       "False"
      ]
     },
     "execution_count": 3,
     "metadata": {},
     "output_type": "execute_result"
    }
   ],
   "source": [
    "balanced_parenthesis(list('((({{[}})))'))"
   ]
  },
  {
   "cell_type": "code",
   "execution_count": null,
   "id": "2fbf65e3",
   "metadata": {},
   "outputs": [],
   "source": []
  }
 ],
 "metadata": {
  "kernelspec": {
   "display_name": "Python 3 (ipykernel)",
   "language": "python",
   "name": "python3"
  },
  "language_info": {
   "codemirror_mode": {
    "name": "ipython",
    "version": 3
   },
   "file_extension": ".py",
   "mimetype": "text/x-python",
   "name": "python",
   "nbconvert_exporter": "python",
   "pygments_lexer": "ipython3",
   "version": "3.9.8"
  }
 },
 "nbformat": 4,
 "nbformat_minor": 5
}

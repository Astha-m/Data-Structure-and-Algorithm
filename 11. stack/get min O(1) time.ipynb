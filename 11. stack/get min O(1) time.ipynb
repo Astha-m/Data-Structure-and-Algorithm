{
 "cells": [
  {
   "cell_type": "code",
   "execution_count": 1,
   "id": "2dc6c091",
   "metadata": {},
   "outputs": [],
   "source": [
    "def get_mini():\n",
    "    n=int(input())\n",
    "    stack=[]\n",
    "    mini=float('inf')\n",
    "    for i in range(n):\n",
    "        strg=input().split()\n",
    "        if(strg[0]=='push'):\n",
    "            x=int(strg[1])\n",
    "            if(len(stack)==0):\n",
    "                mini=x\n",
    "                stack.append(x)\n",
    "            else:\n",
    "                if(x<=mini):\n",
    "                    stack.append(2*x-mini)\n",
    "                    mini=x\n",
    "                else:\n",
    "                    stack.append(x)\n",
    "        elif(strg[0]=='pop'):\n",
    "            curr=stack.pop()\n",
    "            if(curr<=mini):\n",
    "                res=mini\n",
    "                mini=2*mini-curr\n",
    "                print(res)\n",
    "            else:\n",
    "                print(curr)\n",
    "        elif(strg[0]=='top'):\n",
    "            \n",
    "            if(stack[-1]<=mini):\n",
    "                print(mini)\n",
    "            else:\n",
    "                print(stack[-1])\n",
    "        elif(strg[0]=='mini'):\n",
    "            print(mini)\n",
    "        "
   ]
  },
  {
   "cell_type": "code",
   "execution_count": 2,
   "id": "5739723a",
   "metadata": {},
   "outputs": [
    {
     "name": "stdout",
     "output_type": "stream",
     "text": [
      "15\n",
      "push 5\n",
      "push 10\n",
      "push 20\n",
      "push 2\n",
      "push 6\n",
      "push 4\n",
      "mini\n",
      "2\n",
      "top\n",
      "4\n",
      "pop\n",
      "4\n",
      "pop\n",
      "6\n",
      "top\n",
      "2\n",
      "mini\n",
      "2\n",
      "push 2\n",
      "top\n",
      "2\n",
      "pop\n",
      "2\n"
     ]
    }
   ],
   "source": [
    "get_mini()"
   ]
  },
  {
   "cell_type": "code",
   "execution_count": null,
   "id": "a0296542",
   "metadata": {},
   "outputs": [],
   "source": []
  }
 ],
 "metadata": {
  "kernelspec": {
   "display_name": "Python 3 (ipykernel)",
   "language": "python",
   "name": "python3"
  },
  "language_info": {
   "codemirror_mode": {
    "name": "ipython",
    "version": 3
   },
   "file_extension": ".py",
   "mimetype": "text/x-python",
   "name": "python",
   "nbconvert_exporter": "python",
   "pygments_lexer": "ipython3",
   "version": "3.9.8"
  }
 },
 "nbformat": 4,
 "nbformat_minor": 5
}

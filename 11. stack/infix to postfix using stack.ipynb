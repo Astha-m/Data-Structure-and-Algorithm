{
 "cells": [
  {
   "cell_type": "code",
   "execution_count": 6,
   "id": "ed290324",
   "metadata": {},
   "outputs": [],
   "source": [
    "def infix_to_postfix(strg):\n",
    "    opr_stack=[]\n",
    "    news=''\n",
    "    for i in strg:\n",
    "        if(i in '+-*/^'):\n",
    "            if(len(opr_stack)==0):\n",
    "                opr_stack.append(i)\n",
    "            else:\n",
    "                if(i=='^'):\n",
    "                    opr_stack.append(i)\n",
    "                elif(i in '+-'):\n",
    "                    while(opr_stack):\n",
    "                        news+=opr_stack.pop()\n",
    "                    opr_stack.append(i)\n",
    "                else:\n",
    "                    while(opr_stack and opr_stack[-1] not in '+-'):\n",
    "                        news+=opr_stack.pop()\n",
    "                    opr_stack.append(i)\n",
    "        else:\n",
    "            news+=i\n",
    "    while(opr_stack):\n",
    "        news+=opr_stack.pop()\n",
    "    return news"
   ]
  },
  {
   "cell_type": "code",
   "execution_count": 7,
   "id": "1ff5cc14",
   "metadata": {},
   "outputs": [
    {
     "data": {
      "text/plain": [
       "'abc/+de*-'"
      ]
     },
     "execution_count": 7,
     "metadata": {},
     "output_type": "execute_result"
    }
   ],
   "source": [
    "infix_to_postfix('a+b/c-d*e')"
   ]
  },
  {
   "cell_type": "code",
   "execution_count": null,
   "id": "bcc92b62",
   "metadata": {},
   "outputs": [],
   "source": []
  }
 ],
 "metadata": {
  "kernelspec": {
   "display_name": "Python 3 (ipykernel)",
   "language": "python",
   "name": "python3"
  },
  "language_info": {
   "codemirror_mode": {
    "name": "ipython",
    "version": 3
   },
   "file_extension": ".py",
   "mimetype": "text/x-python",
   "name": "python",
   "nbconvert_exporter": "python",
   "pygments_lexer": "ipython3",
   "version": "3.9.8"
  }
 },
 "nbformat": 4,
 "nbformat_minor": 5
}

{
 "cells": [
  {
   "cell_type": "code",
   "execution_count": 1,
   "id": "5dee68cc",
   "metadata": {},
   "outputs": [],
   "source": [
    "def infix_to_prefix(strg):\n",
    "    opr_stack=[]\n",
    "    news=''\n",
    "    strg=strg[::-1]\n",
    "    for i in strg:\n",
    "        if(i in '+-*/^'):\n",
    "            if(i=='^'):\n",
    "                opr_stack.append(i)\n",
    "            elif(i in '+-'):\n",
    "                while(opr_stack):\n",
    "                    news+=opr_stack.pop()\n",
    "                opr_stack.append(i)\n",
    "            else:\n",
    "                while(opr_stack and opr_stack[-1] not in '+-'):\n",
    "                    news+=opr_stack.pop()\n",
    "                opr_stack.append(i)\n",
    "        else:\n",
    "            news+=i\n",
    "    while(opr_stack):\n",
    "        news+=opr_stack.pop()\n",
    "    return news[::-1]"
   ]
  },
  {
   "cell_type": "code",
   "execution_count": 2,
   "id": "da70a643",
   "metadata": {},
   "outputs": [
    {
     "data": {
      "text/plain": [
       "'+x-/yz*wu'"
      ]
     },
     "execution_count": 2,
     "metadata": {},
     "output_type": "execute_result"
    }
   ],
   "source": [
    "infix_to_prefix('x+y/z-w*u')"
   ]
  },
  {
   "cell_type": "code",
   "execution_count": null,
   "id": "aff1eb9a",
   "metadata": {},
   "outputs": [],
   "source": []
  }
 ],
 "metadata": {
  "kernelspec": {
   "display_name": "Python 3 (ipykernel)",
   "language": "python",
   "name": "python3"
  },
  "language_info": {
   "codemirror_mode": {
    "name": "ipython",
    "version": 3
   },
   "file_extension": ".py",
   "mimetype": "text/x-python",
   "name": "python",
   "nbconvert_exporter": "python",
   "pygments_lexer": "ipython3",
   "version": "3.9.8"
  }
 },
 "nbformat": 4,
 "nbformat_minor": 5
}

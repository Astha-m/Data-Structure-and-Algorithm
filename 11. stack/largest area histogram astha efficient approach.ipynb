{
 "cells": [
  {
   "cell_type": "code",
   "execution_count": 5,
   "id": "7e5ff358",
   "metadata": {},
   "outputs": [],
   "source": [
    "def largest_area_histogram(arr):\n",
    "    n=len(arr)\n",
    "    stack=[]\n",
    "    res=0\n",
    "    for i in range(n):\n",
    "        while(stack and arr[stack[-1]]>=arr[i]):\n",
    "            curr=stack.pop()\n",
    "            temp=arr[curr]*(i if(len(stack)==0) else i-stack[-1]-1)\n",
    "            res=max(res,temp)\n",
    "        stack.append(i)\n",
    "    while(stack):\n",
    "        curr=stack.pop()\n",
    "        temp=arr[curr]*(n if(len(stack)==0) else n-stack[-1]-1)\n",
    "        res=max(res,temp)\n",
    "    return res"
   ]
  },
  {
   "cell_type": "code",
   "execution_count": 8,
   "id": "167263f2",
   "metadata": {},
   "outputs": [
    {
     "data": {
      "text/plain": [
       "12"
      ]
     },
     "execution_count": 8,
     "metadata": {},
     "output_type": "execute_result"
    }
   ],
   "source": [
    "largest_area_histogram([6,2,5,4,5,1,6])"
   ]
  },
  {
   "cell_type": "code",
   "execution_count": null,
   "id": "e1fe5451",
   "metadata": {},
   "outputs": [],
   "source": []
  }
 ],
 "metadata": {
  "kernelspec": {
   "display_name": "Python 3 (ipykernel)",
   "language": "python",
   "name": "python3"
  },
  "language_info": {
   "codemirror_mode": {
    "name": "ipython",
    "version": 3
   },
   "file_extension": ".py",
   "mimetype": "text/x-python",
   "name": "python",
   "nbconvert_exporter": "python",
   "pygments_lexer": "ipython3",
   "version": "3.9.8"
  }
 },
 "nbformat": 4,
 "nbformat_minor": 5
}

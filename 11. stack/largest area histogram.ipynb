{
 "cells": [
  {
   "cell_type": "code",
   "execution_count": 7,
   "id": "025a6247",
   "metadata": {},
   "outputs": [],
   "source": [
    "def next_smaller(arr):\n",
    "    res=[]\n",
    "    stack=[]\n",
    "    for i in range(len(arr)-1,-1,-1):\n",
    "        while(stack and arr[stack[-1]]>=arr[i]):\n",
    "            stack.pop()\n",
    "        \n",
    "        if(stack):\n",
    "            res.append(stack[-1])\n",
    "        else:\n",
    "            res.append(len(arr))\n",
    "        stack.append(i)\n",
    "    return res[::-1]\n",
    "\n",
    "def previous_smaller(arr):\n",
    "    stack=[]\n",
    "    res=[]\n",
    "    for i in range(len(arr)):\n",
    "        while(stack and arr[stack[-1]]>=arr[i]):\n",
    "            stack.pop()\n",
    "        \n",
    "        if(stack):\n",
    "            res.append(stack[-1])\n",
    "        else:\n",
    "            res.append(-1)\n",
    "        stack.append(i)\n",
    "    return res\n",
    "\n",
    "def largest_area_histogram(arr):\n",
    "    prev=previous_smaller(arr)\n",
    "    nextt=next_smaller(arr)\n",
    "    print(prev)\n",
    "    print(nextt)\n",
    "    \n",
    "    largest=0\n",
    "    for i in range(len(arr)):\n",
    "        curr=arr[i]\n",
    "        curr+=(i-prev[i]-1)*arr[i]\n",
    "        curr+=(nextt[i]-i-1)*arr[i]\n",
    "        largest=max(largest,curr)\n",
    "    return largest"
   ]
  },
  {
   "cell_type": "code",
   "execution_count": 8,
   "id": "901ed483",
   "metadata": {},
   "outputs": [
    {
     "name": "stdout",
     "output_type": "stream",
     "text": [
      "[-1, -1, 1, 1, -1, 4, 5]\n",
      "[1, 4, 3, 4, 7, 7, 7]\n"
     ]
    },
    {
     "data": {
      "text/plain": [
       "10"
      ]
     },
     "execution_count": 8,
     "metadata": {},
     "output_type": "execute_result"
    }
   ],
   "source": [
    "largest_area_histogram([6,2,5,4,1,5,6])"
   ]
  },
  {
   "cell_type": "code",
   "execution_count": null,
   "id": "bfa49f7c",
   "metadata": {},
   "outputs": [],
   "source": []
  }
 ],
 "metadata": {
  "kernelspec": {
   "display_name": "Python 3 (ipykernel)",
   "language": "python",
   "name": "python3"
  },
  "language_info": {
   "codemirror_mode": {
    "name": "ipython",
    "version": 3
   },
   "file_extension": ".py",
   "mimetype": "text/x-python",
   "name": "python",
   "nbconvert_exporter": "python",
   "pygments_lexer": "ipython3",
   "version": "3.9.8"
  }
 },
 "nbformat": 4,
 "nbformat_minor": 5
}

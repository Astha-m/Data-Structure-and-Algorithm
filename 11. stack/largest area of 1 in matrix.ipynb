{
 "cells": [
  {
   "cell_type": "code",
   "execution_count": 15,
   "id": "47877e62",
   "metadata": {},
   "outputs": [],
   "source": [
    "def next_smaller(arr):\n",
    "    res=[]\n",
    "    stack=[]\n",
    "    for i in range(len(arr)-1,-1,-1):\n",
    "        while(stack and arr[stack[-1]]>=arr[i]):\n",
    "            stack.pop()\n",
    "        \n",
    "        if(stack):\n",
    "            res.append(stack[-1])\n",
    "        else:\n",
    "            res.append(len(arr))\n",
    "        stack.append(i)\n",
    "    return res[::-1]\n",
    "\n",
    "def previous_smaller(arr):\n",
    "    stack=[]\n",
    "    res=[]\n",
    "    for i in range(len(arr)):\n",
    "        while(stack and arr[stack[-1]]>=arr[i]):\n",
    "            stack.pop()\n",
    "        \n",
    "        if(stack):\n",
    "            res.append(stack[-1])\n",
    "        else:\n",
    "            res.append(-1)\n",
    "        stack.append(i)\n",
    "    return res\n",
    "\n",
    "def largest_area_histogram(arr):\n",
    "    prev=previous_smaller(arr)\n",
    "    nextt=next_smaller(arr)\n",
    "    \n",
    "    \n",
    "    largest=0\n",
    "    for i in range(len(arr)):\n",
    "        curr=arr[i]\n",
    "        curr+=(i-prev[i]-1)*arr[i]\n",
    "        curr+=(nextt[i]-i-1)*arr[i]\n",
    "        largest=max(largest,curr)\n",
    "    return largest\n",
    "\n",
    "def largest_rectangle_of_1_in_matrix(mat):\n",
    "    rows=len(mat)\n",
    "    cols=len(mat[0])\n",
    "    area=0\n",
    "    for i in range(rows):\n",
    "        if(i==0):\n",
    "            area=largest_area_histogram(mat[0])\n",
    "            \n",
    "        else:\n",
    "            for j in range(cols):\n",
    "                if(mat[i][j]==1):\n",
    "                    mat[i][j]+=mat[i-1][j]\n",
    "            \n",
    "            val=largest_area_histogram(mat[i])\n",
    "            area=max(area,val)\n",
    "    \n",
    "    return area"
   ]
  },
  {
   "cell_type": "code",
   "execution_count": 16,
   "id": "7dc318dc",
   "metadata": {},
   "outputs": [
    {
     "data": {
      "text/plain": [
       "8"
      ]
     },
     "execution_count": 16,
     "metadata": {},
     "output_type": "execute_result"
    }
   ],
   "source": [
    "largest_rectangle_of_1_in_matrix([[0,1,1,0],[1,1,1,1],[1,1,1,1],[1,1,0,0]])"
   ]
  },
  {
   "cell_type": "code",
   "execution_count": null,
   "id": "34fd8b36",
   "metadata": {},
   "outputs": [],
   "source": []
  }
 ],
 "metadata": {
  "kernelspec": {
   "display_name": "Python 3 (ipykernel)",
   "language": "python",
   "name": "python3"
  },
  "language_info": {
   "codemirror_mode": {
    "name": "ipython",
    "version": 3
   },
   "file_extension": ".py",
   "mimetype": "text/x-python",
   "name": "python",
   "nbconvert_exporter": "python",
   "pygments_lexer": "ipython3",
   "version": "3.9.8"
  }
 },
 "nbformat": 4,
 "nbformat_minor": 5
}

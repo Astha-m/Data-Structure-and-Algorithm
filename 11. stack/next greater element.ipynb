{
 "cells": [
  {
   "cell_type": "code",
   "execution_count": 3,
   "id": "3266a96d",
   "metadata": {},
   "outputs": [],
   "source": [
    "def next_greater(arr):\n",
    "    stack=[]\n",
    "    res=[]\n",
    "    for i in range(len(arr)-1,-1,-1):\n",
    "        while(stack and stack[-1]<arr[i]):\n",
    "            stack.pop()\n",
    "        if(stack):\n",
    "            res.append(stack[-1])\n",
    "        else:\n",
    "            res.append(-1)\n",
    "        stack.append(arr[i])\n",
    "    return res[::-1]"
   ]
  },
  {
   "cell_type": "code",
   "execution_count": 4,
   "id": "743fdb83",
   "metadata": {},
   "outputs": [
    {
     "data": {
      "text/plain": [
       "[18, 18, -1, -1, 6, 8, 8, -1]"
      ]
     },
     "execution_count": 4,
     "metadata": {},
     "output_type": "execute_result"
    }
   ],
   "source": [
    "next_greater([15,10,18,12,4,6,2,8])"
   ]
  },
  {
   "cell_type": "code",
   "execution_count": null,
   "id": "b9759419",
   "metadata": {},
   "outputs": [],
   "source": []
  }
 ],
 "metadata": {
  "kernelspec": {
   "display_name": "Python 3 (ipykernel)",
   "language": "python",
   "name": "python3"
  },
  "language_info": {
   "codemirror_mode": {
    "name": "ipython",
    "version": 3
   },
   "file_extension": ".py",
   "mimetype": "text/x-python",
   "name": "python",
   "nbconvert_exporter": "python",
   "pygments_lexer": "ipython3",
   "version": "3.9.8"
  }
 },
 "nbformat": 4,
 "nbformat_minor": 5
}

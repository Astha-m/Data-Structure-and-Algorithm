{
 "cells": [
  {
   "cell_type": "code",
   "execution_count": 1,
   "id": "5a814d7d",
   "metadata": {},
   "outputs": [],
   "source": [
    "def next_smaller(arr):\n",
    "    stack=[]\n",
    "    res=[]\n",
    "    for i in range(len(arr)-1,-1,-1):\n",
    "        while(stack and stack[-1]>arr[i]):\n",
    "            stack.pop()\n",
    "        \n",
    "        if(stack):\n",
    "            res.append(stack[-1])\n",
    "        else:\n",
    "            res.append(-1)\n",
    "        stack.append(arr[i])\n",
    "    return res[::-1]"
   ]
  },
  {
   "cell_type": "code",
   "execution_count": 2,
   "id": "a0fdaa08",
   "metadata": {},
   "outputs": [
    {
     "data": {
      "text/plain": [
       "[-1, 10, 8, 6, -1, 9, -1, -1]"
      ]
     },
     "execution_count": 2,
     "metadata": {},
     "output_type": "execute_result"
    }
   ],
   "source": [
    "next_smaller([5,15,10,8,6,12,9,18])"
   ]
  },
  {
   "cell_type": "code",
   "execution_count": null,
   "id": "44c2b984",
   "metadata": {},
   "outputs": [],
   "source": []
  }
 ],
 "metadata": {
  "kernelspec": {
   "display_name": "Python 3 (ipykernel)",
   "language": "python",
   "name": "python3"
  },
  "language_info": {
   "codemirror_mode": {
    "name": "ipython",
    "version": 3
   },
   "file_extension": ".py",
   "mimetype": "text/x-python",
   "name": "python",
   "nbconvert_exporter": "python",
   "pygments_lexer": "ipython3",
   "version": "3.9.8"
  }
 },
 "nbformat": 4,
 "nbformat_minor": 5
}

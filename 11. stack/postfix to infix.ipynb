{
 "cells": [
  {
   "cell_type": "code",
   "execution_count": 3,
   "id": "484f442a",
   "metadata": {},
   "outputs": [],
   "source": [
    "def postfix_to_infix(strg):\n",
    "    stack=[]\n",
    "    for i in strg:\n",
    "        if(i not in '+-*/^'):\n",
    "            stack.append(i)\n",
    "        else:\n",
    "            op1=stack.pop()\n",
    "            op2=stack.pop()\n",
    "            stack.append('({} {} {})'.format(op2,i,op1))\n",
    "    return stack.pop()"
   ]
  },
  {
   "cell_type": "code",
   "execution_count": 4,
   "id": "7dcaf5f5",
   "metadata": {},
   "outputs": [
    {
     "data": {
      "text/plain": [
       "'(((10 * 2) + (3 * 5)) - 9)'"
      ]
     },
     "execution_count": 4,
     "metadata": {},
     "output_type": "execute_result"
    }
   ],
   "source": [
    "postfix_to_infix(['10','2','*','3','5','*','+','9','-'])"
   ]
  },
  {
   "cell_type": "code",
   "execution_count": null,
   "id": "bbc559e7",
   "metadata": {},
   "outputs": [],
   "source": []
  }
 ],
 "metadata": {
  "kernelspec": {
   "display_name": "Python 3 (ipykernel)",
   "language": "python",
   "name": "python3"
  },
  "language_info": {
   "codemirror_mode": {
    "name": "ipython",
    "version": 3
   },
   "file_extension": ".py",
   "mimetype": "text/x-python",
   "name": "python",
   "nbconvert_exporter": "python",
   "pygments_lexer": "ipython3",
   "version": "3.9.8"
  }
 },
 "nbformat": 4,
 "nbformat_minor": 5
}

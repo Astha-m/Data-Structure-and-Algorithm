{
 "cells": [
  {
   "cell_type": "code",
   "execution_count": 3,
   "id": "1bd8d9c8",
   "metadata": {},
   "outputs": [],
   "source": [
    "def prefix_to_infix(strg):\n",
    "    stack=[]\n",
    "    for i in range(len(strg)-1,-1,-1):\n",
    "        if(strg[i] not in '+-*/^'):\n",
    "            stack.append(strg[i])\n",
    "        else:\n",
    "            op1=stack.pop()\n",
    "            op2=stack.pop()\n",
    "            stack.append('({} {} {})'.format(op1,strg[i],op2))\n",
    "    return stack.pop()\n",
    "    "
   ]
  },
  {
   "cell_type": "code",
   "execution_count": 5,
   "id": "f486a3e2",
   "metadata": {},
   "outputs": [
    {
     "data": {
      "text/plain": [
       "'(a ^ (b ^ c))'"
      ]
     },
     "execution_count": 5,
     "metadata": {},
     "output_type": "execute_result"
    }
   ],
   "source": [
    "prefix_to_infix('^a^bc')"
   ]
  },
  {
   "cell_type": "code",
   "execution_count": null,
   "id": "71e799d6",
   "metadata": {},
   "outputs": [],
   "source": []
  }
 ],
 "metadata": {
  "kernelspec": {
   "display_name": "Python 3 (ipykernel)",
   "language": "python",
   "name": "python3"
  },
  "language_info": {
   "codemirror_mode": {
    "name": "ipython",
    "version": 3
   },
   "file_extension": ".py",
   "mimetype": "text/x-python",
   "name": "python",
   "nbconvert_exporter": "python",
   "pygments_lexer": "ipython3",
   "version": "3.9.8"
  }
 },
 "nbformat": 4,
 "nbformat_minor": 5
}

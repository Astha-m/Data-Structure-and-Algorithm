{
 "cells": [
  {
   "cell_type": "code",
   "execution_count": 3,
   "id": "5638a774",
   "metadata": {},
   "outputs": [],
   "source": [
    "def stock_span_problem(arr):\n",
    "    stack=[]\n",
    "    for i in range(len(arr)):\n",
    "        while(stack and arr[stack[-1]]<=arr[i]):\n",
    "            stack.pop()\n",
    "        if(stack):\n",
    "            print(i-stack[-1])\n",
    "        else:\n",
    "            print(i+1)\n",
    "        stack.append(i)"
   ]
  },
  {
   "cell_type": "code",
   "execution_count": 4,
   "id": "2db87dac",
   "metadata": {},
   "outputs": [
    {
     "name": "stdout",
     "output_type": "stream",
     "text": [
      "1\n",
      "2\n",
      "1\n",
      "2\n",
      "5\n",
      "1\n",
      "1\n",
      "1\n",
      "4\n",
      "10\n"
     ]
    }
   ],
   "source": [
    "stock_span_problem([13,15,12,14,16,8,6,4,10,30])"
   ]
  },
  {
   "cell_type": "code",
   "execution_count": null,
   "id": "1b440fe7",
   "metadata": {},
   "outputs": [],
   "source": []
  }
 ],
 "metadata": {
  "kernelspec": {
   "display_name": "Python 3 (ipykernel)",
   "language": "python",
   "name": "python3"
  },
  "language_info": {
   "codemirror_mode": {
    "name": "ipython",
    "version": 3
   },
   "file_extension": ".py",
   "mimetype": "text/x-python",
   "name": "python",
   "nbconvert_exporter": "python",
   "pygments_lexer": "ipython3",
   "version": "3.9.8"
  }
 },
 "nbformat": 4,
 "nbformat_minor": 5
}

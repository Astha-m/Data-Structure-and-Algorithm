{
 "cells": [
  {
   "cell_type": "code",
   "execution_count": 1,
   "id": "2af6301c",
   "metadata": {},
   "outputs": [],
   "source": [
    "def two_stacks_array():\n",
    "    n=int(input())\n",
    "    arr=[]\n",
    "    size=100\n",
    "    length1=0\n",
    "    length2=0\n",
    "    for i in range(n):\n",
    "        strg=list(input().split())\n",
    "        if(strg[0]=='push'):\n",
    "            if(length1+length2<100):\n",
    "                if(strg[1]=='1'):\n",
    "                    arr.insert(0,int(strg[2]))\n",
    "                    length1+=1\n",
    "                else:\n",
    "                    arr.append(int(strg[2]))\n",
    "                    length2+=1\n",
    "            else:\n",
    "                print(\"no more push operations\")\n",
    "        elif(strg[0]=='pop'):\n",
    "            if(strg[1]=='1'):\n",
    "                if(length1>0):\n",
    "                    arr.pop(0)\n",
    "                    length1-=1\n",
    "                else:\n",
    "                    print('can not pop anymore')\n",
    "            else:\n",
    "                if(length2>0):\n",
    "                    arr.pop(0)\n",
    "                    length2-=1\n",
    "                else:\n",
    "                    print('can not pop anymore')\n",
    "        elif(strg[0]=='size'):\n",
    "            if(strg[1]=='1'):\n",
    "                print('length of 1= ',length1)\n",
    "            else:\n",
    "                print('length of 2= ',length2)\n",
    "        elif(strg[0]=='top'):\n",
    "            if(strg[1]=='1'):\n",
    "                if(length1>0):\n",
    "                    print('top element of 1= ',arr[0])\n",
    "                else:\n",
    "                    print('no elements of 1')\n",
    "            else:\n",
    "                if(length2>0):\n",
    "                    print('top element of 2= ',arr[-1])\n",
    "                else:\n",
    "                    print('no element of 2')\n",
    "        "
   ]
  },
  {
   "cell_type": "code",
   "execution_count": 2,
   "id": "69a46809",
   "metadata": {},
   "outputs": [
    {
     "name": "stdout",
     "output_type": "stream",
     "text": [
      "10\n",
      "push 1 10\n",
      "push 2 20\n",
      "pop 1\n",
      "pop 2\n",
      "size 1\n",
      "length of 1=  0\n",
      "size 2\n",
      "length of 2=  0\n",
      "push 1 10\n",
      "push 2 20\n",
      "top 1\n",
      "top element of 1=  10\n",
      "top 2\n",
      "top element of 2=  20\n"
     ]
    }
   ],
   "source": [
    "two_stacks_array()"
   ]
  },
  {
   "cell_type": "code",
   "execution_count": null,
   "id": "2e7cc2de",
   "metadata": {},
   "outputs": [],
   "source": []
  }
 ],
 "metadata": {
  "kernelspec": {
   "display_name": "Python 3 (ipykernel)",
   "language": "python",
   "name": "python3"
  },
  "language_info": {
   "codemirror_mode": {
    "name": "ipython",
    "version": 3
   },
   "file_extension": ".py",
   "mimetype": "text/x-python",
   "name": "python",
   "nbconvert_exporter": "python",
   "pygments_lexer": "ipython3",
   "version": "3.9.8"
  }
 },
 "nbformat": 4,
 "nbformat_minor": 5
}

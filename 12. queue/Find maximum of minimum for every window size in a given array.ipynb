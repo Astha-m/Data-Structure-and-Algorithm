{
 "cells": [
  {
   "cell_type": "code",
   "execution_count": 1,
   "id": "14256299",
   "metadata": {},
   "outputs": [
    {
     "data": {
      "text/plain": [
       "'\\nhttps://www.geeksforgeeks.org/find-the-maximum-of-minimums-for-every-window-size-in-a-given-array/\\n\\n'"
      ]
     },
     "execution_count": 1,
     "metadata": {},
     "output_type": "execute_result"
    }
   ],
   "source": [
    "'''\n",
    "https://www.geeksforgeeks.org/find-the-maximum-of-minimums-for-every-window-size-in-a-given-array/\n",
    "\n",
    "'''"
   ]
  },
  {
   "cell_type": "code",
   "execution_count": 7,
   "id": "c9bb368a",
   "metadata": {},
   "outputs": [],
   "source": [
    "def next_smaller(arr):\n",
    "    res=[]\n",
    "    stack=[]\n",
    "    for i in range(len(arr)-1,-1,-1):\n",
    "        while(stack and arr[stack[-1]]>=arr[i]):\n",
    "            stack.pop()\n",
    "        \n",
    "        if(stack):\n",
    "            res.append(stack[-1])\n",
    "        else:\n",
    "            res.append(len(arr))\n",
    "        stack.append(i)\n",
    "    return res[::-1]\n",
    "\n",
    "\n",
    "def previous_smaller(arr):\n",
    "    res=[]\n",
    "    stack=[]\n",
    "    for i in range(len(arr)):\n",
    "        while(stack and arr[stack[-1]]>=arr[i]):\n",
    "            stack.pop()\n",
    "        \n",
    "        if(stack):\n",
    "            res.append(stack[-1])\n",
    "        else:\n",
    "            res.append(-1)\n",
    "        stack.append(i)\n",
    "    return res"
   ]
  },
  {
   "cell_type": "code",
   "execution_count": 10,
   "id": "6a6e89a2",
   "metadata": {},
   "outputs": [],
   "source": [
    "def maxi_mini(arr):\n",
    "    #step-1\n",
    "    left=previous_smaller(arr)\n",
    "    right=next_smaller(arr)\n",
    "    \n",
    "    print(left)\n",
    "    print(right)\n",
    "    \n",
    "    #step-2\n",
    "    ans=[0]*(len(arr)+1)\n",
    "    for i in range(len(arr)):\n",
    "        length=right[i]-left[i]-1\n",
    "        \n",
    "        ans[length]=max(ans[length],arr[i])\n",
    "        \n",
    "    # step-3\n",
    "    \n",
    "    for i in range(len(arr)-1,0,-1):\n",
    "        ans[i]=max(ans[i],ans[i+1])\n",
    "    return ans"
   ]
  },
  {
   "cell_type": "code",
   "execution_count": 11,
   "id": "5f4993fb",
   "metadata": {},
   "outputs": [
    {
     "name": "stdout",
     "output_type": "stream",
     "text": [
      "[-1, 0, 1, 2, -1, 4, 4]\n",
      "[7, 4, 4, 4, 7, 6, 7]\n"
     ]
    },
    {
     "data": {
      "text/plain": [
       "[0, 70, 30, 20, 10, 10, 10, 10]"
      ]
     },
     "execution_count": 11,
     "metadata": {},
     "output_type": "execute_result"
    }
   ],
   "source": [
    "maxi_mini([10, 20, 30, 50, 10, 70, 30])"
   ]
  },
  {
   "cell_type": "code",
   "execution_count": null,
   "id": "5497fc52",
   "metadata": {},
   "outputs": [],
   "source": []
  }
 ],
 "metadata": {
  "kernelspec": {
   "display_name": "Python 3 (ipykernel)",
   "language": "python",
   "name": "python3"
  },
  "language_info": {
   "codemirror_mode": {
    "name": "ipython",
    "version": 3
   },
   "file_extension": ".py",
   "mimetype": "text/x-python",
   "name": "python",
   "nbconvert_exporter": "python",
   "pygments_lexer": "ipython3",
   "version": "3.9.8"
  }
 },
 "nbformat": 4,
 "nbformat_minor": 5
}

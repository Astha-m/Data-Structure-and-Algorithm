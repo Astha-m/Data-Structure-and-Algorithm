{
 "cells": [
  {
   "cell_type": "code",
   "execution_count": null,
   "id": "1bb429d2",
   "metadata": {},
   "outputs": [],
   "source": [
    "'''\n",
    "https://www.geeksforgeeks.org/the-celebrity-problem/\n",
    "\n",
    "'''"
   ]
  },
  {
   "cell_type": "code",
   "execution_count": 1,
   "id": "dac1c007",
   "metadata": {},
   "outputs": [],
   "source": [
    "def find_the_celeb(knows,n):\n",
    "    celebrity=0\n",
    "    for i in range(1,n):\n",
    "        if(knows[celebrity][i]):\n",
    "            celebrity=i\n",
    "    \n",
    "    for i in range(n):\n",
    "        if(i!=celebrity and (knows[celebrity][i] or not knows[i][celebrity])):\n",
    "            return -1\n",
    "    return celebrity"
   ]
  },
  {
   "cell_type": "code",
   "execution_count": 2,
   "id": "c19f7601",
   "metadata": {},
   "outputs": [
    {
     "data": {
      "text/plain": [
       "2"
      ]
     },
     "execution_count": 2,
     "metadata": {},
     "output_type": "execute_result"
    }
   ],
   "source": [
    "find_the_celeb([[0, 0, 1, 0],\n",
    "               [0, 0, 1, 0],\n",
    "               [0, 0, 0, 0],\n",
    "               [0, 0, 1, 0]],4)"
   ]
  },
  {
   "cell_type": "code",
   "execution_count": null,
   "id": "088033d9",
   "metadata": {},
   "outputs": [],
   "source": []
  }
 ],
 "metadata": {
  "kernelspec": {
   "display_name": "Python 3 (ipykernel)",
   "language": "python",
   "name": "python3"
  },
  "language_info": {
   "codemirror_mode": {
    "name": "ipython",
    "version": 3
   },
   "file_extension": ".py",
   "mimetype": "text/x-python",
   "name": "python",
   "nbconvert_exporter": "python",
   "pygments_lexer": "ipython3",
   "version": "3.9.8"
  }
 },
 "nbformat": 4,
 "nbformat_minor": 5
}

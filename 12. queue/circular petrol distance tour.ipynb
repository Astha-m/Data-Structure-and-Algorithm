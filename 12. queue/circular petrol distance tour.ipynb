{
 "cells": [
  {
   "cell_type": "code",
   "execution_count": 1,
   "id": "911ee9f3",
   "metadata": {},
   "outputs": [],
   "source": [
    "def first_petrol_tour(petrol,distance,n):\n",
    "    start=0\n",
    "    current=0\n",
    "    prev=0\n",
    "    for i in range(n):\n",
    "        current+=petrol[i]-distance[i]\n",
    "        if(current<0):\n",
    "            start=i+1\n",
    "            prev+=current\n",
    "            current=0\n",
    "            \n",
    "    if(current+prev>=0):\n",
    "        return start+1\n",
    "    else:\n",
    "        return -1"
   ]
  },
  {
   "cell_type": "code",
   "execution_count": 2,
   "id": "bf445a82",
   "metadata": {},
   "outputs": [
    {
     "data": {
      "text/plain": [
       "4"
      ]
     },
     "execution_count": 2,
     "metadata": {},
     "output_type": "execute_result"
    }
   ],
   "source": [
    "first_petrol_tour([50,10,60,100],[30,20,100,10],4)"
   ]
  },
  {
   "cell_type": "code",
   "execution_count": null,
   "id": "bb563481",
   "metadata": {},
   "outputs": [],
   "source": []
  }
 ],
 "metadata": {
  "kernelspec": {
   "display_name": "Python 3 (ipykernel)",
   "language": "python",
   "name": "python3"
  },
  "language_info": {
   "codemirror_mode": {
    "name": "ipython",
    "version": 3
   },
   "file_extension": ".py",
   "mimetype": "text/x-python",
   "name": "python",
   "nbconvert_exporter": "python",
   "pygments_lexer": "ipython3",
   "version": "3.9.8"
  }
 },
 "nbformat": 4,
 "nbformat_minor": 5
}

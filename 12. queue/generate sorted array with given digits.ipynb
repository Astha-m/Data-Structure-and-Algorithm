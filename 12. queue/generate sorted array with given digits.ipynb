{
 "cells": [
  {
   "cell_type": "code",
   "execution_count": 1,
   "id": "aba51f48",
   "metadata": {},
   "outputs": [],
   "source": [
    "def generate(digits,n):\n",
    "    count=0\n",
    "    digits.sort()\n",
    "    queue=[]\n",
    "    for i in digits:\n",
    "        queue.append(i)\n",
    "    \n",
    "    while(queue):\n",
    "        curr=queue.pop(0)\n",
    "        print(curr)\n",
    "        count+=1\n",
    "        for i in digits:\n",
    "            queue.append(curr*10+i)\n",
    "        \n",
    "        if(count<n):\n",
    "            continue\n",
    "        else:\n",
    "            break"
   ]
  },
  {
   "cell_type": "code",
   "execution_count": 2,
   "id": "90fa1080",
   "metadata": {},
   "outputs": [
    {
     "name": "stdout",
     "output_type": "stream",
     "text": [
      "1\n",
      "2\n",
      "3\n",
      "11\n",
      "12\n",
      "13\n",
      "21\n",
      "22\n",
      "23\n",
      "31\n"
     ]
    }
   ],
   "source": [
    "generate([1,2,3],10)"
   ]
  },
  {
   "cell_type": "code",
   "execution_count": null,
   "id": "12aea474",
   "metadata": {},
   "outputs": [],
   "source": []
  }
 ],
 "metadata": {
  "kernelspec": {
   "display_name": "Python 3 (ipykernel)",
   "language": "python",
   "name": "python3"
  },
  "language_info": {
   "codemirror_mode": {
    "name": "ipython",
    "version": 3
   },
   "file_extension": ".py",
   "mimetype": "text/x-python",
   "name": "python",
   "nbconvert_exporter": "python",
   "pygments_lexer": "ipython3",
   "version": "3.9.8"
  }
 },
 "nbformat": 4,
 "nbformat_minor": 5
}

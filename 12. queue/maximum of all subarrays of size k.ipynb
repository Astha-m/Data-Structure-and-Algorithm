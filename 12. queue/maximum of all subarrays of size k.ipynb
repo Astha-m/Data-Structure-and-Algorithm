{
 "cells": [
  {
   "cell_type": "code",
   "execution_count": 1,
   "id": "4e3406a3",
   "metadata": {},
   "outputs": [],
   "source": [
    "def maximum_of_subarrayK(arr,k):\n",
    "    stack=[]\n",
    "    for i in range(k):\n",
    "        while(stack and arr[stack[-1]]<=arr[i]):\n",
    "            stack.pop()\n",
    "        \n",
    "        stack.append(i)\n",
    "    \n",
    "    print(arr[stack[0]])\n",
    "    for i in range(k,len(arr)):\n",
    "        while(stack and stack[0]<=i-k):\n",
    "            stack.pop(0)\n",
    "        while(stack and arr[stack[-1]]<=arr[i]):\n",
    "            stack.pop()\n",
    "        stack.append(i)\n",
    "        print(arr[stack[0]])\n",
    "    "
   ]
  },
  {
   "cell_type": "code",
   "execution_count": 4,
   "id": "d7c063ec",
   "metadata": {},
   "outputs": [
    {
     "name": "stdout",
     "output_type": "stream",
     "text": [
      "20\n",
      "8\n",
      "15\n"
     ]
    }
   ],
   "source": [
    "maximum_of_subarrayK([20,5,3,8,6,15],4)"
   ]
  },
  {
   "cell_type": "code",
   "execution_count": null,
   "id": "b46f5cc1",
   "metadata": {},
   "outputs": [],
   "source": []
  }
 ],
 "metadata": {
  "kernelspec": {
   "display_name": "Python 3 (ipykernel)",
   "language": "python",
   "name": "python3"
  },
  "language_info": {
   "codemirror_mode": {
    "name": "ipython",
    "version": 3
   },
   "file_extension": ".py",
   "mimetype": "text/x-python",
   "name": "python",
   "nbconvert_exporter": "python",
   "pygments_lexer": "ipython3",
   "version": "3.9.8"
  }
 },
 "nbformat": 4,
 "nbformat_minor": 5
}

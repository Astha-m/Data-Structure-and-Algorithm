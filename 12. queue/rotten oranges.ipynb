{
 "cells": [
  {
   "cell_type": "code",
   "execution_count": 1,
   "id": "fe7e7ca1",
   "metadata": {},
   "outputs": [
    {
     "data": {
      "text/plain": [
       "'\\nhttps://leetcode.com/problems/rotting-oranges/\\n\\n'"
      ]
     },
     "execution_count": 1,
     "metadata": {},
     "output_type": "execute_result"
    }
   ],
   "source": [
    "'''\n",
    "https://leetcode.com/problems/rotting-oranges/\n",
    "\n",
    "'''"
   ]
  },
  {
   "cell_type": "code",
   "execution_count": 9,
   "id": "9dc3a379",
   "metadata": {},
   "outputs": [],
   "source": [
    "def rotten_oranges(grid):\n",
    "    \n",
    "    rows=len(grid)\n",
    "    cols=len(grid[0])\n",
    "    \n",
    "    queue=[]\n",
    "    fresh=0\n",
    "    for i in range(rows):\n",
    "        for j in range(cols):\n",
    "            if(grid[i][j]==2):\n",
    "                queue.append([i,j,0])\n",
    "            elif(grid[i][j]==1):\n",
    "                fresh+=1\n",
    "    \n",
    "    dr=[0,0,1,-1]\n",
    "    dc=[1,-1,0,0]\n",
    "    \n",
    "    ans=0\n",
    "    \n",
    "    while(queue):\n",
    "        x,y,time=queue.pop(0)\n",
    "        ans=max(ans,time)\n",
    "        \n",
    "        for i in range(4):\n",
    "            currx=x+dr[i]\n",
    "            curry=y+dc[i]\n",
    "            \n",
    "            if(currx<0 or curry<0 or currx>=rows or curry>=cols or grid[currx][curry] in [2,0]):\n",
    "                continue\n",
    "            \n",
    "            grid[currx][curry]=2\n",
    "            queue.append([currx,curry,time+1])\n",
    "            fresh-=1\n",
    "            \n",
    "    print(ans,fresh)\n",
    "    if(fresh<=0):\n",
    "        return ans\n",
    "    return -1"
   ]
  },
  {
   "cell_type": "code",
   "execution_count": 11,
   "id": "51cef5df",
   "metadata": {},
   "outputs": [
    {
     "name": "stdout",
     "output_type": "stream",
     "text": [
      "4 0\n"
     ]
    },
    {
     "data": {
      "text/plain": [
       "4"
      ]
     },
     "execution_count": 11,
     "metadata": {},
     "output_type": "execute_result"
    }
   ],
   "source": [
    "rotten_oranges([[2,1,1],[1,1,0],[0,1,1]])"
   ]
  },
  {
   "cell_type": "code",
   "execution_count": null,
   "id": "0f468843",
   "metadata": {},
   "outputs": [],
   "source": []
  }
 ],
 "metadata": {
  "kernelspec": {
   "display_name": "Python 3 (ipykernel)",
   "language": "python",
   "name": "python3"
  },
  "language_info": {
   "codemirror_mode": {
    "name": "ipython",
    "version": 3
   },
   "file_extension": ".py",
   "mimetype": "text/x-python",
   "name": "python",
   "nbconvert_exporter": "python",
   "pygments_lexer": "ipython3",
   "version": "3.9.8"
  }
 },
 "nbformat": 4,
 "nbformat_minor": 5
}

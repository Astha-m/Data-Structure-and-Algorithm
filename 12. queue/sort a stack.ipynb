{
 "cells": [
  {
   "cell_type": "code",
   "execution_count": 1,
   "id": "41d9f207",
   "metadata": {},
   "outputs": [
    {
     "data": {
      "text/plain": [
       "'\\nyou have to sort the stack...without using any loop\\nyou can only use:-\\n\\n\\nis_empty(S)  : Tests whether stack is empty or not.\\npush(S)         : Adds new element to the stack.\\npop(S)         : Removes top element from the stack.\\ntop(S)         : Returns value of the top element. Note that this\\n               function does not remove element from the stack.\\n\\n\\n'"
      ]
     },
     "execution_count": 1,
     "metadata": {},
     "output_type": "execute_result"
    }
   ],
   "source": [
    "'''\n",
    "you have to sort the stack...without using any loop\n",
    "you can only use:-\n",
    "\n",
    "\n",
    "is_empty(S)  : Tests whether stack is empty or not.\n",
    "push(S)         : Adds new element to the stack.\n",
    "pop(S)         : Removes top element from the stack.\n",
    "top(S)         : Returns value of the top element. Note that this\n",
    "               function does not remove element from the stack.\n",
    "\n",
    "\n",
    "'''\n",
    "\n"
   ]
  },
  {
   "cell_type": "code",
   "execution_count": 4,
   "id": "4efa60a4",
   "metadata": {},
   "outputs": [],
   "source": [
    "# helpers:-----\n",
    "\n",
    "def isempty(s):\n",
    "    if(len(s)==0):\n",
    "        return True\n",
    "    return False\n",
    "\n",
    "def push(s,x):\n",
    "    s.append(x)\n",
    "    \n",
    "def pop(s):\n",
    "    if(not isempty(s)):\n",
    "        return s.pop()\n",
    "\n",
    "def top(s):\n",
    "    if(not isempty(s)):\n",
    "        return s[-1]\n",
    "    \n",
    "\n",
    "    \n",
    "    "
   ]
  },
  {
   "cell_type": "code",
   "execution_count": 5,
   "id": "8b7f8e4b",
   "metadata": {},
   "outputs": [],
   "source": [
    "def sorted_insert(s,x):\n",
    "    if(isempty(s) or x>s[-1]):\n",
    "        push(s,x)\n",
    "    else:\n",
    "        temp=pop(s)\n",
    "        sorted_insert(s,x)\n",
    "        push(s,temp)\n",
    "\n",
    "\n",
    "def sort_stack(s):\n",
    "    if(not isempty(s)):\n",
    "        temp=pop(s)\n",
    "        sort_stack(s)\n",
    "        sorted_insert(s,temp)\n",
    "    return s"
   ]
  },
  {
   "cell_type": "code",
   "execution_count": 6,
   "id": "eaea362c",
   "metadata": {},
   "outputs": [
    {
     "data": {
      "text/plain": [
       "[-5, -3, 14, 18, 30]"
      ]
     },
     "execution_count": 6,
     "metadata": {},
     "output_type": "execute_result"
    }
   ],
   "source": [
    "sort_stack([-3,14,18,-5,30])"
   ]
  },
  {
   "cell_type": "code",
   "execution_count": null,
   "id": "7c2957fc",
   "metadata": {},
   "outputs": [],
   "source": []
  }
 ],
 "metadata": {
  "kernelspec": {
   "display_name": "Python 3 (ipykernel)",
   "language": "python",
   "name": "python3"
  },
  "language_info": {
   "codemirror_mode": {
    "name": "ipython",
    "version": 3
   },
   "file_extension": ".py",
   "mimetype": "text/x-python",
   "name": "python",
   "nbconvert_exporter": "python",
   "pygments_lexer": "ipython3",
   "version": "3.9.8"
  }
 },
 "nbformat": 4,
 "nbformat_minor": 5
}

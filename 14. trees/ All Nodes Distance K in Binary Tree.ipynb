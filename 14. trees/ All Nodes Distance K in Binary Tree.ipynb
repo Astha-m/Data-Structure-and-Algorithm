{
 "cells": [
  {
   "cell_type": "code",
   "execution_count": 1,
   "id": "f32d9461",
   "metadata": {},
   "outputs": [
    {
     "data": {
      "text/plain": [
       "'\\nhttps://leetcode.com/problems/all-nodes-distance-k-in-binary-tree/\\n'"
      ]
     },
     "execution_count": 1,
     "metadata": {},
     "output_type": "execute_result"
    }
   ],
   "source": [
    "'''\n",
    "https://leetcode.com/problems/all-nodes-distance-k-in-binary-tree/\n",
    "'''"
   ]
  },
  {
   "cell_type": "code",
   "execution_count": 2,
   "id": "ae1b4b30",
   "metadata": {},
   "outputs": [],
   "source": [
    "class Treenode:\n",
    "    def __init__(self,key):\n",
    "        self.key=key\n",
    "        self.left=None\n",
    "        self.right=None"
   ]
  },
  {
   "cell_type": "code",
   "execution_count": 3,
   "id": "ecf68cb8",
   "metadata": {},
   "outputs": [],
   "source": [
    "root=Treenode(3)\n",
    "root.left=Treenode(5)\n",
    "root.left.left=Treenode(6)\n",
    "root.left.right=Treenode(2)\n",
    "root.left.right.left=Treenode(7)\n",
    "root.left.right.right=Treenode(4)\n",
    "root.right=Treenode(1)\n",
    "root.right.right=Treenode(8)\n",
    "root.right.left=Treenode(0)"
   ]
  },
  {
   "cell_type": "code",
   "execution_count": 11,
   "id": "60b3a1bf",
   "metadata": {},
   "outputs": [
    {
     "name": "stdout",
     "output_type": "stream",
     "text": [
      "defaultdict(<class 'list'>, {5: [6, 3, 2], 6: [5], 3: [5, -1, 1], 2: [7, 5, 4], 7: [2], 4: [2], -1: [3], 1: [0, 3, 8], 0: [1], 8: [1]})\n",
      "[1, 7, 4]\n"
     ]
    }
   ],
   "source": [
    "from collections import defaultdict\n",
    "\n",
    "def dfs(d,source,visited,count,lst):\n",
    "    visited.add(source)\n",
    "    if(source==-1):\n",
    "        return\n",
    "    if(count==0):\n",
    "        lst.append(source)\n",
    "        return\n",
    "    \n",
    "    for j in d[source]:\n",
    "        if(j not in visited):\n",
    "            dfs(d,j,visited,count-1,lst)\n",
    "    \n",
    "\n",
    "def all_nodes_k(root,x,k):\n",
    "    d=defaultdict(list)\n",
    "    def traverse(root,parent):\n",
    "        nonlocal d\n",
    "        if(root==None):\n",
    "            return\n",
    "        traverse(root.left,root.key)\n",
    "        d[parent].append(root.key)\n",
    "        d[root.key].append(parent)\n",
    "        \n",
    "        traverse(root.right,root.key)\n",
    "    traverse(root,-1)\n",
    "    print(d)\n",
    "    lst=[]\n",
    "    visited=set()\n",
    "    dfs(d,x,visited,k,lst)\n",
    "    print(lst)\n",
    "all_nodes_k(root,5,2)"
   ]
  },
  {
   "cell_type": "code",
   "execution_count": null,
   "id": "7f525013",
   "metadata": {},
   "outputs": [],
   "source": []
  }
 ],
 "metadata": {
  "kernelspec": {
   "display_name": "Python 3 (ipykernel)",
   "language": "python",
   "name": "python3"
  },
  "language_info": {
   "codemirror_mode": {
    "name": "ipython",
    "version": 3
   },
   "file_extension": ".py",
   "mimetype": "text/x-python",
   "name": "python",
   "nbconvert_exporter": "python",
   "pygments_lexer": "ipython3",
   "version": "3.9.8"
  }
 },
 "nbformat": 4,
 "nbformat_minor": 5
}

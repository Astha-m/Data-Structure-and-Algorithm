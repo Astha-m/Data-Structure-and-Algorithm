{
 "cells": [
  {
   "cell_type": "code",
   "execution_count": 1,
   "id": "3d521bcb",
   "metadata": {},
   "outputs": [
    {
     "data": {
      "text/plain": [
       "'\\nhttps://leetcode.com/problems/binary-tree-pruning/\\n'"
      ]
     },
     "execution_count": 1,
     "metadata": {},
     "output_type": "execute_result"
    }
   ],
   "source": [
    "'''\n",
    "https://leetcode.com/problems/binary-tree-pruning/\n",
    "'''"
   ]
  },
  {
   "cell_type": "code",
   "execution_count": 2,
   "id": "e956b7b6",
   "metadata": {},
   "outputs": [],
   "source": [
    "class Treenode:\n",
    "    def __init__(self,key):\n",
    "        self.key=key\n",
    "        self.left=None\n",
    "        self.right=None\n",
    "        "
   ]
  },
  {
   "cell_type": "code",
   "execution_count": 3,
   "id": "14d10492",
   "metadata": {},
   "outputs": [],
   "source": [
    "root=Treenode(1)\n",
    "root.left=Treenode(0)\n",
    "root.left.left=Treenode(0)\n",
    "root.left.right=Treenode(0)\n",
    "root.right=Treenode(1)\n",
    "root.right.right=Treenode(1)\n",
    "root.right.left=Treenode(0)"
   ]
  },
  {
   "cell_type": "code",
   "execution_count": 5,
   "id": "877e1b60",
   "metadata": {},
   "outputs": [],
   "source": [
    "def pruning(root):\n",
    "    \n",
    "    def inorder(root):\n",
    "        if(root==None):\n",
    "            return 0\n",
    "        ls=inorder(root.left)\n",
    "        rs=inorder(root.right)\n",
    "        \n",
    "        if(ls==0):\n",
    "            root.left=None\n",
    "        if(rs==0):\n",
    "            root.right=None\n",
    "            \n",
    "        return ls | rs | root.key\n",
    "    \n",
    "    if(inorder(root)==0):\n",
    "        return 0\n",
    "    return root\n",
    "rt=pruning(root)"
   ]
  },
  {
   "cell_type": "code",
   "execution_count": 6,
   "id": "514d389b",
   "metadata": {},
   "outputs": [
    {
     "name": "stdout",
     "output_type": "stream",
     "text": [
      "1\n",
      "1\n",
      "1\n"
     ]
    }
   ],
   "source": [
    "def traverse(root):\n",
    "    if(root==None):\n",
    "        return\n",
    "    traverse(root.left)\n",
    "    print(root.key)\n",
    "    traverse(root.right)\n",
    "    \n",
    "traverse(rt)"
   ]
  },
  {
   "cell_type": "code",
   "execution_count": null,
   "id": "f0e34c46",
   "metadata": {},
   "outputs": [],
   "source": []
  }
 ],
 "metadata": {
  "kernelspec": {
   "display_name": "Python 3 (ipykernel)",
   "language": "python",
   "name": "python3"
  },
  "language_info": {
   "codemirror_mode": {
    "name": "ipython",
    "version": 3
   },
   "file_extension": ".py",
   "mimetype": "text/x-python",
   "name": "python",
   "nbconvert_exporter": "python",
   "pygments_lexer": "ipython3",
   "version": "3.9.8"
  }
 },
 "nbformat": 4,
 "nbformat_minor": 5
}

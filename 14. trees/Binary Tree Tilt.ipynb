{
 "cells": [
  {
   "cell_type": "code",
   "execution_count": 1,
   "id": "22bfc99b",
   "metadata": {},
   "outputs": [
    {
     "data": {
      "text/plain": [
       "'\\nhttps://leetcode.com/problems/binary-tree-tilt/\\n\\n'"
      ]
     },
     "execution_count": 1,
     "metadata": {},
     "output_type": "execute_result"
    }
   ],
   "source": [
    "'''\n",
    "https://leetcode.com/problems/binary-tree-tilt/\n",
    "\n",
    "'''"
   ]
  },
  {
   "cell_type": "code",
   "execution_count": 2,
   "id": "1a9f142e",
   "metadata": {},
   "outputs": [],
   "source": [
    "class Treenode:\n",
    "    def __init__(self,key):\n",
    "        self.key=key\n",
    "        self.left=None\n",
    "        self.right=None\n",
    "        "
   ]
  },
  {
   "cell_type": "code",
   "execution_count": 3,
   "id": "5777d53e",
   "metadata": {},
   "outputs": [],
   "source": [
    "root=Treenode(4)\n",
    "root.left=Treenode(2)\n",
    "root.left.left=Treenode(3)\n",
    "root.left.right=Treenode(5)\n",
    "root.right=Treenode(9)\n",
    "root.right.right=Treenode(7)"
   ]
  },
  {
   "cell_type": "code",
   "execution_count": 4,
   "id": "9be3eccd",
   "metadata": {},
   "outputs": [],
   "source": [
    "def tilt(root):\n",
    "    lst=[]\n",
    "    \n",
    "    def traverse(root):\n",
    "        nonlocal lst\n",
    "        if(root==None):\n",
    "            return 0\n",
    "        \n",
    "        lv=traverse(root.left)\n",
    "        rv=traverse(root.right)\n",
    "        \n",
    "        lst.append(abs(lv-rv))\n",
    "        \n",
    "        return root.key+lv+rv\n",
    "    traverse(root)\n",
    "    return sum(lst)"
   ]
  },
  {
   "cell_type": "code",
   "execution_count": 5,
   "id": "9345460a",
   "metadata": {},
   "outputs": [
    {
     "data": {
      "text/plain": [
       "15"
      ]
     },
     "execution_count": 5,
     "metadata": {},
     "output_type": "execute_result"
    }
   ],
   "source": [
    "tilt(root)"
   ]
  },
  {
   "cell_type": "code",
   "execution_count": null,
   "id": "3597433b",
   "metadata": {},
   "outputs": [],
   "source": []
  }
 ],
 "metadata": {
  "kernelspec": {
   "display_name": "Python 3 (ipykernel)",
   "language": "python",
   "name": "python3"
  },
  "language_info": {
   "codemirror_mode": {
    "name": "ipython",
    "version": 3
   },
   "file_extension": ".py",
   "mimetype": "text/x-python",
   "name": "python",
   "nbconvert_exporter": "python",
   "pygments_lexer": "ipython3",
   "version": "3.9.8"
  }
 },
 "nbformat": 4,
 "nbformat_minor": 5
}

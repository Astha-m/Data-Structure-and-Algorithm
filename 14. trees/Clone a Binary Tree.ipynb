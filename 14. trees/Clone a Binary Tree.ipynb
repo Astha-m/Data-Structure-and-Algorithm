{
 "cells": [
  {
   "cell_type": "code",
   "execution_count": 1,
   "id": "15e7be8d",
   "metadata": {},
   "outputs": [
    {
     "data": {
      "text/plain": [
       "'\\nhttps://practice.geeksforgeeks.org/problems/clone-a-binary-tree/1?page=19&company[]=Amazon&sortBy=submissions\\n\\n\\n'"
      ]
     },
     "execution_count": 1,
     "metadata": {},
     "output_type": "execute_result"
    }
   ],
   "source": [
    "'''\n",
    "https://practice.geeksforgeeks.org/problems/clone-a-binary-tree/1?page=19&company[]=Amazon&sortBy=submissions\n",
    "\n",
    "\n",
    "'''"
   ]
  },
  {
   "cell_type": "code",
   "execution_count": null,
   "id": "a21f7f2a",
   "metadata": {},
   "outputs": [],
   "source": [
    "def cloneTree(self, tree):\n",
    "        \n",
    "    d=dict()\n",
    "    def traversal(tree):\n",
    "        if(tree==None):\n",
    "            return None\n",
    "\n",
    "        if(tree not in d):\n",
    "            root=Node(tree.data)\n",
    "            d[tree]=root\n",
    "        else:\n",
    "            return d[tree]\n",
    "\n",
    "        root.left=traversal(tree.left)\n",
    "        root.right=traversal(tree.right)\n",
    "        root.random=traversal(tree.random)\n",
    "        return root\n",
    "    return traversal(tree)"
   ]
  }
 ],
 "metadata": {
  "kernelspec": {
   "display_name": "Python 3 (ipykernel)",
   "language": "python",
   "name": "python3"
  },
  "language_info": {
   "codemirror_mode": {
    "name": "ipython",
    "version": 3
   },
   "file_extension": ".py",
   "mimetype": "text/x-python",
   "name": "python",
   "nbconvert_exporter": "python",
   "pygments_lexer": "ipython3",
   "version": "3.10.7"
  }
 },
 "nbformat": 4,
 "nbformat_minor": 5
}

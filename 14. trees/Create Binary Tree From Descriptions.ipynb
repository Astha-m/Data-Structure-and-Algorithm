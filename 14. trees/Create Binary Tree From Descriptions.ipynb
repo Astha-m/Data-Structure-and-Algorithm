{
 "cells": [
  {
   "cell_type": "code",
   "execution_count": 1,
   "id": "c8847320",
   "metadata": {},
   "outputs": [
    {
     "data": {
      "text/plain": [
       "'\\nhttps://leetcode.com/problems/create-binary-tree-from-descriptions/\\n'"
      ]
     },
     "execution_count": 1,
     "metadata": {},
     "output_type": "execute_result"
    }
   ],
   "source": [
    "'''\n",
    "https://leetcode.com/problems/create-binary-tree-from-descriptions/\n",
    "'''"
   ]
  },
  {
   "cell_type": "code",
   "execution_count": 2,
   "id": "07b1afbf",
   "metadata": {},
   "outputs": [],
   "source": [
    "class Treenode:\n",
    "    def __init__(self,key):\n",
    "        self.key=key\n",
    "        self.left=None\n",
    "        self.right=None"
   ]
  },
  {
   "cell_type": "code",
   "execution_count": 4,
   "id": "cadc3470",
   "metadata": {},
   "outputs": [],
   "source": [
    "from collections import defaultdict\n",
    "def btree_form(descriptions):\n",
    "    d=defaultdict(list)\n",
    "    rt=set()\n",
    "    for i in descriptions:\n",
    "        d[i[0]].append((i[1],i[2]))\n",
    "        rt.add(i[1])\n",
    "    root=-1\n",
    "    for i in d.keys():\n",
    "        if(i not in rt):\n",
    "            root=i\n",
    "    \n",
    "    def dfs(d,source):\n",
    "        root=Treenode(source)\n",
    "        for i in d[source]:\n",
    "            if(i[1]==1):\n",
    "                root.left=dfs(d,i[0])\n",
    "            else:\n",
    "                root.right=dfs(d,i[0])\n",
    "        return root\n",
    "        \n",
    "        \n",
    "    rt=dfs(d,root)\n",
    "    return rt\n",
    "    \n",
    "    \n",
    "root=btree_form([[20,15,1],[20,17,0],[50,20,1],[50,80,0],[80,19,1]])"
   ]
  },
  {
   "cell_type": "code",
   "execution_count": 5,
   "id": "5f0ec293",
   "metadata": {},
   "outputs": [
    {
     "name": "stdout",
     "output_type": "stream",
     "text": [
      "15\n",
      "20\n",
      "17\n",
      "50\n",
      "19\n",
      "80\n"
     ]
    }
   ],
   "source": [
    "def traverse(root):\n",
    "    if(root==None):\n",
    "        return\n",
    "    traverse(root.left)\n",
    "    print(root.key)\n",
    "    traverse(root.right)\n",
    "traverse(root)"
   ]
  },
  {
   "cell_type": "code",
   "execution_count": null,
   "id": "97d7712a",
   "metadata": {},
   "outputs": [],
   "source": []
  }
 ],
 "metadata": {
  "kernelspec": {
   "display_name": "Python 3 (ipykernel)",
   "language": "python",
   "name": "python3"
  },
  "language_info": {
   "codemirror_mode": {
    "name": "ipython",
    "version": 3
   },
   "file_extension": ".py",
   "mimetype": "text/x-python",
   "name": "python",
   "nbconvert_exporter": "python",
   "pygments_lexer": "ipython3",
   "version": "3.9.8"
  }
 },
 "nbformat": 4,
 "nbformat_minor": 5
}

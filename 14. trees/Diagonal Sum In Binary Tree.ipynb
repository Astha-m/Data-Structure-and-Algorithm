{
 "cells": [
  {
   "cell_type": "code",
   "execution_count": 1,
   "id": "424ce0fd",
   "metadata": {},
   "outputs": [
    {
     "data": {
      "text/plain": [
       "\"\\nhttps://practice.geeksforgeeks.org/problems/diagonal-sum-in-binary-tree/1?page=19&company[]=Amazon&sortBy=submissions\\n\\nConsider Red lines of slope -1 passing between nodes (in following diagram).\\nThe diagonal sum in a binary tree is the sum of all node’s data lying between \\nthese lines. Given a Binary Tree of size N, print all diagonal sums.\\n\\nFor the following input tree, output should be 9, 19, 42.\\n9 is sum of 1, 3 and 5.\\n19 is sum of 2, 6, 4 and 7.\\n42 is sum of 9, 10, 11 and 12.\\n\\nDiagonalSum\\n\\nExample 1:\\n\\nInput:\\n         4\\n       /         1     3\\n           /\\n          3\\nOutput: 7 4 \\nExample 2:\\n\\nInput:\\n           10\\n         /            8      2\\n       / \\\\    /\\n      3   5  2\\nOutput: 12 15 3 \\nYour Task:\\nYou don't need to take input. Just complete the function diagonalSum()\\nthat takes root node of the tree as parameter and returns an array \\ncontaining the diagonal sums for every diagonal present in the tree with slope -1.\\n\\nExpected Time Complexity: O(N).\\nExpected Auxiliary Space: O(N).\\n\\n\""
      ]
     },
     "execution_count": 1,
     "metadata": {},
     "output_type": "execute_result"
    }
   ],
   "source": [
    "'''\n",
    "https://practice.geeksforgeeks.org/problems/diagonal-sum-in-binary-tree/1?page=19&company[]=Amazon&sortBy=submissions\n",
    "\n",
    "Consider Red lines of slope -1 passing between nodes (in following diagram).\n",
    "The diagonal sum in a binary tree is the sum of all node’s data lying between \n",
    "these lines. Given a Binary Tree of size N, print all diagonal sums.\n",
    "\n",
    "For the following input tree, output should be 9, 19, 42.\n",
    "9 is sum of 1, 3 and 5.\n",
    "19 is sum of 2, 6, 4 and 7.\n",
    "42 is sum of 9, 10, 11 and 12.\n",
    "\n",
    "DiagonalSum\n",
    "\n",
    "Example 1:\n",
    "\n",
    "Input:\n",
    "         4\n",
    "       /   \\\n",
    "      1     3\n",
    "           /\n",
    "          3\n",
    "Output: 7 4 \n",
    "Example 2:\n",
    "\n",
    "Input:\n",
    "           10\n",
    "         /    \\\n",
    "        8      2\n",
    "       / \\    /\n",
    "      3   5  2\n",
    "Output: 12 15 3 \n",
    "Your Task:\n",
    "You don't need to take input. Just complete the function diagonalSum()\n",
    "that takes root node of the tree as parameter and returns an array \n",
    "containing the diagonal sums for every diagonal present in the tree with slope -1.\n",
    "\n",
    "Expected Time Complexity: O(N).\n",
    "Expected Auxiliary Space: O(N).\n",
    "\n",
    "'''"
   ]
  },
  {
   "cell_type": "code",
   "execution_count": null,
   "id": "4c2ca810",
   "metadata": {},
   "outputs": [],
   "source": [
    "def diagonalSum(root):\n",
    "    \n",
    "    res=[]\n",
    "    queue=[]\n",
    "    queue.append(root)\n",
    "    \n",
    "    while(queue):\n",
    "        count=len(queue)\n",
    "        total=0\n",
    "        for i in range(count):\n",
    "            curr=queue.pop(0)\n",
    "            while(curr):\n",
    "                if(curr.left):\n",
    "                    queue.append(curr.left)\n",
    "                total+=curr.data\n",
    "                curr=curr.right\n",
    "        res.append(total)\n",
    "    return res"
   ]
  }
 ],
 "metadata": {
  "kernelspec": {
   "display_name": "Python 3 (ipykernel)",
   "language": "python",
   "name": "python3"
  },
  "language_info": {
   "codemirror_mode": {
    "name": "ipython",
    "version": 3
   },
   "file_extension": ".py",
   "mimetype": "text/x-python",
   "name": "python",
   "nbconvert_exporter": "python",
   "pygments_lexer": "ipython3",
   "version": "3.10.7"
  }
 },
 "nbformat": 4,
 "nbformat_minor": 5
}

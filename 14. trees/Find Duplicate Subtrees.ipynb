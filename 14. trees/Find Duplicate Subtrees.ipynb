{
 "cells": [
  {
   "cell_type": "code",
   "execution_count": 1,
   "id": "8f732730",
   "metadata": {},
   "outputs": [],
   "source": [
    "class Treenode:\n",
    "    def __init__(self,key):\n",
    "        self.key=key\n",
    "        self.left=None\n",
    "        self.right=None\n"
   ]
  },
  {
   "cell_type": "code",
   "execution_count": 2,
   "id": "e3ed1b92",
   "metadata": {},
   "outputs": [],
   "source": [
    "root=Treenode(1)\n",
    "root.left=Treenode(2)\n",
    "root.left.left=Treenode(4)\n",
    "root.right=Treenode(3)\n",
    "root.right.left=Treenode(2)\n",
    "root.right.left.left=Treenode(4)\n",
    "root.right.right=Treenode(4)"
   ]
  },
  {
   "cell_type": "code",
   "execution_count": 7,
   "id": "87f98b37",
   "metadata": {},
   "outputs": [],
   "source": [
    "from collections import defaultdict\n",
    "def find_duplicate(root):\n",
    "    d=defaultdict(int)\n",
    "    ans=[]\n",
    "    def traverse(root):\n",
    "        nonlocal d,ans\n",
    "        path=''\n",
    "        if(root==None):\n",
    "            return 'None'\n",
    "        else:\n",
    "            path+=str(root.key)\n",
    "        \n",
    "        path+=traverse(root.left)\n",
    "        path+=traverse(root.right)\n",
    "        \n",
    "        d[path]+=1\n",
    "        if(d[path]==2):\n",
    "            ans.append(root)\n",
    "        return path\n",
    "    traverse(root)\n",
    "    return ans"
   ]
  },
  {
   "cell_type": "code",
   "execution_count": 8,
   "id": "6fa31868",
   "metadata": {},
   "outputs": [
    {
     "data": {
      "text/plain": [
       "[<__main__.Treenode at 0x163c6885490>, <__main__.Treenode at 0x163c6885700>]"
      ]
     },
     "execution_count": 8,
     "metadata": {},
     "output_type": "execute_result"
    }
   ],
   "source": [
    "find_duplicate(root)"
   ]
  },
  {
   "cell_type": "code",
   "execution_count": null,
   "id": "89095c19",
   "metadata": {},
   "outputs": [],
   "source": []
  }
 ],
 "metadata": {
  "kernelspec": {
   "display_name": "Python 3 (ipykernel)",
   "language": "python",
   "name": "python3"
  },
  "language_info": {
   "codemirror_mode": {
    "name": "ipython",
    "version": 3
   },
   "file_extension": ".py",
   "mimetype": "text/x-python",
   "name": "python",
   "nbconvert_exporter": "python",
   "pygments_lexer": "ipython3",
   "version": "3.9.8"
  }
 },
 "nbformat": 4,
 "nbformat_minor": 5
}

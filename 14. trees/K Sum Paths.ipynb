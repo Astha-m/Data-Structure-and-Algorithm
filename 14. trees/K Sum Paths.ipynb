{
 "cells": [
  {
   "cell_type": "code",
   "execution_count": 1,
   "id": "858bba6f",
   "metadata": {},
   "outputs": [
    {
     "data": {
      "text/plain": [
       "\"\\nhttps://practice.geeksforgeeks.org/problems/k-sum-paths/1?page=18&company[]=Amazon&sortBy=submissions\\n\\n\\nGiven a binary tree and an integer K. Find the number of paths in the tree which have their sum equal to K.\\nA path may start from any node and end at any node in the downward direction.\\n\\n\\nExample 1:\\n\\nInput:      \\nTree = \\n          1                               \\n        /   \\\\                          \\n       2     3\\nK = 3\\nOutput: 2\\nExplanation:\\nPath 1 : 1 + 2 = 3\\nPath 2 : only leaf node 3\\nExample 2:\\n\\nInput: \\nTree = \\n           1\\n        /           3        -1\\n    /   \\\\     /      2     1   4     5                        \\n        /   / \\\\     \\\\                    \\n       1   1   2     6    \\nK = 5                    \\nOutput: 8\\nExplanation:\\nThe following paths sum to K.  \\n3 2 \\n3 1 1 \\n1 3 1 \\n4 1 \\n1 -1 4 1 \\n-1 4 2 \\n5 \\n1 -1 5 \\n\\nYour Task:  \\nYou don't need to read input or print anything. Complete the function sumK() \\nwhich takes root node and integer K as input parameters and returns the number\\nof paths that have sum K. Since the answer may be very large, compute it modulo\\n109+7.\\n\\n\""
      ]
     },
     "execution_count": 1,
     "metadata": {},
     "output_type": "execute_result"
    }
   ],
   "source": [
    "'''\n",
    "https://practice.geeksforgeeks.org/problems/k-sum-paths/1?page=18&company[]=Amazon&sortBy=submissions\n",
    "\n",
    "\n",
    "Given a binary tree and an integer K. Find the number of paths in the tree which have their sum equal to K.\n",
    "A path may start from any node and end at any node in the downward direction.\n",
    "\n",
    "\n",
    "Example 1:\n",
    "\n",
    "Input:      \n",
    "Tree = \n",
    "          1                               \n",
    "        /   \\                          \n",
    "       2     3\n",
    "K = 3\n",
    "Output: 2\n",
    "Explanation:\n",
    "Path 1 : 1 + 2 = 3\n",
    "Path 2 : only leaf node 3\n",
    "Example 2:\n",
    "\n",
    "Input: \n",
    "Tree = \n",
    "           1\n",
    "        /     \\\n",
    "      3        -1\n",
    "    /   \\     /   \\\n",
    "   2     1   4     5                        \n",
    "        /   / \\     \\                    \n",
    "       1   1   2     6    \n",
    "K = 5                    \n",
    "Output: 8\n",
    "Explanation:\n",
    "The following paths sum to K.  \n",
    "3 2 \n",
    "3 1 1 \n",
    "1 3 1 \n",
    "4 1 \n",
    "1 -1 4 1 \n",
    "-1 4 2 \n",
    "5 \n",
    "1 -1 5 \n",
    "\n",
    "Your Task:  \n",
    "You don't need to read input or print anything. Complete the function sumK() \n",
    "which takes root node and integer K as input parameters and returns the number\n",
    "of paths that have sum K. Since the answer may be very large, compute it modulo\n",
    "109+7.\n",
    "\n",
    "'''"
   ]
  },
  {
   "cell_type": "code",
   "execution_count": null,
   "id": "931668b2",
   "metadata": {},
   "outputs": [],
   "source": [
    "class Solution:\n",
    "    def sumK(self,root,k):\n",
    "        ans=0\n",
    "        from collections import defaultdict\n",
    "        \n",
    "        def helper(root,k,prev,d):\n",
    "            \n",
    "            nonlocal ans\n",
    "            if(root==None):\n",
    "                return\n",
    "            \n",
    "            curr=prev+root.data\n",
    "            \n",
    "            if(curr==k):\n",
    "                ans+=1\n",
    "            if(curr-k in d):\n",
    "                ans+=d[curr-k]\n",
    "            \n",
    "            d[curr]+=1\n",
    "            helper(root.left,k,curr,d)\n",
    "            helper(root.right,k,curr,d)\n",
    "            d[curr]-=1\n",
    "        \n",
    "        \n",
    "        \n",
    "        \n",
    "        d=defaultdict(int)\n",
    "        \n",
    "        helper(root,k,0,d)\n",
    "        return ans"
   ]
  }
 ],
 "metadata": {
  "kernelspec": {
   "display_name": "Python 3 (ipykernel)",
   "language": "python",
   "name": "python3"
  },
  "language_info": {
   "codemirror_mode": {
    "name": "ipython",
    "version": 3
   },
   "file_extension": ".py",
   "mimetype": "text/x-python",
   "name": "python",
   "nbconvert_exporter": "python",
   "pygments_lexer": "ipython3",
   "version": "3.10.7"
  }
 },
 "nbformat": 4,
 "nbformat_minor": 5
}

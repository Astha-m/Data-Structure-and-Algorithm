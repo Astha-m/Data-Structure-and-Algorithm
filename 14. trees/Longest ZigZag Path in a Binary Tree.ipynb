{
 "cells": [
  {
   "cell_type": "code",
   "execution_count": null,
   "id": "bef2af7f",
   "metadata": {},
   "outputs": [],
   "source": [
    "'''\n",
    "https://leetcode.com/problems/longest-zigzag-path-in-a-binary-tree/\n",
    "'''"
   ]
  },
  {
   "cell_type": "code",
   "execution_count": null,
   "id": "321eee00",
   "metadata": {},
   "outputs": [],
   "source": [
    "class Solution:\n",
    "    def longestZigZag(self, root: Optional[TreeNode]) -> int:\n",
    "        \n",
    "        if(root==None):\n",
    "            return 0\n",
    "        res=0\n",
    "        \n",
    "        queue=[]\n",
    "        if(root.left):\n",
    "            queue.append((root.left,True,1))\n",
    "        if(root.right):\n",
    "            queue.append((root.right,False,1))\n",
    "        \n",
    "        while(queue):\n",
    "            curr,isLeft,depth=queue.pop(0)\n",
    "            res=max(res,depth)\n",
    "            if(isLeft==True):\n",
    "                if(curr.right):\n",
    "                    queue.append((curr.right,False,depth+1))\n",
    "                if(curr.left):\n",
    "                    queue.append((curr.left,True,1))\n",
    "            else:\n",
    "                if(curr.left):\n",
    "                    queue.append((curr.left,True,depth+1))\n",
    "                if(curr.right):\n",
    "                    queue.append((curr.right,False,1))\n",
    "        return res"
   ]
  }
 ],
 "metadata": {
  "kernelspec": {
   "display_name": "Python 3 (ipykernel)",
   "language": "python",
   "name": "python3"
  },
  "language_info": {
   "codemirror_mode": {
    "name": "ipython",
    "version": 3
   },
   "file_extension": ".py",
   "mimetype": "text/x-python",
   "name": "python",
   "nbconvert_exporter": "python",
   "pygments_lexer": "ipython3",
   "version": "3.9.8"
  }
 },
 "nbformat": 4,
 "nbformat_minor": 5
}

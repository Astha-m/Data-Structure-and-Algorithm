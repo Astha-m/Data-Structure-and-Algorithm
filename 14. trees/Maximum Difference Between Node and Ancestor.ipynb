{
 "cells": [
  {
   "cell_type": "code",
   "execution_count": 1,
   "id": "4c12d275",
   "metadata": {},
   "outputs": [
    {
     "data": {
      "text/plain": [
       "'\\nhttps://leetcode.com/problems/maximum-difference-between-node-and-ancestor/\\n'"
      ]
     },
     "execution_count": 1,
     "metadata": {},
     "output_type": "execute_result"
    }
   ],
   "source": [
    "'''\n",
    "https://leetcode.com/problems/maximum-difference-between-node-and-ancestor/\n",
    "'''"
   ]
  },
  {
   "cell_type": "code",
   "execution_count": 2,
   "id": "59cf482f",
   "metadata": {},
   "outputs": [],
   "source": [
    "class Treenode:\n",
    "    def __init__(self,key):\n",
    "        self.key=key\n",
    "        self.left=None\n",
    "        self.right=None"
   ]
  },
  {
   "cell_type": "code",
   "execution_count": 3,
   "id": "f68d2b05",
   "metadata": {},
   "outputs": [],
   "source": [
    "root=Treenode(8)\n",
    "root.left=Treenode(3)\n",
    "root.left.left=Treenode(1)\n",
    "root.left.right=Treenode(6)\n",
    "root.left.right.left=Treenode(4)\n",
    "root.left.right.right=Treenode(7)\n",
    "root.right=Treenode(10)\n",
    "root.right.right=Treenode(14)\n",
    "root.right.right.left=Treenode(13)"
   ]
  },
  {
   "cell_type": "code",
   "execution_count": 5,
   "id": "17345483",
   "metadata": {},
   "outputs": [
    {
     "data": {
      "text/plain": [
       "7"
      ]
     },
     "execution_count": 5,
     "metadata": {},
     "output_type": "execute_result"
    }
   ],
   "source": [
    "def question(root):\n",
    "    res=0\n",
    "    def traverse(root,maxi,mini):\n",
    "        nonlocal res\n",
    "        if(root==None):\n",
    "            return\n",
    "        if(root.key>maxi):\n",
    "            maxi=root.key\n",
    "        if(root.key<mini):\n",
    "            mini=root.key\n",
    "        res=max(res,maxi-mini)\n",
    "        traverse(root.left,maxi,mini)\n",
    "        traverse(root.right,maxi,mini)\n",
    "        \n",
    "    traverse(root,-float('inf'),float('inf'))\n",
    "    return res\n",
    "question(root)"
   ]
  },
  {
   "cell_type": "code",
   "execution_count": null,
   "id": "3a16c53f",
   "metadata": {},
   "outputs": [],
   "source": []
  }
 ],
 "metadata": {
  "kernelspec": {
   "display_name": "Python 3 (ipykernel)",
   "language": "python",
   "name": "python3"
  },
  "language_info": {
   "codemirror_mode": {
    "name": "ipython",
    "version": 3
   },
   "file_extension": ".py",
   "mimetype": "text/x-python",
   "name": "python",
   "nbconvert_exporter": "python",
   "pygments_lexer": "ipython3",
   "version": "3.9.8"
  }
 },
 "nbformat": 4,
 "nbformat_minor": 5
}

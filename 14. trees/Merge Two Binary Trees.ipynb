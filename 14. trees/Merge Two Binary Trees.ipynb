{
 "cells": [
  {
   "cell_type": "code",
   "execution_count": 1,
   "id": "6accbdee",
   "metadata": {},
   "outputs": [
    {
     "data": {
      "text/plain": [
       "'\\nhttps://leetcode.com/problems/merge-two-binary-trees/\\n'"
      ]
     },
     "execution_count": 1,
     "metadata": {},
     "output_type": "execute_result"
    }
   ],
   "source": [
    "'''\n",
    "https://leetcode.com/problems/merge-two-binary-trees/\n",
    "'''"
   ]
  },
  {
   "cell_type": "code",
   "execution_count": 2,
   "id": "fb26bc0a",
   "metadata": {},
   "outputs": [],
   "source": [
    "class Treenode:\n",
    "    def __init__(self,key):\n",
    "        self.key=key\n",
    "        self.left=None\n",
    "        self.right=None"
   ]
  },
  {
   "cell_type": "code",
   "execution_count": 3,
   "id": "6bad8ff6",
   "metadata": {},
   "outputs": [],
   "source": [
    "root1=Treenode(1)\n",
    "root1.left=Treenode(3)\n",
    "root1.left.left=Treenode(5)\n",
    "root1.right=Treenode(2)"
   ]
  },
  {
   "cell_type": "code",
   "execution_count": 4,
   "id": "82291a2c",
   "metadata": {},
   "outputs": [],
   "source": [
    "root2=Treenode(2)\n",
    "root2.left=Treenode(1)\n",
    "root2.left.right=Treenode(4)\n",
    "root2.right=Treenode(3)\n",
    "root2.right.right=Treenode(7)"
   ]
  },
  {
   "cell_type": "code",
   "execution_count": 5,
   "id": "0e348ebe",
   "metadata": {},
   "outputs": [],
   "source": [
    "def merger(root1,root2):\n",
    "    \n",
    "    def traverse(root1,root2):\n",
    "        if(root1==None and root2):\n",
    "            root1=Treenode(root2.key)\n",
    "            root1.left=traverse(None,root2.left)\n",
    "            root1.right=traverse(None,root2.right)\n",
    "        elif(root1 and root2==None):\n",
    "            root1.left=traverse(root1.left,None)\n",
    "            root1.right=traverse(root1.right,None)\n",
    "        elif(root1 and root2):\n",
    "            root1.key=root1.key+root2.key\n",
    "            root1.left=traverse(root1.left,root2.left)\n",
    "            root1.right=traverse(root1.right,root2.right)\n",
    "            \n",
    "        return root1\n",
    "            \n",
    "    if(root1==None and root2==None):\n",
    "        return None\n",
    "    else:\n",
    "        return traverse(root1,root2)\n",
    "root=merger(root1,root2)"
   ]
  },
  {
   "cell_type": "code",
   "execution_count": 6,
   "id": "156459a4",
   "metadata": {},
   "outputs": [
    {
     "name": "stdout",
     "output_type": "stream",
     "text": [
      "5\n",
      "4\n",
      "4\n",
      "3\n",
      "5\n",
      "7\n"
     ]
    }
   ],
   "source": [
    "def trav(root):\n",
    "    if(root==None):\n",
    "        return\n",
    "    trav(root.left)\n",
    "    print(root.key)\n",
    "    trav(root.right)\n",
    "trav(root)"
   ]
  },
  {
   "cell_type": "code",
   "execution_count": null,
   "id": "ecb986e9",
   "metadata": {},
   "outputs": [],
   "source": []
  },
  {
   "cell_type": "code",
   "execution_count": null,
   "id": "d8c2b46c",
   "metadata": {},
   "outputs": [],
   "source": []
  }
 ],
 "metadata": {
  "kernelspec": {
   "display_name": "Python 3 (ipykernel)",
   "language": "python",
   "name": "python3"
  },
  "language_info": {
   "codemirror_mode": {
    "name": "ipython",
    "version": 3
   },
   "file_extension": ".py",
   "mimetype": "text/x-python",
   "name": "python",
   "nbconvert_exporter": "python",
   "pygments_lexer": "ipython3",
   "version": "3.9.8"
  }
 },
 "nbformat": 4,
 "nbformat_minor": 5
}

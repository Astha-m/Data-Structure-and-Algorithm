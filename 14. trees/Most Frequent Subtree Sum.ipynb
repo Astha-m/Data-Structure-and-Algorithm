{
 "cells": [
  {
   "cell_type": "code",
   "execution_count": 1,
   "id": "8352e44a",
   "metadata": {},
   "outputs": [
    {
     "data": {
      "text/plain": [
       "'\\nhttps://leetcode.com/problems/most-frequent-subtree-sum/\\n'"
      ]
     },
     "execution_count": 1,
     "metadata": {},
     "output_type": "execute_result"
    }
   ],
   "source": [
    "'''\n",
    "https://leetcode.com/problems/most-frequent-subtree-sum/\n",
    "'''"
   ]
  },
  {
   "cell_type": "code",
   "execution_count": 2,
   "id": "54ec053b",
   "metadata": {},
   "outputs": [],
   "source": [
    "class Treenode:\n",
    "    def __init__(self,key):\n",
    "        self.key=key\n",
    "        self.left=None\n",
    "        self.right=None"
   ]
  },
  {
   "cell_type": "code",
   "execution_count": 3,
   "id": "717deae3",
   "metadata": {},
   "outputs": [],
   "source": [
    "root=Treenode(5)\n",
    "root.left=Treenode(2)\n",
    "root.right=Treenode(-3)"
   ]
  },
  {
   "cell_type": "code",
   "execution_count": 4,
   "id": "1e6a75c6",
   "metadata": {},
   "outputs": [],
   "source": [
    "from collections import defaultdict\n",
    "def most_frequent(root):\n",
    "    d=defaultdict(int)\n",
    "    maxfreq=0\n",
    "    def traverse(root):\n",
    "        nonlocal maxfreq,d\n",
    "        if(root==None):\n",
    "            return 0\n",
    "        l=traverse(root.left)\n",
    "        r=traverse(root.right)\n",
    "        curr=root.key+l+r\n",
    "        d[curr]+=1\n",
    "        maxfreq=max(maxfreq,d[curr])\n",
    "        return curr\n",
    "    traverse(root)\n",
    "    for i in d.keys():\n",
    "        if(d[i]==maxfreq):\n",
    "            print(i)"
   ]
  },
  {
   "cell_type": "code",
   "execution_count": 5,
   "id": "74478e5f",
   "metadata": {},
   "outputs": [
    {
     "name": "stdout",
     "output_type": "stream",
     "text": [
      "2\n",
      "-3\n",
      "4\n"
     ]
    }
   ],
   "source": [
    "most_frequent(root)"
   ]
  },
  {
   "cell_type": "code",
   "execution_count": null,
   "id": "0e7fc179",
   "metadata": {},
   "outputs": [],
   "source": []
  }
 ],
 "metadata": {
  "kernelspec": {
   "display_name": "Python 3 (ipykernel)",
   "language": "python",
   "name": "python3"
  },
  "language_info": {
   "codemirror_mode": {
    "name": "ipython",
    "version": 3
   },
   "file_extension": ".py",
   "mimetype": "text/x-python",
   "name": "python",
   "nbconvert_exporter": "python",
   "pygments_lexer": "ipython3",
   "version": "3.9.8"
  }
 },
 "nbformat": 4,
 "nbformat_minor": 5
}

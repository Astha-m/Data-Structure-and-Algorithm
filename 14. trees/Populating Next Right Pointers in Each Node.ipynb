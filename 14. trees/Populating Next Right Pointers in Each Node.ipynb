{
 "cells": [
  {
   "cell_type": "code",
   "execution_count": 1,
   "id": "e2ed102f",
   "metadata": {},
   "outputs": [],
   "source": [
    "class Treenode:\n",
    "    def __init__(self,key):\n",
    "        self.key=key\n",
    "        self.left=None\n",
    "        self.right=None\n",
    "        self.next=None\n",
    "        \n"
   ]
  },
  {
   "cell_type": "code",
   "execution_count": 2,
   "id": "fbb51d93",
   "metadata": {},
   "outputs": [],
   "source": [
    "root=Treenode(1)\n",
    "root.left=Treenode(2)\n",
    "root.right=Treenode(3)\n",
    "root.left.left=Treenode(4)\n",
    "root.left.right=Treenode(5)\n",
    "root.right.left=Treenode(6)\n",
    "root.right.right=Treenode(7)"
   ]
  },
  {
   "cell_type": "code",
   "execution_count": 3,
   "id": "6af39a8d",
   "metadata": {},
   "outputs": [],
   "source": [
    "def populate(root):\n",
    "    queue=[]\n",
    "    queue.append(root)\n",
    "    while(queue):\n",
    "        count=len(queue)\n",
    "        for i in range(count):\n",
    "            curr=queue.pop(0)\n",
    "            if(i<count-1):\n",
    "                curr.next=queue[0]\n",
    "            if(curr.left):\n",
    "                queue.append(curr.left)\n",
    "            if(curr.right):\n",
    "                queue.append(curr.right)\n",
    "populate(root)"
   ]
  },
  {
   "cell_type": "code",
   "execution_count": null,
   "id": "3928978f",
   "metadata": {},
   "outputs": [],
   "source": []
  },
  {
   "cell_type": "code",
   "execution_count": null,
   "id": "970ea404",
   "metadata": {},
   "outputs": [],
   "source": []
  }
 ],
 "metadata": {
  "kernelspec": {
   "display_name": "Python 3 (ipykernel)",
   "language": "python",
   "name": "python3"
  },
  "language_info": {
   "codemirror_mode": {
    "name": "ipython",
    "version": 3
   },
   "file_extension": ".py",
   "mimetype": "text/x-python",
   "name": "python",
   "nbconvert_exporter": "python",
   "pygments_lexer": "ipython3",
   "version": "3.9.8"
  }
 },
 "nbformat": 4,
 "nbformat_minor": 5
}

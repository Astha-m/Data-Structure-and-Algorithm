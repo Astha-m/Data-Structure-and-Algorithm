{
 "cells": [
  {
   "cell_type": "code",
   "execution_count": 1,
   "id": "37164818",
   "metadata": {},
   "outputs": [
    {
     "data": {
      "text/plain": [
       "\"\\nhttps://practice.geeksforgeeks.org/problems/remove-half-nodes/1?page=20&company[]=Amazon&sortBy=submissions\\n\\nGiven A binary Tree. Your task is to remove all the half nodes (which has only one child).\\n\\nExample 1:\\n\\nInput:\\n         7\\n       /         7     8\\n     / \\n    2\\nOutput: 2 7 8 \\nExample 2:\\n\\nInput:\\n         2\\n       /         7     5\\n       \\\\              9      1\\n       /        11   4\\nOutput: 11 9 4 2 1 \\nYour Task:\\nYou don't need to read input or print anything. \\nYour task is to complete the function RemoveHalfNodes() which\\ntakes the root node of the tree as input and returns the root \\nnode of the modified tree after removing all the half nodes, ie the\\nones having just a single child node. (The inorder traversal of the \\nreturned tree is printed by the driver's code.)\\nFor example consider the below tree.\\n\\n\\nNodes 7, 5 and 9 are half nodes as one of their child is Null. We need \\nto remove all such half nodes and return the root pointer of following new tree.\\n\\nExpected Time Complexity: O(N).\\nExpected Auxiliary Space: O(Height of the Binary Tree).\\n\\n\\n\""
      ]
     },
     "execution_count": 1,
     "metadata": {},
     "output_type": "execute_result"
    }
   ],
   "source": [
    "'''\n",
    "https://practice.geeksforgeeks.org/problems/remove-half-nodes/1?page=20&company[]=Amazon&sortBy=submissions\n",
    "\n",
    "Given A binary Tree. Your task is to remove all the half nodes (which has only one child).\n",
    "\n",
    "Example 1:\n",
    "\n",
    "Input:\n",
    "         7\n",
    "       /   \\\n",
    "      7     8\n",
    "     / \n",
    "    2\n",
    "Output: 2 7 8 \n",
    "Example 2:\n",
    "\n",
    "Input:\n",
    "         2\n",
    "       /   \\\n",
    "      7     5\n",
    "       \\      \\\n",
    "        9      1\n",
    "       /  \\\n",
    "      11   4\n",
    "Output: 11 9 4 2 1 \n",
    "Your Task:\n",
    "You don't need to read input or print anything. \n",
    "Your task is to complete the function RemoveHalfNodes() which\n",
    "takes the root node of the tree as input and returns the root \n",
    "node of the modified tree after removing all the half nodes, ie the\n",
    "ones having just a single child node. (The inorder traversal of the \n",
    "returned tree is printed by the driver's code.)\n",
    "For example consider the below tree.\n",
    "\n",
    "\n",
    "Nodes 7, 5 and 9 are half nodes as one of their child is Null. We need \n",
    "to remove all such half nodes and return the root pointer of following new tree.\n",
    "\n",
    "Expected Time Complexity: O(N).\n",
    "Expected Auxiliary Space: O(Height of the Binary Tree).\n",
    "\n",
    "\n",
    "'''"
   ]
  },
  {
   "cell_type": "code",
   "execution_count": null,
   "id": "f5ed26de",
   "metadata": {},
   "outputs": [],
   "source": [
    "def RemoveHalfNodes(root):\n",
    "    if(root==None):\n",
    "        return\n",
    "    if(root.left==None and root.right==None):\n",
    "        return root\n",
    "    if(root.left==None):\n",
    "        return RemoveHalfNodes(root.right)\n",
    "    if(root.right==None):\n",
    "        return RemoveHalfNodes(root.left)\n",
    "    root.left=RemoveHalfNodes(root.left)\n",
    "    root.right=RemoveHalfNodes(root.right)\n",
    "    return root"
   ]
  }
 ],
 "metadata": {
  "kernelspec": {
   "display_name": "Python 3 (ipykernel)",
   "language": "python",
   "name": "python3"
  },
  "language_info": {
   "codemirror_mode": {
    "name": "ipython",
    "version": 3
   },
   "file_extension": ".py",
   "mimetype": "text/x-python",
   "name": "python",
   "nbconvert_exporter": "python",
   "pygments_lexer": "ipython3",
   "version": "3.10.7"
  }
 },
 "nbformat": 4,
 "nbformat_minor": 5
}

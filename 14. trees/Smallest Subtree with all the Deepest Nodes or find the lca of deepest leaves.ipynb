{
 "cells": [
  {
   "cell_type": "code",
   "execution_count": 1,
   "id": "3c8ed51c",
   "metadata": {},
   "outputs": [
    {
     "data": {
      "text/plain": [
       "'\\nhttps://leetcode.com/problems/smallest-subtree-with-all-the-deepest-nodes/\\n'"
      ]
     },
     "execution_count": 1,
     "metadata": {},
     "output_type": "execute_result"
    }
   ],
   "source": [
    "'''\n",
    "https://leetcode.com/problems/smallest-subtree-with-all-the-deepest-nodes/\n",
    "'''"
   ]
  },
  {
   "cell_type": "code",
   "execution_count": 2,
   "id": "f5e87c27",
   "metadata": {},
   "outputs": [],
   "source": [
    "class Treenode:\n",
    "    def __init__(self,key):\n",
    "        self.key=key\n",
    "        self.left=None\n",
    "        self.right=None"
   ]
  },
  {
   "cell_type": "code",
   "execution_count": 3,
   "id": "281ea717",
   "metadata": {},
   "outputs": [],
   "source": [
    "root=Treenode(3)\n",
    "root.left=Treenode(5)\n",
    "root.left.left=Treenode(6)\n",
    "root.left.right=Treenode(2)\n",
    "root.left.right.left=Treenode(7)\n",
    "root.left.right.right=Treenode(4)\n",
    "root.right=Treenode(1)\n",
    "root.right.right=Treenode(8)\n",
    "root.right.left=Treenode(0)"
   ]
  },
  {
   "cell_type": "code",
   "execution_count": 10,
   "id": "90e82379",
   "metadata": {},
   "outputs": [
    {
     "name": "stdout",
     "output_type": "stream",
     "text": [
      "defaultdict(<class 'list'>, {3: ['3->5->6', '3->1->0', '3->1->8'], 4: ['3->5->2->7', '3->5->2->4']})\n",
      "[[3, 5, 2, 7], [3, 5, 2, 4]]\n",
      "2\n"
     ]
    }
   ],
   "source": [
    "from collections import defaultdict\n",
    "def smallest_deepest(root):\n",
    "    d=defaultdict(list)\n",
    "    \n",
    "    def inorder(root,strg,count):\n",
    "        nonlocal d\n",
    "        if(root==None):\n",
    "            return\n",
    "        \n",
    "        if(root.left==None and root.right==None):\n",
    "            strg+=str(root.key)\n",
    "            d[count].append(strg)\n",
    "            return\n",
    "        strg+=str(root.key)+'->'\n",
    "        inorder(root.left,strg,count+1)\n",
    "        \n",
    "        \n",
    "        inorder(root.right,strg,count+1)\n",
    "    inorder(root,'',1)\n",
    "    print(d)\n",
    "    maxi=max(d.keys())\n",
    "    lca=-1\n",
    "    lst=d[maxi]\n",
    "    for i in range(len(lst)):\n",
    "        lst[i]=list(map(int,lst[i].split('->')))\n",
    "    print(lst)\n",
    "    for i in range(maxi):# length od each row\n",
    "        prev=lst[0][i]\n",
    "        flag=True\n",
    "        for j in range(1,len(lst)): # each row\n",
    "            if(lst[j][i]==prev):\n",
    "                continue\n",
    "            else:\n",
    "                flag=False\n",
    "                break\n",
    "        if(flag==True):\n",
    "            lca=prev\n",
    "    print(lca)\n",
    "smallest_deepest(root)"
   ]
  },
  {
   "cell_type": "code",
   "execution_count": null,
   "id": "ee5d8813",
   "metadata": {},
   "outputs": [],
   "source": []
  }
 ],
 "metadata": {
  "kernelspec": {
   "display_name": "Python 3 (ipykernel)",
   "language": "python",
   "name": "python3"
  },
  "language_info": {
   "codemirror_mode": {
    "name": "ipython",
    "version": 3
   },
   "file_extension": ".py",
   "mimetype": "text/x-python",
   "name": "python",
   "nbconvert_exporter": "python",
   "pygments_lexer": "ipython3",
   "version": "3.9.8"
  }
 },
 "nbformat": 4,
 "nbformat_minor": 5
}

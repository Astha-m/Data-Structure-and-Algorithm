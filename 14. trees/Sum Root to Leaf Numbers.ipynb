{
 "cells": [
  {
   "cell_type": "code",
   "execution_count": 1,
   "id": "3b415629",
   "metadata": {},
   "outputs": [
    {
     "data": {
      "text/plain": [
       "'\\nhttps://leetcode.com/problems/sum-root-to-leaf-numbers/\\n'"
      ]
     },
     "execution_count": 1,
     "metadata": {},
     "output_type": "execute_result"
    }
   ],
   "source": [
    "'''\n",
    "https://leetcode.com/problems/sum-root-to-leaf-numbers/\n",
    "'''"
   ]
  },
  {
   "cell_type": "code",
   "execution_count": 2,
   "id": "635aabcc",
   "metadata": {},
   "outputs": [],
   "source": [
    "class Treenode:\n",
    "    def __init__(self,key):\n",
    "        self.key=key\n",
    "        self.left=None\n",
    "        self.right=None"
   ]
  },
  {
   "cell_type": "code",
   "execution_count": 3,
   "id": "be797b8f",
   "metadata": {},
   "outputs": [],
   "source": [
    "root=Treenode(4)\n",
    "root.left=Treenode(9)\n",
    "root.left.left=Treenode(5)\n",
    "root.right=Treenode(0)\n",
    "root.left.right=Treenode(1)"
   ]
  },
  {
   "cell_type": "code",
   "execution_count": 4,
   "id": "b18e3887",
   "metadata": {},
   "outputs": [],
   "source": [
    "def sum_root_to_leaves(root):\n",
    "    lst=[]\n",
    "    if(root==None):\n",
    "        return 0\n",
    "    \n",
    "    def preorder(root,num):\n",
    "        nonlocal lst\n",
    "        \n",
    "        if(root==None):\n",
    "            return\n",
    "        num=num*10+root.key\n",
    "        if(root.left==None and root.right==None):\n",
    "            lst.append(num)\n",
    "            return\n",
    "        preorder(root.left,num)\n",
    "        preorder(root.right,num)\n",
    "        \n",
    "    preorder(root,0)\n",
    "    return sum(lst)"
   ]
  },
  {
   "cell_type": "code",
   "execution_count": 5,
   "id": "4572b490",
   "metadata": {},
   "outputs": [
    {
     "data": {
      "text/plain": [
       "1026"
      ]
     },
     "execution_count": 5,
     "metadata": {},
     "output_type": "execute_result"
    }
   ],
   "source": [
    "sum_root_to_leaves(root)"
   ]
  },
  {
   "cell_type": "code",
   "execution_count": null,
   "id": "0e63818b",
   "metadata": {},
   "outputs": [],
   "source": []
  }
 ],
 "metadata": {
  "kernelspec": {
   "display_name": "Python 3 (ipykernel)",
   "language": "python",
   "name": "python3"
  },
  "language_info": {
   "codemirror_mode": {
    "name": "ipython",
    "version": 3
   },
   "file_extension": ".py",
   "mimetype": "text/x-python",
   "name": "python",
   "nbconvert_exporter": "python",
   "pygments_lexer": "ipython3",
   "version": "3.9.8"
  }
 },
 "nbformat": 4,
 "nbformat_minor": 5
}

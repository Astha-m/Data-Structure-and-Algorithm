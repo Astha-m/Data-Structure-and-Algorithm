{
 "cells": [
  {
   "cell_type": "code",
   "execution_count": 1,
   "id": "870ab683",
   "metadata": {},
   "outputs": [
    {
     "data": {
      "text/plain": [
       "'\\nhttps://leetcode.com/problems/sum-of-left-leaves/\\n'"
      ]
     },
     "execution_count": 1,
     "metadata": {},
     "output_type": "execute_result"
    }
   ],
   "source": [
    "'''\n",
    "https://leetcode.com/problems/sum-of-left-leaves/\n",
    "'''"
   ]
  },
  {
   "cell_type": "code",
   "execution_count": 2,
   "id": "747d6127",
   "metadata": {},
   "outputs": [],
   "source": [
    "class Treenode:\n",
    "    def __init__(self,key):\n",
    "        self.key=key\n",
    "        self.left=None\n",
    "        self.right=None"
   ]
  },
  {
   "cell_type": "code",
   "execution_count": 3,
   "id": "c9443ca3",
   "metadata": {},
   "outputs": [],
   "source": [
    "root=Treenode(3)\n",
    "root.left=Treenode(9)\n",
    "root.right=Treenode(20)\n",
    "root.right.right=Treenode(7)\n",
    "root.right.left=Treenode(15)"
   ]
  },
  {
   "cell_type": "code",
   "execution_count": 6,
   "id": "3a833bce",
   "metadata": {},
   "outputs": [],
   "source": [
    "def sum_of_leaves(root):\n",
    "    if(root==None):\n",
    "        return 0\n",
    "    s=0\n",
    "    def inorder(root,isleft):\n",
    "        nonlocal s\n",
    "        if(root==None):\n",
    "            return\n",
    "        if(isleft and root.left==None and root.right==None):\n",
    "            s+=root.key\n",
    "            return\n",
    "        inorder(root.left,True)\n",
    "        inorder(root.right,False)\n",
    "    inorder(root,False)\n",
    "    return s"
   ]
  },
  {
   "cell_type": "code",
   "execution_count": 7,
   "id": "6e2dc336",
   "metadata": {},
   "outputs": [
    {
     "data": {
      "text/plain": [
       "24"
      ]
     },
     "execution_count": 7,
     "metadata": {},
     "output_type": "execute_result"
    }
   ],
   "source": [
    "sum_of_leaves(root)"
   ]
  },
  {
   "cell_type": "code",
   "execution_count": null,
   "id": "6f49418c",
   "metadata": {},
   "outputs": [],
   "source": []
  }
 ],
 "metadata": {
  "kernelspec": {
   "display_name": "Python 3 (ipykernel)",
   "language": "python",
   "name": "python3"
  },
  "language_info": {
   "codemirror_mode": {
    "name": "ipython",
    "version": 3
   },
   "file_extension": ".py",
   "mimetype": "text/x-python",
   "name": "python",
   "nbconvert_exporter": "python",
   "pygments_lexer": "ipython3",
   "version": "3.9.8"
  }
 },
 "nbformat": 4,
 "nbformat_minor": 5
}

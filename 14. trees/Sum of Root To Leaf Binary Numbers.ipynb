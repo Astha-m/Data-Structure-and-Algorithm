{
 "cells": [
  {
   "cell_type": "code",
   "execution_count": 1,
   "id": "b92ff4f9",
   "metadata": {},
   "outputs": [
    {
     "data": {
      "text/plain": [
       "'\\nhttps://leetcode.com/problems/sum-of-root-to-leaf-binary-numbers/\\n'"
      ]
     },
     "execution_count": 1,
     "metadata": {},
     "output_type": "execute_result"
    }
   ],
   "source": [
    "'''\n",
    "https://leetcode.com/problems/sum-of-root-to-leaf-binary-numbers/\n",
    "'''"
   ]
  },
  {
   "cell_type": "code",
   "execution_count": 2,
   "id": "f65a8dd3",
   "metadata": {},
   "outputs": [],
   "source": [
    "class Treenode:\n",
    "    def __init__(self,key):\n",
    "        self.key=key\n",
    "        self.left=None\n",
    "        self.right=None"
   ]
  },
  {
   "cell_type": "code",
   "execution_count": 3,
   "id": "9dfa7931",
   "metadata": {},
   "outputs": [],
   "source": [
    "root=Treenode(1)\n",
    "root.right=Treenode(1)\n",
    "root.right.right=Treenode(1)\n",
    "root.right.left=Treenode(0)\n",
    "root.left=Treenode(0)\n",
    "root.left.left=Treenode(0)\n",
    "root.left.right=Treenode(1)"
   ]
  },
  {
   "cell_type": "code",
   "execution_count": 5,
   "id": "497a65f5",
   "metadata": {},
   "outputs": [
    {
     "data": {
      "text/plain": [
       "22"
      ]
     },
     "execution_count": 5,
     "metadata": {},
     "output_type": "execute_result"
    }
   ],
   "source": [
    "def binary_root_leaf(root):\n",
    "    res=0\n",
    "    def traverse(root,strg):\n",
    "        nonlocal res\n",
    "        if(root==None):\n",
    "            return\n",
    "        strg+=str(root.key)\n",
    "        if(root.left==None and root.right==None):\n",
    "            res+=int(strg,2)\n",
    "            return\n",
    "        traverse(root.left,strg)\n",
    "        traverse(root.right,strg)\n",
    "    traverse(root,'')\n",
    "    return res\n",
    "binary_root_leaf(root)"
   ]
  },
  {
   "cell_type": "code",
   "execution_count": null,
   "id": "b188a145",
   "metadata": {},
   "outputs": [],
   "source": []
  }
 ],
 "metadata": {
  "kernelspec": {
   "display_name": "Python 3 (ipykernel)",
   "language": "python",
   "name": "python3"
  },
  "language_info": {
   "codemirror_mode": {
    "name": "ipython",
    "version": 3
   },
   "file_extension": ".py",
   "mimetype": "text/x-python",
   "name": "python",
   "nbconvert_exporter": "python",
   "pygments_lexer": "ipython3",
   "version": "3.9.8"
  }
 },
 "nbformat": 4,
 "nbformat_minor": 5
}

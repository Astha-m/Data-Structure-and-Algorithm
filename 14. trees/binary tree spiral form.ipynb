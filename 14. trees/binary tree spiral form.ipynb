{
 "cells": [
  {
   "cell_type": "code",
   "execution_count": 1,
   "id": "9747123d",
   "metadata": {},
   "outputs": [],
   "source": [
    "class Treenode:\n",
    "    def __init__(self,key):\n",
    "        self.key=key\n",
    "        self.left=None\n",
    "        self.right=None\n"
   ]
  },
  {
   "cell_type": "code",
   "execution_count": 2,
   "id": "0655e4c6",
   "metadata": {},
   "outputs": [],
   "source": [
    "root=Treenode(10)\n",
    "root.left=Treenode(20)\n",
    "root.right=Treenode(30)\n",
    "root.right.right=Treenode(50)\n",
    "root.right.left=Treenode(40)\n",
    "root.right.left.left=Treenode(60)\n",
    "root.right.left.right=Treenode(70)\n",
    "root.right.right.right=Treenode(80)"
   ]
  },
  {
   "cell_type": "code",
   "execution_count": 4,
   "id": "4fa071d2",
   "metadata": {},
   "outputs": [
    {
     "name": "stdout",
     "output_type": "stream",
     "text": [
      "10 30 20 40 50 80 70 60 "
     ]
    }
   ],
   "source": [
    "def spiral_traversal(root):\n",
    "    if(root==None):\n",
    "        return \n",
    "    queue=[]\n",
    "    queue.append(root)\n",
    "    k=0\n",
    "    while(queue):\n",
    "        count=len(queue)\n",
    "        lst=[]\n",
    "        for i in range(count):\n",
    "            curr=queue.pop(0)\n",
    "            lst.append(curr.key)\n",
    "            if(curr.left):\n",
    "                queue.append(curr.left)\n",
    "            if(curr.right):\n",
    "                queue.append(curr.right)\n",
    "        if(k%2==0):\n",
    "            for i in range(count):\n",
    "                print(lst.pop(0),end=' ')\n",
    "        else:\n",
    "            for i in range(count):\n",
    "                print(lst.pop(),end=' ')\n",
    "        k+=1\n",
    "spiral_traversal(root)"
   ]
  },
  {
   "cell_type": "code",
   "execution_count": null,
   "id": "43ed02a7",
   "metadata": {},
   "outputs": [],
   "source": []
  }
 ],
 "metadata": {
  "kernelspec": {
   "display_name": "Python 3 (ipykernel)",
   "language": "python",
   "name": "python3"
  },
  "language_info": {
   "codemirror_mode": {
    "name": "ipython",
    "version": 3
   },
   "file_extension": ".py",
   "mimetype": "text/x-python",
   "name": "python",
   "nbconvert_exporter": "python",
   "pygments_lexer": "ipython3",
   "version": "3.9.8"
  }
 },
 "nbformat": 4,
 "nbformat_minor": 5
}

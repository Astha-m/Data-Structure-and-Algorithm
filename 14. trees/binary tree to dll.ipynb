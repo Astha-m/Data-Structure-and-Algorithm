{
 "cells": [
  {
   "cell_type": "code",
   "execution_count": 1,
   "id": "89b25fb0",
   "metadata": {},
   "outputs": [],
   "source": [
    "class Treenode:\n",
    "    def __init__(self,key):\n",
    "        self.key=key\n",
    "        self.right=None\n",
    "        self.left=None\n"
   ]
  },
  {
   "cell_type": "code",
   "execution_count": 2,
   "id": "1b7e23b2",
   "metadata": {},
   "outputs": [],
   "source": [
    "class Node:\n",
    "    def __init__(self,key):\n",
    "        self.key=key\n",
    "        self.right=None\n",
    "        self.left=None\n"
   ]
  },
  {
   "cell_type": "code",
   "execution_count": 3,
   "id": "93f87504",
   "metadata": {},
   "outputs": [],
   "source": [
    "root=Treenode(10)\n",
    "root.left=Treenode(5)\n",
    "root.right=Treenode(20)\n",
    "root.right.left=Treenode(30)\n",
    "root.right.right=Treenode(35)"
   ]
  },
  {
   "cell_type": "code",
   "execution_count": 4,
   "id": "4b61da95",
   "metadata": {},
   "outputs": [],
   "source": [
    "prev=None\n",
    "head=None\n",
    "def binarytodll(root):\n",
    "    global prev,head\n",
    "    if(root==None):\n",
    "        return\n",
    "    binarytodll(root.left)\n",
    "    temp=Node(root.key)\n",
    "    if(prev==None):\n",
    "        head=temp\n",
    "    else:\n",
    "        \n",
    "        temp.left=prev\n",
    "        prev.right=temp\n",
    "    prev=temp\n",
    "    binarytodll(root.right)\n",
    "binarytodll(root)"
   ]
  },
  {
   "cell_type": "code",
   "execution_count": 5,
   "id": "badb5bbb",
   "metadata": {},
   "outputs": [
    {
     "data": {
      "text/plain": [
       "<__main__.Node at 0x23a56c7cf10>"
      ]
     },
     "execution_count": 5,
     "metadata": {},
     "output_type": "execute_result"
    }
   ],
   "source": [
    "head"
   ]
  },
  {
   "cell_type": "code",
   "execution_count": 7,
   "id": "5e002faf",
   "metadata": {},
   "outputs": [
    {
     "name": "stdout",
     "output_type": "stream",
     "text": [
      "5\n",
      "10\n",
      "30\n",
      "20\n",
      "35\n"
     ]
    }
   ],
   "source": [
    "def traverse(root):\n",
    "    curr=root\n",
    "    while(curr!=None):\n",
    "        print(curr.key)\n",
    "        curr=curr.right\n",
    "traverse(head)"
   ]
  },
  {
   "cell_type": "code",
   "execution_count": null,
   "id": "35bb9333",
   "metadata": {},
   "outputs": [],
   "source": []
  }
 ],
 "metadata": {
  "kernelspec": {
   "display_name": "Python 3 (ipykernel)",
   "language": "python",
   "name": "python3"
  },
  "language_info": {
   "codemirror_mode": {
    "name": "ipython",
    "version": 3
   },
   "file_extension": ".py",
   "mimetype": "text/x-python",
   "name": "python",
   "nbconvert_exporter": "python",
   "pygments_lexer": "ipython3",
   "version": "3.9.8"
  }
 },
 "nbformat": 4,
 "nbformat_minor": 5
}

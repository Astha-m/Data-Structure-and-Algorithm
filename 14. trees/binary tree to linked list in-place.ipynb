{
 "cells": [
  {
   "cell_type": "code",
   "execution_count": 1,
   "id": "6be22d8c",
   "metadata": {},
   "outputs": [],
   "source": [
    "class Node:\n",
    "    def __init__(self,key):\n",
    "        self.key=key\n",
    "        self.right=None\n",
    "        self.left=None\n"
   ]
  },
  {
   "cell_type": "code",
   "execution_count": 2,
   "id": "f99bf678",
   "metadata": {},
   "outputs": [],
   "source": [
    "root=Node(1)\n",
    "root.left=Node(2)\n",
    "root.left.left=Node(3)\n",
    "root.right=Node(5)\n",
    "root.right.right=Node(6)\n",
    "root.left.right=Node(4)"
   ]
  },
  {
   "cell_type": "code",
   "execution_count": 5,
   "id": "1b27f2ff",
   "metadata": {},
   "outputs": [],
   "source": [
    "prev=None\n",
    "def flatten(root):\n",
    "    global prev\n",
    "    if(root==None):\n",
    "        return\n",
    "    flatten(root.right)\n",
    "    flatten(root.left)\n",
    "    \n",
    "    root.right=prev\n",
    "    root.left=None\n",
    "    prev=root\n"
   ]
  },
  {
   "cell_type": "code",
   "execution_count": 6,
   "id": "145ef0b4",
   "metadata": {},
   "outputs": [],
   "source": [
    "flatten(root)"
   ]
  },
  {
   "cell_type": "code",
   "execution_count": 7,
   "id": "b78cc3f9",
   "metadata": {},
   "outputs": [
    {
     "name": "stdout",
     "output_type": "stream",
     "text": [
      "1\n",
      "2\n",
      "3\n",
      "4\n",
      "5\n",
      "6\n"
     ]
    }
   ],
   "source": [
    "def traverse(root):\n",
    "    curr=root\n",
    "    \n",
    "    while(curr!=None):\n",
    "        print(curr.key)\n",
    "        curr=curr.right\n",
    "\n",
    "traverse(prev)"
   ]
  },
  {
   "cell_type": "code",
   "execution_count": null,
   "id": "65bae546",
   "metadata": {},
   "outputs": [],
   "source": []
  }
 ],
 "metadata": {
  "kernelspec": {
   "display_name": "Python 3 (ipykernel)",
   "language": "python",
   "name": "python3"
  },
  "language_info": {
   "codemirror_mode": {
    "name": "ipython",
    "version": 3
   },
   "file_extension": ".py",
   "mimetype": "text/x-python",
   "name": "python",
   "nbconvert_exporter": "python",
   "pygments_lexer": "ipython3",
   "version": "3.9.8"
  }
 },
 "nbformat": 4,
 "nbformat_minor": 5
}

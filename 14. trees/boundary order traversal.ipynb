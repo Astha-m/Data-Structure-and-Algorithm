{
 "cells": [
  {
   "cell_type": "code",
   "execution_count": 1,
   "id": "fca65147",
   "metadata": {},
   "outputs": [],
   "source": [
    "class Treenode:\n",
    "    def __init__(self,key):\n",
    "        self.key=key\n",
    "        self.left=None\n",
    "        self.right=None\n",
    "        "
   ]
  },
  {
   "cell_type": "code",
   "execution_count": 2,
   "id": "e079a5cf",
   "metadata": {},
   "outputs": [],
   "source": [
    "root=Treenode(20)\n",
    "root.left=Treenode(8)\n",
    "root.left.left=Treenode(4)\n",
    "root.left.right=Treenode(12)\n",
    "root.left.right.left=Treenode(10)\n",
    "root.left.right.right=Treenode(14)\n",
    "root.right=Treenode(22)\n",
    "root.right.right=Treenode(25)"
   ]
  },
  {
   "cell_type": "code",
   "execution_count": 5,
   "id": "d6feeaee",
   "metadata": {},
   "outputs": [],
   "source": [
    "def print_boundary_left(root):\n",
    "    if(root):\n",
    "        if(root.left):\n",
    "            \n",
    "            print(root.key)\n",
    "            print_boundary_left(root.left)\n",
    "        elif(root.right):\n",
    "            \n",
    "            print(root.key)\n",
    "            print_boundary_left(root.right)\n",
    "\n",
    "def print_boundary_leaves(root):\n",
    "    if(root):\n",
    "        print_boundary_leaves(root.left)\n",
    "        \n",
    "        if(root.left==None and root.right==None):\n",
    "            print(root.key)\n",
    "            \n",
    "        print_boundary_leaves(root.right)\n",
    "        \n",
    "def print_boundary_right(root):\n",
    "    if(root):\n",
    "        if(root.right):\n",
    "            print_boundary_right(root.right)\n",
    "            print(root.key)\n",
    "        \n",
    "        elif(root.left):\n",
    "            print_boundary_right(root.left)\n",
    "            print(root.key)\n",
    "\n",
    "\n",
    "def printBoundaryOrder(root):\n",
    "    if(root==None):\n",
    "        return\n",
    "    print(root.key)\n",
    "    print_boundary_left(root.left)\n",
    "    \n",
    "    print_boundary_leaves(root.left)\n",
    "    \n",
    "    print_boundary_leaves(root.right)\n",
    "    \n",
    "    print_boundary_right(root.right)"
   ]
  },
  {
   "cell_type": "code",
   "execution_count": 6,
   "id": "36749dd4",
   "metadata": {},
   "outputs": [
    {
     "name": "stdout",
     "output_type": "stream",
     "text": [
      "20\n",
      "8\n",
      "4\n",
      "10\n",
      "14\n",
      "25\n",
      "22\n"
     ]
    }
   ],
   "source": [
    "printBoundaryOrder(root)"
   ]
  },
  {
   "cell_type": "code",
   "execution_count": null,
   "id": "4bc7cccb",
   "metadata": {},
   "outputs": [],
   "source": []
  }
 ],
 "metadata": {
  "kernelspec": {
   "display_name": "Python 3 (ipykernel)",
   "language": "python",
   "name": "python3"
  },
  "language_info": {
   "codemirror_mode": {
    "name": "ipython",
    "version": 3
   },
   "file_extension": ".py",
   "mimetype": "text/x-python",
   "name": "python",
   "nbconvert_exporter": "python",
   "pygments_lexer": "ipython3",
   "version": "3.9.8"
  }
 },
 "nbformat": 4,
 "nbformat_minor": 5
}

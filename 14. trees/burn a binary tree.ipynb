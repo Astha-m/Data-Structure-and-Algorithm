{
 "cells": [
  {
   "cell_type": "code",
   "execution_count": 3,
   "id": "b1f09a12",
   "metadata": {},
   "outputs": [],
   "source": [
    "class Treenode:\n",
    "    def __init__(self,key):\n",
    "        self.key=key\n",
    "        self.right=None\n",
    "        self.left=None\n",
    "    "
   ]
  },
  {
   "cell_type": "code",
   "execution_count": 4,
   "id": "f8f52ffa",
   "metadata": {},
   "outputs": [],
   "source": [
    "root=Treenode(10)\n",
    "root.left=Treenode(20)\n",
    "root.left.right=Treenode(5)\n",
    "root.left.left=Treenode(30)\n",
    "root.left.left.right=Treenode(50)\n",
    "root.left.left.left=Treenode(40)\n",
    "root.left.left.left.left=Treenode(60)\n",
    "root.left.left.left.left.left=Treenode(70)"
   ]
  },
  {
   "cell_type": "code",
   "execution_count": 11,
   "id": "69318777",
   "metadata": {},
   "outputs": [],
   "source": [
    "def burn_btree(root,starter):\n",
    "    if(root==None):\n",
    "        return\n",
    "    \n",
    "    # child parent formation and finding starter\n",
    "    timer=0\n",
    "    \n",
    "    nextt=[]\n",
    "    \n",
    "    parent=dict()\n",
    "    queue=[]\n",
    "    queue.append(root)\n",
    "    while(queue):\n",
    "        count=len(queue)\n",
    "        for i in range(count):\n",
    "            curr=queue.pop(0)\n",
    "            if(curr.left):\n",
    "                queue.append(curr.left)\n",
    "                parent[curr.left]=curr\n",
    "                \n",
    "            if(curr.right):\n",
    "                queue.append(curr.right)\n",
    "                parent[curr.right]=curr\n",
    "                \n",
    "            if(curr.key==starter):\n",
    "                nextt.append((curr,0))\n",
    "            \n",
    "   \n",
    "    \n",
    "    # start burning\n",
    "    \n",
    "    visited=set()\n",
    "    \n",
    "    \n",
    "    while(nextt):\n",
    "        curr,time=nextt.pop(0)\n",
    "        print(curr.key,time)\n",
    "        visited.add(curr)\n",
    "        if(curr in parent and parent[curr] not in visited):\n",
    "            nextt.append((parent[curr],time+1))\n",
    "        if(curr.left and curr.left not in visited):\n",
    "            nextt.append((curr.left,time+1))\n",
    "        if(curr.right and curr.right not in visited):\n",
    "            nextt.append((curr.right,time+1))\n",
    "        timer=max(timer,time)\n",
    "    return timer"
   ]
  },
  {
   "cell_type": "code",
   "execution_count": 12,
   "id": "6eec1467",
   "metadata": {},
   "outputs": [
    {
     "name": "stdout",
     "output_type": "stream",
     "text": [
      "50 0\n",
      "30 1\n",
      "20 2\n",
      "40 2\n",
      "10 3\n",
      "5 3\n",
      "60 3\n",
      "70 4\n"
     ]
    },
    {
     "data": {
      "text/plain": [
       "4"
      ]
     },
     "execution_count": 12,
     "metadata": {},
     "output_type": "execute_result"
    }
   ],
   "source": [
    "burn_btree(root,50)"
   ]
  },
  {
   "cell_type": "code",
   "execution_count": null,
   "id": "4904bc6d",
   "metadata": {},
   "outputs": [],
   "source": []
  }
 ],
 "metadata": {
  "kernelspec": {
   "display_name": "Python 3 (ipykernel)",
   "language": "python",
   "name": "python3"
  },
  "language_info": {
   "codemirror_mode": {
    "name": "ipython",
    "version": 3
   },
   "file_extension": ".py",
   "mimetype": "text/x-python",
   "name": "python",
   "nbconvert_exporter": "python",
   "pygments_lexer": "ipython3",
   "version": "3.9.8"
  }
 },
 "nbformat": 4,
 "nbformat_minor": 5
}

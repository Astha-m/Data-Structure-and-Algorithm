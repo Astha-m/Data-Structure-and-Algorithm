{
 "cells": [
  {
   "cell_type": "code",
   "execution_count": 1,
   "id": "f0f1a2ad",
   "metadata": {},
   "outputs": [],
   "source": [
    "class Treenode:\n",
    "    def __init__(self,key):\n",
    "        self.key=key\n",
    "        self.left=None\n",
    "        self.right=None"
   ]
  },
  {
   "cell_type": "code",
   "execution_count": 4,
   "id": "e561dc42",
   "metadata": {},
   "outputs": [],
   "source": [
    "def construct(preorder):\n",
    "    inorder=sorted(preorder)\n",
    "    index=0\n",
    "    def traversal(inorder,preorder,start,end):\n",
    "        nonlocal index\n",
    "        if(start>end):\n",
    "            return None\n",
    "        \n",
    "        \n",
    "        root=Treenode(preorder[index])\n",
    "        index+=1\n",
    "        \n",
    "        inorder_index=-1\n",
    "        for i in range(start,end+1):\n",
    "            if(inorder[i]==root.key):\n",
    "                inorder_index=i\n",
    "                break\n",
    "        \n",
    "        \n",
    "        root.left=traversal(inorder,preorder,start,inorder_index-1)\n",
    "        root.right=traversal(inorder,preorder,inorder_index+1,end)\n",
    "        return root\n",
    "    \n",
    "    return traversal(inorder,preorder,0,len(preorder)-1)"
   ]
  },
  {
   "cell_type": "code",
   "execution_count": 5,
   "id": "46cfc6d2",
   "metadata": {},
   "outputs": [],
   "source": [
    "root=construct([8,5,1,7,10,12])"
   ]
  },
  {
   "cell_type": "code",
   "execution_count": 6,
   "id": "de575730",
   "metadata": {},
   "outputs": [
    {
     "data": {
      "text/plain": [
       "<__main__.Treenode at 0x14f5de2e850>"
      ]
     },
     "execution_count": 6,
     "metadata": {},
     "output_type": "execute_result"
    }
   ],
   "source": [
    "root"
   ]
  },
  {
   "cell_type": "code",
   "execution_count": 7,
   "id": "3f1bc895",
   "metadata": {},
   "outputs": [
    {
     "name": "stdout",
     "output_type": "stream",
     "text": [
      "1\n",
      "5\n",
      "7\n",
      "8\n",
      "10\n",
      "12\n"
     ]
    }
   ],
   "source": [
    "def inorder(root):\n",
    "    if(root==None):\n",
    "        return\n",
    "    inorder(root.left)\n",
    "    print(root.key)\n",
    "    inorder(root.right)\n",
    "    \n",
    "inorder(root)"
   ]
  },
  {
   "cell_type": "code",
   "execution_count": null,
   "id": "93f4f6ae",
   "metadata": {},
   "outputs": [],
   "source": []
  }
 ],
 "metadata": {
  "kernelspec": {
   "display_name": "Python 3 (ipykernel)",
   "language": "python",
   "name": "python3"
  },
  "language_info": {
   "codemirror_mode": {
    "name": "ipython",
    "version": 3
   },
   "file_extension": ".py",
   "mimetype": "text/x-python",
   "name": "python",
   "nbconvert_exporter": "python",
   "pygments_lexer": "ipython3",
   "version": "3.9.8"
  }
 },
 "nbformat": 4,
 "nbformat_minor": 5
}

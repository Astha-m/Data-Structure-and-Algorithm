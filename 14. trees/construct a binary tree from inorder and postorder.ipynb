{
 "cells": [
  {
   "cell_type": "code",
   "execution_count": 1,
   "id": "4c498c3e",
   "metadata": {},
   "outputs": [],
   "source": [
    "class Treenode:\n",
    "    def __init__(self,key):\n",
    "        self.key=key\n",
    "        self.left=None\n",
    "        self.right=None\n",
    "    "
   ]
  },
  {
   "cell_type": "code",
   "execution_count": 2,
   "id": "a4168f8c",
   "metadata": {},
   "outputs": [],
   "source": [
    "\n",
    "postorder=[40,50,20,80,90,70,30,10]\n",
    "inorder=[40,20,50,10,30,80,70,90]\n",
    "post_index=len(postorder)-1\n",
    "\n",
    "def construct_btree(inorder,postorder,start,end):\n",
    "    global post_index\n",
    "    if(start>end):\n",
    "        return None\n",
    "    #print(post_index,start,end)\n",
    "    root=Treenode(postorder[post_index])\n",
    "    post_index-=1\n",
    "    \n",
    "    in_index=0\n",
    "    for i in range(start,end+1):\n",
    "        if(inorder[i]==root.key):\n",
    "            in_index=i\n",
    "            break\n",
    "    \n",
    "    root.right=construct_btree(inorder,postorder,in_index+1,end)\n",
    "    root.left=construct_btree(inorder,postorder,start,in_index-1)\n",
    "    \n",
    "    return root\n",
    "\n"
   ]
  },
  {
   "cell_type": "code",
   "execution_count": 3,
   "id": "4a152ecb",
   "metadata": {},
   "outputs": [],
   "source": [
    "rt=construct_btree(inorder,postorder,0,post_index)"
   ]
  },
  {
   "cell_type": "code",
   "execution_count": 4,
   "id": "ca57dc96",
   "metadata": {},
   "outputs": [],
   "source": [
    "def inorder(root):\n",
    "    if(root==None):\n",
    "        return\n",
    "    inorder(root.left)\n",
    "    print(root.key)\n",
    "    inorder(root.right)"
   ]
  },
  {
   "cell_type": "raw",
   "id": "708eda7f",
   "metadata": {},
   "source": []
  },
  {
   "cell_type": "code",
   "execution_count": 5,
   "id": "8bc7a58a",
   "metadata": {},
   "outputs": [
    {
     "name": "stdout",
     "output_type": "stream",
     "text": [
      "40\n",
      "20\n",
      "50\n",
      "10\n",
      "30\n",
      "80\n",
      "70\n",
      "90\n"
     ]
    }
   ],
   "source": [
    "inorder(rt)"
   ]
  },
  {
   "cell_type": "code",
   "execution_count": null,
   "id": "9f06f493",
   "metadata": {},
   "outputs": [],
   "source": []
  }
 ],
 "metadata": {
  "kernelspec": {
   "display_name": "Python 3 (ipykernel)",
   "language": "python",
   "name": "python3"
  },
  "language_info": {
   "codemirror_mode": {
    "name": "ipython",
    "version": 3
   },
   "file_extension": ".py",
   "mimetype": "text/x-python",
   "name": "python",
   "nbconvert_exporter": "python",
   "pygments_lexer": "ipython3",
   "version": "3.9.8"
  }
 },
 "nbformat": 4,
 "nbformat_minor": 5
}

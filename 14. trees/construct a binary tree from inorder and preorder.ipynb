{
 "cells": [
  {
   "cell_type": "code",
   "execution_count": 1,
   "id": "08339f60",
   "metadata": {},
   "outputs": [],
   "source": [
    "class Treenode:\n",
    "    def __init__(self,key):\n",
    "        self.key=key\n",
    "        self.left=None\n",
    "        self.right=None\n",
    "    "
   ]
  },
  {
   "cell_type": "code",
   "execution_count": 3,
   "id": "8cb93c71",
   "metadata": {},
   "outputs": [],
   "source": [
    "pre_index=0\n",
    "def construct_binary_tree(inorder,preorder,start,end):\n",
    "    global pre_index\n",
    "    if(start>end):\n",
    "        return None\n",
    "    root=Treenode(preorder[pre_index])\n",
    "    pre_index+=1\n",
    "    \n",
    "    in_index=0\n",
    "    for i in range(start,end+1):\n",
    "        if(inorder[i]==root.key):\n",
    "            in_index=i\n",
    "            break\n",
    "    \n",
    "    root.left=construct_binary_tree(inorder,preorder,start,in_index-1)\n",
    "    root.right=construct_binary_tree(inorder,preorder,in_index+1,end)\n",
    "    return root\n",
    "rt=construct_binary_tree([40,20,50,10,30,80,70,90],[10,20,40,50,30,70,80,90],0,7)"
   ]
  },
  {
   "cell_type": "code",
   "execution_count": 4,
   "id": "024cb3be",
   "metadata": {},
   "outputs": [
    {
     "data": {
      "text/plain": [
       "<__main__.Treenode at 0x1658f56ce80>"
      ]
     },
     "execution_count": 4,
     "metadata": {},
     "output_type": "execute_result"
    }
   ],
   "source": [
    "rt"
   ]
  },
  {
   "cell_type": "code",
   "execution_count": 5,
   "id": "06ce5d80",
   "metadata": {},
   "outputs": [],
   "source": [
    "def inorder(root):\n",
    "    if(root==None):\n",
    "        return\n",
    "    inorder(root.left)\n",
    "    print(root.key)\n",
    "    inorder(root.right)"
   ]
  },
  {
   "cell_type": "code",
   "execution_count": 6,
   "id": "1e6a130d",
   "metadata": {},
   "outputs": [
    {
     "name": "stdout",
     "output_type": "stream",
     "text": [
      "40\n",
      "20\n",
      "50\n",
      "10\n",
      "30\n",
      "80\n",
      "70\n",
      "90\n"
     ]
    }
   ],
   "source": [
    "inorder(rt)"
   ]
  },
  {
   "cell_type": "code",
   "execution_count": null,
   "id": "b2f682e9",
   "metadata": {},
   "outputs": [],
   "source": []
  }
 ],
 "metadata": {
  "kernelspec": {
   "display_name": "Python 3 (ipykernel)",
   "language": "python",
   "name": "python3"
  },
  "language_info": {
   "codemirror_mode": {
    "name": "ipython",
    "version": 3
   },
   "file_extension": ".py",
   "mimetype": "text/x-python",
   "name": "python",
   "nbconvert_exporter": "python",
   "pygments_lexer": "ipython3",
   "version": "3.9.8"
  }
 },
 "nbformat": 4,
 "nbformat_minor": 5
}

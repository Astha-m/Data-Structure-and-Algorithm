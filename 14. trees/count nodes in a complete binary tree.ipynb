{
 "cells": [
  {
   "cell_type": "code",
   "execution_count": 1,
   "id": "9b0745e7",
   "metadata": {},
   "outputs": [],
   "source": [
    "class Treenode:\n",
    "    def __init__(self,key):\n",
    "        self.key=key\n",
    "        self.left=None\n",
    "        self.right=None\n"
   ]
  },
  {
   "cell_type": "code",
   "execution_count": 2,
   "id": "2b8bce6e",
   "metadata": {},
   "outputs": [],
   "source": [
    "root=Treenode(10)\n",
    "root.left=Treenode(20)\n",
    "root.right=Treenode(30)\n",
    "root.right.left=Treenode(60)\n",
    "root.right.right=Treenode(70)\n",
    "root.right.left.left=Treenode(120)\n",
    "\n",
    "root.left.left=Treenode(40)\n",
    "root.left.right=Treenode(50)\n",
    "root.left.left.left=Treenode(80)\n",
    "root.left.left.right=Treenode(90)\n",
    "root.left.right=Treenode(50)\n",
    "root.left.right.left=Treenode(100)\n",
    "root.left.right.right=Treenode(110)\n"
   ]
  },
  {
   "cell_type": "code",
   "execution_count": 3,
   "id": "d3088fd5",
   "metadata": {},
   "outputs": [],
   "source": [
    "def count_node_complete_btree(root):\n",
    "    lh=0\n",
    "    rh=0\n",
    "    curr=root\n",
    "    while(curr!=None):\n",
    "        lh+=1\n",
    "        curr=curr.left\n",
    "        \n",
    "    curr=root\n",
    "    while(curr!=None):\n",
    "        rh+=1\n",
    "        curr=curr.right\n",
    "    \n",
    "    if(lh==rh):\n",
    "        return pow(2,lh)-1\n",
    "    return 1+count_node_complete_btree(root.left)+count_node_complete_btree(root.right)"
   ]
  },
  {
   "cell_type": "code",
   "execution_count": 4,
   "id": "f761d66b",
   "metadata": {},
   "outputs": [
    {
     "data": {
      "text/plain": [
       "12"
      ]
     },
     "execution_count": 4,
     "metadata": {},
     "output_type": "execute_result"
    }
   ],
   "source": [
    "count_node_complete_btree(root)"
   ]
  },
  {
   "cell_type": "code",
   "execution_count": null,
   "id": "6ba98b33",
   "metadata": {},
   "outputs": [],
   "source": []
  }
 ],
 "metadata": {
  "kernelspec": {
   "display_name": "Python 3 (ipykernel)",
   "language": "python",
   "name": "python3"
  },
  "language_info": {
   "codemirror_mode": {
    "name": "ipython",
    "version": 3
   },
   "file_extension": ".py",
   "mimetype": "text/x-python",
   "name": "python",
   "nbconvert_exporter": "python",
   "pygments_lexer": "ipython3",
   "version": "3.9.8"
  }
 },
 "nbformat": 4,
 "nbformat_minor": 5
}

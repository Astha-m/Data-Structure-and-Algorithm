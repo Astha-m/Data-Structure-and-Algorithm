{
 "cells": [
  {
   "cell_type": "code",
   "execution_count": 1,
   "id": "eb6fdf4c",
   "metadata": {},
   "outputs": [
    {
     "data": {
      "text/plain": [
       "'\\nhttps://practice.geeksforgeeks.org/problems/diagonal-traversal-of-binary-tree/1?page=10&company[]=Amazon&sortBy=submissions\\n\\n\\n'"
      ]
     },
     "execution_count": 1,
     "metadata": {},
     "output_type": "execute_result"
    }
   ],
   "source": [
    "'''\n",
    "https://practice.geeksforgeeks.org/problems/diagonal-traversal-of-binary-tree/1?page=10&company[]=Amazon&sortBy=submissions\n",
    "\n",
    "\n",
    "'''"
   ]
  },
  {
   "cell_type": "code",
   "execution_count": null,
   "id": "88c512ba",
   "metadata": {},
   "outputs": [],
   "source": [
    "def diagonal(self,root):\n",
    "    #:param root: root of the given tree.\n",
    "    #return: print out the diagonal traversal,  no need to print new line\n",
    "    res=[]\n",
    "    queue=[]\n",
    "    if(root):\n",
    "        queue.append(root)\n",
    "\n",
    "    while(queue):\n",
    "        curr=queue.pop(0)\n",
    "        while(curr):\n",
    "            if(curr.left):\n",
    "                queue.append(curr.left)\n",
    "            res.append(curr.data)\n",
    "            curr=curr.right\n",
    "    return res\n",
    "        "
   ]
  }
 ],
 "metadata": {
  "kernelspec": {
   "display_name": "Python 3 (ipykernel)",
   "language": "python",
   "name": "python3"
  },
  "language_info": {
   "codemirror_mode": {
    "name": "ipython",
    "version": 3
   },
   "file_extension": ".py",
   "mimetype": "text/x-python",
   "name": "python",
   "nbconvert_exporter": "python",
   "pygments_lexer": "ipython3",
   "version": "3.9.8"
  }
 },
 "nbformat": 4,
 "nbformat_minor": 5
}

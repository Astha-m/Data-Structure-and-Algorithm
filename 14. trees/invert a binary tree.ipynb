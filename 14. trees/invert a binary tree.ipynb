{
 "cells": [
  {
   "cell_type": "code",
   "execution_count": 1,
   "id": "96cbb1f0",
   "metadata": {},
   "outputs": [
    {
     "data": {
      "text/plain": [
       "'\\nhttps://leetcode.com/problems/invert-binary-tree/\\n'"
      ]
     },
     "execution_count": 1,
     "metadata": {},
     "output_type": "execute_result"
    }
   ],
   "source": [
    "'''\n",
    "https://leetcode.com/problems/invert-binary-tree/\n",
    "'''"
   ]
  },
  {
   "cell_type": "code",
   "execution_count": 2,
   "id": "5f5ef78a",
   "metadata": {},
   "outputs": [],
   "source": [
    "class Treenode:\n",
    "    def __init__(self,key):\n",
    "        self.key=key\n",
    "        self.left=None\n",
    "        self.right=None"
   ]
  },
  {
   "cell_type": "code",
   "execution_count": 3,
   "id": "372b8a42",
   "metadata": {},
   "outputs": [],
   "source": [
    "root=Treenode(4)\n",
    "root.left=Treenode(2)\n",
    "root.left.left=Treenode(1)\n",
    "root.left.right=Treenode(3)\n",
    "root.right=Treenode(7)\n",
    "root.right.right=Treenode(9)\n",
    "root.right.left=Treenode(6)"
   ]
  },
  {
   "cell_type": "code",
   "execution_count": 4,
   "id": "897e58be",
   "metadata": {},
   "outputs": [],
   "source": [
    "def invert(root):\n",
    "    if(root==None):\n",
    "        return\n",
    "    \n",
    "    l=invert(root.left)\n",
    "    r=invert(root.right)\n",
    "    temp=l\n",
    "    root.left=r\n",
    "    root.right=temp\n",
    "    return root\n",
    "\n",
    "rt=invert(root)"
   ]
  },
  {
   "cell_type": "code",
   "execution_count": 5,
   "id": "e99e9ea2",
   "metadata": {},
   "outputs": [
    {
     "name": "stdout",
     "output_type": "stream",
     "text": [
      "9\n",
      "7\n",
      "6\n",
      "4\n",
      "3\n",
      "2\n",
      "1\n"
     ]
    }
   ],
   "source": [
    "def traverse(root):\n",
    "    if(root==None):\n",
    "        return\n",
    "    traverse(root.left)\n",
    "    print(root.key)\n",
    "    traverse(root.right)\n",
    "traverse(rt)"
   ]
  },
  {
   "cell_type": "code",
   "execution_count": null,
   "id": "905ea849",
   "metadata": {},
   "outputs": [],
   "source": []
  }
 ],
 "metadata": {
  "kernelspec": {
   "display_name": "Python 3 (ipykernel)",
   "language": "python",
   "name": "python3"
  },
  "language_info": {
   "codemirror_mode": {
    "name": "ipython",
    "version": 3
   },
   "file_extension": ".py",
   "mimetype": "text/x-python",
   "name": "python",
   "nbconvert_exporter": "python",
   "pygments_lexer": "ipython3",
   "version": "3.9.8"
  }
 },
 "nbformat": 4,
 "nbformat_minor": 5
}

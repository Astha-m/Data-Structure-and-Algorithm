{
 "cells": [
  {
   "cell_type": "code",
   "execution_count": 1,
   "id": "5c0c10ca",
   "metadata": {},
   "outputs": [],
   "source": [
    "class Treenode:\n",
    "    def __init__(self,key):\n",
    "        self.key=key\n",
    "        self.left=None\n",
    "        self.right=None\n"
   ]
  },
  {
   "cell_type": "code",
   "execution_count": 2,
   "id": "3720d939",
   "metadata": {},
   "outputs": [],
   "source": [
    "root=Treenode(10)\n",
    "root.left=Treenode(20)\n",
    "root.right=Treenode(30)\n",
    "root.right.left=Treenode(50)\n",
    "root.right.left.left=Treenode(70)\n",
    "root.right.right=Treenode(60)\n",
    "root.right.right.right=Treenode(90)\n",
    "root.right.right.left=Treenode(80)\n",
    "root.right.right.right.right=Treenode(40)\n"
   ]
  },
  {
   "cell_type": "code",
   "execution_count": 3,
   "id": "681361f9",
   "metadata": {},
   "outputs": [],
   "source": [
    "def path_finder(root,val,stack):\n",
    "    if(root==None):\n",
    "        return False\n",
    "    stack.append(root.key)\n",
    "    if(root.key==val):\n",
    "        return True\n",
    "    if(path_finder(root.left,val,stack) or path_finder(root.right,val,stack)):\n",
    "        return True\n",
    "    stack.pop()\n",
    "    return False"
   ]
  },
  {
   "cell_type": "code",
   "execution_count": 4,
   "id": "7280a8f0",
   "metadata": {},
   "outputs": [],
   "source": [
    "def lca(root,val1,val2):\n",
    "    if(root==None):\n",
    "        return -1\n",
    "    path1=[]\n",
    "    path2=[]\n",
    "    if(path_finder(root,val1,path1) and path_finder(root,val2,path2)):\n",
    "        prev=0\n",
    "        for i in range(len(path1)):\n",
    "            if(path1[i]==path2[i]):\n",
    "                prev=path1[i]\n",
    "            else:\n",
    "                return prev\n",
    "    else:\n",
    "        return -1\n",
    "    "
   ]
  },
  {
   "cell_type": "code",
   "execution_count": 5,
   "id": "73213a28",
   "metadata": {},
   "outputs": [
    {
     "data": {
      "text/plain": [
       "30"
      ]
     },
     "execution_count": 5,
     "metadata": {},
     "output_type": "execute_result"
    }
   ],
   "source": [
    "lca(root,70,40)"
   ]
  },
  {
   "cell_type": "code",
   "execution_count": null,
   "id": "c06fde02",
   "metadata": {},
   "outputs": [],
   "source": []
  }
 ],
 "metadata": {
  "kernelspec": {
   "display_name": "Python 3 (ipykernel)",
   "language": "python",
   "name": "python3"
  },
  "language_info": {
   "codemirror_mode": {
    "name": "ipython",
    "version": 3
   },
   "file_extension": ".py",
   "mimetype": "text/x-python",
   "name": "python",
   "nbconvert_exporter": "python",
   "pygments_lexer": "ipython3",
   "version": "3.9.8"
  }
 },
 "nbformat": 4,
 "nbformat_minor": 5
}

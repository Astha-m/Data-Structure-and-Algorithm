{
 "cells": [
  {
   "cell_type": "code",
   "execution_count": 1,
   "id": "20e9ae8e",
   "metadata": {},
   "outputs": [
    {
     "data": {
      "text/plain": [
       "'\\n\\nhttps://www.geeksforgeeks.org/find-maximum-path-sum-two-leaves-binary-tree/\\n\\n'"
      ]
     },
     "execution_count": 1,
     "metadata": {},
     "output_type": "execute_result"
    }
   ],
   "source": [
    "'''\n",
    "\n",
    "https://www.geeksforgeeks.org/find-maximum-path-sum-two-leaves-binary-tree/\n",
    "\n",
    "'''"
   ]
  },
  {
   "cell_type": "code",
   "execution_count": 4,
   "id": "1915b5d6",
   "metadata": {},
   "outputs": [
    {
     "data": {
      "text/plain": [
       "14"
      ]
     },
     "execution_count": 4,
     "metadata": {},
     "output_type": "execute_result"
    }
   ],
   "source": [
    "class Treenode:\n",
    "    def __init__(self,key):\n",
    "        self.data=key\n",
    "        self.right=None\n",
    "        self.left=None\n",
    "\n",
    "\n",
    "root=Treenode(10)\n",
    "root.left=Treenode(-9)\n",
    "root.right=Treenode(20)\n",
    "root.right.left=Treenode(-15)\n",
    "root.right.right=Treenode(-7)\n",
    "\n",
    "def max_Sum_leaf_nodes(root):\n",
    "    res=-float('inf')\n",
    "    def traverse(root):\n",
    "        nonlocal res\n",
    "        if(root==None):\n",
    "            return 0\n",
    "        \n",
    "        if(root.left==None and root.right==None):\n",
    "            return root.data\n",
    "        \n",
    "        lv=traverse(root.left)\n",
    "        rv=traverse(root.right)\n",
    "        \n",
    "    \n",
    "        res=max(res,root.data+lv+rv)\n",
    "        return max(lv,rv)+root.data\n",
    "        \n",
    "    traverse(root)\n",
    "    return res\n",
    "max_Sum_leaf_nodes(root)"
   ]
  },
  {
   "cell_type": "code",
   "execution_count": null,
   "id": "ab7fbc6e",
   "metadata": {},
   "outputs": [],
   "source": []
  }
 ],
 "metadata": {
  "kernelspec": {
   "display_name": "Python 3 (ipykernel)",
   "language": "python",
   "name": "python3"
  },
  "language_info": {
   "codemirror_mode": {
    "name": "ipython",
    "version": 3
   },
   "file_extension": ".py",
   "mimetype": "text/x-python",
   "name": "python",
   "nbconvert_exporter": "python",
   "pygments_lexer": "ipython3",
   "version": "3.8.2"
  }
 },
 "nbformat": 4,
 "nbformat_minor": 5
}

{
 "cells": [
  {
   "cell_type": "code",
   "execution_count": 1,
   "id": "1a4b9716",
   "metadata": {},
   "outputs": [],
   "source": [
    "class Treenode:\n",
    "    def __init__(self,key):\n",
    "        self.key=key\n",
    "        self.left=None\n",
    "        self.right=None\n",
    "        "
   ]
  },
  {
   "cell_type": "code",
   "execution_count": 2,
   "id": "7bba826a",
   "metadata": {},
   "outputs": [],
   "source": [
    "root=Treenode(-10)\n",
    "root.left=Treenode(9)\n",
    "root.right=Treenode(20)\n",
    "root.right.left=Treenode(15)\n",
    "root.right.right=Treenode(7)"
   ]
  },
  {
   "cell_type": "code",
   "execution_count": 8,
   "id": "737dc48f",
   "metadata": {},
   "outputs": [
    {
     "name": "stdout",
     "output_type": "stream",
     "text": [
      "42\n"
     ]
    }
   ],
   "source": [
    "def maximum_path_sum(root):\n",
    "    maxval=-float('inf')\n",
    "    \n",
    "    def postorder(root):\n",
    "        nonlocal maxval\n",
    "        if(root==None):\n",
    "            return 0\n",
    "        \n",
    "        left_view=max(0,postorder(root.left))\n",
    "        right_view=max(0,postorder(root.right))\n",
    "        \n",
    "        maxval=max(maxval,root.key+left_view+right_view)\n",
    "        \n",
    "        return root.key+max(left_view,right_view)\n",
    "    postorder(root)\n",
    "    return maxval\n",
    "print(maximum_path_sum(root))"
   ]
  },
  {
   "cell_type": "code",
   "execution_count": null,
   "id": "29efa7b4",
   "metadata": {},
   "outputs": [],
   "source": []
  }
 ],
 "metadata": {
  "kernelspec": {
   "display_name": "Python 3 (ipykernel)",
   "language": "python",
   "name": "python3"
  },
  "language_info": {
   "codemirror_mode": {
    "name": "ipython",
    "version": 3
   },
   "file_extension": ".py",
   "mimetype": "text/x-python",
   "name": "python",
   "nbconvert_exporter": "python",
   "pygments_lexer": "ipython3",
   "version": "3.9.8"
  }
 },
 "nbformat": 4,
 "nbformat_minor": 5
}

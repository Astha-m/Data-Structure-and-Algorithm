{
 "cells": [
  {
   "cell_type": "code",
   "execution_count": 1,
   "id": "5720cf93",
   "metadata": {},
   "outputs": [],
   "source": [
    "class Treenode:\n",
    "    def __init__(self,key):\n",
    "        self.key=key\n",
    "        self.left=None\n",
    "        self.right=None\n",
    "        "
   ]
  },
  {
   "cell_type": "code",
   "execution_count": 2,
   "id": "cf9db84f",
   "metadata": {},
   "outputs": [],
   "source": [
    "root=Treenode(1)\n",
    "root.left=Treenode(2)\n",
    "root.left.left=Treenode(3)\n",
    "root.left.right=Treenode(4)\n",
    "root.right=Treenode(5)\n",
    "root.right.left=Treenode(6)\n",
    "root.right.right=Treenode(7)"
   ]
  },
  {
   "cell_type": "code",
   "execution_count": 3,
   "id": "d7d078f4",
   "metadata": {},
   "outputs": [
    {
     "name": "stdout",
     "output_type": "stream",
     "text": [
      "[1, 2, 3, 4, 5, 6, 7]\n",
      "[3, 2, 4, 1, 6, 5, 7]\n",
      "[3, 4, 2, 6, 7, 5, 1]\n"
     ]
    }
   ],
   "source": [
    "preorder=[]\n",
    "inorder=[]\n",
    "postorder=[]\n",
    "stack=[]\n",
    "stack.append((root,1))\n",
    "while(stack):\n",
    "    curr,num=stack.pop()\n",
    "    if(num==1):\n",
    "        preorder.append(curr.key)\n",
    "        num+=1\n",
    "        stack.append((curr,num))\n",
    "        if(curr.left):\n",
    "            stack.append((curr.left,1))\n",
    "    elif(num==2):\n",
    "        inorder.append(curr.key)\n",
    "        num+=1\n",
    "        stack.append((curr,num))\n",
    "        if(curr.right):\n",
    "            stack.append((curr.right,1))\n",
    "    elif(num==3):\n",
    "        postorder.append(curr.key)\n",
    "print(preorder)\n",
    "print(inorder)\n",
    "print(postorder)"
   ]
  },
  {
   "cell_type": "code",
   "execution_count": null,
   "id": "29d5cd9d",
   "metadata": {},
   "outputs": [],
   "source": []
  }
 ],
 "metadata": {
  "kernelspec": {
   "display_name": "Python 3 (ipykernel)",
   "language": "python",
   "name": "python3"
  },
  "language_info": {
   "codemirror_mode": {
    "name": "ipython",
    "version": 3
   },
   "file_extension": ".py",
   "mimetype": "text/x-python",
   "name": "python",
   "nbconvert_exporter": "python",
   "pygments_lexer": "ipython3",
   "version": "3.9.8"
  }
 },
 "nbformat": 4,
 "nbformat_minor": 5
}

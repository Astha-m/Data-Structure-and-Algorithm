{
 "cells": [
  {
   "cell_type": "code",
   "execution_count": null,
   "id": "34bf11ac",
   "metadata": {},
   "outputs": [],
   "source": [
    "def same_tree(root1,root2):\n",
    "    if(root1==None and root2==None):\n",
    "        return True\n",
    "    if(root1==None and root2!=None):\n",
    "        return False\n",
    "    if(root1!=None and root2==None):\n",
    "        return False\n",
    "    return (root1.key==root2.key and same_tree(root1.left,root2.left) and same_tree(root1.right,root2.right))"
   ]
  }
 ],
 "metadata": {
  "kernelspec": {
   "display_name": "Python 3 (ipykernel)",
   "language": "python",
   "name": "python3"
  },
  "language_info": {
   "codemirror_mode": {
    "name": "ipython",
    "version": 3
   },
   "file_extension": ".py",
   "mimetype": "text/x-python",
   "name": "python",
   "nbconvert_exporter": "python",
   "pygments_lexer": "ipython3",
   "version": "3.9.8"
  }
 },
 "nbformat": 4,
 "nbformat_minor": 5
}

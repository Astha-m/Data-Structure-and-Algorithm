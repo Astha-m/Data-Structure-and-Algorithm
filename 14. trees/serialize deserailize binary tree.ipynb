{
 "cells": [
  {
   "cell_type": "code",
   "execution_count": null,
   "id": "c466ca69",
   "metadata": {},
   "outputs": [],
   "source": [
    "#Function to serialize a tree and return a list containing nodes of tree.\n",
    "def serialize(root, arr):\n",
    "    if(not root):\n",
    "        arr.append('N')\n",
    "        return\n",
    "    \n",
    "    arr.append(root.data)\n",
    "    serialize(root.left,arr)\n",
    "    serialize(root.right,arr)\n",
    "        \n",
    "        \n",
    "    \n",
    "\n",
    "#Function to deserialize a list and construct the tree.   \n",
    "def deSerialize(arr):\n",
    "    root=None\n",
    "    index=0\n",
    "    def traverse():\n",
    "        nonlocal index\n",
    "        if(arr[index]=='N'):\n",
    "            index+=1\n",
    "            return None\n",
    "        node=Node(arr[index])\n",
    "        index+=1\n",
    "        node.left=traverse()\n",
    "        node.right=traverse()\n",
    "        return node\n",
    "    root=traverse()\n",
    "    return root\n",
    "    "
   ]
  }
 ],
 "metadata": {
  "kernelspec": {
   "display_name": "Python 3 (ipykernel)",
   "language": "python",
   "name": "python3"
  },
  "language_info": {
   "codemirror_mode": {
    "name": "ipython",
    "version": 3
   },
   "file_extension": ".py",
   "mimetype": "text/x-python",
   "name": "python",
   "nbconvert_exporter": "python",
   "pygments_lexer": "ipython3",
   "version": "3.9.8"
  }
 },
 "nbformat": 4,
 "nbformat_minor": 5
}

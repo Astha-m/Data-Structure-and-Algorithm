{
 "cells": [
  {
   "cell_type": "code",
   "execution_count": 1,
   "id": "c6ca61f3",
   "metadata": {},
   "outputs": [],
   "source": [
    "class Treenode:\n",
    "    def __init__(self,key):\n",
    "        self.key=key\n",
    "        self.left=None\n",
    "        self.right=None\n",
    "        "
   ]
  },
  {
   "cell_type": "code",
   "execution_count": 2,
   "id": "aff56fa9",
   "metadata": {},
   "outputs": [],
   "source": [
    "root=Treenode(1)\n",
    "root.left=Treenode(2)\n",
    "root.right=Treenode(2)\n",
    "root.left.left=Treenode(3)\n",
    "root.right.right=Treenode(3)\n",
    "root.left.right=Treenode(4)\n",
    "root.right.left=Treenode(4)"
   ]
  },
  {
   "cell_type": "code",
   "execution_count": 5,
   "id": "1af1c456",
   "metadata": {},
   "outputs": [],
   "source": [
    "def symmetric_tree(root):\n",
    "    \n",
    "    if(root==None):\n",
    "        return True\n",
    "    if(root.left==None and root.right==None):\n",
    "        return True\n",
    "    \n",
    "    def preorder(r1,r2):\n",
    "        if(r1==None and r2==None):\n",
    "            return True\n",
    "        if(r1==None and r2!=None):\n",
    "            return False\n",
    "        if(r1!=None and r2==None):\n",
    "            return False\n",
    "        \n",
    "        return (r1.key==r2.key and preorder(r1.left,r2.right) and preorder(r1.right,r2.left))\n",
    "        \n",
    "    return preorder(root.left,root.right)"
   ]
  },
  {
   "cell_type": "code",
   "execution_count": 6,
   "id": "b17fba96",
   "metadata": {},
   "outputs": [
    {
     "data": {
      "text/plain": [
       "True"
      ]
     },
     "execution_count": 6,
     "metadata": {},
     "output_type": "execute_result"
    }
   ],
   "source": [
    "symmetric_tree(root)"
   ]
  },
  {
   "cell_type": "code",
   "execution_count": null,
   "id": "497a7282",
   "metadata": {},
   "outputs": [],
   "source": []
  }
 ],
 "metadata": {
  "kernelspec": {
   "display_name": "Python 3 (ipykernel)",
   "language": "python",
   "name": "python3"
  },
  "language_info": {
   "codemirror_mode": {
    "name": "ipython",
    "version": 3
   },
   "file_extension": ".py",
   "mimetype": "text/x-python",
   "name": "python",
   "nbconvert_exporter": "python",
   "pygments_lexer": "ipython3",
   "version": "3.9.8"
  }
 },
 "nbformat": 4,
 "nbformat_minor": 5
}

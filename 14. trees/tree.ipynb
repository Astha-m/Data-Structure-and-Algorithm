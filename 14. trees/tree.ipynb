{
 "cells": [
  {
   "cell_type": "code",
   "execution_count": 1,
   "id": "3cf78e88",
   "metadata": {},
   "outputs": [],
   "source": [
    "class TreeNode:\n",
    "    def __init__(self,key):\n",
    "        self.key=key\n",
    "        self.right=None\n",
    "        self.left=None\n",
    "        \n",
    "    "
   ]
  },
  {
   "cell_type": "code",
   "execution_count": 2,
   "id": "295daa29",
   "metadata": {},
   "outputs": [],
   "source": [
    "root=TreeNode(10)\n",
    "root.left=TreeNode(20)\n",
    "root.right=TreeNode(30)\n",
    "root.right.left=TreeNode(40)\n",
    "root.right.right=TreeNode(50)"
   ]
  },
  {
   "cell_type": "code",
   "execution_count": 3,
   "id": "5a755ee4",
   "metadata": {},
   "outputs": [],
   "source": [
    "def inorder(root):\n",
    "    if(root==None):\n",
    "        return\n",
    "    \n",
    "    inorder(root.left)\n",
    "    print(root.key)\n",
    "    \n",
    "    inorder(root.right)"
   ]
  },
  {
   "cell_type": "code",
   "execution_count": 4,
   "id": "c317d643",
   "metadata": {},
   "outputs": [
    {
     "name": "stdout",
     "output_type": "stream",
     "text": [
      "20\n",
      "10\n",
      "40\n",
      "30\n",
      "50\n"
     ]
    }
   ],
   "source": [
    "inorder(root)"
   ]
  },
  {
   "cell_type": "code",
   "execution_count": 5,
   "id": "239ee2bd",
   "metadata": {},
   "outputs": [],
   "source": [
    "def preorder(root):\n",
    "    if(root==None):\n",
    "        return\n",
    "    print(root.key)\n",
    "    preorder(root.left)\n",
    "    \n",
    "    preorder(root.right)"
   ]
  },
  {
   "cell_type": "code",
   "execution_count": 6,
   "id": "01386111",
   "metadata": {},
   "outputs": [
    {
     "name": "stdout",
     "output_type": "stream",
     "text": [
      "10\n",
      "20\n",
      "30\n",
      "40\n",
      "50\n"
     ]
    }
   ],
   "source": [
    "preorder(root)"
   ]
  },
  {
   "cell_type": "code",
   "execution_count": 7,
   "id": "9660e8bb",
   "metadata": {},
   "outputs": [],
   "source": [
    "def postorder(root):\n",
    "    if(root==None):\n",
    "        return\n",
    "    \n",
    "    postorder(root.left)\n",
    "    postorder(root.right)\n",
    "    print(root.key)"
   ]
  },
  {
   "cell_type": "code",
   "execution_count": 8,
   "id": "86a52b96",
   "metadata": {},
   "outputs": [
    {
     "name": "stdout",
     "output_type": "stream",
     "text": [
      "20\n",
      "40\n",
      "50\n",
      "30\n",
      "10\n"
     ]
    }
   ],
   "source": [
    "postorder(root)"
   ]
  },
  {
   "cell_type": "code",
   "execution_count": 9,
   "id": "25e9f474",
   "metadata": {},
   "outputs": [],
   "source": [
    "def height(root):\n",
    "    if(root==None):\n",
    "        return 0\n",
    "    return 1+max(height(root.right),height(root.left))"
   ]
  },
  {
   "cell_type": "code",
   "execution_count": 10,
   "id": "454ddde9",
   "metadata": {},
   "outputs": [
    {
     "data": {
      "text/plain": [
       "3"
      ]
     },
     "execution_count": 10,
     "metadata": {},
     "output_type": "execute_result"
    }
   ],
   "source": [
    "height(root)"
   ]
  },
  {
   "cell_type": "code",
   "execution_count": 11,
   "id": "32a24a33",
   "metadata": {},
   "outputs": [
    {
     "name": "stdout",
     "output_type": "stream",
     "text": [
      "40\n",
      "50\n"
     ]
    }
   ],
   "source": [
    "def nodes_at_k_distance(root,k):\n",
    "    if(root==None):\n",
    "        return\n",
    "    if(k==0):\n",
    "        print(root.key)\n",
    "    \n",
    "    nodes_at_k_distance(root.left,k-1)\n",
    "    nodes_at_k_distance(root.right,k-1)\n",
    "    \n",
    "nodes_at_k_distance(root,2)"
   ]
  },
  {
   "cell_type": "code",
   "execution_count": 12,
   "id": "62ffd112",
   "metadata": {},
   "outputs": [
    {
     "name": "stdout",
     "output_type": "stream",
     "text": [
      "10\n",
      "20\n",
      "30\n",
      "40\n",
      "50\n"
     ]
    }
   ],
   "source": [
    "def level_order_traversal(root):\n",
    "    if(root==None):\n",
    "        return\n",
    "    queue=[]\n",
    "    queue.append(root)\n",
    "    \n",
    "    while(queue):\n",
    "        curr=queue.pop(0)\n",
    "        print(curr.key)\n",
    "        \n",
    "        if(curr.left):\n",
    "            queue.append(curr.left)\n",
    "        if(curr.right):\n",
    "            queue.append(curr.right)\n",
    "            \n",
    "level_order_traversal(root)"
   ]
  },
  {
   "cell_type": "code",
   "execution_count": 13,
   "id": "36c917e3",
   "metadata": {},
   "outputs": [
    {
     "name": "stdout",
     "output_type": "stream",
     "text": [
      "10 \n",
      "20 30 \n",
      "40 50 \n"
     ]
    }
   ],
   "source": [
    "def level_order_line_by_line(root):\n",
    "    if(root==None):\n",
    "        return\n",
    "    \n",
    "    queue=[]\n",
    "    queue.append(root)\n",
    "    \n",
    "    while(queue):\n",
    "        count=len(queue)\n",
    "        for i in range(count):\n",
    "            curr=queue.pop(0)\n",
    "            print(curr.key,end=' ')\n",
    "            if(curr.left):\n",
    "                queue.append(curr.left)\n",
    "            if(curr.right):\n",
    "                queue.append(curr.right)\n",
    "        print()\n",
    "level_order_line_by_line(root)"
   ]
  },
  {
   "cell_type": "code",
   "execution_count": 14,
   "id": "dc26ba96",
   "metadata": {},
   "outputs": [],
   "source": [
    "def size(root):\n",
    "    if(root==None):\n",
    "        return 0\n",
    "    return 1+size(root.left)+size(root.right)"
   ]
  },
  {
   "cell_type": "code",
   "execution_count": 15,
   "id": "9cca2c2b",
   "metadata": {},
   "outputs": [
    {
     "data": {
      "text/plain": [
       "5"
      ]
     },
     "execution_count": 15,
     "metadata": {},
     "output_type": "execute_result"
    }
   ],
   "source": [
    "size(root)"
   ]
  },
  {
   "cell_type": "code",
   "execution_count": 18,
   "id": "7fd08e59",
   "metadata": {},
   "outputs": [],
   "source": [
    "def maximum(root):\n",
    "    if(root==None):\n",
    "        return -1\n",
    "    return max(root.key,maximum(root.left),maximum(root.right))"
   ]
  },
  {
   "cell_type": "code",
   "execution_count": 19,
   "id": "b4b25d2b",
   "metadata": {},
   "outputs": [
    {
     "data": {
      "text/plain": [
       "50"
      ]
     },
     "execution_count": 19,
     "metadata": {},
     "output_type": "execute_result"
    }
   ],
   "source": [
    "maximum(root)"
   ]
  },
  {
   "cell_type": "code",
   "execution_count": 20,
   "id": "dad21c64",
   "metadata": {},
   "outputs": [
    {
     "name": "stdout",
     "output_type": "stream",
     "text": [
      "10\n",
      "20\n",
      "40\n"
     ]
    }
   ],
   "source": [
    "def print_left_view(root):\n",
    "    if(root==None):\n",
    "        return\n",
    "    queue=[]\n",
    "    queue.append(root)\n",
    "    while(queue):\n",
    "        count=len(queue)\n",
    "        for i in range(count):\n",
    "            curr=queue.pop(0)\n",
    "            if(i==0):\n",
    "                print(curr.key)\n",
    "            if(curr.left):\n",
    "                queue.append(curr.left)\n",
    "            if(curr.right):\n",
    "                queue.append(curr.right)\n",
    "print_left_view(root)"
   ]
  },
  {
   "cell_type": "code",
   "execution_count": 21,
   "id": "07734e67",
   "metadata": {},
   "outputs": [
    {
     "name": "stdout",
     "output_type": "stream",
     "text": [
      "10\n",
      "30\n",
      "50\n"
     ]
    }
   ],
   "source": [
    "def print_right_view(root):\n",
    "    if(root==None):\n",
    "        return\n",
    "    queue=[]\n",
    "    queue.append(root)\n",
    "    while(queue):\n",
    "        count=len(queue)\n",
    "        for i in range(count):\n",
    "            curr=queue.pop(0)\n",
    "            if(i==count-1):\n",
    "                print(curr.key)\n",
    "            if(curr.left):\n",
    "                queue.append(curr.left)\n",
    "            if(curr.right):\n",
    "                queue.append(curr.right)\n",
    "print_right_view(root)"
   ]
  },
  {
   "cell_type": "code",
   "execution_count": 22,
   "id": "1b23306f",
   "metadata": {},
   "outputs": [],
   "source": [
    "def children_sum_property(root):\n",
    "    if(root==None):\n",
    "        return True\n",
    "    if(root.left==None and root.right==None):\n",
    "        return True\n",
    "    \n",
    "    s=0\n",
    "    if(root.left!=None):\n",
    "        s+=root.left.key\n",
    "    if(root.right!=None):\n",
    "        s+=root.right.key\n",
    "    return (s==root.key and children_sum_property(root.left) and children_sum_property(root.right))\n",
    "    "
   ]
  },
  {
   "cell_type": "code",
   "execution_count": 23,
   "id": "b77543fd",
   "metadata": {},
   "outputs": [
    {
     "data": {
      "text/plain": [
       "False"
      ]
     },
     "execution_count": 23,
     "metadata": {},
     "output_type": "execute_result"
    }
   ],
   "source": [
    "children_sum_property(root)"
   ]
  },
  {
   "cell_type": "code",
   "execution_count": 24,
   "id": "f7fa60ee",
   "metadata": {},
   "outputs": [],
   "source": [
    "def check_balanced_tree(root):\n",
    "    if(root==None):\n",
    "        return 0\n",
    "    lh=check_balanced_tree(root.left)\n",
    "    if(lh==-1):\n",
    "        return -1\n",
    "    rh=check_balanced_tree(root.right)\n",
    "    if(rh==-1):\n",
    "        return -1\n",
    "    if(abs(lh-rh)>1):\n",
    "        return -1\n",
    "    else:\n",
    "        return 1+max(lh,rh)"
   ]
  },
  {
   "cell_type": "code",
   "execution_count": 25,
   "id": "5e5b3bb3",
   "metadata": {},
   "outputs": [
    {
     "data": {
      "text/plain": [
       "3"
      ]
     },
     "execution_count": 25,
     "metadata": {},
     "output_type": "execute_result"
    }
   ],
   "source": [
    "check_balanced_tree(root)"
   ]
  },
  {
   "cell_type": "code",
   "execution_count": 26,
   "id": "190c5a73",
   "metadata": {},
   "outputs": [],
   "source": [
    "def maximum_width(root):\n",
    "    if(root==None):\n",
    "        return 0\n",
    "    queue=[]\n",
    "    queue.append(root)\n",
    "    res=0\n",
    "    while(queue):\n",
    "        count=len(queue)\n",
    "        res=max(res,count)\n",
    "        for i in range(count):\n",
    "            curr=queue.pop(0)\n",
    "            if(curr.left):\n",
    "                queue.append(curr.left)\n",
    "            if(curr.right):\n",
    "                queue.append(curr.right)\n",
    "    return res"
   ]
  },
  {
   "cell_type": "code",
   "execution_count": 27,
   "id": "28e68c7f",
   "metadata": {},
   "outputs": [
    {
     "data": {
      "text/plain": [
       "2"
      ]
     },
     "execution_count": 27,
     "metadata": {},
     "output_type": "execute_result"
    }
   ],
   "source": [
    "maximum_width(root)"
   ]
  },
  {
   "cell_type": "code",
   "execution_count": 31,
   "id": "f9f55c49",
   "metadata": {},
   "outputs": [],
   "source": [
    "res=0\n",
    "def diameter(root):\n",
    "    global res\n",
    "    if(root==None):\n",
    "        return 0\n",
    "    lh=diameter(root.left)\n",
    "    rh=diameter(root.right)\n",
    "    res=max(res,1+lh+rh)\n",
    "    return 1+max(lh,rh)"
   ]
  },
  {
   "cell_type": "code",
   "execution_count": 32,
   "id": "fbd1beb0",
   "metadata": {},
   "outputs": [
    {
     "data": {
      "text/plain": [
       "3"
      ]
     },
     "execution_count": 32,
     "metadata": {},
     "output_type": "execute_result"
    }
   ],
   "source": [
    "diameter(root)"
   ]
  },
  {
   "cell_type": "code",
   "execution_count": 33,
   "id": "031733a1",
   "metadata": {},
   "outputs": [
    {
     "data": {
      "text/plain": [
       "4"
      ]
     },
     "execution_count": 33,
     "metadata": {},
     "output_type": "execute_result"
    }
   ],
   "source": [
    "res"
   ]
  },
  {
   "cell_type": "code",
   "execution_count": null,
   "id": "09cec64f",
   "metadata": {},
   "outputs": [],
   "source": []
  }
 ],
 "metadata": {
  "kernelspec": {
   "display_name": "Python 3 (ipykernel)",
   "language": "python",
   "name": "python3"
  },
  "language_info": {
   "codemirror_mode": {
    "name": "ipython",
    "version": 3
   },
   "file_extension": ".py",
   "mimetype": "text/x-python",
   "name": "python",
   "nbconvert_exporter": "python",
   "pygments_lexer": "ipython3",
   "version": "3.9.8"
  }
 },
 "nbformat": 4,
 "nbformat_minor": 5
}

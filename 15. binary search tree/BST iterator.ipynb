{
 "cells": [
  {
   "cell_type": "code",
   "execution_count": 1,
   "id": "62230cca",
   "metadata": {},
   "outputs": [],
   "source": [
    "class Treenode:\n",
    "    def __init__(self,key):\n",
    "        self.key=key\n",
    "        self.right=None\n",
    "        self.left=None\n",
    "        "
   ]
  },
  {
   "cell_type": "code",
   "execution_count": 2,
   "id": "63da0825",
   "metadata": {},
   "outputs": [],
   "source": [
    "root=Treenode(7)\n",
    "root.left=Treenode(3)\n",
    "root.right=Treenode(15)\n",
    "root.right.right=Treenode(20)\n",
    "root.right.left=Treenode(9)"
   ]
  },
  {
   "cell_type": "code",
   "execution_count": 3,
   "id": "00a3d5f3",
   "metadata": {},
   "outputs": [
    {
     "name": "stdout",
     "output_type": "stream",
     "text": [
      "BSTIterator\n",
      "next\n",
      "3\n",
      "next\n",
      "7\n",
      "next\n",
      "9\n",
      "hasNext\n",
      "True\n",
      "next\n",
      "15\n",
      "next\n",
      "20\n",
      "hasNext\n",
      "False\n",
      "next\n"
     ]
    },
    {
     "ename": "IndexError",
     "evalue": "pop from empty list",
     "output_type": "error",
     "traceback": [
      "\u001b[1;31m---------------------------------------------------------------------------\u001b[0m",
      "\u001b[1;31mIndexError\u001b[0m                                Traceback (most recent call last)",
      "\u001b[1;32m~\\AppData\\Local\\Temp/ipykernel_13736/265942715.py\u001b[0m in \u001b[0;36m<module>\u001b[1;34m\u001b[0m\n\u001b[0;32m     12\u001b[0m         \u001b[0mappender\u001b[0m\u001b[1;33m(\u001b[0m\u001b[0mroot\u001b[0m\u001b[1;33m)\u001b[0m\u001b[1;33m\u001b[0m\u001b[1;33m\u001b[0m\u001b[0m\n\u001b[0;32m     13\u001b[0m     \u001b[1;32melif\u001b[0m\u001b[1;33m(\u001b[0m\u001b[0mstrg\u001b[0m\u001b[1;33m==\u001b[0m\u001b[1;34m'next'\u001b[0m\u001b[1;33m)\u001b[0m\u001b[1;33m:\u001b[0m\u001b[1;33m\u001b[0m\u001b[1;33m\u001b[0m\u001b[0m\n\u001b[1;32m---> 14\u001b[1;33m         \u001b[0mcurr\u001b[0m\u001b[1;33m=\u001b[0m\u001b[0mstack\u001b[0m\u001b[1;33m.\u001b[0m\u001b[0mpop\u001b[0m\u001b[1;33m(\u001b[0m\u001b[1;33m)\u001b[0m\u001b[1;33m\u001b[0m\u001b[1;33m\u001b[0m\u001b[0m\n\u001b[0m\u001b[0;32m     15\u001b[0m         \u001b[0mprint\u001b[0m\u001b[1;33m(\u001b[0m\u001b[0mcurr\u001b[0m\u001b[1;33m.\u001b[0m\u001b[0mkey\u001b[0m\u001b[1;33m)\u001b[0m\u001b[1;33m\u001b[0m\u001b[1;33m\u001b[0m\u001b[0m\n\u001b[0;32m     16\u001b[0m         \u001b[0mappender\u001b[0m\u001b[1;33m(\u001b[0m\u001b[0mcurr\u001b[0m\u001b[1;33m.\u001b[0m\u001b[0mright\u001b[0m\u001b[1;33m)\u001b[0m\u001b[1;33m\u001b[0m\u001b[1;33m\u001b[0m\u001b[0m\n",
      "\u001b[1;31mIndexError\u001b[0m: pop from empty list"
     ]
    }
   ],
   "source": [
    "stack=[]\n",
    "def appender(root):\n",
    "    global stack\n",
    "    curr=root\n",
    "    while(curr):\n",
    "        stack.append(curr)\n",
    "        curr=curr.left\n",
    "\n",
    "strg=input()\n",
    "while(strg!='-1'):\n",
    "    if(strg=='BSTIterator'):\n",
    "        appender(root)\n",
    "    elif(strg=='next'):\n",
    "        curr=stack.pop()\n",
    "        print(curr.key)\n",
    "        appender(curr.right)\n",
    "    elif(strg=='hasNext'):\n",
    "        print(len(stack)>0)\n",
    "    strg=input()"
   ]
  },
  {
   "cell_type": "code",
   "execution_count": null,
   "id": "5b1c236e",
   "metadata": {},
   "outputs": [],
   "source": []
  }
 ],
 "metadata": {
  "kernelspec": {
   "display_name": "Python 3 (ipykernel)",
   "language": "python",
   "name": "python3"
  },
  "language_info": {
   "codemirror_mode": {
    "name": "ipython",
    "version": 3
   },
   "file_extension": ".py",
   "mimetype": "text/x-python",
   "name": "python",
   "nbconvert_exporter": "python",
   "pygments_lexer": "ipython3",
   "version": "3.9.8"
  }
 },
 "nbformat": 4,
 "nbformat_minor": 5
}

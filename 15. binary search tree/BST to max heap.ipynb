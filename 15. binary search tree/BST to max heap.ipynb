{
 "cells": [
  {
   "cell_type": "code",
   "execution_count": 1,
   "id": "18b55c4b",
   "metadata": {},
   "outputs": [
    {
     "data": {
      "text/plain": [
       "\"\\nhttps://practice.geeksforgeeks.org/problems/bst-to-max-heap/1\\n\\n\\nGiven a Binary Search Tree. Convert a given BST into a Special Max Heap with the\\ncondition that all the values in the left subtree of a node should be less\\nthan all the values in the right subtree of the node. This condition is\\napplied on all the nodes in the so converted Max Heap.\\n\\nExample 1:\\n\\nInput :\\n                 4\\n               /                 2     6\\n            /  \\\\   /             1   3  5    7  \\n\\nOutput : 1 2 3 4 5 6 7 \\nExaplanation :\\n               7\\n             /               3     6\\n          /   \\\\  /            1    2 4     5\\nThe given BST has been transformed into a\\nMax Heap and it's postorder traversal is\\n1 2 3 4 5 6 7.\\nExample 2:\\n\\nInput :\\n                 3\\n               /                 1     5\\n               \\\\   /                  2 4    6\\n                                                 7\\nOutput : 1 2 3 4 5 6 7 \\nExaplanation :\\n               7\\n             /               3     6\\n          /   \\\\  /            1    2 4     5\\nThe given BST has been transformed into a\\nMax Heap and it's postorder traversal is\\n1 2 3 4 5 6 7.\\nYour task :\\nYou don't need to read input or print anything. Your task is to complete the\\nfunction convertToMaxHeapUtil() which takes the root of the tree as input \\nand converts the BST to max heap.\\nNote : The driver code prints the postorder traversal of the converted BST.\\n \\nExpected Time Complexity : O(n)\\nExpected Auxiliary Space : O(n)\\n \\n\\n\\n\""
      ]
     },
     "execution_count": 1,
     "metadata": {},
     "output_type": "execute_result"
    }
   ],
   "source": [
    "'''\n",
    "https://practice.geeksforgeeks.org/problems/bst-to-max-heap/1\n",
    "\n",
    "\n",
    "Given a Binary Search Tree. Convert a given BST into a Special Max Heap with the\n",
    "condition that all the values in the left subtree of a node should be less\n",
    "than all the values in the right subtree of the node. This condition is\n",
    "applied on all the nodes in the so converted Max Heap.\n",
    "\n",
    "Example 1:\n",
    "\n",
    "Input :\n",
    "                 4\n",
    "               /   \\\n",
    "              2     6\n",
    "            /  \\   /  \\\n",
    "           1   3  5    7  \n",
    "\n",
    "Output : 1 2 3 4 5 6 7 \n",
    "Exaplanation :\n",
    "               7\n",
    "             /   \\\n",
    "            3     6\n",
    "          /   \\  /   \\\n",
    "         1    2 4     5\n",
    "The given BST has been transformed into a\n",
    "Max Heap and it's postorder traversal is\n",
    "1 2 3 4 5 6 7.\n",
    "Example 2:\n",
    "\n",
    "Input :\n",
    "                 3\n",
    "               /   \\\n",
    "              1     5\n",
    "               \\   /  \\\n",
    "                2 4    6\n",
    "                        \\\n",
    "                         7\n",
    "Output : 1 2 3 4 5 6 7 \n",
    "Exaplanation :\n",
    "               7\n",
    "             /   \\\n",
    "            3     6\n",
    "          /   \\  /   \\\n",
    "         1    2 4     5\n",
    "The given BST has been transformed into a\n",
    "Max Heap and it's postorder traversal is\n",
    "1 2 3 4 5 6 7.\n",
    "Your task :\n",
    "You don't need to read input or print anything. Your task is to complete the\n",
    "function convertToMaxHeapUtil() which takes the root of the tree as input \n",
    "and converts the BST to max heap.\n",
    "Note : The driver code prints the postorder traversal of the converted BST.\n",
    " \n",
    "Expected Time Complexity : O(n)\n",
    "Expected Auxiliary Space : O(n)\n",
    " \n",
    "\n",
    "\n",
    "'''"
   ]
  },
  {
   "cell_type": "code",
   "execution_count": null,
   "id": "bc5b3d98",
   "metadata": {},
   "outputs": [],
   "source": [
    "def convertToMaxHeapUtil(self, root):\n",
    "    lst=[]\n",
    "\n",
    "    def inorder(root):\n",
    "        nonlocal lst\n",
    "        if(root==None):\n",
    "            return\n",
    "        inorder(root.left)\n",
    "        lst.append(root.data)\n",
    "        inorder(root.right)\n",
    "    inorder(root)\n",
    "    ind=0\n",
    "\n",
    "    def postorder(root):\n",
    "        nonlocal lst,ind\n",
    "        if(root==None):\n",
    "            return\n",
    "\n",
    "        postorder(root.left)\n",
    "        postorder(root.right)\n",
    "        root.data=lst[ind]\n",
    "        ind+=1\n",
    "    postorder(root)"
   ]
  }
 ],
 "metadata": {
  "kernelspec": {
   "display_name": "Python 3 (ipykernel)",
   "language": "python",
   "name": "python3"
  },
  "language_info": {
   "codemirror_mode": {
    "name": "ipython",
    "version": 3
   },
   "file_extension": ".py",
   "mimetype": "text/x-python",
   "name": "python",
   "nbconvert_exporter": "python",
   "pygments_lexer": "ipython3",
   "version": "3.10.7"
  }
 },
 "nbformat": 4,
 "nbformat_minor": 5
}

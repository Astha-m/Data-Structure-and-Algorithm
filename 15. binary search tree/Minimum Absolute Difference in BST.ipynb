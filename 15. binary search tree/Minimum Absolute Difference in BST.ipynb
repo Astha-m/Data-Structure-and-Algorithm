{
 "cells": [
  {
   "cell_type": "code",
   "execution_count": 1,
   "id": "bd32d07a",
   "metadata": {},
   "outputs": [],
   "source": [
    "class Treenode:\n",
    "    def __init__(self,key):\n",
    "        self.key=key\n",
    "        self.left=None\n",
    "        self.right=None\n",
    "        "
   ]
  },
  {
   "cell_type": "code",
   "execution_count": 2,
   "id": "3f8897d6",
   "metadata": {},
   "outputs": [],
   "source": [
    "root=Treenode(4)\n",
    "root.left=Treenode(2)\n",
    "root.left.left=Treenode(1)\n",
    "root.right=Treenode(6)\n",
    "root.left.right=Treenode(3)"
   ]
  },
  {
   "cell_type": "code",
   "execution_count": 5,
   "id": "9aecf9cf",
   "metadata": {},
   "outputs": [
    {
     "data": {
      "text/plain": [
       "1"
      ]
     },
     "execution_count": 5,
     "metadata": {},
     "output_type": "execute_result"
    }
   ],
   "source": [
    "def minimum(root):\n",
    "    first=float('inf')\n",
    "    second=float('inf')\n",
    "    def traverse(root):\n",
    "        nonlocal first,second\n",
    "        if(root==None):\n",
    "            return\n",
    "        \n",
    "        traverse(root.left)\n",
    "        if(root.key<first):\n",
    "            second=first\n",
    "            first=root.key\n",
    "        elif(root.key<second):\n",
    "            second=root.key\n",
    "        traverse(root.right)\n",
    "    traverse(root)\n",
    "    return second-first\n",
    "minimum(root)"
   ]
  },
  {
   "cell_type": "code",
   "execution_count": null,
   "id": "b8f887d3",
   "metadata": {},
   "outputs": [],
   "source": []
  },
  {
   "cell_type": "code",
   "execution_count": null,
   "id": "019ca3ae",
   "metadata": {},
   "outputs": [],
   "source": []
  }
 ],
 "metadata": {
  "kernelspec": {
   "display_name": "Python 3 (ipykernel)",
   "language": "python",
   "name": "python3"
  },
  "language_info": {
   "codemirror_mode": {
    "name": "ipython",
    "version": 3
   },
   "file_extension": ".py",
   "mimetype": "text/x-python",
   "name": "python",
   "nbconvert_exporter": "python",
   "pygments_lexer": "ipython3",
   "version": "3.9.8"
  }
 },
 "nbformat": 4,
 "nbformat_minor": 5
}

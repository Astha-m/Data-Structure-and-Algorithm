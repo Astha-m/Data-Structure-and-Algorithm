{
 "cells": [
  {
   "cell_type": "code",
   "execution_count": 6,
   "id": "00e84057",
   "metadata": {},
   "outputs": [
    {
     "data": {
      "text/plain": [
       "1"
      ]
     },
     "execution_count": 6,
     "metadata": {},
     "output_type": "execute_result"
    }
   ],
   "source": [
    "class Node:\n",
    "    def __init__(self,key):\n",
    "        self.data=key\n",
    "        self.left=None\n",
    "        self.right=None\n",
    "        \n",
    "        \n",
    "root=Node(3)\n",
    "root.left=Node(1)\n",
    "root.left.right=Node(2)\n",
    "root.right=Node(5)\n",
    "root.right.left=Node(4)\n",
    "root.right.right=Node(6)\n",
    "root.right.right.right=Node(7)\n",
    "\n",
    "\n",
    "def minimum(root):\n",
    "    \n",
    "    prev=-float('inf')\n",
    "    mini=float('inf')\n",
    "    def inorder(root):\n",
    "        nonlocal prev,mini\n",
    "        if(root==None):\n",
    "            return\n",
    "        \n",
    "        inorder(root.left)\n",
    "        mini=min(mini,abs(root.data-prev))\n",
    "        prev=root.data\n",
    "        inorder(root.right)\n",
    "    inorder(root)\n",
    "    return mini\n",
    "minimum(root)"
   ]
  },
  {
   "cell_type": "code",
   "execution_count": null,
   "id": "543d9d76",
   "metadata": {},
   "outputs": [],
   "source": []
  }
 ],
 "metadata": {
  "kernelspec": {
   "display_name": "Python 3 (ipykernel)",
   "language": "python",
   "name": "python3"
  },
  "language_info": {
   "codemirror_mode": {
    "name": "ipython",
    "version": 3
   },
   "file_extension": ".py",
   "mimetype": "text/x-python",
   "name": "python",
   "nbconvert_exporter": "python",
   "pygments_lexer": "ipython3",
   "version": "3.8.2"
  }
 },
 "nbformat": 4,
 "nbformat_minor": 5
}

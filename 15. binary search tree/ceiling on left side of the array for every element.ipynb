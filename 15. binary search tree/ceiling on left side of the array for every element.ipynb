{
 "cells": [
  {
   "cell_type": "code",
   "execution_count": 5,
   "id": "77cd886e",
   "metadata": {},
   "outputs": [],
   "source": [
    "import bisect\n",
    "def ceiling(arr):\n",
    "    temp=[]\n",
    "    for i in arr:\n",
    "        ind=bisect.bisect_right(temp,i)\n",
    "        if(ind==len(temp)):\n",
    "            print(-1)\n",
    "            temp.append(i)\n",
    "        else:\n",
    "            print(temp[ind])\n",
    "            temp.insert(ind,i)\n"
   ]
  },
  {
   "cell_type": "code",
   "execution_count": 6,
   "id": "ed815c8e",
   "metadata": {},
   "outputs": [
    {
     "name": "stdout",
     "output_type": "stream",
     "text": [
      "-1\n",
      "30\n",
      "20\n"
     ]
    }
   ],
   "source": [
    "ceiling([30,20,10])"
   ]
  },
  {
   "cell_type": "code",
   "execution_count": 7,
   "id": "37444f67",
   "metadata": {},
   "outputs": [
    {
     "name": "stdout",
     "output_type": "stream",
     "text": [
      "-1\n",
      "-1\n",
      "-1\n"
     ]
    }
   ],
   "source": [
    "ceiling([10,20,30])"
   ]
  },
  {
   "cell_type": "code",
   "execution_count": null,
   "id": "e38814f5",
   "metadata": {},
   "outputs": [],
   "source": []
  }
 ],
 "metadata": {
  "kernelspec": {
   "display_name": "Python 3 (ipykernel)",
   "language": "python",
   "name": "python3"
  },
  "language_info": {
   "codemirror_mode": {
    "name": "ipython",
    "version": 3
   },
   "file_extension": ".py",
   "mimetype": "text/x-python",
   "name": "python",
   "nbconvert_exporter": "python",
   "pygments_lexer": "ipython3",
   "version": "3.9.8"
  }
 },
 "nbformat": 4,
 "nbformat_minor": 5
}

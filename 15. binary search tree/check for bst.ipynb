{
 "cells": [
  {
   "cell_type": "code",
   "execution_count": 1,
   "id": "602e59ad",
   "metadata": {},
   "outputs": [],
   "source": [
    "class Treenode:\n",
    "    def __init__(self,key):\n",
    "        self.key=key\n",
    "        self.left=None\n",
    "        self.right=None"
   ]
  },
  {
   "cell_type": "code",
   "execution_count": 3,
   "id": "301a643d",
   "metadata": {},
   "outputs": [],
   "source": [
    "def check_bst(root,low,high):\n",
    "    if(root==None):\n",
    "        return True\n",
    "    return (root.key>low and root.key<high and check_bst(root.left,low,root.key) and check_bst(root.right,root.key,high))"
   ]
  },
  {
   "cell_type": "code",
   "execution_count": 2,
   "id": "a7762795",
   "metadata": {},
   "outputs": [],
   "source": [
    "root=Treenode(10)\n",
    "root.left=Treenode(8)\n",
    "root.right=Treenode(20)\n",
    "root.right.left=Treenode(13)\n",
    "root.right.right=Treenode(35)"
   ]
  },
  {
   "cell_type": "code",
   "execution_count": 4,
   "id": "478ebb60",
   "metadata": {},
   "outputs": [
    {
     "name": "stdout",
     "output_type": "stream",
     "text": [
      "True\n"
     ]
    }
   ],
   "source": [
    "print(check_bst(root,-float('inf'),float('inf')))"
   ]
  },
  {
   "cell_type": "code",
   "execution_count": null,
   "id": "05205943",
   "metadata": {},
   "outputs": [],
   "source": []
  }
 ],
 "metadata": {
  "kernelspec": {
   "display_name": "Python 3 (ipykernel)",
   "language": "python",
   "name": "python3"
  },
  "language_info": {
   "codemirror_mode": {
    "name": "ipython",
    "version": 3
   },
   "file_extension": ".py",
   "mimetype": "text/x-python",
   "name": "python",
   "nbconvert_exporter": "python",
   "pygments_lexer": "ipython3",
   "version": "3.9.8"
  }
 },
 "nbformat": 4,
 "nbformat_minor": 5
}

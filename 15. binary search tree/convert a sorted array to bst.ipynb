{
 "cells": [
  {
   "cell_type": "code",
   "execution_count": 1,
   "id": "ab88ed4e",
   "metadata": {},
   "outputs": [],
   "source": [
    "class Treenode:\n",
    "    def __init__(self,key):\n",
    "        self.key=key\n",
    "        self.left=None\n",
    "        self.right=None\n",
    "    "
   ]
  },
  {
   "cell_type": "code",
   "execution_count": 2,
   "id": "e73b3213",
   "metadata": {},
   "outputs": [],
   "source": [
    "def convert_to_bst(arr,low,high):\n",
    "    if(low>high):\n",
    "        return None\n",
    "    \n",
    "    mid=(low+high)//2\n",
    "    \n",
    "    root=Treenode(arr[mid])\n",
    "    root.left=convert_to_bst(arr,low,mid-1)\n",
    "    root.right=convert_to_bst(arr,mid+1,high)\n",
    "    return root"
   ]
  },
  {
   "cell_type": "code",
   "execution_count": 3,
   "id": "a495b36b",
   "metadata": {},
   "outputs": [],
   "source": [
    "root=convert_to_bst( [-10,-3,0,5,9],0,4)"
   ]
  },
  {
   "cell_type": "code",
   "execution_count": 4,
   "id": "0ffd0dbb",
   "metadata": {},
   "outputs": [
    {
     "name": "stdout",
     "output_type": "stream",
     "text": [
      "-10\n",
      "-3\n",
      "0\n",
      "5\n",
      "9\n"
     ]
    }
   ],
   "source": [
    "def inorder(root):\n",
    "    if(root==None):\n",
    "        return\n",
    "    inorder(root.left)\n",
    "    print(root.key)\n",
    "    inorder(root.right)\n",
    "    \n",
    "inorder(root)"
   ]
  },
  {
   "cell_type": "code",
   "execution_count": null,
   "id": "46a80722",
   "metadata": {},
   "outputs": [],
   "source": []
  }
 ],
 "metadata": {
  "kernelspec": {
   "display_name": "Python 3 (ipykernel)",
   "language": "python",
   "name": "python3"
  },
  "language_info": {
   "codemirror_mode": {
    "name": "ipython",
    "version": 3
   },
   "file_extension": ".py",
   "mimetype": "text/x-python",
   "name": "python",
   "nbconvert_exporter": "python",
   "pygments_lexer": "ipython3",
   "version": "3.9.8"
  }
 },
 "nbformat": 4,
 "nbformat_minor": 5
}

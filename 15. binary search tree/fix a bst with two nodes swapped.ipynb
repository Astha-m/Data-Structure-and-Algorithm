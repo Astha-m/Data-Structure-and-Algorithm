{
 "cells": [
  {
   "cell_type": "code",
   "execution_count": 1,
   "id": "2870c488",
   "metadata": {},
   "outputs": [],
   "source": [
    "class Treenode:\n",
    "    def __init__(self,key):\n",
    "        self.key=key\n",
    "        self.left=None\n",
    "        self.right=None\n"
   ]
  },
  {
   "cell_type": "code",
   "execution_count": 2,
   "id": "e50013ae",
   "metadata": {},
   "outputs": [],
   "source": [
    "root=Treenode(20)\n",
    "root.left=Treenode(60)\n",
    "root.left.left=Treenode(4)\n",
    "root.left.right=Treenode(10)\n",
    "root.right=Treenode(80)\n",
    "root.right.right=Treenode(100)\n",
    "root.right.left=Treenode(8)"
   ]
  },
  {
   "cell_type": "code",
   "execution_count": 10,
   "id": "7ea95ca4",
   "metadata": {},
   "outputs": [
    {
     "name": "stdout",
     "output_type": "stream",
     "text": [
      "100 60 8\n"
     ]
    }
   ],
   "source": [
    "\n",
    "def fix_bst(root):\n",
    "    prev=None\n",
    "    first=None\n",
    "    second=None\n",
    "    def inorder(root):\n",
    "        nonlocal prev,first,second\n",
    "        if(root==None):\n",
    "            return\n",
    "        inorder(root.left)\n",
    "        if(prev!=None and root.key<prev.key):\n",
    "            if(first==None):\n",
    "                first=prev\n",
    "                second=root\n",
    "            else:\n",
    "                second=root\n",
    "        prev=root\n",
    "        inorder(root.right)\n",
    "    inorder(root)\n",
    "    print(prev.key,first.key,second.key)\n",
    "    first.key,second.key=second.key,first.key\n",
    "fix_bst(root)"
   ]
  },
  {
   "cell_type": "code",
   "execution_count": null,
   "id": "9b2bf968",
   "metadata": {},
   "outputs": [],
   "source": []
  }
 ],
 "metadata": {
  "kernelspec": {
   "display_name": "Python 3 (ipykernel)",
   "language": "python",
   "name": "python3"
  },
  "language_info": {
   "codemirror_mode": {
    "name": "ipython",
    "version": 3
   },
   "file_extension": ".py",
   "mimetype": "text/x-python",
   "name": "python",
   "nbconvert_exporter": "python",
   "pygments_lexer": "ipython3",
   "version": "3.9.8"
  }
 },
 "nbformat": 4,
 "nbformat_minor": 5
}

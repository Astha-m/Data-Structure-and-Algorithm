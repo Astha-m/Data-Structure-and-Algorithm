{
 "cells": [
  {
   "cell_type": "code",
   "execution_count": 1,
   "id": "54721711",
   "metadata": {},
   "outputs": [],
   "source": [
    "class Treenode:\n",
    "    def __init__(self,key):\n",
    "        self.key=key\n",
    "        self.left=None\n",
    "        self.right=None\n"
   ]
  },
  {
   "cell_type": "code",
   "execution_count": 2,
   "id": "8e057178",
   "metadata": {},
   "outputs": [],
   "source": [
    "def insert(root,x):\n",
    "    if(root==None):\n",
    "        root=Treenode(x)\n",
    "        return\n",
    "    curr=root\n",
    "    while(curr):\n",
    "        if(curr.key>x):\n",
    "            if(curr.left!=None):\n",
    "                curr=curr.left\n",
    "            else:\n",
    "                curr.left=Treenode(x)\n",
    "                return\n",
    "        else:\n",
    "            if(curr.right!=None):\n",
    "                curr=curr.right\n",
    "            else:\n",
    "                curr.right=Treenode(x)\n",
    "                return\n"
   ]
  },
  {
   "cell_type": "code",
   "execution_count": 3,
   "id": "cb700da8",
   "metadata": {},
   "outputs": [],
   "source": [
    "root=Treenode(50)\n",
    "insert(root,20)\n",
    "insert(root,30)\n",
    "insert(root,40)\n",
    "insert(root,70)\n",
    "insert(root,60)\n",
    "insert(root,80)\n",
    "insert(root,55)\n",
    "insert(root,65)"
   ]
  },
  {
   "cell_type": "code",
   "execution_count": 4,
   "id": "a13b7b89",
   "metadata": {},
   "outputs": [],
   "source": [
    "def traversal(root):\n",
    "    if(root==None):\n",
    "        return\n",
    "    traversal(root.left)\n",
    "    print(root.key)\n",
    "    traversal(root.right)"
   ]
  },
  {
   "cell_type": "code",
   "execution_count": 5,
   "id": "b626e79b",
   "metadata": {},
   "outputs": [
    {
     "name": "stdout",
     "output_type": "stream",
     "text": [
      "20\n",
      "30\n",
      "40\n",
      "50\n",
      "55\n",
      "60\n",
      "65\n",
      "70\n",
      "80\n"
     ]
    }
   ],
   "source": [
    "traversal(root)"
   ]
  },
  {
   "cell_type": "code",
   "execution_count": 6,
   "id": "3abd0441",
   "metadata": {},
   "outputs": [],
   "source": [
    "def floor(root,x):\n",
    "    curr=root\n",
    "    res=-1\n",
    "    while(curr):\n",
    "        if(curr.key==x):\n",
    "            res=x\n",
    "        if(curr.key>x):\n",
    "            curr=curr.left\n",
    "        else:\n",
    "            res=curr.key\n",
    "            curr=curr.right\n",
    "    return res"
   ]
  },
  {
   "cell_type": "code",
   "execution_count": 10,
   "id": "47c6a84b",
   "metadata": {},
   "outputs": [
    {
     "data": {
      "text/plain": [
       "55"
      ]
     },
     "execution_count": 10,
     "metadata": {},
     "output_type": "execute_result"
    }
   ],
   "source": [
    "floor(root,59)"
   ]
  },
  {
   "cell_type": "code",
   "execution_count": 11,
   "id": "7686ca69",
   "metadata": {},
   "outputs": [],
   "source": [
    "def ceil(root,x):\n",
    "    curr=root\n",
    "    res=-1\n",
    "    while(curr):\n",
    "        if(curr.key==x):\n",
    "            res=x\n",
    "        if(curr.key>x):\n",
    "            res=curr.key\n",
    "            curr=curr.left\n",
    "        else:\n",
    "            curr=curr.right\n",
    "    return res"
   ]
  },
  {
   "cell_type": "code",
   "execution_count": 14,
   "id": "2b19bf31",
   "metadata": {},
   "outputs": [
    {
     "data": {
      "text/plain": [
       "60"
      ]
     },
     "execution_count": 14,
     "metadata": {},
     "output_type": "execute_result"
    }
   ],
   "source": [
    "ceil(root,57)"
   ]
  },
  {
   "cell_type": "code",
   "execution_count": null,
   "id": "c8192ab4",
   "metadata": {},
   "outputs": [],
   "source": []
  }
 ],
 "metadata": {
  "kernelspec": {
   "display_name": "Python 3 (ipykernel)",
   "language": "python",
   "name": "python3"
  },
  "language_info": {
   "codemirror_mode": {
    "name": "ipython",
    "version": 3
   },
   "file_extension": ".py",
   "mimetype": "text/x-python",
   "name": "python",
   "nbconvert_exporter": "python",
   "pygments_lexer": "ipython3",
   "version": "3.9.8"
  }
 },
 "nbformat": 4,
 "nbformat_minor": 5
}

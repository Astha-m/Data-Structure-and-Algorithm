{
 "cells": [
  {
   "cell_type": "code",
   "execution_count": 5,
   "id": "f0fae7db",
   "metadata": {},
   "outputs": [],
   "source": [
    "import bisect\n",
    "lst=[]\n",
    "def insert(lst,x):\n",
    "    bisect.insort(lst,x)\n",
    "    print(lst)\n",
    "\n",
    "def search(lst,x):\n",
    "    low=0\n",
    "    high=len(lst)-1\n",
    "    while(low<=high):\n",
    "        mid=(low+high)//2\n",
    "        if(lst[mid]==x):\n",
    "            return mid\n",
    "        elif(lst[mid]>x):\n",
    "            high=mid-1\n",
    "        else:\n",
    "            low=mid+1\n",
    "    return -1\n",
    "\n",
    "def delete(lst,x):\n",
    "    \n",
    "    val=search(lst,x)\n",
    "    if(val==-1):\n",
    "        return \"not found\"\n",
    "    else:\n",
    "        \n",
    "        print('deleted',lst.pop(val))\n",
    "        \n",
    "def kthsmallest(lst,k):\n",
    "    if(k<=len(lst)):\n",
    "        return lst[k-1]\n",
    "    else:\n",
    "        return float('inf')\n",
    "    \n"
   ]
  },
  {
   "cell_type": "code",
   "execution_count": 6,
   "id": "537619ee",
   "metadata": {},
   "outputs": [
    {
     "name": "stdout",
     "output_type": "stream",
     "text": [
      "[10]\n",
      "[5, 10]\n",
      "[5, 10, 15]\n",
      "[5, 10, 15, 20]\n",
      "[2, 5, 10, 15, 20]\n",
      "deleted 15\n"
     ]
    },
    {
     "data": {
      "text/plain": [
       "20"
      ]
     },
     "execution_count": 6,
     "metadata": {},
     "output_type": "execute_result"
    }
   ],
   "source": [
    "insert(lst,10)\n",
    "insert(lst,5)\n",
    "insert(lst,15)\n",
    "insert(lst,20)\n",
    "insert(lst,2)\n",
    "search(lst,15)\n",
    "delete(lst,15)\n",
    "kthsmallest(lst,4)"
   ]
  },
  {
   "cell_type": "code",
   "execution_count": null,
   "id": "5b475465",
   "metadata": {},
   "outputs": [],
   "source": []
  }
 ],
 "metadata": {
  "kernelspec": {
   "display_name": "Python 3 (ipykernel)",
   "language": "python",
   "name": "python3"
  },
  "language_info": {
   "codemirror_mode": {
    "name": "ipython",
    "version": 3
   },
   "file_extension": ".py",
   "mimetype": "text/x-python",
   "name": "python",
   "nbconvert_exporter": "python",
   "pygments_lexer": "ipython3",
   "version": "3.9.8"
  }
 },
 "nbformat": 4,
 "nbformat_minor": 5
}

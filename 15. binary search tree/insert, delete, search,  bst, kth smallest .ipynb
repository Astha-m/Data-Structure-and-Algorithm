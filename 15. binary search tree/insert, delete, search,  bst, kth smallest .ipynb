{
 "cells": [
  {
   "cell_type": "code",
   "execution_count": 1,
   "id": "310e4163",
   "metadata": {},
   "outputs": [],
   "source": [
    "class Treenode:\n",
    "    def __init__(self,key):\n",
    "        self.key=key\n",
    "        self.left=None\n",
    "        self.right=None\n"
   ]
  },
  {
   "cell_type": "code",
   "execution_count": 2,
   "id": "c774132f",
   "metadata": {},
   "outputs": [],
   "source": [
    "\n",
    "def insert(root,x):\n",
    "    if(root==None):\n",
    "        root=Treenode(x)\n",
    "        print(root.key)\n",
    "        return\n",
    "    curr=root\n",
    "    print(root.key)\n",
    "    while(curr):\n",
    "        if(curr.key>x):\n",
    "            if(curr.left!=None):\n",
    "                curr=curr.left\n",
    "            else:\n",
    "                curr.left=Treenode(x)\n",
    "                return\n",
    "        else:\n",
    "            if(curr.right!=None):\n",
    "                curr=curr.right\n",
    "            else:\n",
    "                curr.right=Treenode(x)\n",
    "                return\n",
    "        print(curr.key)"
   ]
  },
  {
   "cell_type": "code",
   "execution_count": 3,
   "id": "bf2077b2",
   "metadata": {},
   "outputs": [
    {
     "name": "stdout",
     "output_type": "stream",
     "text": [
      "15\n",
      "15\n",
      "5\n",
      "15\n",
      "15\n",
      "20\n",
      "15\n",
      "20\n",
      "15\n",
      "20\n",
      "18\n"
     ]
    }
   ],
   "source": [
    "root=Treenode(15)\n",
    "insert(root,5)\n",
    "insert(root,3)\n",
    "insert(root,20)\n",
    "insert(root,18)\n",
    "insert(root,80)\n",
    "insert(root,16)"
   ]
  },
  {
   "cell_type": "code",
   "execution_count": 4,
   "id": "e29f90bb",
   "metadata": {},
   "outputs": [],
   "source": [
    "def traversal(root):\n",
    "    if(root==None):\n",
    "        return\n",
    "    traversal(root.left)\n",
    "    print(root.key)\n",
    "    traversal(root.right)"
   ]
  },
  {
   "cell_type": "code",
   "execution_count": 5,
   "id": "93ce5ddb",
   "metadata": {},
   "outputs": [
    {
     "name": "stdout",
     "output_type": "stream",
     "text": [
      "3\n",
      "5\n",
      "15\n",
      "16\n",
      "18\n",
      "20\n",
      "80\n"
     ]
    }
   ],
   "source": [
    "traversal(root)"
   ]
  },
  {
   "cell_type": "code",
   "execution_count": 6,
   "id": "76a3d223",
   "metadata": {},
   "outputs": [],
   "source": [
    "def getsuccess(root):\n",
    "    curr=root.right\n",
    "    while(curr and curr.left):\n",
    "        curr=curr.left\n",
    "    return curr\n",
    "\n",
    "\n",
    "def deletion(root,x):\n",
    "    if(root==None):\n",
    "        return root\n",
    "    if(root.key>x):\n",
    "        root.left=deletion(root.left,x)\n",
    "    elif(root.key<x):\n",
    "        root.right=deletion(root.right,x)\n",
    "    else:\n",
    "        if(root.left==None):\n",
    "            temp=root.right\n",
    "            del root\n",
    "            return temp\n",
    "        elif(root.right==None):\n",
    "            temp=root.left\n",
    "            del root\n",
    "            return temp\n",
    "        else:\n",
    "            succ=getsuccess(root)\n",
    "            root.key=succ.key\n",
    "            root.right=deletion(root.right,succ.key)\n",
    "    return root"
   ]
  },
  {
   "cell_type": "code",
   "execution_count": 7,
   "id": "38a733ad",
   "metadata": {},
   "outputs": [],
   "source": [
    "rt=deletion(root,16)"
   ]
  },
  {
   "cell_type": "code",
   "execution_count": 8,
   "id": "e447b353",
   "metadata": {},
   "outputs": [
    {
     "name": "stdout",
     "output_type": "stream",
     "text": [
      "3\n",
      "5\n",
      "15\n",
      "18\n",
      "20\n",
      "80\n"
     ]
    }
   ],
   "source": [
    "traversal(rt)"
   ]
  },
  {
   "cell_type": "code",
   "execution_count": 10,
   "id": "b73c03b9",
   "metadata": {},
   "outputs": [],
   "source": [
    "rt=deletion(rt,5)"
   ]
  },
  {
   "cell_type": "code",
   "execution_count": 11,
   "id": "17cf5d8d",
   "metadata": {},
   "outputs": [
    {
     "name": "stdout",
     "output_type": "stream",
     "text": [
      "3\n",
      "15\n",
      "18\n",
      "20\n",
      "80\n"
     ]
    }
   ],
   "source": [
    "traversal(rt)"
   ]
  },
  {
   "cell_type": "code",
   "execution_count": 12,
   "id": "18e2f2be",
   "metadata": {},
   "outputs": [],
   "source": [
    "rt=deletion(rt,20)"
   ]
  },
  {
   "cell_type": "code",
   "execution_count": 13,
   "id": "4bb1f115",
   "metadata": {},
   "outputs": [
    {
     "name": "stdout",
     "output_type": "stream",
     "text": [
      "3\n",
      "15\n",
      "18\n",
      "80\n"
     ]
    }
   ],
   "source": [
    "traversal(rt)"
   ]
  },
  {
   "cell_type": "code",
   "execution_count": 14,
   "id": "97377e00",
   "metadata": {},
   "outputs": [
    {
     "name": "stdout",
     "output_type": "stream",
     "text": [
      "15\n",
      "80\n",
      "18\n"
     ]
    }
   ],
   "source": [
    "insert(rt,16)"
   ]
  },
  {
   "cell_type": "code",
   "execution_count": 15,
   "id": "2c733944",
   "metadata": {},
   "outputs": [
    {
     "name": "stdout",
     "output_type": "stream",
     "text": [
      "15\n",
      "3\n"
     ]
    }
   ],
   "source": [
    "insert(rt,5)"
   ]
  },
  {
   "cell_type": "code",
   "execution_count": 16,
   "id": "d12ce7b6",
   "metadata": {},
   "outputs": [
    {
     "name": "stdout",
     "output_type": "stream",
     "text": [
      "15\n",
      "80\n",
      "18\n"
     ]
    }
   ],
   "source": [
    "insert(rt,20)"
   ]
  },
  {
   "cell_type": "code",
   "execution_count": 17,
   "id": "d3b68bc9",
   "metadata": {},
   "outputs": [
    {
     "name": "stdout",
     "output_type": "stream",
     "text": [
      "3\n",
      "5\n",
      "15\n",
      "16\n",
      "18\n",
      "20\n",
      "80\n"
     ]
    }
   ],
   "source": [
    "traversal(rt)"
   ]
  },
  {
   "cell_type": "code",
   "execution_count": 18,
   "id": "38ae1985",
   "metadata": {},
   "outputs": [
    {
     "data": {
      "text/plain": [
       "True"
      ]
     },
     "execution_count": 18,
     "metadata": {},
     "output_type": "execute_result"
    }
   ],
   "source": [
    "def searching(root,x):\n",
    "    if(root==None):\n",
    "        return False\n",
    "    curr=root\n",
    "    while(curr):\n",
    "        if(curr.key==x):\n",
    "            return True\n",
    "        if(curr.key>x):\n",
    "            curr=curr.left\n",
    "        else:\n",
    "            curr=curr.right\n",
    "    return False\n",
    "searching(rt,20)"
   ]
  },
  {
   "cell_type": "code",
   "execution_count": null,
   "id": "52c96ba8",
   "metadata": {},
   "outputs": [],
   "source": [
   "index=0\n",
   "flag=False\n",
   "def kth_smallest(root,k):\n",
   "    global index,flag\n",
   "    if(flag==True):\n",
   "        return\n",
   "    if(root==None):\n",
   "        return\n",
   "    kth_smallest(root.left,k)\n",
   "    index+=1\n",
   "    if(index==k):\n",
   "        print(root.key)\n",
   "        flag=True\n",
   "        return\n",
   "    kth_smallest(root.right,k)\n",
   "kth_smallest(root,4)\n"
   ]
  }
 ],
 "metadata": {
  "kernelspec": {
   "display_name": "Python 3 (ipykernel)",
   "language": "python",
   "name": "python3"
  },
  "language_info": {
   "codemirror_mode": {
    "name": "ipython",
    "version": 3
   },
   "file_extension": ".py",
   "mimetype": "text/x-python",
   "name": "python",
   "nbconvert_exporter": "python",
   "pygments_lexer": "ipython3",
   "version": "3.9.8"
  }
 },
 "nbformat": 4,
 "nbformat_minor": 5
}

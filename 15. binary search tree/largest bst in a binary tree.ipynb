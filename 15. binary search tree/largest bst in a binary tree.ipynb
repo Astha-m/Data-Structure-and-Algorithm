{
 "cells": [
  {
   "cell_type": "code",
   "execution_count": 1,
   "id": "7201cfdd",
   "metadata": {},
   "outputs": [],
   "source": [
    "class Treenode:\n",
    "    def __init__(self,key):\n",
    "        self.key=key\n",
    "        self.left=None\n",
    "        self.right=None\n"
   ]
  },
  {
   "cell_type": "code",
   "execution_count": 2,
   "id": "a20715d4",
   "metadata": {},
   "outputs": [],
   "source": [
    "root=Treenode(50)\n",
    "root.left=Treenode(30)\n",
    "root.left.left=Treenode(5)\n",
    "root.left.right=Treenode(20)\n",
    "root.right=Treenode(60)\n",
    "root.right.right=Treenode(70)\n",
    "root.right.left=Treenode(45)\n",
    "root.right.right.right=Treenode(80)\n",
    "root.right.right.left=Treenode(65)"
   ]
  },
  {
   "cell_type": "code",
   "execution_count": 4,
   "id": "f5d5066a",
   "metadata": {},
   "outputs": [
    {
     "name": "stdout",
     "output_type": "stream",
     "text": [
      "5\n"
     ]
    }
   ],
   "source": [
    "res=-float('inf')\n",
    "def postorder(root):\n",
    "    global res\n",
    "    if(root==None):\n",
    "        return (0,-float('inf'),float('inf'))\n",
    "    if(root.left==None and root.right==None):\n",
    "        return (1,root.key,root.key)\n",
    "    \n",
    "    left_values=postorder(root.left)\n",
    "    right_values=postorder(root.right)\n",
    "    \n",
    "    if(root.key>left_values[1] and root.key<right_values[2]):\n",
    "        total_nodes=left_values[0]+right_values[0]+1\n",
    "        res=max(res,total_nodes)\n",
    "        \n",
    "        return (total_nodes, max(root.key,left_values[1],right_values[1]), \n",
    "                min(root.key,left_values[2],right_values[2]))\n",
    "    else:\n",
    "        return (0,float('inf'),-float('inf'))\n",
    "postorder(root)\n",
    "print(res)"
   ]
  },
  {
   "cell_type": "code",
   "execution_count": null,
   "id": "f92b5512",
   "metadata": {},
   "outputs": [],
   "source": []
  }
 ],
 "metadata": {
  "kernelspec": {
   "display_name": "Python 3 (ipykernel)",
   "language": "python",
   "name": "python3"
  },
  "language_info": {
   "codemirror_mode": {
    "name": "ipython",
    "version": 3
   },
   "file_extension": ".py",
   "mimetype": "text/x-python",
   "name": "python",
   "nbconvert_exporter": "python",
   "pygments_lexer": "ipython3",
   "version": "3.9.8"
  }
 },
 "nbformat": 4,
 "nbformat_minor": 5
}

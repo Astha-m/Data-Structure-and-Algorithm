{
 "cells": [
  {
   "cell_type": "code",
   "execution_count": 1,
   "id": "684c8659",
   "metadata": {},
   "outputs": [],
   "source": [
    "class Treenode:\n",
    "    def __init__(self,key):\n",
    "        self.key=key\n",
    "        self.left=None\n",
    "        self.right=None\n"
   ]
  },
  {
   "cell_type": "code",
   "execution_count": 2,
   "id": "0dcafa81",
   "metadata": {},
   "outputs": [],
   "source": [
    "root=Treenode(10)\n",
    "root.left=Treenode(8)\n",
    "root.left.left=Treenode(4)\n",
    "root.left.right=Treenode(9)\n",
    "root.right=Treenode(20)\n",
    "root.right.left=Treenode(11)\n",
    "root.right.right=Treenode(30)\n",
    "root.right.right.left=Treenode(25)"
   ]
  },
  {
   "cell_type": "code",
   "execution_count": 14,
   "id": "e62a3307",
   "metadata": {},
   "outputs": [
    {
     "name": "stdout",
     "output_type": "stream",
     "text": [
      "[4, 8, 9, 10, 11, 20, 25, 30]\n"
     ]
    },
    {
     "data": {
      "text/plain": [
       "True"
      ]
     },
     "execution_count": 14,
     "metadata": {},
     "output_type": "execute_result"
    }
   ],
   "source": [
    "# method-1 two pointers\n",
    "\n",
    "def pair_sum1(root,s):\n",
    "    arr=[]\n",
    "    def inorder(root):\n",
    "        \n",
    "        if(root==None):\n",
    "            return\n",
    "        inorder(root.left)\n",
    "        arr.append(root.key)\n",
    "        inorder(root.right)\n",
    "    inorder(root)\n",
    "    print(arr)\n",
    "    \n",
    "    low=0\n",
    "    high=len(arr)-1\n",
    "    while(low<=high):\n",
    "        \n",
    "        if(arr[low]+arr[high]==s):\n",
    "            return True\n",
    "        if(arr[low]+arr[high]<s):\n",
    "            low+=1\n",
    "        else:\n",
    "            high-=1\n",
    "    return False\n",
    "    \n",
    "    \n",
    "pair_sum1(root,33)"
   ]
  },
  {
   "cell_type": "code",
   "execution_count": 15,
   "id": "b7d153c4",
   "metadata": {},
   "outputs": [
    {
     "data": {
      "text/plain": [
       "True"
      ]
     },
     "execution_count": 15,
     "metadata": {},
     "output_type": "execute_result"
    }
   ],
   "source": [
    "# method -2 hashing\n",
    "d=set()\n",
    "def pair_sum2(root,s):\n",
    "    if(root==None):\n",
    "        return False\n",
    "    if(pair_sum2(root.left,s)):\n",
    "        return True\n",
    "    if(s-root.key in d):\n",
    "        return True\n",
    "    else:\n",
    "        d.add(root.key)\n",
    "    return pair_sum2(root.right,s)\n",
    "\n",
    "pair_sum2(root,33)"
   ]
  },
  {
   "cell_type": "code",
   "execution_count": 16,
   "id": "06a60b65",
   "metadata": {},
   "outputs": [
    {
     "data": {
      "text/plain": [
       "{4, 8, 9, 10, 11, 20}"
      ]
     },
     "execution_count": 16,
     "metadata": {},
     "output_type": "execute_result"
    }
   ],
   "source": [
    "d"
   ]
  },
  {
   "cell_type": "code",
   "execution_count": null,
   "id": "e542fd6a",
   "metadata": {},
   "outputs": [],
   "source": []
  }
 ],
 "metadata": {
  "kernelspec": {
   "display_name": "Python 3 (ipykernel)",
   "language": "python",
   "name": "python3"
  },
  "language_info": {
   "codemirror_mode": {
    "name": "ipython",
    "version": 3
   },
   "file_extension": ".py",
   "mimetype": "text/x-python",
   "name": "python",
   "nbconvert_exporter": "python",
   "pygments_lexer": "ipython3",
   "version": "3.9.8"
  }
 },
 "nbformat": 4,
 "nbformat_minor": 5
}

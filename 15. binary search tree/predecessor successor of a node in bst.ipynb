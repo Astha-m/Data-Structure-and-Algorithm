{
 "cells": [
  {
   "cell_type": "code",
   "execution_count": 1,
   "id": "c5661b18",
   "metadata": {},
   "outputs": [],
   "source": [
    "class Treenode:\n",
    "    def __init__(self,key):\n",
    "        self.key=key\n",
    "        self.left=None\n",
    "        self.right=None"
   ]
  },
  {
   "cell_type": "code",
   "execution_count": 2,
   "id": "cf8675b5",
   "metadata": {},
   "outputs": [],
   "source": [
    "root=Treenode(5)\n",
    "root.left=Treenode(2)\n",
    "root.left.left=Treenode(1)\n",
    "root.left.right=Treenode(4)\n",
    "root.left.right.left=Treenode(3)\n",
    "\n",
    "root.right=Treenode(7)\n",
    "root.right.right=Treenode(9)\n",
    "root.right.right.right=Treenode(10)\n",
    "root.right.left=Treenode(6)\n",
    "root.right.right.left=Treenode(8)"
   ]
  },
  {
   "cell_type": "code",
   "execution_count": 3,
   "id": "8848e9ac",
   "metadata": {},
   "outputs": [],
   "source": [
    "def predecessor(root,x):\n",
    "    res=-1\n",
    "    if(root==None):\n",
    "        return -1\n",
    "    curr=root\n",
    "    while(curr):\n",
    "        if(curr.key>=x):\n",
    "            curr=curr.left\n",
    "        else:\n",
    "            res=curr.key\n",
    "            curr=curr.right\n",
    "    return res"
   ]
  },
  {
   "cell_type": "code",
   "execution_count": 7,
   "id": "2953ea0d",
   "metadata": {},
   "outputs": [
    {
     "data": {
      "text/plain": [
       "2"
      ]
     },
     "execution_count": 7,
     "metadata": {},
     "output_type": "execute_result"
    }
   ],
   "source": [
    "predecessor(root,3)"
   ]
  },
  {
   "cell_type": "code",
   "execution_count": 8,
   "id": "e4c1bff3",
   "metadata": {},
   "outputs": [],
   "source": [
    "def successor(root,x):\n",
    "    res=-1\n",
    "    if(root==None):\n",
    "        return -1\n",
    "    curr=root\n",
    "    while(curr):\n",
    "        if(curr.key>x):\n",
    "            res=curr.key\n",
    "            curr=curr.left\n",
    "        else:\n",
    "            curr=curr.right\n",
    "    return res"
   ]
  },
  {
   "cell_type": "code",
   "execution_count": 11,
   "id": "d7a49544",
   "metadata": {},
   "outputs": [
    {
     "data": {
      "text/plain": [
       "2"
      ]
     },
     "execution_count": 11,
     "metadata": {},
     "output_type": "execute_result"
    }
   ],
   "source": [
    "successor(root,1)"
   ]
  },
  {
   "cell_type": "code",
   "execution_count": null,
   "id": "dc693b55",
   "metadata": {},
   "outputs": [],
   "source": []
  }
 ],
 "metadata": {
  "kernelspec": {
   "display_name": "Python 3 (ipykernel)",
   "language": "python",
   "name": "python3"
  },
  "language_info": {
   "codemirror_mode": {
    "name": "ipython",
    "version": 3
   },
   "file_extension": ".py",
   "mimetype": "text/x-python",
   "name": "python",
   "nbconvert_exporter": "python",
   "pygments_lexer": "ipython3",
   "version": "3.9.8"
  }
 },
 "nbformat": 4,
 "nbformat_minor": 5
}

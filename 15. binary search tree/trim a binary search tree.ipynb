{
 "cells": [
  {
   "cell_type": "code",
   "execution_count": 1,
   "id": "e6c8aa31",
   "metadata": {},
   "outputs": [
    {
     "data": {
      "text/plain": [
       "'\\nhttps://leetcode.com/problems/trim-a-binary-search-tree/\\n'"
      ]
     },
     "execution_count": 1,
     "metadata": {},
     "output_type": "execute_result"
    }
   ],
   "source": [
    "'''\n",
    "https://leetcode.com/problems/trim-a-binary-search-tree/\n",
    "'''"
   ]
  },
  {
   "cell_type": "code",
   "execution_count": 2,
   "id": "de257685",
   "metadata": {},
   "outputs": [],
   "source": [
    "class Treenode:\n",
    "    def __init__(self,key):\n",
    "        self.key=key\n",
    "        self.left=None\n",
    "        self.right=None"
   ]
  },
  {
   "cell_type": "code",
   "execution_count": 3,
   "id": "c602be3d",
   "metadata": {},
   "outputs": [],
   "source": [
    "root=Treenode(3)\n",
    "root.left=Treenode(0)\n",
    "root.left.right=Treenode(2)\n",
    "root.left.right.left=Treenode(1)"
   ]
  },
  {
   "cell_type": "code",
   "execution_count": 4,
   "id": "63e09fb8",
   "metadata": {},
   "outputs": [],
   "source": [
    "root.right=Treenode(4)"
   ]
  },
  {
   "cell_type": "code",
   "execution_count": 6,
   "id": "bf8ff3f3",
   "metadata": {},
   "outputs": [],
   "source": [
    "def trimer(root,low,high):\n",
    "    \n",
    "    def dfs(root):\n",
    "        if(root==None):\n",
    "            return\n",
    "        \n",
    "        if(low>root.key):\n",
    "            return dfs(root.right)\n",
    "        \n",
    "        if(high<root.key):\n",
    "            return dfs(root.left)\n",
    "        \n",
    "        root.left=dfs(root.left)\n",
    "        root.right=dfs(root.right)\n",
    "        return root\n",
    "    return dfs(root)\n",
    "rt=trimer(root,1,3)"
   ]
  },
  {
   "cell_type": "code",
   "execution_count": 7,
   "id": "ae38fae9",
   "metadata": {},
   "outputs": [
    {
     "name": "stdout",
     "output_type": "stream",
     "text": [
      "1\n",
      "2\n",
      "3\n"
     ]
    }
   ],
   "source": [
    "def traverse(root):\n",
    "    if(root==None):\n",
    "        return \n",
    "    traverse(root.left)\n",
    "    print(root.key)\n",
    "    traverse(root.right)\n",
    "    \n",
    "traverse(root)"
   ]
  },
  {
   "cell_type": "code",
   "execution_count": null,
   "id": "5d4cff83",
   "metadata": {},
   "outputs": [],
   "source": []
  }
 ],
 "metadata": {
  "kernelspec": {
   "display_name": "Python 3 (ipykernel)",
   "language": "python",
   "name": "python3"
  },
  "language_info": {
   "codemirror_mode": {
    "name": "ipython",
    "version": 3
   },
   "file_extension": ".py",
   "mimetype": "text/x-python",
   "name": "python",
   "nbconvert_exporter": "python",
   "pygments_lexer": "ipython3",
   "version": "3.9.8"
  }
 },
 "nbformat": 4,
 "nbformat_minor": 5
}

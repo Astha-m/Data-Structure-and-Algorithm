{
 "cells": [
  {
   "cell_type": "code",
   "execution_count": 1,
   "id": "9fe12e0d",
   "metadata": {},
   "outputs": [],
   "source": [
    "class Treenode:\n",
    "    def __init__(self,key):\n",
    "        self.key=key\n",
    "        self.left=None\n",
    "        self.right=None\n",
    "        "
   ]
  },
  {
   "cell_type": "code",
   "execution_count": 2,
   "id": "36cebc9e",
   "metadata": {},
   "outputs": [],
   "source": [
    "def insert(root,x):\n",
    "    if(root==None):\n",
    "        root=Treenode(x)\n",
    "        return\n",
    "    curr=root\n",
    "    while(curr):\n",
    "        if(curr.key>x):\n",
    "            if(curr.left!=None):\n",
    "                curr=curr.left\n",
    "            else:\n",
    "                curr.left=Treenode(x)\n",
    "                return\n",
    "        else:\n",
    "            if(curr.right!=None):\n",
    "                curr=curr.right\n",
    "            else:\n",
    "                curr.right=Treenode(x)\n",
    "                return\n"
   ]
  },
  {
   "cell_type": "code",
   "execution_count": 3,
   "id": "1f31be1c",
   "metadata": {},
   "outputs": [],
   "source": [
    "root=Treenode(20)\n",
    "insert(root,10)\n",
    "insert(root,15)\n",
    "insert(root,11)\n",
    "insert(root,25)\n",
    "insert(root,30)\n",
    "insert(root,22)\n",
    "insert(root,28)\n"
   ]
  },
  {
   "cell_type": "code",
   "execution_count": 4,
   "id": "8bbc90cd",
   "metadata": {},
   "outputs": [],
   "source": [
    "def traversal(root):\n",
    "    if(root==None):\n",
    "        return\n",
    "    traversal(root.left)\n",
    "    print(root.key)\n",
    "    traversal(root.right)"
   ]
  },
  {
   "cell_type": "code",
   "execution_count": 5,
   "id": "c503d179",
   "metadata": {},
   "outputs": [
    {
     "name": "stdout",
     "output_type": "stream",
     "text": [
      "10\n",
      "11\n",
      "15\n",
      "20\n",
      "22\n",
      "25\n",
      "28\n",
      "30\n"
     ]
    }
   ],
   "source": [
    "traversal(root)"
   ]
  },
  {
   "cell_type": "code",
   "execution_count": 7,
   "id": "034029d5",
   "metadata": {},
   "outputs": [
    {
     "name": "stdout",
     "output_type": "stream",
     "text": [
      "20 0\n",
      "10 -1\n",
      "15 0\n",
      "11 -1\n",
      "25 1\n",
      "22 0\n",
      "30 2\n",
      "28 1\n",
      "defaultdict(<class 'int'>, {-1: 21, 0: 57, 1: 53, 2: 30})\n",
      "21 57 53 30 "
     ]
    }
   ],
   "source": [
    "from collections import defaultdict\n",
    "d=defaultdict(int)\n",
    "def vertical_sum(root,index):\n",
    "    global d\n",
    "    if(root==None):\n",
    "        return\n",
    "    print(root.key,index)\n",
    "    vertical_sum(root.left,index-1)\n",
    "    d[index]+=root.key\n",
    "    vertical_sum(root.right,index+1)\n",
    "\n",
    "vertical_sum(root,0)\n",
    "print(d)\n",
    "for i in sorted(d.keys()):\n",
    "    print(d[i],end=' ')"
   ]
  },
  {
   "cell_type": "code",
   "execution_count": null,
   "id": "ad19dd27",
   "metadata": {},
   "outputs": [],
   "source": []
  }
 ],
 "metadata": {
  "kernelspec": {
   "display_name": "Python 3 (ipykernel)",
   "language": "python",
   "name": "python3"
  },
  "language_info": {
   "codemirror_mode": {
    "name": "ipython",
    "version": 3
   },
   "file_extension": ".py",
   "mimetype": "text/x-python",
   "name": "python",
   "nbconvert_exporter": "python",
   "pygments_lexer": "ipython3",
   "version": "3.9.8"
  }
 },
 "nbformat": 4,
 "nbformat_minor": 5
}

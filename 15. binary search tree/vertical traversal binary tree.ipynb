{
 "cells": [
  {
   "cell_type": "code",
   "execution_count": 1,
   "id": "bdbadcd7",
   "metadata": {},
   "outputs": [],
   "source": [
    "class Treenode:\n",
    "    def __init__(self,key):\n",
    "        self.key=key\n",
    "        self.left=None\n",
    "        self.right=None\n",
    "        "
   ]
  },
  {
   "cell_type": "code",
   "execution_count": 2,
   "id": "b77bad73",
   "metadata": {},
   "outputs": [],
   "source": [
    "root=Treenode(1)\n",
    "root.left=Treenode(2)\n",
    "root.left.left=Treenode(4)\n",
    "root.left.right=Treenode(5)\n",
    "root.right=Treenode(3)\n",
    "root.right.right=Treenode(7)\n",
    "root.right.left=Treenode(6)\n",
    "root.right.right.left=Treenode(8)\n",
    "root.right.right.left.left=Treenode(9)"
   ]
  },
  {
   "cell_type": "code",
   "execution_count": 3,
   "id": "28478030",
   "metadata": {},
   "outputs": [
    {
     "name": "stdout",
     "output_type": "stream",
     "text": [
      "defaultdict(<class 'list'>, {0: [1, 5, 6, 9], -1: [2], -2: [4], 1: [3, 8], 2: [7]})\n"
     ]
    }
   ],
   "source": [
    "from collections import defaultdict\n",
    "d=defaultdict(list)\n",
    "def vertical_traversal(root,index):\n",
    "    global d\n",
    "    if(root==None):\n",
    "        return\n",
    "    \n",
    "    d[index].append(root.key)\n",
    "    vertical_traversal(root.left,index-1)\n",
    "    vertical_traversal(root.right,index+1)\n",
    "\n",
    "vertical_traversal(root,0)\n",
    "print(d)"
   ]
  },
  {
   "cell_type": "code",
   "execution_count": null,
   "id": "8f42acf8",
   "metadata": {},
   "outputs": [],
   "source": []
  }
 ],
 "metadata": {
  "kernelspec": {
   "display_name": "Python 3 (ipykernel)",
   "language": "python",
   "name": "python3"
  },
  "language_info": {
   "codemirror_mode": {
    "name": "ipython",
    "version": 3
   },
   "file_extension": ".py",
   "mimetype": "text/x-python",
   "name": "python",
   "nbconvert_exporter": "python",
   "pygments_lexer": "ipython3",
   "version": "3.9.8"
  }
 },
 "nbformat": 4,
 "nbformat_minor": 5
}

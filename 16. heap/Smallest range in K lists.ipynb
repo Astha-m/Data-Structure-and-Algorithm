{
 "cells": [
  {
   "cell_type": "code",
   "execution_count": 1,
   "id": "188ec403",
   "metadata": {},
   "outputs": [
    {
     "data": {
      "text/plain": [
       "\"\\nhttps://practice.geeksforgeeks.org/problems/find-smallest-range-containing-elements-from-k-lists/1?page=20&company[]=Amazon&sortBy=submissions\\n\\n\\nGiven K sorted lists of integers, KSortedArray[] of size N each. \\nThe task is to find the smallest range that includes at least one \\nelement from each of the K lists. If more than one such range's are\\nfound, return the first such range found.\\n\\nExample 1:\\n\\nInput:\\nN = 5, K = 3\\nKSortedArray[][] = {{1 3 5 7 9},\\n                    {0 2 4 6 8},\\n                    {2 3 5 7 11}}\\nOutput: 1 2\\nExplanation: K = 3\\nA:[1 3 5 7 9]\\nB:[0 2 4 6 8]\\nC:[2 3 5 7 11]\\nSmallest range is formed by number 1\\npresent in first list and 2 is present\\nin both 2nd and 3rd list.\\nExample 2:\\n\\nInput:\\nN = 4, K = 3\\nKSortedArray[][] = {{1 2 3 4},\\n                    {5 6 7 8},\\n                    {9 10 11 12}}\\nOutput: 4 9\\nYour Task :\\n\\nComplete the function findSmallestRange() that receives array , \\narray size n and k as parameters and returns the output range\\n(as a pair in cpp and array of size 2 in java and python)\\n\\nExpected Time Complexity : O(n * k *log k)\\nExpected Auxilliary Space  : O(k)\\n\\nConstraints:\\n1 <= K,N <= 500\\n0 <= a[ i ] <= 105\\n\\n\\n\""
      ]
     },
     "execution_count": 1,
     "metadata": {},
     "output_type": "execute_result"
    }
   ],
   "source": [
    "'''\n",
    "https://practice.geeksforgeeks.org/problems/find-smallest-range-containing-elements-from-k-lists/1?page=20&company[]=Amazon&sortBy=submissions\n",
    "\n",
    "\n",
    "Given K sorted lists of integers, KSortedArray[] of size N each. \n",
    "The task is to find the smallest range that includes at least one \n",
    "element from each of the K lists. If more than one such range's are\n",
    "found, return the first such range found.\n",
    "\n",
    "Example 1:\n",
    "\n",
    "Input:\n",
    "N = 5, K = 3\n",
    "KSortedArray[][] = {{1 3 5 7 9},\n",
    "                    {0 2 4 6 8},\n",
    "                    {2 3 5 7 11}}\n",
    "Output: 1 2\n",
    "Explanation: K = 3\n",
    "A:[1 3 5 7 9]\n",
    "B:[0 2 4 6 8]\n",
    "C:[2 3 5 7 11]\n",
    "Smallest range is formed by number 1\n",
    "present in first list and 2 is present\n",
    "in both 2nd and 3rd list.\n",
    "Example 2:\n",
    "\n",
    "Input:\n",
    "N = 4, K = 3\n",
    "KSortedArray[][] = {{1 2 3 4},\n",
    "                    {5 6 7 8},\n",
    "                    {9 10 11 12}}\n",
    "Output: 4 9\n",
    "Your Task :\n",
    "\n",
    "Complete the function findSmallestRange() that receives array , \n",
    "array size n and k as parameters and returns the output range\n",
    "(as a pair in cpp and array of size 2 in java and python)\n",
    "\n",
    "Expected Time Complexity : O(n * k *log k)\n",
    "Expected Auxilliary Space  : O(k)\n",
    "\n",
    "Constraints:\n",
    "1 <= K,N <= 500\n",
    "0 <= a[ i ] <= 105\n",
    "\n",
    "\n",
    "'''"
   ]
  },
  {
   "cell_type": "code",
   "execution_count": null,
   "id": "6e87b3c4",
   "metadata": {},
   "outputs": [],
   "source": [
    "def smallestRange(self, arr, n, k):\n",
    "    import heapq\n",
    "    heap=[]\n",
    "\n",
    "    start=0\n",
    "    end=0\n",
    "    mini=float('inf')\n",
    "    maxi=-float('inf')\n",
    "\n",
    "    for i in range(k):\n",
    "        mini=min(arr[i][0],mini)\n",
    "        maxi=max(arr[i][0],maxi)\n",
    "        heapq.heappush(heap,(arr[i][0],i,0))\n",
    "\n",
    "    start=mini\n",
    "    end=maxi\n",
    "\n",
    "    while(len(heap)>=k):\n",
    "        curr=heapq.heappop(heap)\n",
    "\n",
    "        mini=curr[0]\n",
    "\n",
    "        if(maxi-mini<end-start):\n",
    "            start=mini\n",
    "            end=maxi\n",
    "        if(curr[2]+1<n):\n",
    "            heapq.heappush(heap,(arr[curr[1]][curr[2]+1],curr[1],curr[2]+1))\n",
    "            maxi=max(maxi,arr[curr[1]][curr[2]+1])\n",
    "    return [start,end]\n",
    "\n"
   ]
  }
 ],
 "metadata": {
  "kernelspec": {
   "display_name": "Python 3 (ipykernel)",
   "language": "python",
   "name": "python3"
  },
  "language_info": {
   "codemirror_mode": {
    "name": "ipython",
    "version": 3
   },
   "file_extension": ".py",
   "mimetype": "text/x-python",
   "name": "python",
   "nbconvert_exporter": "python",
   "pygments_lexer": "ipython3",
   "version": "3.10.7"
  }
 },
 "nbformat": 4,
 "nbformat_minor": 5
}

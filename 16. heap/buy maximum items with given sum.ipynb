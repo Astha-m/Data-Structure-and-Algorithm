{
 "cells": [
  {
   "cell_type": "code",
   "execution_count": 2,
   "id": "fd9ac92e",
   "metadata": {},
   "outputs": [],
   "source": [
    "def buy_maximum_items(arr,su):\n",
    "    heap=[]\n",
    "    import heapq\n",
    "    for i in arr:\n",
    "        heapq.heappush(heap,i)\n",
    "    currsum=0\n",
    "    count=0\n",
    "    while(heap):\n",
    "        curr=heapq.heappop(heap)\n",
    "        if(curr+currsum<su):\n",
    "            count+=1\n",
    "            currsum+=curr\n",
    "        else:\n",
    "            break\n",
    "    return count\n",
    "    "
   ]
  },
  {
   "cell_type": "code",
   "execution_count": 4,
   "id": "fe408da6",
   "metadata": {},
   "outputs": [
    {
     "data": {
      "text/plain": [
       "2"
      ]
     },
     "execution_count": 4,
     "metadata": {},
     "output_type": "execute_result"
    }
   ],
   "source": [
    "buy_maximum_items([1,12,5,111,200],10)"
   ]
  },
  {
   "cell_type": "code",
   "execution_count": null,
   "id": "33266763",
   "metadata": {},
   "outputs": [],
   "source": []
  }
 ],
 "metadata": {
  "kernelspec": {
   "display_name": "Python 3 (ipykernel)",
   "language": "python",
   "name": "python3"
  },
  "language_info": {
   "codemirror_mode": {
    "name": "ipython",
    "version": 3
   },
   "file_extension": ".py",
   "mimetype": "text/x-python",
   "name": "python",
   "nbconvert_exporter": "python",
   "pygments_lexer": "ipython3",
   "version": "3.9.8"
  }
 },
 "nbformat": 4,
 "nbformat_minor": 5
}

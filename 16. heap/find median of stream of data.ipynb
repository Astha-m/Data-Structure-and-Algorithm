{
 "cells": [
  {
   "cell_type": "code",
   "execution_count": 3,
   "id": "f603a921",
   "metadata": {},
   "outputs": [],
   "source": [
    "def find_median_stream_data():\n",
    "    import heapq\n",
    "    max_heap=[]\n",
    "    min_heap=[]\n",
    "    n=int(input())\n",
    "    while(n!=-1):\n",
    "        if(len(max_heap)>len(min_heap)):\n",
    "            if(-max_heap[0]>n):\n",
    "                heapq.heappush(min_heap,-heapq.heappop(max_heap))\n",
    "                heapq.heappush(max_heap,-n)\n",
    "            else:\n",
    "                heapq.heappush(min_heap,n)\n",
    "            val1=-max_heap[0]\n",
    "            val2=min_heap[0]\n",
    "            print('median=',(val1+val2)/2)\n",
    "        else:\n",
    "            if(len(max_heap)==0 or n<=-max_heap[0]):\n",
    "                heapq.heappush(max_heap,-n)\n",
    "            else:\n",
    "                heapq.heappush(min_heap,n)\n",
    "                val=heapq.heappop(min_heap)\n",
    "                heapq.heappush(max_heap,-val)\n",
    "            print('median=',-max_heap[0])\n",
    "        print(max_heap,min_heap)\n",
    "        n=int(input())"
   ]
  },
  {
   "cell_type": "code",
   "execution_count": 4,
   "id": "5ce48200",
   "metadata": {},
   "outputs": [
    {
     "name": "stdout",
     "output_type": "stream",
     "text": [
      "25\n",
      "median= 25\n",
      "[-25] []\n",
      "7\n",
      "median= 16.0\n",
      "[-7] [25]\n",
      "10\n",
      "median= 10\n",
      "[-10, -7] [25]\n",
      "15\n",
      "median= 12.5\n",
      "[-10, -7] [15, 25]\n",
      "20\n",
      "median= 15\n",
      "[-15, -7, -10] [20, 25]\n",
      "-1\n"
     ]
    }
   ],
   "source": [
    "find_median_stream_data()"
   ]
  },
  {
   "cell_type": "code",
   "execution_count": null,
   "id": "7ca59fe7",
   "metadata": {},
   "outputs": [],
   "source": []
  }
 ],
 "metadata": {
  "kernelspec": {
   "display_name": "Python 3 (ipykernel)",
   "language": "python",
   "name": "python3"
  },
  "language_info": {
   "codemirror_mode": {
    "name": "ipython",
    "version": 3
   },
   "file_extension": ".py",
   "mimetype": "text/x-python",
   "name": "python",
   "nbconvert_exporter": "python",
   "pygments_lexer": "ipython3",
   "version": "3.9.8"
  }
 },
 "nbformat": 4,
 "nbformat_minor": 5
}

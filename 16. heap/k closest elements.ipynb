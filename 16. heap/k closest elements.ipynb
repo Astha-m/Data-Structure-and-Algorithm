{
 "cells": [
  {
   "cell_type": "code",
   "execution_count": 3,
   "id": "c4b9eafa",
   "metadata": {},
   "outputs": [],
   "source": [
    "def k_closest_elements(arr,k,x):\n",
    "    heap=[]\n",
    "    import heapq\n",
    "    for i in arr:\n",
    "        heapq.heappush(heap,(abs(i-x),i))\n",
    "    \n",
    "    for i in range(k):\n",
    "        print(heapq.heappop(heap)[1])"
   ]
  },
  {
   "cell_type": "code",
   "execution_count": 4,
   "id": "17228009",
   "metadata": {},
   "outputs": [
    {
     "name": "stdout",
     "output_type": "stream",
     "text": [
      "5\n",
      "10\n",
      "70\n"
     ]
    }
   ],
   "source": [
    "k_closest_elements([100,80,10,5,70],3,2)"
   ]
  },
  {
   "cell_type": "code",
   "execution_count": null,
   "id": "c9541958",
   "metadata": {},
   "outputs": [],
   "source": []
  }
 ],
 "metadata": {
  "kernelspec": {
   "display_name": "Python 3 (ipykernel)",
   "language": "python",
   "name": "python3"
  },
  "language_info": {
   "codemirror_mode": {
    "name": "ipython",
    "version": 3
   },
   "file_extension": ".py",
   "mimetype": "text/x-python",
   "name": "python",
   "nbconvert_exporter": "python",
   "pygments_lexer": "ipython3",
   "version": "3.9.8"
  }
 },
 "nbformat": 4,
 "nbformat_minor": 5
}

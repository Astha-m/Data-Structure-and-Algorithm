{
 "cells": [
  {
   "cell_type": "code",
   "execution_count": 3,
   "id": "03596cf2",
   "metadata": {},
   "outputs": [],
   "source": [
    "def k_largest(arr,k):\n",
    "    heap=[]\n",
    "    import heapq\n",
    "    for i in arr:\n",
    "        heapq.heappush(heap,(-i,i))\n",
    "    \n",
    "    for i in range(k):\n",
    "        print(heapq.heappop(heap)[1])"
   ]
  },
  {
   "cell_type": "code",
   "execution_count": 4,
   "id": "8b7fd370",
   "metadata": {},
   "outputs": [
    {
     "name": "stdout",
     "output_type": "stream",
     "text": [
      "20\n",
      "15\n"
     ]
    }
   ],
   "source": [
    "k_largest([5,15,10,20,8],2)"
   ]
  },
  {
   "cell_type": "code",
   "execution_count": null,
   "id": "29b8aafc",
   "metadata": {},
   "outputs": [],
   "source": []
  }
 ],
 "metadata": {
  "kernelspec": {
   "display_name": "Python 3 (ipykernel)",
   "language": "python",
   "name": "python3"
  },
  "language_info": {
   "codemirror_mode": {
    "name": "ipython",
    "version": 3
   },
   "file_extension": ".py",
   "mimetype": "text/x-python",
   "name": "python",
   "nbconvert_exporter": "python",
   "pygments_lexer": "ipython3",
   "version": "3.9.8"
  }
 },
 "nbformat": 4,
 "nbformat_minor": 5
}

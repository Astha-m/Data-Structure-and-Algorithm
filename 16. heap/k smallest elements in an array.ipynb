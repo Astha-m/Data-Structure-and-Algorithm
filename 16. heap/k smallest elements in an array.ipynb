{
 "cells": [
  {
   "cell_type": "code",
   "execution_count": 1,
   "id": "5f1d8f0d",
   "metadata": {},
   "outputs": [],
   "source": [
    "def k_smallest(arr,k):\n",
    "    heap=[]\n",
    "    import heapq\n",
    "    for i in arr:\n",
    "        heapq.heappush(heap,i)\n",
    "    \n",
    "    for i in range(k):\n",
    "        print(heapq.heappop(heap))"
   ]
  },
  {
   "cell_type": "code",
   "execution_count": 2,
   "id": "6a8b4a1d",
   "metadata": {},
   "outputs": [
    {
     "name": "stdout",
     "output_type": "stream",
     "text": [
      "4\n",
      "6\n",
      "8\n"
     ]
    }
   ],
   "source": [
    "k_smallest([8,6,4,10,9],3)"
   ]
  },
  {
   "cell_type": "code",
   "execution_count": null,
   "id": "041e98c9",
   "metadata": {},
   "outputs": [],
   "source": []
  }
 ],
 "metadata": {
  "kernelspec": {
   "display_name": "Python 3 (ipykernel)",
   "language": "python",
   "name": "python3"
  },
  "language_info": {
   "codemirror_mode": {
    "name": "ipython",
    "version": 3
   },
   "file_extension": ".py",
   "mimetype": "text/x-python",
   "name": "python",
   "nbconvert_exporter": "python",
   "pygments_lexer": "ipython3",
   "version": "3.9.8"
  }
 },
 "nbformat": 4,
 "nbformat_minor": 5
}

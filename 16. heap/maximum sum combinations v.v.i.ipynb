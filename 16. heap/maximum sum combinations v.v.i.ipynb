{
 "cells": [
  {
   "cell_type": "code",
   "execution_count": 14,
   "id": "6d834ab5",
   "metadata": {},
   "outputs": [],
   "source": [
    "def maximum_sum_combinations(arr1,arr2,c):\n",
    "    arr1.sort()\n",
    "    arr2.sort()\n",
    "    n=len(arr1)\n",
    "    heap=[]\n",
    "    s=set()\n",
    "    import heapq\n",
    "    if(c==0):\n",
    "        return []\n",
    "    else:\n",
    "        heapq.heappush(heap,(-(arr1[n-1]+arr2[n-1]),n-1,n-1))\n",
    "        s.add((n-1,n-1))\n",
    "        count=0\n",
    "        while(heap and count<c):\n",
    "            value,ind1,ind2=heapq.heappop(heap)\n",
    "            print(-value)\n",
    "            count+=1\n",
    "            if(ind1-1>=0 and ind2>=0 and (ind1-1,ind2) not in s):\n",
    "                heapq.heappush(heap,(-(arr1[ind1-1]+arr2[ind2]),ind1-1,ind2))\n",
    "                s.add((ind1-1,ind2))\n",
    "            if(ind1>=0 and ind2-1>=0 and (ind1,ind2-1) not in s):\n",
    "                heapq.heappush(heap,(-(arr1[ind1]+arr2[ind2-1]),ind1,ind2-1))\n",
    "                s.add((ind1,ind2-1))\n",
    "    print(s)"
   ]
  },
  {
   "cell_type": "code",
   "execution_count": 19,
   "id": "dd9afb41",
   "metadata": {},
   "outputs": [
    {
     "name": "stdout",
     "output_type": "stream",
     "text": [
      "13\n",
      "12\n",
      "10\n",
      "10\n",
      "9\n",
      "9\n",
      "8\n",
      "7\n",
      "7\n",
      "6\n",
      "5\n",
      "5\n",
      "4\n",
      "4\n",
      "2\n",
      "1\n",
      "{(0, 1), (1, 2), (2, 1), (0, 0), (3, 1), (1, 1), (0, 3), (2, 0), (3, 0), (2, 3), (0, 2), (3, 3), (2, 2), (1, 0), (3, 2), (1, 3)}\n"
     ]
    }
   ],
   "source": [
    "maximum_sum_combinations([4, 2, 5, 1],[ 8, 0, 3, 5],16)"
   ]
  },
  {
   "cell_type": "code",
   "execution_count": null,
   "id": "68f30c7d",
   "metadata": {},
   "outputs": [],
   "source": []
  }
 ],
 "metadata": {
  "kernelspec": {
   "display_name": "Python 3 (ipykernel)",
   "language": "python",
   "name": "python3"
  },
  "language_info": {
   "codemirror_mode": {
    "name": "ipython",
    "version": 3
   },
   "file_extension": ".py",
   "mimetype": "text/x-python",
   "name": "python",
   "nbconvert_exporter": "python",
   "pygments_lexer": "ipython3",
   "version": "3.9.8"
  }
 },
 "nbformat": 4,
 "nbformat_minor": 5
}

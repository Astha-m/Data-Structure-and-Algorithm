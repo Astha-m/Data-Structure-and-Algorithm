{
 "cells": [
  {
   "cell_type": "code",
   "execution_count": 1,
   "id": "2d4d8582",
   "metadata": {},
   "outputs": [],
   "source": [
    "def merge_k_sorted_array(mat):\n",
    "    rows=len(mat)\n",
    "    res=[]\n",
    "    heap=[]\n",
    "    import heapq\n",
    "    for i in range(rows):\n",
    "        heapq.heappush(heap,(mat[i][0],i,0))\n",
    "    \n",
    "    while(heap):\n",
    "        value,row_no,index=heapq.heappop(heap)\n",
    "        res.append(value)\n",
    "        \n",
    "        if(index+1<len(mat[row_no])):\n",
    "            heapq.heappush(heap,(mat[row_no][index+1],row_no,index+1))\n",
    "    return res"
   ]
  },
  {
   "cell_type": "code",
   "execution_count": 2,
   "id": "57f1796a",
   "metadata": {},
   "outputs": [
    {
     "data": {
      "text/plain": [
       "[1, 5, 9, 10, 11, 15, 18, 20, 30]"
      ]
     },
     "execution_count": 2,
     "metadata": {},
     "output_type": "execute_result"
    }
   ],
   "source": [
    "merge_k_sorted_array([[10,20,30],[5,15],[1,9,11,18]])"
   ]
  },
  {
   "cell_type": "code",
   "execution_count": null,
   "id": "0601beae",
   "metadata": {},
   "outputs": [],
   "source": []
  }
 ],
 "metadata": {
  "kernelspec": {
   "display_name": "Python 3 (ipykernel)",
   "language": "python",
   "name": "python3"
  },
  "language_info": {
   "codemirror_mode": {
    "name": "ipython",
    "version": 3
   },
   "file_extension": ".py",
   "mimetype": "text/x-python",
   "name": "python",
   "nbconvert_exporter": "python",
   "pygments_lexer": "ipython3",
   "version": "3.9.8"
  }
 },
 "nbformat": 4,
 "nbformat_minor": 5
}

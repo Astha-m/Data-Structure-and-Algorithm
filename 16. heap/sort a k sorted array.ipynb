{
 "cells": [
  {
   "cell_type": "code",
   "execution_count": 5,
   "id": "75dacf89",
   "metadata": {},
   "outputs": [],
   "source": [
    "import heapq\n",
    "def sort_k_sorted_array(arr,k):\n",
    "    lstmain=[]\n",
    "    heap=[]\n",
    "    for i in range(k+1):\n",
    "        heapq.heappush(heap,arr[i])\n",
    "    \n",
    "    for i in range(k+1,len(arr)):\n",
    "        val=heapq.heappop(heap)\n",
    "        lstmain.append(val)\n",
    "        heapq.heappush(heap,arr[i])\n",
    "    \n",
    "    while(heap):\n",
    "        lstmain.append(heapq.heappop(heap))\n",
    "    return lstmain"
   ]
  },
  {
   "cell_type": "code",
   "execution_count": 6,
   "id": "653c00da",
   "metadata": {},
   "outputs": [
    {
     "data": {
      "text/plain": [
       "[7, 8, 9, 17, 18, 19]"
      ]
     },
     "execution_count": 6,
     "metadata": {},
     "output_type": "execute_result"
    }
   ],
   "source": [
    "sort_k_sorted_array([9,8,7,18,19,17],2)"
   ]
  },
  {
   "cell_type": "code",
   "execution_count": null,
   "id": "823dfea7",
   "metadata": {},
   "outputs": [],
   "source": []
  }
 ],
 "metadata": {
  "kernelspec": {
   "display_name": "Python 3 (ipykernel)",
   "language": "python",
   "name": "python3"
  },
  "language_info": {
   "codemirror_mode": {
    "name": "ipython",
    "version": 3
   },
   "file_extension": ".py",
   "mimetype": "text/x-python",
   "name": "python",
   "nbconvert_exporter": "python",
   "pygments_lexer": "ipython3",
   "version": "3.9.8"
  }
 },
 "nbformat": 4,
 "nbformat_minor": 5
}

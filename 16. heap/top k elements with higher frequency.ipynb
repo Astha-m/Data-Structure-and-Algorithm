{
 "cells": [
  {
   "cell_type": "code",
   "execution_count": 1,
   "id": "802ff437",
   "metadata": {},
   "outputs": [],
   "source": [
    "def top_k(arr,k):\n",
    "    from collections import defaultdict\n",
    "    d=defaultdict(int)\n",
    "    for i in arr:\n",
    "        d[i]+=1\n",
    "    \n",
    "    heap=[]\n",
    "    import heapq\n",
    "    for i in d.keys():\n",
    "        heapq.heappush(heap,(-d[i],i))\n",
    "    \n",
    "    for i in range(k):\n",
    "        print(heapq.heappop(heap)[1])"
   ]
  },
  {
   "cell_type": "code",
   "execution_count": 2,
   "id": "07ec40c7",
   "metadata": {},
   "outputs": [
    {
     "name": "stdout",
     "output_type": "stream",
     "text": [
      "1\n",
      "2\n"
     ]
    }
   ],
   "source": [
    "top_k([1,1,1,2,2,3],2)"
   ]
  },
  {
   "cell_type": "code",
   "execution_count": null,
   "id": "d7135b90",
   "metadata": {},
   "outputs": [],
   "source": []
  }
 ],
 "metadata": {
  "kernelspec": {
   "display_name": "Python 3 (ipykernel)",
   "language": "python",
   "name": "python3"
  },
  "language_info": {
   "codemirror_mode": {
    "name": "ipython",
    "version": 3
   },
   "file_extension": ".py",
   "mimetype": "text/x-python",
   "name": "python",
   "nbconvert_exporter": "python",
   "pygments_lexer": "ipython3",
   "version": "3.9.8"
  }
 },
 "nbformat": 4,
 "nbformat_minor": 5
}

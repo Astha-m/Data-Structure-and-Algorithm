{
 "cells": [
  {
   "cell_type": "code",
   "execution_count": 1,
   "id": "afe48d14",
   "metadata": {},
   "outputs": [
    {
     "data": {
      "text/plain": [
       "\"\\nhttps://practice.geeksforgeeks.org/problems/alex-travelling/1\\n\\n\\nAlex is very fond of traveling. There are n cities, \\nlabeled from 1 to n.  You are also given flights, a list\\nof travel flights as directed weighted edges flights[i] = (ui,vi,wi) \\nwhere ui is the source node, vi is the target node, and wi is the price\\nit takes for a person to travel from source to target.\\nCurrently, Alex is in k'th city and wants to visit one city of his \\nchoice. Return the minimum money Alex should have so that he can \\nvisit any city of his choice from k'th city. If there is a city \\nthat has no path from k'th city, which means Alex can't visit that city, return -1. \\nAlex always takes the optimal path. He can any city via another \\ncity by taking multiple flights.\\n \\n\\nExample 1:\\n\\nInput:\\nn: 4\\nk: 2\\nflights size: 3\\nflights: [[2,1,1],[2,3,1],[3,4,1]]\\nOutput:\\n2\\nExplanation:\\nto visit 1 from 2 takes cost 1\\nto visit 2 from 2 takes cost 0\\nto visit 3 from 2 takes cost 1\\nto visit 4 from 2 takes cost 2,\\n2->3->4\\nSo if Alex wants to visit city 4\\nfrom 2, he needs 2 units of money\\n\\n\\nExample 2:\\n\\nInput:\\nn: 4 \\nk: 3 \\nflights size: 3 \\nflights: [[2,1,1],[2,3,1],[3,4,1]] \\nOutput: -1\\nExplanation:\\nThere is no direct or indirect path \\nto visit city 2 and 1 from city 3\\n\\n\\n\\n\""
      ]
     },
     "execution_count": 1,
     "metadata": {},
     "output_type": "execute_result"
    }
   ],
   "source": [
    "'''\n",
    "https://practice.geeksforgeeks.org/problems/alex-travelling/1\n",
    "\n",
    "\n",
    "NO NEGATIVE WEIGHTS\n",
    "Alex is very fond of traveling. There are n cities, \n",
    "labeled from 1 to n.  You are also given flights, a list\n",
    "of travel flights as directed weighted edges flights[i] = (ui,vi,wi) \n",
    "where ui is the source node, vi is the target node, and wi is the price\n",
    "it takes for a person to travel from source to target.\n",
    "Currently, Alex is in k'th city and wants to visit one city of his \n",
    "choice. Return the minimum money Alex should have so that he can \n",
    "visit any city of his choice from k'th city. If there is a city \n",
    "that has no path from k'th city, which means Alex can't visit that city, return -1. \n",
    "Alex always takes the optimal path. He can any city via another \n",
    "city by taking multiple flights.\n",
    " \n",
    "\n",
    "Example 1:\n",
    "\n",
    "Input:\n",
    "n: 4\n",
    "k: 2\n",
    "flights size: 3\n",
    "flights: [[2,1,1],[2,3,1],[3,4,1]]\n",
    "Output:\n",
    "2\n",
    "Explanation:\n",
    "to visit 1 from 2 takes cost 1\n",
    "to visit 2 from 2 takes cost 0\n",
    "to visit 3 from 2 takes cost 1\n",
    "to visit 4 from 2 takes cost 2,\n",
    "2->3->4\n",
    "So if Alex wants to visit city 4\n",
    "from 2, he needs 2 units of money\n",
    "\n",
    "\n",
    "Example 2:\n",
    "\n",
    "Input:\n",
    "n: 4 \n",
    "k: 3 \n",
    "flights size: 3 \n",
    "flights: [[2,1,1],[2,3,1],[3,4,1]] \n",
    "Output: -1\n",
    "Explanation:\n",
    "There is no direct or indirect path \n",
    "to visit city 2 and 1 from city 3\n",
    "\n",
    "\n",
    "\n",
    "'''"
   ]
  },
  {
   "cell_type": "code",
   "execution_count": 3,
   "id": "683900b9",
   "metadata": {},
   "outputs": [],
   "source": [
    "def minimumCost(self, flights, n , k ) :\n",
    "    # code here\n",
    "\n",
    "    from collections import defaultdict\n",
    "    d=defaultdict(list)\n",
    "\n",
    "    for i,j,w in flights:\n",
    "        d[i].append((j,w))\n",
    "\n",
    "    cost=[float('inf')]*(n+1)\n",
    "\n",
    "    cost[k]=0\n",
    "\n",
    "    queue=[]\n",
    "    queue.append(k)\n",
    "    while(queue):\n",
    "        curr=queue.pop(0)\n",
    "        for j,w in d[curr]:\n",
    "            if(cost[j]>cost[curr]+w):\n",
    "                queue.append(j)\n",
    "                cost[j]=cost[curr]+w\n",
    "\n",
    "    ans=0\n",
    "    for i in range(1,n+1):\n",
    "        ans=max(ans,cost[i])\n",
    "    if(ans==float('inf')):\n",
    "        return -1\n",
    "    else:\n",
    "        return ans"
   ]
  },
  {
   "cell_type": "code",
   "execution_count": null,
   "id": "f8d30200",
   "metadata": {},
   "outputs": [],
   "source": []
  }
 ],
 "metadata": {
  "kernelspec": {
   "display_name": "Python 3 (ipykernel)",
   "language": "python",
   "name": "python3"
  },
  "language_info": {
   "codemirror_mode": {
    "name": "ipython",
    "version": 3
   },
   "file_extension": ".py",
   "mimetype": "text/x-python",
   "name": "python",
   "nbconvert_exporter": "python",
   "pygments_lexer": "ipython3",
   "version": "3.8.2"
  }
 },
 "nbformat": 4,
 "nbformat_minor": 5
}

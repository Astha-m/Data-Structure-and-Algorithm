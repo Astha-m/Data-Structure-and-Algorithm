{
 "cells": [
  {
   "cell_type": "code",
   "execution_count": 1,
   "id": "8699ffc8",
   "metadata": {},
   "outputs": [
    {
     "data": {
      "text/plain": [
       "'\\nThere are a total of numCourses courses you have to take, labeled from 0 to numCourses - 1. You are given an array prerequisites where prerequisites[i] = [ai, bi] indicates that you must take course bi first if you want to take course ai.\\n\\nFor example, the pair [0, 1], indicates that to take course 0 you have to first take course 1.\\nReturn true if you can finish all courses. Otherwise, return false.\\n\\nhttps://leetcode.com/problems/course-schedule/\\n\\n'"
      ]
     },
     "execution_count": 1,
     "metadata": {},
     "output_type": "execute_result"
    }
   ],
   "source": [
    "'''\n",
    "There are a total of numCourses courses you have to take, labeled from 0 to numCourses - 1. You are given an array prerequisites where prerequisites[i] = [ai, bi] indicates that you must take course bi first if you want to take course ai.\n",
    "\n",
    "For example, the pair [0, 1], indicates that to take course 0 you have to first take course 1.\n",
    "Return true if you can finish all courses. Otherwise, return false.\n",
    "\n",
    "https://leetcode.com/problems/course-schedule/\n",
    "\n",
    "'''"
   ]
  },
  {
   "cell_type": "code",
   "execution_count": 2,
   "id": "0ef19bf7",
   "metadata": {},
   "outputs": [],
   "source": [
    "from collections import defaultdict\n",
    "d=defaultdict(list)"
   ]
  },
  {
   "cell_type": "code",
   "execution_count": 6,
   "id": "48c76e43",
   "metadata": {},
   "outputs": [
    {
     "data": {
      "text/plain": [
       "False"
      ]
     },
     "execution_count": 6,
     "metadata": {},
     "output_type": "execute_result"
    }
   ],
   "source": [
    "def detect_cycle_directed(d,source,visited,recurst):\n",
    "        visited[source]=True\n",
    "        recurst[source]=True\n",
    "        for i in d[source]:\n",
    "            if(visited[i]==False and detect_cycle_directed(d,i,visited,recurst)):\n",
    "                return True\n",
    "            elif(recurst[i]==True):\n",
    "                return True\n",
    "        recurst[source]=False\n",
    "        return False\n",
    "\n",
    "    \n",
    "numCourses=2\n",
    "prerequisites=[[1,0],[0,1]]\n",
    "\n",
    "\n",
    "def canFinish(numCourses,prerequisites):\n",
    "    \n",
    "\n",
    "    d=defaultdict(list)\n",
    "    for i in prerequisites:\n",
    "        start,end=i\n",
    "        d[end].append(start)\n",
    "\n",
    "    #print(d)\n",
    "    visited=[False]*numCourses\n",
    "    recurst=[False]*numCourses\n",
    "    for i in range(numCourses):\n",
    "        if(visited[i]==False):\n",
    "            if(detect_cycle_directed(d,i,visited,recurst)):\n",
    "                return False\n",
    "    return True\n",
    "\n",
    "canFinish(numCourses,prerequisites)"
   ]
  },
  {
   "cell_type": "code",
   "execution_count": null,
   "id": "841124b4",
   "metadata": {},
   "outputs": [],
   "source": []
  }
 ],
 "metadata": {
  "kernelspec": {
   "display_name": "Python 3 (ipykernel)",
   "language": "python",
   "name": "python3"
  },
  "language_info": {
   "codemirror_mode": {
    "name": "ipython",
    "version": 3
   },
   "file_extension": ".py",
   "mimetype": "text/x-python",
   "name": "python",
   "nbconvert_exporter": "python",
   "pygments_lexer": "ipython3",
   "version": "3.9.8"
  }
 },
 "nbformat": 4,
 "nbformat_minor": 5
}

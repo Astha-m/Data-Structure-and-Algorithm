{
 "cells": [
  {
   "cell_type": "code",
   "execution_count": 1,
   "id": "51c72078",
   "metadata": {},
   "outputs": [
    {
     "data": {
      "text/plain": [
       "'\\nGiven an m x n 2D binary grid grid which represents a map of \\'1\\'s (land) and \\'0\\'s (water), return the number of islands.\\n\\nAn island is surrounded by water and is formed by connecting adjacent lands horizontally or vertically. You may assume all four edges of the grid are all surrounded by water.\\n\\n \\n\\nExample 1:\\n\\nInput: grid = [\\n  [\"1\",\"1\",\"1\",\"1\",\"0\"],\\n  [\"1\",\"1\",\"0\",\"1\",\"0\"],\\n  [\"1\",\"1\",\"0\",\"0\",\"0\"],\\n  [\"0\",\"0\",\"0\",\"0\",\"0\"]\\n]\\nOutput: 1\\n\\nhttps://leetcode.com/problems/number-of-islands/\\n\\n'"
      ]
     },
     "execution_count": 1,
     "metadata": {},
     "output_type": "execute_result"
    }
   ],
   "source": [
    "'''\n",
    "Given an m x n 2D binary grid grid which represents a map of '1's (land) and '0's (water), return the number of islands.\n",
    "\n",
    "An island is surrounded by water and is formed by connecting adjacent lands horizontally or vertically. You may assume all four edges of the grid are all surrounded by water.\n",
    "\n",
    " \n",
    "\n",
    "Example 1:\n",
    "\n",
    "Input: grid = [\n",
    "  [\"1\",\"1\",\"1\",\"1\",\"0\"],\n",
    "  [\"1\",\"1\",\"0\",\"1\",\"0\"],\n",
    "  [\"1\",\"1\",\"0\",\"0\",\"0\"],\n",
    "  [\"0\",\"0\",\"0\",\"0\",\"0\"]\n",
    "]\n",
    "Output: 1\n",
    "\n",
    "https://leetcode.com/problems/number-of-islands/\n",
    "\n",
    "'''"
   ]
  },
  {
   "cell_type": "code",
   "execution_count": 4,
   "id": "d9642212",
   "metadata": {},
   "outputs": [],
   "source": [
    "def numIslands(grid):\n",
    "    row=len(grid)\n",
    "    col=len(grid[0])\n",
    "    \n",
    "    def dfs(grid,row,col):\n",
    "        if(row<0 or col<0 or row>=len(grid) or col>=len(grid[0]) or grid[row][col]=='0'):\n",
    "            return\n",
    "        \n",
    "        grid[row][col]='0'\n",
    "        \n",
    "        dfs(grid,row-1,col)\n",
    "        dfs(grid,row+1,col)\n",
    "        dfs(grid,row,col-1)\n",
    "        dfs(grid,row,col+1)\n",
    "    \n",
    "    count=0\n",
    "    for i in range(row):\n",
    "        for j in range(col):\n",
    "            if(grid[i][j]=='1'):\n",
    "                count+=1\n",
    "                dfs(grid,i,j)\n",
    "    return count"
   ]
  },
  {
   "cell_type": "code",
   "execution_count": 6,
   "id": "c1d29c31",
   "metadata": {},
   "outputs": [
    {
     "data": {
      "text/plain": [
       "3"
      ]
     },
     "execution_count": 6,
     "metadata": {},
     "output_type": "execute_result"
    }
   ],
   "source": [
    "numIslands(  [\n",
    "  [\"1\",\"1\",\"0\",\"0\",\"0\"],\n",
    "  [\"1\",\"1\",\"0\",\"0\",\"0\"],\n",
    "  [\"0\",\"0\",\"1\",\"0\",\"0\"],\n",
    "  [\"0\",\"0\",\"0\",\"1\",\"1\"]\n",
    "])"
   ]
  },
  {
   "cell_type": "code",
   "execution_count": null,
   "id": "a7ce8e90",
   "metadata": {},
   "outputs": [],
   "source": []
  }
 ],
 "metadata": {
  "kernelspec": {
   "display_name": "Python 3 (ipykernel)",
   "language": "python",
   "name": "python3"
  },
  "language_info": {
   "codemirror_mode": {
    "name": "ipython",
    "version": 3
   },
   "file_extension": ".py",
   "mimetype": "text/x-python",
   "name": "python",
   "nbconvert_exporter": "python",
   "pygments_lexer": "ipython3",
   "version": "3.9.8"
  }
 },
 "nbformat": 4,
 "nbformat_minor": 5
}

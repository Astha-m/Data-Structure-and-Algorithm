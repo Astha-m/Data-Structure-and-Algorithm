{
 "cells": [
  {
   "cell_type": "code",
   "execution_count": 1,
   "id": "a32b9642",
   "metadata": {},
   "outputs": [],
   "source": [
    "from collections import defaultdict\n",
    "d=defaultdict(list)"
   ]
  },
  {
   "cell_type": "code",
   "execution_count": 2,
   "id": "035e330d",
   "metadata": {},
   "outputs": [
    {
     "name": "stdout",
     "output_type": "stream",
     "text": [
      "5 6\n",
      "0 1 8\n",
      "0 2 9\n",
      "1 3 10\n",
      "1 4 3\n",
      "2 4 5\n",
      "3 4 6\n",
      "defaultdict(<class 'list'>, {0: [(8, 1, 0), (9, 2, 0)], 1: [(8, 0, 1), (10, 3, 1), (3, 4, 1)], 2: [(9, 0, 2), (5, 4, 2)], 3: [(10, 1, 3), (6, 4, 3)], 4: [(3, 1, 4), (5, 2, 4), (6, 3, 4)]})\n"
     ]
    }
   ],
   "source": [
    "v,e= map(int,input().split())\n",
    "for i in range(e):\n",
    "    start,end,weight=map(int,input().split())\n",
    "    d[start].append((weight,end,start))\n",
    "    d[end].append((weight,start,end))\n",
    "    \n",
    "print(d)"
   ]
  },
  {
   "cell_type": "code",
   "execution_count": 3,
   "id": "059f780c",
   "metadata": {},
   "outputs": [],
   "source": [
    "import heapq\n",
    "def prims_algo(d,v):\n",
    "    visited=[False]*v\n",
    "    heap=[]\n",
    "    total=0\n",
    "    for i in range(v):\n",
    "        if(visited[i]==False):\n",
    "            visited[i]=True\n",
    "            for j in d[i]:\n",
    "                heapq.heappush(heap,j)\n",
    "            \n",
    "            while(heap):\n",
    "                curr=heapq.heappop(heap)\n",
    "                if(visited[curr[1]] and visited[curr[2]]):\n",
    "                    continue\n",
    "                else:\n",
    "                    total+=curr[0]\n",
    "                    visited[curr[1]]=True\n",
    "                    for j in d[curr[1]]:\n",
    "                        heapq.heappush(heap,j)\n",
    "    return total"
   ]
  },
  {
   "cell_type": "code",
   "execution_count": 4,
   "id": "cd73fbb5",
   "metadata": {},
   "outputs": [
    {
     "data": {
      "text/plain": [
       "22"
      ]
     },
     "execution_count": 4,
     "metadata": {},
     "output_type": "execute_result"
    }
   ],
   "source": [
    "prims_algo(d,v)"
   ]
  },
  {
   "cell_type": "code",
   "execution_count": null,
   "id": "9453f6b5",
   "metadata": {},
   "outputs": [],
   "source": [
    "0 1 8\n",
    "0 2 9\n",
    "1 3 10\n",
    "1 4 3\n",
    "2 4 5\n",
    "3 4 6"
   ]
  }
 ],
 "metadata": {
  "kernelspec": {
   "display_name": "Python 3 (ipykernel)",
   "language": "python",
   "name": "python3"
  },
  "language_info": {
   "codemirror_mode": {
    "name": "ipython",
    "version": 3
   },
   "file_extension": ".py",
   "mimetype": "text/x-python",
   "name": "python",
   "nbconvert_exporter": "python",
   "pygments_lexer": "ipython3",
   "version": "3.9.8"
  }
 },
 "nbformat": 4,
 "nbformat_minor": 5
}

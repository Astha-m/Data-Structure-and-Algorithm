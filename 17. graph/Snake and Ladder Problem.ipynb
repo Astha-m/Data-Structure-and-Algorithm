{
 "cells": [
  {
   "cell_type": "code",
   "execution_count": 1,
   "id": "c8b8d520",
   "metadata": {},
   "outputs": [
    {
     "data": {
      "text/plain": [
       "'\\nhttps://practice.geeksforgeeks.org/problems/snake-and-ladder-problem4816/1?page=19&company[]=Amazon&sortBy=submissions\\n\\n\\n\\nGiven a 5x6 snakes and ladders board, find the minimum number \\nof dice throws required to reach the destination or last cell (30th cell) from the source (1st cell).\\n\\nYou are given an integer N denoting the total number of snakes and\\nladders and an array arr[] of 2*N size where 2*i and (2*i + 1)th values\\ndenote the starting and ending point respectively of ith snake or ladder.\\nThe board looks like the following.\\nNote: Assume that you have complete control over the 6 sided dice.\\n\\n\\n'"
      ]
     },
     "execution_count": 1,
     "metadata": {},
     "output_type": "execute_result"
    }
   ],
   "source": [
    "'''\n",
    "https://practice.geeksforgeeks.org/problems/snake-and-ladder-problem4816/1?page=19&company[]=Amazon&sortBy=submissions\n",
    "\n",
    "\n",
    "\n",
    "Given a 5x6 snakes and ladders board, find the minimum number \n",
    "of dice throws required to reach the destination or last cell (30th cell) from the source (1st cell).\n",
    "\n",
    "You are given an integer N denoting the total number of snakes and\n",
    "ladders and an array arr[] of 2*N size where 2*i and (2*i + 1)th values\n",
    "denote the starting and ending point respectively of ith snake or ladder.\n",
    "The board looks like the following.\n",
    "Note: Assume that you have complete control over the 6 sided dice.\n",
    "\n",
    "\n",
    "'''"
   ]
  },
  {
   "cell_type": "code",
   "execution_count": null,
   "id": "074a41dd",
   "metadata": {},
   "outputs": [],
   "source": [
    "def minThrow(self, n, arr):\n",
    "    snakes_n_ladders,visited,t,steps={},set(),5*6,0\n",
    "\n",
    "    for i in range(0,2*n,2):\n",
    "        snakes_n_ladders[arr[i]-1]=arr[i+1]-1\n",
    "\n",
    "    queue=[]\n",
    "    queue.append(0)\n",
    "    visited.add(0)\n",
    "    while(queue):\n",
    "        count=len(queue)\n",
    "        for i in range(count):\n",
    "            curr=queue.pop(0)\n",
    "            for next_pos in range(curr+1,curr+7):\n",
    "                if(next_pos<t):\n",
    "                    if(next_pos in snakes_n_ladders):\n",
    "                        next_pos=snakes_n_ladders[next_pos]\n",
    "                    if(next_pos not in visited):\n",
    "                        if(next_pos==(t-1)):\n",
    "                            return (steps+1)\n",
    "                        visited.add(next_pos)\n",
    "                        queue.append(next_pos)\n",
    "        steps+=1\n",
    "    return -1\n"
   ]
  }
 ],
 "metadata": {
  "kernelspec": {
   "display_name": "Python 3 (ipykernel)",
   "language": "python",
   "name": "python3"
  },
  "language_info": {
   "codemirror_mode": {
    "name": "ipython",
    "version": 3
   },
   "file_extension": ".py",
   "mimetype": "text/x-python",
   "name": "python",
   "nbconvert_exporter": "python",
   "pygments_lexer": "ipython3",
   "version": "3.10.7"
  }
 },
 "nbformat": 4,
 "nbformat_minor": 5
}

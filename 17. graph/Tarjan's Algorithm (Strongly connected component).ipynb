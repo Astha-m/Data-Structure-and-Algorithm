{
 "cells": [
  {
   "cell_type": "code",
   "execution_count": 6,
   "id": "f8c213ac",
   "metadata": {},
   "outputs": [
    {
     "data": {
      "text/plain": [
       "\"\\nhttps://practice.geeksforgeeks.org/problems/strongly-connected-component-tarjanss-algo-1587115621/1?page=2&company[]=Amazon&category[]=Graph&sortBy=submissions\\n\\n\\nStrongly connected component (Tarjans's Algo)\\n\\n\\n\\n\""
      ]
     },
     "execution_count": 6,
     "metadata": {},
     "output_type": "execute_result"
    }
   ],
   "source": [
    "'''\n",
    "https://practice.geeksforgeeks.org/problems/strongly-connected-component-tarjanss-algo-1587115621/1?page=2&company[]=Amazon&category[]=Graph&sortBy=submissions\n",
    "\n",
    "\n",
    "Strongly connected component (Tarjans's Algo)\n",
    "\n",
    "\n",
    "\n",
    "'''"
   ]
  },
  {
   "cell_type": "code",
   "execution_count": 4,
   "id": "229c3bf6",
   "metadata": {},
   "outputs": [
    {
     "name": "stdout",
     "output_type": "stream",
     "text": [
      "11 17\n",
      "0 1\n",
      "0 3\n",
      "1 2\n",
      "1 4\n",
      "2 0\n",
      "2 6\n",
      "3 2\n",
      "4 5\n",
      "4 6\n",
      "5 6\n",
      "5 7\n",
      "5 8\n",
      "5 9\n",
      "6 4\n",
      "7 9\n",
      "8 9\n",
      "9 8\n"
     ]
    }
   ],
   "source": [
    "v,e=map(int,input().split())\n",
    "from collections import defaultdict\n",
    "d=defaultdict(list)\n",
    "for i in range(e):\n",
    "    start,end=map(int,input().split())\n",
    "    d[start].append(end)\n",
    "\n"
   ]
  },
  {
   "cell_type": "code",
   "execution_count": 5,
   "id": "f17f7f7d",
   "metadata": {},
   "outputs": [
    {
     "name": "stdout",
     "output_type": "stream",
     "text": [
      "8 9 \n",
      "7 \n",
      "5 4 6 \n",
      "3 2 1 0 \n",
      "10 \n"
     ]
    }
   ],
   "source": [
    "time=0\n",
    "def dfs(source,disc,low,recst,dfs_stack):\n",
    "    global time\n",
    "    disc[source]=time\n",
    "    low[source]=time\n",
    "    time+=1\n",
    "    \n",
    "    recst[source]=True\n",
    "    dfs_stack.append(source)\n",
    "    \n",
    "    for j in d[source]:\n",
    "        \n",
    "        if(disc[j]==-1):\n",
    "            dfs(j,disc,low,recst,dfs_stack)\n",
    "            \n",
    "            low[source]=min(low[source],low[j])\n",
    "        elif(recst[j]==True):\n",
    "            low[source]=min(low[source],disc[j])\n",
    "            \n",
    "    w=-1\n",
    "    if(low[source]==disc[source]):\n",
    "        while(w!=source):\n",
    "            w=dfs_stack.pop()\n",
    "            print(w,end=' ')\n",
    "            recst[w]=False\n",
    "        print()\n",
    "    \n",
    "    \n",
    "    \n",
    "\n",
    "disc=[-1]*v\n",
    "low=[float('inf')]*v\n",
    "recst=[False]*v\n",
    "dfs_stack=[]\n",
    "    \n",
    "for i in range(v):\n",
    "    if(disc[i]==-1):\n",
    "        dfs(i,disc,low,recst,dfs_stack)\n",
    "        "
   ]
  },
  {
   "cell_type": "code",
   "execution_count": null,
   "id": "79941b2e",
   "metadata": {},
   "outputs": [],
   "source": []
  }
 ],
 "metadata": {
  "kernelspec": {
   "display_name": "Python 3 (ipykernel)",
   "language": "python",
   "name": "python3"
  },
  "language_info": {
   "codemirror_mode": {
    "name": "ipython",
    "version": 3
   },
   "file_extension": ".py",
   "mimetype": "text/x-python",
   "name": "python",
   "nbconvert_exporter": "python",
   "pygments_lexer": "ipython3",
   "version": "3.9.13"
  }
 },
 "nbformat": 4,
 "nbformat_minor": 5
}

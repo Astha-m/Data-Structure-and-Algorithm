{
 "cells": [
  {
   "cell_type": "code",
   "execution_count": 1,
   "id": "ccaf1034",
   "metadata": {},
   "outputs": [],
   "source": [
    "from collections import defaultdict\n",
    "d=defaultdict(list)"
   ]
  },
  {
   "cell_type": "code",
   "execution_count": 2,
   "id": "93bc3e3e",
   "metadata": {},
   "outputs": [
    {
     "name": "stdout",
     "output_type": "stream",
     "text": [
      "5 6\n",
      "0 1\n",
      "0 2\n",
      "2 1\n",
      "2 3\n",
      "3 4\n",
      "4 2\n",
      "defaultdict(<class 'list'>, {0: [1, 2], 2: [1, 3], 3: [4], 4: [2]})\n"
     ]
    }
   ],
   "source": [
    "v,e=map(int,input().split())\n",
    "for i in range(e):\n",
    "    start,end=map(int,input().split())\n",
    "    d[start].append(end)\n",
    "    \n",
    "    \n",
    "print(d)"
   ]
  },
  {
   "cell_type": "code",
   "execution_count": 3,
   "id": "c1e7fd9e",
   "metadata": {},
   "outputs": [
    {
     "ename": "SyntaxError",
     "evalue": "invalid syntax (Temp/ipykernel_13168/1795018640.py, line 1)",
     "output_type": "error",
     "traceback": [
      "\u001b[1;36m  File \u001b[1;32m\"C:\\Users\\aashu\\AppData\\Local\\Temp/ipykernel_13168/1795018640.py\"\u001b[1;36m, line \u001b[1;32m1\u001b[0m\n\u001b[1;33m    5 6\u001b[0m\n\u001b[1;37m      ^\u001b[0m\n\u001b[1;31mSyntaxError\u001b[0m\u001b[1;31m:\u001b[0m invalid syntax\n"
     ]
    }
   ],
   "source": [
    "5 6\n",
    "0 1\n",
    "0 2\n",
    "2 1\n",
    "2 3\n",
    "3 4\n",
    "4 2"
   ]
  },
  {
   "cell_type": "code",
   "execution_count": 6,
   "id": "f58fe972",
   "metadata": {},
   "outputs": [
    {
     "name": "stdout",
     "output_type": "stream",
     "text": [
      "cross edge found between 2 1\n",
      "0\n",
      "2\n",
      "[0, 1, 2, 3, 4]\n",
      "[0, 1, 2, 2, 2]\n"
     ]
    }
   ],
   "source": [
    "time=0\n",
    "def dfs(d,source,visited,parent,recst,disc,low,ap):\n",
    "    global time\n",
    "    \n",
    "    visited[source]=True\n",
    "    recst[source]=True\n",
    "    disc[source]=time\n",
    "    low[source]=time\n",
    "    time+=1\n",
    "    \n",
    "    children=0\n",
    "    \n",
    "    for j in d[source]:\n",
    "        if(visited[j]==False):\n",
    "            parent[j]=source\n",
    "            children+=1\n",
    "            dfs(d,j,visited,parent,recst,disc,low,ap)\n",
    "            \n",
    "            low[source]=min(low[source],low[j])\n",
    "            \n",
    "            if(parent[source]==-1 and children>1):\n",
    "                ap[source]=True\n",
    "            \n",
    "            if(parent[source]!=-1 and low[j]>=disc[source]):\n",
    "                ap[source]=True\n",
    "                \n",
    "        elif(visited[j]==True and recst[j]==False):\n",
    "            print('cross edge found between',source,j)\n",
    "            continue\n",
    "            \n",
    "        elif(j!=parent[source]):\n",
    "            low[source]=min(low[source],disc[j])\n",
    "    recst[source]=False\n",
    "\n",
    "\n",
    "\n",
    "def articulation_point(d,v):\n",
    "    visited=[False]*v\n",
    "    parent=[-1]*v\n",
    "    \n",
    "    disc=[float('inf')]*v\n",
    "    low=[float('inf')]*v\n",
    "    \n",
    "    recst=[False]*v\n",
    "    ap=[False]*v\n",
    "    \n",
    "    for i in range(v):\n",
    "        if(visited[i]==False):\n",
    "            dfs(d,i,visited,parent,recst,disc,low,ap)\n",
    "            \n",
    "    for i in range(v):\n",
    "        if(ap[i]==True):\n",
    "            print(i)\n",
    "    print(disc)\n",
    "    print(low)\n",
    "articulation_point(d,v)"
   ]
  },
  {
   "cell_type": "code",
   "execution_count": null,
   "id": "a0d5a2e7",
   "metadata": {},
   "outputs": [],
   "source": []
  }
 ],
 "metadata": {
  "kernelspec": {
   "display_name": "Python 3 (ipykernel)",
   "language": "python",
   "name": "python3"
  },
  "language_info": {
   "codemirror_mode": {
    "name": "ipython",
    "version": 3
   },
   "file_extension": ".py",
   "mimetype": "text/x-python",
   "name": "python",
   "nbconvert_exporter": "python",
   "pygments_lexer": "ipython3",
   "version": "3.9.8"
  }
 },
 "nbformat": 4,
 "nbformat_minor": 5
}

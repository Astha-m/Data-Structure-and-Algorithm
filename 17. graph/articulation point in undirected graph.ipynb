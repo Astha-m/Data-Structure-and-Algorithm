{
 "cells": [
  {
   "cell_type": "code",
   "execution_count": null,
   "id": "07e8d0e3",
   "metadata": {},
   "outputs": [],
   "source": [
    "'''\n",
    "https://www.geeksforgeeks.org/articulation-points-or-cut-vertices-in-a-graph/\n",
    "\n",
    "'''"
   ]
  },
  {
   "cell_type": "code",
   "execution_count": 1,
   "id": "68f8c5f3",
   "metadata": {},
   "outputs": [],
   "source": [
    "from collections import defaultdict\n",
    "d=defaultdict(list)"
   ]
  },
  {
   "cell_type": "code",
   "execution_count": 2,
   "id": "5cba1771",
   "metadata": {},
   "outputs": [
    {
     "name": "stdout",
     "output_type": "stream",
     "text": [
      "5 6\n",
      "0 1\n",
      "0 2\n",
      "1 2\n",
      "2 3\n",
      "3 4\n",
      "2 4\n",
      "defaultdict(<class 'list'>, {0: [1, 2], 1: [0, 2], 2: [0, 1, 3, 4], 3: [2, 4], 4: [3, 2]})\n"
     ]
    }
   ],
   "source": [
    "v,e=map(int,input().split())\n",
    "for i in range(e):\n",
    "    start,end=map(int,input().split())\n",
    "    d[start].append(end)\n",
    "    d[end].append(start)\n",
    "    \n",
    "print(d)"
   ]
  },
  {
   "cell_type": "code",
   "execution_count": 3,
   "id": "35920154",
   "metadata": {},
   "outputs": [
    {
     "name": "stdout",
     "output_type": "stream",
     "text": [
      "[False, False, True, False, False]\n",
      "2\n",
      "[0, 1, 2, 3, 4]\n",
      "[0, 0, 0, 2, 2]\n"
     ]
    }
   ],
   "source": [
    "time=0\n",
    "\n",
    "def dfs(d,source,parent,visited,ap,disc,low):\n",
    "    global time\n",
    "    visited[source]=True\n",
    "    \n",
    "    disc[source]=time\n",
    "    low[source]=time\n",
    "    #print(source,disc,low)\n",
    "    time+=1\n",
    "    children=0\n",
    "    \n",
    "    for j in d[source]:\n",
    "        if(visited[j]==False):\n",
    "            parent[j]=source\n",
    "            children+=1\n",
    "            \n",
    "            dfs(d,j,parent,visited,ap,disc,low)\n",
    "            \n",
    "            low[source]=min(low[source],low[j])\n",
    "            \n",
    "            if(parent[source]==-1 and children>1):\n",
    "                ap[source]=True\n",
    "                \n",
    "            if(parent[source]!=-1 and low[j]>=disc[source]):\n",
    "                ap[source]=True\n",
    "                \n",
    "                \n",
    "        elif(j!=parent[source]):\n",
    "            low[source]=min(low[source],disc[j])\n",
    "    \n",
    "    \n",
    "    \n",
    "\n",
    "def articulation_point(d,v):\n",
    "    visited=[False]*v\n",
    "    \n",
    "    disc=[float('inf')]*v\n",
    "    low=[float('inf')]*v\n",
    "    \n",
    "    ap=[False]*v\n",
    "    parent=[-1]*v\n",
    "    \n",
    "    for i in range(v):\n",
    "        if(visited[i]==False):\n",
    "            dfs(d,i,parent,visited,ap,disc,low)\n",
    "            \n",
    "    print(ap)\n",
    "    \n",
    "    for i in range(v):\n",
    "        if(ap[i]==True):\n",
    "            print(i)\n",
    "    print(disc)\n",
    "    print(low)\n",
    "articulation_point(d,v)"
   ]
  },
  {
   "cell_type": "code",
   "execution_count": null,
   "id": "6d69b970",
   "metadata": {},
   "outputs": [],
   "source": []
  }
 ],
 "metadata": {
  "kernelspec": {
   "display_name": "Python 3 (ipykernel)",
   "language": "python",
   "name": "python3"
  },
  "language_info": {
   "codemirror_mode": {
    "name": "ipython",
    "version": 3
   },
   "file_extension": ".py",
   "mimetype": "text/x-python",
   "name": "python",
   "nbconvert_exporter": "python",
   "pygments_lexer": "ipython3",
   "version": "3.9.8"
  }
 },
 "nbformat": 4,
 "nbformat_minor": 5
}

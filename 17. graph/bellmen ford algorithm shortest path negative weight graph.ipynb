{
 "cells": [
  {
   "cell_type": "code",
   "execution_count": 1,
   "id": "47729757",
   "metadata": {},
   "outputs": [],
   "source": [
    "from collections import defaultdict\n",
    "d=defaultdict(list)\n"
   ]
  },
  {
   "cell_type": "code",
   "execution_count": 3,
   "id": "365c97b8",
   "metadata": {},
   "outputs": [
    {
     "name": "stdout",
     "output_type": "stream",
     "text": [
      "4 5\n",
      "0 1 1\n",
      "0 2 4\n",
      "1 2 -3\n",
      "1 3 2\n",
      "2 3 3\n",
      "defaultdict(<class 'list'>, {0: [(1, 1), (2, 4), (1, 1), (2, 4)], 1: [(2, -3), (3, 2), (2, -3), (3, 2)], 2: [(3, 3), (3, 3)]})\n"
     ]
    }
   ],
   "source": [
    "v,e=map(int,input().split())\n",
    "lst_edges=[]\n",
    "for i in range(e):\n",
    "    start,end,weight=map(int,input().split())\n",
    "    d[start].append((end,weight))\n",
    "    lst_edges.append((start,end,weight))\n",
    "    \n",
    "print(d)"
   ]
  },
  {
   "cell_type": "code",
   "execution_count": 4,
   "id": "3c81ab16",
   "metadata": {},
   "outputs": [],
   "source": [
    "def bellmen_ford(d,v,source,e):\n",
    "    dist=[float('inf')]*v\n",
    "    dist[source]=0\n",
    "    \n",
    "    for i in range(v-1):\n",
    "        for i in range(e):\n",
    "            start,end,weight=lst_edges[i]\n",
    "            dist[end]=min(dist[end],dist[start]+weight)\n",
    "    print(dist)"
   ]
  },
  {
   "cell_type": "code",
   "execution_count": 5,
   "id": "277da599",
   "metadata": {},
   "outputs": [
    {
     "name": "stdout",
     "output_type": "stream",
     "text": [
      "[0, 1, -2, 1]\n"
     ]
    }
   ],
   "source": [
    "bellmen_ford(d,v,0,e)"
   ]
  },
  {
   "cell_type": "code",
   "execution_count": null,
   "id": "6ec5a71d",
   "metadata": {},
   "outputs": [],
   "source": [
    "4 5\n",
    "0 1 1\n",
    "0 2 4\n",
    "1 2 -3\n",
    "1 3 2\n",
    "2 3 3"
   ]
  }
 ],
 "metadata": {
  "kernelspec": {
   "display_name": "Python 3 (ipykernel)",
   "language": "python",
   "name": "python3"
  },
  "language_info": {
   "codemirror_mode": {
    "name": "ipython",
    "version": 3
   },
   "file_extension": ".py",
   "mimetype": "text/x-python",
   "name": "python",
   "nbconvert_exporter": "python",
   "pygments_lexer": "ipython3",
   "version": "3.9.8"
  }
 },
 "nbformat": 4,
 "nbformat_minor": 5
}

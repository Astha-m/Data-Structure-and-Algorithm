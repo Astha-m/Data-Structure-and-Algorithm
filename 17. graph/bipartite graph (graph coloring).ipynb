{
 "cells": [
  {
   "cell_type": "code",
   "execution_count": 1,
   "id": "802dc6e8",
   "metadata": {},
   "outputs": [],
   "source": [
    "from collections import defaultdict\n",
    "d=defaultdict(list)"
   ]
  },
  {
   "cell_type": "code",
   "execution_count": 2,
   "id": "cf9d8ffd",
   "metadata": {},
   "outputs": [
    {
     "name": "stdout",
     "output_type": "stream",
     "text": [
      "4 5\n",
      "0 1\n",
      "1 2\n",
      "2 3\n",
      "3 0\n",
      "0 2\n",
      "defaultdict(<class 'list'>, {0: [1, 3, 2], 1: [0, 2], 2: [1, 3, 0], 3: [2, 0]})\n"
     ]
    }
   ],
   "source": [
    "v,e=map(int,input().split())\n",
    "for i in range(e):\n",
    "    start,end=map(int,input().split())\n",
    "    d[start].append(end)\n",
    "    d[end].append(start)\n",
    "    \n",
    "print(d)"
   ]
  },
  {
   "cell_type": "code",
   "execution_count": 4,
   "id": "f2bb230e",
   "metadata": {},
   "outputs": [
    {
     "data": {
      "text/plain": [
       "False"
      ]
     },
     "execution_count": 4,
     "metadata": {},
     "output_type": "execute_result"
    }
   ],
   "source": [
    "def bfs(d,source,color):\n",
    "    queue=[]\n",
    "    queue.append(source)\n",
    "    while(queue):\n",
    "        curr=queue.pop(0)\n",
    "        for j in d[curr]:\n",
    "            if(color[j]==-1):\n",
    "                color[j]=1-color[source]\n",
    "                queue.append(j)\n",
    "            else:\n",
    "                if(color[j]==color[source]):\n",
    "                    return False\n",
    "    return True\n",
    "\n",
    "\n",
    "def bipartite(d,v):\n",
    "    \n",
    "    color=[-1]*v\n",
    "    \n",
    "    for i in range(v):\n",
    "        if(color[i]==-1 and bfs(d,i,color)==False):\n",
    "            return False\n",
    "    \n",
    "    return True\n",
    "\n",
    "bipartite(d,v)"
   ]
  },
  {
   "cell_type": "code",
   "execution_count": null,
   "id": "9e14eea8",
   "metadata": {},
   "outputs": [],
   "source": []
  }
 ],
 "metadata": {
  "kernelspec": {
   "display_name": "Python 3 (ipykernel)",
   "language": "python",
   "name": "python3"
  },
  "language_info": {
   "codemirror_mode": {
    "name": "ipython",
    "version": 3
   },
   "file_extension": ".py",
   "mimetype": "text/x-python",
   "name": "python",
   "nbconvert_exporter": "python",
   "pygments_lexer": "ipython3",
   "version": "3.9.8"
  }
 },
 "nbformat": 4,
 "nbformat_minor": 5
}

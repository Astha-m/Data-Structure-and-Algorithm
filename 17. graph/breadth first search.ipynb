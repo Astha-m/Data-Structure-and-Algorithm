{
 "cells": [
  {
   "cell_type": "code",
   "execution_count": 2,
   "id": "65af4ef4",
   "metadata": {},
   "outputs": [],
   "source": [
    "from collections import defaultdict\n",
    "d=defaultdict(list)"
   ]
  },
  {
   "cell_type": "code",
   "execution_count": 3,
   "id": "a700f354",
   "metadata": {},
   "outputs": [
    {
     "name": "stdout",
     "output_type": "stream",
     "text": [
      "6 7\n",
      "0 1\n",
      "1 3\n",
      "3 5\n",
      "5 4\n",
      "4 2\n",
      "2 0\n",
      "0 5\n",
      "defaultdict(<class 'list'>, {0: [1, 2, 5], 1: [0, 3], 3: [1, 5], 5: [3, 4, 0], 4: [5, 2], 2: [4, 0]})\n"
     ]
    }
   ],
   "source": [
    "v,e=map(int,input().split())\n",
    "for i in range(e):\n",
    "    start,end=map(int,input().split())\n",
    "    d[start].append(end)\n",
    "    d[end].append(start)\n",
    "print(d)"
   ]
  },
  {
   "cell_type": "code",
   "execution_count": 4,
   "id": "ea84fc84",
   "metadata": {},
   "outputs": [
    {
     "name": "stdout",
     "output_type": "stream",
     "text": [
      "0\n",
      "1\n",
      "2\n",
      "5\n",
      "3\n",
      "4\n"
     ]
    }
   ],
   "source": [
    "def bfs(d,start,v):\n",
    "    queue=[]\n",
    "    queue.append(start)\n",
    "    visited=[False]*(v)\n",
    "    visited[start]=True\n",
    "    while(queue):\n",
    "        curr=queue.pop(0)\n",
    "        print(curr)\n",
    "        for i in d[curr]:\n",
    "            if(visited[i]==False):\n",
    "                queue.append(i)\n",
    "                visited[i]=True\n",
    "\n",
    "bfs(d,0,v)"
   ]
  },
  {
   "cell_type": "code",
   "execution_count": null,
   "id": "9fa5cdea",
   "metadata": {},
   "outputs": [],
   "source": []
  }
 ],
 "metadata": {
  "kernelspec": {
   "display_name": "Python 3 (ipykernel)",
   "language": "python",
   "name": "python3"
  },
  "language_info": {
   "codemirror_mode": {
    "name": "ipython",
    "version": 3
   },
   "file_extension": ".py",
   "mimetype": "text/x-python",
   "name": "python",
   "nbconvert_exporter": "python",
   "pygments_lexer": "ipython3",
   "version": "3.9.8"
  }
 },
 "nbformat": 4,
 "nbformat_minor": 5
}

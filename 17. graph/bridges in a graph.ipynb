{
 "cells": [
  {
   "cell_type": "code",
   "execution_count": 4,
   "id": "939bb8f5",
   "metadata": {},
   "outputs": [],
   "source": [
    "from collections import defaultdict\n",
    "d=defaultdict(list)"
   ]
  },
  {
   "cell_type": "code",
   "execution_count": 5,
   "id": "d280cc05",
   "metadata": {},
   "outputs": [
    {
     "name": "stdout",
     "output_type": "stream",
     "text": [
      "6 7\n",
      "0 2\n",
      "0 1\n",
      "1 2\n",
      "2 3\n",
      "3 4\n",
      "4 5\n",
      "3 5\n",
      "defaultdict(<class 'list'>, {0: [2, 1], 2: [0, 1, 3], 1: [0, 2], 3: [2, 4, 5], 4: [3, 5], 5: [4, 3]})\n"
     ]
    }
   ],
   "source": [
    "v,e=map(int,input().split())\n",
    "for i in range(e):\n",
    "    start,end=map(int,input().split())\n",
    "    d[start].append(end)\n",
    "    d[end].append(start)\n",
    "    \n",
    "print(d)"
   ]
  },
  {
   "cell_type": "code",
   "execution_count": 6,
   "id": "880b20e0",
   "metadata": {},
   "outputs": [
    {
     "name": "stdout",
     "output_type": "stream",
     "text": [
      "bridge connection between 2 3\n"
     ]
    }
   ],
   "source": [
    "time=0\n",
    "def dfs(d,source,visited,parent,disc,low):\n",
    "    global time\n",
    "    visited[source]=True\n",
    "    \n",
    "    disc[source]=time\n",
    "    low[source]=time\n",
    "    time+=1\n",
    "    #print(source)\n",
    "    \n",
    "    for j in d[source]:\n",
    "        if(visited[j]==False):\n",
    "            parent[j]=source\n",
    "            dfs(d,j,visited,parent,disc,low)\n",
    "            \n",
    "            low[source]=min(low[source],low[j])\n",
    "            \n",
    "            if(low[j]>disc[source]):\n",
    "                print('bridge connection between',source,j)\n",
    "            \n",
    "        else:\n",
    "            if(j!=parent[source]):\n",
    "                low[source]=min(low[source],disc[j])\n",
    "    \n",
    "    \n",
    "\n",
    "\n",
    "\n",
    "def bridges(d,v):\n",
    "    visited=[False]*v\n",
    "    parent=[-1]*v\n",
    "    \n",
    "    disc=[float('inf')]*v\n",
    "    low=[float('inf')]*v\n",
    "    \n",
    "    for i in range(v):\n",
    "        if(visited[i]==False):\n",
    "            dfs(d,i,visited,parent,disc,low)\n",
    "            \n",
    "bridges(d,v)"
   ]
  },
  {
   "cell_type": "code",
   "execution_count": null,
   "id": "893a2a0d",
   "metadata": {},
   "outputs": [],
   "source": [
    "5 5\n",
    "0 1\n",
    "1 2\n",
    "0 2\n",
    "1 3\n",
    "3 4\n",
    "\n",
    "\n",
    "\n",
    "6 7\n",
    "0 2\n",
    "0 1\n",
    "1 2\n",
    "2 3\n",
    "3 4\n",
    "4 5\n",
    "3 5\n"
   ]
  }
 ],
 "metadata": {
  "kernelspec": {
   "display_name": "Python 3 (ipykernel)",
   "language": "python",
   "name": "python3"
  },
  "language_info": {
   "codemirror_mode": {
    "name": "ipython",
    "version": 3
   },
   "file_extension": ".py",
   "mimetype": "text/x-python",
   "name": "python",
   "nbconvert_exporter": "python",
   "pygments_lexer": "ipython3",
   "version": "3.9.8"
  }
 },
 "nbformat": 4,
 "nbformat_minor": 5
}

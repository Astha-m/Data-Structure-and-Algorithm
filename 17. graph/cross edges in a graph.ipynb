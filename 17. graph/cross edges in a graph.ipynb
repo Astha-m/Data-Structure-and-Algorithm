{
 "cells": [
  {
   "cell_type": "code",
   "execution_count": 1,
   "id": "d5e8f75a",
   "metadata": {},
   "outputs": [],
   "source": [
    "from collections import defaultdict\n",
    "d=defaultdict(list)"
   ]
  },
  {
   "cell_type": "code",
   "execution_count": 2,
   "id": "3b4657ca",
   "metadata": {},
   "outputs": [
    {
     "name": "stdout",
     "output_type": "stream",
     "text": [
      "5 6\n",
      "0 1\n",
      "0 2\n",
      "2 1\n",
      "2 3\n",
      "3 4\n",
      "4 2\n",
      "defaultdict(<class 'list'>, {0: [1, 2], 2: [1, 3], 3: [4], 4: [2]})\n"
     ]
    }
   ],
   "source": [
    "v,e=map(int,input().split())\n",
    "for i in range(e):\n",
    "    start,end=map(int,input().split())\n",
    "    d[start].append(end)\n",
    "    \n",
    "print(d)"
   ]
  },
  {
   "cell_type": "code",
   "execution_count": 3,
   "id": "6b84fa67",
   "metadata": {},
   "outputs": [
    {
     "name": "stdout",
     "output_type": "stream",
     "text": [
      "cross edge found between 2 1\n"
     ]
    }
   ],
   "source": [
    "def dfs(d,source,visited,recst):\n",
    "    visited[source]=True\n",
    "    recst[source]=True\n",
    "    \n",
    "    for j in d[source]:\n",
    "        if(visited[j]==False):\n",
    "            dfs(d,j,visited,recst)\n",
    "            \n",
    "        elif(visited[j]==True and recst[j]==False):\n",
    "            print('cross edge found between',source,j)\n",
    "            \n",
    "    recst[source]=False\n",
    "\n",
    "\n",
    "def cross_edge(d,v):\n",
    "    visited=[False]*v\n",
    "    recst=[False]*v\n",
    "    \n",
    "    for i in range(v):\n",
    "        if(visited[i]==False):\n",
    "            dfs(d,i,visited,recst)\n",
    "\n",
    "cross_edge(d,v)"
   ]
  },
  {
   "cell_type": "code",
   "execution_count": null,
   "id": "c4d595be",
   "metadata": {},
   "outputs": [],
   "source": []
  }
 ],
 "metadata": {
  "kernelspec": {
   "display_name": "Python 3 (ipykernel)",
   "language": "python",
   "name": "python3"
  },
  "language_info": {
   "codemirror_mode": {
    "name": "ipython",
    "version": 3
   },
   "file_extension": ".py",
   "mimetype": "text/x-python",
   "name": "python",
   "nbconvert_exporter": "python",
   "pygments_lexer": "ipython3",
   "version": "3.9.8"
  }
 },
 "nbformat": 4,
 "nbformat_minor": 5
}

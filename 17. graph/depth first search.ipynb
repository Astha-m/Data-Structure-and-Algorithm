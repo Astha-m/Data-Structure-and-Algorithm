{
 "cells": [
  {
   "cell_type": "code",
   "execution_count": 1,
   "id": "c04833f8",
   "metadata": {},
   "outputs": [],
   "source": [
    "from collections import defaultdict\n",
    "d=defaultdict(list)"
   ]
  },
  {
   "cell_type": "code",
   "execution_count": 2,
   "id": "0acdda6f",
   "metadata": {},
   "outputs": [
    {
     "name": "stdout",
     "output_type": "stream",
     "text": [
      "6 6\n",
      "0 1\n",
      "0 2\n",
      "2 3\n",
      "1 3\n",
      "1 4\n",
      "4 5\n",
      "defaultdict(<class 'list'>, {0: [1, 2], 1: [0, 3, 4], 2: [0, 3], 3: [2, 1], 4: [1, 5], 5: [4]})\n"
     ]
    }
   ],
   "source": [
    "v,e=map(int,input().split())\n",
    "for i in range(e):\n",
    "    start,end=map(int,input().split())\n",
    "    d[start].append(end)\n",
    "    d[end].append(start)\n",
    "    \n",
    "print(d)"
   ]
  },
  {
   "cell_type": "code",
   "execution_count": 4,
   "id": "04caa720",
   "metadata": {},
   "outputs": [
    {
     "name": "stdout",
     "output_type": "stream",
     "text": [
      "0\n",
      "1\n",
      "3\n",
      "2\n",
      "4\n",
      "5\n"
     ]
    }
   ],
   "source": [
    "def dfsUtil(d,visited,source):\n",
    "    print(source)\n",
    "    visited[source]=True\n",
    "    for i in d[source]:\n",
    "        if(visited[i]==False):\n",
    "            dfsUtil(d,visited,i)\n",
    "\n",
    "def dfs(d,source,v):\n",
    "    visited=[False]*v\n",
    "    dfsUtil(d,visited,source)\n",
    "    \n",
    "dfs(d,0,v)"
   ]
  },
  {
   "cell_type": "code",
   "execution_count": null,
   "id": "f2dcf00e",
   "metadata": {},
   "outputs": [],
   "source": []
  }
 ],
 "metadata": {
  "kernelspec": {
   "display_name": "Python 3 (ipykernel)",
   "language": "python",
   "name": "python3"
  },
  "language_info": {
   "codemirror_mode": {
    "name": "ipython",
    "version": 3
   },
   "file_extension": ".py",
   "mimetype": "text/x-python",
   "name": "python",
   "nbconvert_exporter": "python",
   "pygments_lexer": "ipython3",
   "version": "3.9.8"
  }
 },
 "nbformat": 4,
 "nbformat_minor": 5
}

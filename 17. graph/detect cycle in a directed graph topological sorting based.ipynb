{
 "cells": [
  {
   "cell_type": "code",
   "execution_count": 1,
   "id": "9af40679",
   "metadata": {},
   "outputs": [],
   "source": [
    "from collections import defaultdict\n",
    "d=defaultdict(list)"
   ]
  },
  {
   "cell_type": "code",
   "execution_count": 2,
   "id": "59455e0c",
   "metadata": {},
   "outputs": [
    {
     "name": "stdout",
     "output_type": "stream",
     "text": [
      "5 5\n",
      "0 1\n",
      "4 1\n",
      "1 2\n",
      "2 3\n",
      "3 1\n",
      "defaultdict(<class 'list'>, {0: [1], 4: [1], 1: [2], 2: [3], 3: [1]})\n"
     ]
    }
   ],
   "source": [
    "v,e=map(int,input().split())\n",
    "for i in range(e):\n",
    "    start,end=map(int,input().split())\n",
    "    d[start].append(end)\n",
    "    \n",
    "print(d)"
   ]
  },
  {
   "cell_type": "code",
   "execution_count": 5,
   "id": "95a5bcc0",
   "metadata": {},
   "outputs": [],
   "source": [
    "def detect_cycle_direct_topo(d,v):\n",
    "    indegree=[0]*v\n",
    "    visited=[False]*v\n",
    "    count=0\n",
    "    for i in range(v):\n",
    "        for j in d[i]:\n",
    "            indegree[j]+=1\n",
    "    \n",
    "    print(indegree)\n",
    "    \n",
    "    queue=[]\n",
    "    for i in range(v):\n",
    "        if(indegree[i]==0):\n",
    "            queue.append(i)\n",
    "    \n",
    "    while(queue):\n",
    "        curr=queue.pop(0)\n",
    "        count+=1\n",
    "        for i in d[curr]:\n",
    "            indegree[i]-=1\n",
    "            if(indegree[i]==0):\n",
    "                queue.append(i)\n",
    "    return count!=v"
   ]
  },
  {
   "cell_type": "code",
   "execution_count": 6,
   "id": "dfd8f7e2",
   "metadata": {},
   "outputs": [
    {
     "name": "stdout",
     "output_type": "stream",
     "text": [
      "[0, 3, 1, 1, 0]\n"
     ]
    },
    {
     "data": {
      "text/plain": [
       "True"
      ]
     },
     "execution_count": 6,
     "metadata": {},
     "output_type": "execute_result"
    }
   ],
   "source": [
    "detect_cycle_direct_topo(d,v)"
   ]
  },
  {
   "cell_type": "code",
   "execution_count": null,
   "id": "837443cf",
   "metadata": {},
   "outputs": [],
   "source": []
  }
 ],
 "metadata": {
  "kernelspec": {
   "display_name": "Python 3 (ipykernel)",
   "language": "python",
   "name": "python3"
  },
  "language_info": {
   "codemirror_mode": {
    "name": "ipython",
    "version": 3
   },
   "file_extension": ".py",
   "mimetype": "text/x-python",
   "name": "python",
   "nbconvert_exporter": "python",
   "pygments_lexer": "ipython3",
   "version": "3.9.8"
  }
 },
 "nbformat": 4,
 "nbformat_minor": 5
}

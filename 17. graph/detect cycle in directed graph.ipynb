{
 "cells": [
  {
   "cell_type": "code",
   "execution_count": 2,
   "id": "c4bbe2fa",
   "metadata": {},
   "outputs": [],
   "source": [
    "from collections import defaultdict\n",
    "d=defaultdict(list)"
   ]
  },
  {
   "cell_type": "code",
   "execution_count": 3,
   "id": "e2252f85",
   "metadata": {},
   "outputs": [
    {
     "name": "stdout",
     "output_type": "stream",
     "text": [
      "6 7\n",
      "0 1\n",
      "1 2\n",
      "2 3\n",
      "3 4\n",
      "4 5\n",
      "5 3\n",
      "5 2\n",
      "defaultdict(<class 'list'>, {0: [1], 1: [2], 2: [3], 3: [4], 4: [5], 5: [3, 2]})\n"
     ]
    }
   ],
   "source": [
    "v,e=map(int,input().split())\n",
    "for i in range(e):\n",
    "    start,end=map(int,input().split())\n",
    "    d[start].append(end)\n",
    "    \n",
    "    \n",
    "print(d)"
   ]
  },
  {
   "cell_type": "code",
   "execution_count": 4,
   "id": "c5417111",
   "metadata": {},
   "outputs": [],
   "source": [
    "\n",
    "def detect_cycle_util(d,source,visited,recst):\n",
    "    visited[source]=True\n",
    "    recst[source]=True\n",
    "    for i in d[source]:\n",
    "        if(visited[i]==False):\n",
    "            \n",
    "            if(detect_cycle_util(d,i,visited,recst)):\n",
    "                return True\n",
    "        else:\n",
    "            if(recst[i]==True):\n",
    "                return True\n",
    "    recst[source]=False\n",
    "    return False\n",
    "\n",
    "\n",
    "\n",
    "def detect_cycle_directed(d,v):\n",
    "    visited=[False]*v\n",
    "    recst=[False]*v\n",
    "    \n",
    "    for i in range(v):\n",
    "        if(visited[i]==False):\n",
    "            if(detect_cycle_util(d,i,visited,recst)):\n",
    "                return True\n",
    "    return False"
   ]
  },
  {
   "cell_type": "code",
   "execution_count": 5,
   "id": "adab3787",
   "metadata": {},
   "outputs": [
    {
     "data": {
      "text/plain": [
       "True"
      ]
     },
     "execution_count": 5,
     "metadata": {},
     "output_type": "execute_result"
    }
   ],
   "source": [
    "detect_cycle_directed(d,v)"
   ]
  },
  {
   "cell_type": "code",
   "execution_count": null,
   "id": "c1c5ad00",
   "metadata": {},
   "outputs": [],
   "source": []
  }
 ],
 "metadata": {
  "kernelspec": {
   "display_name": "Python 3 (ipykernel)",
   "language": "python",
   "name": "python3"
  },
  "language_info": {
   "codemirror_mode": {
    "name": "ipython",
    "version": 3
   },
   "file_extension": ".py",
   "mimetype": "text/x-python",
   "name": "python",
   "nbconvert_exporter": "python",
   "pygments_lexer": "ipython3",
   "version": "3.9.8"
  }
 },
 "nbformat": 4,
 "nbformat_minor": 5
}

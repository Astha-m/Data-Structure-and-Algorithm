{
 "cells": [
  {
   "cell_type": "code",
   "execution_count": 1,
   "id": "ea83dca3",
   "metadata": {},
   "outputs": [],
   "source": [
    "from collections import defaultdict\n",
    "d=defaultdict(list)"
   ]
  },
  {
   "cell_type": "code",
   "execution_count": 2,
   "id": "a69bf1d6",
   "metadata": {},
   "outputs": [
    {
     "name": "stdout",
     "output_type": "stream",
     "text": [
      "6 6\n",
      "0 1\n",
      "1 2\n",
      "2 4\n",
      "4 5\n",
      "1 3\n",
      "2 3\n",
      "defaultdict(<class 'list'>, {0: [1], 1: [0, 2, 3], 2: [1, 4, 3], 4: [2, 5], 5: [4], 3: [1, 2]})\n"
     ]
    }
   ],
   "source": [
    "v,e=map(int,input().split())\n",
    "for i in range(e):\n",
    "    start,end=map(int,input().split())\n",
    "    d[start].append(end)\n",
    "    d[end].append(start)\n",
    "    \n",
    "print(d)"
   ]
  },
  {
   "cell_type": "code",
   "execution_count": 7,
   "id": "fdfada07",
   "metadata": {},
   "outputs": [],
   "source": [
    "def detect_cycle_util(d,source,visited,parent):\n",
    "    visited[source]=True\n",
    "    for i in d[source]:\n",
    "        if(visited[i]==False):\n",
    "            \n",
    "            if(detect_cycle_util(d,i,visited,source)):\n",
    "                return True\n",
    "        else:\n",
    "            if(i!=parent):\n",
    "                return True\n",
    "    return False\n",
    "\n",
    "\n",
    "\n",
    "def detect_cycle_undirected(d,v):\n",
    "    visited=[False]*v\n",
    "    for i in range(v):\n",
    "        if(visited[i]==False):\n",
    "            if(detect_cycle_util(d,i,visited,-1)):\n",
    "                return True\n",
    "    \n",
    "    return False"
   ]
  },
  {
   "cell_type": "code",
   "execution_count": 8,
   "id": "32dfbb7f",
   "metadata": {},
   "outputs": [
    {
     "data": {
      "text/plain": [
       "True"
      ]
     },
     "execution_count": 8,
     "metadata": {},
     "output_type": "execute_result"
    }
   ],
   "source": [
    "detect_cycle_undirected(d,v)"
   ]
  },
  {
   "cell_type": "code",
   "execution_count": null,
   "id": "d9ea4f06",
   "metadata": {},
   "outputs": [],
   "source": []
  }
 ],
 "metadata": {
  "kernelspec": {
   "display_name": "Python 3 (ipykernel)",
   "language": "python",
   "name": "python3"
  },
  "language_info": {
   "codemirror_mode": {
    "name": "ipython",
    "version": 3
   },
   "file_extension": ".py",
   "mimetype": "text/x-python",
   "name": "python",
   "nbconvert_exporter": "python",
   "pygments_lexer": "ipython3",
   "version": "3.9.8"
  }
 },
 "nbformat": 4,
 "nbformat_minor": 5
}

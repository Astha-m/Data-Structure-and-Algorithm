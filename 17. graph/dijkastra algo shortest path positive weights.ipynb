{
 "cells": [
  {
   "cell_type": "code",
   "execution_count": 1,
   "id": "0f0e000b",
   "metadata": {},
   "outputs": [],
   "source": [
    "from collections import defaultdict\n",
    "d=defaultdict(list)"
   ]
  },
  {
   "cell_type": "code",
   "execution_count": 2,
   "id": "03ece969",
   "metadata": {},
   "outputs": [
    {
     "name": "stdout",
     "output_type": "stream",
     "text": [
      "9 14\n",
      "0 1 4\n",
      "0 2 8\n",
      "1 3 8\n",
      "1 2 11\n",
      "2 4 7\n",
      "2 5 1\n",
      "3 4 2\n",
      "4 5 6\n",
      "3 6 7\n",
      "3 7 4\n",
      "5 7 2\n",
      "6 7 14\n",
      "6 8 9\n",
      "7 8 10\n",
      "defaultdict(<class 'list'>, {0: [(1, 4), (2, 8)], 1: [(0, 4), (3, 8), (2, 11)], 2: [(0, 8), (1, 11), (4, 7), (5, 1)], 3: [(1, 8), (4, 2), (6, 7), (7, 4)], 4: [(2, 7), (3, 2), (5, 6)], 5: [(2, 1), (4, 6), (7, 2)], 6: [(3, 7), (7, 14), (8, 9)], 7: [(3, 4), (5, 2), (6, 14), (8, 10)], 8: [(6, 9), (7, 10)]})\n"
     ]
    }
   ],
   "source": [
    "v,e=map(int,input().split())\n",
    "for i in range(e):\n",
    "    start,end,weight=map(int,input().split())\n",
    "    d[start].append((end,weight))\n",
    "    d[end].append((start,weight))\n",
    "    \n",
    "print(d)"
   ]
  },
  {
   "cell_type": "code",
   "execution_count": 21,
   "id": "816b93c6",
   "metadata": {},
   "outputs": [],
   "source": [
    "def dijkastra(d,source,v):\n",
    "    visited=[False]*v\n",
    "    \n",
    "    \n",
    "    dist=[float('inf')]*v\n",
    "    dist[source]=0\n",
    "    \n",
    "    import heapq\n",
    "    heap=[]\n",
    "    heapq.heappush(heap,(0,0))\n",
    "    \n",
    "    while(heap):\n",
    "        curr=heapq.heappop(heap)\n",
    "        visited[curr[1]]=True\n",
    "        \n",
    "        for j,k in d[curr[1]]:\n",
    "            if(visited[j]==False):\n",
    "                dist[j]=min(dist[j],dist[curr[1]]+k)\n",
    "                heapq.heappush(heap,(dist[j],j))\n",
    "        \n",
    "    print(dist)"
   ]
  },
  {
   "cell_type": "code",
   "execution_count": 22,
   "id": "d87d6825",
   "metadata": {},
   "outputs": [
    {
     "name": "stdout",
     "output_type": "stream",
     "text": [
      "[0, 4, 8, 12, 14, 9, 19, 11, 21]\n"
     ]
    }
   ],
   "source": [
    "dijkastra(d,0,v)"
   ]
  },
  {
   "cell_type": "code",
   "execution_count": null,
   "id": "15b8d50f",
   "metadata": {},
   "outputs": [],
   "source": []
  }
 ],
 "metadata": {
  "kernelspec": {
   "display_name": "Python 3 (ipykernel)",
   "language": "python",
   "name": "python3"
  },
  "language_info": {
   "codemirror_mode": {
    "name": "ipython",
    "version": 3
   },
   "file_extension": ".py",
   "mimetype": "text/x-python",
   "name": "python",
   "nbconvert_exporter": "python",
   "pygments_lexer": "ipython3",
   "version": "3.9.8"
  }
 },
 "nbformat": 4,
 "nbformat_minor": 5
}

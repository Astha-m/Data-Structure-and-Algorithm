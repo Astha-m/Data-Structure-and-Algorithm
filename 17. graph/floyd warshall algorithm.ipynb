{
 "cells": [
  {
   "cell_type": "code",
   "execution_count": 1,
   "id": "b0ccea3c",
   "metadata": {},
   "outputs": [
    {
     "data": {
      "text/plain": [
       "\"\\nhttps://practice.geeksforgeeks.org/problems/implementing-floyd-warshall2042/1\\n\\n\\nThe problem is to find the shortest distances between every \\npair of vertices in a given edge-weighted directed graph. The\\ngraph is represented as an adjacency matrix of size n*n. Matrix[i][j]\\ndenotes the weight of the edge from i to j. If Matrix[i][j]=-1, it means \\nthere is no edge from i to j.\\nDo it in-place.\\n\\nExample 1:\\n\\nInput: matrix = {{0,25},{-1,0}}\\nOutput: {{0,25},{-1,0}}\\nExplanation: The shortest distance between\\nevery pair is already given(if it exists).\\nExample 2:\\n\\nInput: matrix = {{0,1,43},{1,0,6},{-1,-1,0}}\\nOutput: {{0,1,7},{1,0,6},{-1,-1,0}}\\nExplanation: We can reach 3 from 1 as 1->2->3\\nand the cost will be 1+6=7 which is less than \\n43.\\nYour Task:\\nYou don't need to read, return or print anything. Your task is to \\ncomplete the function shortest_distance() which takes the matrix as \\ninput parameter and modifies the distances for every pair in-place.\\n\\nExpected Time Complexity: O(n3)\\nExpected Space Complexity: O(1)\\n\\nConstraints:\\n1 <= n <= 100\\n-1 <= matrix[ i ][ j ] <= 1000\\n\\n\""
      ]
     },
     "execution_count": 1,
     "metadata": {},
     "output_type": "execute_result"
    }
   ],
   "source": [
    "'''\n",
    "https://practice.geeksforgeeks.org/problems/implementing-floyd-warshall2042/1\n",
    "\n",
    "\n",
    "The problem is to find the shortest distances between every \n",
    "pair of vertices in a given edge-weighted directed graph. The\n",
    "graph is represented as an adjacency matrix of size n*n. Matrix[i][j]\n",
    "denotes the weight of the edge from i to j. If Matrix[i][j]=-1, it means \n",
    "there is no edge from i to j.\n",
    "Do it in-place.\n",
    "\n",
    "Example 1:\n",
    "\n",
    "Input: matrix = {{0,25},{-1,0}}\n",
    "Output: {{0,25},{-1,0}}\n",
    "Explanation: The shortest distance between\n",
    "every pair is already given(if it exists).\n",
    "Example 2:\n",
    "\n",
    "Input: matrix = {{0,1,43},{1,0,6},{-1,-1,0}}\n",
    "Output: {{0,1,7},{1,0,6},{-1,-1,0}}\n",
    "Explanation: We can reach 3 from 1 as 1->2->3\n",
    "and the cost will be 1+6=7 which is less than \n",
    "43.\n",
    "Your Task:\n",
    "You don't need to read, return or print anything. Your task is to \n",
    "complete the function shortest_distance() which takes the matrix as \n",
    "input parameter and modifies the distances for every pair in-place.\n",
    "\n",
    "Expected Time Complexity: O(n3)\n",
    "Expected Space Complexity: O(1)\n",
    "\n",
    "Constraints:\n",
    "1 <= n <= 100\n",
    "-1 <= matrix[ i ][ j ] <= 1000\n",
    "\n",
    "'''"
   ]
  },
  {
   "cell_type": "code",
   "execution_count": null,
   "id": "eb3013f7",
   "metadata": {},
   "outputs": [],
   "source": [
    "def shortest_distance(self, matrix):\n",
    "    n=len(matrix)\n",
    "\n",
    "    for i in range(n):\n",
    "        for j in range(n):\n",
    "            if(matrix[i][j]==-1):\n",
    "                matrix[i][j]=float('inf')\n",
    "            if(i==j):\n",
    "                matrix[i][j]=0\n",
    "\n",
    "    for k in range(n):\n",
    "        for i in range(n):\n",
    "            for j in range(n):\n",
    "                matrix[i][j]=min(matrix[i][j],matrix[i][k]+matrix[k][j])\n",
    "\n",
    "\n",
    "    for i in range(n):\n",
    "        for j in range(n):\n",
    "            if(matrix[i][j]==float('inf')):\n",
    "                matrix[i][j]=-1\n"
   ]
  }
 ],
 "metadata": {
  "kernelspec": {
   "display_name": "Python 3 (ipykernel)",
   "language": "python",
   "name": "python3"
  },
  "language_info": {
   "codemirror_mode": {
    "name": "ipython",
    "version": 3
   },
   "file_extension": ".py",
   "mimetype": "text/x-python",
   "name": "python",
   "nbconvert_exporter": "python",
   "pygments_lexer": "ipython3",
   "version": "3.8.2"
  }
 },
 "nbformat": 4,
 "nbformat_minor": 5
}

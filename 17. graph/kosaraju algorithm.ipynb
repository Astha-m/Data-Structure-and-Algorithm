{
 "cells": [
  {
   "cell_type": "code",
   "execution_count": 1,
   "id": "af15c915",
   "metadata": {},
   "outputs": [],
   "source": [
    "from collections import defaultdict\n",
    "d=defaultdict(list)"
   ]
  },
  {
   "cell_type": "code",
   "execution_count": 2,
   "id": "cafb117c",
   "metadata": {},
   "outputs": [
    {
     "name": "stdout",
     "output_type": "stream",
     "text": [
      "6 7\n",
      "0 1\n",
      "1 2\n",
      "2 1\n",
      "1 3\n",
      "3 4\n",
      "4 5\n",
      "5 4\n",
      "defaultdict(<class 'list'>, {0: [1], 1: [2, 3], 2: [1], 3: [4], 4: [5], 5: [4]})\n"
     ]
    }
   ],
   "source": [
    "v,e=map(int,input().split())\n",
    "for i in range(e):\n",
    "    start,end=map(int,input().split())\n",
    "    d[start].append(end)\n",
    "    \n",
    "print(d)"
   ]
  },
  {
   "cell_type": "code",
   "execution_count": 11,
   "id": "fb3a8823",
   "metadata": {},
   "outputs": [],
   "source": [
    "stack=[]\n",
    "def dfs(d,visited,source):\n",
    "    global stack\n",
    "    visited[source]=True\n",
    "    \n",
    "    for i in d[source]:\n",
    "        if(visited[i]==False):\n",
    "            dfs(d,visited,i)\n",
    "    stack.append(source)\n",
    "    \n",
    "    \n",
    "def dfs_kosaraju(d,visited,source):\n",
    "    visited[source]=True\n",
    "    print(source,end=' ')\n",
    "    \n",
    "    for j in d[source]:\n",
    "        if(visited[j]==False):\n",
    "            dfs_kosaraju(d,visited,j)\n",
    "    \n",
    "\n",
    "def kosaraju(d,v):\n",
    "    global stack\n",
    "    \n",
    "    visited=[False]*v\n",
    "    \n",
    "    for i in range(v):\n",
    "        if(visited[i]==False):\n",
    "            dfs(d,visited,i)\n",
    "    \n",
    "    print(stack)\n",
    "    topo=[]\n",
    "    while(stack):\n",
    "        topo.append(stack.pop())\n",
    "    print(topo)\n",
    "    \n",
    "    dd=defaultdict(list)\n",
    "    for i in range(v):\n",
    "        for j in d[i]:\n",
    "            dd[j].append(i)\n",
    "    print(dd)\n",
    "    \n",
    "    visited=[False]*v\n",
    "    \n",
    "    for i in topo:\n",
    "        if(visited[i]==False):\n",
    "            dfs_kosaraju(dd,visited,i)\n",
    "            print()"
   ]
  },
  {
   "cell_type": "code",
   "execution_count": 12,
   "id": "ff6e8a6f",
   "metadata": {},
   "outputs": [
    {
     "name": "stdout",
     "output_type": "stream",
     "text": [
      "[2, 5, 4, 3, 1, 0]\n",
      "[0, 1, 3, 4, 5, 2]\n",
      "defaultdict(<class 'list'>, {1: [0, 2], 2: [1], 3: [1], 4: [3, 5], 5: [4]})\n",
      "0 \n",
      "1 2 \n",
      "3 \n",
      "4 5 \n"
     ]
    }
   ],
   "source": [
    "kosaraju(d,v)"
   ]
  },
  {
   "cell_type": "code",
   "execution_count": null,
   "id": "87557094",
   "metadata": {},
   "outputs": [],
   "source": []
  }
 ],
 "metadata": {
  "kernelspec": {
   "display_name": "Python 3 (ipykernel)",
   "language": "python",
   "name": "python3"
  },
  "language_info": {
   "codemirror_mode": {
    "name": "ipython",
    "version": 3
   },
   "file_extension": ".py",
   "mimetype": "text/x-python",
   "name": "python",
   "nbconvert_exporter": "python",
   "pygments_lexer": "ipython3",
   "version": "3.9.8"
  }
 },
 "nbformat": 4,
 "nbformat_minor": 5
}

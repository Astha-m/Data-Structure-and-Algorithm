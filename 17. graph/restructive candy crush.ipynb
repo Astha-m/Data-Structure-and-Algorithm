{
 "cells": [
  {
   "cell_type": "code",
   "execution_count": 1,
   "id": "208d5eb1",
   "metadata": {},
   "outputs": [
    {
     "data": {
      "text/plain": [
       "'\\nhttps://practice.geeksforgeeks.org/problems/8c8f95810b05b4cab665f2997d36991bd58308a2/1\\n\\nGiven a string s and an integer k, the task is to reduce the string by applying the following operation:\\nChoose a group of k consecutive identical characters and remove them.\\n\\nThe operation can be performed any number of times until it is no longer possible.\\n\\nExample 1:\\n\\nInput:\\nk = 2\\ns = \"geeksforgeeks\"\\nOutput:\\ngksforgks\\nExplanation:\\nModified String after each step: \\n\"geeksforgeeks\" -> \"gksforgks\"\\nExample 2:\\n\\nInput:\\nk = 2\\ns = \"geegsforgeeeks\" \\nOutput:\\nsforgeks\\nExplanation:\\nModified String after each step:\\n\"geegsforgeeeks\" -> \"ggsforgeks\" -> \"sforgeks\"\\n\\n'"
      ]
     },
     "execution_count": 1,
     "metadata": {},
     "output_type": "execute_result"
    }
   ],
   "source": [
    "'''\n",
    "https://practice.geeksforgeeks.org/problems/8c8f95810b05b4cab665f2997d36991bd58308a2/1\n",
    "\n",
    "Given a string s and an integer k, the task is to reduce the string by applying the following operation:\n",
    "Choose a group of k consecutive identical characters and remove them.\n",
    "\n",
    "The operation can be performed any number of times until it is no longer possible.\n",
    "\n",
    "Example 1:\n",
    "\n",
    "Input:\n",
    "k = 2\n",
    "s = \"geeksforgeeks\"\n",
    "Output:\n",
    "gksforgks\n",
    "Explanation:\n",
    "Modified String after each step: \n",
    "\"geeksforgeeks\" -> \"gksforgks\"\n",
    "Example 2:\n",
    "\n",
    "Input:\n",
    "k = 2\n",
    "s = \"geegsforgeeeks\" \n",
    "Output:\n",
    "sforgeks\n",
    "Explanation:\n",
    "Modified String after each step:\n",
    "\"geegsforgeeeks\" -> \"ggsforgeks\" -> \"sforgeks\"\n",
    "\n",
    "'''"
   ]
  },
  {
   "cell_type": "code",
   "execution_count": 2,
   "id": "60c3928b",
   "metadata": {},
   "outputs": [],
   "source": [
    "def Reduced_String(self, k, s):\n",
    "    # Your code goes here\n",
    "    # return the reduced string\n",
    "    if(k==1):\n",
    "        return \"\"\n",
    "\n",
    "    ans=''\n",
    "    stack=[]\n",
    "    for i in range(len(s)):\n",
    "        if(len(stack)==0):\n",
    "            stack.append((s[i],1))\n",
    "        elif(stack[-1][0]==s[i]):\n",
    "            stack.append((s[i],stack[-1][1]+1))\n",
    "            if(stack[-1][1]==k):\n",
    "                x=k\n",
    "                while(x!=0):\n",
    "                    stack.pop()\n",
    "                    x-=1\n",
    "        elif(stack[-1][0]!=s[i]):\n",
    "            stack.append((s[i],1))\n",
    "\n",
    "    while(stack):\n",
    "        ans+=stack.pop(0)[0]\n",
    "    return ans"
   ]
  },
  {
   "cell_type": "code",
   "execution_count": null,
   "id": "f04d6aa8",
   "metadata": {},
   "outputs": [],
   "source": []
  }
 ],
 "metadata": {
  "kernelspec": {
   "display_name": "Python 3 (ipykernel)",
   "language": "python",
   "name": "python3"
  },
  "language_info": {
   "codemirror_mode": {
    "name": "ipython",
    "version": 3
   },
   "file_extension": ".py",
   "mimetype": "text/x-python",
   "name": "python",
   "nbconvert_exporter": "python",
   "pygments_lexer": "ipython3",
   "version": "3.8.2"
  }
 },
 "nbformat": 4,
 "nbformat_minor": 5
}

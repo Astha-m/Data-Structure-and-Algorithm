{
 "cells": [
  {
   "cell_type": "code",
   "execution_count": 2,
   "id": "48e96cfa",
   "metadata": {},
   "outputs": [],
   "source": [
    "from collections import defaultdict\n",
    "d=defaultdict(list)"
   ]
  },
  {
   "cell_type": "code",
   "execution_count": 3,
   "id": "acdc0f63",
   "metadata": {},
   "outputs": [
    {
     "name": "stdout",
     "output_type": "stream",
     "text": [
      "6 7\n",
      "0 1 2\n",
      "0 4 1\n",
      "1 2 3\n",
      "2 3 6\n",
      "4 2 2\n",
      "4 5 4\n",
      "5 3 1\n",
      "defaultdict(<class 'list'>, {0: [(1, 2), (4, 1)], 1: [(2, 3)], 2: [(3, 6)], 4: [(2, 2), (5, 4)], 5: [(3, 1)]})\n"
     ]
    }
   ],
   "source": [
    "v,e=map(int,input().split())\n",
    "for i in range(e):\n",
    "    start,end,weight=map(int,input().split())\n",
    "    d[start].append((end,weight))\n",
    "    \n",
    "print(d)"
   ]
  },
  {
   "cell_type": "code",
   "execution_count": 10,
   "id": "03264fa9",
   "metadata": {},
   "outputs": [],
   "source": [
    "def shortest_path_dag(d,v,source):\n",
    "    dist=[float('inf')]*v\n",
    "    \n",
    "    dist[source]=0\n",
    "    \n",
    "    indegree=[0]*v\n",
    "    \n",
    "    visited=[False]*v\n",
    "    \n",
    "    for i in range(v):\n",
    "        if(visited[i]==False):\n",
    "            queue=[]\n",
    "            queue.append(i)\n",
    "            while(queue):\n",
    "                curr=queue.pop(0)\n",
    "                for j,k in d[curr]:\n",
    "                    indegree[j]+=1\n",
    "                    if(visited[j]==False):\n",
    "                        visited[j]=True\n",
    "                        queue.append(j)\n",
    "    print(indegree)\n",
    "    topo=[]\n",
    "    \n",
    "    queue=[]\n",
    "    for i in range(v):\n",
    "        if(indegree[i]==0):\n",
    "            queue.append(i)\n",
    "            \n",
    "    while(queue):\n",
    "        curr=queue.pop(0)\n",
    "        topo.append(curr)\n",
    "        for j,k in d[curr]:\n",
    "            indegree[j]-=1\n",
    "            if(indegree[j]==0):\n",
    "                queue.append(j)\n",
    "    \n",
    "    print(topo)\n",
    "    \n",
    "    for i in topo:\n",
    "        for j,k in d[i]:\n",
    "            dist[j]=min(dist[j],dist[i]+k)\n",
    "    \n",
    "    print(dist)"
   ]
  },
  {
   "cell_type": "code",
   "execution_count": 11,
   "id": "a61539b1",
   "metadata": {},
   "outputs": [
    {
     "name": "stdout",
     "output_type": "stream",
     "text": [
      "[0, 1, 2, 2, 1, 1]\n",
      "[0, 1, 4, 2, 5, 3]\n",
      "[0, 2, 3, 6, 1, 5]\n"
     ]
    }
   ],
   "source": [
    "shortest_path_dag(d,v,0)"
   ]
  },
  {
   "cell_type": "code",
   "execution_count": null,
   "id": "49b21a1b",
   "metadata": {},
   "outputs": [],
   "source": []
  }
 ],
 "metadata": {
  "kernelspec": {
   "display_name": "Python 3 (ipykernel)",
   "language": "python",
   "name": "python3"
  },
  "language_info": {
   "codemirror_mode": {
    "name": "ipython",
    "version": 3
   },
   "file_extension": ".py",
   "mimetype": "text/x-python",
   "name": "python",
   "nbconvert_exporter": "python",
   "pygments_lexer": "ipython3",
   "version": "3.9.8"
  }
 },
 "nbformat": 4,
 "nbformat_minor": 5
}

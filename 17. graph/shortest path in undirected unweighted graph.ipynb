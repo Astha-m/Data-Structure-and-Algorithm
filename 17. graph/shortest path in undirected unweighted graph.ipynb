{
 "cells": [
  {
   "cell_type": "code",
   "execution_count": 1,
   "id": "39c4be41",
   "metadata": {},
   "outputs": [],
   "source": [
    "from collections import defaultdict\n",
    "d=defaultdict(list)"
   ]
  },
  {
   "cell_type": "code",
   "execution_count": 2,
   "id": "ee781d9e",
   "metadata": {},
   "outputs": [
    {
     "name": "stdout",
     "output_type": "stream",
     "text": [
      "6 8\n",
      "0 2\n",
      "2 4\n",
      "0 4\n",
      "0 1\n",
      "2 3\n",
      "4 5\n",
      "1 3\n",
      "3 5\n",
      "defaultdict(<class 'list'>, {0: [2, 4, 1], 2: [0, 4, 3], 4: [2, 0, 5], 1: [0, 3], 3: [2, 1, 5], 5: [4, 3]})\n"
     ]
    }
   ],
   "source": [
    "v,e=map(int,input().split())\n",
    "for i in range(e):\n",
    "    start,end=map(int,input().split())\n",
    "    d[start].append(end)\n",
    "    d[end].append(start)\n",
    "    \n",
    "print(d)"
   ]
  },
  {
   "cell_type": "code",
   "execution_count": 3,
   "id": "e51c6a0a",
   "metadata": {},
   "outputs": [],
   "source": [
    "def shortest_path(d,start,v):\n",
    "    dist=[float('inf')]*v\n",
    "    visited=[False]*v\n",
    "    dist[start]=0\n",
    "    visited[start]=True\n",
    "    queue=[]\n",
    "    queue.append(start)\n",
    "    while(queue):\n",
    "        curr=queue.pop(0)\n",
    "        for i in d[curr]:\n",
    "            if(visited[i]==False):\n",
    "                dist[i]=min(dist[i],dist[curr]+1)\n",
    "                visited[i]=True\n",
    "                queue.append(i)\n",
    "    print(dist)"
   ]
  },
  {
   "cell_type": "code",
   "execution_count": 4,
   "id": "b2a9e9f4",
   "metadata": {},
   "outputs": [
    {
     "name": "stdout",
     "output_type": "stream",
     "text": [
      "[0, 1, 1, 2, 1, 2]\n"
     ]
    }
   ],
   "source": [
    "shortest_path(d,0,v)"
   ]
  },
  {
   "cell_type": "code",
   "execution_count": null,
   "id": "73cb591f",
   "metadata": {},
   "outputs": [],
   "source": []
  }
 ],
 "metadata": {
  "kernelspec": {
   "display_name": "Python 3 (ipykernel)",
   "language": "python",
   "name": "python3"
  },
  "language_info": {
   "codemirror_mode": {
    "name": "ipython",
    "version": 3
   },
   "file_extension": ".py",
   "mimetype": "text/x-python",
   "name": "python",
   "nbconvert_exporter": "python",
   "pygments_lexer": "ipython3",
   "version": "3.9.8"
  }
 },
 "nbformat": 4,
 "nbformat_minor": 5
}

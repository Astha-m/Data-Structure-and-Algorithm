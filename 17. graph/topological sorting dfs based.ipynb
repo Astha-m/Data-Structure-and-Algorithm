{
 "cells": [
  {
   "cell_type": "code",
   "execution_count": 1,
   "id": "50e25d1a",
   "metadata": {},
   "outputs": [],
   "source": [
    "from collections import defaultdict\n",
    "d=defaultdict(list)\n"
   ]
  },
  {
   "cell_type": "code",
   "execution_count": 2,
   "id": "1b4d912a",
   "metadata": {},
   "outputs": [
    {
     "name": "stdout",
     "output_type": "stream",
     "text": [
      "5 5\n",
      "0 1\n",
      "1 3\n",
      "3 4\n",
      "2 3\n",
      "2 4\n",
      "defaultdict(<class 'list'>, {0: [1], 1: [3], 3: [4], 2: [3, 4]})\n"
     ]
    }
   ],
   "source": [
    "v,e=map(int,input().split())\n",
    "for i in range(e):\n",
    "    start,end=map(int,input().split())\n",
    "    d[start].append(end)\n",
    "    \n",
    "print(d)"
   ]
  },
  {
   "cell_type": "code",
   "execution_count": 5,
   "id": "ed20ae39",
   "metadata": {},
   "outputs": [],
   "source": [
    "stack=[]\n",
    "def dfs(d,source,visited):\n",
    "    global stack\n",
    "    visited[source]=True\n",
    "    \n",
    "    for i in d[source]:\n",
    "        if(visited[i]==False):\n",
    "            dfs(d,i,visited)\n",
    "    \n",
    "    stack.append(source)\n",
    "\n",
    "\n",
    "def topological_sort(d,v):\n",
    "    global stack\n",
    "    visited=[False]*v\n",
    "    for i in range(v):\n",
    "        if(visited[i]==False):\n",
    "            dfs(d,i,visited)\n",
    "    \n",
    "    while(stack):\n",
    "        print(stack.pop())"
   ]
  },
  {
   "cell_type": "code",
   "execution_count": 6,
   "id": "4334fd4f",
   "metadata": {},
   "outputs": [
    {
     "name": "stdout",
     "output_type": "stream",
     "text": [
      "2\n",
      "0\n",
      "1\n",
      "3\n",
      "4\n"
     ]
    }
   ],
   "source": [
    "topological_sort(d,v)"
   ]
  },
  {
   "cell_type": "code",
   "execution_count": null,
   "id": "9c820f4b",
   "metadata": {},
   "outputs": [],
   "source": []
  }
 ],
 "metadata": {
  "kernelspec": {
   "display_name": "Python 3 (ipykernel)",
   "language": "python",
   "name": "python3"
  },
  "language_info": {
   "codemirror_mode": {
    "name": "ipython",
    "version": 3
   },
   "file_extension": ".py",
   "mimetype": "text/x-python",
   "name": "python",
   "nbconvert_exporter": "python",
   "pygments_lexer": "ipython3",
   "version": "3.9.8"
  }
 },
 "nbformat": 4,
 "nbformat_minor": 5
}

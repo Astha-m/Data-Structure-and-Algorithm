{
 "cells": [
  {
   "cell_type": "code",
   "execution_count": 1,
   "id": "b783e710",
   "metadata": {},
   "outputs": [],
   "source": [
    "from collections import defaultdict\n",
    "d=defaultdict(list)"
   ]
  },
  {
   "cell_type": "code",
   "execution_count": 2,
   "id": "25a76f66",
   "metadata": {},
   "outputs": [
    {
     "name": "stdout",
     "output_type": "stream",
     "text": [
      "5 4\n",
      "0 2\n",
      "0 3\n",
      "1 3\n",
      "1 4\n",
      "defaultdict(<class 'list'>, {0: [2, 3], 1: [3, 4]})\n"
     ]
    }
   ],
   "source": [
    "v,e=map(int,input().split())\n",
    "for i in range(e):\n",
    "    start,end=map(int,input().split())\n",
    "    d[start].append(end)\n",
    "    \n",
    "print(d)"
   ]
  },
  {
   "cell_type": "code",
   "execution_count": 6,
   "id": "5de4bba1",
   "metadata": {},
   "outputs": [],
   "source": [
    "def topological_sorting(d,v):\n",
    "    visited=[False]*v\n",
    "    indegree=[0]*v\n",
    "    \n",
    "    for i in range(v):\n",
    "        for j in d[i]:\n",
    "            indegree[j]+=1\n",
    "    \n",
    "    print(indegree)\n",
    "    \n",
    "    queue=[]\n",
    "    for i in range(v):\n",
    "        if(indegree[i]==0):\n",
    "            queue.append(i)\n",
    "            \n",
    "    while(queue):\n",
    "        curr=queue.pop(0)\n",
    "        print(curr)\n",
    "        for i in d[curr]:\n",
    "            indegree[i]-=1\n",
    "            if(indegree[i]==0):\n",
    "                queue.append(i)\n",
    "    "
   ]
  },
  {
   "cell_type": "code",
   "execution_count": 7,
   "id": "45052188",
   "metadata": {},
   "outputs": [
    {
     "name": "stdout",
     "output_type": "stream",
     "text": [
      "[0, 0, 1, 2, 1]\n",
      "0\n",
      "1\n",
      "2\n",
      "3\n",
      "4\n"
     ]
    }
   ],
   "source": [
    "topological_sorting(d,v)"
   ]
  },
  {
   "cell_type": "code",
   "execution_count": null,
   "id": "39d2094e",
   "metadata": {},
   "outputs": [],
   "source": []
  }
 ],
 "metadata": {
  "kernelspec": {
   "display_name": "Python 3 (ipykernel)",
   "language": "python",
   "name": "python3"
  },
  "language_info": {
   "codemirror_mode": {
    "name": "ipython",
    "version": 3
   },
   "file_extension": ".py",
   "mimetype": "text/x-python",
   "name": "python",
   "nbconvert_exporter": "python",
   "pygments_lexer": "ipython3",
   "version": "3.9.8"
  }
 },
 "nbformat": 4,
 "nbformat_minor": 5
}

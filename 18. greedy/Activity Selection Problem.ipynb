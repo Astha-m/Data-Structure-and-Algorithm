{
 "cells": [
  {
   "cell_type": "code",
   "execution_count": null,
   "id": "35ef24ad",
   "metadata": {},
   "outputs": [],
   "source": [
    "## Activity Selection Problem\n",
    "\n",
    "'''\n",
    "You are given n activities with their start and finish times. Select the maximum number of activities \n",
    "that can be performed by a single person, assuming that a \n",
    "person can only work on a single activity at a time. \n",
    "'''\n",
    "\n",
    "'''\n",
    "Consider the following 3 activities sorted by\n",
    "by finish time.\n",
    "     start[]  =  {10, 12, 20};\n",
    "     finish[] =  {20, 25, 30};\n",
    "A person can perform at most two activities. The \n",
    "maximum set of activities that can be executed \n",
    "is {0, 2} [ These are indexes in start[] and \n",
    "finish[] ]\n",
    "'''\n",
    "\n",
    "activity=[]\n",
    "n=int(input())\n",
    "# total activity\n",
    "for i in range(n):\n",
    "    start,end=map(int,input().split())\n",
    "    activity.append([start,end])\n",
    "\n",
    "print(activity)\n",
    "\n",
    "activity.sort(key=lambda x:x[1])\n",
    "\n",
    "selected=[]\n",
    "selected.append(activity[0])\n",
    "\n",
    "for i in range(1,n):\n",
    "    if(activity[i][0]>=selected[-1][1]):\n",
    "        selected.append(activity[i])\n",
    "print(len(selected))"
   ]
  }
 ],
 "metadata": {
  "kernelspec": {
   "display_name": "Python 3 (ipykernel)",
   "language": "python",
   "name": "python3"
  },
  "language_info": {
   "codemirror_mode": {
    "name": "ipython",
    "version": 3
   },
   "file_extension": ".py",
   "mimetype": "text/x-python",
   "name": "python",
   "nbconvert_exporter": "python",
   "pygments_lexer": "ipython3",
   "version": "3.9.8"
  }
 },
 "nbformat": 4,
 "nbformat_minor": 5
}

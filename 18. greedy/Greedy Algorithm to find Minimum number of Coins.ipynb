{
 "cells": [
  {
   "cell_type": "code",
   "execution_count": null,
   "id": "79c92978",
   "metadata": {},
   "outputs": [],
   "source": [
    "## Greedy Algorithm to find Minimum number of Coins\n",
    "\n",
    "'''\n",
    "Given a value V, if we want to make a change for V Rs, and we have an infinite supply \n",
    "of each of the denominations in Indian currency, i.e., we have an infinite supply of \n",
    "{ 1, 2, 5, 10, 20, 50, 100, 500, 1000} \n",
    "valued coins/notes, what is the minimum number of coins and/or notes needed to make the change?\n",
    "'''\n",
    "\n",
    "'''\n",
    "Input: V = 70\n",
    "Output: 2\n",
    "We need a 50 Rs note and a 20 Rs note.\n",
    "'''\n",
    "\n",
    "coins=[1, 2, 5, 10, 20, 50, 100, 500, 1000]\n",
    "\n",
    "coins.sort(reverse=True)\n",
    "\n",
    "value=int(input())\n",
    "\n",
    "\n",
    "total=0\n",
    "i=0\n",
    "n=len(coins)\n",
    "while(value>0 and i<n):\n",
    "    quot=value//coins[i]\n",
    "    value-=(coins[i]*quot)\n",
    "    i+=1\n",
    "    total+=quot\n",
    "print(total)"
   ]
  }
 ],
 "metadata": {
  "kernelspec": {
   "display_name": "Python 3 (ipykernel)",
   "language": "python",
   "name": "python3"
  },
  "language_info": {
   "codemirror_mode": {
    "name": "ipython",
    "version": 3
   },
   "file_extension": ".py",
   "mimetype": "text/x-python",
   "name": "python",
   "nbconvert_exporter": "python",
   "pygments_lexer": "ipython3",
   "version": "3.9.8"
  }
 },
 "nbformat": 4,
 "nbformat_minor": 5
}

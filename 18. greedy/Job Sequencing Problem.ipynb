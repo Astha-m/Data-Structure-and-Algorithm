{
 "cells": [
  {
   "cell_type": "code",
   "execution_count": null,
   "id": "191d9172",
   "metadata": {},
   "outputs": [],
   "source": [
    "## Job Sequencing Problem\n",
    "\n",
    "'''\n",
    "Given an array of jobs where every job has a deadline and associated profit if the job is \n",
    "finished before the deadline. It is also given that every job takes a single unit of time, so the minimum possible \n",
    "deadline for any job is 1. How to maximize total profit if only one job can be scheduled at a time.\n",
    "'''\n",
    "\n",
    "'''\n",
    "Input: Four Jobs with following \n",
    "deadlines and profits\n",
    "JobID  Deadline  Profit\n",
    "  a      4        20   \n",
    "  b      1        10\n",
    "  c      1        40  \n",
    "  d      1        30\n",
    "Output: Following is maximum \n",
    "profit sequence of jobs\n",
    "        c, a   \n",
    "    \n",
    "'''\n",
    "\n",
    "n=int(input())\n",
    "# total input jobs\n",
    "\n",
    "lst=[]\n",
    "maxi=0\n",
    "for i in range(n):\n",
    "    job,dead,profit=input().split()\n",
    "    dead=int(dead)\n",
    "    profit=int(profit)\n",
    "    lst.append([job,dead,profit])\n",
    "    maxi=max(maxi,dead)\n",
    "\n",
    "lst.sort(key=lambda x:x[2],reverse=True)\n",
    "\n",
    "schedules=[None]*maxi\n",
    "total=0\n",
    "\n",
    "for i in range(n):\n",
    "    dead=lst[i][1]\n",
    "    if(schedules[dead-1]==None):\n",
    "        total+=lst[i][2]\n",
    "        schedules[dead-1]=lst[i][0]\n",
    "        \n",
    "print(total,strg)"
   ]
  }
 ],
 "metadata": {
  "kernelspec": {
   "display_name": "Python 3 (ipykernel)",
   "language": "python",
   "name": "python3"
  },
  "language_info": {
   "codemirror_mode": {
    "name": "ipython",
    "version": 3
   },
   "file_extension": ".py",
   "mimetype": "text/x-python",
   "name": "python",
   "nbconvert_exporter": "python",
   "pygments_lexer": "ipython3",
   "version": "3.9.8"
  }
 },
 "nbformat": 4,
 "nbformat_minor": 5
}

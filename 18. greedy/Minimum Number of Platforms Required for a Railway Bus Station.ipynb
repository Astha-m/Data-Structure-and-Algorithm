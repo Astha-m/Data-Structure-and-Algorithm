{
 "cells": [
  {
   "cell_type": "code",
   "execution_count": null,
   "id": "124049a1",
   "metadata": {},
   "outputs": [],
   "source": [
    "## Minimum Number of Platforms Required for a Railway/Bus Station\n",
    "\n",
    "'''\n",
    "Given the arrival and departure times of all trains that reach a railway station, \n",
    "the task is to find the minimum number of platforms required for the railway station so that no train waits. \n",
    "We are given two arrays that represent the arrival and departure times of trains that stop.\n",
    "'''\n",
    "\n",
    "'''\n",
    "Input: arr[] = {9:00, 9:40, 9:50, 11:00, 15:00, 18:00} \n",
    "dep[] = {9:10, 12:00, 11:20, 11:30, 19:00, 20:00} \n",
    "Output: 3 \n",
    "Explanation: There are at-most three trains at a time (time between 9:40 to 12:00)\n",
    "'''\n",
    "\n",
    "n=int(input())\n",
    "# total no of inputs\n",
    "\n",
    "\n",
    "arr=[]\n",
    "dep=[]\n",
    "for i in range(n):\n",
    "    ar,de=input().split()\n",
    "    arr.append(int(''.join(ar.split(':'))))\n",
    "    dep.append(int(''.join(de.split(':'))))\n",
    "print(arr)\n",
    "print(dep)\n",
    "\n",
    "arr.sort()\n",
    "dep.sort()\n",
    "\n",
    "i=1\n",
    "platform=1\n",
    "res=1\n",
    "j=0\n",
    "while(i<n and j<n):\n",
    "    if(arr[i]<dep[j]):\n",
    "        platform+=1\n",
    "        i+=1\n",
    "    else:\n",
    "        platform-=1\n",
    "        j+=1\n",
    "    res=max(res,platform)\n",
    "\n",
    "print(res)"
   ]
  }
 ],
 "metadata": {
  "kernelspec": {
   "display_name": "Python 3 (ipykernel)",
   "language": "python",
   "name": "python3"
  },
  "language_info": {
   "codemirror_mode": {
    "name": "ipython",
    "version": 3
   },
   "file_extension": ".py",
   "mimetype": "text/x-python",
   "name": "python",
   "nbconvert_exporter": "python",
   "pygments_lexer": "ipython3",
   "version": "3.9.8"
  }
 },
 "nbformat": 4,
 "nbformat_minor": 5
}

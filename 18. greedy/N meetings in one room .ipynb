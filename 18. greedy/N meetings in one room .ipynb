{
 "cells": [
  {
   "cell_type": "code",
   "execution_count": null,
   "id": "995ead6e",
   "metadata": {},
   "outputs": [],
   "source": [
    "## N meetings in one room \n",
    "'''\n",
    "There is one meeting room in a firm. There are N meetings in the form of (start[i], end[i]) \n",
    "where start[i] is start time of meeting i and end[i] is finish time of meeting i.\n",
    "What is the maximum number of meetings that can be accommodated in the meeting room \n",
    "when only one meeting can be held in the meeting room at a particular time?\n",
    "\n",
    "Note: Start time of one chosen meeting can't be equal to the end time of the other chosen meeting.\n",
    "\n",
    "'''\n",
    "\n",
    "'''\n",
    "Input:\n",
    "N = 6\n",
    "start[] = {1,3,0,5,8,5}\n",
    "end[] =  {2,4,6,7,9,9}\n",
    "Output: \n",
    "4\n",
    "'''\n",
    "\n",
    "\n",
    "meetings=[]\n",
    "n=int(input())\n",
    "# total meetings\n",
    "\n",
    "for i in range(n):\n",
    "    start,end=map(int,input().split())\n",
    "    meetings.append([start,end])\n",
    "    \n",
    "meetings.sort(key=lambda x:x[1])\n",
    "\n",
    "selected=[]\n",
    "selected.append(meetings[0])\n",
    "\n",
    "for i in range(1,n):\n",
    "    if(meetings[i][0]>=selected[-1][1]):\n",
    "        selected.append(meetings[i])\n",
    "print(len(selected))"
   ]
  }
 ],
 "metadata": {
  "kernelspec": {
   "display_name": "Python 3 (ipykernel)",
   "language": "python",
   "name": "python3"
  },
  "language_info": {
   "codemirror_mode": {
    "name": "ipython",
    "version": 3
   },
   "file_extension": ".py",
   "mimetype": "text/x-python",
   "name": "python",
   "nbconvert_exporter": "python",
   "pygments_lexer": "ipython3",
   "version": "3.9.8"
  }
 },
 "nbformat": 4,
 "nbformat_minor": 5
}

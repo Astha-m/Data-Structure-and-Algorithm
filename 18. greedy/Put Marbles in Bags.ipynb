{
 "cells": [
  {
   "cell_type": "code",
   "execution_count": 1,
   "id": "19e2ac30",
   "metadata": {},
   "outputs": [
    {
     "data": {
      "text/plain": [
       "'\\nhttps://leetcode.com/contest/weekly-contest-330/problems/put-marbles-in-bags/\\n\\n\\nYou have k bags. You are given a 0-indexed \\ninteger array weights\\nwhere weights[i] is the weight of the ith marble. \\nYou are also given the integer k.\\n\\nDivide the marbles into the k bags according\\nto the following rules:\\n\\nNo bag is empty.\\nIf the ith marble and jth marble are in a bag, then\\nall marbles with an index between the ith and jth\\nindices should also be in that same bag.\\nIf a bag consists of all the marbles with an\\nindex from i to j inclusively, then the cost \\nof the bag is weights[i] + weights[j].\\nThe score after distributing the marbles is\\nthe sum of the costs of all the k bags.\\n\\nReturn the difference between the maximum \\nand minimum scores among marble distributions.\\n\\n \\n\\nExample 1:\\n\\nInput: weights = [1,3,5,1], k = 2\\nOutput: 4\\nExplanation: \\nThe distribution [1],[3,5,1] results \\nin the minimal score of (1+1) + (3+1) = 6. \\nThe distribution [1,3],[5,1], results \\nin the maximal score of (1+3) + (5+1) = 10. \\nThus, we return their difference 10 - 6 = 4.\\nExample 2:\\n\\nInput: weights = [1, 3], k = 2\\nOutput: 0\\nExplanation: The only distribution \\npossible is [1],[3]. \\nSince both the maximal and minimal \\nscore are the same, we return 0.\\n \\n\\nConstraints:\\n\\n1 <= k <= weights.length <= 105\\n1 <= weights[i] <= 109\\n\\n\\n\\n'"
      ]
     },
     "execution_count": 1,
     "metadata": {},
     "output_type": "execute_result"
    }
   ],
   "source": [
    "'''\n",
    "https://leetcode.com/contest/weekly-contest-330/problems/put-marbles-in-bags/\n",
    "\n",
    "idea:-- https://leetcode.com/problems/put-marbles-in-bags/solutions/3111642/simple-c-solution-using-sort-idea-explained/\n",
    "\n",
    "\n",
    "You have k bags. You are given a 0-indexed \n",
    "integer array weights\n",
    "where weights[i] is the weight of the ith marble. \n",
    "You are also given the integer k.\n",
    "\n",
    "Divide the marbles into the k bags according\n",
    "to the following rules:\n",
    "\n",
    "No bag is empty.\n",
    "If the ith marble and jth marble are in a bag, then\n",
    "all marbles with an index between the ith and jth\n",
    "indices should also be in that same bag.\n",
    "If a bag consists of all the marbles with an\n",
    "index from i to j inclusively, then the cost \n",
    "of the bag is weights[i] + weights[j].\n",
    "The score after distributing the marbles is\n",
    "the sum of the costs of all the k bags.\n",
    "\n",
    "Return the difference between the maximum \n",
    "and minimum scores among marble distributions.\n",
    "\n",
    " \n",
    "\n",
    "Example 1:\n",
    "\n",
    "Input: weights = [1,3,5,1], k = 2\n",
    "Output: 4\n",
    "Explanation: \n",
    "The distribution [1],[3,5,1] results \n",
    "in the minimal score of (1+1) + (3+1) = 6. \n",
    "The distribution [1,3],[5,1], results \n",
    "in the maximal score of (1+3) + (5+1) = 10. \n",
    "Thus, we return their difference 10 - 6 = 4.\n",
    "Example 2:\n",
    "\n",
    "Input: weights = [1, 3], k = 2\n",
    "Output: 0\n",
    "Explanation: The only distribution \n",
    "possible is [1],[3]. \n",
    "Since both the maximal and minimal \n",
    "score are the same, we return 0.\n",
    " \n",
    "\n",
    "Constraints:\n",
    "\n",
    "1 <= k <= weights.length <= 105\n",
    "1 <= weights[i] <= 109\n",
    "\n",
    "\n",
    "\n",
    "'''"
   ]
  },
  {
   "cell_type": "code",
   "execution_count": null,
   "id": "a0a1cadb",
   "metadata": {},
   "outputs": [],
   "source": [
    "def putMarbles(self, weights: List[int], k: int) -> int:\n",
    "    lst=[]\n",
    "    n=len(weights)\n",
    "    if(k==0 or n==k):\n",
    "        return 0\n",
    "    for i in range(n-1):\n",
    "        lst.append(weights[i]+weights[i+1])\n",
    "\n",
    "    lst.sort()\n",
    "    mins=0\n",
    "    maxs=0\n",
    "    for i in range(k-1):\n",
    "        mins+=lst[i]\n",
    "        maxs+=lst[n-2-i]\n",
    "    return maxs-mins"
   ]
  }
 ],
 "metadata": {
  "kernelspec": {
   "display_name": "Python 3 (ipykernel)",
   "language": "python",
   "name": "python3"
  },
  "language_info": {
   "codemirror_mode": {
    "name": "ipython",
    "version": 3
   },
   "file_extension": ".py",
   "mimetype": "text/x-python",
   "name": "python",
   "nbconvert_exporter": "python",
   "pygments_lexer": "ipython3",
   "version": "3.9.13"
  }
 },
 "nbformat": 4,
 "nbformat_minor": 5
}

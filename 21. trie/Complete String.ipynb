{
 "cells": [
  {
   "cell_type": "code",
   "execution_count": null,
   "id": "7019e300",
   "metadata": {},
   "outputs": [],
   "source": [
    "'''\n",
    "https://www.codingninjas.com/codestudio/problems/complete-string_2687860?utm_source=youtube&utm_medium=affiliate&utm_campaign=striver_tries_videos\n",
    "'''"
   ]
  },
  {
   "cell_type": "code",
   "execution_count": 1,
   "id": "e312a436",
   "metadata": {},
   "outputs": [],
   "source": [
    "class Trienode:\n",
    "    def __init__(self):\n",
    "        self.children=[None]*26\n",
    "        self.isEnd=False"
   ]
  },
  {
   "cell_type": "code",
   "execution_count": 2,
   "id": "4d098b5b",
   "metadata": {},
   "outputs": [],
   "source": [
    "root=Trienode()"
   ]
  },
  {
   "cell_type": "code",
   "execution_count": 3,
   "id": "3d77d2b6",
   "metadata": {},
   "outputs": [],
   "source": [
    "def insert(root,strg):\n",
    "    curr=root\n",
    "    for i in range(len(strg)):\n",
    "        ind=ord(strg[i])-97\n",
    "        if(curr.children[ind]==None):\n",
    "            curr.children[ind]=Trienode()\n",
    "        curr=curr.children[ind]\n",
    "    curr.isEnd=True"
   ]
  },
  {
   "cell_type": "code",
   "execution_count": 4,
   "id": "4e1836ba",
   "metadata": {},
   "outputs": [],
   "source": [
    "lst=['n', 'ni', 'nin', 'ninj', 'ninja', 'ninga']\n",
    "for i in lst:\n",
    "    insert(root,i)"
   ]
  },
  {
   "cell_type": "code",
   "execution_count": 6,
   "id": "ea216b73",
   "metadata": {},
   "outputs": [],
   "source": [
    "res=''\n",
    "def checker(root,strg):\n",
    "    global res\n",
    "    curr=root\n",
    "    for i in range(len(strg)):\n",
    "        ind=ord(strg[i])-97\n",
    "        if(curr.children[ind]==None):\n",
    "            return\n",
    "        else:\n",
    "            curr=curr.children[ind]\n",
    "            if(curr.isEnd==True):\n",
    "                pass\n",
    "            else:\n",
    "                return\n",
    "    if(len(strg)>len(res)):\n",
    "        res=strg\n",
    "    elif(len(res)==len(strg)):\n",
    "        if(res>strg):\n",
    "            res=strg\n",
    "    "
   ]
  },
  {
   "cell_type": "code",
   "execution_count": 7,
   "id": "0742a035",
   "metadata": {},
   "outputs": [],
   "source": [
    "\n",
    "for i in lst:\n",
    "    checker(root,i)"
   ]
  },
  {
   "cell_type": "code",
   "execution_count": 8,
   "id": "d67d0125",
   "metadata": {},
   "outputs": [
    {
     "data": {
      "text/plain": [
       "'ninja'"
      ]
     },
     "execution_count": 8,
     "metadata": {},
     "output_type": "execute_result"
    }
   ],
   "source": [
    "res"
   ]
  },
  {
   "cell_type": "code",
   "execution_count": null,
   "id": "9cc81fe1",
   "metadata": {},
   "outputs": [],
   "source": []
  }
 ],
 "metadata": {
  "kernelspec": {
   "display_name": "Python 3 (ipykernel)",
   "language": "python",
   "name": "python3"
  },
  "language_info": {
   "codemirror_mode": {
    "name": "ipython",
    "version": 3
   },
   "file_extension": ".py",
   "mimetype": "text/x-python",
   "name": "python",
   "nbconvert_exporter": "python",
   "pygments_lexer": "ipython3",
   "version": "3.9.8"
  }
 },
 "nbformat": 4,
 "nbformat_minor": 5
}

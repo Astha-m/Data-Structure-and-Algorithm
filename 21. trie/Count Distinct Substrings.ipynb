{
 "cells": [
  {
   "cell_type": "code",
   "execution_count": 1,
   "id": "abb1d06f",
   "metadata": {},
   "outputs": [
    {
     "data": {
      "text/plain": [
       "'\\nhttps://www.codingninjas.com/codestudio/problems/count-distinct-substrings_985292?utm_source=youtube&utm_medium=affiliate&utm_campaign=striver_tries_videos\\n'"
      ]
     },
     "execution_count": 1,
     "metadata": {},
     "output_type": "execute_result"
    }
   ],
   "source": [
    "'''\n",
    "https://www.codingninjas.com/codestudio/problems/count-distinct-substrings_985292?utm_source=youtube&utm_medium=affiliate&utm_campaign=striver_tries_videos\n",
    "'''"
   ]
  },
  {
   "cell_type": "code",
   "execution_count": 3,
   "id": "1ee72fd2",
   "metadata": {},
   "outputs": [],
   "source": [
    "class Trienode:\n",
    "    def __init__(self):\n",
    "        self.children=[None]*26\n",
    "        "
   ]
  },
  {
   "cell_type": "code",
   "execution_count": 4,
   "id": "faf4b772",
   "metadata": {},
   "outputs": [],
   "source": [
    "root=Trienode()\n",
    "count=0\n",
    "def insert(root,strg):\n",
    "    global count\n",
    "    curr=root\n",
    "    for i in range(len(strg)):\n",
    "        ind=ord(strg[i])-97\n",
    "        if(curr.children[ind]==None):\n",
    "            count+=1\n",
    "            curr.children[ind]=Trienode()\n",
    "        curr=curr.children[ind]\n"
   ]
  },
  {
   "cell_type": "code",
   "execution_count": 5,
   "id": "5b957fad",
   "metadata": {},
   "outputs": [
    {
     "name": "stdout",
     "output_type": "stream",
     "text": [
      "8\n"
     ]
    }
   ],
   "source": [
    "strg='abab'\n",
    "for i in range(len(strg)):\n",
    "    insert(root,strg[i:])\n",
    "print(count+1)"
   ]
  },
  {
   "cell_type": "code",
   "execution_count": null,
   "id": "50bcb85c",
   "metadata": {},
   "outputs": [],
   "source": []
  }
 ],
 "metadata": {
  "kernelspec": {
   "display_name": "Python 3 (ipykernel)",
   "language": "python",
   "name": "python3"
  },
  "language_info": {
   "codemirror_mode": {
    "name": "ipython",
    "version": 3
   },
   "file_extension": ".py",
   "mimetype": "text/x-python",
   "name": "python",
   "nbconvert_exporter": "python",
   "pygments_lexer": "ipython3",
   "version": "3.9.8"
  }
 },
 "nbformat": 4,
 "nbformat_minor": 5
}

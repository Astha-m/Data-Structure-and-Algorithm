{
 "cells": [
  {
   "cell_type": "code",
   "execution_count": 1,
   "id": "26100ead",
   "metadata": {},
   "outputs": [
    {
     "data": {
      "text/plain": [
       "'\\nhttps://leetcode.com/problems/maximum-xor-with-an-element-from-array/\\n'"
      ]
     },
     "execution_count": 1,
     "metadata": {},
     "output_type": "execute_result"
    }
   ],
   "source": [
    "'''\n",
    "https://leetcode.com/problems/maximum-xor-with-an-element-from-array/\n",
    "\n",
    "Input: nums = [0,1,2,3,4], queries = [[3,1],[1,3],[5,6]]\n",
    "Output: [3,3,7]\n",
    "'''"
   ]
  },
  {
   "cell_type": "code",
   "execution_count": 2,
   "id": "aa466c0e",
   "metadata": {},
   "outputs": [],
   "source": [
    "class Trienode:\n",
    "    def __init__(self):\n",
    "        self.children=[None]*2\n",
    "    "
   ]
  },
  {
   "cell_type": "code",
   "execution_count": 3,
   "id": "7178fc83",
   "metadata": {},
   "outputs": [],
   "source": [
    "root=Trienode()\n",
    "def insert(root,num):\n",
    "    binary='{:032b}'.format(num)\n",
    "    curr=root\n",
    "    for i in range(len(binary)):\n",
    "        ind=int(binary[i])\n",
    "        if(curr.children[ind]==None):\n",
    "            curr.children[ind]=Trienode()\n",
    "        curr=curr.children[ind]\n",
    "    "
   ]
  },
  {
   "cell_type": "code",
   "execution_count": 4,
   "id": "19ccf429",
   "metadata": {},
   "outputs": [],
   "source": [
    "nums = [0,1,2,3,4]\n",
    "queries = [[3,1],[1,3],[5,6]]"
   ]
  },
  {
   "cell_type": "code",
   "execution_count": 5,
   "id": "39005ff1",
   "metadata": {},
   "outputs": [],
   "source": [
    "nums.sort()\n"
   ]
  },
  {
   "cell_type": "code",
   "execution_count": 6,
   "id": "820ee318",
   "metadata": {},
   "outputs": [],
   "source": [
    "for i in range(len(queries)):\n",
    "    queries[i].append(i)\n"
   ]
  },
  {
   "cell_type": "code",
   "execution_count": 7,
   "id": "990102b4",
   "metadata": {},
   "outputs": [],
   "source": [
    "queries.sort(key=lambda x:x[1])"
   ]
  },
  {
   "cell_type": "code",
   "execution_count": 8,
   "id": "92a46e13",
   "metadata": {},
   "outputs": [],
   "source": [
    "def getXor(root,x):\n",
    "    res=''\n",
    "    curr=root\n",
    "    binary='{:032b}'.format(x)\n",
    "    for i in range(len(binary)):\n",
    "        ind=int(binary[i])\n",
    "        opp_ind=1-ind\n",
    "        if(curr.children[opp_ind]):\n",
    "            res+='1'\n",
    "            curr=curr.children[opp_ind]\n",
    "        else:\n",
    "            res+='0'\n",
    "            curr=curr.children[ind]\n",
    "    return int(res,2)"
   ]
  },
  {
   "cell_type": "code",
   "execution_count": 11,
   "id": "877ad40c",
   "metadata": {},
   "outputs": [
    {
     "name": "stdout",
     "output_type": "stream",
     "text": [
      "[3, 3, 7]\n"
     ]
    }
   ],
   "source": [
    "ans=[-1]*len(queries)\n",
    "ptr=0\n",
    "for i in range(len(queries)):\n",
    "    if(nums[0]>queries[i][1]):\n",
    "        ans[queries[i][2]]=-1\n",
    "    else:\n",
    "        while(ptr<len(nums) and nums[ptr]<=queries[i][1]):\n",
    "            insert(root,nums[ptr])\n",
    "            ptr+=1\n",
    "        val=getXor(root,queries[i][0])\n",
    "        ans[queries[i][2]]=val\n",
    "print(ans)"
   ]
  },
  {
   "cell_type": "code",
   "execution_count": null,
   "id": "2670d1de",
   "metadata": {},
   "outputs": [],
   "source": []
  }
 ],
 "metadata": {
  "kernelspec": {
   "display_name": "Python 3 (ipykernel)",
   "language": "python",
   "name": "python3"
  },
  "language_info": {
   "codemirror_mode": {
    "name": "ipython",
    "version": 3
   },
   "file_extension": ".py",
   "mimetype": "text/x-python",
   "name": "python",
   "nbconvert_exporter": "python",
   "pygments_lexer": "ipython3",
   "version": "3.9.8"
  }
 },
 "nbformat": 4,
 "nbformat_minor": 5
}

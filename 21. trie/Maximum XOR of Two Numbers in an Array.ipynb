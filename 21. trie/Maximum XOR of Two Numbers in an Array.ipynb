{
 "cells": [
  {
   "cell_type": "code",
   "execution_count": null,
   "id": "89fdff1b",
   "metadata": {},
   "outputs": [],
   "source": [
    "'''\n",
    "https://leetcode.com/problems/maximum-xor-of-two-numbers-in-an-array/\n",
    "'''"
   ]
  },
  {
   "cell_type": "code",
   "execution_count": 1,
   "id": "fc0c3b1e",
   "metadata": {},
   "outputs": [],
   "source": [
    "class Trienode:\n",
    "    def __init__(self):\n",
    "        self.children=[None]*2"
   ]
  },
  {
   "cell_type": "code",
   "execution_count": 2,
   "id": "dbe28e15",
   "metadata": {},
   "outputs": [],
   "source": [
    "root=Trienode()\n",
    "def insert(root,num):\n",
    "    binary='{:032b}'.format(num)\n",
    "    curr=root\n",
    "    for i in range(len(binary)):\n",
    "        ind=int(binary[i])\n",
    "        if(curr.children[ind]==None):\n",
    "            curr.children[ind]=Trienode()\n",
    "        curr=curr.children[ind]\n",
    "    "
   ]
  },
  {
   "cell_type": "code",
   "execution_count": 3,
   "id": "7a66a53e",
   "metadata": {},
   "outputs": [],
   "source": [
    "lst=[3,10,5,25,2,8]\n",
    "for i in lst:\n",
    "    insert(root,i)\n"
   ]
  },
  {
   "cell_type": "code",
   "execution_count": 6,
   "id": "9db93f9c",
   "metadata": {},
   "outputs": [],
   "source": [
    "def checker(root,num):\n",
    "    res=''\n",
    "    curr=root\n",
    "    binary='{:032b}'.format(num)\n",
    "    for i in range(len(binary)):\n",
    "        ind=int(binary[i])\n",
    "        opp_ind=1-ind\n",
    "        if(curr.children[opp_ind]):\n",
    "            res+='1'\n",
    "            curr=curr.children[opp_ind]\n",
    "        else:\n",
    "            res+='0'\n",
    "            curr=curr.children[ind]\n",
    "    return int(res,2)"
   ]
  },
  {
   "cell_type": "code",
   "execution_count": 7,
   "id": "2b275d9f",
   "metadata": {},
   "outputs": [
    {
     "name": "stdout",
     "output_type": "stream",
     "text": [
      "28\n"
     ]
    }
   ],
   "source": [
    "res=0\n",
    "for i in lst:\n",
    "    val=checker(root,i)\n",
    "    #print(val)\n",
    "    res=max(res,val)\n",
    "print(res)"
   ]
  },
  {
   "cell_type": "code",
   "execution_count": null,
   "id": "2a1e0dbe",
   "metadata": {},
   "outputs": [],
   "source": []
  }
 ],
 "metadata": {
  "kernelspec": {
   "display_name": "Python 3 (ipykernel)",
   "language": "python",
   "name": "python3"
  },
  "language_info": {
   "codemirror_mode": {
    "name": "ipython",
    "version": 3
   },
   "file_extension": ".py",
   "mimetype": "text/x-python",
   "name": "python",
   "nbconvert_exporter": "python",
   "pygments_lexer": "ipython3",
   "version": "3.9.8"
  }
 },
 "nbformat": 4,
 "nbformat_minor": 5
}

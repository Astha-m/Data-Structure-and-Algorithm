{
 "cells": [
  {
   "cell_type": "code",
   "execution_count": 4,
   "id": "95a98291",
   "metadata": {},
   "outputs": [],
   "source": [
    "mat=[[1,1,0,0],\n",
    "    [1,1,0,0],\n",
    "    [1,1,0,0],\n",
    "    [1,1,0,0]]\n"
   ]
  },
  {
   "cell_type": "code",
   "execution_count": 5,
   "id": "08d6b4ab",
   "metadata": {},
   "outputs": [],
   "source": [
    "class Trienode:\n",
    "    def __init__(self):\n",
    "        self.children=[None]*2\n",
    "        self.isEnd=True"
   ]
  },
  {
   "cell_type": "code",
   "execution_count": 6,
   "id": "6666e9d9",
   "metadata": {},
   "outputs": [
    {
     "name": "stdout",
     "output_type": "stream",
     "text": [
      "1\n"
     ]
    }
   ],
   "source": [
    "root=Trienode()\n",
    "count=0\n",
    "for lst in mat:\n",
    "    curr=root\n",
    "    flag=False\n",
    "    for j in lst:\n",
    "        ind=j\n",
    "        if(curr.children[ind]==None):\n",
    "            flag=True\n",
    "            curr.children[ind]=Trienode()\n",
    "            \n",
    "        curr=curr.children[ind]\n",
    "    curr.isEnd=True\n",
    "    if(flag):\n",
    "        count+=1\n",
    "print(count)"
   ]
  },
  {
   "cell_type": "code",
   "execution_count": null,
   "id": "8931b52b",
   "metadata": {},
   "outputs": [],
   "source": []
  }
 ],
 "metadata": {
  "kernelspec": {
   "display_name": "Python 3 (ipykernel)",
   "language": "python",
   "name": "python3"
  },
  "language_info": {
   "codemirror_mode": {
    "name": "ipython",
    "version": 3
   },
   "file_extension": ".py",
   "mimetype": "text/x-python",
   "name": "python",
   "nbconvert_exporter": "python",
   "pygments_lexer": "ipython3",
   "version": "3.9.8"
  }
 },
 "nbformat": 4,
 "nbformat_minor": 5
}

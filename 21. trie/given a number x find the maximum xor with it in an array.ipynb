{
 "cells": [
  {
   "cell_type": "code",
   "execution_count": 1,
   "id": "bb80ee5a",
   "metadata": {},
   "outputs": [
    {
     "data": {
      "text/plain": [
       "'\\ngiven a number x and an array.\\nfind the maximum value of the xor of x with any element of the array\\n'"
      ]
     },
     "execution_count": 1,
     "metadata": {},
     "output_type": "execute_result"
    }
   ],
   "source": [
    "'''\n",
    "given a number x and an array.\n",
    "find the maximum value of the xor of x with any element of the array\n",
    "'''"
   ]
  },
  {
   "cell_type": "code",
   "execution_count": 2,
   "id": "97268513",
   "metadata": {},
   "outputs": [],
   "source": [
    "class Trienode:\n",
    "    def __init__(self):\n",
    "        self.children=[None]*2"
   ]
  },
  {
   "cell_type": "code",
   "execution_count": 3,
   "id": "bdf05b42",
   "metadata": {},
   "outputs": [],
   "source": [
    "root=Trienode()\n",
    "def insert(root,num):\n",
    "    binary='{:032b}'.format(num)\n",
    "    curr=root\n",
    "    for i in range(32):\n",
    "        ind=int(binary[i])\n",
    "        if(curr.children[ind]==None):\n",
    "            curr.children[ind]=Trienode()\n",
    "        curr=curr.children[ind]\n"
   ]
  },
  {
   "cell_type": "code",
   "execution_count": 4,
   "id": "33a67500",
   "metadata": {},
   "outputs": [],
   "source": [
    "arr=[9,8,7,5,4]\n",
    "for i in arr:\n",
    "    insert(root,i)\n"
   ]
  },
  {
   "cell_type": "code",
   "execution_count": 5,
   "id": "3fdbad29",
   "metadata": {},
   "outputs": [],
   "source": [
    "def checker(root,x):\n",
    "    res=''\n",
    "    curr=root\n",
    "    binary='{:032b}'.format(x)\n",
    "    for i in range(len(binary)):\n",
    "        ind=int(binary[i])\n",
    "        opp_ind=1-ind\n",
    "        if(curr.children[opp_ind]):\n",
    "            res+='1'\n",
    "            curr=curr.children[opp_ind]\n",
    "        else:\n",
    "            res+='0'\n",
    "            curr=curr.children[ind]\n",
    "    return int(res,2)"
   ]
  },
  {
   "cell_type": "code",
   "execution_count": 6,
   "id": "31152884",
   "metadata": {},
   "outputs": [
    {
     "data": {
      "text/plain": [
       "15"
      ]
     },
     "execution_count": 6,
     "metadata": {},
     "output_type": "execute_result"
    }
   ],
   "source": [
    "checker(root,8)"
   ]
  },
  {
   "cell_type": "code",
   "execution_count": null,
   "id": "ac12e16b",
   "metadata": {},
   "outputs": [],
   "source": []
  }
 ],
 "metadata": {
  "kernelspec": {
   "display_name": "Python 3 (ipykernel)",
   "language": "python",
   "name": "python3"
  },
  "language_info": {
   "codemirror_mode": {
    "name": "ipython",
    "version": 3
   },
   "file_extension": ".py",
   "mimetype": "text/x-python",
   "name": "python",
   "nbconvert_exporter": "python",
   "pygments_lexer": "ipython3",
   "version": "3.9.8"
  }
 },
 "nbformat": 4,
 "nbformat_minor": 5
}

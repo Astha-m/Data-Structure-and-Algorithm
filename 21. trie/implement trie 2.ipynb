{
 "cells": [
  {
   "cell_type": "code",
   "execution_count": 1,
   "id": "ac52a368",
   "metadata": {},
   "outputs": [
    {
     "data": {
      "text/plain": [
       "'\\nhttps://www.codingninjas.com/codestudio/problems/implement-trie_1387095\\n\\n'"
      ]
     },
     "execution_count": 1,
     "metadata": {},
     "output_type": "execute_result"
    }
   ],
   "source": [
    "'''\n",
    "https://www.codingninjas.com/codestudio/problems/implement-trie_1387095\n",
    "\n",
    "'''"
   ]
  },
  {
   "cell_type": "code",
   "execution_count": 2,
   "id": "cf92582b",
   "metadata": {},
   "outputs": [],
   "source": [
    "class Trienode:\n",
    "    def __init__(self):\n",
    "        self.children=[None]*26\n",
    "        self.isEnd=False\n",
    "        self.count=0\n",
    "        self.prefix=0"
   ]
  },
  {
   "cell_type": "code",
   "execution_count": 3,
   "id": "8434754f",
   "metadata": {},
   "outputs": [],
   "source": [
    "root=Trienode()"
   ]
  },
  {
   "cell_type": "code",
   "execution_count": 4,
   "id": "232f4587",
   "metadata": {},
   "outputs": [],
   "source": [
    "def insert(root,strg):\n",
    "    curr=root\n",
    "    for i in range(len(strg)):\n",
    "        ind=ord(strg[i])-97\n",
    "        if(curr.children[ind]==None):\n",
    "            curr.children[ind]=Trienode()\n",
    "            curr=curr.children[ind]\n",
    "        else:\n",
    "            curr=curr.children[ind]\n",
    "        curr.prefix+=1\n",
    "    curr.isEnd=True\n",
    "    curr.count+=1\n"
   ]
  },
  {
   "cell_type": "code",
   "execution_count": 5,
   "id": "c4686a00",
   "metadata": {},
   "outputs": [],
   "source": [
    "def countWordsEqualTo(root,strg):\n",
    "    curr=root\n",
    "    for i in range(len(strg)):\n",
    "        ind=ord(strg[i])-97\n",
    "        if(curr.children[ind]==None):\n",
    "            return 0\n",
    "        else:\n",
    "            curr=curr.children[ind]\n",
    "    if(curr.isEnd==True):\n",
    "        return curr.count\n",
    "    else:\n",
    "        return 0"
   ]
  },
  {
   "cell_type": "code",
   "execution_count": 6,
   "id": "1c558f8e",
   "metadata": {},
   "outputs": [],
   "source": [
    "def countWordsStartingWith(root,strg):\n",
    "    curr=root\n",
    "    for i in range(len(strg)):\n",
    "        ind=ord(strg[i])-97\n",
    "        if(curr.children[ind]==None):\n",
    "            return 0\n",
    "        else:\n",
    "            curr=curr.children[ind]\n",
    "    return curr.prefix"
   ]
  },
  {
   "cell_type": "code",
   "execution_count": 7,
   "id": "7e622a50",
   "metadata": {},
   "outputs": [],
   "source": [
    "def erase(root,strg):\n",
    "    curr=root\n",
    "    for i in range(len(strg)):\n",
    "        ind=ord(strg[i])-97\n",
    "        if(curr.children[ind]==None):\n",
    "            return\n",
    "        else:\n",
    "            curr=curr.children[ind]\n",
    "            curr.prefix-=1\n",
    "    if(curr.isEnd==True):\n",
    "        curr.count-=1\n",
    "    "
   ]
  },
  {
   "cell_type": "code",
   "execution_count": 8,
   "id": "2829fe04",
   "metadata": {},
   "outputs": [],
   "source": [
    "insert(root,'coding')"
   ]
  },
  {
   "cell_type": "code",
   "execution_count": 9,
   "id": "e65164a9",
   "metadata": {},
   "outputs": [],
   "source": [
    "insert(root,'ninja')"
   ]
  },
  {
   "cell_type": "code",
   "execution_count": 10,
   "id": "d7c9d0b5",
   "metadata": {},
   "outputs": [
    {
     "data": {
      "text/plain": [
       "1"
      ]
     },
     "execution_count": 10,
     "metadata": {},
     "output_type": "execute_result"
    }
   ],
   "source": [
    "countWordsEqualTo(root,'coding')"
   ]
  },
  {
   "cell_type": "code",
   "execution_count": 11,
   "id": "d904a1b3",
   "metadata": {},
   "outputs": [
    {
     "data": {
      "text/plain": [
       "1"
      ]
     },
     "execution_count": 11,
     "metadata": {},
     "output_type": "execute_result"
    }
   ],
   "source": [
    "countWordsStartingWith(root,'nin')"
   ]
  },
  {
   "cell_type": "code",
   "execution_count": 12,
   "id": "743cf869",
   "metadata": {},
   "outputs": [],
   "source": [
    "erase(root,'coding')"
   ]
  },
  {
   "cell_type": "code",
   "execution_count": 13,
   "id": "7fb57dd6",
   "metadata": {},
   "outputs": [
    {
     "data": {
      "text/plain": [
       "0"
      ]
     },
     "execution_count": 13,
     "metadata": {},
     "output_type": "execute_result"
    }
   ],
   "source": [
    "countWordsEqualTo(root,'coding')"
   ]
  },
  {
   "cell_type": "code",
   "execution_count": null,
   "id": "d7282b70",
   "metadata": {},
   "outputs": [],
   "source": []
  }
 ],
 "metadata": {
  "kernelspec": {
   "display_name": "Python 3 (ipykernel)",
   "language": "python",
   "name": "python3"
  },
  "language_info": {
   "codemirror_mode": {
    "name": "ipython",
    "version": 3
   },
   "file_extension": ".py",
   "mimetype": "text/x-python",
   "name": "python",
   "nbconvert_exporter": "python",
   "pygments_lexer": "ipython3",
   "version": "3.9.8"
  }
 },
 "nbformat": 4,
 "nbformat_minor": 5
}

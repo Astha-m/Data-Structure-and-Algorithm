{
 "cells": [
  {
   "cell_type": "code",
   "execution_count": 1,
   "id": "9b1cdb64",
   "metadata": {},
   "outputs": [],
   "source": [
    "class Trienode:\n",
    "    def __init__(self):\n",
    "        self.children=[None]*26\n",
    "        self.isEnd=False\n",
    "    "
   ]
  },
  {
   "cell_type": "code",
   "execution_count": 2,
   "id": "b4b5f167",
   "metadata": {},
   "outputs": [],
   "source": [
    "root=Trienode()\n",
    "lst=['bad','bat','cat','cut','geek','geeks']\n",
    "\n",
    "for strg in lst:\n",
    "    \n",
    "    curr=root\n",
    "    for j in range(len(strg)):\n",
    "        ind=ord(strg[j])-97\n",
    "        \n",
    "        if(curr.children[ind]==None):\n",
    "            curr.children[ind]=Trienode()\n",
    "            curr=curr.children[ind]\n",
    "        else:\n",
    "            curr=curr.children[ind]\n",
    "        \n",
    "    curr.isEnd=True\n"
   ]
  },
  {
   "cell_type": "code",
   "execution_count": 3,
   "id": "b28c722d",
   "metadata": {},
   "outputs": [],
   "source": [
    "def search(root,strg):\n",
    "    curr=root\n",
    "    for i in range(len(strg)):\n",
    "        ind=ord(strg[i])-97\n",
    "        if(curr.children[ind]==None):\n",
    "            return False\n",
    "        else:\n",
    "            curr=curr.children[ind]\n",
    "    return curr.isEnd"
   ]
  },
  {
   "cell_type": "code",
   "execution_count": 4,
   "id": "701410fd",
   "metadata": {},
   "outputs": [
    {
     "data": {
      "text/plain": [
       "False"
      ]
     },
     "execution_count": 4,
     "metadata": {},
     "output_type": "execute_result"
    }
   ],
   "source": [
    "search(root,'cutt')"
   ]
  },
  {
   "cell_type": "code",
   "execution_count": null,
   "id": "79316195",
   "metadata": {},
   "outputs": [],
   "source": []
  },
  {
   "cell_type": "code",
   "execution_count": null,
   "id": "52fc185d",
   "metadata": {},
   "outputs": [],
   "source": []
  }
 ],
 "metadata": {
  "kernelspec": {
   "display_name": "Python 3 (ipykernel)",
   "language": "python",
   "name": "python3"
  },
  "language_info": {
   "codemirror_mode": {
    "name": "ipython",
    "version": 3
   },
   "file_extension": ".py",
   "mimetype": "text/x-python",
   "name": "python",
   "nbconvert_exporter": "python",
   "pygments_lexer": "ipython3",
   "version": "3.9.8"
  }
 },
 "nbformat": 4,
 "nbformat_minor": 5
}

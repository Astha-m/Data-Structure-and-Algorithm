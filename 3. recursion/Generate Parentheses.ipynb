{
 "cells": [
  {
   "cell_type": "code",
   "execution_count": 1,
   "id": "10b42f6f",
   "metadata": {},
   "outputs": [
    {
     "data": {
      "text/plain": [
       "\"\\nhttps://practice.geeksforgeeks.org/problems/generate-all-possible-parentheses/1?page=1&company[]=Amazon&category[]=Recursion&sortBy=submissions\\n\\nGiven an integer N representing the number \\nof pairs of parentheses, the task is to generate\\nall combinations of well-formed(balanced) parentheses.\\n\\n\\nExample 1:\\n\\nInput:\\nN = 3\\nOutput:\\n((()))\\n(()())\\n(())()\\n()(())\\n()()()\\nExample 2:\\nInput:\\nN = 1\\nOutput:\\n()\\n\\nYour Task:  \\nYou don't need to read input or print anything. \\nComplete the function AllParenthesis() which takes\\nN as input parameter and returns the list of balanced \\nparenthesis.\\n\\nExpected Time Complexity: O(2N * N).\\nExpected Auxiliary Space: O(2*N*X), X = Number of valid Parenthesis.\\n\\nConstraints:\\n1 ≤ N ≤ 12\\n\\n\""
      ]
     },
     "execution_count": 1,
     "metadata": {},
     "output_type": "execute_result"
    }
   ],
   "source": [
    "'''\n",
    "https://practice.geeksforgeeks.org/problems/generate-all-possible-parentheses/1?page=1&company[]=Amazon&category[]=Recursion&sortBy=submissions\n",
    "\n",
    "Given an integer N representing the number \n",
    "of pairs of parentheses, the task is to generate\n",
    "all combinations of well-formed(balanced) parentheses.\n",
    "\n",
    "\n",
    "Example 1:\n",
    "\n",
    "Input:\n",
    "N = 3\n",
    "Output:\n",
    "((()))\n",
    "(()())\n",
    "(())()\n",
    "()(())\n",
    "()()()\n",
    "Example 2:\n",
    "Input:\n",
    "N = 1\n",
    "Output:\n",
    "()\n",
    "\n",
    "Your Task:  \n",
    "You don't need to read input or print anything. \n",
    "Complete the function AllParenthesis() which takes\n",
    "N as input parameter and returns the list of balanced \n",
    "parenthesis.\n",
    "\n",
    "Expected Time Complexity: O(2N * N).\n",
    "Expected Auxiliary Space: O(2*N*X), X = Number of valid Parenthesis.\n",
    "\n",
    "Constraints:\n",
    "1 ≤ N ≤ 12\n",
    "\n",
    "'''"
   ]
  },
  {
   "cell_type": "code",
   "execution_count": null,
   "id": "96b6e27e",
   "metadata": {},
   "outputs": [],
   "source": [
    "def AllParenthesis(self,n):\n",
    "        \n",
    "        res=[]\n",
    "        def helper(res,curr,op,cl,n):\n",
    "            if(len(curr)==2*n):\n",
    "                res.append(curr)\n",
    "                return\n",
    "            \n",
    "            if(op<n):\n",
    "                helper(res,curr+\"(\",op+1,cl,n)\n",
    "            \n",
    "            if(cl<op):\n",
    "                helper(res,curr+')',op,cl+1,n)\n",
    "            \n",
    "        \n",
    "        helper(res,\"\",0,0,n)\n",
    "        return res"
   ]
  }
 ],
 "metadata": {
  "kernelspec": {
   "display_name": "Python 3 (ipykernel)",
   "language": "python",
   "name": "python3"
  },
  "language_info": {
   "codemirror_mode": {
    "name": "ipython",
    "version": 3
   },
   "file_extension": ".py",
   "mimetype": "text/x-python",
   "name": "python",
   "nbconvert_exporter": "python",
   "pygments_lexer": "ipython3",
   "version": "3.9.13"
  }
 },
 "nbformat": 4,
 "nbformat_minor": 5
}

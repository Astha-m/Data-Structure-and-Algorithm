{
 "cells": [
  {
   "cell_type": "code",
   "execution_count": 1,
   "id": "bb04dc5d",
   "metadata": {},
   "outputs": [
    {
     "data": {
      "text/plain": [
       "\"\\n\\n\\n\\nGiven a keypad as shown in the diagram, and an N digit\\nnumber which is represented by array a[ ], the task is \\nto list all words which are possible by pressing these numbers.\\n\\n\\nExample 1:\\n\\nInput: N = 3, a[] = {2, 3, 4}\\nOutput:\\nadg adh adi aeg aeh aei afg afh afi \\nbdg bdh bdi beg beh bei bfg bfh bfi \\ncdg cdh cdi ceg ceh cei cfg cfh cfi \\nExplanation: When we press 2,3,4 then \\nadg, adh, adi, ... cfi are the list of \\npossible words.\\nExample 2:\\n\\nInput: N = 3, a[] = {3, 4, 5}\\nOutput:\\ndgj dgk dgl dhj dhk dhl dij dik dil \\negj egk egl ehj ehk ehl eij eik eil \\nfgj fgk fgl fhj fhk fhl fij fik fil\\nExplanation: When we press 3,4,5 then \\ndgj, dgk, dgl, ... fil are the list of \\npossible words.\\nYour Task:\\nYou don't need to read input or print anything. You just\\nneed to complete the function possibleWords() that takes \\nan array a[ ] and N as input parameters and returns an\\narray of all the possible words in lexicographical increasing \\norder. \\n\\nExpected Time Complexity: O(4N * N).\\nExpected Auxiliary Space: O(N).\\n\\nConstraints:\\n1 ≤ N ≤ 10\\n2 ≤ a[i] ≤ 9\\n\\n\""
      ]
     },
     "execution_count": 1,
     "metadata": {},
     "output_type": "execute_result"
    }
   ],
   "source": [
    "'''\n",
    "https://practice.geeksforgeeks.org/problems/possible-words-from-phone-digits-1587115620/1?page=1&company[]=Amazon&category[]=Recursion&sortBy=submissions\n",
    "\n",
    "\n",
    "Given a keypad as shown in the diagram, and an N digit\n",
    "number which is represented by array a[ ], the task is \n",
    "to list all words which are possible by pressing these numbers.\n",
    "\n",
    "\n",
    "Example 1:\n",
    "\n",
    "Input: N = 3, a[] = {2, 3, 4}\n",
    "Output:\n",
    "adg adh adi aeg aeh aei afg afh afi \n",
    "bdg bdh bdi beg beh bei bfg bfh bfi \n",
    "cdg cdh cdi ceg ceh cei cfg cfh cfi \n",
    "Explanation: When we press 2,3,4 then \n",
    "adg, adh, adi, ... cfi are the list of \n",
    "possible words.\n",
    "Example 2:\n",
    "\n",
    "Input: N = 3, a[] = {3, 4, 5}\n",
    "Output:\n",
    "dgj dgk dgl dhj dhk dhl dij dik dil \n",
    "egj egk egl ehj ehk ehl eij eik eil \n",
    "fgj fgk fgl fhj fhk fhl fij fik fil\n",
    "Explanation: When we press 3,4,5 then \n",
    "dgj, dgk, dgl, ... fil are the list of \n",
    "possible words.\n",
    "Your Task:\n",
    "You don't need to read input or print anything. You just\n",
    "need to complete the function possibleWords() that takes \n",
    "an array a[ ] and N as input parameters and returns an\n",
    "array of all the possible words in lexicographical increasing \n",
    "order. \n",
    "\n",
    "Expected Time Complexity: O(4N * N).\n",
    "Expected Auxiliary Space: O(N).\n",
    "\n",
    "Constraints:\n",
    "1 ≤ N ≤ 10\n",
    "2 ≤ a[i] ≤ 9\n",
    "\n",
    "'''"
   ]
  },
  {
   "cell_type": "code",
   "execution_count": null,
   "id": "23b0cb69",
   "metadata": {},
   "outputs": [],
   "source": [
    "def possibleWords(self,arr,n):\n",
    "        d={}\n",
    "        d[2]='abc'\n",
    "        d[3]='def'\n",
    "        d[4]='ghi'\n",
    "        d[5]='jkl'\n",
    "        d[6]='mno'\n",
    "        d[7]='pqrs'\n",
    "        d[8]='tuv'\n",
    "        d[9]='wxyz'\n",
    "        \n",
    "        lst=[]\n",
    "        for i in arr:\n",
    "            lst.append(d[i])\n",
    "        \n",
    "        ls=[]\n",
    "        def traverse(lst,index,curr):\n",
    "            if(index==n):\n",
    "                ls.append(''.join(curr))\n",
    "                return\n",
    "            \n",
    "            for i in lst[index]:\n",
    "                curr.append(i)\n",
    "                traverse(lst,index+1,curr)\n",
    "                curr.pop()\n",
    "        traverse(lst,0,[])\n",
    "        return ls\n"
   ]
  }
 ],
 "metadata": {
  "kernelspec": {
   "display_name": "Python 3 (ipykernel)",
   "language": "python",
   "name": "python3"
  },
  "language_info": {
   "codemirror_mode": {
    "name": "ipython",
    "version": 3
   },
   "file_extension": ".py",
   "mimetype": "text/x-python",
   "name": "python",
   "nbconvert_exporter": "python",
   "pygments_lexer": "ipython3",
   "version": "3.9.13"
  }
 },
 "nbformat": 4,
 "nbformat_minor": 5
}

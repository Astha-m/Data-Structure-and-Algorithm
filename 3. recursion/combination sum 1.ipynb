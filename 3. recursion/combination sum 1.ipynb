{
 "cells": [
  {
   "cell_type": "code",
   "execution_count": null,
   "id": "2e894bd0",
   "metadata": {},
   "outputs": [],
   "source": [
    "'''\n",
    "Given an array of distinct integers candidates and a target integer target, return a list of all unique \n",
    "combinations of candidates where the chosen numbers sum to target. You may return the combinations in any order.\n",
    "\n",
    "The same number may be chosen from candidates an unlimited number of times. Two combinations \n",
    "are unique if the frequency of at least one of the chosen numbers is different.\n",
    "\n",
    "It is guaranteed that the number of unique combinations that sum up to target is less than \n",
    "150 combinations for the given input.\n",
    "\n",
    "\n",
    "Input: candidates = [2,3,6,7], target = 7\n",
    "Output: [[2,2,3],[7]]\n",
    "\n",
    "'''"
   ]
  },
  {
   "cell_type": "code",
   "execution_count": 1,
   "id": "7f593a00",
   "metadata": {},
   "outputs": [],
   "source": [
    "res=[]\n",
    "def combination_sum(arr,i,target,path):\n",
    "    \n",
    "    if(target==0):\n",
    "        res.append(path)\n",
    "        return\n",
    "    if(i>=len(arr)):\n",
    "        return\n",
    "    if(target<0):\n",
    "        return\n",
    "    \n",
    "    \n",
    "    combination_sum(arr,i,target-arr[i],path+[arr[i]])\n",
    "    combination_sum(arr,i+1,target,path)"
   ]
  },
  {
   "cell_type": "code",
   "execution_count": 2,
   "id": "f4e43114",
   "metadata": {},
   "outputs": [],
   "source": [
    "combination_sum([2,3,6,7],0,7,[])"
   ]
  },
  {
   "cell_type": "code",
   "execution_count": 3,
   "id": "f0aec6b1",
   "metadata": {},
   "outputs": [
    {
     "data": {
      "text/plain": [
       "[[2, 2, 3], [7]]"
      ]
     },
     "execution_count": 3,
     "metadata": {},
     "output_type": "execute_result"
    }
   ],
   "source": [
    "res"
   ]
  },
  {
   "cell_type": "code",
   "execution_count": null,
   "id": "587dbdc5",
   "metadata": {},
   "outputs": [],
   "source": []
  }
 ],
 "metadata": {
  "kernelspec": {
   "display_name": "Python 3 (ipykernel)",
   "language": "python",
   "name": "python3"
  },
  "language_info": {
   "codemirror_mode": {
    "name": "ipython",
    "version": 3
   },
   "file_extension": ".py",
   "mimetype": "text/x-python",
   "name": "python",
   "nbconvert_exporter": "python",
   "pygments_lexer": "ipython3",
   "version": "3.9.8"
  }
 },
 "nbformat": 4,
 "nbformat_minor": 5
}

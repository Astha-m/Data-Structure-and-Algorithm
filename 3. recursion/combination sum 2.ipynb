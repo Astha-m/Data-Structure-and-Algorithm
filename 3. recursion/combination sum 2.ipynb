{
 "cells": [
  {
   "cell_type": "code",
   "execution_count": null,
   "id": "00792b19",
   "metadata": {},
   "outputs": [],
   "source": [
    "'''\n",
    "Given a collection of candidate numbers (candidates) and a target number (target), find all unique combinations in candidates where the candidate numbers sum to target.\n",
    "\n",
    "Each number in candidates may only be used once in the combination.\n",
    "\n",
    "Note: The solution set must not contain duplicate combinations.\n",
    "\n",
    " \n",
    "\n",
    "Example 1:\n",
    "\n",
    "Input: candidates = [10,1,2,7,6,1,5], target = 8\n",
    "Output: \n",
    "[\n",
    "[1,1,6],\n",
    "[1,2,5],\n",
    "[1,7],\n",
    "[2,6]\n",
    "]\n",
    "\n",
    "'''"
   ]
  },
  {
   "cell_type": "code",
   "execution_count": 9,
   "id": "a0b78185",
   "metadata": {},
   "outputs": [
    {
     "name": "stdout",
     "output_type": "stream",
     "text": [
      "[1, 1, 6]\n",
      "[1, 2, 5]\n",
      "[1, 7]\n",
      "[1, 2, 5]\n",
      "[1, 7]\n",
      "[2, 6]\n"
     ]
    },
    {
     "data": {
      "text/plain": [
       "[[1, 1, 6], [1, 2, 5], [1, 7], [2, 6]]"
      ]
     },
     "execution_count": 9,
     "metadata": {},
     "output_type": "execute_result"
    }
   ],
   "source": [
    "class Solution:\n",
    "    def combinationSum2(self, candidates: List[int], target: int) -> List[List[int]]:\n",
    "        candidates.sort()\n",
    "        result = []\n",
    "        \n",
    "        def combination(idx, target, path):\n",
    "            if target < 0:\n",
    "                return \n",
    "            \n",
    "            if target == 0:\n",
    "                result.append(path)\n",
    "                return\n",
    "                \n",
    "            if idx == len(candidates):\n",
    "                return\n",
    "            \n",
    "            for i in range(idx, len(candidates)):\n",
    "                if i > idx and candidates[i] == candidates[i - 1]:\n",
    "                    continue\n",
    "                combination(i + 1, target - candidates[i], path + [candidates[i]])\n",
    "            \n",
    "            \n",
    "            \n",
    "        combination(0, target, [])\n",
    "        return result"
   ]
  },
  {
   "cell_type": "code",
   "execution_count": null,
   "id": "aa2098d6",
   "metadata": {},
   "outputs": [],
   "source": []
  }
 ],
 "metadata": {
  "kernelspec": {
   "display_name": "Python 3 (ipykernel)",
   "language": "python",
   "name": "python3"
  },
  "language_info": {
   "codemirror_mode": {
    "name": "ipython",
    "version": 3
   },
   "file_extension": ".py",
   "mimetype": "text/x-python",
   "name": "python",
   "nbconvert_exporter": "python",
   "pygments_lexer": "ipython3",
   "version": "3.9.8"
  }
 },
 "nbformat": 4,
 "nbformat_minor": 5
}

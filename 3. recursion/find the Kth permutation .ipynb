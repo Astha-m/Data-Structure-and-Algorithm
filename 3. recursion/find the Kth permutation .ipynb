{
 "cells": [
  {
   "cell_type": "code",
   "execution_count": 1,
   "id": "0b741416",
   "metadata": {},
   "outputs": [
    {
     "data": {
      "text/plain": [
       "'\\nThe set [1, 2, 3, ..., n] contains a total of n! unique permutations.\\n\\nBy listing and labeling all of the permutations in order, we get the following sequence for n = 3:\\n\\n\"123\"\\n\"132\"\\n\"213\"\\n\"231\"\\n\"312\"\\n\"321\"\\nGiven n and k, return the kth permutation sequence.\\n\\nInput: n = 3, k = 3\\nOutput: \"213\"\\n\\n'"
      ]
     },
     "execution_count": 1,
     "metadata": {},
     "output_type": "execute_result"
    }
   ],
   "source": [
    "'''\n",
    "The set [1, 2, 3, ..., n] contains a total of n! unique permutations.\n",
    "\n",
    "By listing and labeling all of the permutations in order, we get the following sequence for n = 3:\n",
    "\n",
    "\"123\"\n",
    "\"132\"\n",
    "\"213\"\n",
    "\"231\"\n",
    "\"312\"\n",
    "\"321\"\n",
    "Given n and k, return the kth permutation sequence.\n",
    "\n",
    "Input: n = 3, k = 3\n",
    "Output: \"213\"\n",
    "\n",
    "'''"
   ]
  },
  {
   "cell_type": "code",
   "execution_count": null,
   "id": "be703ac3",
   "metadata": {},
   "outputs": [],
   "source": [
    "class Solution:\n",
    "    \n",
    "    def next_permutation(self,nums):\n",
    "        ind1=-1\n",
    "        n=len(nums)\n",
    "        for i in range(n-2,-1,-1):\n",
    "            if(nums[i]<nums[i+1]):\n",
    "                ind1=i\n",
    "                break\n",
    "        if(ind1==-1):\n",
    "            nums.sort()\n",
    "            return nums\n",
    "        else:\n",
    "            ind2=-1\n",
    "            for i in range(n-1,-1,-1):\n",
    "                if(nums[i]>nums[ind1]):\n",
    "                    ind2=i\n",
    "                    break\n",
    "            nums[ind1],nums[ind2]=nums[ind2],nums[ind1]\n",
    "            start=ind1+1\n",
    "            end=n-1\n",
    "            while(start<end):\n",
    "                nums[start],nums[end]=nums[end],nums[start]\n",
    "                start+=1\n",
    "                end-=1\n",
    "            return nums\n",
    "    \n",
    "    \n",
    "    def getPermutation(self, n: int, k: int) -> str:\n",
    "        if(n==1):\n",
    "            return '1'\n",
    "        nums=[]\n",
    "        for i in range(1,n+1):\n",
    "            nums.append(i)\n",
    "        for i in range(k-1):\n",
    "            nums=self.next_permutation(nums)\n",
    "        \n",
    "        for i in range(len(nums)):\n",
    "            nums[i]=str(nums[i])\n",
    "        return ''.join(nums)\n",
    "        "
   ]
  }
 ],
 "metadata": {
  "kernelspec": {
   "display_name": "Python 3 (ipykernel)",
   "language": "python",
   "name": "python3"
  },
  "language_info": {
   "codemirror_mode": {
    "name": "ipython",
    "version": 3
   },
   "file_extension": ".py",
   "mimetype": "text/x-python",
   "name": "python",
   "nbconvert_exporter": "python",
   "pygments_lexer": "ipython3",
   "version": "3.9.8"
  }
 },
 "nbformat": 4,
 "nbformat_minor": 5
}

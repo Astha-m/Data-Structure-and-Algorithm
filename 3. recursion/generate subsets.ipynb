{
 "cells": [
  {
   "cell_type": "code",
   "execution_count": 1,
   "id": "f327729a",
   "metadata": {},
   "outputs": [
    {
     "name": "stdout",
     "output_type": "stream",
     "text": [
      "\n",
      "c\n",
      "b\n",
      "bc\n",
      "a\n",
      "ac\n",
      "ab\n",
      "abc\n"
     ]
    }
   ],
   "source": [
    "def generate_subsets(strg,i,curr):\n",
    "    if(i==len(strg)):\n",
    "        print(curr)\n",
    "        return\n",
    "    generate_subsets(strg,i+1,curr)\n",
    "    generate_subsets(strg,i+1,curr+strg[i])\n",
    "generate_subsets('abc',0,'')"
   ]
  },
  {
   "cell_type": "code",
   "execution_count": null,
   "id": "6c251492",
   "metadata": {},
   "outputs": [],
   "source": []
  }
 ],
 "metadata": {
  "kernelspec": {
   "display_name": "Python 3 (ipykernel)",
   "language": "python",
   "name": "python3"
  },
  "language_info": {
   "codemirror_mode": {
    "name": "ipython",
    "version": 3
   },
   "file_extension": ".py",
   "mimetype": "text/x-python",
   "name": "python",
   "nbconvert_exporter": "python",
   "pygments_lexer": "ipython3",
   "version": "3.9.8"
  }
 },
 "nbformat": 4,
 "nbformat_minor": 5
}

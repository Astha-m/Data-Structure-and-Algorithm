{
 "cells": [
  {
   "cell_type": "code",
   "execution_count": 1,
   "id": "07351ff0",
   "metadata": {},
   "outputs": [
    {
     "data": {
      "text/plain": [
       "'\\nhttps://practice.geeksforgeeks.org/problems/josephus-problem/1\\n\\nGiven the total number of persons n and a number k which indicates that k-1 persons are skipped and kth person is killed in circle in a fixed direction.\\n\\nThe task is to choose the safe place in the circle so that when you perform these operations starting from 1st place in the circle, you are the last one remaining and survive.\\n\\n\\nInput:\\nn = 3 k = 2\\nOutput: 3\\nExplanation: There are 3 persons so \\nskipping 1 person i.e 1st person 2nd \\nperson will be killed. Thus the safe \\nposition is 3.\\n\\n'"
      ]
     },
     "execution_count": 1,
     "metadata": {},
     "output_type": "execute_result"
    }
   ],
   "source": [
    "'''\n",
    "https://practice.geeksforgeeks.org/problems/josephus-problem/1\n",
    "\n",
    "Given the total number of persons n and a number k which indicates that k-1 persons are skipped and kth person is killed in circle in a fixed direction.\n",
    "\n",
    "The task is to choose the safe place in the circle so that when you perform these operations starting from 1st place in the circle, you are the last one remaining and survive.\n",
    "\n",
    "\n",
    "Input:\n",
    "n = 3 k = 2\n",
    "Output: 3\n",
    "Explanation: There are 3 persons so \n",
    "skipping 1 person i.e 1st person 2nd \n",
    "person will be killed. Thus the safe \n",
    "position is 3.\n",
    "\n",
    "'''"
   ]
  },
  {
   "cell_type": "code",
   "execution_count": 4,
   "id": "9bcbebde",
   "metadata": {},
   "outputs": [],
   "source": [
    "def josephus(n,k):\n",
    "    #Your code here\n",
    "\n",
    "    def recur(n,k):\n",
    "        if(n==1):\n",
    "            return 0\n",
    "\n",
    "        return (recur(n-1,k)+k)%n\n",
    "    return recur(n,k)+1"
   ]
  },
  {
   "cell_type": "code",
   "execution_count": 5,
   "id": "dfe08fe2",
   "metadata": {},
   "outputs": [
    {
     "data": {
      "text/plain": [
       "4"
      ]
     },
     "execution_count": 5,
     "metadata": {},
     "output_type": "execute_result"
    }
   ],
   "source": [
    "josephus(5,3)"
   ]
  },
  {
   "cell_type": "code",
   "execution_count": null,
   "id": "ca9e1678",
   "metadata": {},
   "outputs": [],
   "source": []
  }
 ],
 "metadata": {
  "kernelspec": {
   "display_name": "Python 3 (ipykernel)",
   "language": "python",
   "name": "python3"
  },
  "language_info": {
   "codemirror_mode": {
    "name": "ipython",
    "version": 3
   },
   "file_extension": ".py",
   "mimetype": "text/x-python",
   "name": "python",
   "nbconvert_exporter": "python",
   "pygments_lexer": "ipython3",
   "version": "3.9.8"
  }
 },
 "nbformat": 4,
 "nbformat_minor": 5
}

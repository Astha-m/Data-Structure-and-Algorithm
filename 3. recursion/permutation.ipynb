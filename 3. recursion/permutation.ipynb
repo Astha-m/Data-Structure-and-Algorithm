{
 "cells": [
  {
   "cell_type": "code",
   "execution_count": 5,
   "id": "c8414661",
   "metadata": {},
   "outputs": [],
   "source": [
    "def permutation(strg,i):\n",
    "    if(i==len(strg)-1):\n",
    "        print(strg)\n",
    "        return\n",
    "    for j in range(i,len(strg)):\n",
    "        strg[i],strg[j]=strg[j],strg[i]\n",
    "        permutation(strg,i+1)\n",
    "        strg[i],strg[j]=strg[j],strg[i]\n",
    "    "
   ]
  },
  {
   "cell_type": "code",
   "execution_count": 7,
   "id": "d5be5507",
   "metadata": {},
   "outputs": [
    {
     "name": "stdout",
     "output_type": "stream",
     "text": [
      "['a', 'b', 'c']\n",
      "['a', 'c', 'b']\n",
      "['b', 'a', 'c']\n",
      "['b', 'c', 'a']\n",
      "['c', 'b', 'a']\n",
      "['c', 'a', 'b']\n"
     ]
    }
   ],
   "source": [
    "permutation(['a','b','c'],0)"
   ]
  },
  {
   "cell_type": "code",
   "execution_count": null,
   "id": "346cc9bd",
   "metadata": {},
   "outputs": [],
   "source": []
  }
 ],
 "metadata": {
  "kernelspec": {
   "display_name": "Python 3 (ipykernel)",
   "language": "python",
   "name": "python3"
  },
  "language_info": {
   "codemirror_mode": {
    "name": "ipython",
    "version": 3
   },
   "file_extension": ".py",
   "mimetype": "text/x-python",
   "name": "python",
   "nbconvert_exporter": "python",
   "pygments_lexer": "ipython3",
   "version": "3.9.8"
  }
 },
 "nbformat": 4,
 "nbformat_minor": 5
}

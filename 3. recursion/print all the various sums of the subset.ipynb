{
 "cells": [
  {
   "cell_type": "code",
   "execution_count": 1,
   "id": "b1e1b657",
   "metadata": {},
   "outputs": [
    {
     "name": "stdout",
     "output_type": "stream",
     "text": [
      "0\n",
      "3\n",
      "2\n",
      "5\n"
     ]
    }
   ],
   "source": [
    "def subset_sums(arr,i,curr):\n",
    "    if(i==len(arr)):\n",
    "        print(curr)\n",
    "        return\n",
    "    subset_sums(arr,i+1,curr)\n",
    "    subset_sums(arr,i+1,curr+arr[i])\n",
    "subset_sums([2,3],0,0)"
   ]
  },
  {
   "cell_type": "code",
   "execution_count": null,
   "id": "d2618190",
   "metadata": {},
   "outputs": [],
   "source": []
  }
 ],
 "metadata": {
  "kernelspec": {
   "display_name": "Python 3 (ipykernel)",
   "language": "python",
   "name": "python3"
  },
  "language_info": {
   "codemirror_mode": {
    "name": "ipython",
    "version": 3
   },
   "file_extension": ".py",
   "mimetype": "text/x-python",
   "name": "python",
   "nbconvert_exporter": "python",
   "pygments_lexer": "ipython3",
   "version": "3.9.8"
  }
 },
 "nbformat": 4,
 "nbformat_minor": 5
}

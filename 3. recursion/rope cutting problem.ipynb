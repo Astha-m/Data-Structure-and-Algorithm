{
 "cells": [
  {
   "cell_type": "code",
   "execution_count": 1,
   "id": "f683a388",
   "metadata": {},
   "outputs": [],
   "source": [
    "# given a rope of length n; given three values a,b,c find the maximum number of peices by using any combination of a or b or c.\n"
   ]
  },
  {
   "cell_type": "code",
   "execution_count": 2,
   "id": "4c1113d3",
   "metadata": {},
   "outputs": [],
   "source": [
    "def ropecutting(n,a,b,c):\n",
    "    if(n==0):\n",
    "        return 0\n",
    "    if(n<0):\n",
    "        return -1\n",
    "    res=max(ropecutting(n-a,a,b,c),\n",
    "           ropecutting(n-b,a,b,c),\n",
    "           ropecutting(n-c,a,b,c))\n",
    "    if(res==-1):\n",
    "        return -1\n",
    "    return res+1"
   ]
  },
  {
   "cell_type": "code",
   "execution_count": 7,
   "id": "764244b9",
   "metadata": {},
   "outputs": [
    {
     "data": {
      "text/plain": [
       "2"
      ]
     },
     "execution_count": 7,
     "metadata": {},
     "output_type": "execute_result"
    }
   ],
   "source": [
    "ropecutting(23,11,9,12)"
   ]
  },
  {
   "cell_type": "code",
   "execution_count": null,
   "id": "4279cfbc",
   "metadata": {},
   "outputs": [],
   "source": []
  }
 ],
 "metadata": {
  "kernelspec": {
   "display_name": "Python 3 (ipykernel)",
   "language": "python",
   "name": "python3"
  },
  "language_info": {
   "codemirror_mode": {
    "name": "ipython",
    "version": 3
   },
   "file_extension": ".py",
   "mimetype": "text/x-python",
   "name": "python",
   "nbconvert_exporter": "python",
   "pygments_lexer": "ipython3",
   "version": "3.9.8"
  }
 },
 "nbformat": 4,
 "nbformat_minor": 5
}

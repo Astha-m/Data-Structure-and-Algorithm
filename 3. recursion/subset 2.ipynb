{
 "cells": [
  {
   "cell_type": "code",
   "execution_count": 1,
   "id": "bd54c340",
   "metadata": {},
   "outputs": [
    {
     "data": {
      "text/plain": [
       "'\\nGiven an integer array nums that may contain duplicates, return all possible subsets (the power set).\\n\\nThe solution set must not contain duplicate subsets. Return the solution in any order.\\n\\nInput: nums = [1,2,2]\\n\\nOutput: [[],[1],[1,2],[1,2,2],[2],[2,2]]\\n'"
      ]
     },
     "execution_count": 1,
     "metadata": {},
     "output_type": "execute_result"
    }
   ],
   "source": [
    "'''\n",
    "Given an integer array nums that may contain duplicates, return all possible subsets (the power set).\n",
    "\n",
    "The solution set must not contain duplicate subsets. Return the solution in any order.\n",
    "\n",
    "Input: nums = [1,2,2]\n",
    "\n",
    "Output: [[],[1],[1,2],[1,2,2],[2],[2,2]]\n",
    "'''"
   ]
  },
  {
   "cell_type": "code",
   "execution_count": 3,
   "id": "3d8ea2c8",
   "metadata": {},
   "outputs": [
    {
     "name": "stdout",
     "output_type": "stream",
     "text": [
      "[[], [1], [1, 2], [1, 2, 2], [2], [2, 2]]\n"
     ]
    }
   ],
   "source": [
    "nums=[1,2,2]\n",
    "nums.sort()\n",
    "res=[]\n",
    "def subset(nums,start,path):\n",
    "    res.append(path.copy())\n",
    "    for i in range(start,len(nums)):\n",
    "        if(i>start and nums[i-1]==nums[i]):\n",
    "            continue\n",
    "        path.append(nums[i])\n",
    "        subset(nums,i+1,path)\n",
    "        path.pop()\n",
    "subset(nums,0,[])\n",
    "print(res)"
   ]
  },
  {
   "cell_type": "code",
   "execution_count": null,
   "id": "812b0d96",
   "metadata": {},
   "outputs": [],
   "source": []
  }
 ],
 "metadata": {
  "kernelspec": {
   "display_name": "Python 3 (ipykernel)",
   "language": "python",
   "name": "python3"
  },
  "language_info": {
   "codemirror_mode": {
    "name": "ipython",
    "version": 3
   },
   "file_extension": ".py",
   "mimetype": "text/x-python",
   "name": "python",
   "nbconvert_exporter": "python",
   "pygments_lexer": "ipython3",
   "version": "3.9.8"
  }
 },
 "nbformat": 4,
 "nbformat_minor": 5
}

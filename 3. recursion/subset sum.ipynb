{
 "cells": [
  {
   "cell_type": "code",
   "execution_count": 1,
   "id": "3083cfc5",
   "metadata": {},
   "outputs": [
    {
     "data": {
      "text/plain": [
       "1"
      ]
     },
     "execution_count": 1,
     "metadata": {},
     "output_type": "execute_result"
    }
   ],
   "source": [
    "# given an array of integers and a sum, print total number of subsets that can be generated with the given sum\n",
    "\n",
    "def subset_sum(arr,su,n):\n",
    "    if(n==0):\n",
    "        if(su==0):\n",
    "            return 1\n",
    "        else:\n",
    "            return 0\n",
    "    return subset_sum(arr,su,n-1)+subset_sum(arr,su-arr[n-1],n-1)\n",
    "subset_sum([10,20,15],25,3)"
   ]
  },
  {
   "cell_type": "code",
   "execution_count": null,
   "id": "8a866c88",
   "metadata": {},
   "outputs": [],
   "source": []
  }
 ],
 "metadata": {
  "kernelspec": {
   "display_name": "Python 3 (ipykernel)",
   "language": "python",
   "name": "python3"
  },
  "language_info": {
   "codemirror_mode": {
    "name": "ipython",
    "version": 3
   },
   "file_extension": ".py",
   "mimetype": "text/x-python",
   "name": "python",
   "nbconvert_exporter": "python",
   "pygments_lexer": "ipython3",
   "version": "3.9.8"
  }
 },
 "nbformat": 4,
 "nbformat_minor": 5
}

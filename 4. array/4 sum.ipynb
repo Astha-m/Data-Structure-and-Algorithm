{
 "cells": [
  {
   "cell_type": "code",
   "execution_count": null,
   "id": "79a539f3",
   "metadata": {},
   "outputs": [],
   "source": [
    "'''Given an array nums of n integers, return an array of all the unique quadruplets [nums[a], nums[b], nums[c], nums[d]] such that:\n",
    "\n",
    "0 <= a, b, c, d < n\n",
    "a, b, c, and d are distinct.\n",
    "nums[a] + nums[b] + nums[c] + nums[d] == target\n",
    "You may return the answer in any order.\n",
    "\n",
    "Input: nums = [1,0,-1,0,-2,2], target = 0\n",
    "Output: [[-2,-1,1,2],[-2,0,0,2],[-1,0,0,1]]\n",
    "\n",
    "'''"
   ]
  },
  {
   "cell_type": "code",
   "execution_count": 1,
   "id": "c5f23467",
   "metadata": {},
   "outputs": [],
   "source": [
    "\n",
    "def checker(arr,target):\n",
    "    arr.sort()\n",
    "    ans=set()\n",
    "    n=len(arr)\n",
    "    for i in range(n-3):\n",
    "        for j in range(i+1,n-2):\n",
    "            k=j+1\n",
    "            l=n-1\n",
    "            while(k<l):\n",
    "                if(arr[i]+arr[j]+arr[k]+arr[l]==target):\n",
    "                    ans.add((i,j,k,l))\n",
    "                    k+=1\n",
    "                elif(arr[i]+arr[j]+arr[k]+arr[l]<target):\n",
    "                    k+=1\n",
    "                else:\n",
    "                    l-=1\n",
    "    return ans"
   ]
  },
  {
   "cell_type": "code",
   "execution_count": 2,
   "id": "891f2e20",
   "metadata": {},
   "outputs": [
    {
     "data": {
      "text/plain": [
       "{(0, 1, 4, 5), (0, 2, 3, 5), (1, 2, 3, 4)}"
      ]
     },
     "execution_count": 2,
     "metadata": {},
     "output_type": "execute_result"
    }
   ],
   "source": [
    "checker([1,0,-1,0,-2,2],0)"
   ]
  },
  {
   "cell_type": "code",
   "execution_count": null,
   "id": "0f86dc85",
   "metadata": {},
   "outputs": [],
   "source": []
  }
 ],
 "metadata": {
  "kernelspec": {
   "display_name": "Python 3 (ipykernel)",
   "language": "python",
   "name": "python3"
  },
  "language_info": {
   "codemirror_mode": {
    "name": "ipython",
    "version": 3
   },
   "file_extension": ".py",
   "mimetype": "text/x-python",
   "name": "python",
   "nbconvert_exporter": "python",
   "pygments_lexer": "ipython3",
   "version": "3.9.8"
  }
 },
 "nbformat": 4,
 "nbformat_minor": 5
}

{
 "cells": [
  {
   "cell_type": "code",
   "execution_count": 1,
   "id": "db2b8da6",
   "metadata": {},
   "outputs": [
    {
     "data": {
      "text/plain": [
       "'\\nhttps://practice.geeksforgeeks.org/problems/complement3911/1?page=7&company[]=Amazon&category[]=Arrays&sortBy=submissions\\n\\n\\nYou are given a binary string str. \\nIn a single operation, you can choose \\ntwo indices L and R such that 1 ≤ L ≤ R ≤ N \\nand complement the characters between\\nL and R i.e strL, strL+1, , strR. \\nBy complement, we mean change character 0 to 1 and vice-versa.\\n\\nYou task is to perform ATMOST one\\noperation such that in final string \\nnumber of 1s is maximised. If there is\\nno need to completement, i.e., string\\ncontains all 1s, return -1. Else, return \\nthe two values denoting L and R. If there are\\nmultiple solutions, return the lexicographically \\nsmallest pair of L and R.\\n\\nExample 1:\\n\\nInput:\\nN = 3\\nstr = \"111\"\\nOutput: -1\\nExplanation: As all characters are \\'1\\', \\nso don\\'t need to complement any.\\nExample 2:\\n\\nInput:\\nN = 2\\nstr = \"01\"\\nOutput: 1 1\\nExplanation: After complementing [1, 1] \\nthe string becomes \"11\".\\nYour Task:\\nYou don\\'t need to read input or print anything.\\nComplete the function findRange() which takes \\nthe string str and the size of the string, n,\\nas input parameters and returns an array of \\nlength 2 or 1 representing the answer. \\nYou don\\'t have to print answer or take inputs.\\n\\nExpected Time Complexity: O(N)\\nExpected Auxiliary Space: O(1)\\n\\nConstraints:\\n1 ≤ N ≤ 105\\nStr is a binary string i.e. contains only \\'0\\' and \\'1\\'.\\n\\n\\n\\n'"
      ]
     },
     "execution_count": 1,
     "metadata": {},
     "output_type": "execute_result"
    }
   ],
   "source": [
    "'''\n",
    "https://practice.geeksforgeeks.org/problems/complement3911/1?page=7&company[]=Amazon&category[]=Arrays&sortBy=submissions\n",
    "\n",
    "\n",
    "You are given a binary string str. \n",
    "In a single operation, you can choose \n",
    "two indices L and R such that 1 ≤ L ≤ R ≤ N \n",
    "and complement the characters between\n",
    "L and R i.e strL, strL+1, , strR. \n",
    "By complement, we mean change character 0 to 1 and vice-versa.\n",
    "\n",
    "You task is to perform ATMOST one\n",
    "operation such that in final string \n",
    "number of 1s is maximised. If there is\n",
    "no need to completement, i.e., string\n",
    "contains all 1s, return -1. Else, return \n",
    "the two values denoting L and R. If there are\n",
    "multiple solutions, return the lexicographically \n",
    "smallest pair of L and R.\n",
    "\n",
    "Example 1:\n",
    "\n",
    "Input:\n",
    "N = 3\n",
    "str = \"111\"\n",
    "Output: -1\n",
    "Explanation: As all characters are '1', \n",
    "so don't need to complement any.\n",
    "Example 2:\n",
    "\n",
    "Input:\n",
    "N = 2\n",
    "str = \"01\"\n",
    "Output: 1 1\n",
    "Explanation: After complementing [1, 1] \n",
    "the string becomes \"11\".\n",
    "Your Task:\n",
    "You don't need to read input or print anything.\n",
    "Complete the function findRange() which takes \n",
    "the string str and the size of the string, n,\n",
    "as input parameters and returns an array of \n",
    "length 2 or 1 representing the answer. \n",
    "You don't have to print answer or take inputs.\n",
    "\n",
    "Expected Time Complexity: O(N)\n",
    "Expected Auxiliary Space: O(1)\n",
    "\n",
    "Constraints:\n",
    "1 ≤ N ≤ 105\n",
    "Str is a binary string i.e. contains only '0' and '1'.\n",
    "\n",
    "\n",
    "\n",
    "'''"
   ]
  },
  {
   "cell_type": "code",
   "execution_count": null,
   "id": "ea86418b",
   "metadata": {},
   "outputs": [],
   "source": [
    "def findRange(self,a, n):\n",
    "    # code here\n",
    "    if(a.count('1')==n):\n",
    "        return [-1]\n",
    "\n",
    "    arr=[]\n",
    "    for i in a:\n",
    "        if(i=='1'):\n",
    "            arr.append(-1)\n",
    "        else:\n",
    "            arr.append(1)\n",
    "\n",
    "    maxtill=0\n",
    "    maxhere=0\n",
    "    f=0\n",
    "    s=0\n",
    "    e=0\n",
    "    for j in range(n):\n",
    "        maxhere+=arr[j]\n",
    "        if(maxhere<0):\n",
    "            maxhere=0\n",
    "            f=j+1\n",
    "        elif(maxtill<maxhere):\n",
    "            maxtill=maxhere\n",
    "            e=j\n",
    "            s=f\n",
    "    return [s+1,e+1]"
   ]
  }
 ],
 "metadata": {
  "kernelspec": {
   "display_name": "Python 3 (ipykernel)",
   "language": "python",
   "name": "python3"
  },
  "language_info": {
   "codemirror_mode": {
    "name": "ipython",
    "version": 3
   },
   "file_extension": ".py",
   "mimetype": "text/x-python",
   "name": "python",
   "nbconvert_exporter": "python",
   "pygments_lexer": "ipython3",
   "version": "3.9.13"
  }
 },
 "nbformat": 4,
 "nbformat_minor": 5
}

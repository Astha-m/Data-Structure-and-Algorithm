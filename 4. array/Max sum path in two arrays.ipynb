{
 "cells": [
  {
   "cell_type": "code",
   "execution_count": 1,
   "id": "c4d9416f",
   "metadata": {},
   "outputs": [
    {
     "data": {
      "text/plain": [
       "\"\\nGiven two sorted arrays A and B of size M and N respectively. Each array may have some elements in common\\nwith the other array. Find the maximum sum of a path from the beginning of any \\narray to the end of any of the two arrays. We can switch from one array to another \\narray only at the common elements.Both the arrays are sorted.\\nNote: Only one repeated value is considered in the valid path sum.\\n\\n\\nExample 1:\\n\\nInput:\\nM = 5, N = 4\\nA[] = {2,3,7,10,12}\\nB[] = {1,5,7,8}\\nOutput: 35\\nExplanation: The path will be 1+5+7+10+12\\n= 35.\\n\\nExample 2:\\n\\nInput:\\nM = 3, N = 3\\nA[] = {1,2,3}\\nB[] = {3,4,5}\\nOutput: 15\\nExplanation: The path will be 1+2+3+4+5=15.\\n\\nYour Task:\\nYou don't need to read input or print anything. Complete the function max_path_sum() \\nwhich takes the two arrays A and B along with their sizes M and N as input parameters.\\nIt returns the maximum path sum.\\n\\n\""
      ]
     },
     "execution_count": 1,
     "metadata": {},
     "output_type": "execute_result"
    }
   ],
   "source": [
    "'''\n",
    "Given two sorted arrays A and B of size M and N respectively. Each array may have some elements in common\n",
    "with the other array. Find the maximum sum of a path from the beginning of any \n",
    "array to the end of any of the two arrays. We can switch from one array to another \n",
    "array only at the common elements.Both the arrays are sorted.\n",
    "Note: Only one repeated value is considered in the valid path sum.\n",
    "\n",
    "\n",
    "Example 1:\n",
    "\n",
    "Input:\n",
    "M = 5, N = 4\n",
    "A[] = {2,3,7,10,12}\n",
    "B[] = {1,5,7,8}\n",
    "Output: 35\n",
    "Explanation: The path will be 1+5+7+10+12\n",
    "= 35.\n",
    "\n",
    "Example 2:\n",
    "\n",
    "Input:\n",
    "M = 3, N = 3\n",
    "A[] = {1,2,3}\n",
    "B[] = {3,4,5}\n",
    "Output: 15\n",
    "Explanation: The path will be 1+2+3+4+5=15.\n",
    "\n",
    "Your Task:\n",
    "You don't need to read input or print anything. Complete the function max_path_sum() \n",
    "which takes the two arrays A and B along with their sizes M and N as input parameters.\n",
    "It returns the maximum path sum.\n",
    "\n",
    "'''"
   ]
  },
  {
   "cell_type": "code",
   "execution_count": null,
   "id": "b81d8ca6",
   "metadata": {},
   "outputs": [],
   "source": [
    "def maxSumPath(self, arr1, arr2, m, n):\n",
    "    sum1=0\n",
    "    sum2=0\n",
    "    i=0\n",
    "    j=0\n",
    "    res=0\n",
    "    while(i<m and j<n):\n",
    "        if(arr1[i]<arr2[j]):\n",
    "            sum1+=arr1[i]\n",
    "            i+=1\n",
    "        elif(arr2[j]<arr1[i]):\n",
    "            sum2+=arr2[j]\n",
    "            j+=1\n",
    "        else:\n",
    "            res+=max(sum1,sum2)\n",
    "            sum1=0\n",
    "            sum2=0\n",
    "            res+=arr1[i]\n",
    "            i+=1\n",
    "            j+=1\n",
    "    while(i<m):\n",
    "        sum1+=arr1[i]\n",
    "        i+=1\n",
    "    while(j<n):\n",
    "        sum2+=arr2[j]\n",
    "        j+=1\n",
    "    res+=max(sum1,sum2)\n",
    "    return res"
   ]
  }
 ],
 "metadata": {
  "kernelspec": {
   "display_name": "Python 3 (ipykernel)",
   "language": "python",
   "name": "python3"
  },
  "language_info": {
   "codemirror_mode": {
    "name": "ipython",
    "version": 3
   },
   "file_extension": ".py",
   "mimetype": "text/x-python",
   "name": "python",
   "nbconvert_exporter": "python",
   "pygments_lexer": "ipython3",
   "version": "3.9.8"
  }
 },
 "nbformat": 4,
 "nbformat_minor": 5
}

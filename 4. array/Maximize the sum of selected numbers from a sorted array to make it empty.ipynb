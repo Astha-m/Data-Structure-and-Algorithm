{
 "cells": [
  {
   "cell_type": "code",
   "execution_count": 1,
   "id": "f309ecb1",
   "metadata": {},
   "outputs": [
    {
     "data": {
      "text/plain": [
       "\"\\nhttps://practice.geeksforgeeks.org/problems/maximize-the-sum-of-selected-numbers-from-an-array-to-make-it-empty0836/1\\n\\n\\nGiven a array of N numbers, we need to maximize the sum of selected \\nnumbers. At each step, you need to select a number Ai, delete one\\noccurrence of Ai-1 (if exists), and Ai each from the array. Repeat \\nthese steps until the array gets empty. The problem is to maximize \\nthe sum of the selected numbers.\\n\\nNote: Numbers need to be selected from maximum to minimum.\\n\\nExample 1:\\n\\nInput : arr[ ] = {1, 2, 2, 2, 3, 4}\\nOutput : 10\\nExplanation:\\nWe select 4, so 4 and 3 are deleted leaving us with {1,2,2,2}.\\nThen we select 2, so 2 & 1 are deleted. We are left with{2,2}.\\nWe select 2 in next two steps, thus the sum is 4+2+2+2=10.\\n\\nExample 2:\\n\\nInput : arr[ ] = {1, 2, 3} \\nOutput :  4\\nExplanation: We select 3, so 3 and 2 are deleted leaving us with {1}.\\nThen we select 1, 0 doesn't exist so we delete 1. thus the sum is 3+1=4.\\n \\n\\nYour Task:\\nThis is a function problem. The input is already taken care of by the \\ndriver code. You only need to complete the function maximizeSum() that\\ntakes an array (arr), sizeOfArray (n), and return the maximum sum of the\\nselected numbers. The driver code takes care of the printing.\\n\\nExpected Time Complexity: O(NlogN).\\nExpected Auxiliary Space: O(N).\\n\\n\\nConstraints:\\n1 ≤ N ≤ 105\\n1 ≤ A[i] ≤ 105\\n\\n\""
      ]
     },
     "execution_count": 1,
     "metadata": {},
     "output_type": "execute_result"
    }
   ],
   "source": [
    "'''\n",
    "https://practice.geeksforgeeks.org/problems/maximize-the-sum-of-selected-numbers-from-an-array-to-make-it-empty0836/1\n",
    "\n",
    "\n",
    "Given a array of N numbers, we need to maximize the sum of selected \n",
    "numbers. At each step, you need to select a number Ai, delete one\n",
    "occurrence of Ai-1 (if exists), and Ai each from the array. Repeat \n",
    "these steps until the array gets empty. The problem is to maximize \n",
    "the sum of the selected numbers.\n",
    "\n",
    "Note: Numbers need to be selected from maximum to minimum.\n",
    "\n",
    "Example 1:\n",
    "\n",
    "Input : arr[ ] = {1, 2, 2, 2, 3, 4}\n",
    "Output : 10\n",
    "Explanation:\n",
    "We select 4, so 4 and 3 are deleted leaving us with {1,2,2,2}.\n",
    "Then we select 2, so 2 & 1 are deleted. We are left with{2,2}.\n",
    "We select 2 in next two steps, thus the sum is 4+2+2+2=10.\n",
    "\n",
    "Example 2:\n",
    "\n",
    "Input : arr[ ] = {1, 2, 3} \n",
    "Output :  4\n",
    "Explanation: We select 3, so 3 and 2 are deleted leaving us with {1}.\n",
    "Then we select 1, 0 doesn't exist so we delete 1. thus the sum is 3+1=4.\n",
    " \n",
    "\n",
    "Your Task:\n",
    "This is a function problem. The input is already taken care of by the \n",
    "driver code. You only need to complete the function maximizeSum() that\n",
    "takes an array (arr), sizeOfArray (n), and return the maximum sum of the\n",
    "selected numbers. The driver code takes care of the printing.\n",
    "\n",
    "Expected Time Complexity: O(NlogN).\n",
    "Expected Auxiliary Space: O(N).\n",
    "\n",
    "\n",
    "Constraints:\n",
    "1 ≤ N ≤ 105\n",
    "1 ≤ A[i] ≤ 105\n",
    "\n",
    "'''"
   ]
  },
  {
   "cell_type": "code",
   "execution_count": null,
   "id": "0fe49bb6",
   "metadata": {},
   "outputs": [],
   "source": [
    "def maximizeSum (self,arr, n) :\n",
    "        \n",
    "    prevele=float('inf')\n",
    "    prevfreq=0\n",
    "\n",
    "    total=0\n",
    "    i=n-1\n",
    "    while(i>=0):\n",
    "        ele,freq=arr[i],0\n",
    "\n",
    "        while(i>=0 and arr[i]==ele):\n",
    "            i-=1\n",
    "            freq+=1\n",
    "\n",
    "        if(ele+1==prevele):\n",
    "            extra=max(0,freq-prevfreq)\n",
    "            total+=extra*ele\n",
    "            prevfreq=extra\n",
    "        else:\n",
    "            total+=ele*freq\n",
    "            prevfreq=freq\n",
    "\n",
    "        prevele=ele\n",
    "    return total"
   ]
  }
 ],
 "metadata": {
  "kernelspec": {
   "display_name": "Python 3 (ipykernel)",
   "language": "python",
   "name": "python3"
  },
  "language_info": {
   "codemirror_mode": {
    "name": "ipython",
    "version": 3
   },
   "file_extension": ".py",
   "mimetype": "text/x-python",
   "name": "python",
   "nbconvert_exporter": "python",
   "pygments_lexer": "ipython3",
   "version": "3.10.7"
  }
 },
 "nbformat": 4,
 "nbformat_minor": 5
}

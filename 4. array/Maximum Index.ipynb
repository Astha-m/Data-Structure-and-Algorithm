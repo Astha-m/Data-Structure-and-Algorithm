{
 "cells": [
  {
   "cell_type": "code",
   "execution_count": 1,
   "id": "31717137",
   "metadata": {},
   "outputs": [
    {
     "data": {
      "text/plain": [
       "\"\\nhttps://practice.geeksforgeeks.org/problems/maximum-index3307/1?page=2&company[]=Amazon&category[]=Arrays&sortBy=submissions\\n\\n\\n\\nGiven an array Arr[] of N positive \\nintegers. The task is to find the \\nmaximum of j - i subjected to the \\nconstraint of Arr[i] <= Arr[j].\\n\\nExample 1:\\n\\nInput:\\nN = 9\\nArr[] = {34, 8, 10, 3, 2, 80, 30, 33, 1}\\nOutput: 6\\nExplanation: In the given array Arr[1] <\\nArr[7]  satisfying the required condition\\n(Arr[i] <= Arr[j])  thus giving the\\nmaximum difference of j - i which is\\n6(7-1).\\n\\nYour Task:\\nComplete the function maxIndexDiff() \\nwhich takes array arr and size n, as \\ninput parameters and returns an integer\\nrepresenting the answer. You don't to \\nprint answer or take inputs. \\n\\nExpected Time Complexity: O(N)\\nExpected Auxiliary Space: O(N)\\n\\nConstraints:\\n1 ≤ N ≤ 103\\n0 ≤ Arr[i] ≤ 1018\\n\\n \\n\\n\""
      ]
     },
     "execution_count": 1,
     "metadata": {},
     "output_type": "execute_result"
    }
   ],
   "source": [
    "'''\n",
    "https://practice.geeksforgeeks.org/problems/maximum-index3307/1?page=2&company[]=Amazon&category[]=Arrays&sortBy=submissions\n",
    "\n",
    "\n",
    "\n",
    "Given an array Arr[] of N positive \n",
    "integers. The task is to find the \n",
    "maximum of j - i subjected to the \n",
    "constraint of Arr[i] <= Arr[j].\n",
    "\n",
    "Example 1:\n",
    "\n",
    "Input:\n",
    "N = 9\n",
    "Arr[] = {34, 8, 10, 3, 2, 80, 30, 33, 1}\n",
    "Output: 6\n",
    "Explanation: In the given array Arr[1] <\n",
    "Arr[7]  satisfying the required condition\n",
    "(Arr[i] <= Arr[j])  thus giving the\n",
    "maximum difference of j - i which is\n",
    "6(7-1).\n",
    "\n",
    "Your Task:\n",
    "Complete the function maxIndexDiff() \n",
    "which takes array arr and size n, as \n",
    "input parameters and returns an integer\n",
    "representing the answer. You don't to \n",
    "print answer or take inputs. \n",
    "\n",
    "Expected Time Complexity: O(N)\n",
    "Expected Auxiliary Space: O(N)\n",
    "\n",
    "Constraints:\n",
    "1 ≤ N ≤ 103\n",
    "0 ≤ Arr[i] ≤ 1018\n",
    "\n",
    " \n",
    "\n",
    "'''\n"
   ]
  },
  {
   "cell_type": "code",
   "execution_count": null,
   "id": "c5726614",
   "metadata": {},
   "outputs": [],
   "source": [
    "def maxIndexDiff(self,arr,n):\n",
    "    #code here\n",
    "    left=[0]*n\n",
    "    left[0]=arr[0]\n",
    "\n",
    "    for i in range(1,n):\n",
    "        left[i]=min(left[i-1],arr[i])\n",
    "\n",
    "    right=[0]*n\n",
    "    right[n-1]=arr[n-1]\n",
    "    for i in range(n-2,-1,-1):\n",
    "        right[i]=max(right[i+1],arr[i])\n",
    "\n",
    "    i=0\n",
    "    j=0\n",
    "    maxdiff=0\n",
    "    while(i<n and j<n):\n",
    "        if(left[i]<=right[j]):\n",
    "            maxdiff=max(maxdiff,j-i)\n",
    "            j+=1\n",
    "        else:\n",
    "            i+=1\n",
    "    return maxdiff"
   ]
  }
 ],
 "metadata": {
  "kernelspec": {
   "display_name": "Python 3 (ipykernel)",
   "language": "python",
   "name": "python3"
  },
  "language_info": {
   "codemirror_mode": {
    "name": "ipython",
    "version": 3
   },
   "file_extension": ".py",
   "mimetype": "text/x-python",
   "name": "python",
   "nbconvert_exporter": "python",
   "pygments_lexer": "ipython3",
   "version": "3.9.13"
  }
 },
 "nbformat": 4,
 "nbformat_minor": 5
}

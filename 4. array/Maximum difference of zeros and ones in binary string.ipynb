{
 "cells": [
  {
   "cell_type": "code",
   "execution_count": 1,
   "id": "a92fb844",
   "metadata": {},
   "outputs": [
    {
     "data": {
      "text/plain": [
       "'\\nGiven a binary string S consisting of 0s and 1s. The task is to find the maximum \\ndifference of the number of 0s and the number of 1s (number of 0s – number of 1s)\\nin the substrings of a string.\\n\\nNote: In the case of all 1s, the answer will be -1.\\n\\nExample 1:\\n\\nInput : S = \"11000010001\" \\nOutput : 6 \\nExplanatio: From index 2 to index 9, \\nthere are 7 0s and 1 1s, so number \\nof 0s - number of 1s is 6. \\nExample 2:\\n\\nInput: S = \"111111\"\\nOutput: -1\\nExplanation: S contains 1s only \\nYour task:\\nYou do not need to read any input or print anything. The task is to\\ncomplete the function maxSubstring(), which takes a string as input \\nand returns an integer.\\n\\nExpected Time Complexity: O(|S|)\\nExpected Auxiliary Space: O(|S|)\\n\\n\\n'"
      ]
     },
     "execution_count": 1,
     "metadata": {},
     "output_type": "execute_result"
    }
   ],
   "source": [
    "'''\n",
    "Given a binary string S consisting of 0s and 1s. The task is to find the maximum \n",
    "difference of the number of 0s and the number of 1s (number of 0s – number of 1s)\n",
    "in the substrings of a string.\n",
    "\n",
    "Note: In the case of all 1s, the answer will be -1.\n",
    "\n",
    "Example 1:\n",
    "\n",
    "Input : S = \"11000010001\" \n",
    "Output : 6 \n",
    "Explanatio: From index 2 to index 9, \n",
    "there are 7 0s and 1 1s, so number \n",
    "of 0s - number of 1s is 6. \n",
    "Example 2:\n",
    "\n",
    "Input: S = \"111111\"\n",
    "Output: -1\n",
    "Explanation: S contains 1s only \n",
    "Your task:\n",
    "You do not need to read any input or print anything. The task is to\n",
    "complete the function maxSubstring(), which takes a string as input \n",
    "and returns an integer.\n",
    "\n",
    "Expected Time Complexity: O(|S|)\n",
    "Expected Auxiliary Space: O(|S|)\n",
    "\n",
    "\n",
    "'''"
   ]
  },
  {
   "cell_type": "code",
   "execution_count": null,
   "id": "8eb32ade",
   "metadata": {},
   "outputs": [],
   "source": [
    "def maxSubstring(self, s):\n",
    "    zero=0\n",
    "    res=0\n",
    "    for i in range(len(s)):\n",
    "        if(s[i]=='0'):\n",
    "            zero+=1\n",
    "            res=max(res,zero)\n",
    "        elif(s[i]=='1'):\n",
    "            zero-=1\n",
    "            if(zero<0):\n",
    "                zero=0\n",
    "\n",
    "    if(res==0):\n",
    "        return -1\n",
    "    return res"
   ]
  }
 ],
 "metadata": {
  "kernelspec": {
   "display_name": "Python 3 (ipykernel)",
   "language": "python",
   "name": "python3"
  },
  "language_info": {
   "codemirror_mode": {
    "name": "ipython",
    "version": 3
   },
   "file_extension": ".py",
   "mimetype": "text/x-python",
   "name": "python",
   "nbconvert_exporter": "python",
   "pygments_lexer": "ipython3",
   "version": "3.10.7"
  }
 },
 "nbformat": 4,
 "nbformat_minor": 5
}

{
 "cells": [
  {
   "cell_type": "code",
   "execution_count": 1,
   "id": "6f0415a4",
   "metadata": {},
   "outputs": [
    {
     "data": {
      "text/plain": [
       "\"\\nhttps://practice.geeksforgeeks.org/problems/maximum-sum-rectangle2948/1?page=19&company[]=Amazon&sortBy=submissions\\n\\n\\nGiven a 2D matrix M of dimensions RxC. Find the maximum sum submatrix\\nin it.\\n\\nExample 1:\\n\\nInput:\\nR=4\\nC=5\\nM=[[1,2,-1,-4,-20],\\n[-8,-3,4,2,1],\\n[3,8,10,1,3],\\n[-4,-1,1,7,-6]]\\nOutput:\\n29\\nExplanation:\\nThe matrix is as follows and the\\nblue rectangle denotes the maximum sum\\nrectangle.\\nThumbnail\\nExample 2:\\n\\nInput:\\nR=2\\nC=2\\nM=[[-1,-2],[-3,-4]]\\nOutput:\\n-1\\nExplanation:\\nTaking only the first cell is the \\noptimal choice.\\n\\nYour Task:\\nYou don't need to read input or print anything. Your task is to complete \\nthe function maximumSumRectangle() which takes the number R, C, and the\\n2D matrix M as input parameters and returns the maximum sum submatrix.\\n\\n\\nExpected Time Complexity:O(R*R*C)\\nExpected Auxillary Space:O(R*C)\\n \\n\\nConstraints:\\n1<=R,C<=500\\n-1000<=M[i][j]<=1000\\n\\n\""
      ]
     },
     "execution_count": 1,
     "metadata": {},
     "output_type": "execute_result"
    }
   ],
   "source": [
    "'''\n",
    "https://practice.geeksforgeeks.org/problems/maximum-sum-rectangle2948/1?page=19&company[]=Amazon&sortBy=submissions\n",
    "\n",
    "\n",
    "Given a 2D matrix M of dimensions RxC. Find the maximum sum submatrix\n",
    "in it.\n",
    "\n",
    "Example 1:\n",
    "\n",
    "Input:\n",
    "R=4\n",
    "C=5\n",
    "M=[[1,2,-1,-4,-20],\n",
    "[-8,-3,4,2,1],\n",
    "[3,8,10,1,3],\n",
    "[-4,-1,1,7,-6]]\n",
    "Output:\n",
    "29\n",
    "Explanation:\n",
    "The matrix is as follows and the\n",
    "blue rectangle denotes the maximum sum\n",
    "rectangle.\n",
    "Thumbnail\n",
    "Example 2:\n",
    "\n",
    "Input:\n",
    "R=2\n",
    "C=2\n",
    "M=[[-1,-2],[-3,-4]]\n",
    "Output:\n",
    "-1\n",
    "Explanation:\n",
    "Taking only the first cell is the \n",
    "optimal choice.\n",
    "\n",
    "Your Task:\n",
    "You don't need to read input or print anything. Your task is to complete \n",
    "the function maximumSumRectangle() which takes the number R, C, and the\n",
    "2D matrix M as input parameters and returns the maximum sum submatrix.\n",
    "\n",
    "\n",
    "Expected Time Complexity:O(R*R*C)\n",
    "Expected Auxillary Space:O(R*C)\n",
    " \n",
    "\n",
    "Constraints:\n",
    "1<=R,C<=500\n",
    "-1000<=M[i][j]<=1000\n",
    "\n",
    "'''"
   ]
  },
  {
   "cell_type": "code",
   "execution_count": 2,
   "id": "ebfcaded",
   "metadata": {},
   "outputs": [],
   "source": [
    "def maximumSumRectangle(self,r,c,mat):\n",
    "    def kadane(arr):\n",
    "        maxending=arr[0]\n",
    "        res=arr[0]\n",
    "\n",
    "        for i in range(1,len(arr)):\n",
    "            maxending=max(maxending+arr[i],arr[i])\n",
    "            res=max(res,maxending)\n",
    "        return res\n",
    "    maxi=-float('inf')\n",
    "    for i in range(r):\n",
    "        ans=[0]*c\n",
    "        for j in range(i,r):\n",
    "\n",
    "            for ele in range(c):\n",
    "                ans[ele]+=mat[j][ele]\n",
    "\n",
    "            maxi=max(maxi,kadane(ans))\n",
    "    return maxi"
   ]
  },
  {
   "cell_type": "code",
   "execution_count": null,
   "id": "389214b5",
   "metadata": {},
   "outputs": [],
   "source": []
  }
 ],
 "metadata": {
  "kernelspec": {
   "display_name": "Python 3 (ipykernel)",
   "language": "python",
   "name": "python3"
  },
  "language_info": {
   "codemirror_mode": {
    "name": "ipython",
    "version": 3
   },
   "file_extension": ".py",
   "mimetype": "text/x-python",
   "name": "python",
   "nbconvert_exporter": "python",
   "pygments_lexer": "ipython3",
   "version": "3.10.7"
  }
 },
 "nbformat": 4,
 "nbformat_minor": 5
}

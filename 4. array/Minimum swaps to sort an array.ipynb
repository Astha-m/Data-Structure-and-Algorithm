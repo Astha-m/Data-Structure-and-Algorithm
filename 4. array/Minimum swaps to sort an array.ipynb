{
 "cells": [
  {
   "cell_type": "code",
   "execution_count": 3,
   "id": "2b4c1162",
   "metadata": {},
   "outputs": [
    {
     "name": "stdout",
     "output_type": "stream",
     "text": [
      "5\n",
      "[101, 315, 460, 472, 479, 619, 730, 758]\n"
     ]
    }
   ],
   "source": [
    "arr = [ 101, 758, 315, 730,472, 619, 460, 479 ]\n",
    "n=len(arr)\n",
    "temp=sorted(arr)\n",
    "d=dict()\n",
    "for i in range(n):\n",
    "    d[arr[i]]=i\n",
    "ans=0\n",
    "init=-1\n",
    "for i in range(n):\n",
    "    \n",
    "    if(arr[i]!=temp[i]):\n",
    "        ans+=1\n",
    "        \n",
    "        init=arr[i]\n",
    "        \n",
    "        arr[i],arr[d[temp[i]]]=arr[d[temp[i]]],arr[i]\n",
    "        \n",
    "        d[init]=d[temp[i]]\n",
    "        d[temp[i]]=i\n",
    "print(ans)\n",
    "print(arr)"
   ]
  },
  {
   "cell_type": "code",
   "execution_count": null,
   "id": "50810ec0",
   "metadata": {},
   "outputs": [],
   "source": []
  }
 ],
 "metadata": {
  "kernelspec": {
   "display_name": "Python 3 (ipykernel)",
   "language": "python",
   "name": "python3"
  },
  "language_info": {
   "codemirror_mode": {
    "name": "ipython",
    "version": 3
   },
   "file_extension": ".py",
   "mimetype": "text/x-python",
   "name": "python",
   "nbconvert_exporter": "python",
   "pygments_lexer": "ipython3",
   "version": "3.10.7"
  }
 },
 "nbformat": 4,
 "nbformat_minor": 5
}

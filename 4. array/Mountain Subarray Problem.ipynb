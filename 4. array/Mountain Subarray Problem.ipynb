{
 "cells": [
  {
   "cell_type": "code",
   "execution_count": 1,
   "id": "6ff49fcf",
   "metadata": {},
   "outputs": [
    {
     "data": {
      "text/plain": [
       "'\\nhttps://practice.geeksforgeeks.org/problems/mountain-subarray-problem/1?page=9&company[]=Amazon&category[]=Arrays&sortBy=submissions\\n\\n\\n\\nWe are given an array of integers and a range,\\nwe need to find whether the subarray which falls \\nin this range has values in the form of a mountain \\nor not. All values of the subarray are said to be \\nin the form of a mountain if either all values are\\nincreasing or decreasing or first increasing and\\nthen decreasing. More formally a subarray [a1, a2, a3 … aN]\\nis said to be in form of a mountain if there\\nexists an integer K, 1 <= K <= N such that,\\na1 <= a2 <= a3 .. <= aK >= a(K+1) >= a(K+2) …. >= aN\\nYou have to process Q queries. In each query\\nyou are given two integer L and R, denoting \\nstarting and last index of the subarrays respectively.\\n\\nExample 1:\\n\\nInput:\\nN = 8\\na[] = {2,3,2,4,4,6,3,2}\\nQ = 2\\nQueries = (0,2), (1,3)\\nOutput:\\nYes\\nNo\\nExplanation: For L = 0 and R = 2, a0 = 2,\\na1 = 3 and a2 = 2, since they are in the\\nvalid order,answer is Yes.\\nFor L = 1 and R = 3, a1 = 3, a2 = 2 and\\na3 = 4, since a1 > a2 and a2 < a4 the\\norder isn\\'t valid, hence the answer is\\nNo.\\nYour Task:\\n\\nComplete the function processQueries() which \\ntakes the array, size of array queries and number\\nof queries as parameter. It should return a \\nvector/ArrayList/array (depending upon language\\ncpp/Java/Python) of boolean values, true if the \\nsubarray is in mountain form, false otherwise. \\nThe driver code will print \"Yes\" if the returned\\nvalue is true, otherwise \"No\".\\n\\nExpected Time Complexity: O(N + Q).\\nExpected Auxiliary Space: O(N).\\n\\nConstraints:\\n1 <= N, Q <= 105\\n1 <= a[i] <= 106, for each valid i\\n0 <= L <= R <= N-1\\n\\n'"
      ]
     },
     "execution_count": 1,
     "metadata": {},
     "output_type": "execute_result"
    }
   ],
   "source": [
    "'''\n",
    "https://practice.geeksforgeeks.org/problems/mountain-subarray-problem/1?page=9&company[]=Amazon&category[]=Arrays&sortBy=submissions\n",
    "\n",
    "\n",
    "\n",
    "We are given an array of integers and a range,\n",
    "we need to find whether the subarray which falls \n",
    "in this range has values in the form of a mountain \n",
    "or not. All values of the subarray are said to be \n",
    "in the form of a mountain if either all values are\n",
    "increasing or decreasing or first increasing and\n",
    "then decreasing. More formally a subarray [a1, a2, a3 … aN]\n",
    "is said to be in form of a mountain if there\n",
    "exists an integer K, 1 <= K <= N such that,\n",
    "a1 <= a2 <= a3 .. <= aK >= a(K+1) >= a(K+2) …. >= aN\n",
    "You have to process Q queries. In each query\n",
    "you are given two integer L and R, denoting \n",
    "starting and last index of the subarrays respectively.\n",
    "\n",
    "Example 1:\n",
    "\n",
    "Input:\n",
    "N = 8\n",
    "a[] = {2,3,2,4,4,6,3,2}\n",
    "Q = 2\n",
    "Queries = (0,2), (1,3)\n",
    "Output:\n",
    "Yes\n",
    "No\n",
    "Explanation: For L = 0 and R = 2, a0 = 2,\n",
    "a1 = 3 and a2 = 2, since they are in the\n",
    "valid order,answer is Yes.\n",
    "For L = 1 and R = 3, a1 = 3, a2 = 2 and\n",
    "a3 = 4, since a1 > a2 and a2 < a4 the\n",
    "order isn't valid, hence the answer is\n",
    "No.\n",
    "Your Task:\n",
    "\n",
    "Complete the function processQueries() which \n",
    "takes the array, size of array queries and number\n",
    "of queries as parameter. It should return a \n",
    "vector/ArrayList/array (depending upon language\n",
    "cpp/Java/Python) of boolean values, true if the \n",
    "subarray is in mountain form, false otherwise. \n",
    "The driver code will print \"Yes\" if the returned\n",
    "value is true, otherwise \"No\".\n",
    "\n",
    "Expected Time Complexity: O(N + Q).\n",
    "Expected Auxiliary Space: O(N).\n",
    "\n",
    "Constraints:\n",
    "1 <= N, Q <= 105\n",
    "1 <= a[i] <= 106, for each valid i\n",
    "0 <= L <= R <= N-1\n",
    "\n",
    "'''"
   ]
  },
  {
   "cell_type": "code",
   "execution_count": 2,
   "id": "ea0c7164",
   "metadata": {},
   "outputs": [],
   "source": [
    "def processqueries(self,arr,n,m,q):\n",
    "    # code here\n",
    "    left=[0]*n\n",
    "    left[0]=0\n",
    "    lastINCR=0\n",
    "    for i in range(1,n):\n",
    "        if(arr[i]>arr[i-1]):\n",
    "            lastINCR=i\n",
    "        left[i]=lastINCR\n",
    "\n",
    "    right=[0]*n\n",
    "    firstDESC=n-1\n",
    "    right[n-1]=firstDESC\n",
    "\n",
    "    for i in range(n-2,-1,-1):\n",
    "        if(arr[i]>arr[i+1]):\n",
    "            firstDESC=i\n",
    "        right[i]=firstDESC\n",
    "\n",
    "    res=[]\n",
    "\n",
    "    for i in range(m):\n",
    "        rleft,rright=q[i]\n",
    "        if(right[rleft]>=left[rright]):\n",
    "            res.append('Yes')\n",
    "        else:\n",
    "            res.append('No')\n",
    "    return res\n"
   ]
  },
  {
   "cell_type": "code",
   "execution_count": null,
   "id": "17413f77",
   "metadata": {},
   "outputs": [],
   "source": []
  }
 ],
 "metadata": {
  "kernelspec": {
   "display_name": "Python 3 (ipykernel)",
   "language": "python",
   "name": "python3"
  },
  "language_info": {
   "codemirror_mode": {
    "name": "ipython",
    "version": 3
   },
   "file_extension": ".py",
   "mimetype": "text/x-python",
   "name": "python",
   "nbconvert_exporter": "python",
   "pygments_lexer": "ipython3",
   "version": "3.9.13"
  }
 },
 "nbformat": 4,
 "nbformat_minor": 5
}

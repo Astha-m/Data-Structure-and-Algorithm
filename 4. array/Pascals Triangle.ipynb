{
 "cells": [
  {
   "cell_type": "code",
   "execution_count": 2,
   "id": "ac8becb8",
   "metadata": {},
   "outputs": [
    {
     "data": {
      "text/plain": [
       "[[1], [1, 1], [1, 2, 1], [1, 3, 3, 1], [1, 4, 6, 4, 1]]"
      ]
     },
     "execution_count": 2,
     "metadata": {},
     "output_type": "execute_result"
    }
   ],
   "source": [
    "def combi(n,r):\n",
    "    if(r>n-r):\n",
    "        r=n-r\n",
    "    res=1\n",
    "    for i in range(r):\n",
    "        res=res*(n-i)\n",
    "        res=res//(i+1)\n",
    "    return res\n",
    "\n",
    "def pascalstri(nums): \n",
    "    lstmain=[]\n",
    "    for i in range(nums):\n",
    "        lst=[]\n",
    "        for j in range(i+1):\n",
    "            lst.append(combi(i,j))\n",
    "        lstmain.append(lst)\n",
    "    return lstmain\n",
    "pascalstri(5)"
   ]
  },
  {
   "cell_type": "code",
   "execution_count": null,
   "id": "bb3cb79e",
   "metadata": {},
   "outputs": [],
   "source": []
  }
 ],
 "metadata": {
  "kernelspec": {
   "display_name": "Python 3 (ipykernel)",
   "language": "python",
   "name": "python3"
  },
  "language_info": {
   "codemirror_mode": {
    "name": "ipython",
    "version": 3
   },
   "file_extension": ".py",
   "mimetype": "text/x-python",
   "name": "python",
   "nbconvert_exporter": "python",
   "pygments_lexer": "ipython3",
   "version": "3.9.8"
  }
 },
 "nbformat": 4,
 "nbformat_minor": 5
}

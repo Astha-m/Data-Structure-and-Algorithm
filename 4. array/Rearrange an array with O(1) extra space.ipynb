{
 "cells": [
  {
   "cell_type": "code",
   "execution_count": 1,
   "id": "9d07e6d5",
   "metadata": {},
   "outputs": [
    {
     "data": {
      "text/plain": [
       "'\\nGiven an array arr[] of size N where every element is in the range from 0 to n-1. \\nRearrange the given array so that arr[i] becomes arr[arr[i]].\\n\\nInput:\\nN = 2\\narr[] = {1,0}\\nOutput: 0 1\\nExplanation: \\narr[arr[0]] = arr[1] = 0.\\narr[arr[1]] = arr[0] = 1.\\n \\n\\nExample 2:\\n\\nInput:\\nN = 5\\narr[] = {4,0,2,1,3}\\nOutput: 3 4 2 0 1\\nExplanation: \\narr[arr[0]] = arr[4] = 3.\\narr[arr[1]] = arr[0] = 4.\\nand so on.\\n\\n'"
      ]
     },
     "execution_count": 1,
     "metadata": {},
     "output_type": "execute_result"
    }
   ],
   "source": [
    "'''\n",
    "Given an array arr[] of size N where every element is in the range from 0 to n-1. \n",
    "Rearrange the given array so that arr[i] becomes arr[arr[i]].\n",
    "\n",
    "Input:\n",
    "N = 2\n",
    "arr[] = {1,0}\n",
    "Output: 0 1\n",
    "Explanation: \n",
    "arr[arr[0]] = arr[1] = 0.\n",
    "arr[arr[1]] = arr[0] = 1.\n",
    " \n",
    "\n",
    "Example 2:\n",
    "\n",
    "Input:\n",
    "N = 5\n",
    "arr[] = {4,0,2,1,3}\n",
    "Output: 3 4 2 0 1\n",
    "Explanation: \n",
    "arr[arr[0]] = arr[4] = 3.\n",
    "arr[arr[1]] = arr[0] = 4.\n",
    "and so on.\n",
    "\n",
    "'''"
   ]
  },
  {
   "cell_type": "code",
   "execution_count": 2,
   "id": "0afd8e65",
   "metadata": {},
   "outputs": [],
   "source": [
    "def arrange(self,arr, n): \n",
    "        #Your code here\n",
    "        \n",
    "        for i in range(n):\n",
    "            arr[i]=arr[i]+(arr[arr[i]]%n)*n\n",
    "        for i in range(n):\n",
    "            arr[i]=arr[i]//n\n",
    "        "
   ]
  },
  {
   "cell_type": "code",
   "execution_count": null,
   "id": "7cd0f538",
   "metadata": {},
   "outputs": [],
   "source": [
    "'''\n",
    "Approach: The array elements of the given array lies from 0 to n-1. \n",
    "Now an array element is needed that can store two different values at the same time. \n",
    "To achieve this, every element at ith index is incremented by (arr[arr[i]] % n)*n.\n",
    "After the increment operation of first step, every element holds both old values and new values. \n",
    "Old value can be obtained by arr[i]%n and a new value can be obtained by arr[i]/n.\n",
    "\n",
    "How this can be achieved? \n",
    "Let’s assume an element is a and another element is b, both the elements are less than n. So if an element a is incremented by b*n. So the element becomes a + b*n so when a + b*n is divided by n then the value is b and a + b*n % n is a.\n",
    "\n",
    "Algorithm:  \n",
    "\n",
    "Traverse the array from start to end.\n",
    "For every index increment the element by array[array[index] ] % n because there may be situation when array element might have been update so we use %n to restore old value. To get the ith element find the modulo with n, i.e array[index]%n.\n",
    "Again Traverse the array from start to end\n",
    "Print the ith element after dividing the ith element by n, i.e. array[i]/n.\n",
    "\n",
    "'''"
   ]
  }
 ],
 "metadata": {
  "kernelspec": {
   "display_name": "Python 3 (ipykernel)",
   "language": "python",
   "name": "python3"
  },
  "language_info": {
   "codemirror_mode": {
    "name": "ipython",
    "version": 3
   },
   "file_extension": ".py",
   "mimetype": "text/x-python",
   "name": "python",
   "nbconvert_exporter": "python",
   "pygments_lexer": "ipython3",
   "version": "3.9.8"
  }
 },
 "nbformat": 4,
 "nbformat_minor": 5
}

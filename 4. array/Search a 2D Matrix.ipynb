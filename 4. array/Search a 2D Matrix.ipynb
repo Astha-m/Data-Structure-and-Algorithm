{
 "cells": [
  {
   "cell_type": "code",
   "execution_count": 1,
   "id": "ea42d159",
   "metadata": {},
   "outputs": [
    {
     "data": {
      "text/plain": [
       "'\\nWrite an efficient algorithm that searches for a value target in an m x n integer matrix matrix. \\nThis matrix has the following properties:\\n\\nIntegers in each row are sorted from left to right.\\nThe first integer of each row is greater than the last integer of the previous row.\\n\\nInput: matrix = [[1,3,5,7],[10,11,16,20],[23,30,34,60]], target = 3\\nOutput: true\\n'"
      ]
     },
     "execution_count": 1,
     "metadata": {},
     "output_type": "execute_result"
    }
   ],
   "source": [
    "'''\n",
    "Write an efficient algorithm that searches for a value target in an m x n integer matrix matrix. \n",
    "This matrix has the following properties:\n",
    "\n",
    "Integers in each row are sorted from left to right.\n",
    "The first integer of each row is greater than the last integer of the previous row.\n",
    "\n",
    "Input: matrix = [[1,3,5,7],[10,11,16,20],[23,30,34,60]], target = 3\n",
    "Output: true\n",
    "'''"
   ]
  },
  {
   "cell_type": "code",
   "execution_count": 2,
   "id": "7d351295",
   "metadata": {},
   "outputs": [
    {
     "data": {
      "text/plain": [
       "True"
      ]
     },
     "execution_count": 2,
     "metadata": {},
     "output_type": "execute_result"
    }
   ],
   "source": [
    "def finder(mat,target):\n",
    "    rows=len(mat)\n",
    "    cols=len(mat[0])\n",
    "    \n",
    "    low=0\n",
    "    high=rows-1\n",
    "    ind=-1\n",
    "    while(low<=high):\n",
    "        mid=(low+high)//2\n",
    "        if(target>=mat[mid][0] and target<=mat[mid][cols-1]):\n",
    "            ind=mid\n",
    "            break\n",
    "        if(target<mat[mid][0]):\n",
    "            high=mid-1\n",
    "        else:\n",
    "            low=mid+1\n",
    "    \n",
    "    if(ind!=-1):\n",
    "        low=0\n",
    "        high=cols-1\n",
    "        while(low<=high):\n",
    "            mid=(low+high)//2\n",
    "            if(mat[ind][mid]==target):\n",
    "                return True\n",
    "            if(mat[ind][mid]<target):\n",
    "                low=mid+1\n",
    "            else:\n",
    "                high=mid-1\n",
    "    return False\n",
    "\n",
    "finder([[1,3,5,7],[10,11,16,20],[23,30,34,60]],3)"
   ]
  },
  {
   "cell_type": "code",
   "execution_count": null,
   "id": "00096573",
   "metadata": {},
   "outputs": [],
   "source": []
  }
 ],
 "metadata": {
  "kernelspec": {
   "display_name": "Python 3 (ipykernel)",
   "language": "python",
   "name": "python3"
  },
  "language_info": {
   "codemirror_mode": {
    "name": "ipython",
    "version": 3
   },
   "file_extension": ".py",
   "mimetype": "text/x-python",
   "name": "python",
   "nbconvert_exporter": "python",
   "pygments_lexer": "ipython3",
   "version": "3.9.8"
  }
 },
 "nbformat": 4,
 "nbformat_minor": 5
}

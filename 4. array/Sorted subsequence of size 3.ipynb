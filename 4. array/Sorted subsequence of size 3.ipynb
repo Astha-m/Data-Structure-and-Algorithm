{
 "cells": [
  {
   "cell_type": "code",
   "execution_count": 1,
   "id": "1461a5d1",
   "metadata": {},
   "outputs": [
    {
     "data": {
      "text/plain": [
       "\"\\nhttps://practice.geeksforgeeks.org/problems/sorted-subsequence-of-size-3/1?page=5&company[]=Amazon&category[]=Arrays&sortBy=submissions\\n\\n\\nGiven an array A of N integers,\\nfind any 3 elements in it such \\nthat A[i] < A[j] < A[k] and i < j < k.\\n\\nExample 1:\\n\\nInput:\\nN = 5\\nA[] = {1,2,1,1,3}\\nOutput: 1\\nExplanation: a sub-sequence 1 2 3 exist.\\nExample 2:\\n\\nInput:\\nN = 3\\nA[] = {1,1,3}\\nOutput: 0\\nExplanation: no such sub-sequence exist.\\nYour Task:\\nYour task is to complete the function \\nfind3Numbers which finds any 3 elements\\nin it such that A[i] < A[j] < A[k] and \\ni < j < k. You need to return them as a \\nvector/ArrayList/array (depending on the \\nlanguage cpp/Java/Python), if no such element \\nis present then return the empty vector of size 0.\\n\\nNote: The output will be 1 if the\\nsub-sequence returned by the function is\\npresent in array A else 0. If the sub-sequence\\nreturned by the function is not in the format\\nas mentioned then the output will be -1.\\n\\nExpected Time Complexity: O(N)\\nExpected Auxiliary Space: O(N)\\n\\nConstraints:\\n1 <= N <= 105\\n1 <= A[i] <= 106, for each valid i\\n\\nNote: The Input/Output format and Examples\\ngiven are used for the system's internal \\npurpose, and should be used by a user for \\nExpected Output only. As it is a function problem,\\nhence a user should not read any input from \\nstdin/console. The task is to complete the\\nfunction specified, and not to write the full code.\\n\\n\""
      ]
     },
     "execution_count": 1,
     "metadata": {},
     "output_type": "execute_result"
    }
   ],
   "source": [
    "'''\n",
    "https://practice.geeksforgeeks.org/problems/sorted-subsequence-of-size-3/1?page=5&company[]=Amazon&category[]=Arrays&sortBy=submissions\n",
    "\n",
    "\n",
    "Given an array A of N integers,\n",
    "find any 3 elements in it such \n",
    "that A[i] < A[j] < A[k] and i < j < k.\n",
    "\n",
    "Example 1:\n",
    "\n",
    "Input:\n",
    "N = 5\n",
    "A[] = {1,2,1,1,3}\n",
    "Output: 1\n",
    "Explanation: a sub-sequence 1 2 3 exist.\n",
    "Example 2:\n",
    "\n",
    "Input:\n",
    "N = 3\n",
    "A[] = {1,1,3}\n",
    "Output: 0\n",
    "Explanation: no such sub-sequence exist.\n",
    "Your Task:\n",
    "Your task is to complete the function \n",
    "find3Numbers which finds any 3 elements\n",
    "in it such that A[i] < A[j] < A[k] and \n",
    "i < j < k. You need to return them as a \n",
    "vector/ArrayList/array (depending on the \n",
    "language cpp/Java/Python), if no such element \n",
    "is present then return the empty vector of size 0.\n",
    "\n",
    "Note: The output will be 1 if the\n",
    "sub-sequence returned by the function is\n",
    "present in array A else 0. If the sub-sequence\n",
    "returned by the function is not in the format\n",
    "as mentioned then the output will be -1.\n",
    "\n",
    "Expected Time Complexity: O(N)\n",
    "Expected Auxiliary Space: O(N)\n",
    "\n",
    "Constraints:\n",
    "1 <= N <= 105\n",
    "1 <= A[i] <= 106, for each valid i\n",
    "\n",
    "Note: The Input/Output format and Examples\n",
    "given are used for the system's internal \n",
    "purpose, and should be used by a user for \n",
    "Expected Output only. As it is a function problem,\n",
    "hence a user should not read any input from \n",
    "stdin/console. The task is to complete the\n",
    "function specified, and not to write the full code.\n",
    "\n",
    "'''"
   ]
  },
  {
   "cell_type": "code",
   "execution_count": null,
   "id": "cde07d2e",
   "metadata": {},
   "outputs": [],
   "source": [
    "def find3number(self,arr, n):\n",
    "    # code here\n",
    "    res=[]\n",
    "\n",
    "    if(n<3):\n",
    "        return res\n",
    "\n",
    "    left=[0]*n\n",
    "    left[0]=arr[0]\n",
    "    for i in range(1,n):\n",
    "        left[i]=min(left[i-1],arr[i])\n",
    "\n",
    "    right=[0]*n\n",
    "    right[n-1]=arr[n-1]\n",
    "    for i in range(n-2,-1,-1):\n",
    "        right[i]=max(right[i+1],arr[i])\n",
    "\n",
    "    for j in range(n):\n",
    "        if(left[j]<arr[j] and arr[j]<right[j]):\n",
    "            return [left[j],arr[j],right[j]]\n",
    "    return res"
   ]
  }
 ],
 "metadata": {
  "kernelspec": {
   "display_name": "Python 3 (ipykernel)",
   "language": "python",
   "name": "python3"
  },
  "language_info": {
   "codemirror_mode": {
    "name": "ipython",
    "version": 3
   },
   "file_extension": ".py",
   "mimetype": "text/x-python",
   "name": "python",
   "nbconvert_exporter": "python",
   "pygments_lexer": "ipython3",
   "version": "3.9.13"
  }
 },
 "nbformat": 4,
 "nbformat_minor": 5
}

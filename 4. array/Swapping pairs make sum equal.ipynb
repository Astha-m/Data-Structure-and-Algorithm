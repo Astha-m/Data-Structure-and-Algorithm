{
 "cells": [
  {
   "cell_type": "code",
   "execution_count": 1,
   "id": "27bf24ec",
   "metadata": {},
   "outputs": [
    {
     "data": {
      "text/plain": [
       "'\\nGiven two arrays of integers A[] and B[] of size N and M, the \\ntask is to check if a pair of values (one value from each array) \\nexists such that swapping the elements of the pair will make the \\nsum of two arrays equal.\\n\\n \\n\\nExample 1:\\n\\nInput: N = 6, M = 4\\nA[] = {4, 1, 2, 1, 1, 2}\\nB[] = (3, 6, 3, 3)\\nOutput: 1\\nExplanation: Sum of elements in A[] = 11\\nSum of elements in B[] = 15, To get same \\nsum from both arrays, we can swap following \\nvalues: 1 from A[] and 3 from B[]\\nExample 2:\\n\\nInput: N = 4, M = 4\\nA[] = {5, 7, 4, 6}\\nB[] = {1, 2, 3, 8}\\nOutput: 1\\nExplanation: We can swap 6 from array \\nA[] and 2 from array B[]\\n\\n'"
      ]
     },
     "execution_count": 1,
     "metadata": {},
     "output_type": "execute_result"
    }
   ],
   "source": [
    "'''\n",
    "Given two arrays of integers A[] and B[] of size N and M, the \n",
    "task is to check if a pair of values (one value from each array) \n",
    "exists such that swapping the elements of the pair will make the \n",
    "sum of two arrays equal.\n",
    "\n",
    " \n",
    "\n",
    "Example 1:\n",
    "\n",
    "Input: N = 6, M = 4\n",
    "A[] = {4, 1, 2, 1, 1, 2}\n",
    "B[] = (3, 6, 3, 3)\n",
    "Output: 1\n",
    "Explanation: Sum of elements in A[] = 11\n",
    "Sum of elements in B[] = 15, To get same \n",
    "sum from both arrays, we can swap following \n",
    "values: 1 from A[] and 3 from B[]\n",
    "Example 2:\n",
    "\n",
    "Input: N = 4, M = 4\n",
    "A[] = {5, 7, 4, 6}\n",
    "B[] = {1, 2, 3, 8}\n",
    "Output: 1\n",
    "Explanation: We can swap 6 from array \n",
    "A[] and 2 from array B[]\n",
    "\n",
    "'''"
   ]
  },
  {
   "cell_type": "code",
   "execution_count": null,
   "id": "e62d28ce",
   "metadata": {},
   "outputs": [],
   "source": [
    "def findSwapValues(self,a, n, b, m):\n",
    "        \n",
    "    suma=sum(a)\n",
    "    sumb=sum(b)\n",
    "\n",
    "    if(suma==sumb):\n",
    "        return 1\n",
    "    target=(suma+sumb)/2\n",
    "\n",
    "    if(target%1!=0):\n",
    "        return -1\n",
    "    extraA=suma-target\n",
    "    extraB=sumb-target\n",
    "\n",
    "    if(sumb>suma):\n",
    "        res={}\n",
    "        for i in a:\n",
    "            res[i]=1\n",
    "        for i in b:\n",
    "            if(i-extraB in res):\n",
    "                return 1\n",
    "        return -1\n",
    "    else:\n",
    "        res={}\n",
    "        for i in b:\n",
    "            res[i]=1\n",
    "        for i in a:\n",
    "            if(i-extraA in res):\n",
    "                return 1\n",
    "        return -1"
   ]
  }
 ],
 "metadata": {
  "kernelspec": {
   "display_name": "Python 3 (ipykernel)",
   "language": "python",
   "name": "python3"
  },
  "language_info": {
   "codemirror_mode": {
    "name": "ipython",
    "version": 3
   },
   "file_extension": ".py",
   "mimetype": "text/x-python",
   "name": "python",
   "nbconvert_exporter": "python",
   "pygments_lexer": "ipython3",
   "version": "3.9.8"
  }
 },
 "nbformat": 4,
 "nbformat_minor": 5
}

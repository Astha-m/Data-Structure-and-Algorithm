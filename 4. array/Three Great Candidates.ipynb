{
 "cells": [
  {
   "cell_type": "code",
   "execution_count": 1,
   "id": "88c8e0e2",
   "metadata": {},
   "outputs": [
    {
     "data": {
      "text/plain": [
       "\"\\nhttps://practice.geeksforgeeks.org/problems/three-great-candidates0515/1?page=5&company[]=Amazon&category[]=Arrays&sortBy=submissions\\n\\n\\nThe hiring team aims to find 3 candidates\\nwho are great collectively. Each \\ncandidate has his or her ability \\nexpressed as an integer. 3 candidates\\nare great collectively if product of\\ntheir abilities is maximum. Given \\nabilities of N candidates in an array \\narr[], find the maximum collective ability\\nfrom the given pool of candidates.\\n\\n\\nExample 1:\\n\\nInput:\\nN = 5\\nArr[] = {10, 3, 5, 6, 20}\\nOutput: 1200\\nExplanation:\\nMultiplication of 10, 6 and 20 is 1200.\\nExample 2:\\n\\nInput:\\nN = 5\\nArr[] = {-10, -3, -5, -6, -20}\\nOutput: -90\\nExplanation:\\nMultiplication of -3, -5 and -6 is -90.\\n\\nYour Task:\\nYou don't need to read input or print \\nanything. Your task is to complete the\\nfunction maxProduct() which takes the\\narray of integers arr[] and n as input\\nparameters and returns the maximum product.\\n\\n\\nExpected Time Complexity: O(N)\\nExpected Auxiliary Space: O(1)\\n\\n\\nConstraints:\\n3 ≤ N ≤ 107\\n-105 ≤ Arr[i] ≤ 105\\n\\n \\n\\n\\n\""
      ]
     },
     "execution_count": 1,
     "metadata": {},
     "output_type": "execute_result"
    }
   ],
   "source": [
    "'''\n",
    "https://practice.geeksforgeeks.org/problems/three-great-candidates0515/1?page=5&company[]=Amazon&category[]=Arrays&sortBy=submissions\n",
    "\n",
    "\n",
    "The hiring team aims to find 3 candidates\n",
    "who are great collectively. Each \n",
    "candidate has his or her ability \n",
    "expressed as an integer. 3 candidates\n",
    "are great collectively if product of\n",
    "their abilities is maximum. Given \n",
    "abilities of N candidates in an array \n",
    "arr[], find the maximum collective ability\n",
    "from the given pool of candidates.\n",
    "\n",
    "\n",
    "Example 1:\n",
    "\n",
    "Input:\n",
    "N = 5\n",
    "Arr[] = {10, 3, 5, 6, 20}\n",
    "Output: 1200\n",
    "Explanation:\n",
    "Multiplication of 10, 6 and 20 is 1200.\n",
    "Example 2:\n",
    "\n",
    "Input:\n",
    "N = 5\n",
    "Arr[] = {-10, -3, -5, -6, -20}\n",
    "Output: -90\n",
    "Explanation:\n",
    "Multiplication of -3, -5 and -6 is -90.\n",
    "\n",
    "Your Task:\n",
    "You don't need to read input or print \n",
    "anything. Your task is to complete the\n",
    "function maxProduct() which takes the\n",
    "array of integers arr[] and n as input\n",
    "parameters and returns the maximum product.\n",
    "\n",
    "\n",
    "Expected Time Complexity: O(N)\n",
    "Expected Auxiliary Space: O(1)\n",
    "\n",
    "\n",
    "Constraints:\n",
    "3 ≤ N ≤ 107\n",
    "-105 ≤ Arr[i] ≤ 105\n",
    "\n",
    " \n",
    "\n",
    "\n",
    "'''"
   ]
  },
  {
   "cell_type": "code",
   "execution_count": null,
   "id": "8b38d07f",
   "metadata": {},
   "outputs": [],
   "source": [
    "def maxProduct(self, arr, n):\n",
    "    # code here\n",
    "    firstmax=-float('inf')\n",
    "    secondmax=-float('inf')\n",
    "    thirdmax=-float('inf')\n",
    "\n",
    "    firstmin=float('inf')\n",
    "    secondmin=float('inf')\n",
    "\n",
    "\n",
    "    for i in arr:\n",
    "        if(i>firstmax):\n",
    "            thirdmax=secondmax\n",
    "            secondmax=firstmax\n",
    "            firstmax=i\n",
    "        elif(i>secondmax):\n",
    "            thirdmax=secondmax\n",
    "            secondmax=i\n",
    "        elif(i>thirdmax):\n",
    "            thirdmax=i\n",
    "\n",
    "\n",
    "        if(i<firstmin):\n",
    "            secondmin=firstmin\n",
    "            firstmin=i\n",
    "        elif(i<secondmin):\n",
    "            secondmin=i\n",
    "    return max(firstmax*firstmin*secondmin,firstmax*secondmax*thirdmax)\n"
   ]
  }
 ],
 "metadata": {
  "kernelspec": {
   "display_name": "Python 3 (ipykernel)",
   "language": "python",
   "name": "python3"
  },
  "language_info": {
   "codemirror_mode": {
    "name": "ipython",
    "version": 3
   },
   "file_extension": ".py",
   "mimetype": "text/x-python",
   "name": "python",
   "nbconvert_exporter": "python",
   "pygments_lexer": "ipython3",
   "version": "3.9.13"
  }
 },
 "nbformat": 4,
 "nbformat_minor": 5
}

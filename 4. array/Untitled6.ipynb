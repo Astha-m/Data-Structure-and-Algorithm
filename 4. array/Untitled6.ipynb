{
 "cells": [
  {
   "cell_type": "code",
   "execution_count": 1,
   "id": "0865f2a2",
   "metadata": {},
   "outputs": [
    {
     "data": {
      "text/plain": [
       "'\\nLength of longest palindrome using O(1) extra space\\n'"
      ]
     },
     "execution_count": 1,
     "metadata": {},
     "output_type": "execute_result"
    }
   ],
   "source": [
    "'''\n",
    "Length of longest palindrome using O(1) extra space\n",
    "\n",
    "Input  : List = 2,3,7,3,2,12,24\n",
    "Output : 5\n",
    "The longest palindrome list is 2,3,7,3,2\n",
    "\n",
    "\n",
    "'''"
   ]
  },
  {
   "cell_type": "code",
   "execution_count": 2,
   "id": "96af0e17",
   "metadata": {},
   "outputs": [
    {
     "data": {
      "text/plain": [
       "5"
      ]
     },
     "execution_count": 2,
     "metadata": {},
     "output_type": "execute_result"
    }
   ],
   "source": [
    "\n",
    "def counter(arr,first,second,n):\n",
    "    count=0\n",
    "    \n",
    "    while(first>=0 and second<=n-1):\n",
    "        if(arr[first]==arr[second]):\n",
    "            count+=1\n",
    "        else:\n",
    "            break\n",
    "        first-=1\n",
    "        second+=1\n",
    "    return count\n",
    "\n",
    "\n",
    "def maxPalindrome(arr):\n",
    "    n=len(arr)\n",
    "    res=0\n",
    "    for i in range(n):\n",
    "        res=max(res,2*counter(arr,i-1,i+1,n)+1)# odd\n",
    "        \n",
    "        res=max(res,2*counter(arr,i,i+1,n))# even\n",
    "        \n",
    "    return res\n",
    "\n",
    "maxPalindrome([2,3,7,3,2,12,24])"
   ]
  },
  {
   "cell_type": "code",
   "execution_count": null,
   "id": "36089cc7",
   "metadata": {},
   "outputs": [],
   "source": []
  }
 ],
 "metadata": {
  "kernelspec": {
   "display_name": "Python 3 (ipykernel)",
   "language": "python",
   "name": "python3"
  },
  "language_info": {
   "codemirror_mode": {
    "name": "ipython",
    "version": 3
   },
   "file_extension": ".py",
   "mimetype": "text/x-python",
   "name": "python",
   "nbconvert_exporter": "python",
   "pygments_lexer": "ipython3",
   "version": "3.9.8"
  }
 },
 "nbformat": 4,
 "nbformat_minor": 5
}

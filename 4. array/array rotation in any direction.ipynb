{
 "cells": [
  {
   "cell_type": "code",
   "execution_count": 2,
   "id": "db6942a2",
   "metadata": {},
   "outputs": [
    {
     "name": "stdout",
     "output_type": "stream",
     "text": [
      "[4, 5, 6, 7, 8, 9, 1, 2, 3]\n"
     ]
    }
   ],
   "source": [
    "# left rotate\n",
    "\n",
    "arr=[1,2,3,4,5,6,7,8,9]\n",
    "d=3\n",
    "n=len(arr)\n",
    "start=d%n\n",
    "lstmain=[]\n",
    "for i in range(start,start+n):\n",
    "    lstmain.append(arr[i%n])\n",
    "print(lstmain)"
   ]
  },
  {
   "cell_type": "code",
   "execution_count": 3,
   "id": "e831e43e",
   "metadata": {},
   "outputs": [
    {
     "name": "stdout",
     "output_type": "stream",
     "text": [
      "[7, 8, 9, 1, 2, 3, 4, 5, 6]\n"
     ]
    }
   ],
   "source": [
    "# right rotate\n",
    "\n",
    "arr=[1,2,3,4,5,6,7,8,9]\n",
    "d=-3\n",
    "n=len(arr)\n",
    "start=d%n\n",
    "lstmain=[]\n",
    "for i in range(start,start+n):\n",
    "    lstmain.append(arr[i%n])\n",
    "print(lstmain)"
   ]
  },
  {
   "cell_type": "code",
   "execution_count": null,
   "id": "8c31eabc",
   "metadata": {},
   "outputs": [],
   "source": []
  }
 ],
 "metadata": {
  "kernelspec": {
   "display_name": "Python 3 (ipykernel)",
   "language": "python",
   "name": "python3"
  },
  "language_info": {
   "codemirror_mode": {
    "name": "ipython",
    "version": 3
   },
   "file_extension": ".py",
   "mimetype": "text/x-python",
   "name": "python",
   "nbconvert_exporter": "python",
   "pygments_lexer": "ipython3",
   "version": "3.9.8"
  }
 },
 "nbformat": 4,
 "nbformat_minor": 5
}

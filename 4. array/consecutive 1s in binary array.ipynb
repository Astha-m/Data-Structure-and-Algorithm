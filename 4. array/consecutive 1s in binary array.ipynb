{
 "cells": [
  {
   "cell_type": "code",
   "execution_count": 1,
   "id": "706efa5b",
   "metadata": {},
   "outputs": [
    {
     "name": "stdout",
     "output_type": "stream",
     "text": [
      "4\n"
     ]
    }
   ],
   "source": [
    "arr=[1,0,1,1,1,1,0,1,1]\n",
    "\n",
    "maxi=0\n",
    "start=-1\n",
    "end=-1\n",
    "for i in range(len(arr)):\n",
    "    if(arr[i]==1):\n",
    "        if(start==-1):\n",
    "            start=i\n",
    "        else:\n",
    "            end=i\n",
    "    else:\n",
    "        maxi=max(maxi,end-start+1)\n",
    "        start=-1\n",
    "        end=-1\n",
    "maxi=max(maxi,end-start+1)\n",
    "print(maxi)"
   ]
  },
  {
   "cell_type": "code",
   "execution_count": null,
   "id": "3e43efdc",
   "metadata": {},
   "outputs": [],
   "source": []
  }
 ],
 "metadata": {
  "kernelspec": {
   "display_name": "Python 3 (ipykernel)",
   "language": "python",
   "name": "python3"
  },
  "language_info": {
   "codemirror_mode": {
    "name": "ipython",
    "version": 3
   },
   "file_extension": ".py",
   "mimetype": "text/x-python",
   "name": "python",
   "nbconvert_exporter": "python",
   "pygments_lexer": "ipython3",
   "version": "3.9.8"
  }
 },
 "nbformat": 4,
 "nbformat_minor": 5
}

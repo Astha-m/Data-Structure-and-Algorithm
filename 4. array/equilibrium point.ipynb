{
 "cells": [
  {
   "cell_type": "code",
   "execution_count": 1,
   "id": "acea802a",
   "metadata": {},
   "outputs": [
    {
     "name": "stdout",
     "output_type": "stream",
     "text": [
      "True\n",
      "False\n"
     ]
    }
   ],
   "source": [
    "arr=[3,4,8,-9,20,6]\n",
    "s=0\n",
    "for i in range(len(arr)):\n",
    "    s+=arr[i]\n",
    "\n",
    "lsum=0\n",
    "for i in range(len(arr)):\n",
    "    s=s-arr[i]\n",
    "    if(lsum==s):\n",
    "        print('True')\n",
    "        break\n",
    "    lsum+=arr[i]\n",
    "print('False')"
   ]
  },
  {
   "cell_type": "code",
   "execution_count": null,
   "id": "9c62494a",
   "metadata": {},
   "outputs": [],
   "source": []
  }
 ],
 "metadata": {
  "kernelspec": {
   "display_name": "Python 3 (ipykernel)",
   "language": "python",
   "name": "python3"
  },
  "language_info": {
   "codemirror_mode": {
    "name": "ipython",
    "version": 3
   },
   "file_extension": ".py",
   "mimetype": "text/x-python",
   "name": "python",
   "nbconvert_exporter": "python",
   "pygments_lexer": "ipython3",
   "version": "3.9.8"
  }
 },
 "nbformat": 4,
 "nbformat_minor": 5
}

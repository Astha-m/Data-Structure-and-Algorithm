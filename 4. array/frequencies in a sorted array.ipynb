{
 "cells": [
  {
   "cell_type": "code",
   "execution_count": 1,
   "id": "19e4f670",
   "metadata": {},
   "outputs": [
    {
     "name": "stdout",
     "output_type": "stream",
     "text": [
      "10 3\n",
      "25 1\n",
      "30 2\n"
     ]
    }
   ],
   "source": [
    "arr=[10,10,10,25,30,30]\n",
    "prev=arr[0]\n",
    "count=1\n",
    "for i in range(1,len(arr)):\n",
    "    if(arr[i]==prev):\n",
    "        count+=1\n",
    "    else:\n",
    "        print(prev,count)\n",
    "        prev=arr[i]\n",
    "        count=1\n",
    "print(prev,count)"
   ]
  },
  {
   "cell_type": "code",
   "execution_count": null,
   "id": "4eb14c6d",
   "metadata": {},
   "outputs": [],
   "source": []
  }
 ],
 "metadata": {
  "kernelspec": {
   "display_name": "Python 3 (ipykernel)",
   "language": "python",
   "name": "python3"
  },
  "language_info": {
   "codemirror_mode": {
    "name": "ipython",
    "version": 3
   },
   "file_extension": ".py",
   "mimetype": "text/x-python",
   "name": "python",
   "nbconvert_exporter": "python",
   "pygments_lexer": "ipython3",
   "version": "3.9.8"
  }
 },
 "nbformat": 4,
 "nbformat_minor": 5
}

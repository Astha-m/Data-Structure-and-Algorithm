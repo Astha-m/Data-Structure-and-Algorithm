{
 "cells": [
  {
   "cell_type": "code",
   "execution_count": 1,
   "id": "5bf0c802",
   "metadata": {},
   "outputs": [
    {
     "data": {
      "text/plain": [
       "'\\nGiven an array of integers. Find the Inversion Count in the array. \\n\\nInversion Count: For an array, inversion count indicates how far (or close) the array is from being sorted. If array is already sorted then the inversion count is 0. If an array is sorted in the reverse order then the inversion count is the maximum. \\nFormally, two elements a[i] and a[j] form an inversion if a[i] > a[j] and i < j.\\n \\nInput: N = 5, arr[] = {2, 4, 1, 3, 5}\\nOutput: 3\\n\\n'"
      ]
     },
     "execution_count": 1,
     "metadata": {},
     "output_type": "execute_result"
    }
   ],
   "source": [
    "'''\n",
    "Given an array of integers. Find the Inversion Count in the array. \n",
    "\n",
    "Inversion Count: For an array, inversion count indicates how far (or close) the array is from being sorted. If array is already sorted then the inversion count is 0. If an array is sorted in the reverse order then the inversion count is the maximum. \n",
    "Formally, two elements a[i] and a[j] form an inversion if a[i] > a[j] and i < j.\n",
    " \n",
    "Input: N = 5, arr[] = {2, 4, 1, 3, 5}\n",
    "Output: 3\n",
    "\n",
    "'''"
   ]
  },
  {
   "cell_type": "code",
   "execution_count": 6,
   "id": "e61728a5",
   "metadata": {},
   "outputs": [],
   "source": [
    "import heapq\n",
    "import bisect\n",
    "\n",
    "def inversion_count(arr):\n",
    "    if(len(arr)<=1):\n",
    "        return 0\n",
    "    \n",
    "    heap=[]\n",
    "    for i in range(len(arr)):\n",
    "        heapq.heappush(heap,(arr[i],i))\n",
    "       \n",
    "    res=0\n",
    "    sortedarr=[]\n",
    "    while(heap):\n",
    "        v,i=heapq.heappop(heap)\n",
    "        \n",
    "        ind=bisect.bisect_left(sortedarr,i)\n",
    "        \n",
    "        res+=(i-ind)\n",
    "        \n",
    "        bisect.insort(sortedarr,i)\n",
    "    return res"
   ]
  },
  {
   "cell_type": "code",
   "execution_count": 7,
   "id": "c2c88d96",
   "metadata": {},
   "outputs": [
    {
     "data": {
      "text/plain": [
       "3"
      ]
     },
     "execution_count": 7,
     "metadata": {},
     "output_type": "execute_result"
    }
   ],
   "source": [
    "inversion_count([2, 4, 1, 3, 5])"
   ]
  },
  {
   "cell_type": "code",
   "execution_count": null,
   "id": "ac723af3",
   "metadata": {},
   "outputs": [],
   "source": []
  }
 ],
 "metadata": {
  "kernelspec": {
   "display_name": "Python 3 (ipykernel)",
   "language": "python",
   "name": "python3"
  },
  "language_info": {
   "codemirror_mode": {
    "name": "ipython",
    "version": 3
   },
   "file_extension": ".py",
   "mimetype": "text/x-python",
   "name": "python",
   "nbconvert_exporter": "python",
   "pygments_lexer": "ipython3",
   "version": "3.9.8"
  }
 },
 "nbformat": 4,
 "nbformat_minor": 5
}

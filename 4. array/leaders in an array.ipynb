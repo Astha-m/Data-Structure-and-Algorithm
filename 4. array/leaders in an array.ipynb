{
 "cells": [
  {
   "cell_type": "code",
   "execution_count": 1,
   "id": "96fbc0a3",
   "metadata": {},
   "outputs": [
    {
     "name": "stdout",
     "output_type": "stream",
     "text": [
      "2\n",
      "5\n",
      "6\n",
      "10\n"
     ]
    }
   ],
   "source": [
    "arr=[7,10,4,3,6,5,2]\n",
    "\n",
    "prev=arr[-1]\n",
    "print(prev)\n",
    "n=len(arr)\n",
    "for i in range(n-2,-1,-1):\n",
    "    if(arr[i]>prev):\n",
    "        print(arr[i])\n",
    "        prev=arr[i]\n"
   ]
  },
  {
   "cell_type": "code",
   "execution_count": null,
   "id": "ff492020",
   "metadata": {},
   "outputs": [],
   "source": []
  }
 ],
 "metadata": {
  "kernelspec": {
   "display_name": "Python 3 (ipykernel)",
   "language": "python",
   "name": "python3"
  },
  "language_info": {
   "codemirror_mode": {
    "name": "ipython",
    "version": 3
   },
   "file_extension": ".py",
   "mimetype": "text/x-python",
   "name": "python",
   "nbconvert_exporter": "python",
   "pygments_lexer": "ipython3",
   "version": "3.9.8"
  }
 },
 "nbformat": 4,
 "nbformat_minor": 5
}

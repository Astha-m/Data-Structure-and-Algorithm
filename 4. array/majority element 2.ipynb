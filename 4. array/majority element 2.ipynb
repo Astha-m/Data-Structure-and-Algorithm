{
 "cells": [
  {
   "cell_type": "code",
   "execution_count": 3,
   "id": "127401bb",
   "metadata": {},
   "outputs": [
    {
     "data": {
      "text/plain": [
       "'\\nGiven an integer array of size n, find all elements that appear more than ⌊ n/3 ⌋ times.\\n\\nInput: nums = [3,2,3]\\nOutput: [3]\\n\\nInput: nums = [1,2]\\nOutput: [1,2]\\n'"
      ]
     },
     "execution_count": 3,
     "metadata": {},
     "output_type": "execute_result"
    }
   ],
   "source": [
    "'''\n",
    "Given an integer array of size n, find all elements that appear more than ⌊ n/3 ⌋ times.\n",
    "\n",
    "Input: nums = [3,2,3]\n",
    "Output: [3]\n",
    "\n",
    "Input: nums = [1,2]\n",
    "Output: [1,2]\n",
    "'''"
   ]
  },
  {
   "cell_type": "code",
   "execution_count": 6,
   "id": "a0485f6d",
   "metadata": {},
   "outputs": [
    {
     "name": "stdout",
     "output_type": "stream",
     "text": [
      "[1, 2] 1 2\n"
     ]
    }
   ],
   "source": [
    "nums=[1,2]\n",
    "nums1=-1\n",
    "nums2=-1\n",
    "c1=0\n",
    "c2=0\n",
    "for i in nums:\n",
    "    if(i==nums1):\n",
    "        c1+=1\n",
    "    elif(i==nums2):\n",
    "        c2+=1\n",
    "    elif(c1==0):\n",
    "        nums1=i\n",
    "        c1=1\n",
    "    elif(c2==0):\n",
    "        nums2=i\n",
    "        c2=1\n",
    "    else:\n",
    "        c1-=1\n",
    "        c2-=1\n",
    "\n",
    "lst=[]\n",
    "c1=0\n",
    "c2=0\n",
    "for i in nums:\n",
    "    if(i==nums1):\n",
    "        c1+=1\n",
    "    if(i==nums2):\n",
    "        c2+=1\n",
    "\n",
    "\n",
    "if(c1>len(nums)//3):\n",
    "    lst.append(nums1)\n",
    "if(c2>len(nums)//3):\n",
    "    lst.append(nums2)\n",
    "print(lst,nums1,nums2)"
   ]
  },
  {
   "cell_type": "code",
   "execution_count": null,
   "id": "1d2db9b3",
   "metadata": {},
   "outputs": [],
   "source": []
  }
 ],
 "metadata": {
  "kernelspec": {
   "display_name": "Python 3 (ipykernel)",
   "language": "python",
   "name": "python3"
  },
  "language_info": {
   "codemirror_mode": {
    "name": "ipython",
    "version": 3
   },
   "file_extension": ".py",
   "mimetype": "text/x-python",
   "name": "python",
   "nbconvert_exporter": "python",
   "pygments_lexer": "ipython3",
   "version": "3.9.8"
  }
 },
 "nbformat": 4,
 "nbformat_minor": 5
}

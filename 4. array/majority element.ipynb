{
 "cells": [
  {
   "cell_type": "code",
   "execution_count": 1,
   "id": "9c5a17ef",
   "metadata": {},
   "outputs": [
    {
     "name": "stdout",
     "output_type": "stream",
     "text": [
      "7\n",
      "True\n"
     ]
    }
   ],
   "source": [
    "arr=[3,7,4,7,7,5]\n",
    "\n",
    "res=arr[0]\n",
    "count=1\n",
    "for i in range(1,len(arr)):\n",
    "    if(arr[i]==res):\n",
    "        count+=1\n",
    "    else:\n",
    "        count-=1\n",
    "    if(count==0):\n",
    "        res=arr[i]\n",
    "        count=1\n",
    "print(res)\n",
    "count=0\n",
    "for i in range(len(arr)):\n",
    "    if(arr[i]==res):\n",
    "        count+=1\n",
    "print(count>=len(arr)//2)"
   ]
  },
  {
   "cell_type": "code",
   "execution_count": null,
   "id": "49fd2d91",
   "metadata": {},
   "outputs": [],
   "source": []
  }
 ],
 "metadata": {
  "kernelspec": {
   "display_name": "Python 3 (ipykernel)",
   "language": "python",
   "name": "python3"
  },
  "language_info": {
   "codemirror_mode": {
    "name": "ipython",
    "version": 3
   },
   "file_extension": ".py",
   "mimetype": "text/x-python",
   "name": "python",
   "nbconvert_exporter": "python",
   "pygments_lexer": "ipython3",
   "version": "3.9.8"
  }
 },
 "nbformat": 4,
 "nbformat_minor": 5
}

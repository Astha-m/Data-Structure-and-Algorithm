{
 "cells": [
  {
   "cell_type": "code",
   "execution_count": 5,
   "id": "3da10720",
   "metadata": {},
   "outputs": [
    {
     "name": "stdout",
     "output_type": "stream",
     "text": [
      "[0, 0, 0, 0, 0, 0, 0, 0, 0]\n",
      "[0, 1, 1, 1, -1, 0, -1, 0, -1]\n",
      "[0, 1, 2, 3, 2, 2, 1, 1, 0]\n",
      "3\n"
     ]
    }
   ],
   "source": [
    "start=[1,2,3]\n",
    "end=[3,5,7]\n",
    "\n",
    "arr=[0]*(max(end)+2)\n",
    "print(arr)\n",
    "\n",
    "for i in range(len(start)):\n",
    "    arr[start[i]]=1\n",
    "    arr[end[i]+1]=-1\n",
    "print(arr)\n",
    "prefix=arr[0]\n",
    "for i in range(1,len(arr)):\n",
    "    prefix+=arr[i]\n",
    "    arr[i]=prefix\n",
    "print(arr)\n",
    "ind=0\n",
    "maxi=arr[0]\n",
    "for i in range(len(arr)):\n",
    "    if(arr[i]>maxi):\n",
    "        maxi=arr[i]\n",
    "        ind=i\n",
    "print(ind)"
   ]
  },
  {
   "cell_type": "code",
   "execution_count": null,
   "id": "cc27bd29",
   "metadata": {},
   "outputs": [],
   "source": []
  }
 ],
 "metadata": {
  "kernelspec": {
   "display_name": "Python 3 (ipykernel)",
   "language": "python",
   "name": "python3"
  },
  "language_info": {
   "codemirror_mode": {
    "name": "ipython",
    "version": 3
   },
   "file_extension": ".py",
   "mimetype": "text/x-python",
   "name": "python",
   "nbconvert_exporter": "python",
   "pygments_lexer": "ipython3",
   "version": "3.9.8"
  }
 },
 "nbformat": 4,
 "nbformat_minor": 5
}

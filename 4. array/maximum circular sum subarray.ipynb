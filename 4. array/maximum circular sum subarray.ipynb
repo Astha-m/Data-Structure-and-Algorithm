{
 "cells": [
  {
   "cell_type": "code",
   "execution_count": 1,
   "id": "b7b5907c",
   "metadata": {},
   "outputs": [],
   "source": [
    "def kadane(arr):\n",
    "    maxending=arr[0]\n",
    "    maxi=arr[0]\n",
    "    for i in range(1,len(arr)):\n",
    "        maxending=max(maxending+arr[i],arr[i])\n",
    "        maxi=max(maxi,maxending)\n",
    "    return maxi"
   ]
  },
  {
   "cell_type": "code",
   "execution_count": 2,
   "id": "7f4f809c",
   "metadata": {},
   "outputs": [
    {
     "data": {
      "text/plain": [
       "8"
      ]
     },
     "execution_count": 2,
     "metadata": {},
     "output_type": "execute_result"
    }
   ],
   "source": [
    "kadane([8,-4,3,-5,4])"
   ]
  },
  {
   "cell_type": "code",
   "execution_count": 3,
   "id": "77fd6135",
   "metadata": {},
   "outputs": [
    {
     "name": "stdout",
     "output_type": "stream",
     "text": [
      "12\n"
     ]
    }
   ],
   "source": [
    "arr=[8,-4,3,-5,4]\n",
    "normal_maximum_sum_subarray=kadane(arr)\n",
    "if(normal_maximum_sum_subarray<0):\n",
    "    print(normal_maximum_sum_subarray)\n",
    "else:\n",
    "    s=0\n",
    "    for i in range(len(arr)):\n",
    "        s+=arr[i]\n",
    "        arr[i]=-arr[i]\n",
    "    circular_sum_subarray=s+kadane(arr)\n",
    "    print(max(normal_maximum_sum_subarray,circular_sum_subarray))"
   ]
  },
  {
   "cell_type": "code",
   "execution_count": null,
   "id": "468e28d9",
   "metadata": {},
   "outputs": [],
   "source": []
  }
 ],
 "metadata": {
  "kernelspec": {
   "display_name": "Python 3 (ipykernel)",
   "language": "python",
   "name": "python3"
  },
  "language_info": {
   "codemirror_mode": {
    "name": "ipython",
    "version": 3
   },
   "file_extension": ".py",
   "mimetype": "text/x-python",
   "name": "python",
   "nbconvert_exporter": "python",
   "pygments_lexer": "ipython3",
   "version": "3.9.8"
  }
 },
 "nbformat": 4,
 "nbformat_minor": 5
}

{
 "cells": [
  {
   "cell_type": "code",
   "execution_count": 1,
   "id": "90c0e4d7",
   "metadata": {},
   "outputs": [
    {
     "name": "stdout",
     "output_type": "stream",
     "text": [
      "3\n"
     ]
    }
   ],
   "source": [
    "arr=[10,12,14,7,8]\n",
    "\n",
    "prev=arr[0]\n",
    "count=1\n",
    "maxi=0\n",
    "for i in range(1,len(arr)):\n",
    "    if(arr[i]%2==0 and arr[i-1]%2!=0) or (arr[i]%2!=0 and arr[i-1]%2==0):\n",
    "        count+=1\n",
    "    else:\n",
    "        count=1\n",
    "    maxi=max(maxi,count)\n",
    "    prev=arr[i]\n",
    "print(maxi)"
   ]
  },
  {
   "cell_type": "code",
   "execution_count": null,
   "id": "23f59f41",
   "metadata": {},
   "outputs": [],
   "source": []
  }
 ],
 "metadata": {
  "kernelspec": {
   "display_name": "Python 3 (ipykernel)",
   "language": "python",
   "name": "python3"
  },
  "language_info": {
   "codemirror_mode": {
    "name": "ipython",
    "version": 3
   },
   "file_extension": ".py",
   "mimetype": "text/x-python",
   "name": "python",
   "nbconvert_exporter": "python",
   "pygments_lexer": "ipython3",
   "version": "3.9.8"
  }
 },
 "nbformat": 4,
 "nbformat_minor": 5
}

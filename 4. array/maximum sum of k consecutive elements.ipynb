{
 "cells": [
  {
   "cell_type": "code",
   "execution_count": 3,
   "id": "ee7a513f",
   "metadata": {},
   "outputs": [
    {
     "name": "stdout",
     "output_type": "stream",
     "text": [
      "33\n",
      "45\n",
      "22\n",
      "45\n"
     ]
    }
   ],
   "source": [
    "arr=[1,8,30,-5,20,7]\n",
    "\n",
    "k=3\n",
    "total=0\n",
    "maxi=0\n",
    "for i in range(k):\n",
    "    total+=arr[i]\n",
    "maxi=max(maxi,total)\n",
    "for i in range(k,len(arr)):\n",
    "    total+=arr[i]\n",
    "    total-=arr[i-k]\n",
    "    print(total)\n",
    "    maxi=max(maxi,total)\n",
    "print(maxi)"
   ]
  },
  {
   "cell_type": "code",
   "execution_count": null,
   "id": "5ce9f74c",
   "metadata": {},
   "outputs": [],
   "source": []
  }
 ],
 "metadata": {
  "kernelspec": {
   "display_name": "Python 3 (ipykernel)",
   "language": "python",
   "name": "python3"
  },
  "language_info": {
   "codemirror_mode": {
    "name": "ipython",
    "version": 3
   },
   "file_extension": ".py",
   "mimetype": "text/x-python",
   "name": "python",
   "nbconvert_exporter": "python",
   "pygments_lexer": "ipython3",
   "version": "3.9.8"
  }
 },
 "nbformat": 4,
 "nbformat_minor": 5
}

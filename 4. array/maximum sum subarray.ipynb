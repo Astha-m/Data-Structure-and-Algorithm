{
 "cells": [
  {
   "cell_type": "code",
   "execution_count": 1,
   "id": "c1df6012",
   "metadata": {},
   "outputs": [
    {
     "name": "stdout",
     "output_type": "stream",
     "text": [
      "11\n"
     ]
    }
   ],
   "source": [
    "arr=[2,3,-8,7,-1,2,3]\n",
    "\n",
    "maxending=arr[0]\n",
    "res=arr[0]\n",
    "for i in range(1,len(arr)):\n",
    "    maxending=max(maxending+arr[i],arr[i])\n",
    "    res=max(res,maxending)\n",
    "print(res)"
   ]
  },
  {
   "cell_type": "code",
   "execution_count": null,
   "id": "3c6e896f",
   "metadata": {},
   "outputs": [],
   "source": []
  }
 ],
 "metadata": {
  "kernelspec": {
   "display_name": "Python 3 (ipykernel)",
   "language": "python",
   "name": "python3"
  },
  "language_info": {
   "codemirror_mode": {
    "name": "ipython",
    "version": 3
   },
   "file_extension": ".py",
   "mimetype": "text/x-python",
   "name": "python",
   "nbconvert_exporter": "python",
   "pygments_lexer": "ipython3",
   "version": "3.9.8"
  }
 },
 "nbformat": 4,
 "nbformat_minor": 5
}

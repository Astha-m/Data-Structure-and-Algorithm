{
 "cells": [
  {
   "cell_type": "code",
   "execution_count": 1,
   "id": "c8614e09",
   "metadata": {},
   "outputs": [
    {
     "data": {
      "text/plain": [
       "'\\nGiven an array of intervals where intervals[i] = [starti, endi], merge all overlapping intervals, \\nand return an array of the non-overlapping intervals that cover all the intervals in the input.\\n'"
      ]
     },
     "execution_count": 1,
     "metadata": {},
     "output_type": "execute_result"
    }
   ],
   "source": [
    "'''\n",
    "Given an array of intervals where intervals[i] = [starti, endi], merge all overlapping intervals, \n",
    "and return an array of the non-overlapping intervals that cover all the intervals in the input.\n",
    "'''"
   ]
  },
  {
   "cell_type": "code",
   "execution_count": 4,
   "id": "5c567bb0",
   "metadata": {},
   "outputs": [],
   "source": [
    "\n",
    "def merge_intervals(intervals):\n",
    "    intervals.sort(key=lambda x:x[0])\n",
    "    \n",
    "    lstmain=[]\n",
    "    lstmain.append(intervals[0])\n",
    "    \n",
    "    for i in range(1,len(intervals)):\n",
    "        prev=lstmain.pop()\n",
    "        maxstart=max(intervals[i][0],prev[0])\n",
    "        maxend=max(intervals[i][1],prev[1])\n",
    "        \n",
    "        minstart=min(intervals[i][0],prev[0])\n",
    "        minend=min(intervals[i][1],prev[1])\n",
    "        \n",
    "        if(maxstart>minend):\n",
    "            lstmain.append(prev)\n",
    "            lstmain.append(intervals[i])\n",
    "        else:\n",
    "            lstmain.append([minstart,maxend])\n",
    "    return lstmain"
   ]
  },
  {
   "cell_type": "code",
   "execution_count": 5,
   "id": "984b8dab",
   "metadata": {},
   "outputs": [
    {
     "data": {
      "text/plain": [
       "[[1, 6], [8, 10], [15, 18]]"
      ]
     },
     "execution_count": 5,
     "metadata": {},
     "output_type": "execute_result"
    }
   ],
   "source": [
    "merge_intervals( [[1,3],[2,6],[8,10],[15,18]])"
   ]
  },
  {
   "cell_type": "code",
   "execution_count": null,
   "id": "ace5627a",
   "metadata": {},
   "outputs": [],
   "source": []
  }
 ],
 "metadata": {
  "kernelspec": {
   "display_name": "Python 3 (ipykernel)",
   "language": "python",
   "name": "python3"
  },
  "language_info": {
   "codemirror_mode": {
    "name": "ipython",
    "version": 3
   },
   "file_extension": ".py",
   "mimetype": "text/x-python",
   "name": "python",
   "nbconvert_exporter": "python",
   "pygments_lexer": "ipython3",
   "version": "3.9.8"
  }
 },
 "nbformat": 4,
 "nbformat_minor": 5
}

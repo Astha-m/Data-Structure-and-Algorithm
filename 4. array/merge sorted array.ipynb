{
 "cells": [
  {
   "cell_type": "code",
   "execution_count": 1,
   "id": "b241c282",
   "metadata": {},
   "outputs": [
    {
     "data": {
      "text/plain": [
       "'\\nYou are given two integer arrays nums1 and nums2, sorted in non-decreasing order, and two integers m and n, \\nrepresenting the number of elements in nums1 and nums2 respectively.\\n\\nMerge nums1 and nums2 into a single array sorted in non-decreasing order.\\n\\nThe final sorted array should not be returned by the function, but instead be stored inside the array nums1. \\nTo accommodate this, nums1 has a length of m + n, where the first m elements denote the elements that should be \\nmerged, and the last n elements are set to 0 and should be ignored. nums2 has a length of n.\\n\\n'"
      ]
     },
     "execution_count": 1,
     "metadata": {},
     "output_type": "execute_result"
    }
   ],
   "source": [
    "'''\n",
    "You are given two integer arrays nums1 and nums2, sorted in non-decreasing order, and two integers m and n, \n",
    "representing the number of elements in nums1 and nums2 respectively.\n",
    "\n",
    "Merge nums1 and nums2 into a single array sorted in non-decreasing order.\n",
    "\n",
    "The final sorted array should not be returned by the function, but instead be stored inside the array nums1. \n",
    "To accommodate this, nums1 has a length of m + n, where the first m elements denote the elements that should be \n",
    "merged, and the last n elements are set to 0 and should be ignored. nums2 has a length of n.\n",
    "\n",
    "Input: nums1 = [1,2,3,0,0,0], m = 3, nums2 = [2,5,6], n = 3\n",
    "Output: [1,2,2,3,5,6]\n",
    "\n",
    "'''"
   ]
  },
  {
   "cell_type": "code",
   "execution_count": 6,
   "id": "d8564ae2",
   "metadata": {},
   "outputs": [],
   "source": [
    "def merger(nums1,nums2,m,n):\n",
    "    for i in range(len(nums1)-m):\n",
    "        nums1.pop()\n",
    "        \n",
    "    from bisect import insort\n",
    "    for i in nums2:\n",
    "        insort(nums1,i)\n",
    "    return nums1"
   ]
  },
  {
   "cell_type": "code",
   "execution_count": 7,
   "id": "ab24eb5c",
   "metadata": {},
   "outputs": [
    {
     "data": {
      "text/plain": [
       "[1, 2, 3, 4, 5, 6]"
      ]
     },
     "execution_count": 7,
     "metadata": {},
     "output_type": "execute_result"
    }
   ],
   "source": [
    "merger([1,2,3,0,0,0],[4,5,6],3,3)"
   ]
  },
  {
   "cell_type": "code",
   "execution_count": null,
   "id": "b99669d6",
   "metadata": {},
   "outputs": [],
   "source": []
  }
 ],
 "metadata": {
  "kernelspec": {
   "display_name": "Python 3 (ipykernel)",
   "language": "python",
   "name": "python3"
  },
  "language_info": {
   "codemirror_mode": {
    "name": "ipython",
    "version": 3
   },
   "file_extension": ".py",
   "mimetype": "text/x-python",
   "name": "python",
   "nbconvert_exporter": "python",
   "pygments_lexer": "ipython3",
   "version": "3.9.8"
  }
 },
 "nbformat": 4,
 "nbformat_minor": 5
}

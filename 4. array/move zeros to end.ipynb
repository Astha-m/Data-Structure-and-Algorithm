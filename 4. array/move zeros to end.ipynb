{
 "cells": [
  {
   "cell_type": "code",
   "execution_count": 1,
   "id": "23c96303",
   "metadata": {},
   "outputs": [
    {
     "name": "stdout",
     "output_type": "stream",
     "text": [
      "[2, 5, 6, 8, 6, 7, 0, 0, 0, 0, 0]\n"
     ]
    }
   ],
   "source": [
    "arr=[2,0,5,0,6,8,0,6,0,7,0]\n",
    "\n",
    "ptr=0\n",
    "i=0\n",
    "while(i<len(arr)):\n",
    "    if(arr[i]!=0):\n",
    "        arr[ptr],arr[i]=arr[i],arr[ptr]\n",
    "        ptr+=1\n",
    "    i+=1\n",
    "print(arr)"
   ]
  },
  {
   "cell_type": "code",
   "execution_count": null,
   "id": "37b83256",
   "metadata": {},
   "outputs": [],
   "source": []
  }
 ],
 "metadata": {
  "kernelspec": {
   "display_name": "Python 3 (ipykernel)",
   "language": "python",
   "name": "python3"
  },
  "language_info": {
   "codemirror_mode": {
    "name": "ipython",
    "version": 3
   },
   "file_extension": ".py",
   "mimetype": "text/x-python",
   "name": "python",
   "nbconvert_exporter": "python",
   "pygments_lexer": "ipython3",
   "version": "3.9.8"
  }
 },
 "nbformat": 4,
 "nbformat_minor": 5
}

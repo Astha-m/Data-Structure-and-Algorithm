{
 "cells": [
  {
   "cell_type": "code",
   "execution_count": 8,
   "id": "5d17c9dd",
   "metadata": {},
   "outputs": [],
   "source": [
    "def reverse(arr,start,end):\n",
    "    while(start<end):\n",
    "        arr[start],arr[end]=arr[end],arr[start]\n",
    "        start+=1\n",
    "        end-=1"
    "    \n",
    "\n",
    "def next_permutation(arr):\n",
    "    ind1=-1\n",
    "    \n",
    "    n=len(arr)\n",
    "    \n",
    "    for i in range(n-2,-1,-1):\n",
    "        if(arr[i]<arr[i+1]):\n",
    "            ind1=i\n",
    "            break\n",
    "    if(ind1==-1):\n",
    "        return sorted(arr)\n",
    "    ind2=-1\n",
    "    for i in range(n-1,-1,-1):\n",
    "        if(arr[i]>arr[ind1]):\n",
    "            ind2=i\n",
    "            break\n",
    "    arr[ind1],arr[ind2]=arr[ind2],arr[ind1]\n",
    "    reverse(arr,ind1+1,n-1)\n",
    "    return arr"
   ]
  },
  {
   "cell_type": "code",
   "execution_count": 10,
   "id": "c713f5a1",
   "metadata": {},
   "outputs": [
    {
     "data": {
      "text/plain": [
       "[1, 5, 1]"
      ]
     },
     "execution_count": 10,
     "metadata": {},
     "output_type": "execute_result"
    }
   ],
   "source": [
    "next_permutation([1,1,5])"
   ]
  },
  {
   "cell_type": "code",
   "execution_count": null,
   "id": "aa66b5ce",
   "metadata": {},
   "outputs": [],
   "source": []
  }
 ],
 "metadata": {
  "kernelspec": {
   "display_name": "Python 3 (ipykernel)",
   "language": "python",
   "name": "python3"
  },
  "language_info": {
   "codemirror_mode": {
    "name": "ipython",
    "version": 3
   },
   "file_extension": ".py",
   "mimetype": "text/x-python",
   "name": "python",
   "nbconvert_exporter": "python",
   "pygments_lexer": "ipython3",
   "version": "3.9.8"
  }
 },
 "nbformat": 4,
 "nbformat_minor": 5
}

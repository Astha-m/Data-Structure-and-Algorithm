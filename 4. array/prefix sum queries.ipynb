{
 "cells": [
  {
   "cell_type": "code",
   "execution_count": 5,
   "id": "cf0a143b",
   "metadata": {},
   "outputs": [
    {
     "name": "stdout",
     "output_type": "stream",
     "text": [
      "[0, 2, 10, 13, 22, 28, 33, 37]\n",
      "13\n",
      "20\n",
      "27\n"
     ]
    }
   ],
   "source": [
    "arr=[2,8,3,9,6,5,4]\n",
    "\n",
    "prefix_sum=[0]\n",
    "for i in range(len(arr)):\n",
    "    prefix_sum.append(prefix_sum[-1]+arr[i])\n",
    "print(prefix_sum)\n",
    "'''\n",
    "queries:-\n",
    "0 2\n",
    "1 3\n",
    "2 6\n",
    "\n",
    "'''\n",
    "\n",
    "print(prefix_sum[2+1]-prefix_sum[0])\n",
    "print(prefix_sum[3+1]-prefix_sum[1])\n",
    "print(prefix_sum[6+1]-prefix_sum[2])"
   ]
  },
  {
   "cell_type": "code",
   "execution_count": null,
   "id": "4151cd51",
   "metadata": {},
   "outputs": [],
   "source": [
    "\n"
   ]
  }
 ],
 "metadata": {
  "kernelspec": {
   "display_name": "Python 3 (ipykernel)",
   "language": "python",
   "name": "python3"
  },
  "language_info": {
   "codemirror_mode": {
    "name": "ipython",
    "version": 3
   },
   "file_extension": ".py",
   "mimetype": "text/x-python",
   "name": "python",
   "nbconvert_exporter": "python",
   "pygments_lexer": "ipython3",
   "version": "3.9.8"
  }
 },
 "nbformat": 4,
 "nbformat_minor": 5
}

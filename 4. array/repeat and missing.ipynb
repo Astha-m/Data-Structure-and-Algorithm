{
 "cells": [
  {
   "cell_type": "code",
   "execution_count": 1,
   "id": "b0bc88b7",
   "metadata": {},
   "outputs": [
    {
     "data": {
      "text/plain": [
       "'\\nYou are given a read only array of n integers from 1 to n.\\n\\nEach integer appears exactly once except A which appears twice and B which is missing.\\n\\nReturn A and B.\\n\\n'"
      ]
     },
     "execution_count": 1,
     "metadata": {},
     "output_type": "execute_result"
    }
   ],
   "source": [
    "'''\n",
    "You are given a read only array of n integers from 1 to n.\n",
    "\n",
    "Each integer appears exactly once except A which appears twice and B which is missing.\n",
    "\n",
    "Return A and B.\n",
    "\n",
    "'''"
   ]
  },
  {
   "cell_type": "code",
   "execution_count": 7,
   "id": "31b9b2dc",
   "metadata": {},
   "outputs": [],
   "source": [
    "\n",
    "def missing_repeat(nums):\n",
    "    xor=0\n",
    "    for i in range(len(nums)+1):\n",
    "        xor^=i\n",
    "    for i in nums:\n",
    "        xor^=i\n",
    "        \n",
    "    sn=xor & ~(xor-1)\n",
    "    \n",
    "    res1=0\n",
    "    res2=0\n",
    "    for i in nums:\n",
    "        if(i&sn):\n",
    "            res1^=i\n",
    "        else:\n",
    "            res2^=i\n",
    "    for i in range(len(nums)+1):\n",
    "        if(i&sn):\n",
    "            res1^=i\n",
    "        else:\n",
    "            res2^=i\n",
    "    missing=-1\n",
    "    repeating=-1\n",
    "    for i in arr:\n",
    "        if(i==res1):\n",
    "            repeating=res1\n",
    "            missing=res2\n",
    "            break\n",
    "        elif(i==res2):\n",
    "            repeating=res2\n",
    "            missing=res1\n",
    "    return [repeating,missing]"
   ]
  },
  {
   "cell_type": "code",
   "execution_count": 8,
   "id": "7401a458",
   "metadata": {},
   "outputs": [
    {
     "data": {
      "text/plain": [
       "[3, 4]"
      ]
     },
     "execution_count": 8,
     "metadata": {},
     "output_type": "execute_result"
    }
   ],
   "source": [
    "missing_repeat([3 ,1, 2, 5, 3])"
   ]
  },
  {
   "cell_type": "code",
   "execution_count": null,
   "id": "a3da2f07",
   "metadata": {},
   "outputs": [],
   "source": []
  }
 ],
 "metadata": {
  "kernelspec": {
   "display_name": "Python 3 (ipykernel)",
   "language": "python",
   "name": "python3"
  },
  "language_info": {
   "codemirror_mode": {
    "name": "ipython",
    "version": 3
   },
   "file_extension": ".py",
   "mimetype": "text/x-python",
   "name": "python",
   "nbconvert_exporter": "python",
   "pygments_lexer": "ipython3",
   "version": "3.9.8"
  }
 },
 "nbformat": 4,
 "nbformat_minor": 5
}

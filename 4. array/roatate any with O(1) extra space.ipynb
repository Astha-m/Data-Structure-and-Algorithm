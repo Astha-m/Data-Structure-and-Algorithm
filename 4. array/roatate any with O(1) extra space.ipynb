{
 "cells": [
  {
   "cell_type": "code",
   "execution_count": null,
   "id": "45a2bfd4",
   "metadata": {},
   "outputs": [],
   "source": []
  },
  {
   "cell_type": "code",
   "execution_count": 14,
   "id": "eccd96ba",
   "metadata": {},
   "outputs": [
    {
     "name": "stdout",
     "output_type": "stream",
     "text": [
      "[41, 52, 63, 74, 85, 96, 17, 28, 39]\n",
      "[4, 5, 6, 7, 8, 9, 1, 2, 3]\n"
     ]
    }
   ],
   "source": [
    "#left to right rotate \n",
    "\n",
    "arr=[1,2,3,4,5,6,7,8,9]\n",
    "d=3\n",
    "lar=max(arr)+1\n",
    "n=len(arr)\n",
    "lstmain=[]\n",
    "start=d%n\n",
    "\n",
    "k=0\n",
    "for i in range(start,start+n):\n",
    "    \n",
    "    arr[k]=arr[k]+(arr[i%n]%lar)*lar\n",
    "    k+=1\n",
    "\n",
    "print(arr)\n",
    "\n",
    "for i in range(n):\n",
    "    arr[i]=arr[i]//lar\n",
    "print(arr)"
   ]
  },
  {
   "cell_type": "code",
   "execution_count": 15,
   "id": "7fcfe2d3",
   "metadata": {},
   "outputs": [
    {
     "name": "stdout",
     "output_type": "stream",
     "text": [
      "[71, 82, 93, 14, 25, 36, 47, 58, 69]\n",
      "[7, 8, 9, 1, 2, 3, 4, 5, 6]\n"
     ]
    }
   ],
   "source": [
    "# right to left rotate \n",
    "\n",
    "arr=[1,2,3,4,5,6,7,8,9]\n",
    "d=-3\n",
    "lar=max(arr)+1\n",
    "n=len(arr)\n",
    "lstmain=[]\n",
    "start=d%n\n",
    "\n",
    "k=0\n",
    "for i in range(start,start+n):\n",
    "    \n",
    "    arr[k]=arr[k]+(arr[i%n]%lar)*lar\n",
    "    k+=1\n",
    "\n",
    "print(arr)\n",
    "\n",
    "for i in range(n):\n",
    "    arr[i]=arr[i]//lar\n",
    "print(arr)"
   ]
  },
  {
   "cell_type": "code",
   "execution_count": null,
   "id": "c0ef91f6",
   "metadata": {},
   "outputs": [],
   "source": []
  }
 ],
 "metadata": {
  "kernelspec": {
   "display_name": "Python 3 (ipykernel)",
   "language": "python",
   "name": "python3"
  },
  "language_info": {
   "codemirror_mode": {
    "name": "ipython",
    "version": 3
   },
   "file_extension": ".py",
   "mimetype": "text/x-python",
   "name": "python",
   "nbconvert_exporter": "python",
   "pygments_lexer": "ipython3",
   "version": "3.9.8"
  }
 },
 "nbformat": 4,
 "nbformat_minor": 5
}

{
 "cells": [
  {
   "cell_type": "code",
   "execution_count": 3,
   "id": "39d1fac4",
   "metadata": {},
   "outputs": [],
   "source": [
    "def mat_anti(mat):\n",
    "    rows=len(mat)\n",
    "    cols=len(mat[0])\n",
    "    \n",
    "    for i in range(rows):\n",
    "        for j in range(i+1,cols):\n",
    "            mat[i][j],mat[j][i]=mat[j][i],mat[i][j]\n",
    "            \n",
    "    for i in range(cols):\n",
    "        start=0\n",
    "        end=rows-1\n",
    "        while(start<end):\n",
    "            mat[start][i],mat[end][i]=mat[end][i],mat[start][i]\n",
    "            start+=1\n",
    "            end-=1\n",
    "    return mat"
   ]
  },
  {
   "cell_type": "code",
   "execution_count": 4,
   "id": "a64a7b06",
   "metadata": {},
   "outputs": [
    {
     "data": {
      "text/plain": [
       "[[3, 6, 9], [2, 5, 8], [1, 4, 7]]"
      ]
     },
     "execution_count": 4,
     "metadata": {},
     "output_type": "execute_result"
    }
   ],
   "source": [
    "mat_anti([[1,2,3],[4,5,6],[7,8,9]])"
   ]
  },
  {
   "cell_type": "code",
   "execution_count": null,
   "id": "006f5a76",
   "metadata": {},
   "outputs": [],
   "source": []
  }
 ],
 "metadata": {
  "kernelspec": {
   "display_name": "Python 3 (ipykernel)",
   "language": "python",
   "name": "python3"
  },
  "language_info": {
   "codemirror_mode": {
    "name": "ipython",
    "version": 3
   },
   "file_extension": ".py",
   "mimetype": "text/x-python",
   "name": "python",
   "nbconvert_exporter": "python",
   "pygments_lexer": "ipython3",
   "version": "3.9.8"
  }
 },
 "nbformat": 4,
 "nbformat_minor": 5
}

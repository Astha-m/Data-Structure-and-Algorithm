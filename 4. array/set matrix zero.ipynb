{
 "cells": [
  {
   "cell_type": "code",
   "execution_count": 1,
   "id": "c509c0a7",
   "metadata": {},
   "outputs": [
    {
     "data": {
      "text/plain": [
       "[[1, 0, 1], [0, 0, 0], [1, 0, 1]]"
      ]
     },
     "execution_count": 1,
     "metadata": {},
     "output_type": "execute_result"
    }
   ],
   "source": [
    "'''\n",
    "Given an m x n integer matrix matrix, if an element is 0, set its entire row and column to 0's.\n",
    "'''\n",
    "\n",
    "def setmatzero(mat):\n",
    "    rows=len(mat)\n",
    "    cols=len(mat[0])\n",
    "    \n",
    "    row=set()\n",
    "    col=set()\n",
    "    for i in range(rows):\n",
    "        for j in range(cols):\n",
    "            if(mat[i][j]==0):\n",
    "                row.add(i)\n",
    "                col.add(j)\n",
    "    \n",
    "    for i in row:\n",
    "        for j in range(cols):\n",
    "            mat[i][j]=0\n",
    "    for i in col:\n",
    "        for j in range(rows):\n",
    "            mat[j][i]=0\n",
    "    return mat\n",
    "setmatzero([[1,1,1],[1,0,1],[1,1,1]])"
   ]
  },
  {
   "cell_type": "code",
   "execution_count": null,
   "id": "b76d2f09",
   "metadata": {},
   "outputs": [],
   "source": []
  }
 ],
 "metadata": {
  "kernelspec": {
   "display_name": "Python 3 (ipykernel)",
   "language": "python",
   "name": "python3"
  },
  "language_info": {
   "codemirror_mode": {
    "name": "ipython",
    "version": 3
   },
   "file_extension": ".py",
   "mimetype": "text/x-python",
   "name": "python",
   "nbconvert_exporter": "python",
   "pygments_lexer": "ipython3",
   "version": "3.9.8"
  }
 },
 "nbformat": 4,
 "nbformat_minor": 5
}

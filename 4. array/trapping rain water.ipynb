{
 "cells": [
  {
   "cell_type": "code",
   "execution_count": 4,
   "id": "a9a68e50",
   "metadata": {},
   "outputs": [
    {
     "name": "stdout",
     "output_type": "stream",
     "text": [
      "[3, 3, 3, 3, 5]\n",
      "[5, 5, 5, 5, 5]\n",
      "6\n"
     ]
    }
   ],
   "source": [
    "arr=[3,0,1,2,5]\n",
    "\n",
    "lmax=[arr[0]]\n",
    "rmax=[arr[-1]]\n",
    "n=len(arr)\n",
    "\n",
    "lmx=arr[0]\n",
    "rmx=arr[-1]\n",
    "for i in range(1,len(arr)):\n",
    "    if(arr[i]>lmx):\n",
    "        lmx=arr[i]\n",
    "    lmax.append(lmx)\n",
    "print(lmax)\n",
    "for i in range(n-2,-1,-1):\n",
    "    if(arr[i]>rmx):\n",
    "        rmx=arr[i]\n",
    "    rmax.append(rmx)\n",
    "print(rmax)\n",
    "total=0\n",
    "for i in range(1,n-1):\n",
    "    total+=min(lmax[i],rmax[i])-arr[i]\n",
    "print(total)"
   ]
  },
  {
   "cell_type": "code",
   "execution_count": null,
   "id": "e6765c57",
   "metadata": {},
   "outputs": [],
   "source": []
  }
 ],
 "metadata": {
  "kernelspec": {
   "display_name": "Python 3 (ipykernel)",
   "language": "python",
   "name": "python3"
  },
  "language_info": {
   "codemirror_mode": {
    "name": "ipython",
    "version": 3
   },
   "file_extension": ".py",
   "mimetype": "text/x-python",
   "name": "python",
   "nbconvert_exporter": "python",
   "pygments_lexer": "ipython3",
   "version": "3.9.8"
  }
 },
 "nbformat": 4,
 "nbformat_minor": 5
}

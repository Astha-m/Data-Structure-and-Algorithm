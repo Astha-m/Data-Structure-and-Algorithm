{
 "cells": [
  {
   "cell_type": "code",
   "execution_count": 1,
   "id": "a397aa30",
   "metadata": {},
   "outputs": [
    {
     "data": {
      "text/plain": [
       "'\\nThere is a robot on an m x n grid. The robot is initially located at the top-left corner (i.e., grid[0][0]). The robot tries to move to the bottom-right corner (i.e., grid[m - 1][n - 1]). The robot can only move either down or right at any point in time.\\n\\nGiven the two integers m and n, return the number of possible unique paths that the robot can take to reach the bottom-right corner.\\n\\nThe test cases are generated so that the answer will be less than or equal to 2 * 109.\\n\\n'"
      ]
     },
     "execution_count": 1,
     "metadata": {},
     "output_type": "execute_result"
    }
   ],
   "source": [
    "'''\n",
    "There is a robot on an m x n grid. The robot is initially located at the top-left corner (i.e., grid[0][0]). The robot tries to move to the bottom-right corner (i.e., grid[m - 1][n - 1]). The robot can only move either down or right at any point in time.\n",
    "\n",
    "Given the two integers m and n, return the number of possible unique paths that the robot can take to reach the bottom-right corner.\n",
    "\n",
    "The test cases are generated so that the answer will be less than or equal to 2 * 109.\n",
    "\n",
    "'''"
   ]
  },
  {
   "cell_type": "code",
   "execution_count": 2,
   "id": "3625d704",
   "metadata": {},
   "outputs": [],
   "source": [
    "def unique_paths(m,n):\n",
    "    dp=[]\n",
    "    for i in range(m+1):\n",
    "        dp.append([-1]*(n+1))\n",
    "    \n",
    "    def find_path(i,j,m,n,dp):\n",
    "        if(i>=m or j>=n):\n",
    "            return 0\n",
    "        if(i==m-1 and j==n-1):\n",
    "            return 1\n",
    "        \n",
    "        if(dp[i][j]!=-1):\n",
    "            return dp[i][j]\n",
    "        dp[i][j]=find_path(i+1,j,m,n,dp)+find_path(i,j+1,m,n,dp)\n",
    "        return dp[i][j]\n",
    "    print(find_path(0,0,m,n,dp))"
   ]
  },
  {
   "cell_type": "code",
   "execution_count": 3,
   "id": "d66fe4e7",
   "metadata": {},
   "outputs": [
    {
     "name": "stdout",
     "output_type": "stream",
     "text": [
      "28\n"
     ]
    }
   ],
   "source": [
    "unique_paths(3,7)"
   ]
  },
  {
   "cell_type": "code",
   "execution_count": null,
   "id": "7c3d32e6",
   "metadata": {},
   "outputs": [],
   "source": []
  }
 ],
 "metadata": {
  "kernelspec": {
   "display_name": "Python 3 (ipykernel)",
   "language": "python",
   "name": "python3"
  },
  "language_info": {
   "codemirror_mode": {
    "name": "ipython",
    "version": 3
   },
   "file_extension": ".py",
   "mimetype": "text/x-python",
   "name": "python",
   "nbconvert_exporter": "python",
   "pygments_lexer": "ipython3",
   "version": "3.9.8"
  }
 },
 "nbformat": 4,
 "nbformat_minor": 5
}

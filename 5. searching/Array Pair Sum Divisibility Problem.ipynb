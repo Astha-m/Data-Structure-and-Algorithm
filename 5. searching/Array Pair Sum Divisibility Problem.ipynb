{
 "cells": [
  {
   "cell_type": "code",
   "execution_count": 1,
   "id": "2c08ba2b",
   "metadata": {},
   "outputs": [
    {
     "data": {
      "text/plain": [
       "\"\\nGiven an array of integers and a number k, write a function\\nthat returns true if given array can be divided into pairs such \\nthat sum of every pair is divisible by k.\\n \\n\\nExample 1 :\\n\\nInput : arr = [9, 5, 7, 3], k = 6\\nOutput: True\\nExplanation: {(9, 3), (5, 7)} is a \\npossible solution. 9 + 3 = 12 is divisible\\nby 6 and 7 + 5 = 12 is also divisible by 6.\\n\\nExample 2:\\n\\nInput : arr = [2, 4, 1, 3], k = 4\\nOutput: False\\nExplanation: There is no possible solution.\\n \\n\\nYour Task:\\nYou don't need to read or print anything. Your task is\\nto complete the function canPair() which takes array and\\nk as input parameter and returns true if array can be divided \\ninto pairs such that sum of every pair is divisible by k otherwise \\nreturns false.\\n \\n\\nExpected Time Complexity: O(n)\\nExpected Space Complexity : O(n)\\n\\n\""
      ]
     },
     "execution_count": 1,
     "metadata": {},
     "output_type": "execute_result"
    }
   ],
   "source": [
    "'''\n",
    "Given an array of integers and a number k, write a function\n",
    "that returns true if given array can be divided into pairs such \n",
    "that sum of every pair is divisible by k.\n",
    " \n",
    "\n",
    "Example 1 :\n",
    "\n",
    "Input : arr = [9, 5, 7, 3], k = 6\n",
    "Output: True\n",
    "Explanation: {(9, 3), (5, 7)} is a \n",
    "possible solution. 9 + 3 = 12 is divisible\n",
    "by 6 and 7 + 5 = 12 is also divisible by 6.\n",
    "\n",
    "Example 2:\n",
    "\n",
    "Input : arr = [2, 4, 1, 3], k = 4\n",
    "Output: False\n",
    "Explanation: There is no possible solution.\n",
    " \n",
    "\n",
    "Your Task:\n",
    "You don't need to read or print anything. Your task is\n",
    "to complete the function canPair() which takes array and\n",
    "k as input parameter and returns true if array can be divided \n",
    "into pairs such that sum of every pair is divisible by k otherwise \n",
    "returns false.\n",
    " \n",
    "\n",
    "Expected Time Complexity: O(n)\n",
    "Expected Space Complexity : O(n)\n",
    "\n",
    "'''"
   ]
  },
  {
   "cell_type": "code",
   "execution_count": null,
   "id": "c41e1262",
   "metadata": {},
   "outputs": [],
   "source": [
    "def canPair(self, arr, k):\n",
    "    from collections import defaultdict\n",
    "    d=defaultdict(int)\n",
    "\n",
    "    for i in arr:\n",
    "        d[((i%k)+k)%k]+=1\n",
    "\n",
    "    for i in arr:\n",
    "        rem=((i%k)+k)%k\n",
    "\n",
    "        if(rem*2==k):\n",
    "            if(d[rem]%2!=0):\n",
    "                return False\n",
    "        elif(rem==0):\n",
    "            if(d[rem]%2!=0):\n",
    "                return False\n",
    "\n",
    "        else:\n",
    "            if(d[rem]!=d[k-rem]):\n",
    "                return False\n",
    "    return True"
   ]
  }
 ],
 "metadata": {
  "kernelspec": {
   "display_name": "Python 3 (ipykernel)",
   "language": "python",
   "name": "python3"
  },
  "language_info": {
   "codemirror_mode": {
    "name": "ipython",
    "version": 3
   },
   "file_extension": ".py",
   "mimetype": "text/x-python",
   "name": "python",
   "nbconvert_exporter": "python",
   "pygments_lexer": "ipython3",
   "version": "3.10.7"
  }
 },
 "nbformat": 4,
 "nbformat_minor": 5
}

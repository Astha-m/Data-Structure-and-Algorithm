{
 "cells": [
  {
   "cell_type": "code",
   "execution_count": 1,
   "id": "8dfdd9eb",
   "metadata": {},
   "outputs": [
    {
     "data": {
      "text/plain": [
       "\"\\nGiven an array arr[] of distinct integers of size N and a value sum, the task \\nis to find the count of triplets (i, j, k), having (i<j<k) with the sum of (arr[i] + arr[j] + arr[k])\\nsmaller than the given value sum.\\n\\n\\nExample 1:\\n\\n\\nInput: N = 4, sum = 2\\narr[] = {-2, 0, 1, 3}\\nOutput:  2\\nExplanation: Below are triplets with \\nsum less than 2 (-2, 0, 1) and (-2, 0, 3). \\n \\n\\nExample 2:\\n\\n\\nInput: N = 5, sum = 12\\narr[] = {5, 1, 3, 4, 7}\\nOutput: 4\\nExplanation: Below are triplets with \\nsum less than 12 (1, 3, 4), (1, 3, 5), \\n(1, 3, 7) and (1, 4, 5).\\n\\nYour Task:\\nThis is a function problem. You don't need to take any input, as it is already \\naccomplished by the driver code. You just need to complete the function countTriplets() \\nthat take array arr[], integer N  and integer sum as parameters and returns \\nthe count of triplets.\\n\\n\""
      ]
     },
     "execution_count": 1,
     "metadata": {},
     "output_type": "execute_result"
    }
   ],
   "source": [
    "'''\n",
    "Given an array arr[] of distinct integers of size N and a value sum, the task \n",
    "is to find the count of triplets (i, j, k), having (i<j<k) with the sum of (arr[i] + arr[j] + arr[k])\n",
    "smaller than the given value sum.\n",
    "\n",
    "\n",
    "Example 1:\n",
    "\n",
    "\n",
    "Input: N = 4, sum = 2\n",
    "arr[] = {-2, 0, 1, 3}\n",
    "Output:  2\n",
    "Explanation: Below are triplets with \n",
    "sum less than 2 (-2, 0, 1) and (-2, 0, 3). \n",
    " \n",
    "\n",
    "Example 2:\n",
    "\n",
    "\n",
    "Input: N = 5, sum = 12\n",
    "arr[] = {5, 1, 3, 4, 7}\n",
    "Output: 4\n",
    "Explanation: Below are triplets with \n",
    "sum less than 12 (1, 3, 4), (1, 3, 5), \n",
    "(1, 3, 7) and (1, 4, 5).\n",
    "\n",
    "Your Task:\n",
    "This is a function problem. You don't need to take any input, as it is already \n",
    "accomplished by the driver code. You just need to complete the function countTriplets() \n",
    "that take array arr[], integer N  and integer sum as parameters and returns \n",
    "the count of triplets.\n",
    "\n",
    "\n",
    "18 86\n",
    "30 8 23 6 10 9 31 7 19 20 1 33 21 27 28 3 25 26\n",
    "\n",
    "796\n",
    "\n",
    "'''"
   ]
  },
  {
   "cell_type": "code",
   "execution_count": null,
   "id": "5172c54b",
   "metadata": {},
   "outputs": [],
   "source": [
    "def countTriplets(self, arr, n, sumo):\n",
    "    count=0\n",
    "    arr.sort()\n",
    "    for i in range(n-2):\n",
    "        j=i+1\n",
    "        k=n-1\n",
    "        while(j<k):\n",
    "            if(arr[i]+arr[j]+arr[k]<sumo):\n",
    "                count+=(k-j)\n",
    "                j+=1\n",
    "            else:\n",
    "                k-=1\n",
    "\n",
    "\n",
    "    return count"
   ]
  }
 ],
 "metadata": {
  "kernelspec": {
   "display_name": "Python 3 (ipykernel)",
   "language": "python",
   "name": "python3"
  },
  "language_info": {
   "codemirror_mode": {
    "name": "ipython",
    "version": 3
   },
   "file_extension": ".py",
   "mimetype": "text/x-python",
   "name": "python",
   "nbconvert_exporter": "python",
   "pygments_lexer": "ipython3",
   "version": "3.9.8"
  }
 },
 "nbformat": 4,
 "nbformat_minor": 5
}

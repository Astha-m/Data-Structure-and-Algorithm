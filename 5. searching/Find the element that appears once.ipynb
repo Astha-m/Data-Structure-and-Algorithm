{
 "cells": [
  {
   "cell_type": "code",
   "execution_count": 1,
   "id": "fbdd0004",
   "metadata": {},
   "outputs": [
    {
     "data": {
      "text/plain": [
       "\"\\nGiven a sorted array A[] of N positive integers having all the \\nnumbers occurring exactly twice, except for one number which will\\noccur only once. Find the number occurring only once.\\n\\nExample 1:\\n\\nInput:\\nN = 5\\nA = {1, 1, 2, 5, 5}\\nOutput: 2\\nExplanation: \\nSince 2 occurs once, while\\nother numbers occur twice, \\n2 is the answer.\\nExample 2:\\n\\nInput:\\nN = 7\\nA = {2, 2, 5, 5, 20, 30, 30}\\nOutput: 20\\nExplanation:\\nSince 20 occurs once, while\\nother numbers occur twice, \\n20 is the answer.\\nYour Task:\\nYou don't need to read input or print anything. Your task is \\nto complete the function search() which takes two arguments(array A and integer N)\\nand returns the number occurring only once.\\n\\nExpected Time Complexity: O(Log(N)).\\nExpected Auxiliary Space: O(1).\\n\\n\""
      ]
     },
     "execution_count": 1,
     "metadata": {},
     "output_type": "execute_result"
    }
   ],
   "source": [
    "'''\n",
    "Given a sorted array A[] of N positive integers having all the \n",
    "numbers occurring exactly twice, except for one number which will\n",
    "occur only once. Find the number occurring only once.\n",
    "\n",
    "Example 1:\n",
    "\n",
    "Input:\n",
    "N = 5\n",
    "A = {1, 1, 2, 5, 5}\n",
    "Output: 2\n",
    "Explanation: \n",
    "Since 2 occurs once, while\n",
    "other numbers occur twice, \n",
    "2 is the answer.\n",
    "Example 2:\n",
    "\n",
    "Input:\n",
    "N = 7\n",
    "A = {2, 2, 5, 5, 20, 30, 30}\n",
    "Output: 20\n",
    "Explanation:\n",
    "Since 20 occurs once, while\n",
    "other numbers occur twice, \n",
    "20 is the answer.\n",
    "Your Task:\n",
    "You don't need to read input or print anything. Your task is \n",
    "to complete the function search() which takes two arguments(array A and integer N)\n",
    "and returns the number occurring only once.\n",
    "\n",
    "Expected Time Complexity: O(Log(N)).\n",
    "Expected Auxiliary Space: O(1).\n",
    "\n",
    "'''"
   ]
  },
  {
   "cell_type": "code",
   "execution_count": null,
   "id": "65342d27",
   "metadata": {},
   "outputs": [],
   "source": [
    "def search(self, arr, n):\n",
    "    low=0\n",
    "    high=n-1\n",
    "    while(low<high):\n",
    "        mid=(low+high)//2\n",
    "\n",
    "        if(mid%2==0):\n",
    "            if(arr[mid]==arr[mid+1]):\n",
    "                low=mid+2\n",
    "            else:\n",
    "                high=mid\n",
    "        else:\n",
    "            if(arr[mid]==arr[mid-1]):\n",
    "                low=mid+1\n",
    "            else:\n",
    "                high=mid-1\n",
    "    return arr[low]"
   ]
  }
 ],
 "metadata": {
  "kernelspec": {
   "display_name": "Python 3 (ipykernel)",
   "language": "python",
   "name": "python3"
  },
  "language_info": {
   "codemirror_mode": {
    "name": "ipython",
    "version": 3
   },
   "file_extension": ".py",
   "mimetype": "text/x-python",
   "name": "python",
   "nbconvert_exporter": "python",
   "pygments_lexer": "ipython3",
   "version": "3.10.7"
  }
 },
 "nbformat": 4,
 "nbformat_minor": 5
}

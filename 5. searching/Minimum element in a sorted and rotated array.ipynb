{
 "cells": [
  {
   "cell_type": "code",
   "execution_count": 1,
   "id": "73587079",
   "metadata": {},
   "outputs": [
    {
     "data": {
      "text/plain": [
       "'\\nA sorted(in ascending order) array A[ ] with distinct elements is rotated\\nat some unknown point, the task is to find the minimum element in it.\\n\\nExample 1\\n\\nInput:\\nN = 5\\narr[] = {4 ,5 ,1 ,2 ,3}\\nOutput: 1\\nExplanation: 1 is the minimum element inthe array.\\nExample 2\\n\\nInput:\\nN = 7\\narr[] = {10, 20, 30, 40, 50, 5, 7}\\nOutput: 5\\nExplanation: Here 5 is the minimum element.\\n \\n\\nYour Task:\\nComplete the function findMin() which takes an array arr[] and n,\\nsize of the array as input parameters, and returns the minimum element\\nof the array.\\n\\nExpected Time Complexity: O(log N).\\nExpected Auxiliary Space: O(log N).\\n\\n'"
      ]
     },
     "execution_count": 1,
     "metadata": {},
     "output_type": "execute_result"
    }
   ],
   "source": [
    "'''\n",
    "A sorted(in ascending order) array A[ ] with distinct elements is rotated\n",
    "at some unknown point, the task is to find the minimum element in it.\n",
    "\n",
    "Example 1\n",
    "\n",
    "Input:\n",
    "N = 5\n",
    "arr[] = {4 ,5 ,1 ,2 ,3}\n",
    "Output: 1\n",
    "Explanation: 1 is the minimum element inthe array.\n",
    "Example 2\n",
    "\n",
    "Input:\n",
    "N = 7\n",
    "arr[] = {10, 20, 30, 40, 50, 5, 7}\n",
    "Output: 5\n",
    "Explanation: Here 5 is the minimum element.\n",
    " \n",
    "\n",
    "Your Task:\n",
    "Complete the function findMin() which takes an array arr[] and n,\n",
    "size of the array as input parameters, and returns the minimum element\n",
    "of the array.\n",
    "\n",
    "Expected Time Complexity: O(log N).\n",
    "Expected Auxiliary Space: O(log N).\n",
    "\n",
    "'''"
   ]
  },
  {
   "cell_type": "code",
   "execution_count": null,
   "id": "693d96a8",
   "metadata": {},
   "outputs": [],
   "source": [
    "def findMin(self, arr, n):\n",
    "    low=0\n",
    "    high=n-1\n",
    "    while(low<high):\n",
    "        mid=(low+high)//2\n",
    "\n",
    "        if(mid<high and arr[mid+1]<arr[mid]):\n",
    "            return arr[mid+1]\n",
    "\n",
    "        if(mid>low and arr[mid]<arr[mid-1]):\n",
    "            return arr[mid]\n",
    "\n",
    "        if(arr[high]>arr[mid]):\n",
    "            high=mid-1\n",
    "        else:\n",
    "            low=mid+1\n",
    "\n",
    "    return arr[low]  "
   ]
  }
 ],
 "metadata": {
  "kernelspec": {
   "display_name": "Python 3 (ipykernel)",
   "language": "python",
   "name": "python3"
  },
  "language_info": {
   "codemirror_mode": {
    "name": "ipython",
    "version": 3
   },
   "file_extension": ".py",
   "mimetype": "text/x-python",
   "name": "python",
   "nbconvert_exporter": "python",
   "pygments_lexer": "ipython3",
   "version": "3.10.7"
  }
 },
 "nbformat": 4,
 "nbformat_minor": 5
}

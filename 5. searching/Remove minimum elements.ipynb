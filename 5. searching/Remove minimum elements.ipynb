{
 "cells": [
  {
   "cell_type": "code",
   "execution_count": 1,
   "id": "34725a0f",
   "metadata": {},
   "outputs": [
    {
     "data": {
      "text/plain": [
       "\"\\nhttps://practice.geeksforgeeks.org/problems/remove-minimum-elements4612/1?page=8&company[]=Amazon&category[]=Arrays&sortBy=submissions\\n\\n\\n\\nGiven an unsorted array Arr of size N.\\nFind the minimum number of removals \\nrequired such that twice of minimum \\nelement in the array is greater than \\nor equal to the maximum in the array.\\n\\nExample 1:\\n\\nInput:\\nN = 9\\nArr[] = {4,5,100,9,10,11,12,15,200}\\nOutput: 4\\nExplanation: In the given array 4 elements \\n4, 5, 200 and 100 are removed from the\\narray to make the array such that\\n2*minimum >= max (2*9 > 15).\\nExample 2:\\n\\nInput:\\nN = 4\\nArr[] = {4,7,5,6}\\nOutput: 0\\nExplanation: We don't need to remove any\\nelement as  4*2 > 7 (Note that min = 4,\\nmax = 7).\\nYour Task:\\nYou don't need to read input or print \\nanything. Your task is to complete the \\nfunction minRemoval() which takes the \\narray of integers arr and n as parameters\\nand returns an integer denoting the answer.\\n\\nExpected Time Complexity: O(N*logN)\\nExpected Auxiliary Space: O(1)\\n\\nConstraints:\\n1 ≤ N ≤ 107\\n1 ≤ Arri ≤ 109\\n\""
      ]
     },
     "execution_count": 1,
     "metadata": {},
     "output_type": "execute_result"
    }
   ],
   "source": [
    "'''\n",
    "https://practice.geeksforgeeks.org/problems/remove-minimum-elements4612/1?page=8&company[]=Amazon&category[]=Arrays&sortBy=submissions\n",
    "\n",
    "\n",
    "\n",
    "Given an unsorted array Arr of size N.\n",
    "Find the minimum number of removals \n",
    "required such that twice of minimum \n",
    "element in the array is greater than \n",
    "or equal to the maximum in the array.\n",
    "\n",
    "Example 1:\n",
    "\n",
    "Input:\n",
    "N = 9\n",
    "Arr[] = {4,5,100,9,10,11,12,15,200}\n",
    "Output: 4\n",
    "Explanation: In the given array 4 elements \n",
    "4, 5, 200 and 100 are removed from the\n",
    "array to make the array such that\n",
    "2*minimum >= max (2*9 > 15).\n",
    "Example 2:\n",
    "\n",
    "Input:\n",
    "N = 4\n",
    "Arr[] = {4,7,5,6}\n",
    "Output: 0\n",
    "Explanation: We don't need to remove any\n",
    "element as  4*2 > 7 (Note that min = 4,\n",
    "max = 7).\n",
    "Your Task:\n",
    "You don't need to read input or print \n",
    "anything. Your task is to complete the \n",
    "function minRemoval() which takes the \n",
    "array of integers arr and n as parameters\n",
    "and returns an integer denoting the answer.\n",
    "\n",
    "Expected Time Complexity: O(N*logN)\n",
    "Expected Auxiliary Space: O(1)\n",
    "\n",
    "Constraints:\n",
    "1 ≤ N ≤ 107\n",
    "1 ≤ Arri ≤ 109\n",
    "'''"
   ]
  },
  {
   "cell_type": "code",
   "execution_count": 2,
   "id": "a46a4c9a",
   "metadata": {},
   "outputs": [],
   "source": [
    "def minRemoval(self,arr, n):\n",
    "    # code here\n",
    "    import bisect\n",
    "    ans=float('inf')\n",
    "    arr.sort()\n",
    "    if(2*arr[0]>=arr[n-1]):\n",
    "        return 0\n",
    "\n",
    "    for i in range(n):\n",
    "        temp=2*arr[i]\n",
    "        p=bisect.bisect_right(arr,temp)\n",
    "        ans=min(ans,n-p+i)\n",
    "    return ans"
   ]
  },
  {
   "cell_type": "code",
   "execution_count": null,
   "id": "625b4987",
   "metadata": {},
   "outputs": [],
   "source": []
  }
 ],
 "metadata": {
  "kernelspec": {
   "display_name": "Python 3 (ipykernel)",
   "language": "python",
   "name": "python3"
  },
  "language_info": {
   "codemirror_mode": {
    "name": "ipython",
    "version": 3
   },
   "file_extension": ".py",
   "mimetype": "text/x-python",
   "name": "python",
   "nbconvert_exporter": "python",
   "pygments_lexer": "ipython3",
   "version": "3.9.13"
  }
 },
 "nbformat": 4,
 "nbformat_minor": 5
}

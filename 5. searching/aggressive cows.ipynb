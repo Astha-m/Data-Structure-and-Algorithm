{
 "cells": [
  {
   "cell_type": "code",
   "execution_count": 11,
   "id": "b9222f78",
   "metadata": {},
   "outputs": [],
   "source": [
    "def checker(arr,distance,k):\n",
    "    curr=1\n",
    "    prev=arr[0]\n",
    "    for i in range(1,len(arr)):\n",
    "        if(arr[i]-prev>=distance):\n",
    "            prev=arr[i]\n",
    "            curr+=1\n",
    "    return curr>=k\n",
    "\n",
    "def aggressive_cows(arr,k):\n",
    "    arr.sort()\n",
    "    low=0\n",
    "    high=arr[-1]-arr[0]\n",
    "    \n",
    "    res=-1\n",
    "    while(low<=high):\n",
    "        mid=(low+high)//2\n",
    "        \n",
    "        if(checker(arr,mid,k)):\n",
    "            res=mid\n",
    "            low=mid+1\n",
    "        else:\n",
    "            high=mid-1\n",
    "\n",
    "    return res"
   ]
  },
  {
   "cell_type": "code",
   "execution_count": 12,
   "id": "26d213f8",
   "metadata": {},
   "outputs": [
    {
     "data": {
      "text/plain": [
       "3"
      ]
     },
     "execution_count": 12,
     "metadata": {},
     "output_type": "execute_result"
    }
   ],
   "source": [
    "aggressive_cows([1,2,8,4,9],3)"
   ]
  },
  {
   "cell_type": "code",
   "execution_count": null,
   "id": "320f041d",
   "metadata": {},
   "outputs": [],
   "source": []
  }
 ],
 "metadata": {
  "kernelspec": {
   "display_name": "Python 3 (ipykernel)",
   "language": "python",
   "name": "python3"
  },
  "language_info": {
   "codemirror_mode": {
    "name": "ipython",
    "version": 3
   },
   "file_extension": ".py",
   "mimetype": "text/x-python",
   "name": "python",
   "nbconvert_exporter": "python",
   "pygments_lexer": "ipython3",
   "version": "3.9.8"
  }
 },
 "nbformat": 4,
 "nbformat_minor": 5
}

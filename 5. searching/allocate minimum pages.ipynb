{
 "cells": [
  {
   "cell_type": "code",
   "execution_count": 17,
   "id": "25ea99ee",
   "metadata": {},
   "outputs": [
    {
     "data": {
      "text/plain": [
       "30"
      ]
     },
     "execution_count": 17,
     "metadata": {},
     "output_type": "execute_result"
    }
   ],
   "source": [
    "\n",
    "def checker(arr,pos,k):\n",
    "    total=0\n",
    "    curr=1\n",
    "    #print(pos,'pos')\n",
    "    for i in range(len(arr)):\n",
    "        if(total+arr[i]<=pos):\n",
    "            total+=arr[i]\n",
    "        else:\n",
    "            curr+=1\n",
    "            total=arr[i]\n",
    "    \n",
    "    \n",
    "    #print(curr)\n",
    "    return curr<=k\n",
    "\n",
    "def allocate_minimum_pages(arr,k):\n",
    "    low=max(arr)\n",
    "    high=sum(arr)\n",
    "    ans=-1\n",
    "    #print(low,high)\n",
    "    while(low<=high):\n",
    "        mid=(low+high)//2\n",
    "        #print(mid)\n",
    "        if(checker(arr,mid,k)):\n",
    "            ans=mid\n",
    "            high=mid-1\n",
    "        else:\n",
    "            low=mid+1\n",
    "    return ans\n",
    "allocate_minimum_pages([10,5,30,1,2,5,10,10],3)"
   ]
  },
  {
   "cell_type": "code",
   "execution_count": null,
   "id": "542d87d3",
   "metadata": {},
   "outputs": [],
   "source": []
  }
 ],
 "metadata": {
  "kernelspec": {
   "display_name": "Python 3 (ipykernel)",
   "language": "python",
   "name": "python3"
  },
  "language_info": {
   "codemirror_mode": {
    "name": "ipython",
    "version": 3
   },
   "file_extension": ".py",
   "mimetype": "text/x-python",
   "name": "python",
   "nbconvert_exporter": "python",
   "pygments_lexer": "ipython3",
   "version": "3.9.8"
  }
 },
 "nbformat": 4,
 "nbformat_minor": 5
}

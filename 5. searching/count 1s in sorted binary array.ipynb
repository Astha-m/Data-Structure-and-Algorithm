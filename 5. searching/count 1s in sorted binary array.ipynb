{
 "cells": [
  {
   "cell_type": "code",
   "execution_count": 2,
   "id": "ed2e0af2",
   "metadata": {},
   "outputs": [
    {
     "data": {
      "text/plain": [
       "5"
      ]
     },
     "execution_count": 2,
     "metadata": {},
     "output_type": "execute_result"
    }
   ],
   "source": [
    "def ind_first(arr,x):\n",
    "    n=len(arr)\n",
    "    low=0\n",
    "    high=n-1\n",
    "    \n",
    "    while(low<=high):\n",
    "        mid=(low+high)//2\n",
    "        \n",
    "        if(arr[mid]<x):\n",
    "            low=mid+1\n",
    "        elif(arr[mid]>x):\n",
    "            high=mid-1\n",
    "        else:\n",
    "            if(mid==0 or arr[mid]!=arr[mid-1]):\n",
    "                return mid\n",
    "            else:\n",
    "                high=mid-1\n",
    "    return -1\n",
    "\n",
    "def count1s(arr):\n",
    "    first=ind_first(arr,1)\n",
    "    if(first==-1):\n",
    "        return 0\n",
    "    return len(arr)-first\n",
    "\n",
    "count1s([0,0,0,0,1,1,1,1,1])"
   ]
  },
  {
   "cell_type": "code",
   "execution_count": null,
   "id": "3fa326c2",
   "metadata": {},
   "outputs": [],
   "source": []
  }
 ],
 "metadata": {
  "kernelspec": {
   "display_name": "Python 3 (ipykernel)",
   "language": "python",
   "name": "python3"
  },
  "language_info": {
   "codemirror_mode": {
    "name": "ipython",
    "version": 3
   },
   "file_extension": ".py",
   "mimetype": "text/x-python",
   "name": "python",
   "nbconvert_exporter": "python",
   "pygments_lexer": "ipython3",
   "version": "3.9.8"
  }
 },
 "nbformat": 4,
 "nbformat_minor": 5
}

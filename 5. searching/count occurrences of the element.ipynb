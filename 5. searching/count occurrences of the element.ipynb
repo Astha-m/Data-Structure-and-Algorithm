{
 "cells": [
  {
   "cell_type": "code",
   "execution_count": 1,
   "id": "c2ef9d53",
   "metadata": {},
   "outputs": [
    {
     "data": {
      "text/plain": [
       "3"
      ]
     },
     "execution_count": 1,
     "metadata": {},
     "output_type": "execute_result"
    }
   ],
   "source": [
    "def ind_first(arr,x):\n",
    "    n=len(arr)\n",
    "    low=0\n",
    "    high=n-1\n",
    "    while(low<=high):\n",
    "        mid=(low+high)//2\n",
    "        if(arr[mid]>x):\n",
    "            high=mid-1\n",
    "        elif(arr[mid]<x):\n",
    "            low=mid+1\n",
    "        else:\n",
    "            if(mid==0 or arr[mid-1]!=arr[mid]):\n",
    "                return mid\n",
    "            else:\n",
    "                high=mid-1\n",
    "    return -1\n",
    "\n",
    "\n",
    "def ind_last(arr,x):\n",
    "    n=len(arr)\n",
    "    low=0\n",
    "    high=n-1\n",
    "    while(low<=high):\n",
    "        mid=(low+high)//2\n",
    "        if(arr[mid]>x):\n",
    "            high=mid-1\n",
    "        elif(arr[mid]<x):\n",
    "            low=mid+1\n",
    "        else:\n",
    "            if(mid==n-1 or arr[mid]!=arr[mid+1]):\n",
    "                return mid\n",
    "            else:\n",
    "                low=mid+1\n",
    "    return -1\n",
    "\n",
    "\n",
    "def count_occurrences(arr,x):\n",
    "    first=ind_first(arr,x)\n",
    "    if(first==-1):\n",
    "        return 0\n",
    "    return ind_last(arr,x)-first+1\n",
    "\n",
    "count_occurrences([1,10,10,10,20,20,40],10)"
   ]
  },
  {
   "cell_type": "code",
   "execution_count": null,
   "id": "b2ce4b14",
   "metadata": {},
   "outputs": [],
   "source": []
  }
 ],
 "metadata": {
  "kernelspec": {
   "display_name": "Python 3 (ipykernel)",
   "language": "python",
   "name": "python3"
  },
  "language_info": {
   "codemirror_mode": {
    "name": "ipython",
    "version": 3
   },
   "file_extension": ".py",
   "mimetype": "text/x-python",
   "name": "python",
   "nbconvert_exporter": "python",
   "pygments_lexer": "ipython3",
   "version": "3.9.8"
  }
 },
 "nbformat": 4,
 "nbformat_minor": 5
}

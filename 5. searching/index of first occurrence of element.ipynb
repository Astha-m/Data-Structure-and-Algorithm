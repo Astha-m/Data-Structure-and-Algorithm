{
 "cells": [
  {
   "cell_type": "code",
   "execution_count": 1,
   "id": "479b94c3",
   "metadata": {},
   "outputs": [
    {
     "data": {
      "text/plain": [
       "4"
      ]
     },
     "execution_count": 1,
     "metadata": {},
     "output_type": "execute_result"
    }
   ],
   "source": [
    "def ind_first(arr,x):\n",
    "    low=0\n",
    "    high=len(arr)-1\n",
    "    \n",
    "    while(low<=high):\n",
    "        mid=(low+high)//2\n",
    "        \n",
    "        if(arr[mid]<x):\n",
    "            low=mid+1\n",
    "        elif(arr[mid]>x):\n",
    "            high=mid-1\n",
    "        else:\n",
    "            if(mid==0 or arr[mid-1]!=arr[mid]):\n",
    "                return mid\n",
    "            else:\n",
    "                high=mid-1\n",
    "ind_first([1,10,10,10,20,20,40],20)"
   ]
  },
  {
   "cell_type": "code",
   "execution_count": null,
   "id": "5b6d7ecd",
   "metadata": {},
   "outputs": [],
   "source": []
  }
 ],
 "metadata": {
  "kernelspec": {
   "display_name": "Python 3 (ipykernel)",
   "language": "python",
   "name": "python3"
  },
  "language_info": {
   "codemirror_mode": {
    "name": "ipython",
    "version": 3
   },
   "file_extension": ".py",
   "mimetype": "text/x-python",
   "name": "python",
   "nbconvert_exporter": "python",
   "pygments_lexer": "ipython3",
   "version": "3.9.8"
  }
 },
 "nbformat": 4,
 "nbformat_minor": 5
}

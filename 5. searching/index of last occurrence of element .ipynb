{
 "cells": [
  {
   "cell_type": "code",
   "execution_count": 1,
   "id": "4b34b42e",
   "metadata": {},
   "outputs": [
    {
     "data": {
      "text/plain": [
       "3"
      ]
     },
     "execution_count": 1,
     "metadata": {},
     "output_type": "execute_result"
    }
   ],
   "source": [
    "def ind_last(arr,x):\n",
    "    low=0\n",
    "    high=len(arr)-1\n",
    "    n=len(arr)\n",
    "    \n",
    "    while(low<=high):\n",
    "        mid=(low+high)//2\n",
    "        \n",
    "        if(arr[mid]<x):\n",
    "            low=mid+1\n",
    "        elif(arr[mid]>x):\n",
    "            high=mid-1\n",
    "        else:\n",
    "            if(mid==n-1 or arr[mid]!=arr[mid+1]):\n",
    "                return mid\n",
    "            else:\n",
    "                low=mid+1\n",
    "ind_last([1,20,20,20,40,40,50],20)"
   ]
  },
  {
   "cell_type": "code",
   "execution_count": null,
   "id": "de0c518a",
   "metadata": {},
   "outputs": [],
   "source": []
  }
 ],
 "metadata": {
  "kernelspec": {
   "display_name": "Python 3 (ipykernel)",
   "language": "python",
   "name": "python3"
  },
  "language_info": {
   "codemirror_mode": {
    "name": "ipython",
    "version": 3
   },
   "file_extension": ".py",
   "mimetype": "text/x-python",
   "name": "python",
   "nbconvert_exporter": "python",
   "pygments_lexer": "ipython3",
   "version": "3.9.8"
  }
 },
 "nbformat": 4,
 "nbformat_minor": 5
}

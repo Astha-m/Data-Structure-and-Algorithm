{
 "cells": [
  {
   "cell_type": "code",
   "execution_count": 3,
   "id": "c215c831",
   "metadata": {},
   "outputs": [],
   "source": [
    "def kth_of_two_sorted_array(arr1,arr2,k):\n",
    "    arr1.sort()\n",
    "    arr2.sort()\n",
    "    \n",
    "    n=len(arr1)\n",
    "    m=len(arr2)\n",
    "    \n",
    "    low=0\n",
    "    high=n-1\n",
    "    \n",
    "    while(low<=high):\n",
    "        i1=(low+high)//2\n",
    "        if(i1>k):\n",
    "            high=i1-1\n",
    "            continue\n",
    "        else:\n",
    "            i2=k-i1\n",
    "            arr1_left=-float('inf') if(i1==0) else arr1[i1-1]\n",
    "            arr1_right=float('inf') if(i1==n) else arr1[i1]\n",
    "            \n",
    "            arr2_left=-float('inf') if(i2==0) else arr2[i2-1]\n",
    "            arr2_right=float('inf') if(i2==m) else arr2[i2]\n",
    "            \n",
    "            if(arr1_left<=arr2_right and arr2_left<=arr1_right):\n",
    "                return max(arr1_left,arr2_left)\n",
    "            elif(arr1_left>arr2_right):\n",
    "                high=i1-1\n",
    "            else:\n",
    "                low=i1+1\n",
    "    "
   ]
  },
  {
   "cell_type": "code",
   "execution_count": 5,
   "id": "92e1f3a6",
   "metadata": {},
   "outputs": [
    {
     "data": {
      "text/plain": [
       "256"
      ]
     },
     "execution_count": 5,
     "metadata": {},
     "output_type": "execute_result"
    }
   ],
   "source": [
    "kth_of_two_sorted_array([100, 112, 256 ,349 ,770], [ 72, 86 ,113 ,119 ,265 ,445 ,892],7)"
   ]
  },
  {
   "cell_type": "code",
   "execution_count": null,
   "id": "89022a8f",
   "metadata": {},
   "outputs": [],
   "source": []
  }
 ],
 "metadata": {
  "kernelspec": {
   "display_name": "Python 3 (ipykernel)",
   "language": "python",
   "name": "python3"
  },
  "language_info": {
   "codemirror_mode": {
    "name": "ipython",
    "version": 3
   },
   "file_extension": ".py",
   "mimetype": "text/x-python",
   "name": "python",
   "nbconvert_exporter": "python",
   "pygments_lexer": "ipython3",
   "version": "3.9.8"
  }
 },
 "nbformat": 4,
 "nbformat_minor": 5
}

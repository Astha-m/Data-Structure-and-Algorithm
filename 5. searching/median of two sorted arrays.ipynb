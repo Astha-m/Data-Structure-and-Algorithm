{
 "cells": [
  {
   "cell_type": "code",
   "execution_count": 5,
   "id": "542b82d8",
   "metadata": {},
   "outputs": [
    {
     "data": {
      "text/plain": [
       "37"
      ]
     },
     "execution_count": 5,
     "metadata": {},
     "output_type": "execute_result"
    }
   ],
   "source": [
    "def median_arrays(arr1,arr2):\n",
    "    arr1.sort()\n",
    "    arr2.sort()\n",
    "    if(len(arr1)>len(arr2)):\n",
    "        temp=arr1[::]\n",
    "        arr1=arr2[::]\n",
    "        arr2=temp[::]\n",
    "    \n",
    "    n1=len(arr1)\n",
    "    n2=len(arr2)\n",
    "    low=0\n",
    "    high=n1\n",
    "    \n",
    "    \n",
    "    while(low<=high):\n",
    "        i1=(low+high)//2\n",
    "        i2=(n1+n2+1)//2-i1\n",
    "        \n",
    "        arr1_left=-float('inf') if(i1==0) else arr1[i1-1]\n",
    "        arr1_right=float('inf') if(i1==n1) else arr1[i1]\n",
    "        \n",
    "        arr2_left=-float('inf') if(i2==0) else arr2[i2-1]\n",
    "        arr2_right=float('inf') if(i2==n2) else arr2[i2]\n",
    "        \n",
    "        if(arr1_left<=arr2_right and arr2_left<=arr1_right):\n",
    "            if((n1+n2)%2==0):\n",
    "                return (max(arr1_left,arr2_left)+min(arr2_right,arr1_right))//2\n",
    "            else:\n",
    "                return max(arr1_left,arr2_left)\n",
    "        elif(arr1_left>arr2_right):\n",
    "            high=i1-1\n",
    "        else:\n",
    "            low=i1+1\n",
    "\n",
    "median_arrays([10,20,30,40,50],[5,15,25,35,45,55,65,75,85])"
   ]
  },
  {
   "cell_type": "code",
   "execution_count": null,
   "id": "0b5e1e7c",
   "metadata": {},
   "outputs": [],
   "source": []
  }
 ],
 "metadata": {
  "kernelspec": {
   "display_name": "Python 3 (ipykernel)",
   "language": "python",
   "name": "python3"
  },
  "language_info": {
   "codemirror_mode": {
    "name": "ipython",
    "version": 3
   },
   "file_extension": ".py",
   "mimetype": "text/x-python",
   "name": "python",
   "nbconvert_exporter": "python",
   "pygments_lexer": "ipython3",
   "version": "3.9.8"
  }
 },
 "nbformat": 4,
 "nbformat_minor": 5
}

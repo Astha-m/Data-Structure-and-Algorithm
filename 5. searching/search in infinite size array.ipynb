{
 "cells": [
  {
   "cell_type": "code",
   "execution_count": null,
   "id": "1635c88e",
   "metadata": {},
   "outputs": [],
   "source": [
    "def bsearch(arr,x,start,end):\n",
    "    low=start\n",
    "    high=end\n",
    "    while(low<=high):\n",
    "        mid=(low+high)//2\n",
    "        \n",
    "        if(arr[mid]==x):\n",
    "            return mid\n",
    "        elif(arr[mid]<x):\n",
    "            low=mid+1\n",
    "        else:\n",
    "            high=mid-1\n",
    "    return -1\n",
    "\n",
    "def search(arr,x):\n",
    "    if(arr[0]==x):\n",
    "        return 0\n",
    "    i=1\n",
    "    while(arr[i]<x):\n",
    "        i=i*2\n",
    "    if(arr[i]==x):\n",
    "        return i\n",
    "    return bsearch(arr,x,i//2,i-1)\n",
    "\n"
   ]
  }
 ],
 "metadata": {
  "kernelspec": {
   "display_name": "Python 3 (ipykernel)",
   "language": "python",
   "name": "python3"
  },
  "language_info": {
   "codemirror_mode": {
    "name": "ipython",
    "version": 3
   },
   "file_extension": ".py",
   "mimetype": "text/x-python",
   "name": "python",
   "nbconvert_exporter": "python",
   "pygments_lexer": "ipython3",
   "version": "3.9.8"
  }
 },
 "nbformat": 4,
 "nbformat_minor": 5
}

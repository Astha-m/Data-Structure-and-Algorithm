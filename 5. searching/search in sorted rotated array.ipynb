{
 "cells": [
  {
   "cell_type": "code",
   "execution_count": 2,
   "id": "fa6cfff4",
   "metadata": {},
   "outputs": [
    {
     "data": {
      "text/plain": [
       "0"
      ]
     },
     "execution_count": 2,
     "metadata": {},
     "output_type": "execute_result"
    }
   ],
   "source": [
    "def search_sorted_rotated(arr,x):\n",
    "    low=0\n",
    "    n=len(arr)\n",
    "    high=n-1\n",
    "    while(low<=high):\n",
    "        mid=(low+high)//2\n",
    "        \n",
    "        if(arr[mid]==x):\n",
    "            return mid\n",
    "        if(arr[low]<=arr[mid]):\n",
    "            \n",
    "            if(x>=arr[low] and x<=arr[mid]):\n",
    "                high=mid-1\n",
    "            else:\n",
    "                low=mid+1\n",
    "        else:\n",
    "            \n",
    "            if(x>=arr[mid] and x<=arr[high]):\n",
    "                low=mid+1\n",
    "            else:\n",
    "                high=mid-1\n",
    "    return -1\n",
    "\n",
    "search_sorted_rotated([10,20,30,40,50,8,9],10)"
   ]
  },
  {
   "cell_type": "code",
   "execution_count": null,
   "id": "ebe58144",
   "metadata": {},
   "outputs": [],
   "source": []
  }
 ],
 "metadata": {
  "kernelspec": {
   "display_name": "Python 3 (ipykernel)",
   "language": "python",
   "name": "python3"
  },
  "language_info": {
   "codemirror_mode": {
    "name": "ipython",
    "version": 3
   },
   "file_extension": ".py",
   "mimetype": "text/x-python",
   "name": "python",
   "nbconvert_exporter": "python",
   "pygments_lexer": "ipython3",
   "version": "3.9.8"
  }
 },
 "nbformat": 4,
 "nbformat_minor": 5
}

{
 "cells": [
  {
   "cell_type": "code",
   "execution_count": 6,
   "id": "e701e16f",
   "metadata": {},
   "outputs": [
    {
     "data": {
      "text/plain": [
       "8"
      ]
     },
     "execution_count": 6,
     "metadata": {},
     "output_type": "execute_result"
    }
   ],
   "source": [
    "def square_root(x):\n",
    "    low=1\n",
    "    high=x\n",
    "    ans=0\n",
    "    while(low<=high):\n",
    "        mid=(low+high)//2\n",
    "        \n",
    "        msq=mid*mid\n",
    "        if(msq==x):\n",
    "            return mid\n",
    "        elif(msq<x):\n",
    "            low=mid+1\n",
    "            ans=mid\n",
    "        else:\n",
    "            high=mid-1\n",
    "    return ans\n",
    "\n",
    "square_root(79)"
   ]
  },
  {
   "cell_type": "code",
   "execution_count": null,
   "id": "534c2c59",
   "metadata": {},
   "outputs": [],
   "source": []
  }
 ],
 "metadata": {
  "kernelspec": {
   "display_name": "Python 3 (ipykernel)",
   "language": "python",
   "name": "python3"
  },
  "language_info": {
   "codemirror_mode": {
    "name": "ipython",
    "version": 3
   },
   "file_extension": ".py",
   "mimetype": "text/x-python",
   "name": "python",
   "nbconvert_exporter": "python",
   "pygments_lexer": "ipython3",
   "version": "3.9.8"
  }
 },
 "nbformat": 4,
 "nbformat_minor": 5
}

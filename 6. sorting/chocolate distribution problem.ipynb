{
 "cells": [
  {
   "cell_type": "code",
   "execution_count": 1,
   "id": "d0790b8c",
   "metadata": {},
   "outputs": [],
   "source": [
    "def chocolate(arr,k):\n",
    "    arr.sort()\n",
    "    res=arr[k-1]-arr[0]\n",
    "    for i in range(k,len(arr)):\n",
    "        res=min(res,arr[i]-arr[i-k+1])\n",
    "    print(res)"
   ]
  },
  {
   "cell_type": "code",
   "execution_count": 2,
   "id": "db636369",
   "metadata": {},
   "outputs": [
    {
     "name": "stdout",
     "output_type": "stream",
     "text": [
      "2\n"
     ]
    }
   ],
   "source": [
    "chocolate([7,3,2,4,9,12,56],3)"
   ]
  },
  {
   "cell_type": "code",
   "execution_count": null,
   "id": "c537841a",
   "metadata": {},
   "outputs": [],
   "source": []
  }
 ],
 "metadata": {
  "kernelspec": {
   "display_name": "Python 3 (ipykernel)",
   "language": "python",
   "name": "python3"
  },
  "language_info": {
   "codemirror_mode": {
    "name": "ipython",
    "version": 3
   },
   "file_extension": ".py",
   "mimetype": "text/x-python",
   "name": "python",
   "nbconvert_exporter": "python",
   "pygments_lexer": "ipython3",
   "version": "3.9.8"
  }
 },
 "nbformat": 4,
 "nbformat_minor": 5
}

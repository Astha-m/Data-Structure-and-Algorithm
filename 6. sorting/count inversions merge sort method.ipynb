{
 "cells": [
  {
   "cell_type": "code",
   "execution_count": 1,
   "id": "788dac83",
   "metadata": {},
   "outputs": [],
   "source": [
    "arr=[2,4,1,3,5]\n",
    "left=0\n",
    "right=len(arr)-1\n"
   ]
  },
  {
   "cell_type": "code",
   "execution_count": 2,
   "id": "80028ff9",
   "metadata": {},
   "outputs": [
    {
     "name": "stdout",
     "output_type": "stream",
     "text": [
      "0 0 1 0\n",
      "0\n",
      "0 1 2 0\n",
      "2\n",
      "3 3 4 0\n",
      "0\n",
      "0 2 4 2\n",
      "3\n"
     ]
    },
    {
     "data": {
      "text/plain": [
       "3"
      ]
     },
     "execution_count": 2,
     "metadata": {},
     "output_type": "execute_result"
    }
   ],
   "source": [
    "def mergeandcount(arr,low,mid,high):\n",
    "    left=[]\n",
    "    right=[]\n",
    "    res=0\n",
    "    for i in range(low,mid+1):\n",
    "        left.append(arr[i])\n",
    "    for i in range(mid+1,high+1):\n",
    "        right.append(arr[i])\n",
    "    \n",
    "    i=0\n",
    "    j=0\n",
    "    k=low\n",
    "    m=len(left)\n",
    "    n=len(right)\n",
    "    while(i<m and j<n):\n",
    "        if(left[i]<=right[j]):\n",
    "            arr[k]=left[i]\n",
    "            i+=1\n",
    "            k+=1\n",
    "        elif(right[j]<left[i]):\n",
    "            arr[k]=right[j]\n",
    "            j+=1\n",
    "            k+=1\n",
    "            res=res+(m-i)\n",
    "            \n",
    "    while(i<m):\n",
    "        arr[k]=left[i]\n",
    "        i+=1\n",
    "        k+=1\n",
    "    while(j<n):\n",
    "        arr[k]=right[j]\n",
    "        j+=1\n",
    "        k+=1\n",
    "    \n",
    "    return res\n",
    "    \n",
    "    \n",
    "\n",
    "def countInv(arr,left,right):\n",
    "    res=0\n",
    "    if(right>left):\n",
    "        mid=left+(right-left)//2\n",
    "        res+=countInv(arr,left,mid)\n",
    "        res+=countInv(arr,mid+1,right)\n",
    "        print(left,mid,right,res)\n",
    "        res+=mergeandcount(arr,left,mid,right)\n",
    "        print(res)\n",
    "    return res\n",
    "\n",
    "countInv(arr,left,right)"
   ]
  },
  {
   "cell_type": "code",
   "execution_count": null,
   "id": "5873ec21",
   "metadata": {},
   "outputs": [],
   "source": [
    "arr=[2,4,1,3,5]"
   ]
  }
 ],
 "metadata": {
  "kernelspec": {
   "display_name": "Python 3 (ipykernel)",
   "language": "python",
   "name": "python3"
  },
  "language_info": {
   "codemirror_mode": {
    "name": "ipython",
    "version": 3
   },
   "file_extension": ".py",
   "mimetype": "text/x-python",
   "name": "python",
   "nbconvert_exporter": "python",
   "pygments_lexer": "ipython3",
   "version": "3.9.8"
  }
 },
 "nbformat": 4,
 "nbformat_minor": 5
}

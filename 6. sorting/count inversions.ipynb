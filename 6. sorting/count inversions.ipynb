{
 "cells": [
  {
   "cell_type": "code",
   "execution_count": 2,
   "id": "2aa2b5f6",
   "metadata": {},
   "outputs": [
    {
     "data": {
      "text/plain": [
       "3"
      ]
     },
     "execution_count": 2,
     "metadata": {},
     "output_type": "execute_result"
    }
   ],
   "source": [
    "def count_inversions(arr):\n",
    "    import heapq\n",
    "    import bisect\n",
    "    heap=[]\n",
    "    \n",
    "    for i in range(len(arr)):\n",
    "        heapq.heappush(heap,(arr[i],i))\n",
    "        \n",
    "    sorted_ind_lst=[]\n",
    "    res=0\n",
    "    while(heap):\n",
    "        val,ind=heapq.heappop(heap)\n",
    "        \n",
    "        pos=bisect.bisect_left(sorted_ind_lst,ind)\n",
    "        \n",
    "        res+=ind-pos\n",
    "        \n",
    "        sorted_ind_lst.insert(pos,ind)\n",
    "        \n",
    "    return res\n",
    "\n",
    "count_inversions([2,4,1,3,5])"
   ]
  },
  {
   "cell_type": "code",
   "execution_count": null,
   "id": "4863df8a",
   "metadata": {},
   "outputs": [],
   "source": []
  }
 ],
 "metadata": {
  "kernelspec": {
   "display_name": "Python 3 (ipykernel)",
   "language": "python",
   "name": "python3"
  },
  "language_info": {
   "codemirror_mode": {
    "name": "ipython",
    "version": 3
   },
   "file_extension": ".py",
   "mimetype": "text/x-python",
   "name": "python",
   "nbconvert_exporter": "python",
   "pygments_lexer": "ipython3",
   "version": "3.9.8"
  }
 },
 "nbformat": 4,
 "nbformat_minor": 5
}

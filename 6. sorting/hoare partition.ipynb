{
 "cells": [
  {
   "cell_type": "code",
   "execution_count": 11,
   "id": "19c5f286",
   "metadata": {},
   "outputs": [],
   "source": [
    "def hoare(arr):\n",
    "    pivot=arr[0]\n",
    "    ind=0\n",
    "    \n",
    "    for i in range(len(arr)):\n",
    "        if(arr[i]<pivot):\n",
    "            arr[ind],arr[i]=arr[i],arr[ind]\n",
    "            ind+=1\n",
    "    print(arr)\n",
    "    return ind-1"
   ]
  },
  {
   "cell_type": "code",
   "execution_count": 14,
   "id": "26adf34f",
   "metadata": {},
   "outputs": [
    {
     "name": "stdout",
     "output_type": "stream",
     "text": [
      "[3, 4, 2, 1, 8, 7, 5, 10]\n"
     ]
    },
    {
     "data": {
      "text/plain": [
       "3"
      ]
     },
     "execution_count": 14,
     "metadata": {},
     "output_type": "execute_result"
    }
   ],
   "source": [
    "hoare([5,3,8,4,2,7,1,10])"
   ]
  },
  {
   "cell_type": "code",
   "execution_count": null,
   "id": "d115ef97",
   "metadata": {},
   "outputs": [],
   "source": []
  }
 ],
 "metadata": {
  "kernelspec": {
   "display_name": "Python 3 (ipykernel)",
   "language": "python",
   "name": "python3"
  },
  "language_info": {
   "codemirror_mode": {
    "name": "ipython",
    "version": 3
   },
   "file_extension": ".py",
   "mimetype": "text/x-python",
   "name": "python",
   "nbconvert_exporter": "python",
   "pygments_lexer": "ipython3",
   "version": "3.9.8"
  }
 },
 "nbformat": 4,
 "nbformat_minor": 5
}

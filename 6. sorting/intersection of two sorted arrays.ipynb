{
 "cells": [
  {
   "cell_type": "code",
   "execution_count": 5,
   "id": "f63d2170",
   "metadata": {},
   "outputs": [
    {
     "name": "stdout",
     "output_type": "stream",
     "text": [
      "0 0\n",
      "1 0\n",
      "2 1\n",
      "3 2\n",
      "4 2\n",
      "5 2\n",
      "5 3\n",
      "6 4\n",
      "7 4\n",
      "8 4\n"
     ]
    },
    {
     "data": {
      "text/plain": [
       "[5, 10, 15]"
      ]
     },
     "execution_count": 5,
     "metadata": {},
     "output_type": "execute_result"
    }
   ],
   "source": [
    "def intersection(arr1,arr2):\n",
    "    \n",
    "    m=len(arr1)\n",
    "    n=len(arr2)\n",
    "    i=0\n",
    "    j=0\n",
    "    \n",
    "    temp=[]\n",
    "    \n",
    "    while(i+j<m+n):\n",
    "        print(i,j)\n",
    "        if(i==m or j==n):\n",
    "            break\n",
    "        if(i>0 and arr1[i]==arr1[i-1]):\n",
    "            i+=1\n",
    "        elif(j>0 and arr2[j]==arr2[j-1]):\n",
    "            j+=1\n",
    "        elif(arr1[i]==arr2[j]):\n",
    "            temp.append(arr1[i])\n",
    "            i+=1\n",
    "            j+=1\n",
    "        elif(arr1[i]>arr2[j]):\n",
    "            j+=1\n",
    "        elif(arr1[i]<arr2[j]):\n",
    "            i+=1\n",
    "        \n",
    "    return temp\n",
    "    \n",
    "    \n",
    "    \n",
    "    \n",
    "intersection([3,5,10,10,10,15,15,20],[5,10,10,15,30])"
   ]
  },
  {
   "cell_type": "code",
   "execution_count": null,
   "id": "e801de71",
   "metadata": {},
   "outputs": [],
   "source": []
  }
 ],
 "metadata": {
  "kernelspec": {
   "display_name": "Python 3 (ipykernel)",
   "language": "python",
   "name": "python3"
  },
  "language_info": {
   "codemirror_mode": {
    "name": "ipython",
    "version": 3
   },
   "file_extension": ".py",
   "mimetype": "text/x-python",
   "name": "python",
   "nbconvert_exporter": "python",
   "pygments_lexer": "ipython3",
   "version": "3.9.8"
  }
 },
 "nbformat": 4,
 "nbformat_minor": 5
}

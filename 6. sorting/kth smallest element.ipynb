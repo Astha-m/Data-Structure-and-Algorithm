{
 "cells": [
  {
   "cell_type": "code",
   "execution_count": 35,
   "id": "575b3348",
   "metadata": {},
   "outputs": [
    {
     "data": {
      "text/plain": [
       "20"
      ]
     },
     "execution_count": 35,
     "metadata": {},
     "output_type": "execute_result"
    }
   ],
   "source": [
    "import random\n",
    "def random_pivot(arr,low,high):\n",
    "    rand=random.randint(low,high)\n",
    "    arr[high],arr[rand]=arr[rand],arr[high]\n",
    "    \n",
    "    pivot=arr[high]\n",
    "    \n",
    "    ind=low\n",
    "    for i in range(low,high+1):\n",
    "        if(arr[i]<pivot):\n",
    "            arr[i],arr[ind]=arr[ind],arr[i]\n",
    "            ind+=1\n",
    "    arr[ind],arr[high]=arr[high],arr[ind]\n",
    "    \n",
    "    return ind\n",
    "\n",
    "def kthsmallestelement(arr,k):\n",
    "    low=0\n",
    "    high=len(arr)-1\n",
    "    \n",
    "    while(low<=high):\n",
    "        p=random_pivot(arr,low,high)\n",
    "        \n",
    "        if(p==k-1):\n",
    "            return arr[p]\n",
    "        \n",
    "        if(p<k-1):\n",
    "            low=p+1\n",
    "        else:\n",
    "            high=p-1\n",
    "    return -1\n",
    "\n",
    "kthsmallestelement([30,20,5,10,8],4)"
   ]
  },
  {
   "cell_type": "code",
   "execution_count": null,
   "id": "cde1fe34",
   "metadata": {},
   "outputs": [],
   "source": []
  }
 ],
 "metadata": {
  "kernelspec": {
   "display_name": "Python 3 (ipykernel)",
   "language": "python",
   "name": "python3"
  },
  "language_info": {
   "codemirror_mode": {
    "name": "ipython",
    "version": 3
   },
   "file_extension": ".py",
   "mimetype": "text/x-python",
   "name": "python",
   "nbconvert_exporter": "python",
   "pygments_lexer": "ipython3",
   "version": "3.9.8"
  }
 },
 "nbformat": 4,
 "nbformat_minor": 5
}

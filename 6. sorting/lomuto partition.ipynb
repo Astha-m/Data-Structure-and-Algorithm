{
 "cells": [
  {
   "cell_type": "code",
   "execution_count": 9,
   "id": "23b7ef30",
   "metadata": {},
   "outputs": [],
   "source": [
    "def lomuto(arr):\n",
    "    pivot=arr[-1]\n",
    "    ind=0\n",
    "    for i in range(len(arr)):\n",
    "        if(arr[i]<pivot):\n",
    "            arr[ind],arr[i]=arr[i],arr[ind]\n",
    "            ind+=1\n",
    "    arr[ind],arr[-1]=arr[-1],arr[ind]\n",
    "    print(arr)\n",
    "    return ind"
   ]
  },
  {
   "cell_type": "code",
   "execution_count": 10,
   "id": "9f85c5b3",
   "metadata": {},
   "outputs": [
    {
     "name": "stdout",
     "output_type": "stream",
     "text": [
      "[10, 30, 40, 50, 70, 90, 80]\n"
     ]
    },
    {
     "data": {
      "text/plain": [
       "4"
      ]
     },
     "execution_count": 10,
     "metadata": {},
     "output_type": "execute_result"
    }
   ],
   "source": [
    "lomuto([10,80,30,90,40,50,70])"
   ]
  },
  {
   "cell_type": "code",
   "execution_count": null,
   "id": "c81cbed3",
   "metadata": {},
   "outputs": [],
   "source": []
  }
 ],
 "metadata": {
  "kernelspec": {
   "display_name": "Python 3 (ipykernel)",
   "language": "python",
   "name": "python3"
  },
  "language_info": {
   "codemirror_mode": {
    "name": "ipython",
    "version": 3
   },
   "file_extension": ".py",
   "mimetype": "text/x-python",
   "name": "python",
   "nbconvert_exporter": "python",
   "pygments_lexer": "ipython3",
   "version": "3.9.8"
  }
 },
 "nbformat": 4,
 "nbformat_minor": 5
}

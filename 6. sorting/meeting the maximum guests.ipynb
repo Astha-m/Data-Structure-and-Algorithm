{
 "cells": [
  {
   "cell_type": "code",
   "execution_count": 1,
   "id": "03131f80",
   "metadata": {},
   "outputs": [
    {
     "data": {
      "text/plain": [
       "3"
      ]
     },
     "execution_count": 1,
     "metadata": {},
     "output_type": "execute_result"
    }
   ],
   "source": [
    "def meeting(arr,dep):\n",
    "    arr.sort()\n",
    "    dep.sort()\n",
    "    \n",
    "    i=1\n",
    "    j=0\n",
    "    m=len(arr)\n",
    "    \n",
    "    res=0\n",
    "    curr=1\n",
    "    while(i<m):\n",
    "        if(arr[i]<=dep[j]):\n",
    "            curr+=1\n",
    "            i+=1\n",
    "        else:\n",
    "            curr-=1\n",
    "            j+=1\n",
    "        res=max(res,curr)\n",
    "    return res\n",
    "\n",
    "meeting([900,940,950,1100,1500,1800],[910,1200,1120,1130,1900,2000])"
   ]
  },
  {
   "cell_type": "code",
   "execution_count": null,
   "id": "a427de04",
   "metadata": {},
   "outputs": [],
   "source": []
  }
 ],
 "metadata": {
  "kernelspec": {
   "display_name": "Python 3 (ipykernel)",
   "language": "python",
   "name": "python3"
  },
  "language_info": {
   "codemirror_mode": {
    "name": "ipython",
    "version": 3
   },
   "file_extension": ".py",
   "mimetype": "text/x-python",
   "name": "python",
   "nbconvert_exporter": "python",
   "pygments_lexer": "ipython3",
   "version": "3.9.8"
  }
 },
 "nbformat": 4,
 "nbformat_minor": 5
}

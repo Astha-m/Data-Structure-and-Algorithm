{
 "cells": [
  {
   "cell_type": "code",
   "execution_count": 6,
   "id": "86afbc8f",
   "metadata": {},
   "outputs": [
    {
     "data": {
      "text/plain": [
       "[1, 2, 3, 4, 5, 6, 7, 8, 9]"
      ]
     },
     "execution_count": 6,
     "metadata": {},
     "output_type": "execute_result"
    }
   ],
   "source": [
    "def merge(arr1,arr2):\n",
    "    temp=[]\n",
    "    m=len(arr1)\n",
    "    n=len(arr2)\n",
    "    \n",
    "    i=0\n",
    "    j=0\n",
    "    while(i+j<m+n):\n",
    "        if(i==m):\n",
    "            temp.append(arr2[j])\n",
    "            j+=1\n",
    "        elif(j==n):\n",
    "            temp.append(arr1[i])\n",
    "            i+=1\n",
    "        elif(arr1[i]<=arr2[j]):\n",
    "            temp.append(arr1[i])\n",
    "            i+=1\n",
    "        elif(arr2[j]<arr1[i]):\n",
    "            temp.append(arr2[j])\n",
    "            j+=1\n",
    "    return temp\n",
    "\n",
    "\n",
    "def mergesort(arr,left,right):\n",
    "    if(right-left<=1):\n",
    "        return arr[left:right]\n",
    "    else:\n",
    "        mid=(left+right)//2\n",
    "        L=mergesort(arr,left,mid)\n",
    "        R=mergesort(arr,mid,right)\n",
    "        return merge(L,R)\n",
    "\n",
    "mergesort([9,8,7,6,5,4,3,2,1],0,9)"
   ]
  },
  {
   "cell_type": "code",
   "execution_count": null,
   "id": "c5fa393c",
   "metadata": {},
   "outputs": [],
   "source": []
  }
 ],
 "metadata": {
  "kernelspec": {
   "display_name": "Python 3 (ipykernel)",
   "language": "python",
   "name": "python3"
  },
  "language_info": {
   "codemirror_mode": {
    "name": "ipython",
    "version": 3
   },
   "file_extension": ".py",
   "mimetype": "text/x-python",
   "name": "python",
   "nbconvert_exporter": "python",
   "pygments_lexer": "ipython3",
   "version": "3.9.8"
  }
 },
 "nbformat": 4,
 "nbformat_minor": 5
}

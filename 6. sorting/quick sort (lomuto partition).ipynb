{
 "cells": [
  {
   "cell_type": "code",
   "execution_count": 5,
   "id": "e7a37c05",
   "metadata": {},
   "outputs": [],
   "source": [
    "def lomuto_partition(arr,low,high):\n",
    "    pivot=arr[high]\n",
    "    ind=low\n",
    "    for i in range(low,high+1):\n",
    "        if(arr[i]<pivot):\n",
    "            arr[ind],arr[i]=arr[i],arr[ind]\n",
    "            ind+=1\n",
    "    arr[ind],arr[high]=arr[high],arr[ind]\n",
    "    print(arr)\n",
    "    \n",
    "    return ind"
   ]
  },
  {
   "cell_type": "code",
   "execution_count": 6,
   "id": "6623538c",
   "metadata": {},
   "outputs": [
    {
     "name": "stdout",
     "output_type": "stream",
     "text": [
      "[4, 3, 5, 9, 8, 10, 7]\n"
     ]
    },
    {
     "data": {
      "text/plain": [
       "2"
      ]
     },
     "execution_count": 6,
     "metadata": {},
     "output_type": "execute_result"
    }
   ],
   "source": [
    "lomuto_partition([8,4,7,9,3,10,5],0,6)"
   ]
  },
  {
   "cell_type": "code",
   "execution_count": 8,
   "id": "b28a37c2",
   "metadata": {},
   "outputs": [
    {
     "name": "stdout",
     "output_type": "stream",
     "text": [
      "[4, 3, 5, 9, 8, 10, 7]\n",
      "[3, 4, 5, 9, 8, 10, 7]\n",
      "[3, 4, 5, 7, 8, 10, 9]\n",
      "[3, 4, 5, 7, 8, 9, 10]\n"
     ]
    },
    {
     "data": {
      "text/plain": [
       "[3, 4, 5, 7, 8, 9, 10]"
      ]
     },
     "execution_count": 8,
     "metadata": {},
     "output_type": "execute_result"
    }
   ],
   "source": [
    "def quicksort(arr,low,high):\n",
    "    if(low<high):\n",
    "        p=lomuto_partition(arr,low,high)\n",
    "        quicksort(arr,low,p-1)\n",
    "        quicksort(arr,p+1,high)\n",
    "    \n",
    "    return arr\n",
    "\n",
    "quicksort([8,4,7,9,3,10,5],0,6)"
   ]
  },
  {
   "cell_type": "code",
   "execution_count": null,
   "id": "eaeefe8d",
   "metadata": {},
   "outputs": [],
   "source": []
  }
 ],
 "metadata": {
  "kernelspec": {
   "display_name": "Python 3 (ipykernel)",
   "language": "python",
   "name": "python3"
  },
  "language_info": {
   "codemirror_mode": {
    "name": "ipython",
    "version": 3
   },
   "file_extension": ".py",
   "mimetype": "text/x-python",
   "name": "python",
   "nbconvert_exporter": "python",
   "pygments_lexer": "ipython3",
   "version": "3.9.8"
  }
 },
 "nbformat": 4,
 "nbformat_minor": 5
}

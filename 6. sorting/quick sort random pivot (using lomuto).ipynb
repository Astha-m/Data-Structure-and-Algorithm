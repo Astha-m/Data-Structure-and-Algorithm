{
 "cells": [
  {
   "cell_type": "code",
   "execution_count": 17,
   "id": "7d5f3a92",
   "metadata": {},
   "outputs": [],
   "source": [
    "import random\n",
    "def random_pivot(arr,low,high):\n",
    "    random_int=random.randint(low,high)\n",
    "    print('-----------')\n",
    "    print(low,high,random_int)\n",
    "    arr[high],arr[random_int]=arr[random_int],arr[high]\n",
    "    \n",
    "    pivot=arr[high]\n",
    "    print(pivot)\n",
    "    ind=low\n",
    "    for i in range(low,high+1):\n",
    "        if(arr[i]<pivot):\n",
    "            arr[ind],arr[i]=arr[i],arr[ind]\n",
    "            ind+=1\n",
    "    arr[ind],arr[high]=arr[high],arr[ind]\n",
    "    print(arr,ind)\n",
    "    return ind"
   ]
  },
  {
   "cell_type": "code",
   "execution_count": 18,
   "id": "2d631ece",
   "metadata": {},
   "outputs": [
    {
     "name": "stdout",
     "output_type": "stream",
     "text": [
      "-----------\n",
      "0 6 5\n",
      "10\n",
      "[8, 4, 7, 9, 3, 5, 10] 6\n",
      "-----------\n",
      "0 5 5\n",
      "5\n",
      "[4, 3, 5, 9, 8, 7, 10] 2\n",
      "-----------\n",
      "0 1 1\n",
      "3\n",
      "[3, 4, 5, 9, 8, 7, 10] 0\n",
      "-----------\n",
      "3 5 5\n",
      "7\n",
      "[3, 4, 5, 7, 8, 9, 10] 3\n",
      "-----------\n",
      "4 5 5\n",
      "9\n",
      "[3, 4, 5, 7, 8, 9, 10] 5\n"
     ]
    },
    {
     "data": {
      "text/plain": [
       "[3, 4, 5, 7, 8, 9, 10]"
      ]
     },
     "execution_count": 18,
     "metadata": {},
     "output_type": "execute_result"
    }
   ],
   "source": [
    "def quicksort(arr,low,high):\n",
    "    if(low<high):\n",
    "        p=random_pivot(arr,low,high)\n",
    "        quicksort(arr,low,p-1)\n",
    "        quicksort(arr,p+1,high)\n",
    "        \n",
    "    return arr\n",
    "\n",
    "quicksort([8,4,7,9,3,10,5],0,6)"
   ]
  },
  {
   "cell_type": "code",
   "execution_count": null,
   "id": "ef0dbd4d",
   "metadata": {},
   "outputs": [],
   "source": []
  }
 ],
 "metadata": {
  "kernelspec": {
   "display_name": "Python 3 (ipykernel)",
   "language": "python",
   "name": "python3"
  },
  "language_info": {
   "codemirror_mode": {
    "name": "ipython",
    "version": 3
   },
   "file_extension": ".py",
   "mimetype": "text/x-python",
   "name": "python",
   "nbconvert_exporter": "python",
   "pygments_lexer": "ipython3",
   "version": "3.9.8"
  }
 },
 "nbformat": 4,
 "nbformat_minor": 5
}

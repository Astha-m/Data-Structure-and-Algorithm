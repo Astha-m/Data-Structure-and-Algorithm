{
 "cells": [
  {
   "cell_type": "code",
   "execution_count": 4,
   "id": "0df243ba",
   "metadata": {},
   "outputs": [
    {
     "name": "stdout",
     "output_type": "stream",
     "text": [
      "0 7\n",
      "1 6\n",
      "3 4\n"
     ]
    },
    {
     "data": {
      "text/plain": [
       "[-5, -5, -5, -5, 5, 5, 5, 5]"
      ]
     },
     "execution_count": 4,
     "metadata": {},
     "output_type": "execute_result"
    }
   ],
   "source": [
    "# we can have for even odd\n",
    "# we can have for 0 and 1\n",
    "# here we have positive and negative element\n",
    "def seggregate(arr):\n",
    "    n=len(arr)\n",
    "    i=0\n",
    "    j=n-1\n",
    "    while(True):\n",
    "        print(i,j)\n",
    "        while(i<n and arr[i]<0):\n",
    "            i+=1\n",
    "        while(j>-1 and arr[j]>0):\n",
    "            j-=1\n",
    "        \n",
    "        if(i>=j):\n",
    "            return arr\n",
    "        arr[i],arr[j]=arr[j],arr[i]\n",
    "        i+=1\n",
    "        j-=1\n",
    "seggregate([5,-5,5,-5,5,-5,5,-5])"
   ]
  },
  {
   "cell_type": "code",
   "execution_count": null,
   "id": "284d7ebc",
   "metadata": {},
   "outputs": [],
   "source": []
  }
 ],
 "metadata": {
  "kernelspec": {
   "display_name": "Python 3 (ipykernel)",
   "language": "python",
   "name": "python3"
  },
  "language_info": {
   "codemirror_mode": {
    "name": "ipython",
    "version": 3
   },
   "file_extension": ".py",
   "mimetype": "text/x-python",
   "name": "python",
   "nbconvert_exporter": "python",
   "pygments_lexer": "ipython3",
   "version": "3.9.8"
  }
 },
 "nbformat": 4,
 "nbformat_minor": 5
}

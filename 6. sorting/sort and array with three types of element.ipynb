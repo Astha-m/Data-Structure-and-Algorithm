{
 "cells": [
  {
   "cell_type": "code",
   "execution_count": 1,
   "id": "32c85150",
   "metadata": {},
   "outputs": [
    {
     "data": {
      "text/plain": [
       "[0, 0, 0, 0, 1, 1, 1, 1, 2, 2, 2, 2]"
      ]
     },
     "execution_count": 1,
     "metadata": {},
     "output_type": "execute_result"
    }
   ],
   "source": [
    "def sort012(arr):\n",
    "    n=len(arr)\n",
    "    low=0\n",
    "    mid=0\n",
    "    high=n-1\n",
    "    \n",
    "    while(mid<=high):\n",
    "        if(arr[mid]==0):\n",
    "            arr[low],arr[mid]=arr[mid],arr[low]\n",
    "            low+=1\n",
    "            mid+=1\n",
    "        elif(arr[mid]==1):\n",
    "            mid+=1\n",
    "        else:\n",
    "            arr[high],arr[mid]=arr[mid],arr[high]\n",
    "            high-=1\n",
    "    return arr\n",
    "\n",
    "sort012([0,1,2,0,1,2,0,1,2,0,1,2])"
   ]
  },
  {
   "cell_type": "code",
   "execution_count": null,
   "id": "7a98d808",
   "metadata": {},
   "outputs": [],
   "source": []
  }
 ],
 "metadata": {
  "kernelspec": {
   "display_name": "Python 3 (ipykernel)",
   "language": "python",
   "name": "python3"
  },
  "language_info": {
   "codemirror_mode": {
    "name": "ipython",
    "version": 3
   },
   "file_extension": ".py",
   "mimetype": "text/x-python",
   "name": "python",
   "nbconvert_exporter": "python",
   "pygments_lexer": "ipython3",
   "version": "3.9.8"
  }
 },
 "nbformat": 4,
 "nbformat_minor": 5
}

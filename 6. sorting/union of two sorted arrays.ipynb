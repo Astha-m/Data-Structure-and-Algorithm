{
 "cells": [
  {
   "cell_type": "code",
   "execution_count": 2,
   "id": "3c94ce96",
   "metadata": {},
   "outputs": [
    {
     "name": "stdout",
     "output_type": "stream",
     "text": [
      "0 0\n",
      "0 1\n",
      "1 1\n",
      "2 1\n",
      "3 2\n",
      "4 2\n",
      "5 2\n",
      "5 3\n",
      "5 4\n",
      "5 5\n"
     ]
    },
    {
     "data": {
      "text/plain": [
       "[2, 3, 5, 8, 9, 10, 15]"
      ]
     },
     "execution_count": 2,
     "metadata": {},
     "output_type": "execute_result"
    }
   ],
   "source": [
    "def union_arrays(arr1,arr2):\n",
    "    m=len(arr1)\n",
    "    n=len(arr2)\n",
    "    \n",
    "    i=0\n",
    "    j=0\n",
    "    temp=[]\n",
    "    \n",
    "    while(i+j<m+n):\n",
    "        \n",
    "        print(i,j)\n",
    "        \n",
    "        if(i==m):\n",
    "            if(temp[-1]!=arr2[j]):\n",
    "                temp.append(arr2[j])\n",
    "            j+=1\n",
    "        elif(j==n):\n",
    "            if(temp[-1]!=arr1[i]):\n",
    "                temp.append(arr1[i])\n",
    "            i+=1\n",
    "        elif(i>0 and arr1[i]==arr1[i-1]):\n",
    "            i+=1\n",
    "        elif(j>0 and arr2[j]==arr2[j-1]):\n",
    "            j+=1\n",
    "        elif(arr1[i]==arr2[j]):\n",
    "            temp.append(arr1[i])\n",
    "            i+=1\n",
    "            j+=1\n",
    "        elif(arr1[i]<arr2[j]):\n",
    "            temp.append(arr1[i])\n",
    "            i+=1\n",
    "        elif(arr2[j]<arr1[i]):\n",
    "            temp.append(arr2[j])\n",
    "            j+=1\n",
    "    return temp\n",
    "\n",
    "union_arrays([3,5,8,8,8],[2,8,9,9,10,15])"
   ]
  },
  {
   "cell_type": "code",
   "execution_count": null,
   "id": "1ce4a38a",
   "metadata": {},
   "outputs": [],
   "source": []
  }
 ],
 "metadata": {
  "kernelspec": {
   "display_name": "Python 3 (ipykernel)",
   "language": "python",
   "name": "python3"
  },
  "language_info": {
   "codemirror_mode": {
    "name": "ipython",
    "version": 3
   },
   "file_extension": ".py",
   "mimetype": "text/x-python",
   "name": "python",
   "nbconvert_exporter": "python",
   "pygments_lexer": "ipython3",
   "version": "3.9.8"
  }
 },
 "nbformat": 4,
 "nbformat_minor": 5
}

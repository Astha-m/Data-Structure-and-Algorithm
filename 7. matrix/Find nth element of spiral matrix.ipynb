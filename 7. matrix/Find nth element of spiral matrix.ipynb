{
 "cells": [
  {
   "cell_type": "code",
   "execution_count": 1,
   "id": "aba096ff",
   "metadata": {},
   "outputs": [
    {
     "data": {
      "text/plain": [
       "\"\\nhttps://practice.geeksforgeeks.org/problems/find-nth-element-of-spiral-matrix/1?page=1&company[]=Amazon&category[]=Matrix&sortBy=submissions\\n\\n\\nGiven a matrix with n rows and m columns.\\nYour task is to find the kth element which\\nis obtained while traversing the matrix spirally.\\nYou need to complete the method findK which takes \\nfour arguments the first argument is the matrix A\\nand the next two arguments will be n and m denoting\\nthe size of the matrix A and then the forth argument \\nis an integer  k denoting the kth element . \\nThe function will return the kth element obtained \\nwhile traversing the matrix spirally.\\n\\n\\nExample 1:\\n\\nInput:\\nn = 3, m = 3, k = 4\\nA[][] = {{1 2 3},\\n         {4 5 6},\\n         {7 8 9}}\\nOutput:\\n6\\nExplanation:\\nThe matrix above will look like \\n1 2 3\\n4 5 6\\n7 8 9\\nand the 4th element in spiral fashion\\nwill be 6 .\\n\\nYour Task:\\nYou only need to implement the given function\\nfindK(). Do not read input, instead use the \\narguments given in the function. Return the K'th\\nelement obtained by traversing matrix spirally.\\n\\n\\nExpected Time Complexity: O(N*M)\\nExpected Auxiliary Space: O(N*M)\\n\\n\\nConstraints:\\n1<=n,m<=20\\n1<=k<=n*m\\n\""
      ]
     },
     "execution_count": 1,
     "metadata": {},
     "output_type": "execute_result"
    }
   ],
   "source": [
    "'''\n",
    "https://practice.geeksforgeeks.org/problems/find-nth-element-of-spiral-matrix/1?page=1&company[]=Amazon&category[]=Matrix&sortBy=submissions\n",
    "\n",
    "\n",
    "Given a matrix with n rows and m columns.\n",
    "Your task is to find the kth element which\n",
    "is obtained while traversing the matrix spirally.\n",
    "You need to complete the method findK which takes \n",
    "four arguments the first argument is the matrix A\n",
    "and the next two arguments will be n and m denoting\n",
    "the size of the matrix A and then the forth argument \n",
    "is an integer  k denoting the kth element . \n",
    "The function will return the kth element obtained \n",
    "while traversing the matrix spirally.\n",
    "\n",
    "\n",
    "Example 1:\n",
    "\n",
    "Input:\n",
    "n = 3, m = 3, k = 4\n",
    "A[][] = {{1 2 3},\n",
    "         {4 5 6},\n",
    "         {7 8 9}}\n",
    "Output:\n",
    "6\n",
    "Explanation:\n",
    "The matrix above will look like \n",
    "1 2 3\n",
    "4 5 6\n",
    "7 8 9\n",
    "and the 4th element in spiral fashion\n",
    "will be 6 .\n",
    "\n",
    "Your Task:\n",
    "You only need to implement the given function\n",
    "findK(). Do not read input, instead use the \n",
    "arguments given in the function. Return the K'th\n",
    "element obtained by traversing matrix spirally.\n",
    "\n",
    "\n",
    "Expected Time Complexity: O(N*M)\n",
    "Expected Auxiliary Space: O(N*M)\n",
    "\n",
    "\n",
    "Constraints:\n",
    "1<=n,m<=20\n",
    "1<=k<=n*m\n",
    "'''"
   ]
  },
  {
   "cell_type": "code",
   "execution_count": null,
   "id": "7cd333de",
   "metadata": {},
   "outputs": [],
   "source": [
    "def findK(arr, n, m, ind):\n",
    "    #Code here\n",
    "    k=0\n",
    "    l=0\n",
    "    ans=[]\n",
    "    while(k<n and l<m):\n",
    "        ## Print the first row from\n",
    "        for i in range(l,m):\n",
    "            ans.append(arr[k][i])\n",
    "        \n",
    "        k+=1\n",
    "        # Print the last column from\n",
    "        for i in range(k,n):\n",
    "            ans.append(arr[i][m-1])\n",
    "        m-=1\n",
    "        \n",
    "        # Print the last row from\n",
    "        \n",
    "        if(k<n):\n",
    "            for i in range(m-1,l-1,-1):\n",
    "                ans.append(arr[n-1][i])\n",
    "            n-=1\n",
    "                \n",
    "        if(l<m):\n",
    "            for i in range(n-1,k-1,-1):\n",
    "                ans.append(arr[i][l])\n",
    "            l+=1\n",
    "    return ans[ind-1]"
   ]
  }
 ],
 "metadata": {
  "kernelspec": {
   "display_name": "Python 3 (ipykernel)",
   "language": "python",
   "name": "python3"
  },
  "language_info": {
   "codemirror_mode": {
    "name": "ipython",
    "version": 3
   },
   "file_extension": ".py",
   "mimetype": "text/x-python",
   "name": "python",
   "nbconvert_exporter": "python",
   "pygments_lexer": "ipython3",
   "version": "3.9.13"
  }
 },
 "nbformat": 4,
 "nbformat_minor": 5
}

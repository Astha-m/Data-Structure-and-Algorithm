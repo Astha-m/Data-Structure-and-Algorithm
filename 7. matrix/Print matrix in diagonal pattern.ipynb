{
 "cells": [
  {
   "cell_type": "code",
   "execution_count": 1,
   "id": "16881d36",
   "metadata": {},
   "outputs": [
    {
     "data": {
      "text/plain": [
       "'\\nhttps://practice.geeksforgeeks.org/problems/print-matrix-in-diagonal-pattern/1?page=2&company[]=Amazon&category[]=Matrix&sortBy=submissions\\n\\n\\n\\nGiven a matrix M of n*n size, \\nthe task is to complete the \\nfunction which prints its elements\\nin a diagonal pattern as depicted below.\\n \\n\\n\\n \\n\\nExample 1:\\n\\nInput:\\nN = 3\\nmat[][] = {{1 2 3},{4 5 6},{7 8 9}}\\nOutput: 1 2 4 7 5 3 6 8 9\\nExample 2:\\n\\nInput:\\nN = 2\\nmat[][] = {{1 2},{3 4}}\\nOutput: 1 2 3 4\\n\\nYour Task:\\nYou only need to implement the \\ngiven function matrixDiagonally() \\nwhich returns a list containing the\\nmatrix diagonally. Do not read input,\\ninstead use the arguments given in the\\nfunction. Print the elements in Matrix\\nin a diagonal pattern.\\n\\nExpected Time Complexity: O(N*M)\\nExpected Auxiliary Space: O(1)\\nConstraints:\\n1<=N<=100\\n'"
      ]
     },
     "execution_count": 1,
     "metadata": {},
     "output_type": "execute_result"
    }
   ],
   "source": [
    "'''\n",
    "https://practice.geeksforgeeks.org/problems/print-matrix-in-diagonal-pattern/1?page=2&company[]=Amazon&category[]=Matrix&sortBy=submissions\n",
    "\n",
    "\n",
    "\n",
    "Given a matrix M of n*n size, \n",
    "the task is to complete the \n",
    "function which prints its elements\n",
    "in a diagonal pattern as depicted below.\n",
    " \n",
    "\n",
    "\n",
    " \n",
    "\n",
    "Example 1:\n",
    "\n",
    "Input:\n",
    "N = 3\n",
    "mat[][] = {{1 2 3},{4 5 6},{7 8 9}}\n",
    "Output: 1 2 4 7 5 3 6 8 9\n",
    "Example 2:\n",
    "\n",
    "Input:\n",
    "N = 2\n",
    "mat[][] = {{1 2},{3 4}}\n",
    "Output: 1 2 3 4\n",
    "\n",
    "Your Task:\n",
    "You only need to implement the \n",
    "given function matrixDiagonally() \n",
    "which returns a list containing the\n",
    "matrix diagonally. Do not read input,\n",
    "instead use the arguments given in the\n",
    "function. Print the elements in Matrix\n",
    "in a diagonal pattern.\n",
    "\n",
    "Expected Time Complexity: O(N*M)\n",
    "Expected Auxiliary Space: O(1)\n",
    "Constraints:\n",
    "1<=N<=100\n",
    "'''"
   ]
  },
  {
   "cell_type": "code",
   "execution_count": null,
   "id": "7c9ce1f3",
   "metadata": {},
   "outputs": [],
   "source": [
    "def matrixDiagonally(self,mat):\n",
    "    # code here\n",
    "    n=len(mat)\n",
    "    i = 0\n",
    "    j = 0\n",
    "    k = 0\n",
    "    # Direction is initially from down to up\n",
    "    isUp = True\n",
    "    ans=[]\n",
    "\n",
    "     # Traverse the matrix till all elements get traversed\n",
    "    while k<n * n:\n",
    "         # If isUp = True then traverse from downward\n",
    "         # to upward\n",
    "        if isUp:\n",
    "            while i >= 0 and j<n :\n",
    "                ans.append(mat[i][j])\n",
    "                k += 1\n",
    "                j += 1\n",
    "                i -= 1\n",
    "\n",
    "              # Set i and j according to direction\n",
    "            if i < 0 and j <= n - 1:\n",
    "                i = 0\n",
    "            if j == n:\n",
    "                i = i + 2\n",
    "                j -= 1\n",
    "\n",
    "         # If isUp = 0 then traverse up to down\n",
    "        else:\n",
    "            while j >= 0 and i<n :\n",
    "                ans.append(mat[i][j])\n",
    "                k += 1\n",
    "                i += 1\n",
    "                j -= 1\n",
    "\n",
    "              # Set i and j according to direction\n",
    "            if j < 0 and i <= n - 1:\n",
    "                j = 0\n",
    "            if i == n:\n",
    "                j = j + 2\n",
    "                i -= 1\n",
    "\n",
    "         # Revert the isUp to change the direction\n",
    "        isUp = not isUp\n",
    "    return ans"
   ]
  }
 ],
 "metadata": {
  "kernelspec": {
   "display_name": "Python 3 (ipykernel)",
   "language": "python",
   "name": "python3"
  },
  "language_info": {
   "codemirror_mode": {
    "name": "ipython",
    "version": 3
   },
   "file_extension": ".py",
   "mimetype": "text/x-python",
   "name": "python",
   "nbconvert_exporter": "python",
   "pygments_lexer": "ipython3",
   "version": "3.9.13"
  }
 },
 "nbformat": 4,
 "nbformat_minor": 5
}

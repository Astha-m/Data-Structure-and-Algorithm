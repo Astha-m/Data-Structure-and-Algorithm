{
 "cells": [
  {
   "cell_type": "code",
   "execution_count": 1,
   "id": "c92f8e0a",
   "metadata": {},
   "outputs": [
    {
     "name": "stdout",
     "output_type": "stream",
     "text": [
      "1 2 3 4 8 12 16 15 14 13 9 5 "
     ]
    }
   ],
   "source": [
    "def matrix_boundary(mat):\n",
    "    row=len(mat)\n",
    "    col=len(mat[0])\n",
    "    \n",
    "    for i in range(col):\n",
    "        print(mat[0][i],end=' ')\n",
    "        \n",
    "    for i in range(1,row):\n",
    "        print(mat[i][-1],end=' ')\n",
    "        \n",
    "    for i in range(col-2,-1,-1):\n",
    "        print(mat[-1][i],end=' ')\n",
    "        \n",
    "    for i in range(row-2,0,-1):\n",
    "        print(mat[i][0],end=' ')\n",
    "        \n",
    "        \n",
    "matrix_boundary([[1,2,3,4],[5,6,7,8],[9,10,11,12],[13,14,15,16]])"
   ]
  },
  {
   "cell_type": "code",
   "execution_count": null,
   "id": "42ea7b9d",
   "metadata": {},
   "outputs": [],
   "source": []
  }
 ],
 "metadata": {
  "kernelspec": {
   "display_name": "Python 3 (ipykernel)",
   "language": "python",
   "name": "python3"
  },
  "language_info": {
   "codemirror_mode": {
    "name": "ipython",
    "version": 3
   },
   "file_extension": ".py",
   "mimetype": "text/x-python",
   "name": "python",
   "nbconvert_exporter": "python",
   "pygments_lexer": "ipython3",
   "version": "3.9.8"
  }
 },
 "nbformat": 4,
 "nbformat_minor": 5
}

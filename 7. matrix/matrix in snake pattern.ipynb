{
 "cells": [
  {
   "cell_type": "code",
   "execution_count": 1,
   "id": "2210bd9c",
   "metadata": {},
   "outputs": [
    {
     "name": "stdout",
     "output_type": "stream",
     "text": [
      "1 2 3 4 8 7 6 5 9 10 11 12 16 15 14 13 "
     ]
    }
   ],
   "source": [
    "def matrix_snake(mat):\n",
    "    row=len(mat)\n",
    "    col=len(mat[0])\n",
    "    \n",
    "    for i in range(row):\n",
    "        if(i%2==0):\n",
    "            for j in range(col):\n",
    "                print(mat[i][j],end=' ')\n",
    "        else:\n",
    "            for j in range(col-1,-1,-1):\n",
    "                print(mat[i][j],end=' ')\n",
    "matrix_snake([[1,2,3,4],[5,6,7,8],[9,10,11,12],[13,14,15,16]])"
   ]
  },
  {
   "cell_type": "code",
   "execution_count": null,
   "id": "01d78226",
   "metadata": {},
   "outputs": [],
   "source": []
  }
 ],
 "metadata": {
  "kernelspec": {
   "display_name": "Python 3 (ipykernel)",
   "language": "python",
   "name": "python3"
  },
  "language_info": {
   "codemirror_mode": {
    "name": "ipython",
    "version": 3
   },
   "file_extension": ".py",
   "mimetype": "text/x-python",
   "name": "python",
   "nbconvert_exporter": "python",
   "pygments_lexer": "ipython3",
   "version": "3.9.8"
  }
 },
 "nbformat": 4,
 "nbformat_minor": 5
}

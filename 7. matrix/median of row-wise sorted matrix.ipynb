{
 "cells": [
  {
   "cell_type": "code",
   "execution_count": 8,
   "id": "3cf48df3",
   "metadata": {},
   "outputs": [
    {
     "data": {
      "text/plain": [
       "20"
      ]
     },
     "execution_count": 8,
     "metadata": {},
     "output_type": "execute_result"
    }
   ],
   "source": [
    "import bisect\n",
    "def median_row_sorted_mat(mat):\n",
    "    row=len(mat)\n",
    "    col=len(mat[0])\n",
    "    \n",
    "    mini=mat[0][0]\n",
    "    maxi=mat[0][-1]\n",
    "    for i in range(1,row):\n",
    "        mini=min(mini,mat[i][0])\n",
    "        maxi=max(maxi,mat[i][-1])\n",
    "        \n",
    "    medpos=(row*col+1)//2\n",
    "    #print(medpos)\n",
    "    while(mini<=maxi):\n",
    "        mid=(mini+maxi)//2\n",
    "        \n",
    "        pos=0\n",
    "        for i in range(row):\n",
    "            pos+=bisect.bisect_right(mat[i],mid)\n",
    "        #print(mid,pos)\n",
    "        if(pos<medpos):\n",
    "            mini=mid+1\n",
    "        else:\n",
    "            maxi=mid-1\n",
    "    return mini\n",
    "\n",
    "median_row_sorted_mat([[1,10,20],[15,25,35],[5,30,40]])"
   ]
  },
  {
   "cell_type": "code",
   "execution_count": null,
   "id": "450b25c0",
   "metadata": {},
   "outputs": [],
   "source": []
  }
 ],
 "metadata": {
  "kernelspec": {
   "display_name": "Python 3 (ipykernel)",
   "language": "python",
   "name": "python3"
  },
  "language_info": {
   "codemirror_mode": {
    "name": "ipython",
    "version": 3
   },
   "file_extension": ".py",
   "mimetype": "text/x-python",
   "name": "python",
   "nbconvert_exporter": "python",
   "pygments_lexer": "ipython3",
   "version": "3.9.8"
  }
 },
 "nbformat": 4,
 "nbformat_minor": 5
}

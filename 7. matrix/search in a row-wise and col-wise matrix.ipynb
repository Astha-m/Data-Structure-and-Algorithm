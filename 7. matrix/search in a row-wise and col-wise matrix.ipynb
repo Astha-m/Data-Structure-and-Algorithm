{
 "cells": [
  {
   "cell_type": "code",
   "execution_count": 1,
   "id": "fd10e0bf",
   "metadata": {},
   "outputs": [
    {
     "name": "stdout",
     "output_type": "stream",
     "text": [
      "2 1\n"
     ]
    }
   ],
   "source": [
    "def searcher(mat,key):\n",
    "    row=len(mat)\n",
    "    col=len(mat[0])\n",
    "    i=0\n",
    "    j=0\n",
    "    \n",
    "    j=col-1\n",
    "    \n",
    "    while(i>=0 and j<col):\n",
    "        curr=mat[i][j]\n",
    "        \n",
    "        if(curr==key):\n",
    "            print(i,j)\n",
    "            return\n",
    "        elif(curr<key):\n",
    "            i+=1\n",
    "        elif(curr>key):\n",
    "            j-=1\n",
    "searcher([[10,20,30,40],[15,25,35,45],[27,29,37,48],[32,33,39,50]],29)"
   ]
  },
  {
   "cell_type": "code",
   "execution_count": null,
   "id": "7f0c3e58",
   "metadata": {},
   "outputs": [],
   "source": []
  }
 ],
 "metadata": {
  "kernelspec": {
   "display_name": "Python 3 (ipykernel)",
   "language": "python",
   "name": "python3"
  },
  "language_info": {
   "codemirror_mode": {
    "name": "ipython",
    "version": 3
   },
   "file_extension": ".py",
   "mimetype": "text/x-python",
   "name": "python",
   "nbconvert_exporter": "python",
   "pygments_lexer": "ipython3",
   "version": "3.9.8"
  }
 },
 "nbformat": 4,
 "nbformat_minor": 5
}

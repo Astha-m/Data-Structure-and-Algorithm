{
 "cells": [
  {
   "cell_type": "code",
   "execution_count": 1,
   "id": "41dc3de5",
   "metadata": {},
   "outputs": [
    {
     "data": {
      "text/plain": [
       "\"\\nhttps://practice.geeksforgeeks.org/problems/longest-arithmetic-progression1019/1?page=7&company[]=Amazon&category[]=Arrays&sortBy=submissions\\n\\n\\nGiven an array called A[] of sorted \\nintegers having no duplicates, find\\nthe length of the Longest Arithmetic\\nProgression (LLAP) in it.\\n\\n\\nExample 1:\\n\\nInput:\\nN = 6\\nset[] = {1, 7, 10, 13, 14, 19}\\nOutput: 4\\nExplanation: The longest arithmetic \\nprogression is {1, 7, 13, 19}.\\nExample 2:\\n\\nInput:\\nN = 5\\nA[] = {2, 4, 6, 8, 10}\\nOutput: 5\\nExplanation: The whole set is in AP.\\n\\nYour Task:\\nYou don't need to read input or print \\nanything. Your task is to complete the \\nfunction lenghtOfLongestAP() which takes\\nthe array of integers called set[] \\nand n as input parameters and returns\\nthe length of LLAP.\\n\\nExpected Time Complexity: O(N2)\\nExpected Auxiliary Space: O(N2)\\n\\nConstraints:\\n1 ≤ N ≤ 1000\\n1 ≤ set[i] ≤ 104\\n\""
      ]
     },
     "execution_count": 1,
     "metadata": {},
     "output_type": "execute_result"
    }
   ],
   "source": [
    "'''\n",
    "https://practice.geeksforgeeks.org/problems/longest-arithmetic-progression1019/1?page=7&company[]=Amazon&category[]=Arrays&sortBy=submissions\n",
    "\n",
    "\n",
    "Given an array called A[] of sorted \n",
    "integers having no duplicates, find\n",
    "the length of the Longest Arithmetic\n",
    "Progression (LLAP) in it.\n",
    "\n",
    "\n",
    "Example 1:\n",
    "\n",
    "Input:\n",
    "N = 6\n",
    "set[] = {1, 7, 10, 13, 14, 19}\n",
    "Output: 4\n",
    "Explanation: The longest arithmetic \n",
    "progression is {1, 7, 13, 19}.\n",
    "Example 2:\n",
    "\n",
    "Input:\n",
    "N = 5\n",
    "A[] = {2, 4, 6, 8, 10}\n",
    "Output: 5\n",
    "Explanation: The whole set is in AP.\n",
    "\n",
    "Your Task:\n",
    "You don't need to read input or print \n",
    "anything. Your task is to complete the \n",
    "function lenghtOfLongestAP() which takes\n",
    "the array of integers called set[] \n",
    "and n as input parameters and returns\n",
    "the length of LLAP.\n",
    "\n",
    "Expected Time Complexity: O(N2)\n",
    "Expected Auxiliary Space: O(N2)\n",
    "\n",
    "Constraints:\n",
    "1 ≤ N ≤ 1000\n",
    "1 ≤ set[i] ≤ 104\n",
    "'''"
   ]
  },
  {
   "cell_type": "code",
   "execution_count": null,
   "id": "0b969b2b",
   "metadata": {},
   "outputs": [],
   "source": [
    "def lengthOfLongestAP(self, arr, n):\n",
    "    # code here\n",
    "    from collections import defaultdict\n",
    "    dp={}\n",
    "\n",
    "    mx=0\n",
    "    for i in range(n):\n",
    "        dp[i]=defaultdict(int)\n",
    "        for j in range(i):\n",
    "            diff=arr[i]-arr[j]\n",
    "\n",
    "            dp[i][diff]=dp[j][diff]+1\n",
    "\n",
    "            mx=max(dp[i][diff],mx)\n",
    "    return mx+1\n",
    "            "
   ]
  }
 ],
 "metadata": {
  "kernelspec": {
   "display_name": "Python 3 (ipykernel)",
   "language": "python",
   "name": "python3"
  },
  "language_info": {
   "codemirror_mode": {
    "name": "ipython",
    "version": 3
   },
   "file_extension": ".py",
   "mimetype": "text/x-python",
   "name": "python",
   "nbconvert_exporter": "python",
   "pygments_lexer": "ipython3",
   "version": "3.9.13"
  }
 },
 "nbformat": 4,
 "nbformat_minor": 5
}

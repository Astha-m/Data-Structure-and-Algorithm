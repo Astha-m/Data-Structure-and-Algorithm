{
 "cells": [
  {
   "cell_type": "code",
   "execution_count": 1,
   "id": "b80181b0",
   "metadata": {},
   "outputs": [
    {
     "data": {
      "text/plain": [
       "\"\\n\\n\\n\\nYou are given an array A of N positive \\nand/or negative integers and a value K. \\nThe task is to find the count of all \\nsub-arrays whose sum is divisible by K.\\n\\nExample 1:\\n\\nInput: N = 6, K = 5\\n       arr[] = {4, 5, 0, -2, -3, 1}\\nOutput: 7\\nExplanation: There are 7 sub-arrays whose \\nis divisible by K {4, 5, 0, -2, -3, 1}, {5}, \\n{5, 0}, {5, 0, -2, -3}, {0}, {0, -2, -3} \\nand {-2, -3}\\nExample 2:\\n\\nInput: N = 6, K = 2\\n       arr[] = {2, 2, 2, 2, 2, 2}\\nOutput: 21\\nExplanation: All subarray sums are \\ndivisible by 7\\n\\n \\n\\nYour Task:\\nThis is a function problem. You don't need \\nto take any input, as it is already accomplished\\nby the driver code. You just need to complete the\\nfunction subCount() that takes array arr,\\ninteger N, and integer K as parameters and \\nreturns the desired output.\\n\\nExpected Time Complexity: O(N+K).\\nExpected Auxiliary Space: O(K).\\n\\n\""
      ]
     },
     "execution_count": 1,
     "metadata": {},
     "output_type": "execute_result"
    }
   ],
   "source": [
    "'''\n",
    "https://practice.geeksforgeeks.org/problems/sub-array-sum-divisible-by-k2617/1?page=8&company[]=Amazon&category[]=Arrays&sortBy=submissions\n",
    "\n",
    "\n",
    "You are given an array A of N positive \n",
    "and/or negative integers and a value K. \n",
    "The task is to find the count of all \n",
    "sub-arrays whose sum is divisible by K.\n",
    "\n",
    "Example 1:\n",
    "\n",
    "Input: N = 6, K = 5\n",
    "       arr[] = {4, 5, 0, -2, -3, 1}\n",
    "Output: 7\n",
    "Explanation: There are 7 sub-arrays whose \n",
    "is divisible by K {4, 5, 0, -2, -3, 1}, {5}, \n",
    "{5, 0}, {5, 0, -2, -3}, {0}, {0, -2, -3} \n",
    "and {-2, -3}\n",
    "Example 2:\n",
    "\n",
    "Input: N = 6, K = 2\n",
    "       arr[] = {2, 2, 2, 2, 2, 2}\n",
    "Output: 21\n",
    "Explanation: All subarray sums are \n",
    "divisible by 7\n",
    "\n",
    " \n",
    "\n",
    "Your Task:\n",
    "This is a function problem. You don't need \n",
    "to take any input, as it is already accomplished\n",
    "by the driver code. You just need to complete the\n",
    "function subCount() that takes array arr,\n",
    "integer N, and integer K as parameters and \n",
    "returns the desired output.\n",
    "\n",
    "Expected Time Complexity: O(N+K).\n",
    "Expected Auxiliary Space: O(K).\n",
    "\n",
    "'''"
   ]
  },
  {
   "cell_type": "code",
   "execution_count": 2,
   "id": "4eafd5f5",
   "metadata": {},
   "outputs": [],
   "source": [
    "def subCount(self,arr, n, k):\n",
    "    # Your code goes here\n",
    "    from collections import defaultdict\n",
    "    d=defaultdict(int)\n",
    "    d[0]=1\n",
    "    pre=0\n",
    "    res=0\n",
    "\n",
    "    for i in range(n):\n",
    "        pre+=arr[i]\n",
    "        mod=pre%k\n",
    "        if(mod<0):\n",
    "            mod+=k\n",
    "        if(d[mod]>0):\n",
    "            res+=d[mod]\n",
    "        d[mod]+=1\n",
    "    return res\n"
   ]
  },
  {
   "cell_type": "code",
   "execution_count": null,
   "id": "f8cf46cd",
   "metadata": {},
   "outputs": [],
   "source": []
  }
 ],
 "metadata": {
  "kernelspec": {
   "display_name": "Python 3 (ipykernel)",
   "language": "python",
   "name": "python3"
  },
  "language_info": {
   "codemirror_mode": {
    "name": "ipython",
    "version": 3
   },
   "file_extension": ".py",
   "mimetype": "text/x-python",
   "name": "python",
   "nbconvert_exporter": "python",
   "pygments_lexer": "ipython3",
   "version": "3.9.13"
  }
 },
 "nbformat": 4,
 "nbformat_minor": 5
}

{
 "cells": [
  {
   "cell_type": "code",
   "execution_count": null,
   "id": "4510721c",
   "metadata": {},
   "outputs": [],
   "source": [
    "'''\n",
    "You are given a array arr[] of size n. Find the total count of sub-arrays having their sum equal to 0.\n",
    "\n",
    "\n",
    "Example 1:\n",
    "\n",
    "Input:\n",
    "n = 6\n",
    "arr[] = {0,0,5,5,0,0}\n",
    "Output: 6\n",
    "Explanation: The 6 subarrays are \n",
    "[0], [0], [0], [0], [0,0], and [0,0].\n",
    "\n",
    "Example 2:\n",
    "\n",
    "Input:\n",
    "n = 10\n",
    "arr[] = {6,-1,-3,4,-2,2,4,6,-12,-7}\n",
    "Output: 4\n",
    "Explanation: The 4 subarrays are [-1 -3 4]\n",
    "[-2 2], [2 4 6 -12], and [-1 -3 4 -2 2]\n",
    "'''"
   ]
  },
  {
   "cell_type": "code",
   "execution_count": null,
   "id": "9cad084c",
   "metadata": {},
   "outputs": [],
   "source": [
    "def findSubArrays(self,arr,n):\n",
    "        d=dict()\n",
    "        count=0\n",
    "        prefix=0\n",
    "        for i in range(n):\n",
    "            prefix+=arr[i]\n",
    "            if(prefix==0 and arr[i]==0):\n",
    "                count+=1\n",
    "                if(prefix in d):\n",
    "                    count+=len(d[prefix])\n",
    "                    d[prefix].append(i)\n",
    "                else:\n",
    "                    d[prefix]=[i]\n",
    "            else:\n",
    "                if(prefix not in d):\n",
    "                    d[prefix]=[i]\n",
    "                else:\n",
    "                    count+=len(d[prefix])\n",
    "                    d[prefix].append(i)\n",
    "            if(prefix==0 and arr[i]!=0):\n",
    "                count+=1\n",
    "        return count\n",
    "            "
   ]
  }
 ],
 "metadata": {
  "kernelspec": {
   "display_name": "Python 3 (ipykernel)",
   "language": "python",
   "name": "python3"
  },
  "language_info": {
   "codemirror_mode": {
    "name": "ipython",
    "version": 3
   },
   "file_extension": ".py",
   "mimetype": "text/x-python",
   "name": "python",
   "nbconvert_exporter": "python",
   "pygments_lexer": "ipython3",
   "version": "3.9.8"
  }
 },
 "nbformat": 4,
 "nbformat_minor": 5
}

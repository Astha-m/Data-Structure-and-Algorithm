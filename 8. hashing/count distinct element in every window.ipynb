{
 "cells": [
  {
   "cell_type": "code",
   "execution_count": 1,
   "id": "3090ac1d",
   "metadata": {},
   "outputs": [
    {
     "name": "stdout",
     "output_type": "stream",
     "text": [
      "2\n",
      "3\n",
      "4\n",
      "3\n"
     ]
    }
   ],
   "source": [
    "from collections import defaultdict\n",
    "def count_distinct(arr,k):\n",
    "    d=defaultdict(int)\n",
    "    \n",
    "    for i in range(k):\n",
    "        d[arr[i]]+=1\n",
    "    print(len(d))\n",
    "    for i in range(k,len(arr)):\n",
    "        d[arr[i]]+=1\n",
    "        d[arr[i-k]]-=1\n",
    "        if(d[arr[i-k]]==0):\n",
    "            del d[arr[i-k]]\n",
    "        print(len(d))\n",
    "count_distinct([10,20,20,10,30,40,10],4)"
   ]
  },
  {
   "cell_type": "code",
   "execution_count": null,
   "id": "22b50c16",
   "metadata": {},
   "outputs": [],
   "source": []
  }
 ],
 "metadata": {
  "kernelspec": {
   "display_name": "Python 3 (ipykernel)",
   "language": "python",
   "name": "python3"
  },
  "language_info": {
   "codemirror_mode": {
    "name": "ipython",
    "version": 3
   },
   "file_extension": ".py",
   "mimetype": "text/x-python",
   "name": "python",
   "nbconvert_exporter": "python",
   "pygments_lexer": "ipython3",
   "version": "3.9.8"
  }
 },
 "nbformat": 4,
 "nbformat_minor": 5
}

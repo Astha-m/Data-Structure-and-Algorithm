{
 "cells": [
  {
   "cell_type": "code",
   "execution_count": 5,
   "id": "df7cd42c",
   "metadata": {},
   "outputs": [],
   "source": [
    "def countsum(arr,k):\n",
    "    n=len(arr)\n",
    "    from collections import defaultdict\n",
    "    d=defaultdict(int)\n",
    "    count=0\n",
    "    \n",
    "    prefix=0\n",
    "    for i in range(n):\n",
    "        prefix+=arr[i]\n",
    "        \n",
    "        if(prefix==k):\n",
    "            count+=1\n",
    "            \n",
    "        al=0\n",
    "        if(prefix-k in d):\n",
    "            al=d[prefix-k]\n",
    "            \n",
    "            count+=al\n",
    "        \n",
    "        d[prefix]+=1\n",
    "    return count"
   ]
  },
  {
   "cell_type": "code",
   "execution_count": 6,
   "id": "490169f0",
   "metadata": {},
   "outputs": [
    {
     "data": {
      "text/plain": [
       "3"
      ]
     },
     "execution_count": 6,
     "metadata": {},
     "output_type": "execute_result"
    }
   ],
   "source": [
    "countsum([10, 2, -2, -20, 10] ,-10)"
   ]
  },
  {
   "cell_type": "code",
   "execution_count": null,
   "id": "84cd086d",
   "metadata": {},
   "outputs": [],
   "source": []
  }
 ],
 "metadata": {
  "kernelspec": {
   "display_name": "Python 3 (ipykernel)",
   "language": "python",
   "name": "python3"
  },
  "language_info": {
   "codemirror_mode": {
    "name": "ipython",
    "version": 3
   },
   "file_extension": ".py",
   "mimetype": "text/x-python",
   "name": "python",
   "nbconvert_exporter": "python",
   "pygments_lexer": "ipython3",
   "version": "3.9.13"
  }
 },
 "nbformat": 4,
 "nbformat_minor": 5
}

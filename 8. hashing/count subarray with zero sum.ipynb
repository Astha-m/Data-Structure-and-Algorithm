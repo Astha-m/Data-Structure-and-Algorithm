{
 "cells": [
  {
   "cell_type": "code",
   "execution_count": 1,
   "id": "4f19c591",
   "metadata": {},
   "outputs": [],
   "source": [
    "def count0(arr):\n",
    "    n=len(arr)\n",
    "    d=dict()\n",
    "    \n",
    "    count=0\n",
    "    \n",
    "    prefix=0\n",
    "    for i in range(n):\n",
    "        prefix+=arr[i]\n",
    "        \n",
    "        if(prefix==0):\n",
    "            count+=1\n",
    "        \n",
    "        al=0\n",
    "        \n",
    "        if(prefix-0 in d):\n",
    "            al=d[prefix-0]\n",
    "            \n",
    "            count+=al\n",
    "        \n",
    "        d[prefix]=al+1\n",
    "    return count"
   ]
  },
  {
   "cell_type": "code",
   "execution_count": 3,
   "id": "95ac28b8",
   "metadata": {},
   "outputs": [
    {
     "data": {
      "text/plain": [
       "6"
      ]
     },
     "execution_count": 3,
     "metadata": {},
     "output_type": "execute_result"
    }
   ],
   "source": [
    "count0([0,0,5,5,0,0])"
   ]
  },
  {
   "cell_type": "code",
   "execution_count": null,
   "id": "fae0eb55",
   "metadata": {},
   "outputs": [],
   "source": []
  }
 ],
 "metadata": {
  "kernelspec": {
   "display_name": "Python 3 (ipykernel)",
   "language": "python",
   "name": "python3"
  },
  "language_info": {
   "codemirror_mode": {
    "name": "ipython",
    "version": 3
   },
   "file_extension": ".py",
   "mimetype": "text/x-python",
   "name": "python",
   "nbconvert_exporter": "python",
   "pygments_lexer": "ipython3",
   "version": "3.9.13"
  }
 },
 "nbformat": 4,
 "nbformat_minor": 5
}

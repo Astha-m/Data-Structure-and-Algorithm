{
 "cells": [
  {
   "cell_type": "code",
   "execution_count": 1,
   "id": "bd324943",
   "metadata": {},
   "outputs": [],
   "source": [
    "def intersection(arr1,arr2):\n",
    "    s1=set(arr1)\n",
    "    s2=set(arr2)\n",
    "    print(s1 & s2)"
   ]
  },
  {
   "cell_type": "code",
   "execution_count": 2,
   "id": "1cfec622",
   "metadata": {},
   "outputs": [
    {
     "name": "stdout",
     "output_type": "stream",
     "text": [
      "{5, 30}\n"
     ]
    }
   ],
   "source": [
    "intersection([10,15,20,15,30,30,5],[30,5,30,80])"
   ]
  },
  {
   "cell_type": "code",
   "execution_count": null,
   "id": "dd1f71c9",
   "metadata": {},
   "outputs": [],
   "source": []
  }
 ],
 "metadata": {
  "kernelspec": {
   "display_name": "Python 3 (ipykernel)",
   "language": "python",
   "name": "python3"
  },
  "language_info": {
   "codemirror_mode": {
    "name": "ipython",
    "version": 3
   },
   "file_extension": ".py",
   "mimetype": "text/x-python",
   "name": "python",
   "nbconvert_exporter": "python",
   "pygments_lexer": "ipython3",
   "version": "3.9.8"
  }
 },
 "nbformat": 4,
 "nbformat_minor": 5
}

{
 "cells": [
  {
   "cell_type": "code",
   "execution_count": 1,
   "id": "a944aebd",
   "metadata": {},
   "outputs": [],
   "source": [
    "def longest_consecutive_subsequence(arr):\n",
    "    d=set(arr)\n",
    "    res=0\n",
    "    for i in arr:\n",
    "        count=1\n",
    "        if(i-1 not in d):\n",
    "            while(count+i in d):\n",
    "                count+=1\n",
    "            res=max(res,count)\n",
    "    return res\n"
   ]
  },
  {
   "cell_type": "code",
   "execution_count": 2,
   "id": "bfb877ed",
   "metadata": {},
   "outputs": [
    {
     "data": {
      "text/plain": [
       "4"
      ]
     },
     "execution_count": 2,
     "metadata": {},
     "output_type": "execute_result"
    }
   ],
   "source": [
    "longest_consecutive_subsequence([1,9,3,4,2,20])"
   ]
  },
  {
   "cell_type": "code",
   "execution_count": null,
   "id": "c6e6f02a",
   "metadata": {},
   "outputs": [],
   "source": []
  }
 ],
 "metadata": {
  "kernelspec": {
   "display_name": "Python 3 (ipykernel)",
   "language": "python",
   "name": "python3"
  },
  "language_info": {
   "codemirror_mode": {
    "name": "ipython",
    "version": 3
   },
   "file_extension": ".py",
   "mimetype": "text/x-python",
   "name": "python",
   "nbconvert_exporter": "python",
   "pygments_lexer": "ipython3",
   "version": "3.9.8"
  }
 },
 "nbformat": 4,
 "nbformat_minor": 5
}

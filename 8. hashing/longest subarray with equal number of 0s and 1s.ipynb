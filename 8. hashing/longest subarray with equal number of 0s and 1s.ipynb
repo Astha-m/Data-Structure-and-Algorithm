{
 "cells": [
  {
   "cell_type": "code",
   "execution_count": 5,
   "id": "597f4c79",
   "metadata": {},
   "outputs": [],
   "source": [
    "def longest_binary_subarray(arr):\n",
    "    for i in range(len(arr)):\n",
    "        if(arr[i]==0):\n",
    "            arr[i]=-1\n",
    "    \n",
    "    d=dict()\n",
    "    prefix_sum=0\n",
    "    res=0\n",
    "    for i in range(len(arr)):\n",
    "        prefix_sum+=arr[i]\n",
    "        if(prefix_sum==0):\n",
    "            res=i+1\n",
    "        elif(prefix_sum-0 in d):\n",
    "            res=max(res,i-d[prefix_sum-0])\n",
    "        else:\n",
    "            if(prefix_sum not in d):\n",
    "                d[prefix_sum]=i\n",
    "        #print(d,res)\n",
    "    return res"
   ]
  },
  {
   "cell_type": "code",
   "execution_count": 6,
   "id": "28ea600c",
   "metadata": {},
   "outputs": [
    {
     "name": "stdout",
     "output_type": "stream",
     "text": [
      "{-1: 0} 0\n",
      "{-1: 0, -2: 1} 0\n",
      "{-1: 0, -2: 1} 2\n",
      "{-1: 0, -2: 1} 4\n",
      "{-1: 0, -2: 1, 1: 4} 4\n",
      "{-1: 0, -2: 1, 1: 4, 2: 5} 4\n",
      "{-1: 0, -2: 1, 1: 4, 2: 5, 3: 6} 4\n",
      "{-1: 0, -2: 1, 1: 4, 2: 5, 3: 6} 4\n"
     ]
    },
    {
     "data": {
      "text/plain": [
       "4"
      ]
     },
     "execution_count": 6,
     "metadata": {},
     "output_type": "execute_result"
    }
   ],
   "source": [
    "longest_binary_subarray([0,0,1,1,1,1,1,0])"
   ]
  },
  {
   "cell_type": "code",
   "execution_count": null,
   "id": "1d3920c0",
   "metadata": {},
   "outputs": [],
   "source": []
  }
 ],
 "metadata": {
  "kernelspec": {
   "display_name": "Python 3 (ipykernel)",
   "language": "python",
   "name": "python3"
  },
  "language_info": {
   "codemirror_mode": {
    "name": "ipython",
    "version": 3
   },
   "file_extension": ".py",
   "mimetype": "text/x-python",
   "name": "python",
   "nbconvert_exporter": "python",
   "pygments_lexer": "ipython3",
   "version": "3.9.8"
  }
 },
 "nbformat": 4,
 "nbformat_minor": 5
}

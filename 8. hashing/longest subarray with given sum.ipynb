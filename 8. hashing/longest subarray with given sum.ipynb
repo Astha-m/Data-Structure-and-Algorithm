{
 "cells": [
  {
   "cell_type": "code",
   "execution_count": 7,
   "id": "07d94be2",
   "metadata": {},
   "outputs": [
    {
     "name": "stdout",
     "output_type": "stream",
     "text": [
      "{8: 0} 0\n",
      "{8: 0, 11: 1} 0\n",
      "{8: 0, 11: 1} 2\n",
      "{8: 0, 11: 1, 17: 3} 2\n",
      "{8: 0, 11: 1, 17: 3} 2\n",
      "{8: 0, 11: 1, 17: 3} 2\n",
      "{8: 0, 11: 1, 17: 3, 19: 6} 2\n",
      "{8: 0, 11: 1, 17: 3, 19: 6} 4\n"
     ]
    },
    {
     "data": {
      "text/plain": [
       "4"
      ]
     },
     "execution_count": 7,
     "metadata": {},
     "output_type": "execute_result"
    }
   ],
   "source": [
    "def longest_subarray_given_sum(arr,k):\n",
    "    d=dict()\n",
    "    prefix_sum=0\n",
    "    res=0\n",
    "    for i in range(len(arr)):\n",
    "        prefix_sum+=arr[i]\n",
    "        if(prefix_sum==k):\n",
    "            res=i+1\n",
    "        elif(prefix_sum-k in d):\n",
    "            res=max(res,i-d[prefix_sum-k])\n",
    "        else:\n",
    "            if(prefix_sum not in d):\n",
    "                d[prefix_sum]=i\n",
    "        print(d,res)\n",
    "    return res\n",
    "longest_subarray_given_sum([8,3,1,5,-6,6,2,2],4)"
   ]
  },
  {
   "cell_type": "code",
   "execution_count": null,
   "id": "b71f6fdd",
   "metadata": {},
   "outputs": [],
   "source": []
  }
 ],
 "metadata": {
  "kernelspec": {
   "display_name": "Python 3 (ipykernel)",
   "language": "python",
   "name": "python3"
  },
  "language_info": {
   "codemirror_mode": {
    "name": "ipython",
    "version": 3
   },
   "file_extension": ".py",
   "mimetype": "text/x-python",
   "name": "python",
   "nbconvert_exporter": "python",
   "pygments_lexer": "ipython3",
   "version": "3.9.8"
  }
 },
 "nbformat": 4,
 "nbformat_minor": 5
}

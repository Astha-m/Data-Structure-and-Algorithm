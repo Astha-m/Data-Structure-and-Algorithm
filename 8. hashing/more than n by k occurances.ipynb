{
 "cells": [
  {
   "cell_type": "code",
   "execution_count": 7,
   "id": "f8f24985",
   "metadata": {},
   "outputs": [],
   "source": [
    "from collections import defaultdict\n",
    "def more_than_n_k(arr,k):\n",
    "    n=len(arr)\n",
    "    \n",
    "    d=dict()\n",
    "    for i in arr:\n",
    "        if(i in d):\n",
    "            d[i]+=1\n",
    "        elif(len(d)<k-1):\n",
    "            d[i]=1\n",
    "        else:\n",
    "            for j in list(d.keys()):\n",
    "                d[j]-=1\n",
    "                if(d[j]==0):\n",
    "                    del d[j]\n",
    "            \n",
    "                \n",
    "    print(d)\n",
    "    d1=defaultdict(int)\n",
    "    for i in arr:\n",
    "        d1[i]+=1\n",
    "    lst=[]\n",
    "    for i in d.keys():\n",
    "        if(d1[i]>=n/k):\n",
    "            lst.append(i)\n",
    "    return lst"
   ]
  },
  {
   "cell_type": "code",
   "execution_count": 8,
   "id": "55a37416",
   "metadata": {},
   "outputs": [
    {
     "name": "stdout",
     "output_type": "stream",
     "text": [
      "{10: 1, 20: 2, 30: 2}\n"
     ]
    },
    {
     "data": {
      "text/plain": [
       "[20, 30]"
      ]
     },
     "execution_count": 8,
     "metadata": {},
     "output_type": "execute_result"
    }
   ],
   "source": [
    "more_than_n_k([30,10,20,20,20,10,40,30,30],4)"
   ]
  },
  {
   "cell_type": "code",
   "execution_count": null,
   "id": "8501fb16",
   "metadata": {},
   "outputs": [],
   "source": []
  }
 ],
 "metadata": {
  "kernelspec": {
   "display_name": "Python 3 (ipykernel)",
   "language": "python",
   "name": "python3"
  },
  "language_info": {
   "codemirror_mode": {
    "name": "ipython",
    "version": 3
   },
   "file_extension": ".py",
   "mimetype": "text/x-python",
   "name": "python",
   "nbconvert_exporter": "python",
   "pygments_lexer": "ipython3",
   "version": "3.9.8"
  }
 },
 "nbformat": 4,
 "nbformat_minor": 5
}

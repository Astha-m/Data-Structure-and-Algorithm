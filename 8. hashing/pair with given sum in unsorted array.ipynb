{
 "cells": [
  {
   "cell_type": "code",
   "execution_count": 1,
   "id": "089dd66a",
   "metadata": {},
   "outputs": [],
   "source": [
    "from collections import defaultdict\n",
    "def find_pair_sum(arr,target):\n",
    "    d=defaultdict(int)\n",
    "    \n",
    "    for i in arr:\n",
    "        if(d[target-i]==1):\n",
    "            return {i,target-i}\n",
    "        else:\n",
    "            d[i]=1\n",
    "    return -1"
   ]
  },
  {
   "cell_type": "code",
   "execution_count": 3,
   "id": "f32e6f22",
   "metadata": {},
   "outputs": [
    {
     "data": {
      "text/plain": [
       "{-3, 6}"
      ]
     },
     "execution_count": 3,
     "metadata": {},
     "output_type": "execute_result"
    }
   ],
   "source": [
    "find_pair_sum([5,8,-3,6],3)"
   ]
  },
  {
   "cell_type": "code",
   "execution_count": null,
   "id": "d183f285",
   "metadata": {},
   "outputs": [],
   "source": []
  }
 ],
 "metadata": {
  "kernelspec": {
   "display_name": "Python 3 (ipykernel)",
   "language": "python",
   "name": "python3"
  },
  "language_info": {
   "codemirror_mode": {
    "name": "ipython",
    "version": 3
   },
   "file_extension": ".py",
   "mimetype": "text/x-python",
   "name": "python",
   "nbconvert_exporter": "python",
   "pygments_lexer": "ipython3",
   "version": "3.9.8"
  }
 },
 "nbformat": 4,
 "nbformat_minor": 5
}

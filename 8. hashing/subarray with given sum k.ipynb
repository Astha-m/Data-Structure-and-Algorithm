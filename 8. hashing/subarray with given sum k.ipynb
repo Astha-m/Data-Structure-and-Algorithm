{
 "cells": [
  {
   "cell_type": "code",
   "execution_count": 1,
   "id": "b3fc9394",
   "metadata": {},
   "outputs": [],
   "source": [
    "def subarray_given_sum_k(arr,k):\n",
    "    d=set()\n",
    "    prefix_sum=0\n",
    "    for i in arr:\n",
    "        prefix_sum+=i\n",
    "        if(prefix_sum==k):\n",
    "            return True\n",
    "        if(prefix_sum-k in d):\n",
    "            return True\n",
    "        else:\n",
    "            d.add(prefix_sum)"
   ]
  },
  {
   "cell_type": "code",
   "execution_count": 2,
   "id": "f5f02d11",
   "metadata": {},
   "outputs": [
    {
     "data": {
      "text/plain": [
       "True"
      ]
     },
     "execution_count": 2,
     "metadata": {},
     "output_type": "execute_result"
    }
   ],
   "source": [
    "subarray_given_sum_k([5,8,6,13,3,-1],22)"
   ]
  },
  {
   "cell_type": "code",
   "execution_count": null,
   "id": "c747a50b",
   "metadata": {},
   "outputs": [],
   "source": []
  }
 ],
 "metadata": {
  "kernelspec": {
   "display_name": "Python 3 (ipykernel)",
   "language": "python",
   "name": "python3"
  },
  "language_info": {
   "codemirror_mode": {
    "name": "ipython",
    "version": 3
   },
   "file_extension": ".py",
   "mimetype": "text/x-python",
   "name": "python",
   "nbconvert_exporter": "python",
   "pygments_lexer": "ipython3",
   "version": "3.9.8"
  }
 },
 "nbformat": 4,
 "nbformat_minor": 5
}

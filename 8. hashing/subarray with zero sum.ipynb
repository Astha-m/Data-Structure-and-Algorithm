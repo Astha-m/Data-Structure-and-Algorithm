{
 "cells": [
  {
   "cell_type": "code",
   "execution_count": 1,
   "id": "cb0239bd",
   "metadata": {},
   "outputs": [
    {
     "data": {
      "text/plain": [
       "True"
      ]
     },
     "execution_count": 1,
     "metadata": {},
     "output_type": "execute_result"
    }
   ],
   "source": [
    "\n",
    "def subarray_0_sum(arr):\n",
    "    d=set()\n",
    "    prefix_sum=0\n",
    "    for i in arr:\n",
    "        prefix_sum+=i\n",
    "        if(prefix_sum==0):\n",
    "            return True\n",
    "        if(prefix_sum-0 in d):\n",
    "            return True\n",
    "        else:\n",
    "            d.add(prefix_sum)\n",
    "subarray_0_sum([3,4,3,-1,1])"
   ]
  },
  {
   "cell_type": "code",
   "execution_count": null,
   "id": "ea4d1d40",
   "metadata": {},
   "outputs": [],
   "source": []
  }
 ],
 "metadata": {
  "kernelspec": {
   "display_name": "Python 3 (ipykernel)",
   "language": "python",
   "name": "python3"
  },
  "language_info": {
   "codemirror_mode": {
    "name": "ipython",
    "version": 3
   },
   "file_extension": ".py",
   "mimetype": "text/x-python",
   "name": "python",
   "nbconvert_exporter": "python",
   "pygments_lexer": "ipython3",
   "version": "3.9.8"
  }
 },
 "nbformat": 4,
 "nbformat_minor": 5
}

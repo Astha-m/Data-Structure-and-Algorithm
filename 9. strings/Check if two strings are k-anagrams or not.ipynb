{
 "cells": [
  {
   "cell_type": "code",
   "execution_count": 1,
   "id": "9394a4f4",
   "metadata": {},
   "outputs": [
    {
     "data": {
      "text/plain": [
       "'\\nGiven two strings of lowercase alphabets and a value K, your task is to complete the given function \\nwhich tells if  two strings are K-anagrams of each other or not.\\n\\nTwo strings are called K-anagrams if both of the below conditions are true.\\n1. Both have same number of characters.\\n2. Two strings can become anagram by changing at most K characters in a string.\\n\\nExample:\\n\\nInput:\\nstr1 = \"fodr\", str2=\"gork\"\\nk = 2\\nOutput:\\n1\\nExplanation: Can change fd to gk\\nYour Task:\\nSince this is a function problem, you don\\'t need to take any input.\\nJust complete the given function areKAnagrams that returns true if the\\nstrings can be turned into K-anagrams, else return false.\\n'"
      ]
     },
     "execution_count": 1,
     "metadata": {},
     "output_type": "execute_result"
    }
   ],
   "source": [
    "'''\n",
    "Given two strings of lowercase alphabets and a value K, your task is to complete the given function \n",
    "which tells if  two strings are K-anagrams of each other or not.\n",
    "\n",
    "Two strings are called K-anagrams if both of the below conditions are true.\n",
    "1. Both have same number of characters.\n",
    "2. Two strings can become anagram by changing at most K characters in a string.\n",
    "\n",
    "Example:\n",
    "\n",
    "Input:\n",
    "str1 = \"fodr\", str2=\"gork\"\n",
    "k = 2\n",
    "Output:\n",
    "1\n",
    "Explanation: Can change fd to gk\n",
    "Your Task:\n",
    "Since this is a function problem, you don't need to take any input.\n",
    "Just complete the given function areKAnagrams that returns true if the\n",
    "strings can be turned into K-anagrams, else return false.\n",
    "'''"
   ]
  },
  {
   "cell_type": "code",
   "execution_count": null,
   "id": "62ea11ac",
   "metadata": {},
   "outputs": [],
   "source": [
    "def areKAnagrams(self, str1, str2, k):\n",
    "    if(len(str1)!=len(str2)):\n",
    "        return False\n",
    "    from collections import defaultdict\n",
    "    d=defaultdict(int)\n",
    "\n",
    "    for i in str1:\n",
    "        d[i]+=1\n",
    "    for i in str2:\n",
    "        d[i]-=1\n",
    "\n",
    "    count=0\n",
    "    for i in d.values():\n",
    "        count+=abs(i)\n",
    "\n",
    "\n",
    "    return count<=(k*2)\n",
    "        "
   ]
  }
 ],
 "metadata": {
  "kernelspec": {
   "display_name": "Python 3 (ipykernel)",
   "language": "python",
   "name": "python3"
  },
  "language_info": {
   "codemirror_mode": {
    "name": "ipython",
    "version": 3
   },
   "file_extension": ".py",
   "mimetype": "text/x-python",
   "name": "python",
   "nbconvert_exporter": "python",
   "pygments_lexer": "ipython3",
   "version": "3.9.8"
  }
 },
 "nbformat": 4,
 "nbformat_minor": 5
}

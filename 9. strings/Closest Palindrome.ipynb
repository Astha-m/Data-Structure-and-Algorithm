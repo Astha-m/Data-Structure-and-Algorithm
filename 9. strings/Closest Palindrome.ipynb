{
 "cells": [
  {
   "cell_type": "code",
   "execution_count": 8,
   "id": "9a99761f",
   "metadata": {},
   "outputs": [
    {
     "data": {
      "text/plain": [
       "\"\\nhttps://practice.geeksforgeeks.org/problems/closest-palindrome4519/1?page=2&company[]=Amazon&category[]=Mathematical&category[]=Prime%20Number&sortBy=submissions\\n\\n\\nGiven a number num, our task is to find the closest Palindrome\\nnumber whose absolute difference with given number is minimum. \\nIf 2 Palindome numbers have same absolute difference from the given \\nnumber, then find the smaller one.\\n \\n\\nExample 1:\\n\\nInput: num = 9\\nOutput: 9\\nExplanation: 9 itself is a palindrome\\nnumber.\\nExample 2:\\n\\nInput: num = 489\\nOutput: 484\\nExpnataion: closest palindrome numbers from\\n489 are 484 and 494. Absolute difference between\\n489 and 494 is equal to the absolute difference\\nbetween 484 and 489 but 484 is smaller than 494.\\n \\n\\nYour Task:\\nYou don't need to read or print anyhting. Your task is\\nto complete the function closestPalindrome() which takes\\nnum as input parameter and returns the closest palindrome.\\n \\n\\nExpected Time Complexity: O(log10num)\\nExpected Space Complexity: O(1)\\n \\n\\nConstraints:\\n1 <= num <= 1014\\n\\n\""
      ]
     },
     "execution_count": 8,
     "metadata": {},
     "output_type": "execute_result"
    }
   ],
   "source": [
    "'''\n",
    "https://practice.geeksforgeeks.org/problems/closest-palindrome4519/1?page=2&company[]=Amazon&category[]=Mathematical&category[]=Prime%20Number&sortBy=submissions\n",
    "\n",
    "\n",
    "Given a number num, our task is to find the closest Palindrome\n",
    "number whose absolute difference with given number is minimum. \n",
    "If 2 Palindome numbers have same absolute difference from the given \n",
    "number, then find the smaller one.\n",
    " \n",
    "\n",
    "Example 1:\n",
    "\n",
    "Input: num = 9\n",
    "Output: 9\n",
    "Explanation: 9 itself is a palindrome\n",
    "number.\n",
    "Example 2:\n",
    "\n",
    "Input: num = 489\n",
    "Output: 484\n",
    "Expnataion: closest palindrome numbers from\n",
    "489 are 484 and 494. Absolute difference between\n",
    "489 and 494 is equal to the absolute difference\n",
    "between 484 and 489 but 484 is smaller than 494.\n",
    " \n",
    "\n",
    "Your Task:\n",
    "You don't need to read or print anyhting. Your task is\n",
    "to complete the function closestPalindrome() which takes\n",
    "num as input parameter and returns the closest palindrome.\n",
    " \n",
    "\n",
    "Expected Time Complexity: O(log10num)\n",
    "Expected Space Complexity: O(1)\n",
    " \n",
    "\n",
    "Constraints:\n",
    "1 <= num <= 1014\n",
    "\n",
    "'''"
   ]
  },
  {
   "cell_type": "code",
   "execution_count": null,
   "id": "65b9b197",
   "metadata": {},
   "outputs": [],
   "source": [
    "def closestPalindrome(self, num):\n",
    "    # Code here\n",
    "    import math\n",
    "    num=str(num)\n",
    "    n=int(num)\n",
    "\n",
    "    #single integer\n",
    "    if(n<10):\n",
    "        return n\n",
    "    #numbers like 10,100,1000..\n",
    "    elif(math.log(n,10)-int(math.log(n,10))==0):\n",
    "        return n-1\n",
    "    else:\n",
    "\n",
    "        out=num\n",
    "        half=(len(out)+1)//2\n",
    "        first_half=out[:half]\n",
    "        #even length number\n",
    "        if(len(out)%2==0):\n",
    "            n1=int(first_half+first_half[::-1])# first half duplicated\n",
    "            n2=int(str(int(first_half)+1)+str(int(first_half)+1)[::-1])# first half duplicated with mid value incremented by 1\n",
    "            n3=int(str(int(first_half)-1)+str(int(first_half)-1)[::-1])# first half duplicated with mid value decremented by 1\n",
    "        else:\n",
    "            n1=int(first_half[:-1]+first_half[::-1])# first half duplicated\n",
    "            n2=int(str(int(first_half)+1)[:-1]+str(int(first_half)+1)[::-1])# first half duplicated with mid value incremented by 1\n",
    "            n3=int(str(int(first_half)-1)[:-1]+str(int(first_half)-1)[::-1])#first half duplicated with mid value decremented by 1\n",
    "\n",
    "        if(abs(n-n3)<=abs(n-n1) and abs(n-n3)<=abs(n-n2)):\n",
    "            out=n3\n",
    "        elif(abs(n-n1)<=abs(n-n2)):\n",
    "            out=n1\n",
    "        else:\n",
    "            out=n2\n",
    "    return out"
   ]
  },
  {
   "cell_type": "code",
   "execution_count": null,
   "id": "08d72326",
   "metadata": {},
   "outputs": [],
   "source": []
  },
  {
   "cell_type": "code",
   "execution_count": null,
   "id": "6f8a3b4e",
   "metadata": {},
   "outputs": [],
   "source": []
  }
 ],
 "metadata": {
  "kernelspec": {
   "display_name": "Python 3 (ipykernel)",
   "language": "python",
   "name": "python3"
  },
  "language_info": {
   "codemirror_mode": {
    "name": "ipython",
    "version": 3
   },
   "file_extension": ".py",
   "mimetype": "text/x-python",
   "name": "python",
   "nbconvert_exporter": "python",
   "pygments_lexer": "ipython3",
   "version": "3.8.2"
  }
 },
 "nbformat": 4,
 "nbformat_minor": 5
}

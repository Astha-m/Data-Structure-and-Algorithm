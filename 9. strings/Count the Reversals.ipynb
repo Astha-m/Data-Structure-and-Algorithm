{
 "cells": [
  {
   "cell_type": "code",
   "execution_count": 1,
   "id": "72a51219",
   "metadata": {},
   "outputs": [
    {
     "data": {
      "text/plain": [
       "'\\nhttps://practice.geeksforgeeks.org/problems/count-the-reversals0401/1?page=15&company[]=Amazon&sortBy=submissions\\n\\n\\nGiven a string S consisting of only opening and closing \\ncurly brackets \\'{\\' and \\'}\\', find out the minimum number \\nof reversals required to convert the string into a balanced expression.\\nA reversal means changing \\'{\\' to \\'}\\' or vice-versa.\\n\\nExample 1:\\n\\nInput:\\nS = \"}{{}}{{{\"\\nOutput: 3\\nExplanation: One way to balance is:\\n\"{{{}}{}}\". There is no balanced sequence\\nthat can be formed in lesser reversals.\\nâ€‹Example 2:\\n\\nInput: \\nS = \"{{}{{{}{{}}{{\"\\nOutput: -1\\nExplanation: There\\'s no way we can balance\\nthis sequence of braces.\\nYour Task:\\nYou don\\'t need to read input or print anything.\\nYour task is to complete the function countRev() \\nwhich takes the string S as input parameter and\\nreturns the minimum number of reversals required\\nto balance the bracket sequence. If balancing is not possible, return -1. \\n\\nExpected Time Complexity: O(|S|).\\nExpected Auxiliary Space: O(1).\\n\\nConstraints:\\n1 ≤ |S| ≤ 105\\n'"
      ]
     },
     "execution_count": 1,
     "metadata": {},
     "output_type": "execute_result"
    }
   ],
   "source": [
    "'''\n",
    "https://practice.geeksforgeeks.org/problems/count-the-reversals0401/1?page=15&company[]=Amazon&sortBy=submissions\n",
    "\n",
    "\n",
    "Given a string S consisting of only opening and closing \n",
    "curly brackets '{' and '}', find out the minimum number \n",
    "of reversals required to convert the string into a balanced expression.\n",
    "A reversal means changing '{' to '}' or vice-versa.\n",
    "\n",
    "Example 1:\n",
    "\n",
    "Input:\n",
    "S = \"}{{}}{{{\"\n",
    "Output: 3\n",
    "Explanation: One way to balance is:\n",
    "\"{{{}}{}}\". There is no balanced sequence\n",
    "that can be formed in lesser reversals.\n",
    "â€‹Example 2:\n",
    "\n",
    "Input: \n",
    "S = \"{{}{{{}{{}}{{\"\n",
    "Output: -1\n",
    "Explanation: There's no way we can balance\n",
    "this sequence of braces.\n",
    "Your Task:\n",
    "You don't need to read input or print anything.\n",
    "Your task is to complete the function countRev() \n",
    "which takes the string S as input parameter and\n",
    "returns the minimum number of reversals required\n",
    "to balance the bracket sequence. If balancing is not possible, return -1. \n",
    "\n",
    "Expected Time Complexity: O(|S|).\n",
    "Expected Auxiliary Space: O(1).\n",
    "\n",
    "Constraints:\n",
    "1 ≤ |S| ≤ 105\n",
    "'''"
   ]
  },
  {
   "cell_type": "code",
   "execution_count": null,
   "id": "13b371c7",
   "metadata": {},
   "outputs": [],
   "source": [
    "def countRev (s):\n",
    "    # your code here\n",
    "    n=len(s)\n",
    "    if(n%2!=0):\n",
    "        return -1\n",
    "    \n",
    "    opening=0\n",
    "    closing=0\n",
    "    \n",
    "    for i in range(n):\n",
    "        if(s[i]=='{'):\n",
    "            opening+=1\n",
    "        else:\n",
    "            if(opening==0):\n",
    "                closing+=1\n",
    "            else:\n",
    "                opening-=1\n",
    "    return (opening+1)//2+(closing+1)//2"
   ]
  }
 ],
 "metadata": {
  "kernelspec": {
   "display_name": "Python 3 (ipykernel)",
   "language": "python",
   "name": "python3"
  },
  "language_info": {
   "codemirror_mode": {
    "name": "ipython",
    "version": 3
   },
   "file_extension": ".py",
   "mimetype": "text/x-python",
   "name": "python",
   "nbconvert_exporter": "python",
   "pygments_lexer": "ipython3",
   "version": "3.10.7"
  }
 },
 "nbformat": 4,
 "nbformat_minor": 5
}

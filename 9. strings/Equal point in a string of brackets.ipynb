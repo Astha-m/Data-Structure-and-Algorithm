{
 "cells": [
  {
   "cell_type": "code",
   "execution_count": 1,
   "id": "0594de15",
   "metadata": {},
   "outputs": [
    {
     "data": {
      "text/plain": [
       "'\\nhttps://practice.geeksforgeeks.org/problems/find-equal-point-in-string-of-brackets2542/1?page=8&company[]=Amazon&category[]=Arrays&sortBy=submissions\\n\\n\\nGiven a string S of opening and closing brackets\\n\\'(\\' and \\')\\' only. The task is to find an equal point.\\nAn equal point is an index such that the number of \\nclosing brackets on right from that point must be\\nequal to number of opening brackets before that point.\\n\\n\\nExample 1:\\n\\nInput: str = \"(())))(\"\\nOutput: 4\\nExplanation:\\nAfter index 4, string splits into (())\\nand ))(. Number of opening brackets in the\\nfirst part is equal to number of closing\\nbrackets in the second part.\\nExample 2:\\nInput : str = \"))\"\\nOutput: 2\\nExplanation:\\nAs after 2nd position i.e. )) and \"empty\"\\nstring will be split into these two parts:\\nSo, in this number of opening brackets i.e.\\n0 in the first part is equal to number of\\nclosing brackets in the second part i.e.\\nalso 0.\\n\\nYour Task:  \\nYou don\\'t need to read input or print anything.\\nYour task is to complete the function findIndex() \\nwhich takes the string S as inputs and returns the\\noccurrence of the equal point in the string.\\n\\n\\nExpected Time Complexity: O(N)\\nExpected Auxiliary Space: O(N)\\n\\n\\nConstraints:\\n1 ≤ S ≤ 106\\nString can be unbalanced\\n\\n\\n'"
      ]
     },
     "execution_count": 1,
     "metadata": {},
     "output_type": "execute_result"
    }
   ],
   "source": [
    "'''\n",
    "https://practice.geeksforgeeks.org/problems/find-equal-point-in-string-of-brackets2542/1?page=8&company[]=Amazon&category[]=Arrays&sortBy=submissions\n",
    "\n",
    "\n",
    "Given a string S of opening and closing brackets\n",
    "'(' and ')' only. The task is to find an equal point.\n",
    "An equal point is an index such that the number of \n",
    "closing brackets on right from that point must be\n",
    "equal to number of opening brackets before that point.\n",
    "\n",
    "\n",
    "Example 1:\n",
    "\n",
    "Input: str = \"(())))(\"\n",
    "Output: 4\n",
    "Explanation:\n",
    "After index 4, string splits into (())\n",
    "and ))(. Number of opening brackets in the\n",
    "first part is equal to number of closing\n",
    "brackets in the second part.\n",
    "Example 2:\n",
    "Input : str = \"))\"\n",
    "Output: 2\n",
    "Explanation:\n",
    "As after 2nd position i.e. )) and \"empty\"\n",
    "string will be split into these two parts:\n",
    "So, in this number of opening brackets i.e.\n",
    "0 in the first part is equal to number of\n",
    "closing brackets in the second part i.e.\n",
    "also 0.\n",
    "\n",
    "Your Task:  \n",
    "You don't need to read input or print anything.\n",
    "Your task is to complete the function findIndex() \n",
    "which takes the string S as inputs and returns the\n",
    "occurrence of the equal point in the string.\n",
    "\n",
    "\n",
    "Expected Time Complexity: O(N)\n",
    "Expected Auxiliary Space: O(N)\n",
    "\n",
    "\n",
    "Constraints:\n",
    "1 ≤ S ≤ 106\n",
    "String can be unbalanced\n",
    "\n",
    "\n",
    "'''"
   ]
  },
  {
   "cell_type": "code",
   "execution_count": null,
   "id": "6ab2cc4a",
   "metadata": {},
   "outputs": [],
   "source": [
    "def findIndex(self,s):\n",
    "    # Your code goes here \n",
    "    i=0\n",
    "    j=len(s)-1\n",
    "    start=0\n",
    "    end=0\n",
    "\n",
    "    while(i<=j):\n",
    "        if(s[i]=='('):\n",
    "            start+=1\n",
    "        if(s[j]==')'):\n",
    "            end+=1\n",
    "\n",
    "        i+=1\n",
    "        j-=1\n",
    "        if(start<end):\n",
    "            j+=1\n",
    "            end-=1\n",
    "        elif(start>end):\n",
    "            i-=1\n",
    "            start-=1\n",
    "    return i"
   ]
  }
 ],
 "metadata": {
  "kernelspec": {
   "display_name": "Python 3 (ipykernel)",
   "language": "python",
   "name": "python3"
  },
  "language_info": {
   "codemirror_mode": {
    "name": "ipython",
    "version": 3
   },
   "file_extension": ".py",
   "mimetype": "text/x-python",
   "name": "python",
   "nbconvert_exporter": "python",
   "pygments_lexer": "ipython3",
   "version": "3.9.13"
  }
 },
 "nbformat": 4,
 "nbformat_minor": 5
}

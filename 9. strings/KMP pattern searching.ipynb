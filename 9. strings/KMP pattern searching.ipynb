{
 "cells": [
  {
   "cell_type": "code",
   "execution_count": 1,
   "id": "76ef29c9",
   "metadata": {},
   "outputs": [],
   "source": [
    "def lps_array(pat):\n",
    "    \n",
    "    m=len(pat)\n",
    "    lps=[0]*(m)\n",
    "    length=0\n",
    "    i=1\n",
    "    while(i<m):\n",
    "        if(pat[i]==pat[length]):\n",
    "            length+=1\n",
    "            lps[i]=length\n",
    "            i+=1\n",
    "        else:\n",
    "            if(length==0):\n",
    "                lps[i]=0\n",
    "                i+=1\n",
    "            else:\n",
    "                length=lps[length-1]\n",
    "    return lps"
   ]
  },
  {
   "cell_type": "code",
   "execution_count": 2,
   "id": "cad4f053",
   "metadata": {},
   "outputs": [
    {
     "data": {
      "text/plain": [
       "[0, 1, 0, 0, 0, 0, 0, 0]"
      ]
     },
     "execution_count": 2,
     "metadata": {},
     "output_type": "execute_result"
    }
   ],
   "source": [
    "lps_array('aabbccdd')"
   ]
  },
  {
   "cell_type": "code",
   "execution_count": 5,
   "id": "6dfc7d38",
   "metadata": {},
   "outputs": [
    {
     "name": "stdout",
     "output_type": "stream",
     "text": [
      "pattern found at 0\n",
      "pattern found at 8\n"
     ]
    }
   ],
   "source": [
    "def searcher(text,pat):\n",
    "    m=len(text)\n",
    "    n=len(pat)\n",
    "    \n",
    "    i=0\n",
    "    j=0\n",
    "    \n",
    "    lps=lps_array(pat)\n",
    "    \n",
    "    while(i<m):\n",
    "        if(text[i]==pat[j]):\n",
    "            i+=1\n",
    "            j+=1\n",
    "        if(j==n):\n",
    "            print('pattern found at',(i-j))\n",
    "            j=lps[j-1]\n",
    "        elif(i<m and text[i]!=pat[j]):\n",
    "            if(j==0):\n",
    "                i+=1\n",
    "            else:\n",
    "                j=lps[j-1]\n",
    "searcher('geeksforgeeks','geeks')"
   ]
  },
  {
   "cell_type": "code",
   "execution_count": null,
   "id": "132ac8e6",
   "metadata": {},
   "outputs": [],
   "source": []
  }
 ],
 "metadata": {
  "kernelspec": {
   "display_name": "Python 3 (ipykernel)",
   "language": "python",
   "name": "python3"
  },
  "language_info": {
   "codemirror_mode": {
    "name": "ipython",
    "version": 3
   },
   "file_extension": ".py",
   "mimetype": "text/x-python",
   "name": "python",
   "nbconvert_exporter": "python",
   "pygments_lexer": "ipython3",
   "version": "3.9.8"
  }
 },
 "nbformat": 4,
 "nbformat_minor": 5
}

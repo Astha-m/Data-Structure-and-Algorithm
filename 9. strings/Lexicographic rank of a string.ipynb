{
 "cells": [
  {
   "cell_type": "code",
   "execution_count": 3,
   "id": "ce07a8fe",
   "metadata": {},
   "outputs": [
    {
     "data": {
      "text/plain": [
       "598"
      ]
     },
     "execution_count": 3,
     "metadata": {},
     "output_type": "execute_result"
    }
   ],
   "source": [
    "def factors(n):\n",
    "    mul=1\n",
    "    for i in range(2,n+1):\n",
    "        mul*=i\n",
    "    return mul\n",
    "\n",
    "def lexicographic_rank(strg):\n",
    "    res=1\n",
    "    n=len(strg)\n",
    "    mul=factors(n)\n",
    "    count=[0]*256\n",
    "    \n",
    "    for i in range(n):\n",
    "        val=ord(strg[i])\n",
    "        \n",
    "        count[val]+=1\n",
    "    \n",
    "    for i in range(1,256):\n",
    "        count[i]+=count[i-1]\n",
    "    \n",
    "    for i in range(n-1):\n",
    "        mul=mul//(n-i)\n",
    "        val=ord(strg[i])\n",
    "        res=res+count[val-1]*mul\n",
    "        \n",
    "        for j in range(val,256):\n",
    "            count[j]-=1\n",
    "    return res\n",
    "\n",
    "lexicographic_rank('string')"
   ]
  },
  {
   "cell_type": "code",
   "execution_count": null,
   "id": "8d66c638",
   "metadata": {},
   "outputs": [],
   "source": []
  }
 ],
 "metadata": {
  "kernelspec": {
   "display_name": "Python 3 (ipykernel)",
   "language": "python",
   "name": "python3"
  },
  "language_info": {
   "codemirror_mode": {
    "name": "ipython",
    "version": 3
   },
   "file_extension": ".py",
   "mimetype": "text/x-python",
   "name": "python",
   "nbconvert_exporter": "python",
   "pygments_lexer": "ipython3",
   "version": "3.9.8"
  }
 },
 "nbformat": 4,
 "nbformat_minor": 5
}

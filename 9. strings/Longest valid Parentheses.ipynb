{
 "cells": [
  {
   "cell_type": "code",
   "execution_count": 1,
   "id": "8da980af",
   "metadata": {},
   "outputs": [
    {
     "data": {
      "text/plain": [
       "'\\nhttps://practice.geeksforgeeks.org/problems/longest-valid-parentheses5657/1\\n\\n\\nGiven a string S consisting of opening and closing parenthesis \\'(\\' and \\')\\'.\\nFind length of the longest valid parenthesis substring.\\n\\nA parenthesis string is valid if:\\n\\nFor every opening parenthesis, there is a closing parenthesis.\\nOpening parenthesis must be closed in the correct order.\\nExample 1:\\n\\nInput: S = ((()\\nOutput: 2\\nExplaination: The longest valid \\nparenthesis substring is \"()\".\\nExample 2:\\n\\nInput: S = )()())\\nOutput: 4\\nExplaination: The longest valid \\nparenthesis substring is \"()()\".\\nYour Task:\\nYou do not need to read input or print anything. Your task is to complete\\nthe function maxLength() which takes string S as input parameter and returns\\nthe length of the maximum valid parenthesis substring.\\n\\nExpected Time Complexity: O(|S|)\\nExpected Auxiliary Space: O(|S|)\\n\\n\\n'"
      ]
     },
     "execution_count": 1,
     "metadata": {},
     "output_type": "execute_result"
    }
   ],
   "source": [
    "'''\n",
    "https://practice.geeksforgeeks.org/problems/longest-valid-parentheses5657/1\n",
    "\n",
    "\n",
    "Given a string S consisting of opening and closing parenthesis '(' and ')'.\n",
    "Find length of the longest valid parenthesis substring.\n",
    "\n",
    "A parenthesis string is valid if:\n",
    "\n",
    "For every opening parenthesis, there is a closing parenthesis.\n",
    "Opening parenthesis must be closed in the correct order.\n",
    "Example 1:\n",
    "\n",
    "Input: S = ((()\n",
    "Output: 2\n",
    "Explaination: The longest valid \n",
    "parenthesis substring is \"()\".\n",
    "Example 2:\n",
    "\n",
    "Input: S = )()())\n",
    "Output: 4\n",
    "Explaination: The longest valid \n",
    "parenthesis substring is \"()()\".\n",
    "Your Task:\n",
    "You do not need to read input or print anything. Your task is to complete\n",
    "the function maxLength() which takes string S as input parameter and returns\n",
    "the length of the maximum valid parenthesis substring.\n",
    "\n",
    "Expected Time Complexity: O(|S|)\n",
    "Expected Auxiliary Space: O(|S|)\n",
    "\n",
    "\n",
    "'''"
   ]
  },
  {
   "cell_type": "code",
   "execution_count": 2,
   "id": "ad687726",
   "metadata": {},
   "outputs": [],
   "source": [
    "def maxLength(self, s):\n",
    "    # code here\n",
    "    ans=0\n",
    "    stack=[]\n",
    "    stack.append(-1)\n",
    "    for i in range(len(s)):\n",
    "        if(s[i]=='('):\n",
    "            stack.append(i)\n",
    "        else:\n",
    "            if(stack):\n",
    "                stack.pop()\n",
    "            if(not stack):\n",
    "                stack.append(i)\n",
    "            else:\n",
    "                ans=max(ans,i-stack[-1])\n",
    "    return ans\n"
   ]
  },
  {
   "cell_type": "code",
   "execution_count": null,
   "id": "60e61b09",
   "metadata": {},
   "outputs": [],
   "source": []
  }
 ],
 "metadata": {
  "kernelspec": {
   "display_name": "Python 3 (ipykernel)",
   "language": "python",
   "name": "python3"
  },
  "language_info": {
   "codemirror_mode": {
    "name": "ipython",
    "version": 3
   },
   "file_extension": ".py",
   "mimetype": "text/x-python",
   "name": "python",
   "nbconvert_exporter": "python",
   "pygments_lexer": "ipython3",
   "version": "3.8.2"
  }
 },
 "nbformat": 4,
 "nbformat_minor": 5
}

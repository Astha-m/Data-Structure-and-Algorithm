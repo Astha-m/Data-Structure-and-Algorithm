{
 "cells": [
  {
   "cell_type": "code",
   "execution_count": 1,
   "id": "d3dde9af",
   "metadata": {},
   "outputs": [
    {
     "data": {
      "text/plain": [
       "'\\nhttps://practice.geeksforgeeks.org/problems/maximum-sub-string-after-at-most-k-changes3220/1\\n\\n\\nWe have a string s of length n, which contains only UPPERCASE characters\\nand we have a number k (always less than n). We can make at most k changes \\nin our string. In one change, you can replace any s[i] (0<= i < n) with any \\nuppercase character (from \\'A\\' to \\'Z\\'). After k changes, find the maximum possible\\nlength of the sub-string which have all same characters.\\n\\nExample 1:\\n\\nInput: s = \"ABAB\", k = 2\\nOutput: 4\\nExplanation: Change 2 \\'B\\' into \\'A\\'. \\nNow s = \"AAAA\"\\n\\nExample:\\n\\nInput: s = \"ADBD\", k = 1\\nOutput: 3\\nExplanation: Change \\'B\\' into \\'D\\'.\\nNow s = \"ADDD\"\\n\\nYour Task:\\nYou don\\'t need to read or print anything. Your task is to \\ncomplete the function characterReplacement() which takes s and\\nk as input parameters and returns the maximum length of sub-string\\nafter doing k changes.\\n \\n\\nExpected Time Complexity: O(n)\\nExpected Space Complexity: O(26)\\n \\n\\nConstraints:\\n1 <= n <= 105\\n0 <= k < n\\n\\n\\n'"
      ]
     },
     "execution_count": 1,
     "metadata": {},
     "output_type": "execute_result"
    }
   ],
   "source": [
    "'''\n",
    "https://practice.geeksforgeeks.org/problems/maximum-sub-string-after-at-most-k-changes3220/1\n",
    "\n",
    "\n",
    "We have a string s of length n, which contains only UPPERCASE characters\n",
    "and we have a number k (always less than n). We can make at most k changes \n",
    "in our string. In one change, you can replace any s[i] (0<= i < n) with any \n",
    "uppercase character (from 'A' to 'Z'). After k changes, find the maximum possible\n",
    "length of the sub-string which have all same characters.\n",
    "\n",
    "Example 1:\n",
    "\n",
    "Input: s = \"ABAB\", k = 2\n",
    "Output: 4\n",
    "Explanation: Change 2 'B' into 'A'. \n",
    "Now s = \"AAAA\"\n",
    "\n",
    "Example:\n",
    "\n",
    "Input: s = \"ADBD\", k = 1\n",
    "Output: 3\n",
    "Explanation: Change 'B' into 'D'.\n",
    "Now s = \"ADDD\"\n",
    "\n",
    "Your Task:\n",
    "You don't need to read or print anything. Your task is to \n",
    "complete the function characterReplacement() which takes s and\n",
    "k as input parameters and returns the maximum length of sub-string\n",
    "after doing k changes.\n",
    " \n",
    "\n",
    "Expected Time Complexity: O(n)\n",
    "Expected Space Complexity: O(26)\n",
    " \n",
    "\n",
    "Constraints:\n",
    "1 <= n <= 105\n",
    "0 <= k < n\n",
    "\n",
    "\n",
    "'''"
   ]
  },
  {
   "cell_type": "code",
   "execution_count": 2,
   "id": "455db426",
   "metadata": {},
   "outputs": [],
   "source": [
    "def characterReplacement(self, s, k):\n",
    "    # Code here\n",
    "    from collections import defaultdict\n",
    "    d=defaultdict(int)\n",
    "    i=0\n",
    "    j=0\n",
    "    n=len(s)\n",
    "    ans=0\n",
    "    maxchar=0\n",
    "    while(j<n):\n",
    "        sz=j-i+1\n",
    "        d[s[j]]+=1\n",
    "        maxchar=max(maxchar,d[s[j]])\n",
    "\n",
    "        diffchar=sz-maxchar\n",
    "        if(diffchar<=k):\n",
    "            ans=max(ans,sz)\n",
    "        else:\n",
    "            d[s[i]]-=1\n",
    "            i+=1\n",
    "            maxchar=max(maxchar,d[s[i]])\n",
    "        j+=1\n",
    "    return ans"
   ]
  },
  {
   "cell_type": "code",
   "execution_count": null,
   "id": "78bd155e",
   "metadata": {},
   "outputs": [],
   "source": []
  }
 ],
 "metadata": {
  "kernelspec": {
   "display_name": "Python 3 (ipykernel)",
   "language": "python",
   "name": "python3"
  },
  "language_info": {
   "codemirror_mode": {
    "name": "ipython",
    "version": 3
   },
   "file_extension": ".py",
   "mimetype": "text/x-python",
   "name": "python",
   "nbconvert_exporter": "python",
   "pygments_lexer": "ipython3",
   "version": "3.8.2"
  }
 },
 "nbformat": 4,
 "nbformat_minor": 5
}

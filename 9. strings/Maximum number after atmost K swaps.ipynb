{
 "cells": [
  {
   "cell_type": "code",
   "execution_count": 12,
   "id": "65f3548e",
   "metadata": {},
   "outputs": [],
   "source": [
    "'''\n",
    "https://www.geeksforgeeks.org/find-maximum-number-possible-by-doing-at-most-k-swaps/\n",
    "\n",
    "https://www.youtube.com/watch?v=5crucASFoA4\n",
    "\n",
    "https://practice.geeksforgeeks.org/problems/largest-number-in-k-swaps-1587115620/1\n",
    "\n",
    "\n",
    "'''\n",
    "\n",
    "def findMaximumK(strg,k):\n",
    "    \n",
    "    res=0\n",
    "    \n",
    "    def swap(strg,i,j):\n",
    "        ith=strg[i]\n",
    "        jth=strg[j]\n",
    "        \n",
    "        left=strg[0:i]\n",
    "        middle=strg[i+1:j]\n",
    "        right=strg[j+1:]\n",
    "        \n",
    "        return left+jth+middle+ith+right\n",
    "    \n",
    "    \n",
    "    def finder(strg,k):\n",
    "        nonlocal res\n",
    "        if(int(strg)>res):\n",
    "            res=int(strg)\n",
    "        \n",
    "        if(k==0):\n",
    "            return\n",
    "        \n",
    "        \n",
    "        for i in range(0,len(strg)-1):\n",
    "            \n",
    "            for j in range(i+1,len(strg)):\n",
    "                \n",
    "                if(strg[j]>strg[i]):\n",
    "                    \n",
    "                    strg=swap(strg,i,j)\n",
    "                    finder(strg,k-1)\n",
    "                    strg=swap(strg,i,j)\n",
    "        \n",
    "    finder(strg,k)\n",
    "    return res"
   ]
  },
  {
   "cell_type": "code",
   "execution_count": 13,
   "id": "14f23c8b",
   "metadata": {},
   "outputs": [
    {
     "data": {
      "text/plain": [
       "86543"
      ]
     },
     "execution_count": 13,
     "metadata": {},
     "output_type": "execute_result"
    }
   ],
   "source": [
    "findMaximumK('68543',1)"
   ]
  },
  {
   "cell_type": "code",
   "execution_count": 14,
   "id": "77e8cbf5",
   "metadata": {},
   "outputs": [
    {
     "data": {
      "text/plain": [
       "7654321"
      ]
     },
     "execution_count": 14,
     "metadata": {},
     "output_type": "execute_result"
    }
   ],
   "source": [
    "#efficient\n",
    "def findMaximumNum(s,k):\n",
    "\n",
    "    res=int(s)\n",
    "\n",
    "    n=len(s)\n",
    "\n",
    "    def swap(strg,i,j):\n",
    "        if(i==j):\n",
    "            return strg\n",
    "        ith=strg[i]\n",
    "        jth=strg[j]\n",
    "\n",
    "        left=strg[0:i]\n",
    "        middle=strg[i+1:j]\n",
    "        right=strg[j+1:]\n",
    "\n",
    "        return left+jth+middle+ith+right\n",
    "\n",
    "\n",
    "    def solve(strg,n,k,ind):\n",
    "        nonlocal res\n",
    "        if(ind>=n or k==0):\n",
    "            return\n",
    "\n",
    "        mx=strg[ind]\n",
    "\n",
    "\n",
    "        for i in range(ind+1,n):\n",
    "            mx=max(mx,strg[i])\n",
    "\n",
    "        if(mx!=strg[ind]):\n",
    "            k-=1\n",
    "\n",
    "        for i in range(n-1,ind-1,-1):\n",
    "            if(strg[i]==mx):\n",
    "                strg=swap(strg,ind,i)\n",
    "\n",
    "                if(int(strg)>res):\n",
    "                    res=int(strg)\n",
    "\n",
    "                solve(strg,n,k,ind+1)\n",
    "\n",
    "                strg=swap(strg,ind,i)\n",
    "\n",
    "    solve(s,n,k,0) \n",
    "\n",
    "    return res\n",
    "\n",
    "findMaximumNum('1234567',4)"
   ]
  },
  {
   "cell_type": "code",
   "execution_count": null,
   "id": "ab9dc410",
   "metadata": {},
   "outputs": [],
   "source": []
  }
 ],
 "metadata": {
  "kernelspec": {
   "display_name": "Python 3 (ipykernel)",
   "language": "python",
   "name": "python3"
  },
  "language_info": {
   "codemirror_mode": {
    "name": "ipython",
    "version": 3
   },
   "file_extension": ".py",
   "mimetype": "text/x-python",
   "name": "python",
   "nbconvert_exporter": "python",
   "pygments_lexer": "ipython3",
   "version": "3.10.7"
  }
 },
 "nbformat": 4,
 "nbformat_minor": 5
}

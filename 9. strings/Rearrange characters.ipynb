{
 "cells": [
  {
   "cell_type": "code",
   "execution_count": 1,
   "id": "5dfec313",
   "metadata": {},
   "outputs": [
    {
     "data": {
      "text/plain": [
       "'\\nhttps://practice.geeksforgeeks.org/problems/rearrange-characters4649/1?page=19&company[]=Amazon&sortBy=submissions\\n\\n\\nGiven a string S with repeated characters. The task is to \\nrearrange characters in a string such that no two adjacent\\ncharacters are the same.\\nNote: The string has only lowercase English alphabets and\\nit can have multiple solutions. Return any one of them.\\n\\nExample 1:\\n\\nInput : str = \"geeksforgeeks\"\\nOutput: 1\\nExplanation: All the repeated characters of the\\ngiven string can be rearranged so that no \\nadjacent characters in the string is equal.\\nAny correct rearrangement will show a output\\nof 1.\\nExample 2:\\n\\nInput : str = \"bbbbb\"\\nOutput: 0\\nExplanation: Repeated characters in the string\\ncannot be rearranged such that there should not\\nbe any adjacent repeated character.\\nYour task :\\nYou don\\'t have to read input or print anything. Your task \\nis to complete the functionrearrangeString() which takes\\nthe string as input and returns the modified string.\\nIf the string cannot be modified return \"-1\".\\nNote:The generatedoutput is 1 if the string is successfully\\nrearranged and is 0 if rearranging is not possible.\\n \\nExpected Time Complexity : O(NlogN), N = length of String\\nExpected Auxiliary Space : O(number of english alphabets)\\n \\nConstraints :\\n1 <= length of string <= 104\\n\\n\\n'"
      ]
     },
     "execution_count": 1,
     "metadata": {},
     "output_type": "execute_result"
    }
   ],
   "source": [
    "'''\n",
    "https://practice.geeksforgeeks.org/problems/rearrange-characters4649/1?page=19&company[]=Amazon&sortBy=submissions\n",
    "\n",
    "\n",
    "Given a string S with repeated characters. The task is to \n",
    "rearrange characters in a string such that no two adjacent\n",
    "characters are the same.\n",
    "Note: The string has only lowercase English alphabets and\n",
    "it can have multiple solutions. Return any one of them.\n",
    "\n",
    "Example 1:\n",
    "\n",
    "Input : str = \"geeksforgeeks\"\n",
    "Output: 1\n",
    "Explanation: All the repeated characters of the\n",
    "given string can be rearranged so that no \n",
    "adjacent characters in the string is equal.\n",
    "Any correct rearrangement will show a output\n",
    "of 1.\n",
    "Example 2:\n",
    "\n",
    "Input : str = \"bbbbb\"\n",
    "Output: 0\n",
    "Explanation: Repeated characters in the string\n",
    "cannot be rearranged such that there should not\n",
    "be any adjacent repeated character.\n",
    "Your task :\n",
    "You don't have to read input or print anything. Your task \n",
    "is to complete the functionrearrangeString() which takes\n",
    "the string as input and returns the modified string.\n",
    "If the string cannot be modified return \"-1\".\n",
    "Note:The generatedoutput is 1 if the string is successfully\n",
    "rearranged and is 0 if rearranging is not possible.\n",
    " \n",
    "Expected Time Complexity : O(NlogN), N = length of String\n",
    "Expected Auxiliary Space : O(number of english alphabets)\n",
    " \n",
    "Constraints :\n",
    "1 <= length of string <= 104\n",
    "\n",
    "\n",
    "'''"
   ]
  },
  {
   "cell_type": "code",
   "execution_count": null,
   "id": "d0db118c",
   "metadata": {},
   "outputs": [],
   "source": [
    "def rearrangeString(self, strg):\n",
    "    from collections import defaultdict\n",
    "    d=defaultdict(int)\n",
    "\n",
    "    for i in strg:\n",
    "        d[i]+=1\n",
    "\n",
    "    heap=[]\n",
    "    import heapq\n",
    "    for i in d.keys():\n",
    "        heapq.heappush(heap,(-d[i],i))\n",
    "\n",
    "    news=''\n",
    "    prev=(1,'#')\n",
    "\n",
    "    while(heap):\n",
    "        curr=heapq.heappop(heap)\n",
    "        news+=curr[1]\n",
    "\n",
    "        curr=(curr[0]+1,curr[1])\n",
    "\n",
    "        if(prev[0]<0):\n",
    "            heapq.heappush(heap,prev)\n",
    "        prev=curr\n",
    "    if(len(news)!=len(strg)):\n",
    "        return '-1'\n",
    "    else:\n",
    "        return news\n"
   ]
  }
 ],
 "metadata": {
  "kernelspec": {
   "display_name": "Python 3 (ipykernel)",
   "language": "python",
   "name": "python3"
  },
  "language_info": {
   "codemirror_mode": {
    "name": "ipython",
    "version": 3
   },
   "file_extension": ".py",
   "mimetype": "text/x-python",
   "name": "python",
   "nbconvert_exporter": "python",
   "pygments_lexer": "ipython3",
   "version": "3.10.7"
  }
 },
 "nbformat": 4,
 "nbformat_minor": 5
}

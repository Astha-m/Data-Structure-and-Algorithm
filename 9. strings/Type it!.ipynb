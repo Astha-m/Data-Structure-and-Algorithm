{
 "cells": [
  {
   "cell_type": "code",
   "execution_count": 1,
   "id": "88f9c5a3",
   "metadata": {},
   "outputs": [
    {
     "data": {
      "text/plain": [
       "\"\\nhttps://practice.geeksforgeeks.org/problems/95080eb9efbf7cc5cb4851ddf8d7946e3f212a49/1\\n\\n\\nGeek is extremely punctual but today even he is\\nnot feeling like doing his homework assignment.\\nHe must start doing it immediately in order to \\nmeet the deadline. For the assignment, Geek needs\\nto type a string s.\\nTo reduce his workload, he has decided to perform\\none of the following two operations till he gets the string.\\n\\nAppend a character at the end of the string.\\nAppend the string formed thus far to the end of\\nthe string. (This can not be done more than once.)\\nHelp Geek find the minimum operations required \\nto type the given string.\\n\\n\\nExample 1:\\n\\nInput:\\ns = abcabca\\nOutput: 5\\nExplanation: a -> ab -> abc -> abcabc \\n-> abcabca\\n\\nExample 2:\\n\\nInput:\\ns = abcdefgh\\nOutput: 8\\nExplanation: a -> ab -> abc -> abcd \\n-> abcde -> abcdef -> abcdefg -> abcdefgh\\n\\nYour Task:  \\nYou don't need to read input or print anything.\\nYour task is to complete the function minOperation() \\nwhich takes a string s as input parameter and returns\\nthe minimum operations required to type it.\\n\\nExpected Time Complexity: O(N2)\\nExpected Auxiliary Space: O(1)\\n\\nConstraints:\\n1 <= N <= 103\\n\\n\\n\""
      ]
     },
     "execution_count": 1,
     "metadata": {},
     "output_type": "execute_result"
    }
   ],
   "source": [
    "'''\n",
    "https://practice.geeksforgeeks.org/problems/95080eb9efbf7cc5cb4851ddf8d7946e3f212a49/1\n",
    "\n",
    "\n",
    "Geek is extremely punctual but today even he is\n",
    "not feeling like doing his homework assignment.\n",
    "He must start doing it immediately in order to \n",
    "meet the deadline. For the assignment, Geek needs\n",
    "to type a string s.\n",
    "To reduce his workload, he has decided to perform\n",
    "one of the following two operations till he gets the string.\n",
    "\n",
    "Append a character at the end of the string.\n",
    "Append the string formed thus far to the end of\n",
    "the string. (This can not be done more than once.)\n",
    "Help Geek find the minimum operations required \n",
    "to type the given string.\n",
    "\n",
    "\n",
    "Example 1:\n",
    "\n",
    "Input:\n",
    "s = abcabca\n",
    "Output: 5\n",
    "Explanation: a -> ab -> abc -> abcabc \n",
    "-> abcabca\n",
    "\n",
    "Example 2:\n",
    "\n",
    "Input:\n",
    "s = abcdefgh\n",
    "Output: 8\n",
    "Explanation: a -> ab -> abc -> abcd \n",
    "-> abcde -> abcdef -> abcdefg -> abcdefgh\n",
    "\n",
    "Your Task:  \n",
    "You don't need to read input or print anything.\n",
    "Your task is to complete the function minOperation() \n",
    "which takes a string s as input parameter and returns\n",
    "the minimum operations required to type it.\n",
    "\n",
    "Expected Time Complexity: O(N2)\n",
    "Expected Auxiliary Space: O(1)\n",
    "\n",
    "Constraints:\n",
    "1 <= N <= 103\n",
    "\n",
    "\n",
    "'''"
   ]
  },
  {
   "cell_type": "code",
   "execution_count": null,
   "id": "64b7fdc2",
   "metadata": {},
   "outputs": [],
   "source": [
    "def minOperation(self, s): \n",
    "        #code here\n",
    "        ind=-1\n",
    "        n=len(s)\n",
    "        \n",
    "        for i in range(n//2,-1,-1):\n",
    "            curr=s[0:i+1]\n",
    "            if(curr==s[i+1:i+1+len(curr)]):\n",
    "                ind=i\n",
    "                break\n",
    "        #print(ind)\n",
    "        if(ind==-1):\n",
    "            return n\n",
    "        \n",
    "        total=0\n",
    "        total+=ind+1\n",
    "        total+=1\n",
    "        total+=(n-((ind+1)*2))\n",
    "        return total\n"
   ]
  }
 ],
 "metadata": {
  "kernelspec": {
   "display_name": "Python 3 (ipykernel)",
   "language": "python",
   "name": "python3"
  },
  "language_info": {
   "codemirror_mode": {
    "name": "ipython",
    "version": 3
   },
   "file_extension": ".py",
   "mimetype": "text/x-python",
   "name": "python",
   "nbconvert_exporter": "python",
   "pygments_lexer": "ipython3",
   "version": "3.9.13"
  }
 },
 "nbformat": 4,
 "nbformat_minor": 5
}

{
 "cells": [
  {
   "cell_type": "code",
   "execution_count": 5,
   "id": "161ebbf0",
   "metadata": {},
   "outputs": [],
   "source": [
    "def areSame(char1,char2):\n",
    "    for i in range(256):\n",
    "        if(char1[i]!=char2[i]):\n",
    "            return False\n",
    "        \n",
    "    return True\n",
    "\n",
    "\n",
    "\n",
    "def anagram_search(text,pat):\n",
    "    char1=[0]*256\n",
    "    char2=[0]*256\n",
    "    \n",
    "    m=len(text)\n",
    "    n=len(pat)\n",
    "    \n",
    "    for i in range(n):\n",
    "        val1=ord(text[i])\n",
    "        char1[val1]+=1\n",
    "        \n",
    "        val2=ord(pat[i])\n",
    "        char2[val2]+=1\n",
    "    if(areSame(char1,char2)):\n",
    "        return True\n",
    "    \n",
    "    for i in range(n,m):\n",
    "        val=ord(text[i])\n",
    "        char1[val]+=1\n",
    "        prev=ord(text[i-n])\n",
    "        char1[prev]-=1\n",
    "        if(areSame(char1,char2)):\n",
    "            return True\n",
    "    return False"
   ]
  },
  {
   "cell_type": "code",
   "execution_count": 6,
   "id": "87fbeb34",
   "metadata": {},
   "outputs": [
    {
     "data": {
      "text/plain": [
       "True"
      ]
     },
     "execution_count": 6,
     "metadata": {},
     "output_type": "execute_result"
    }
   ],
   "source": [
    "anagram_search('geeksforgeeks','frog')"
   ]
  },
  {
   "cell_type": "code",
   "execution_count": null,
   "id": "622e17ff",
   "metadata": {},
   "outputs": [],
   "source": []
  }
 ],
 "metadata": {
  "kernelspec": {
   "display_name": "Python 3 (ipykernel)",
   "language": "python",
   "name": "python3"
  },
  "language_info": {
   "codemirror_mode": {
    "name": "ipython",
    "version": 3
   },
   "file_extension": ".py",
   "mimetype": "text/x-python",
   "name": "python",
   "nbconvert_exporter": "python",
   "pygments_lexer": "ipython3",
   "version": "3.9.8"
  }
 },
 "nbformat": 4,
 "nbformat_minor": 5
}

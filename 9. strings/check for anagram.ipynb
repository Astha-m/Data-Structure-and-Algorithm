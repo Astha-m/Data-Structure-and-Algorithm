{
 "cells": [
  {
   "cell_type": "code",
   "execution_count": 3,
   "id": "91061691",
   "metadata": {},
   "outputs": [
    {
     "data": {
      "text/plain": [
       "False"
      ]
     },
     "execution_count": 3,
     "metadata": {},
     "output_type": "execute_result"
    }
   ],
   "source": [
    "def check_anagram(str1,str2):\n",
    "    m=len(str1)\n",
    "    n=len(str2)\n",
    "    char1=[0]*256\n",
    "    char2=[0]*256\n",
    "    \n",
    "    for i in str1:\n",
    "        val=ord(i)\n",
    "        char1[val]+=1\n",
    "    for i in str2:\n",
    "        val=ord(i)\n",
    "        char2[val]+=1\n",
    "    for i in range(256):\n",
    "        if(char1[i]==char2[i]):\n",
    "            continue\n",
    "        else:\n",
    "            return False\n",
    "    return True\n",
    "check_anagram('abcd','abcdD')"
   ]
  },
  {
   "cell_type": "code",
   "execution_count": null,
   "id": "4bdfca81",
   "metadata": {},
   "outputs": [],
   "source": []
  }
 ],
 "metadata": {
  "kernelspec": {
   "display_name": "Python 3 (ipykernel)",
   "language": "python",
   "name": "python3"
  },
  "language_info": {
   "codemirror_mode": {
    "name": "ipython",
    "version": 3
   },
   "file_extension": ".py",
   "mimetype": "text/x-python",
   "name": "python",
   "nbconvert_exporter": "python",
   "pygments_lexer": "ipython3",
   "version": "3.9.8"
  }
 },
 "nbformat": 4,
 "nbformat_minor": 5
}

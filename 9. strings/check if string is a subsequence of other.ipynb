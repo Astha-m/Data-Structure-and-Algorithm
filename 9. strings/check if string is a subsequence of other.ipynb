{
 "cells": [
  {
   "cell_type": "code",
   "execution_count": 2,
   "id": "8dc00760",
   "metadata": {},
   "outputs": [
    {
     "data": {
      "text/plain": [
       "True"
      ]
     },
     "execution_count": 2,
     "metadata": {},
     "output_type": "execute_result"
    }
   ],
   "source": [
    "def check_subsequence(str1,str2):\n",
    "    m=len(str1)\n",
    "    n=len(str2)\n",
    "    i=0\n",
    "    j=0\n",
    "    \n",
    "    while(i<m and j<n):\n",
    "        if(str1[i]==str2[j]):\n",
    "            j+=1\n",
    "        i+=1\n",
    "    return j==n\n",
    "\n",
    "check_subsequence('abcd','ad')"
   ]
  },
  {
   "cell_type": "code",
   "execution_count": null,
   "id": "fc6cdd67",
   "metadata": {},
   "outputs": [],
   "source": []
  }
 ],
 "metadata": {
  "kernelspec": {
   "display_name": "Python 3 (ipykernel)",
   "language": "python",
   "name": "python3"
  },
  "language_info": {
   "codemirror_mode": {
    "name": "ipython",
    "version": 3
   },
   "file_extension": ".py",
   "mimetype": "text/x-python",
   "name": "python",
   "nbconvert_exporter": "python",
   "pygments_lexer": "ipython3",
   "version": "3.9.8"
  }
 },
 "nbformat": 4,
 "nbformat_minor": 5
}

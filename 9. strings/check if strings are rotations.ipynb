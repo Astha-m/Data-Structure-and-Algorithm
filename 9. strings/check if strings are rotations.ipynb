{
 "cells": [
  {
   "cell_type": "code",
   "execution_count": 1,
   "id": "b61d18cd",
   "metadata": {},
   "outputs": [],
   "source": [
    "def lps_array(pat):\n",
    "    m=len(pat)\n",
    "    lps=[0]*m\n",
    "    i=1\n",
    "    length=0\n",
    "    \n",
    "    while(i<m):\n",
    "        if(pat[i]==pat[length]):\n",
    "            length+=1\n",
    "            lps[i]=length\n",
    "            i+=1\n",
    "        else:\n",
    "            if(length==0):\n",
    "                i+=1\n",
    "            else:\n",
    "                length=lps[length-1]\n",
    "    return lps\n",
    "\n",
    "def finder(text,pat):\n",
    "    m=len(text)\n",
    "    n=len(pat)\n",
    "    \n",
    "    i=0\n",
    "    j=0\n",
    "    lps=lps_array(pat)\n",
    "    \n",
    "    while(i<m):\n",
    "        if(text[i]==pat[j]):\n",
    "            i+=1\n",
    "            j+=1\n",
    "        if(j==n):\n",
    "            return True\n",
    "        elif(i<m and text[i]!=pat[j]):\n",
    "            if(j==0):\n",
    "                i+=1\n",
    "            else:\n",
    "                j=lps[j-1]\n",
    "    return False\n",
    "\n",
    "\n",
    "\n",
    "def checker(strg1,strg2):\n",
    "    strg1=strg1*2\n",
    "    return finder(strg1,strg2)"
   ]
  },
  {
   "cell_type": "code",
   "execution_count": 2,
   "id": "3562d1e0",
   "metadata": {},
   "outputs": [
    {
     "data": {
      "text/plain": [
       "True"
      ]
     },
     "execution_count": 2,
     "metadata": {},
     "output_type": "execute_result"
    }
   ],
   "source": [
    "checker('abaaa','baaaa')"
   ]
  },
  {
   "cell_type": "code",
   "execution_count": null,
   "id": "b6fd74fd",
   "metadata": {},
   "outputs": [],
   "source": []
  }
 ],
 "metadata": {
  "kernelspec": {
   "display_name": "Python 3 (ipykernel)",
   "language": "python",
   "name": "python3"
  },
  "language_info": {
   "codemirror_mode": {
    "name": "ipython",
    "version": 3
   },
   "file_extension": ".py",
   "mimetype": "text/x-python",
   "name": "python",
   "nbconvert_exporter": "python",
   "pygments_lexer": "ipython3",
   "version": "3.9.8"
  }
 },
 "nbformat": 4,
 "nbformat_minor": 5
}

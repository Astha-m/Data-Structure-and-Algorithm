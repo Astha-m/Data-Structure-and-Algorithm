{
 "cells": [
  {
   "cell_type": "code",
   "execution_count": 2,
   "id": "f9b876bb",
   "metadata": {},
   "outputs": [
    {
     "name": "stdout",
     "output_type": "stream",
     "text": [
      "1\n",
      "11\n",
      "21\n",
      "1211\n"
     ]
    }
   ],
   "source": [
    "def sayer(strg):\n",
    "    i=1\n",
    "    val=strg[0]\n",
    "    count=1\n",
    "    n=len(strg)\n",
    "    news=''\n",
    "    while(i<n):\n",
    "        if(strg[i]==val):\n",
    "            count+=1\n",
    "        else:\n",
    "            news+=str(count)+val\n",
    "            val=strg[i]\n",
    "            count=1\n",
    "        i+=1\n",
    "    news+=str(count)+val\n",
    "    return news\n",
    "\n",
    "init='1'\n",
    "for i in range(4):\n",
    "    print(init)\n",
    "    init=sayer(init)"
   ]
  },
  {
   "cell_type": "code",
   "execution_count": null,
   "id": "8c8af4c9",
   "metadata": {},
   "outputs": [],
   "source": []
  }
 ],
 "metadata": {
  "kernelspec": {
   "display_name": "Python 3 (ipykernel)",
   "language": "python",
   "name": "python3"
  },
  "language_info": {
   "codemirror_mode": {
    "name": "ipython",
    "version": 3
   },
   "file_extension": ".py",
   "mimetype": "text/x-python",
   "name": "python",
   "nbconvert_exporter": "python",
   "pygments_lexer": "ipython3",
   "version": "3.9.8"
  }
 },
 "nbformat": 4,
 "nbformat_minor": 5
}

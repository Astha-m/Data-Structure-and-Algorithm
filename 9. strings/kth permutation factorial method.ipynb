{
 "cells": [
  {
   "cell_type": "code",
   "execution_count": 1,
   "id": "952d1e7b",
   "metadata": {},
   "outputs": [],
   "source": [
    "\n",
    "def getKPermutations(n,k):\n",
    "    numbers=[]\n",
    "    fact=1\n",
    "    for i in range(1,n):\n",
    "        fact*=i\n",
    "        numbers.append(i)\n",
    "    numbers.append(n)\n",
    "    \n",
    "    ans=\"\"\n",
    "    k=k-1\n",
    "    while(True):\n",
    "        ans=ans+str(numbers[k//fact])\n",
    "        numbers.pop(k//fact)\n",
    "        \n",
    "        if(len(numbers)==0):\n",
    "            break\n",
    "        k=k%fact\n",
    "        fact=fact//len(numbers)\n",
    "    return ans"
   ]
  },
  {
   "cell_type": "code",
   "execution_count": 9,
   "id": "04ac8aff",
   "metadata": {},
   "outputs": [
    {
     "data": {
      "text/plain": [
       "'231'"
      ]
     },
     "execution_count": 9,
     "metadata": {},
     "output_type": "execute_result"
    }
   ],
   "source": [
    "getKPermutations(3,4)"
   ]
  },
  {
   "cell_type": "code",
   "execution_count": null,
   "id": "f52a7377",
   "metadata": {},
   "outputs": [],
   "source": [
    "1 2 3\n",
    "1 3 2\n",
    "2 1 3\n",
    "2 3 1\n",
    "3 1 2\n",
    "3 2 1"
   ]
  }
 ],
 "metadata": {
  "kernelspec": {
   "display_name": "Python 3 (ipykernel)",
   "language": "python",
   "name": "python3"
  },
  "language_info": {
   "codemirror_mode": {
    "name": "ipython",
    "version": 3
   },
   "file_extension": ".py",
   "mimetype": "text/x-python",
   "name": "python",
   "nbconvert_exporter": "python",
   "pygments_lexer": "ipython3",
   "version": "3.9.8"
  }
 },
 "nbformat": 4,
 "nbformat_minor": 5
}

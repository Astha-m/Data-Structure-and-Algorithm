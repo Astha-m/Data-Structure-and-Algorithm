{
 "cells": [
  {
   "cell_type": "code",
   "execution_count": 2,
   "id": "3f0b9dbb",
   "metadata": {},
   "outputs": [
    {
     "data": {
      "text/plain": [
       "3"
      ]
     },
     "execution_count": 2,
     "metadata": {},
     "output_type": "execute_result"
    }
   ],
   "source": [
    "def leftmost_nonrepeat(strg):\n",
    "    char_ind=[-1]*256\n",
    "    for i in range(len(strg)):\n",
    "        val=ord(strg[i])\n",
    "        if(char_ind[val]==-1):\n",
    "            char_ind[val]=i\n",
    "        else:\n",
    "            char_ind[val]=-2\n",
    "    res=float('inf')\n",
    "    for i in range(256):\n",
    "        if(char_ind[i]>=0):\n",
    "            res=min(res,char_ind[i])\n",
    "    return res\n",
    "leftmost_nonrepeat('abbcbbda')"
   ]
  },
  {
   "cell_type": "code",
   "execution_count": null,
   "id": "b91fae8d",
   "metadata": {},
   "outputs": [],
   "source": []
  }
 ],
 "metadata": {
  "kernelspec": {
   "display_name": "Python 3 (ipykernel)",
   "language": "python",
   "name": "python3"
  },
  "language_info": {
   "codemirror_mode": {
    "name": "ipython",
    "version": 3
   },
   "file_extension": ".py",
   "mimetype": "text/x-python",
   "name": "python",
   "nbconvert_exporter": "python",
   "pygments_lexer": "ipython3",
   "version": "3.9.8"
  }
 },
 "nbformat": 4,
 "nbformat_minor": 5
}

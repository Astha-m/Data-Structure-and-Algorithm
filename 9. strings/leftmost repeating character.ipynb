{
 "cells": [
  {
   "cell_type": "code",
   "execution_count": 3,
   "id": "d3fca41a",
   "metadata": {},
   "outputs": [],
   "source": [
    "def leftmost_repeating(strg):\n",
    "    char_ind=[-1]*256\n",
    "    res=float('inf')\n",
    "    for i in range(len(strg)):\n",
    "        val=ord(strg[i])\n",
    "        if(char_ind[val]==-1):\n",
    "            char_ind[val]=i\n",
    "        else:\n",
    "            res=min(res,char_ind[val])\n",
    "    return res"
   ]
  },
  {
   "cell_type": "code",
   "execution_count": 4,
   "id": "6812dcc4",
   "metadata": {},
   "outputs": [
    {
     "data": {
      "text/plain": [
       "1"
      ]
     },
     "execution_count": 4,
     "metadata": {},
     "output_type": "execute_result"
    }
   ],
   "source": [
    "leftmost_repeating('abccbd')"
   ]
  },
  {
   "cell_type": "code",
   "execution_count": null,
   "id": "95282afc",
   "metadata": {},
   "outputs": [],
   "source": []
  }
 ],
 "metadata": {
  "kernelspec": {
   "display_name": "Python 3 (ipykernel)",
   "language": "python",
   "name": "python3"
  },
  "language_info": {
   "codemirror_mode": {
    "name": "ipython",
    "version": 3
   },
   "file_extension": ".py",
   "mimetype": "text/x-python",
   "name": "python",
   "nbconvert_exporter": "python",
   "pygments_lexer": "ipython3",
   "version": "3.9.8"
  }
 },
 "nbformat": 4,
 "nbformat_minor": 5
}

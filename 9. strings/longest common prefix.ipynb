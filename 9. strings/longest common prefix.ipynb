{
 "cells": [
  {
   "cell_type": "code",
   "execution_count": 1,
   "id": "ddbb5588",
   "metadata": {},
   "outputs": [
    {
     "data": {
      "text/plain": [
       "'fl'"
      ]
     },
     "execution_count": 1,
     "metadata": {},
     "output_type": "execute_result"
    }
   ],
   "source": [
    "def longest_common_prefix(arr):\n",
    "    first=arr[0]\n",
    "    n=len(arr)\n",
    "    res=''\n",
    "    \n",
    "    for i in range(len(first)):\n",
    "        j=0\n",
    "        for s in arr:\n",
    "            if(len(s)<i):\n",
    "                return res\n",
    "            if(first[i]==s[i]):\n",
    "                j+=1\n",
    "        if(j==n):\n",
    "            res+=first[i]\n",
    "        else:\n",
    "            return res\n",
    "        \n",
    "longest_common_prefix([\"flower\",\"flow\",\"flight\"])"
   ]
  },
  {
   "cell_type": "code",
   "execution_count": null,
   "id": "22c6949f",
   "metadata": {},
   "outputs": [],
   "source": []
  }
 ],
 "metadata": {
  "kernelspec": {
   "display_name": "Python 3 (ipykernel)",
   "language": "python",
   "name": "python3"
  },
  "language_info": {
   "codemirror_mode": {
    "name": "ipython",
    "version": 3
   },
   "file_extension": ".py",
   "mimetype": "text/x-python",
   "name": "python",
   "nbconvert_exporter": "python",
   "pygments_lexer": "ipython3",
   "version": "3.9.8"
  }
 },
 "nbformat": 4,
 "nbformat_minor": 5
}

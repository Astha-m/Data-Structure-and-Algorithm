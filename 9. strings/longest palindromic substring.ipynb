{
 "cells": [
  {
   "cell_type": "code",
   "execution_count": 1,
   "id": "4d874619",
   "metadata": {},
   "outputs": [],
   "source": [
    "def palindromic(strg,left,right):\n",
    "    \n",
    "    while(left>=0 and right<len(strg)):\n",
    "        if(strg[left]!=strg[right]):\n",
    "            break\n",
    "        left-=1\n",
    "        right+=1\n",
    "    \n",
    "    return strg[left+1:right]\n",
    "\n",
    "\n",
    "def longest_palindromic_substring(strg):\n",
    "    res=''\n",
    "    for i in range(len(strg)):\n",
    "        val1=palindromic(strg,i,i)\n",
    "        val2=palindromic(strg,i,i+1)\n",
    "        if(len(val1)>=len(val2)):\n",
    "            if(len(val1)>len(res)):\n",
    "                res=val1\n",
    "        else:\n",
    "            if(len(val2)>len(res)):\n",
    "                res=val2\n",
    "    return res"
   ]
  },
  {
   "cell_type": "code",
   "execution_count": 2,
   "id": "52bf34f9",
   "metadata": {},
   "outputs": [
    {
     "data": {
      "text/plain": [
       "'bab'"
      ]
     },
     "execution_count": 2,
     "metadata": {},
     "output_type": "execute_result"
    }
   ],
   "source": [
    "longest_palindromic_substring('babad')"
   ]
  },
  {
   "cell_type": "code",
   "execution_count": 3,
   "id": "d3cf1bf1",
   "metadata": {},
   "outputs": [
    {
     "data": {
      "text/plain": [
       "'bb'"
      ]
     },
     "execution_count": 3,
     "metadata": {},
     "output_type": "execute_result"
    }
   ],
   "source": [
    "longest_palindromic_substring('cbbd')"
   ]
  },
  {
   "cell_type": "code",
   "execution_count": null,
   "id": "c78b9490",
   "metadata": {},
   "outputs": [],
   "source": []
  }
 ],
 "metadata": {
  "kernelspec": {
   "display_name": "Python 3 (ipykernel)",
   "language": "python",
   "name": "python3"
  },
  "language_info": {
   "codemirror_mode": {
    "name": "ipython",
    "version": 3
   },
   "file_extension": ".py",
   "mimetype": "text/x-python",
   "name": "python",
   "nbconvert_exporter": "python",
   "pygments_lexer": "ipython3",
   "version": "3.9.8"
  }
 },
 "nbformat": 4,
 "nbformat_minor": 5
}

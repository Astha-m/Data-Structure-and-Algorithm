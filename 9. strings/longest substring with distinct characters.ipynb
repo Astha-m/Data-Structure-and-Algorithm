{
 "cells": [
  {
   "cell_type": "code",
   "execution_count": 2,
   "id": "5d39b5d7",
   "metadata": {},
   "outputs": [
    {
     "data": {
      "text/plain": [
       "4"
      ]
     },
     "execution_count": 2,
     "metadata": {},
     "output_type": "execute_result"
    }
   ],
   "source": [
    "def longest_substring_distinct(strg):\n",
    "    n=len(strg)\n",
    "    \n",
    "    res=0\n",
    "    prev_ind=[-1]*256\n",
    "    start=0\n",
    "    for j in range(n):\n",
    "        val=ord(strg[j])\n",
    "        start=max(start,prev_ind[val]+1)\n",
    "        \n",
    "        maxend=j-start+1\n",
    "        res=max(res,maxend)\n",
    "        prev_ind[val]=j\n",
    "    return res\n",
    "\n",
    "longest_substring_distinct('abcadbd')"
   ]
  },
  {
   "cell_type": "code",
   "execution_count": null,
   "id": "2417c8f6",
   "metadata": {},
   "outputs": [],
   "source": []
  }
 ],
 "metadata": {
  "kernelspec": {
   "display_name": "Python 3 (ipykernel)",
   "language": "python",
   "name": "python3"
  },
  "language_info": {
   "codemirror_mode": {
    "name": "ipython",
    "version": 3
   },
   "file_extension": ".py",
   "mimetype": "text/x-python",
   "name": "python",
   "nbconvert_exporter": "python",
   "pygments_lexer": "ipython3",
   "version": "3.9.8"
  }
 },
 "nbformat": 4,
 "nbformat_minor": 5
}

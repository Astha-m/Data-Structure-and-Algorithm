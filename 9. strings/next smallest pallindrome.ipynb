{
 "cells": [
  {
   "cell_type": "code",
   "execution_count": 4,
   "id": "d8eb2db2",
   "metadata": {},
   "outputs": [],
   "source": [
    "def next_palindrome(num):\n",
    "    import math\n",
    "    strg=str(num)\n",
    "    n=len(strg)\n",
    "    s=set(strg)\n",
    "\n",
    "    if(len(s)==1 and '9' in s):\n",
    "        return int('1'+(n-1)*'0'+'1')\n",
    "\n",
    "\n",
    "    if(n==1):\n",
    "        if(num==9):\n",
    "            return 11\n",
    "        else:\n",
    "            return num+1\n",
    "    elif(math.log(num,10)==int(math.log(num,10))):\n",
    "        return num+1\n",
    "    else:\n",
    "\n",
    "        half=(n+1)//2\n",
    "        first_half=strg[:half]\n",
    "\n",
    "        if(n%2==0):\n",
    "            n1=int(first_half+first_half[::-1])\n",
    "            n2=int(str(int(first_half)+1)+str(int(first_half)+1)[::-1])\n",
    "        else:\n",
    "            n1=int(first_half[:-1]+first_half[::-1])\n",
    "            n2=int(str(int(first_half)+1)[:-1]+ str(int(first_half)+1)[::-1])\n",
    "    if(n1>num and n1<=n2):\n",
    "        return n1\n",
    "    else:\n",
    "        return n2"
   ]
  },
  {
   "cell_type": "code",
   "execution_count": 5,
   "id": "27462d82",
   "metadata": {},
   "outputs": [
    {
     "data": {
      "text/plain": [
       "66"
      ]
     },
     "execution_count": 5,
     "metadata": {},
     "output_type": "execute_result"
    }
   ],
   "source": [
    "next_palindrome(55)"
   ]
  },
  {
   "cell_type": "code",
   "execution_count": null,
   "id": "23861244",
   "metadata": {},
   "outputs": [],
   "source": []
  }
 ],
 "metadata": {
  "kernelspec": {
   "display_name": "Python 3 (ipykernel)",
   "language": "python",
   "name": "python3"
  },
  "language_info": {
   "codemirror_mode": {
    "name": "ipython",
    "version": 3
   },
   "file_extension": ".py",
   "mimetype": "text/x-python",
   "name": "python",
   "nbconvert_exporter": "python",
   "pygments_lexer": "ipython3",
   "version": "3.8.2"
  }
 },
 "nbformat": 4,
 "nbformat_minor": 5
}

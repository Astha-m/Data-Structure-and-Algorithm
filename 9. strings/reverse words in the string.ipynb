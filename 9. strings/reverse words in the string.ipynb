{
 "cells": [
  {
   "cell_type": "code",
   "execution_count": 31,
   "id": "2bbfeb85",
   "metadata": {},
   "outputs": [],
   "source": [
    "def reverse(strg,start,end):\n",
    "    print(start,end)\n",
    "    mid=(end-start)//2\n",
    "    for i in range(mid+1):\n",
    "        strg[start+i],strg[end-i]=strg[end-i],strg[start+i]\n",
    "    \n",
    "    \n",
    "    \n",
    "    \n",
    "def reverse_words(strg):\n",
    "    n=len(strg)\n",
    "    i=0\n",
    "    start=0\n",
    "    end=0\n",
    "    while(i<n):\n",
    "        if(strg[i]==' '):\n",
    "            reverse(strg,start,end)\n",
    "            print(strg)\n",
    "            start=i+1\n",
    "        else:\n",
    "            end=i\n",
    "        i+=1\n",
    "    reverse(strg,start,end)\n",
    "    print(''.join(strg))\n",
    "    "
   ]
  },
  {
   "cell_type": "code",
   "execution_count": 32,
   "id": "c17628d5",
   "metadata": {},
   "outputs": [
    {
     "name": "stdout",
     "output_type": "stream",
     "text": [
      "0 4\n",
      "['g', 'g', 'f', 'g', 'a', ' ', 'f', 'o', 'r', ' ', 's', 't', 'u', 'd', 'e', 'n', 't', 's']\n",
      "6 8\n",
      "['g', 'g', 'f', 'g', 'a', ' ', 'r', 'o', 'f', ' ', 's', 't', 'u', 'd', 'e', 'n', 't', 's']\n",
      "10 17\n",
      "ggfga rof stneduts\n"
     ]
    }
   ],
   "source": [
    "reverse_words(list('agfgg for students'))"
   ]
  },
  {
   "cell_type": "code",
   "execution_count": null,
   "id": "e604a798",
   "metadata": {},
   "outputs": [],
   "source": []
  }
 ],
 "metadata": {
  "kernelspec": {
   "display_name": "Python 3 (ipykernel)",
   "language": "python",
   "name": "python3"
  },
  "language_info": {
   "codemirror_mode": {
    "name": "ipython",
    "version": 3
   },
   "file_extension": ".py",
   "mimetype": "text/x-python",
   "name": "python",
   "nbconvert_exporter": "python",
   "pygments_lexer": "ipython3",
   "version": "3.9.8"
  }
 },
 "nbformat": 4,
 "nbformat_minor": 5
}

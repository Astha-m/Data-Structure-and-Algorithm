{
 "cells": [
  {
   "cell_type": "code",
   "execution_count": 1,
   "id": "d8ad4249",
   "metadata": {},
   "outputs": [
    {
     "data": {
      "text/plain": [
       "'\\nImplement the myAtoi(string s) function, which converts a string to a 32-bit signed integer (similar to C/C++\\'s atoi function).\\n\\nThe algorithm for myAtoi(string s) is as follows:\\n\\nRead in and ignore any leading whitespace.\\nCheck if the next character (if not already at the end of the string) is \\'-\\' or \\'+\\'. Read this character in if it is either. This determines if the final result is negative or positive respectively. Assume the result is positive if neither is present.\\nRead in next the characters until the next non-digit character or the end of the input is reached. The rest of the string is ignored.\\nConvert these digits into an integer (i.e. \"123\" -> 123, \"0032\" -> 32). If no digits were read, then the integer is 0. Change the sign as necessary (from step 2).\\nIf the integer is out of the 32-bit signed integer range [-231, 231 - 1], then clamp the integer so that it remains in the range. Specifically, integers less than -231 should be clamped to -231, and integers greater than 231 - 1 should be clamped to 231 - 1.\\nReturn the integer as the final result.\\nNote:\\n\\nOnly the space character \\' \\' is considered a whitespace character.\\nDo not ignore any characters other than the leading whitespace or the rest of the string after the digits.\\n\\n\\n'"
      ]
     },
     "execution_count": 1,
     "metadata": {},
     "output_type": "execute_result"
    }
   ],
   "source": [
    "'''\n",
    "Implement the myAtoi(string s) function, which converts a string to a 32-bit signed integer (similar to C/C++'s atoi function).\n",
    "\n",
    "The algorithm for myAtoi(string s) is as follows:\n",
    "\n",
    "Read in and ignore any leading whitespace.\n",
    "Check if the next character (if not already at the end of the string) is '-' or '+'. Read this character in if it is either. This determines if the final result is negative or positive respectively. Assume the result is positive if neither is present.\n",
    "Read in next the characters until the next non-digit character or the end of the input is reached. The rest of the string is ignored.\n",
    "Convert these digits into an integer (i.e. \"123\" -> 123, \"0032\" -> 32). If no digits were read, then the integer is 0. Change the sign as necessary (from step 2).\n",
    "If the integer is out of the 32-bit signed integer range [-231, 231 - 1], then clamp the integer so that it remains in the range. Specifically, integers less than -231 should be clamped to -231, and integers greater than 231 - 1 should be clamped to 231 - 1.\n",
    "Return the integer as the final result.\n",
    "Note:\n",
    "\n",
    "Only the space character ' ' is considered a whitespace character.\n",
    "Do not ignore any characters other than the leading whitespace or the rest of the string after the digits.\n",
    "\n",
    "\n",
    "'''"
   ]
  },
  {
   "cell_type": "code",
   "execution_count": 2,
   "id": "7e98b477",
   "metadata": {},
   "outputs": [
    {
     "data": {
      "text/plain": [
       "'\\nInput: s = \"   -42\"\\nOutput: -42\\n\\n'"
      ]
     },
     "execution_count": 2,
     "metadata": {},
     "output_type": "execute_result"
    }
   ],
   "source": [
    "'''\n",
    "Input: s = \"   -42\"\n",
    "Output: -42\n",
    "\n",
    "'''"
   ]
  },
  {
   "cell_type": "code",
   "execution_count": 6,
   "id": "cde2546d",
   "metadata": {},
   "outputs": [
    {
     "data": {
      "text/plain": [
       "-42"
      ]
     },
     "execution_count": 6,
     "metadata": {},
     "output_type": "execute_result"
    }
   ],
   "source": [
    "def atoi(strg):\n",
    "    i=0\n",
    "    n=len(strg)\n",
    "    \n",
    "    while(i<n and strg[i]==' '):\n",
    "        i+=1\n",
    "    \n",
    "    flag=1\n",
    "    if(i<n and strg[i]=='-'):\n",
    "        flag=-1\n",
    "        i+=1\n",
    "    elif(i<n and strg[i]=='+'):\n",
    "        flag=1\n",
    "        i+=1\n",
    "    num=0\n",
    "    \n",
    "    int_max=pow(2,31)-1\n",
    "    int_min=-pow(2,31)\n",
    "    \n",
    "    dic={'0':0,'1':1,'2':2,'3':3,'4':4,'5':5,'6':6,'7':7,'8':8,'9':9}\n",
    "    \n",
    "    while(i<n):\n",
    "        if(strg[i] in dic):\n",
    "            num=num*10+dic[strg[i]]\n",
    "        else:\n",
    "            break\n",
    "        i+=1\n",
    "    num*=flag\n",
    "    if(flag==1):\n",
    "        return min(int_max,num)\n",
    "    else:\n",
    "        return max(int_min,num)\n",
    "\n",
    "atoi('   -42')"
   ]
  },
  {
   "cell_type": "code",
   "execution_count": null,
   "id": "5aa1105f",
   "metadata": {},
   "outputs": [],
   "source": []
  }
 ],
 "metadata": {
  "kernelspec": {
   "display_name": "Python 3 (ipykernel)",
   "language": "python",
   "name": "python3"
  },
  "language_info": {
   "codemirror_mode": {
    "name": "ipython",
    "version": 3
   },
   "file_extension": ".py",
   "mimetype": "text/x-python",
   "name": "python",
   "nbconvert_exporter": "python",
   "pygments_lexer": "ipython3",
   "version": "3.9.8"
  }
 },
 "nbformat": 4,
 "nbformat_minor": 5
}

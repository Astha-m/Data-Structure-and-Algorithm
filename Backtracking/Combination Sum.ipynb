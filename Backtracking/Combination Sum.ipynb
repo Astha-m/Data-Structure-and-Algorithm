{
 "cells": [
  {
   "cell_type": "code",
   "execution_count": 1,
   "id": "193f6a04",
   "metadata": {},
   "outputs": [
    {
     "data": {
      "text/plain": [
       "'\\nGiven an array of integers and a sum B, find all unique combinations in \\nthe array where the sum is equal to B. The same number may be chosen from \\nthe array any number of times to make B.\\n\\nNote:\\n        1. All numbers will be positive integers.\\n        2. Elements in a combination (a1, a2, …, ak) must be in non-descending order. \\n        (ie, a1 ≤ a2 ≤ … ≤ ak).\\n        3. The combinations themselves must be sorted in ascending order.\\n\\n\\nExample 1:\\n\\nInput:\\nN = 4\\narr[] = {7,2,6,5}\\nB = 16\\nOutput:\\n(2 2 2 2 2 2 2 2)\\n(2 2 2 2 2 6)\\n(2 2 2 5 5)\\n(2 2 5 7)\\n(2 2 6 6)\\n(2 7 7)\\n(5 5 6)\\nExample 2:\\n\\nInput:\\nN = 11\\narr[] = {6,5,7,1,8,2,9,9,7,7,9}\\nB = 6\\nOutput:\\n(1 1 1 1 1 1)\\n(1 1 1 1 2)\\n(1 1 2 2)\\n(1 5)\\n(2 2 2)\\n(6)\\n'"
      ]
     },
     "execution_count": 1,
     "metadata": {},
     "output_type": "execute_result"
    }
   ],
   "source": [
    "'''\n",
    "Given an array of integers and a sum B, find all unique combinations in \n",
    "the array where the sum is equal to B. The same number may be chosen from \n",
    "the array any number of times to make B.\n",
    "\n",
    "Note:\n",
    "        1. All numbers will be positive integers.\n",
    "        2. Elements in a combination (a1, a2, …, ak) must be in non-descending order. \n",
    "        (ie, a1 ≤ a2 ≤ … ≤ ak).\n",
    "        3. The combinations themselves must be sorted in ascending order.\n",
    "\n",
    "\n",
    "Example 1:\n",
    "\n",
    "Input:\n",
    "N = 4\n",
    "arr[] = {7,2,6,5}\n",
    "B = 16\n",
    "Output:\n",
    "(2 2 2 2 2 2 2 2)\n",
    "(2 2 2 2 2 6)\n",
    "(2 2 2 5 5)\n",
    "(2 2 5 7)\n",
    "(2 2 6 6)\n",
    "(2 7 7)\n",
    "(5 5 6)\n",
    "Example 2:\n",
    "\n",
    "Input:\n",
    "N = 11\n",
    "arr[] = {6,5,7,1,8,2,9,9,7,7,9}\n",
    "B = 6\n",
    "Output:\n",
    "(1 1 1 1 1 1)\n",
    "(1 1 1 1 2)\n",
    "(1 1 2 2)\n",
    "(1 5)\n",
    "(2 2 2)\n",
    "(6)\n",
    "'''"
   ]
  },
  {
   "cell_type": "code",
   "execution_count": null,
   "id": "47b93984",
   "metadata": {},
   "outputs": [],
   "source": [
    "def combinationalSum(self,arr, su):\n",
    "        \n",
    "        def findNumbers(ans, arr, temp, sum, index):\n",
    "     \n",
    "            if(sum == 0):\n",
    "                 \n",
    "                # Adding deep copy of list to ans\n",
    "                ans.append(list(temp))\n",
    "                return\n",
    "               \n",
    "            # Iterate from index to len(arr) - 1\n",
    "            for i in range(index, len(arr)):\n",
    "         \n",
    "                # checking that sum does not become negative\n",
    "                if(sum - arr[i]) >= 0:\n",
    "         \n",
    "                    # adding element which can contribute to\n",
    "                    # sum\n",
    "                    temp.append(arr[i])\n",
    "                    findNumbers(ans, arr, temp, sum-arr[i], i)\n",
    "         \n",
    "                    # removing element from list (backtracking)\n",
    "                    temp.remove(arr[i])\n",
    "        \n",
    "        \n",
    "        \n",
    "        ans=[]\n",
    "        temp=[]\n",
    "        \n",
    "        arr=sorted(list(set(arr)))\n",
    "        \n",
    "        findNumbers(ans,arr,temp,su,0)\n",
    "        return ans"
   ]
  }
 ],
 "metadata": {
  "kernelspec": {
   "display_name": "Python 3 (ipykernel)",
   "language": "python",
   "name": "python3"
  },
  "language_info": {
   "codemirror_mode": {
    "name": "ipython",
    "version": 3
   },
   "file_extension": ".py",
   "mimetype": "text/x-python",
   "name": "python",
   "nbconvert_exporter": "python",
   "pygments_lexer": "ipython3",
   "version": "3.9.8"
  }
 },
 "nbformat": 4,
 "nbformat_minor": 5
}

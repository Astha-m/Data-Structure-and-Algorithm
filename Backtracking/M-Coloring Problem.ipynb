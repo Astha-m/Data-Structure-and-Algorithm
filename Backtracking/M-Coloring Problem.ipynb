{
 "cells": [
  {
   "cell_type": "code",
   "execution_count": 1,
   "id": "02f9b4de",
   "metadata": {},
   "outputs": [
    {
     "data": {
      "text/plain": [
       "'\\nGiven an undirected graph and an integer M. The task is to determine if the graph \\ncan be colored with at most M colors such that no two adjacent vertices of the graph \\nare colored with the same color. Here coloring of a graph means the assignment of colors \\nto all vertices. Print 1 if it is possible to colour vertices and 0 otherwise.\\n\\nExample 1:\\n\\nInput:\\nN = 4\\nM = 3\\nE = 5\\nEdges[] = {(0,1),(1,2),(2,3),(3,0),(0,2)}\\nOutput: 1\\nExplanation: It is possible to colour the\\ngiven graph using 3 colours.\\nExample 2:\\n\\nInput:\\nN = 3\\nM = 2\\nE = 3\\nEdges[] = {(0,1),(1,2),(0,2)}\\nOutput: 0\\n'"
      ]
     },
     "execution_count": 1,
     "metadata": {},
     "output_type": "execute_result"
    }
   ],
   "source": [
    "'''\n",
    "Given an undirected graph and an integer M. The task is to determine if the graph \n",
    "can be colored with at most M colors such that no two adjacent vertices of the graph \n",
    "are colored with the same color. Here coloring of a graph means the assignment of colors \n",
    "to all vertices. Print 1 if it is possible to colour vertices and 0 otherwise.\n",
    "\n",
    "Example 1:\n",
    "\n",
    "Input:\n",
    "N = 4\n",
    "M = 3\n",
    "E = 5\n",
    "Edges[] = {(0,1),(1,2),(2,3),(3,0),(0,2)}\n",
    "Output: 1\n",
    "Explanation: It is possible to colour the\n",
    "given graph using 3 colours.\n",
    "Example 2:\n",
    "\n",
    "Input:\n",
    "N = 3\n",
    "M = 2\n",
    "E = 3\n",
    "Edges[] = {(0,1),(1,2),(0,2)}\n",
    "Output: 0\n",
    "'''"
   ]
  },
  {
   "cell_type": "code",
   "execution_count": null,
   "id": "38f16214",
   "metadata": {},
   "outputs": [],
   "source": [
    "def isSafe(graph,color,node,val):\n",
    "    for i in range(V):\n",
    "        if(graph[node][i]==1 and color[i]==val):\n",
    "            return False\n",
    "    return True\n",
    "    \n",
    "\n",
    "def solve(graph,node,V,k,color):\n",
    "    if(node==V):\n",
    "        return True\n",
    "    \n",
    "    for i in range(1,k+1):\n",
    "        if(isSafe(graph,color,node,i)==True):\n",
    "            color[node]=i\n",
    "            if(solve(graph,node+1,V,k,color)==True):\n",
    "                return True\n",
    "            color[node]=0\n",
    "    return False\n",
    "\n",
    "\n",
    "def graphColoring(graph, k, V):\n",
    "    #your code here\n",
    "    color=[0]*V\n",
    "    if(solve(graph,0,V,k,color)==True):\n",
    "        return True\n",
    "    return False\n"
   ]
  }
 ],
 "metadata": {
  "kernelspec": {
   "display_name": "Python 3 (ipykernel)",
   "language": "python",
   "name": "python3"
  },
  "language_info": {
   "codemirror_mode": {
    "name": "ipython",
    "version": 3
   },
   "file_extension": ".py",
   "mimetype": "text/x-python",
   "name": "python",
   "nbconvert_exporter": "python",
   "pygments_lexer": "ipython3",
   "version": "3.9.8"
  }
 },
 "nbformat": 4,
 "nbformat_minor": 5
}

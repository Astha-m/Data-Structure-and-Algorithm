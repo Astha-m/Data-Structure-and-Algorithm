{
 "cells": [
  {
   "cell_type": "code",
   "execution_count": 1,
   "id": "073d328e",
   "metadata": {},
   "outputs": [
    {
     "data": {
      "text/plain": [
       "'\\nThe n-queens puzzle is the problem of placing n queens on a (n×n) chessboard such that \\nno two queens can attack each other.\\nGiven an integer n, find all distinct solutions to the n-queens puzzle. Each solution \\ncontains distinct board configurations of the n-queens’ placement, where the solutions \\nare a permutation of [1,2,3..n] in increasing order, here the number in the ith place \\ndenotes that the ith-column queen is placed in the row with that number. For eg below \\nfigure represents a chessboard [3 1 4 2].\\n\\n\\n\\n \\n\\nExample 1:\\n\\nInput:\\n1\\nOutput:\\n[1]\\nExplaination:\\nOnly one queen can be placed \\nin the single cell available.\\nExample 2:\\n\\nInput:\\n4\\nOutput:\\n[2 4 1 3 ] [3 1 4 2 ]\\nExplaination:\\nThese are the 2 possible solutions.\\n'"
      ]
     },
     "execution_count": 1,
     "metadata": {},
     "output_type": "execute_result"
    }
   ],
   "source": [
    "'''\n",
    "The n-queens puzzle is the problem of placing n queens on a (n×n) chessboard such that \n",
    "no two queens can attack each other.\n",
    "Given an integer n, find all distinct solutions to the n-queens puzzle. Each solution \n",
    "contains distinct board configurations of the n-queens’ placement, where the solutions \n",
    "are a permutation of [1,2,3..n] in increasing order, here the number in the ith place \n",
    "denotes that the ith-column queen is placed in the row with that number. For eg below \n",
    "figure represents a chessboard [3 1 4 2].\n",
    "\n",
    "\n",
    "\n",
    " \n",
    "\n",
    "Example 1:\n",
    "\n",
    "Input:\n",
    "1\n",
    "Output:\n",
    "[1]\n",
    "Explaination:\n",
    "Only one queen can be placed \n",
    "in the single cell available.\n",
    "Example 2:\n",
    "\n",
    "Input:\n",
    "4\n",
    "Output:\n",
    "[2 4 1 3 ] [3 1 4 2 ]\n",
    "Explaination:\n",
    "These are the 2 possible solutions.\n",
    "'''"
   ]
  },
  {
   "cell_type": "code",
   "execution_count": null,
   "id": "851ada35",
   "metadata": {},
   "outputs": [],
   "source": [
    "def nQueen(self, n):\n",
    "        \n",
    "        def solve(col,board,leftrow,upperdiagonal,lowerdiagonal,n):\n",
    "            nonlocal ans\n",
    "            if(col==n):\n",
    "                ans.append(board[::])\n",
    "                return\n",
    "            \n",
    "            for row in range(n):\n",
    "                if(leftrow[row]==0 and lowerdiagonal[row+col]==0 and upperdiagonal[n-1+col-row]==0):\n",
    "                    board[col]=row+1\n",
    "                    leftrow[row]=1\n",
    "                    lowerdiagonal[row+col]=1\n",
    "                    upperdiagonal[n-1+col-row]=1\n",
    "                    \n",
    "                    solve(col+1,board,leftrow,upperdiagonal,lowerdiagonal,n)\n",
    "                    \n",
    "                    board[col]=0\n",
    "                    leftrow[row]=0\n",
    "                    lowerdiagonal[row+col]=0\n",
    "                    upperdiagonal[n-1+col-row]=0\n",
    "            \n",
    "                    \n",
    "                    \n",
    "        \n",
    "        \n",
    "        ans=[]\n",
    "        board=[0]*n\n",
    "        \n",
    "        leftrow=[0]*n\n",
    "        upperdiagonal=[0]*(2*n-1)\n",
    "        lowerdiagonal=[0]*(2*n-1)\n",
    "        \n",
    "        solve(0,board,leftrow,upperdiagonal,lowerdiagonal,n)\n",
    "        \n",
    "        return ans\n"
   ]
  }
 ],
 "metadata": {
  "kernelspec": {
   "display_name": "Python 3 (ipykernel)",
   "language": "python",
   "name": "python3"
  },
  "language_info": {
   "codemirror_mode": {
    "name": "ipython",
    "version": 3
   },
   "file_extension": ".py",
   "mimetype": "text/x-python",
   "name": "python",
   "nbconvert_exporter": "python",
   "pygments_lexer": "ipython3",
   "version": "3.9.8"
  }
 },
 "nbformat": 4,
 "nbformat_minor": 5
}

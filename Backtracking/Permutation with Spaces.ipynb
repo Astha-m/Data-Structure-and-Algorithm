{
 "cells": [
  {
   "cell_type": "code",
   "execution_count": 1,
   "id": "177eabed",
   "metadata": {},
   "outputs": [
    {
     "data": {
      "text/plain": [
       "'\\nGiven a string you need to print all possible strings that can be made \\nby placing spaces (zero or one) in between them. The output should be printed \\nin sorted increasing order of strings\\n\\nExample 1:\\n\\nInput:\\nS = \"ABC\"\\nOutput: (A B C)(A BC)(AB C)(ABC)\\nExplanation:\\nABC\\nAB C\\nA BC\\nA B C\\nThese are the possible combination of \"ABC\".\\n \\n\\nExample 2:\\n\\nInput:\\nS = \"AB\"\\nOutput: (A B)(AB)\\n\\n'"
      ]
     },
     "execution_count": 1,
     "metadata": {},
     "output_type": "execute_result"
    }
   ],
   "source": [
    "'''\n",
    "Given a string you need to print all possible strings that can be made \n",
    "by placing spaces (zero or one) in between them. The output should be printed \n",
    "in sorted increasing order of strings\n",
    "\n",
    "Example 1:\n",
    "\n",
    "Input:\n",
    "S = \"ABC\"\n",
    "Output: (A B C)(A BC)(AB C)(ABC)\n",
    "Explanation:\n",
    "ABC\n",
    "AB C\n",
    "A BC\n",
    "A B C\n",
    "These are the possible combination of \"ABC\".\n",
    " \n",
    "\n",
    "Example 2:\n",
    "\n",
    "Input:\n",
    "S = \"AB\"\n",
    "Output: (A B)(AB)\n",
    "\n",
    "'''"
   ]
  },
  {
   "cell_type": "code",
   "execution_count": null,
   "id": "43ce0e1b",
   "metadata": {},
   "outputs": [],
   "source": [
    "def permutation (self, s):\n",
    "    res=[]\n",
    "    def recur(s,ind,curr):\n",
    "        if(ind==len(s)):\n",
    "            if(curr[-1]!=' '):\n",
    "                res.append(curr)\n",
    "            return\n",
    "\n",
    "        recur(s,ind+1,curr+s[ind]+' ')\n",
    "        recur(s,ind+1,curr+s[ind])\n",
    "\n",
    "    recur(s,0,'')\n",
    "    return res"
   ]
  }
 ],
 "metadata": {
  "kernelspec": {
   "display_name": "Python 3 (ipykernel)",
   "language": "python",
   "name": "python3"
  },
  "language_info": {
   "codemirror_mode": {
    "name": "ipython",
    "version": 3
   },
   "file_extension": ".py",
   "mimetype": "text/x-python",
   "name": "python",
   "nbconvert_exporter": "python",
   "pygments_lexer": "ipython3",
   "version": "3.9.8"
  }
 },
 "nbformat": 4,
 "nbformat_minor": 5
}

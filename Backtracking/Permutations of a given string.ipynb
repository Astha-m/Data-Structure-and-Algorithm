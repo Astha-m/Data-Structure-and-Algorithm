{
 "cells": [
  {
   "cell_type": "code",
   "execution_count": 1,
   "id": "d0a72d6e",
   "metadata": {},
   "outputs": [
    {
     "data": {
      "text/plain": [
       "'\\nGiven a string S. The task is to print all unique permutations of the given string in \\nlexicographically sorted order.\\n\\n \\n\\nExample 1:\\n\\nInput: ABC\\nOutput:\\nABC ACB BAC BCA CAB CBA\\nExplanation:\\nGiven string ABC has permutations in 6 \\nforms as ABC, ACB, BAC, BCA, CAB and CBA .\\nExample 2:\\n\\nInput: ABSG\\nOutput:\\nABGS ABSG AGBS AGSB ASBG ASGB BAGS \\nBASG BGAS BGSA BSAG BSGA GABS GASB \\nGBAS GBSA GSAB GSBA SABG SAGB SBAG \\nSBGA SGAB SGBA\\nExplanation:\\nGiven string ABSG has 24 permutations.\\n\\n'"
      ]
     },
     "execution_count": 1,
     "metadata": {},
     "output_type": "execute_result"
    }
   ],
   "source": [
    "'''\n",
    "Given a string S. The task is to print all unique permutations of the given string in \n",
    "lexicographically sorted order.\n",
    "\n",
    " \n",
    "\n",
    "Example 1:\n",
    "\n",
    "Input: ABC\n",
    "Output:\n",
    "ABC ACB BAC BCA CAB CBA\n",
    "Explanation:\n",
    "Given string ABC has permutations in 6 \n",
    "forms as ABC, ACB, BAC, BCA, CAB and CBA .\n",
    "Example 2:\n",
    "\n",
    "Input: ABSG\n",
    "Output:\n",
    "ABGS ABSG AGBS AGSB ASBG ASGB BAGS \n",
    "BASG BGAS BGSA BSAG BSGA GABS GASB \n",
    "GBAS GBSA GSAB GSBA SABG SAGB SBAG \n",
    "SBGA SGAB SGBA\n",
    "Explanation:\n",
    "Given string ABSG has 24 permutations.\n",
    "\n",
    "'''"
   ]
  },
  {
   "cell_type": "code",
   "execution_count": null,
   "id": "13d3fb8e",
   "metadata": {},
   "outputs": [],
   "source": [
    "def find_permutation(self, s):\n",
    "    # Code here\n",
    "    res=set()\n",
    "\n",
    "    def permute(strg,i):\n",
    "        nonlocal res\n",
    "        if(i==len(strg)-1):\n",
    "            res.add(''.join(strg))\n",
    "            #print(res)\n",
    "            return\n",
    "\n",
    "        for j in range(i,len(strg)):\n",
    "            strg[i],strg[j]=strg[j],strg[i]\n",
    "            permute(strg,i+1)\n",
    "            strg[i],strg[j]=strg[j],strg[i]\n",
    "    permute(list(s),0)\n",
    "    return sorted(list(res))"
   ]
  }
 ],
 "metadata": {
  "kernelspec": {
   "display_name": "Python 3 (ipykernel)",
   "language": "python",
   "name": "python3"
  },
  "language_info": {
   "codemirror_mode": {
    "name": "ipython",
    "version": 3
   },
   "file_extension": ".py",
   "mimetype": "text/x-python",
   "name": "python",
   "nbconvert_exporter": "python",
   "pygments_lexer": "ipython3",
   "version": "3.9.8"
  }
 },
 "nbformat": 4,
 "nbformat_minor": 5
}

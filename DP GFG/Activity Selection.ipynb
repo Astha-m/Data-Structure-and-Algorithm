{
 "cells": [
  {
   "cell_type": "code",
   "execution_count": 1,
   "id": "21abb8e4",
   "metadata": {},
   "outputs": [
    {
     "data": {
      "text/plain": [
       "\"\\nhttps://practice.geeksforgeeks.org/problems/activity-selection-1587115620/1?page=1&difficulty[]=0&category[]=Dynamic%20Programming&sortBy=submissions\\n\\nGiven N activities with their start and finish day given in array \\nstart[ ] and end[ ]. Select the maximum number of activities that can\\nbe performed by a single person, assuming that a person can only work \\non a single activity at a given day.\\nNote : Duration of the activity includes both starting and ending day.\\n\\n\\nExample 1:\\n\\nInput:\\nN = 2\\nstart[] = {2, 1}\\nend[] = {2, 2}\\nOutput: \\n1\\nExplanation:\\nA person can perform only one of the\\ngiven activities.\\nExample 2:\\n\\nInput:\\nN = 4\\nstart[] = {1, 3, 2, 5}\\nend[] = {2, 4, 3, 6}\\nOutput: \\n3\\nExplanation:\\nA person can perform activities 1, 2\\nand 4.\\n\\nYour Task :\\nYou don't need to read input or print anything. Your task \\nis to complete the function activityselection() which takes\\narray start[ ], array end[ ] and integer N as input parameters\\nand returns the maximum number of activities that can be done.\\n\\n\\nExpected Time Complexity : O(N * Log(N))\\nExpected Auxilliary Space : O(N)\\n\\n\""
      ]
     },
     "execution_count": 1,
     "metadata": {},
     "output_type": "execute_result"
    }
   ],
   "source": [
    "'''\n",
    "https://practice.geeksforgeeks.org/problems/activity-selection-1587115620/1?page=1&difficulty[]=0&category[]=Dynamic%20Programming&sortBy=submissions\n",
    "\n",
    "Given N activities with their start and finish day given in array \n",
    "start[ ] and end[ ]. Select the maximum number of activities that can\n",
    "be performed by a single person, assuming that a person can only work \n",
    "on a single activity at a given day.\n",
    "Note : Duration of the activity includes both starting and ending day.\n",
    "\n",
    "\n",
    "Example 1:\n",
    "\n",
    "Input:\n",
    "N = 2\n",
    "start[] = {2, 1}\n",
    "end[] = {2, 2}\n",
    "Output: \n",
    "1\n",
    "Explanation:\n",
    "A person can perform only one of the\n",
    "given activities.\n",
    "Example 2:\n",
    "\n",
    "Input:\n",
    "N = 4\n",
    "start[] = {1, 3, 2, 5}\n",
    "end[] = {2, 4, 3, 6}\n",
    "Output: \n",
    "3\n",
    "Explanation:\n",
    "A person can perform activities 1, 2\n",
    "and 4.\n",
    "\n",
    "Your Task :\n",
    "You don't need to read input or print anything. Your task \n",
    "is to complete the function activityselection() which takes\n",
    "array start[ ], array end[ ] and integer N as input parameters\n",
    "and returns the maximum number of activities that can be done.\n",
    "\n",
    "\n",
    "Expected Time Complexity : O(N * Log(N))\n",
    "Expected Auxilliary Space : O(N)\n",
    "\n",
    "'''"
   ]
  },
  {
   "cell_type": "code",
   "execution_count": null,
   "id": "f957742a",
   "metadata": {},
   "outputs": [],
   "source": [
    "def activitySelection(self,n,start,end):\n",
    "    lst=[]\n",
    "    for i in range(n):\n",
    "        lst.append((start[i],end[i]))\n",
    "    lst.sort(key=lambda x:x[1])\n",
    "\n",
    "    ans=[lst[0]]\n",
    "\n",
    "    for i in range(1,n):\n",
    "        if(lst[i][0]>ans[-1][1]):\n",
    "            ans.append(lst[i])\n",
    "    return len(ans)\n"
   ]
  }
 ],
 "metadata": {
  "kernelspec": {
   "display_name": "Python 3 (ipykernel)",
   "language": "python",
   "name": "python3"
  },
  "language_info": {
   "codemirror_mode": {
    "name": "ipython",
    "version": 3
   },
   "file_extension": ".py",
   "mimetype": "text/x-python",
   "name": "python",
   "nbconvert_exporter": "python",
   "pygments_lexer": "ipython3",
   "version": "3.10.7"
  }
 },
 "nbformat": 4,
 "nbformat_minor": 5
}

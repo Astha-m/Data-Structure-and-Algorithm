{
 "cells": [
  {
   "cell_type": "code",
   "execution_count": 1,
   "id": "6359ad12",
   "metadata": {},
   "outputs": [
    {
     "data": {
      "text/plain": [
       "'\\nhttps://practice.geeksforgeeks.org/problems/adjacents-are-not-allowed3528/1?page=2&difficulty[]=0&category[]=Dynamic%20Programming&sortBy=submissions\\n\\n\\nYou have a rectangular grid mat of dimension \\n2 x N. You need to find out the maximum sum such \\nthat no two chosen numbers are adjacent, vertically,\\ndiagonally or horizontally.\\n\\nExample 1:\\n\\nInput: N = 3\\nmat = {{1, 4, 5}, \\n       {2, 0, 0}}\\nOutput: 7\\nExplaination: Optimal choice is (2, 5).\\nExample 2:\\n\\nInput: N = 2\\nmat = {{1, 2}, \\n       {3, 4}}\\nOutput: 4\\nExplaination: Optimal choice is (4).\\nYour Task:\\nYou do not need to read input or print anything. \\nYour task is to complete the function maxSum() which \\ntakes the value N and grid mat as input parameters and \\nreturns the maximum sum.\\n\\nExpected Time Complexity: O(N)\\nExpected Auxiliary Space: O(N)\\n\\nConstraints:\\n1 ≤ N ≤ 10000\\n1 ≤ mat[i][j] ≤ 70\\n'"
      ]
     },
     "execution_count": 1,
     "metadata": {},
     "output_type": "execute_result"
    }
   ],
   "source": [
    "'''\n",
    "https://practice.geeksforgeeks.org/problems/adjacents-are-not-allowed3528/1?page=2&difficulty[]=0&category[]=Dynamic%20Programming&sortBy=submissions\n",
    "\n",
    "\n",
    "You have a rectangular grid mat of dimension \n",
    "2 x N. You need to find out the maximum sum such \n",
    "that no two chosen numbers are adjacent, vertically,\n",
    "diagonally or horizontally.\n",
    "\n",
    "Example 1:\n",
    "\n",
    "Input: N = 3\n",
    "mat = {{1, 4, 5}, \n",
    "       {2, 0, 0}}\n",
    "Output: 7\n",
    "Explaination: Optimal choice is (2, 5).\n",
    "Example 2:\n",
    "\n",
    "Input: N = 2\n",
    "mat = {{1, 2}, \n",
    "       {3, 4}}\n",
    "Output: 4\n",
    "Explaination: Optimal choice is (4).\n",
    "Your Task:\n",
    "You do not need to read input or print anything. \n",
    "Your task is to complete the function maxSum() which \n",
    "takes the value N and grid mat as input parameters and \n",
    "returns the maximum sum.\n",
    "\n",
    "Expected Time Complexity: O(N)\n",
    "Expected Auxiliary Space: O(N)\n",
    "\n",
    "Constraints:\n",
    "1 ≤ N ≤ 10000\n",
    "1 ≤ mat[i][j] ≤ 70\n",
    "'''"
   ]
  },
  {
   "cell_type": "code",
   "execution_count": 2,
   "id": "86c33296",
   "metadata": {},
   "outputs": [],
   "source": [
    "def maxSum(self, n, mat):\n",
    "    # code here\n",
    "    dp=[0]*n\n",
    "    dp[0]=max(mat[0][0],mat[1][0])\n",
    "    if(n>1):\n",
    "        for i in range(1,n):\n",
    "            take=max(mat[0][i],mat[1][i])+dp[i-2]\n",
    "            notake=dp[i-1]\n",
    "\n",
    "            dp[i]=max(take,notake)\n",
    "    return dp[n-1]"
   ]
  },
  {
   "cell_type": "code",
   "execution_count": null,
   "id": "2c196453",
   "metadata": {},
   "outputs": [],
   "source": []
  }
 ],
 "metadata": {
  "kernelspec": {
   "display_name": "Python 3 (ipykernel)",
   "language": "python",
   "name": "python3"
  },
  "language_info": {
   "codemirror_mode": {
    "name": "ipython",
    "version": 3
   },
   "file_extension": ".py",
   "mimetype": "text/x-python",
   "name": "python",
   "nbconvert_exporter": "python",
   "pygments_lexer": "ipython3",
   "version": "3.9.13"
  }
 },
 "nbformat": 4,
 "nbformat_minor": 5
}

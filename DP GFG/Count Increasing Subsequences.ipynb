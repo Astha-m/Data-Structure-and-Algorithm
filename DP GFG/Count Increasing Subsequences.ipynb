{
 "cells": [
  {
   "cell_type": "code",
   "execution_count": 1,
   "id": "e1418d88",
   "metadata": {},
   "outputs": [
    {
     "data": {
      "text/plain": [
       "\"\\nhttps://practice.geeksforgeeks.org/problems/count-increasing-subsequences3134/1?page=3&difficulty[]=0&category[]=Dynamic%20Programming&sortBy=submissions\\n\\n\\nGiven an array of digits (values lie in range\\nfrom 0 to 9). The task is to count all the sub \\nsequences possible in array such that in each \\nsubsequence every digit is greater than its \\nprevious digits in the subsequence.\\n\\n \\n\\nExample 1:\\n\\nInput : \\na[] = {1, 2, 3, 4}\\nOutput: \\n15\\nExplanation :\\nThere are total increasing subsequences\\n{1}, {2}, {3}, {4}, {1,2}, {1,3}, {1,4},\\n{2,3}, {2,4}, {3,4}, {1,2,3}, {1,2,4},\\n{1,3,4}, {2,3,4}, {1,2,3,4}\\n \\n\\nExample 2:\\n\\nInput : \\na[] = {4, 3, 6, 5}\\nOutput:\\n8\\nExplanation :\\nSub-sequences are {4}, {3}, {6}, {5},\\n{4,6}, {4,5}, {3,6}, {3,5}\\n \\n\\nExample 3:\\n\\nInput : \\na[] = {3, 2, 4, 5, 4}\\nOutput : \\n14\\nExplanation :\\nSub-sequences are {3}, {2}, {4}, {3,4},\\n{2,4}, {5}, {3,5}, {2,5}, {4,5}, {3,2,5}\\n{3,4,5}, {4}, {3,4}, {2,4}\\n\\n\\nYour Task:\\nYou don't have to print anything, printing is done\\nby the driver function. You have to complete the \\nfunction countSub() which takes the array a[] and \\nits size N as inputs and returns the count of all \\nincreasing subsequences in given array of digits.\\n\\n \\n\\nExpected Time Complexity: O(N)\\nExpected Auxiliary Space: O( max(a[i]) ) = O(10)\\n\\n\\nConstraints:\\n1 ≤ N ≤ 500\\n1 ≤ a[i] ≤ 9\\n\""
      ]
     },
     "execution_count": 1,
     "metadata": {},
     "output_type": "execute_result"
    }
   ],
   "source": [
    "'''\n",
    "https://practice.geeksforgeeks.org/problems/count-increasing-subsequences3134/1?page=3&difficulty[]=0&category[]=Dynamic%20Programming&sortBy=submissions\n",
    "\n",
    "\n",
    "Given an array of digits (values lie in range\n",
    "from 0 to 9). The task is to count all the sub \n",
    "sequences possible in array such that in each \n",
    "subsequence every digit is greater than its \n",
    "previous digits in the subsequence.\n",
    "\n",
    " \n",
    "\n",
    "Example 1:\n",
    "\n",
    "Input : \n",
    "a[] = {1, 2, 3, 4}\n",
    "Output: \n",
    "15\n",
    "Explanation :\n",
    "There are total increasing subsequences\n",
    "{1}, {2}, {3}, {4}, {1,2}, {1,3}, {1,4},\n",
    "{2,3}, {2,4}, {3,4}, {1,2,3}, {1,2,4},\n",
    "{1,3,4}, {2,3,4}, {1,2,3,4}\n",
    " \n",
    "\n",
    "Example 2:\n",
    "\n",
    "Input : \n",
    "a[] = {4, 3, 6, 5}\n",
    "Output:\n",
    "8\n",
    "Explanation :\n",
    "Sub-sequences are {4}, {3}, {6}, {5},\n",
    "{4,6}, {4,5}, {3,6}, {3,5}\n",
    " \n",
    "\n",
    "Example 3:\n",
    "\n",
    "Input : \n",
    "a[] = {3, 2, 4, 5, 4}\n",
    "Output : \n",
    "14\n",
    "Explanation :\n",
    "Sub-sequences are {3}, {2}, {4}, {3,4},\n",
    "{2,4}, {5}, {3,5}, {2,5}, {4,5}, {3,2,5}\n",
    "{3,4,5}, {4}, {3,4}, {2,4}\n",
    "\n",
    "\n",
    "Your Task:\n",
    "You don't have to print anything, printing is done\n",
    "by the driver function. You have to complete the \n",
    "function countSub() which takes the array a[] and \n",
    "its size N as inputs and returns the count of all \n",
    "increasing subsequences in given array of digits.\n",
    "\n",
    " \n",
    "\n",
    "Expected Time Complexity: O(N)\n",
    "Expected Auxiliary Space: O( max(a[i]) ) = O(10)\n",
    "\n",
    "\n",
    "Constraints:\n",
    "1 ≤ N ≤ 500\n",
    "1 ≤ a[i] ≤ 9\n",
    "'''"
   ]
  },
  {
   "cell_type": "code",
   "execution_count": null,
   "id": "6163bfd3",
   "metadata": {},
   "outputs": [],
   "source": [
    "def countSub(self, arr, n):\n",
    "    # Your code goes here\n",
    "    '''\n",
    "    dp=[1]*n\n",
    "\n",
    "    ans=0\n",
    "    for i in range(0,n):\n",
    "        for j in range(0,i):\n",
    "            if(arr[i]>arr[j]):\n",
    "                dp[i]+=dp[j]\n",
    "        ans+=dp[i]\n",
    "    return ans\n",
    "    '''\n",
    "\n",
    "    dgts=[0]*10\n",
    "\n",
    "    for i in range(n):\n",
    "        for j in range(arr[i]-1,-1,-1):\n",
    "            dgts[arr[i]]+=dgts[j]\n",
    "        dgts[arr[i]]+=1\n",
    "    ans=0\n",
    "    for i in dgts:\n",
    "        ans+=i\n",
    "    return ans"
   ]
  }
 ],
 "metadata": {
  "kernelspec": {
   "display_name": "Python 3 (ipykernel)",
   "language": "python",
   "name": "python3"
  },
  "language_info": {
   "codemirror_mode": {
    "name": "ipython",
    "version": 3
   },
   "file_extension": ".py",
   "mimetype": "text/x-python",
   "name": "python",
   "nbconvert_exporter": "python",
   "pygments_lexer": "ipython3",
   "version": "3.9.13"
  }
 },
 "nbformat": 4,
 "nbformat_minor": 5
}

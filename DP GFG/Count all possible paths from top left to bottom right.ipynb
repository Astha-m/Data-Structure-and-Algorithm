{
 "cells": [
  {
   "cell_type": "code",
   "execution_count": 1,
   "id": "52cc087b",
   "metadata": {},
   "outputs": [
    {
     "data": {
      "text/plain": [
       "'\\nThe task is to count all the possible paths from top left to \\nbottom right of a m X n matrix with the constraints that from \\neach cell you can either move only to right or down.\\n\\nExample 1:\\n\\nInput: m = 2, n = 2\\nOutput: 2 \\nExplanation: Two possible ways are\\nRD and DR.  \\n\\nExample 2:\\n\\nInput: m = 3, R = 3\\nOutput: 6\\nExplanation: Six possible ways are\\nRRDD, DDRR, RDDR, DRRD, RDRD, DRDR. \\n\\nYour Task:  \\nYou dont need to read input or print anything. Complete the\\nfunction numberOfPaths() which takes m and n as input parameter \\nand returns count all the possible paths.The answer may be very \\nlarge, compute the answer modulo 109 + 7.\\n\\n\\nExpected Time Complexity: O(m*n)\\nExpected Auxiliary Space: O(m*n)\\n\\n'"
      ]
     },
     "execution_count": 1,
     "metadata": {},
     "output_type": "execute_result"
    }
   ],
   "source": [
    "'''\n",
    "The task is to count all the possible paths from top left to \n",
    "bottom right of a m X n matrix with the constraints that from \n",
    "each cell you can either move only to right or down.\n",
    "\n",
    "Example 1:\n",
    "\n",
    "Input: m = 2, n = 2\n",
    "Output: 2 \n",
    "Explanation: Two possible ways are\n",
    "RD and DR.  \n",
    "\n",
    "Example 2:\n",
    "\n",
    "Input: m = 3, R = 3\n",
    "Output: 6\n",
    "Explanation: Six possible ways are\n",
    "RRDD, DDRR, RDDR, DRRD, RDRD, DRDR. \n",
    "\n",
    "Your Task:  \n",
    "You dont need to read input or print anything. Complete the\n",
    "function numberOfPaths() which takes m and n as input parameter \n",
    "and returns count all the possible paths.The answer may be very \n",
    "large, compute the answer modulo 109 + 7.\n",
    "\n",
    "\n",
    "Expected Time Complexity: O(m*n)\n",
    "Expected Auxiliary Space: O(m*n)\n",
    "\n",
    "'''"
   ]
  },
  {
   "cell_type": "code",
   "execution_count": null,
   "id": "14a4a62b",
   "metadata": {},
   "outputs": [],
   "source": [
    "def numberOfPaths(self, m, n):\n",
    "    dp=[]\n",
    "    for i in range(m+1):\n",
    "        dp.append([-1]*(n+1))\n",
    "\n",
    "\n",
    "    def traverse(i,j):\n",
    "        if(i>=m or j>=n):\n",
    "            return 0\n",
    "\n",
    "        if(i==m-1 and j==n-1):\n",
    "            return 1\n",
    "\n",
    "        if(dp[i][j]!=-1):\n",
    "            return dp[i][j]\n",
    "\n",
    "        dp[i][j]=traverse(i+1,j)+traverse(i,j+1)\n",
    "\n",
    "        return dp[i][j]\n",
    "    return traverse(0,0)%(10**9+7)"
   ]
  }
 ],
 "metadata": {
  "kernelspec": {
   "display_name": "Python 3 (ipykernel)",
   "language": "python",
   "name": "python3"
  },
  "language_info": {
   "codemirror_mode": {
    "name": "ipython",
    "version": 3
   },
   "file_extension": ".py",
   "mimetype": "text/x-python",
   "name": "python",
   "nbconvert_exporter": "python",
   "pygments_lexer": "ipython3",
   "version": "3.10.7"
  }
 },
 "nbformat": 4,
 "nbformat_minor": 5
}

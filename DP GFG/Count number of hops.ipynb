{
 "cells": [
  {
   "cell_type": "code",
   "execution_count": 1,
   "id": "27b9ec5e",
   "metadata": {},
   "outputs": [
    {
     "data": {
      "text/plain": [
       "'\\nhttps://practice.geeksforgeeks.org/problems/count-number-of-hops-1587115620/1?page=1&difficulty[]=0&category[]=Dynamic%20Programming&sortBy=submissions\\n\\nA frog jumps either 1, 2, or 3 steps to go to the top.\\nIn how many ways can it reach the top. As the answer\\nwill be large find the answer modulo 1000000007.\\n\\nExample 1:\\n\\nInput:\\nN = 1\\nOutput: 1\\nExample 2:\\n\\nInput:\\nN = 4\\nOutput: 7\\nExplanation:Below are the 7 ways to reach\\n4\\n1 step + 1 step + 1 step + 1 step\\n1 step + 2 step + 1 step\\n2 step + 1 step + 1 step\\n1 step + 1 step + 2 step\\n2 step + 2 step\\n3 step + 1 step\\n1 step + 3 step\\nYour Task:\\nYour task is to complete the function countWays() \\nwhich takes 1 argument(N) and returns the answer%(10^9 + 7).\\n\\nExpected Time Complexity: O(N).\\nExpected Auxiliary Space: O(1).\\n\\n'"
      ]
     },
     "execution_count": 1,
     "metadata": {},
     "output_type": "execute_result"
    }
   ],
   "source": [
    "'''\n",
    "https://practice.geeksforgeeks.org/problems/count-number-of-hops-1587115620/1?page=1&difficulty[]=0&category[]=Dynamic%20Programming&sortBy=submissions\n",
    "\n",
    "A frog jumps either 1, 2, or 3 steps to go to the top.\n",
    "In how many ways can it reach the top. As the answer\n",
    "will be large find the answer modulo 1000000007.\n",
    "\n",
    "Example 1:\n",
    "\n",
    "Input:\n",
    "N = 1\n",
    "Output: 1\n",
    "Example 2:\n",
    "\n",
    "Input:\n",
    "N = 4\n",
    "Output: 7\n",
    "Explanation:Below are the 7 ways to reach\n",
    "4\n",
    "1 step + 1 step + 1 step + 1 step\n",
    "1 step + 2 step + 1 step\n",
    "2 step + 1 step + 1 step\n",
    "1 step + 1 step + 2 step\n",
    "2 step + 2 step\n",
    "3 step + 1 step\n",
    "1 step + 3 step\n",
    "Your Task:\n",
    "Your task is to complete the function countWays() \n",
    "which takes 1 argument(N) and returns the answer%(10^9 + 7).\n",
    "\n",
    "Expected Time Complexity: O(N).\n",
    "Expected Auxiliary Space: O(1).\n",
    "\n",
    "'''"
   ]
  },
  {
   "cell_type": "code",
   "execution_count": null,
   "id": "201b1e5c",
   "metadata": {},
   "outputs": [],
   "source": [
    "def countWays(self,n):\n",
    "        \n",
    "    if(n==1):\n",
    "        return 1\n",
    "    if(n==2):\n",
    "        return 2\n",
    "    if(n==3):\n",
    "        return 4\n",
    "\n",
    "\n",
    "    dp=[-1]*(n+1)\n",
    "    dp[0]=0\n",
    "\n",
    "    dp[1]=1\n",
    "\n",
    "    dp[2]=2\n",
    "\n",
    "    dp[3]=4\n",
    "    for i in range(4,n+1):\n",
    "        dp[i]=dp[i-1]+dp[i-2]+dp[i-3]\n",
    "    return dp[-1]%(10**9+7)"
   ]
  }
 ],
 "metadata": {
  "kernelspec": {
   "display_name": "Python 3 (ipykernel)",
   "language": "python",
   "name": "python3"
  },
  "language_info": {
   "codemirror_mode": {
    "name": "ipython",
    "version": 3
   },
   "file_extension": ".py",
   "mimetype": "text/x-python",
   "name": "python",
   "nbconvert_exporter": "python",
   "pygments_lexer": "ipython3",
   "version": "3.10.7"
  }
 },
 "nbformat": 4,
 "nbformat_minor": 5
}

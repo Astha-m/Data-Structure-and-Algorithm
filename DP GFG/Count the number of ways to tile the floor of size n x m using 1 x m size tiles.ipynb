{
 "cells": [
  {
   "cell_type": "code",
   "execution_count": 1,
   "id": "7b0fd98c",
   "metadata": {},
   "outputs": [
    {
     "data": {
      "text/plain": [
       "\"\\n\\n\\n\\n\\nGiven a floor of size n x m and tiles of \\nsize 1 x m. The problem is to count the number \\nof ways to tile the given floor using 1 x m tiles. \\nA tile can either be placed horizontally or vertically.\\nBoth n and m are positive integers and 2 < = m.\\n \\n\\nExample 1 :\\n\\nInput: n = 2, m = 3\\nOutput: 1\\nExpanation: There is only one way to tile the\\ngiven floor.\\nExample 2 :\\n\\nInput: n = 4, m = 4\\nOutput: 2\\nExplanation: There is two ways to tile the\\ngiven floor.One way is to place 1 x 4 size \\nof tile vertically and another one is to \\nplace them horizontally.\\n \\n\\nYour Task:\\nYou don't need to read or print anything. Your task\\nis to complete the function countWays() which takes\\nn and m as input parameter and returns the total ways\\nmodulo 109 + 7.\\n \\n\\nExpected Time Complexity: O(n)\\nExpected Space Complexity: O(n)\\n \\n\\nConstraints:\\n1 <= n <= 100000\\n2 <= m <= 100000\\n\""
      ]
     },
     "execution_count": 1,
     "metadata": {},
     "output_type": "execute_result"
    }
   ],
   "source": [
    "'''\n",
    "https://practice.geeksforgeeks.org/problems/count-the-number-of-ways-to-tile-the-floor-of-size-n-x-m-using-1-x-m-size-tiles0509/1?page=2&difficulty[]=0&category[]=Dynamic%20Programming&sortBy=submissions\n",
    "\n",
    "\n",
    "\n",
    "Given a floor of size n x m and tiles of \n",
    "size 1 x m. The problem is to count the number \n",
    "of ways to tile the given floor using 1 x m tiles. \n",
    "A tile can either be placed horizontally or vertically.\n",
    "Both n and m are positive integers and 2 < = m.\n",
    " \n",
    "\n",
    "Example 1 :\n",
    "\n",
    "Input: n = 2, m = 3\n",
    "Output: 1\n",
    "Expanation: There is only one way to tile the\n",
    "given floor.\n",
    "Example 2 :\n",
    "\n",
    "Input: n = 4, m = 4\n",
    "Output: 2\n",
    "Explanation: There is two ways to tile the\n",
    "given floor.One way is to place 1 x 4 size \n",
    "of tile vertically and another one is to \n",
    "place them horizontally.\n",
    " \n",
    "\n",
    "Your Task:\n",
    "You don't need to read or print anything. Your task\n",
    "is to complete the function countWays() which takes\n",
    "n and m as input parameter and returns the total ways\n",
    "modulo 109 + 7.\n",
    " \n",
    "\n",
    "Expected Time Complexity: O(n)\n",
    "Expected Space Complexity: O(n)\n",
    " \n",
    "\n",
    "Constraints:\n",
    "1 <= n <= 100000\n",
    "2 <= m <= 100000\n",
    "'''"
   ]
  },
  {
   "cell_type": "code",
   "execution_count": null,
   "id": "948ffe1c",
   "metadata": {},
   "outputs": [],
   "source": [
    "def countWays(self, n, m):\n",
    "    # Code here\n",
    "\n",
    "    if(n<m or n<=1):\n",
    "        return 1\n",
    "\n",
    "    if(n==m):\n",
    "        return 2\n",
    "    dp=[-1]*(n+1)\n",
    "    dp[0]=0\n",
    "    dp[1]=1\n",
    "    for i in range(2,n+1):\n",
    "        if(i==m):\n",
    "            dp[i]=2\n",
    "        elif(i<m):\n",
    "            dp[i]=1\n",
    "        else:\n",
    "            dp[i]=(dp[i-1]+dp[i-m])%(10**9+7)\n",
    "    return dp[n]\n"
   ]
  }
 ],
 "metadata": {
  "kernelspec": {
   "display_name": "Python 3 (ipykernel)",
   "language": "python",
   "name": "python3"
  },
  "language_info": {
   "codemirror_mode": {
    "name": "ipython",
    "version": 3
   },
   "file_extension": ".py",
   "mimetype": "text/x-python",
   "name": "python",
   "nbconvert_exporter": "python",
   "pygments_lexer": "ipython3",
   "version": "3.9.13"
  }
 },
 "nbformat": 4,
 "nbformat_minor": 5
}

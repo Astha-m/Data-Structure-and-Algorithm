{
 "cells": [
  {
   "cell_type": "code",
   "execution_count": null,
   "id": "a2e05eb8",
   "metadata": {},
   "outputs": [],
   "source": [
    "'''\n",
    "https://practice.geeksforgeeks.org/problems/max-rope-cutting1312/1?page=3&difficulty[]=0&category[]=Dynamic%20Programming&sortBy=submissions\n",
    "\n",
    "\n",
    "Given a rope of length N meters, \n",
    "cut the rope into several ropes of \n",
    "varying lengths in a way that maximizes\n",
    "product of lengths of all resulting ropes. \n",
    "You must make at least one cut.\n",
    "\n",
    "Example 1:\n",
    "\n",
    "Input:\n",
    "N = 2\n",
    "Output: 1\n",
    "Explanation: Since 1 cut is mandatory.\n",
    "Maximum obtainable product is 1*1 = 1.\n",
    "\n",
    "Example 2:\n",
    "\n",
    "Input:\n",
    "N = 5\n",
    "Output: 6\n",
    "Explanation: \n",
    "Maximum obtainable product is 2*3 = 6.\n",
    "\n",
    "Your Task:\n",
    "You don't need to read input or print anything.\n",
    "Your task is to complete the function maxProduct()\n",
    "which takes n as input parameter and returns the maximum product.\n",
    "\n",
    "\n",
    "Expected Time Complexity: O(N2)\n",
    "Expected Auxiliary Space: O(N)\n",
    "\n",
    "\n",
    "Constraints:\n",
    "1 ≤ N ≤ 100\n",
    "\n",
    " \n",
    "'''"
   ]
  },
  {
   "cell_type": "code",
   "execution_count": null,
   "id": "a3e9f9cc",
   "metadata": {},
   "outputs": [],
   "source": [
    "def maxProduct(self,n):\n",
    "    # code here\n",
    "    if(n==1):\n",
    "        return 0\n",
    "\n",
    "    dp=[]\n",
    "    for i in range(n):\n",
    "        dp.append([-1]*(n+1))\n",
    "\n",
    "    for i in range(n):\n",
    "        dp[i][0]=1\n",
    "\n",
    "    for i in range(n+1):\n",
    "        dp[0][i]=1\n",
    "\n",
    "    for i in range(1,n):\n",
    "        for j in range(1,n+1):\n",
    "            if(i<=j):\n",
    "                dp[i][j]=max(dp[i][j-i]*i,dp[i-1][j])\n",
    "            else:\n",
    "                dp[i][j]=dp[i-1][j]\n",
    "    return dp[n-1][n]\n"
   ]
  }
 ],
 "metadata": {
  "kernelspec": {
   "display_name": "Python 3 (ipykernel)",
   "language": "python",
   "name": "python3"
  },
  "language_info": {
   "codemirror_mode": {
    "name": "ipython",
    "version": 3
   },
   "file_extension": ".py",
   "mimetype": "text/x-python",
   "name": "python",
   "nbconvert_exporter": "python",
   "pygments_lexer": "ipython3",
   "version": "3.9.13"
  }
 },
 "nbformat": 4,
 "nbformat_minor": 5
}

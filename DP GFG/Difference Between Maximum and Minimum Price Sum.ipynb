{
 "cells": [
  {
   "cell_type": "code",
   "execution_count": 1,
   "id": "efe89945",
   "metadata": {},
   "outputs": [
    {
     "data": {
      "text/plain": [
       "'\\nhttps://leetcode.com/contest/weekly-contest-328/problems/difference-between-maximum-and-minimum-price-sum/\\n\\n\\nThere exists an undirected and initially \\nunrooted tree with n nodes indexed from 0\\nto n - 1. You are given the integer n and a \\n2D integer array edges of length n - 1, where\\nedges[i] = [ai, bi] indicates that there is an\\nedge between nodes ai and bi in the tree.\\n\\nEach node has an associated price. You are\\ngiven an integer array price, where price[i]\\nis the price of the ith node.\\n\\nThe price sum of a given path is the sum of\\nthe prices of all nodes lying on that path.\\n\\nThe tree can be rooted at any node root of your\\nchoice. The incurred cost after choosing root is\\nthe difference between the maximum and minimum\\nprice sum amongst all paths starting at root.\\n\\nReturn the maximum possible cost amongst all\\npossible root choices.\\n\\n \\n\\nExample 1:\\n\\n\\nInput: n = 6, edges = [[0,1],[1,2],[1,3],[3,4],[3,5]], price = [9,8,7,6,10,5]\\nOutput: 24\\nExplanation: The diagram above denotes the tree\\nafter rooting it at node 2. The first part \\n(colored in red) shows the path with the maximum price sum. \\nThe second part (colored in blue) shows the path with \\nthe minimum price sum.\\n- The first path contains nodes [2,1,3,4]: the prices\\nare [7,8,6,10], and the sum of the prices is 31.\\n- The second path contains the node [2] with the price [7].\\nThe difference between the maximum and minimum price sum \\nis 24. It can be proved that 24 is the maximum cost.\\nExample 2:\\n\\n\\nInput: n = 3, edges = [[0,1],[1,2]], price = [1,1,1]\\nOutput: 2\\nExplanation: The diagram above denotes the tree \\nafter rooting it at node 0. The first part \\n(colored in red) shows the path with the maximum \\nprice sum. The second part (colored in blue) shows \\nthe path with the minimum price sum.\\n- The first path contains nodes [0,1,2]: the prices \\nare [1,1,1], and the sum of the prices is 3.\\n- The second path contains node [0] with a price [1].\\nThe difference between the maximum and minimum price\\nsum is 2. It can be proved that 2 is the maximum cost.\\n \\n\\nConstraints:\\n\\n1 <= n <= 105\\nedges.length == n - 1\\n0 <= ai, bi <= n - 1\\nedges represents a valid tree.\\nprice.length == n\\n1 <= price[i] <= 105\\n'"
      ]
     },
     "execution_count": 1,
     "metadata": {},
     "output_type": "execute_result"
    }
   ],
   "source": [
    "'''\n",
    "https://leetcode.com/contest/weekly-contest-328/problems/difference-between-maximum-and-minimum-price-sum/\n",
    "\n",
    "\n",
    "There exists an undirected and initially \n",
    "unrooted tree with n nodes indexed from 0\n",
    "to n - 1. You are given the integer n and a \n",
    "2D integer array edges of length n - 1, where\n",
    "edges[i] = [ai, bi] indicates that there is an\n",
    "edge between nodes ai and bi in the tree.\n",
    "\n",
    "Each node has an associated price. You are\n",
    "given an integer array price, where price[i]\n",
    "is the price of the ith node.\n",
    "\n",
    "The price sum of a given path is the sum of\n",
    "the prices of all nodes lying on that path.\n",
    "\n",
    "The tree can be rooted at any node root of your\n",
    "choice. The incurred cost after choosing root is\n",
    "the difference between the maximum and minimum\n",
    "price sum amongst all paths starting at root.\n",
    "\n",
    "Return the maximum possible cost amongst all\n",
    "possible root choices.\n",
    "\n",
    " \n",
    "\n",
    "Example 1:\n",
    "\n",
    "\n",
    "Input: n = 6, edges = [[0,1],[1,2],[1,3],[3,4],[3,5]], price = [9,8,7,6,10,5]\n",
    "Output: 24\n",
    "Explanation: The diagram above denotes the tree\n",
    "after rooting it at node 2. The first part \n",
    "(colored in red) shows the path with the maximum price sum. \n",
    "The second part (colored in blue) shows the path with \n",
    "the minimum price sum.\n",
    "- The first path contains nodes [2,1,3,4]: the prices\n",
    "are [7,8,6,10], and the sum of the prices is 31.\n",
    "- The second path contains the node [2] with the price [7].\n",
    "The difference between the maximum and minimum price sum \n",
    "is 24. It can be proved that 24 is the maximum cost.\n",
    "Example 2:\n",
    "\n",
    "\n",
    "Input: n = 3, edges = [[0,1],[1,2]], price = [1,1,1]\n",
    "Output: 2\n",
    "Explanation: The diagram above denotes the tree \n",
    "after rooting it at node 0. The first part \n",
    "(colored in red) shows the path with the maximum \n",
    "price sum. The second part (colored in blue) shows \n",
    "the path with the minimum price sum.\n",
    "- The first path contains nodes [0,1,2]: the prices \n",
    "are [1,1,1], and the sum of the prices is 3.\n",
    "- The second path contains node [0] with a price [1].\n",
    "The difference between the maximum and minimum price\n",
    "sum is 2. It can be proved that 2 is the maximum cost.\n",
    " \n",
    "\n",
    "Constraints:\n",
    "\n",
    "1 <= n <= 105\n",
    "edges.length == n - 1\n",
    "0 <= ai, bi <= n - 1\n",
    "edges represents a valid tree.\n",
    "price.length == n\n",
    "1 <= price[i] <= 105\n",
    "'''"
   ]
  },
  {
   "cell_type": "code",
   "execution_count": null,
   "id": "03144a94",
   "metadata": {},
   "outputs": [],
   "source": [
    "def maxOutput( n, edges, price):\n",
    "    from collections import defaultdict\n",
    "    from functools import cache\n",
    "    d=defaultdict(set)\n",
    "\n",
    "    for i,j in edges:\n",
    "        d[i].add(j)\n",
    "        d[j].add(i)\n",
    "\n",
    "    @cache\n",
    "    def dfs(node, parent):\n",
    "\n",
    "        curr_price = price[node]\n",
    "        m = 0 # find the max path from current node via dfs\n",
    "        for v in d[node]:\n",
    "            if v == parent: continue\n",
    "            m = max(m, dfs(v, node))\n",
    "\n",
    "        return curr_price + m # return current_price + max_price_path\n",
    "\n",
    "    m=0\n",
    "    for node in range(n):\n",
    "        max_price=dfs(node,-1)\n",
    "        min_price=price[node]\n",
    "        m=max(m,max_price-min_price)\n",
    "    return m"
   ]
  }
 ],
 "metadata": {
  "kernelspec": {
   "display_name": "Python 3 (ipykernel)",
   "language": "python",
   "name": "python3"
  },
  "language_info": {
   "codemirror_mode": {
    "name": "ipython",
    "version": 3
   },
   "file_extension": ".py",
   "mimetype": "text/x-python",
   "name": "python",
   "nbconvert_exporter": "python",
   "pygments_lexer": "ipython3",
   "version": "3.9.13"
  }
 },
 "nbformat": 4,
 "nbformat_minor": 5
}

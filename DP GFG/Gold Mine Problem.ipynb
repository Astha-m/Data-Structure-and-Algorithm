{
 "cells": [
  {
   "cell_type": "code",
   "execution_count": 1,
   "id": "e7f67f5d",
   "metadata": {},
   "outputs": [
    {
     "data": {
      "text/plain": [
       "'\\nhttps://practice.geeksforgeeks.org/problems/gold-mine-problem2608/1?page=1&difficulty[]=0&category[]=Dynamic%20Programming&sortBy=submissions\\n\\n\\nGiven a gold mine called M of (n x m) dimensions. \\nEach field in this mine contains a positive integer\\nwhich is the amount of gold in tons. Initially the miner\\ncan start from any row in the first column. From a given\\ncell, the miner can move\\n\\nto the cell diagonally up towards the right \\nto the right\\nto the cell diagonally down towards the right\\nFind out maximum amount of gold which he can collect.\\n\\n\\nExample 1:\\n\\nInput: n = 3, m = 3\\nM = {{1, 3, 3},\\n     {2, 1, 4},\\n     {0, 6, 4}};\\nOutput: 12\\nExplaination: \\nThe path is {(1,0) -> (2,1) -> (2,2)}.\\n\\nExample 2:\\n\\nInput: n = 4, m = 4\\nM = {{1, 3, 1, 5},\\n     {2, 2, 4, 1},\\n     {5, 0, 2, 3},\\n     {0, 6, 1, 2}};\\nOutput: 16\\nExplaination: \\nThe path is {(2,0) -> (3,1) -> (2,2) \\n-> (2,3)} or {(2,0) -> (1,1) -> (1,2) \\n-> (0,3)}.\\n\\nYour Task:\\nYou do not need to read input or print anything.\\nYour task is to complete the function maxGold() \\nwhich takes the values n, m and the mine M as input\\nparameters and returns the maximum amount of gold \\nthat can be collected.\\n\\n\\nExpected Time Complexity: O(n*m)\\nExpected Auxiliary Space: O(n*m)\\n\\n'"
      ]
     },
     "execution_count": 1,
     "metadata": {},
     "output_type": "execute_result"
    }
   ],
   "source": [
    "'''\n",
    "https://practice.geeksforgeeks.org/problems/gold-mine-problem2608/1?page=1&difficulty[]=0&category[]=Dynamic%20Programming&sortBy=submissions\n",
    "\n",
    "\n",
    "Given a gold mine called M of (n x m) dimensions. \n",
    "Each field in this mine contains a positive integer\n",
    "which is the amount of gold in tons. Initially the miner\n",
    "can start from any row in the first column. From a given\n",
    "cell, the miner can move\n",
    "\n",
    "to the cell diagonally up towards the right \n",
    "to the right\n",
    "to the cell diagonally down towards the right\n",
    "Find out maximum amount of gold which he can collect.\n",
    "\n",
    "\n",
    "Example 1:\n",
    "\n",
    "Input: n = 3, m = 3\n",
    "M = {{1, 3, 3},\n",
    "     {2, 1, 4},\n",
    "     {0, 6, 4}};\n",
    "Output: 12\n",
    "Explaination: \n",
    "The path is {(1,0) -> (2,1) -> (2,2)}.\n",
    "\n",
    "Example 2:\n",
    "\n",
    "Input: n = 4, m = 4\n",
    "M = {{1, 3, 1, 5},\n",
    "     {2, 2, 4, 1},\n",
    "     {5, 0, 2, 3},\n",
    "     {0, 6, 1, 2}};\n",
    "Output: 16\n",
    "Explaination: \n",
    "The path is {(2,0) -> (3,1) -> (2,2) \n",
    "-> (2,3)} or {(2,0) -> (1,1) -> (1,2) \n",
    "-> (0,3)}.\n",
    "\n",
    "Your Task:\n",
    "You do not need to read input or print anything.\n",
    "Your task is to complete the function maxGold() \n",
    "which takes the values n, m and the mine M as input\n",
    "parameters and returns the maximum amount of gold \n",
    "that can be collected.\n",
    "\n",
    "\n",
    "Expected Time Complexity: O(n*m)\n",
    "Expected Auxiliary Space: O(n*m)\n",
    "\n",
    "'''"
   ]
  },
  {
   "cell_type": "code",
   "execution_count": null,
   "id": "22578b5e",
   "metadata": {},
   "outputs": [],
   "source": [
    "def maxGold(self, n, m, M):\n",
    "        \n",
    "    def solve(dp,row,col,M):\n",
    "        if(row<0 or row>=n or col>=m):\n",
    "            return 0\n",
    "\n",
    "        if(dp[row][col]!=-1):\n",
    "            return dp[row][col]\n",
    "\n",
    "        dp[row][col]=M[row][col]+max(solve(dp,row-1,col+1,M),\n",
    "                            solve(dp,row,col+1,M),\n",
    "                            solve(dp,row+1,col+1,M))\n",
    "        return dp[row][col]\n",
    "\n",
    "\n",
    "    dp=[]\n",
    "    for i in range(n):\n",
    "        dp.append([-1]*m)\n",
    "\n",
    "\n",
    "    maxi=-float('inf')\n",
    "    for i in range(0,n):\n",
    "        ans=solve(dp,i,0,M)\n",
    "        maxi=max(maxi,ans)\n",
    "    return maxi"
   ]
  }
 ],
 "metadata": {
  "kernelspec": {
   "display_name": "Python 3 (ipykernel)",
   "language": "python",
   "name": "python3"
  },
  "language_info": {
   "codemirror_mode": {
    "name": "ipython",
    "version": 3
   },
   "file_extension": ".py",
   "mimetype": "text/x-python",
   "name": "python",
   "nbconvert_exporter": "python",
   "pygments_lexer": "ipython3",
   "version": "3.10.7"
  }
 },
 "nbformat": 4,
 "nbformat_minor": 5
}

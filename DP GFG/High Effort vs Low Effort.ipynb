{
 "cells": [
  {
   "cell_type": "code",
   "execution_count": 1,
   "id": "03f8493b",
   "metadata": {},
   "outputs": [
    {
     "data": {
      "text/plain": [
       "\"\\nhttps://practice.geeksforgeeks.org/problems/high-effort-vs-low-effort0213/1?page=3&difficulty[]=0&category[]=Dynamic%20Programming&sortBy=submissions\\n\\n\\n\\nYou are given n days and for each day \\n(di) you can select one of the following options:\\n\\nperform no task \\nperform a high effort task (hi)\\nonly if its the first day or if \\nyou chose no-task on the previous day\\nperform a low effort task (li)\\nWrite a program to find the maximum\\namount of tasks you can perform within these n days. \\n\\n\\nExample 1:\\n\\nInput:\\nn = 3\\nhi[] = {2,8,1}\\nli[] = {1,2,1}\\nOutput: 9\\nExplanation:\\nOptions on 1st day: hi[0]=2, li[0]=1 or no-task\\nSelect no-task.\\nOptions on 2nd day: hi[1]=8, li[2]=1 or no-task\\nSelect high-effort task as no-task was selected \\nthe previous day.  \\nOptions on 3rd day: hi[2]=1, li[2]=1 or no-task\\nSelect low-effort task as selecting high-effort \\ntask is only possible if you chose no-task on \\nprevious day.\\n\\nExample 2:\\n\\nInput:\\nn = 5\\nhi[] = {3,6,8,7,6}\\nli[] = {1,5,4,5,3}\\nOutput: 20\\nExplanation: Perform high-effort task on first \\nday and low-effort task on all remaining days.\\n \\n\\nYour Task:\\nYou don't need to read input or print \\nanything. Your task is to complete the \\nfunction maxAmt() which accepts an integer \\nn and two arrays li[] and hi[] as input\\nparameter and returns the maximum amount\\nof tasks you can perform within these n days.\\n\\n\\nExpected Time Complexity: O(n)\\nExpected Auxiliary Space: O(n)\\n\\n\\nConstraints:\\n1 <= n <= 106\\n\""
      ]
     },
     "execution_count": 1,
     "metadata": {},
     "output_type": "execute_result"
    }
   ],
   "source": [
    "'''\n",
    "https://practice.geeksforgeeks.org/problems/high-effort-vs-low-effort0213/1?page=3&difficulty[]=0&category[]=Dynamic%20Programming&sortBy=submissions\n",
    "\n",
    "\n",
    "\n",
    "You are given n days and for each day \n",
    "(di) you can select one of the following options:\n",
    "\n",
    "perform no task \n",
    "perform a high effort task (hi)\n",
    "only if its the first day or if \n",
    "you chose no-task on the previous day\n",
    "perform a low effort task (li)\n",
    "Write a program to find the maximum\n",
    "amount of tasks you can perform within these n days. \n",
    "\n",
    "\n",
    "Example 1:\n",
    "\n",
    "Input:\n",
    "n = 3\n",
    "hi[] = {2,8,1}\n",
    "li[] = {1,2,1}\n",
    "Output: 9\n",
    "Explanation:\n",
    "Options on 1st day: hi[0]=2, li[0]=1 or no-task\n",
    "Select no-task.\n",
    "Options on 2nd day: hi[1]=8, li[2]=1 or no-task\n",
    "Select high-effort task as no-task was selected \n",
    "the previous day.  \n",
    "Options on 3rd day: hi[2]=1, li[2]=1 or no-task\n",
    "Select low-effort task as selecting high-effort \n",
    "task is only possible if you chose no-task on \n",
    "previous day.\n",
    "\n",
    "Example 2:\n",
    "\n",
    "Input:\n",
    "n = 5\n",
    "hi[] = {3,6,8,7,6}\n",
    "li[] = {1,5,4,5,3}\n",
    "Output: 20\n",
    "Explanation: Perform high-effort task on first \n",
    "day and low-effort task on all remaining days.\n",
    " \n",
    "\n",
    "Your Task:\n",
    "You don't need to read input or print \n",
    "anything. Your task is to complete the \n",
    "function maxAmt() which accepts an integer \n",
    "n and two arrays li[] and hi[] as input\n",
    "parameter and returns the maximum amount\n",
    "of tasks you can perform within these n days.\n",
    "\n",
    "\n",
    "Expected Time Complexity: O(n)\n",
    "Expected Auxiliary Space: O(n)\n",
    "\n",
    "\n",
    "Constraints:\n",
    "1 <= n <= 106\n",
    "'''"
   ]
  },
  {
   "cell_type": "code",
   "execution_count": null,
   "id": "ed43a8a9",
   "metadata": {},
   "outputs": [],
   "source": [
    "def maxAmt(self, n, hi, li): \n",
    "    # code here \n",
    "    dp=[0]*(n+1)\n",
    "    dp[0]=0\n",
    "    dp[1]=hi[0]\n",
    "\n",
    "    for i in range(2,n+1):\n",
    "        dp[i]=max(hi[i-1]+dp[i-2],li[i-1]+dp[i-1])\n",
    "    return dp[n]"
   ]
  }
 ],
 "metadata": {
  "kernelspec": {
   "display_name": "Python 3 (ipykernel)",
   "language": "python",
   "name": "python3"
  },
  "language_info": {
   "codemirror_mode": {
    "name": "ipython",
    "version": 3
   },
   "file_extension": ".py",
   "mimetype": "text/x-python",
   "name": "python",
   "nbconvert_exporter": "python",
   "pygments_lexer": "ipython3",
   "version": "3.9.13"
  }
 },
 "nbformat": 4,
 "nbformat_minor": 5
}

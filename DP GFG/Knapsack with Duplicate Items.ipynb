{
 "cells": [
  {
   "cell_type": "code",
   "execution_count": 1,
   "id": "66cb6132",
   "metadata": {},
   "outputs": [
    {
     "data": {
      "text/plain": [
       "'\\nhttps://practice.geeksforgeeks.org/problems/knapsack-with-duplicate-items4201/1?page=1&difficulty[]=0&category[]=Dynamic%20Programming&sortBy=submissions\\n\\nGiven a set of N items, each with a weight and a value,\\nrepresented by the array w[] and val[] respectively. \\nAlso, a knapsack with weight limit W.\\nThe task is to fill the knapsack in such a way that we\\ncan get the maximum profit. Return the maximum profit.\\nNote: Each item can be taken any number of times.\\n\\n \\n\\nExample 1:\\n\\nInput: N = 2, W = 3\\nval[] = {1, 1}\\nwt[] = {2, 1}\\nOutput: 3\\nExplanation: \\n1.Pick the 2nd element thrice.\\n2.Total profit = 1 + 1 + 1 = 3. Also the total \\n  weight = 1 + 1 + 1  = 3 which is <= W.\\n \\n\\nExample 2:\\n\\nInput: N = 4, W = 8\\nval[] = {1, 4, 5, 7}\\nwt[] = {1, 3, 4, 5}\\nOutput: 11\\nExplanation: The optimal choice is to \\npick the 2nd and 4th element.\\n \\n\\nYour Task:\\nYou do not need to read input or print anything. \\nYour task is to complete the function knapSack() \\nwhich takes the values N, W and the arrays val[] \\nand wt[] as input parameters and returns the maximum \\npossible value.\\n\\n \\n\\nExpected Time Complexity: O(N*W)\\nExpected Auxiliary Space: O(W)\\n\\n \\n\\n'"
      ]
     },
     "execution_count": 1,
     "metadata": {},
     "output_type": "execute_result"
    }
   ],
   "source": [
    "'''\n",
    "https://practice.geeksforgeeks.org/problems/knapsack-with-duplicate-items4201/1?page=1&difficulty[]=0&category[]=Dynamic%20Programming&sortBy=submissions\n",
    "\n",
    "Given a set of N items, each with a weight and a value,\n",
    "represented by the array w[] and val[] respectively. \n",
    "Also, a knapsack with weight limit W.\n",
    "The task is to fill the knapsack in such a way that we\n",
    "can get the maximum profit. Return the maximum profit.\n",
    "Note: Each item can be taken any number of times.\n",
    "\n",
    " \n",
    "\n",
    "Example 1:\n",
    "\n",
    "Input: N = 2, W = 3\n",
    "val[] = {1, 1}\n",
    "wt[] = {2, 1}\n",
    "Output: 3\n",
    "Explanation: \n",
    "1.Pick the 2nd element thrice.\n",
    "2.Total profit = 1 + 1 + 1 = 3. Also the total \n",
    "  weight = 1 + 1 + 1  = 3 which is <= W.\n",
    " \n",
    "\n",
    "Example 2:\n",
    "\n",
    "Input: N = 4, W = 8\n",
    "val[] = {1, 4, 5, 7}\n",
    "wt[] = {1, 3, 4, 5}\n",
    "Output: 11\n",
    "Explanation: The optimal choice is to \n",
    "pick the 2nd and 4th element.\n",
    " \n",
    "\n",
    "Your Task:\n",
    "You do not need to read input or print anything. \n",
    "Your task is to complete the function knapSack() \n",
    "which takes the values N, W and the arrays val[] \n",
    "and wt[] as input parameters and returns the maximum \n",
    "possible value.\n",
    "\n",
    " \n",
    "\n",
    "Expected Time Complexity: O(N*W)\n",
    "Expected Auxiliary Space: O(W)\n",
    "\n",
    " \n",
    "\n",
    "'''"
   ]
  },
  {
   "cell_type": "code",
   "execution_count": null,
   "id": "897e6078",
   "metadata": {},
   "outputs": [],
   "source": [
    "def knapSack(self, N, W, val, wt):\n",
    "    dp=[]\n",
    "    for i in range(N+1):\n",
    "        dp.append([-1]*(W+1))\n",
    "\n",
    "    for i in range(N+1):\n",
    "        dp[i][0]=0\n",
    "\n",
    "    for j in range(W+1):\n",
    "        dp[0][j]=0\n",
    "\n",
    "    for i in range(1,N+1):\n",
    "        for j in range(1,W+1):\n",
    "            if(wt[i-1]<=j):\n",
    "                dp[i][j]=max(val[i-1]+dp[i][j-wt[i-1]],dp[i-1][j])\n",
    "            else:\n",
    "                dp[i][j]=dp[i-1][j]\n",
    "    return dp[N][W]"
   ]
  }
 ],
 "metadata": {
  "kernelspec": {
   "display_name": "Python 3 (ipykernel)",
   "language": "python",
   "name": "python3"
  },
  "language_info": {
   "codemirror_mode": {
    "name": "ipython",
    "version": 3
   },
   "file_extension": ".py",
   "mimetype": "text/x-python",
   "name": "python",
   "nbconvert_exporter": "python",
   "pygments_lexer": "ipython3",
   "version": "3.10.7"
  }
 },
 "nbformat": 4,
 "nbformat_minor": 5
}

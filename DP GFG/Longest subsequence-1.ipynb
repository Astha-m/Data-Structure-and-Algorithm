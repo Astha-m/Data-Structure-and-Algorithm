{
 "cells": [
  {
   "cell_type": "code",
   "execution_count": 1,
   "id": "83405bf2",
   "metadata": {},
   "outputs": [
    {
     "data": {
      "text/plain": [
       "'\\nGiven an array A[] of size N, find the longest subsequence such that \\ndifference between adjacent elements is one.\\n\\n\\nExample 1:\\n\\nInput: N = 7\\nA[] = {10, 9, 4, 5, 4, 8, 6}\\nOutput: 3\\nExplaination: The three possible subsequences \\n{10, 9, 8} , {4, 5, 4} and {4, 5, 6}.\\n\\nExample 2:\\n\\nInput: N = 5\\nA[] = {1, 2, 3, 4, 5}\\nOutput: 5\\nExplaination: All the elements can be \\nincluded in the subsequence.\\n\\nYour Task:\\nYou do not need to read input. Your task is to complete the\\nfunction longestSubseq() which takes N and A[] as input parameters \\nand returns the length of the longest such subsequence.\\n\\n\\n'"
      ]
     },
     "execution_count": 1,
     "metadata": {},
     "output_type": "execute_result"
    }
   ],
   "source": [
    "'''\n",
    "Given an array A[] of size N, find the longest subsequence such that \n",
    "difference between adjacent elements is one.\n",
    "\n",
    "\n",
    "Example 1:\n",
    "\n",
    "Input: N = 7\n",
    "A[] = {10, 9, 4, 5, 4, 8, 6}\n",
    "Output: 3\n",
    "Explaination: The three possible subsequences \n",
    "{10, 9, 8} , {4, 5, 4} and {4, 5, 6}.\n",
    "\n",
    "Example 2:\n",
    "\n",
    "Input: N = 5\n",
    "A[] = {1, 2, 3, 4, 5}\n",
    "Output: 5\n",
    "Explaination: All the elements can be \n",
    "included in the subsequence.\n",
    "\n",
    "Your Task:\n",
    "You do not need to read input. Your task is to complete the\n",
    "function longestSubseq() which takes N and A[] as input parameters \n",
    "and returns the length of the longest such subsequence.\n",
    "\n",
    "\n",
    "'''"
   ]
  },
  {
   "cell_type": "code",
   "execution_count": null,
   "id": "8bd36135",
   "metadata": {},
   "outputs": [],
   "source": [
    "def longestSubsequence(self, n, arr):\n",
    "    lis=[1]*n\n",
    "    maxlis=1\n",
    "\n",
    "    for i in range(N):\n",
    "        for j in range(i):\n",
    "            if(abs(arr[i]-arr[j])==1):\n",
    "                lis[i]=max(lis[i],lis[j]+1)\n",
    "                maxlis=max(maxlis,lis[i])\n",
    "    return maxlis\n"
   ]
  }
 ],
 "metadata": {
  "kernelspec": {
   "display_name": "Python 3 (ipykernel)",
   "language": "python",
   "name": "python3"
  },
  "language_info": {
   "codemirror_mode": {
    "name": "ipython",
    "version": 3
   },
   "file_extension": ".py",
   "mimetype": "text/x-python",
   "name": "python",
   "nbconvert_exporter": "python",
   "pygments_lexer": "ipython3",
   "version": "3.10.7"
  }
 },
 "nbformat": 4,
 "nbformat_minor": 5
}

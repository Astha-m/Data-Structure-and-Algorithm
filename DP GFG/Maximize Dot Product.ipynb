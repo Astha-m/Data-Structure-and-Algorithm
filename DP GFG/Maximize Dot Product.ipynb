{
 "cells": [
  {
   "cell_type": "code",
   "execution_count": 1,
   "id": "c23d3e1d",
   "metadata": {},
   "outputs": [
    {
     "data": {
      "text/plain": [
       "\"\\nhttps://practice.geeksforgeeks.org/problems/maximize-dot-product2649/1?page=2&difficulty[]=0&category[]=Dynamic%20Programming&sortBy=submissions\\n\\nGiven two arrays A and B of positive integers\\nof size N and M where N >= M, the task is to\\nmaximize the dot product by inserting zeros \\nin the second array but you cannot disturb the order of elements.\\n\\nDot Product of array A and B of size N is \\nA[0]*B[0] + A[1]*B[1]+....A[N]*B[N].\\n\\nExample 1:\\n\\nInput: N = 5, A[] = {2, 3, 1, 7, 8} \\n       M = 3, B[] = {3, 6, 7}\\nOutput: 107\\nExplanation: We get maximum dot product \\nafter inserting 0 at first and third \\npositions in second array.\\nMaximum Dot Product : = A[i] * B[j] \\n2*0 + 3*3 + 1*0 + 7*6 + 8*7 = 107\\nExample 2:\\n\\nInput: N = 3, A[] = {1, 2, 3}\\n       M = 1, B[] = {4} \\nOutput: 12 \\nExplanation: We get maximum dot product\\nafter inserting 0 at first and second\\npositions in second array. \\nMaximum Dot Product : = A[i] * B[j] \\n1*0 + 2*0 + 3*4 = 12\\n\\nYour Task:  \\nYou don't need to read input or print anything.\\nComplete the function maxDotProduct() which takes\\nN, M, array A and B as input parameters and returns\\nthe maximum value.\\n\\nExpected Time Complexity: O(N*M)\\nExpected Auxiliary Space: O(N*M)\\n\\nConstraints:\\n1 ≤ M ≤N ≤ 103\\n1 ≤ A[i], B[i] ≤ 103\\n\\n\""
      ]
     },
     "execution_count": 1,
     "metadata": {},
     "output_type": "execute_result"
    }
   ],
   "source": [
    "'''\n",
    "https://practice.geeksforgeeks.org/problems/maximize-dot-product2649/1?page=2&difficulty[]=0&category[]=Dynamic%20Programming&sortBy=submissions\n",
    "\n",
    "Given two arrays A and B of positive integers\n",
    "of size N and M where N >= M, the task is to\n",
    "maximize the dot product by inserting zeros \n",
    "in the second array but you cannot disturb the order of elements.\n",
    "\n",
    "Dot Product of array A and B of size N is \n",
    "A[0]*B[0] + A[1]*B[1]+....A[N]*B[N].\n",
    "\n",
    "Example 1:\n",
    "\n",
    "Input: N = 5, A[] = {2, 3, 1, 7, 8} \n",
    "       M = 3, B[] = {3, 6, 7}\n",
    "Output: 107\n",
    "Explanation: We get maximum dot product \n",
    "after inserting 0 at first and third \n",
    "positions in second array.\n",
    "Maximum Dot Product : = A[i] * B[j] \n",
    "2*0 + 3*3 + 1*0 + 7*6 + 8*7 = 107\n",
    "Example 2:\n",
    "\n",
    "Input: N = 3, A[] = {1, 2, 3}\n",
    "       M = 1, B[] = {4} \n",
    "Output: 12 \n",
    "Explanation: We get maximum dot product\n",
    "after inserting 0 at first and second\n",
    "positions in second array. \n",
    "Maximum Dot Product : = A[i] * B[j] \n",
    "1*0 + 2*0 + 3*4 = 12\n",
    "\n",
    "Your Task:  \n",
    "You don't need to read input or print anything.\n",
    "Complete the function maxDotProduct() which takes\n",
    "N, M, array A and B as input parameters and returns\n",
    "the maximum value.\n",
    "\n",
    "Expected Time Complexity: O(N*M)\n",
    "Expected Auxiliary Space: O(N*M)\n",
    "\n",
    "Constraints:\n",
    "1 ≤ M ≤N ≤ 103\n",
    "1 ≤ A[i], B[i] ≤ 103\n",
    "\n",
    "'''"
   ]
  },
  {
   "cell_type": "code",
   "execution_count": null,
   "id": "3788210e",
   "metadata": {},
   "outputs": [],
   "source": [
    "def maxDotProduct(self, n, m, A, B):\n",
    "    # code here\n",
    "\n",
    "    dp=[]\n",
    "    for i in range(m+1):\n",
    "        dp.append([0]*(n+1))\n",
    "\n",
    "\n",
    "    for i in range(1,m+1):\n",
    "\n",
    "        for j in range(i,n+1):\n",
    "\n",
    "            dp[i][j]=max(A[j-1]*B[i-1]+dp[i-1][j-1],dp[i][j-1])\n",
    "\n",
    "    return dp[m][n]"
   ]
  }
 ],
 "metadata": {
  "kernelspec": {
   "display_name": "Python 3 (ipykernel)",
   "language": "python",
   "name": "python3"
  },
  "language_info": {
   "codemirror_mode": {
    "name": "ipython",
    "version": 3
   },
   "file_extension": ".py",
   "mimetype": "text/x-python",
   "name": "python",
   "nbconvert_exporter": "python",
   "pygments_lexer": "ipython3",
   "version": "3.9.13"
  }
 },
 "nbformat": 4,
 "nbformat_minor": 5
}

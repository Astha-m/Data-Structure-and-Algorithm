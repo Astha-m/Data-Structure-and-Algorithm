{
 "cells": [
  {
   "cell_type": "code",
   "execution_count": 1,
   "id": "f0b0d9e6",
   "metadata": {},
   "outputs": [
    {
     "data": {
      "text/plain": [
       "\"\\nhttps://practice.geeksforgeeks.org/problems/maximum-sum-bitonic-subsequence1857/1?page=2&difficulty[]=0&category[]=Dynamic%20Programming&sortBy=submissions\\n\\n\\nGiven an array arr[] of N integers. A subsequence\\nof arr[] is called Bitonic if it is first increasing\\nthen decreasing. Print the max sum bitonic subsequence.\\n\\nExample 1:\\n\\nInput :\\nN = 9\\narr[] = {1, 15, 51, 45, 33,\\n                   100, 12, 18, 9}\\nOutput : 194\\nExplanation :\\nBi-tonic Sub-sequence are :\\n{1, 51, 9} or {1, 51, 100, 18, 9} or\\n{1, 15, 51, 100, 18, 9}  or\\n{1, 15, 45, 100, 12, 9}  or\\n{1, 15, 45, 100, 18, 9} .. so on           \\nMaximum sum Bi-tonic sub-sequence is 1 +\\n15 + 51 + 100 + 18 + 9 = 194\\n\\nExample 2:\\n\\nInput :\\nN = 6\\narr[] = {80, 60, 30, 40, 20, 10}\\nOutput :\\n210\\nExplanation :\\nHere the sequence is strinctly decreasing.\\n \\n\\nYour Task:  \\nYou don't need to read input or print anything. \\nYour task is to complete the function leftIndex()\\nwhich takes the array arr[] and its size N as inputs \\nand returns the maximum Bitonic sequence sum.\\n\\nExpected Time Complexity: O(N2)\\nExpected Auxiliary Space: O(N)\\n\\nConstraints:\\n1<=N<=103\\n1<=arr[]<=105\\n\\n\""
      ]
     },
     "execution_count": 1,
     "metadata": {},
     "output_type": "execute_result"
    }
   ],
   "source": [
    "'''\n",
    "https://practice.geeksforgeeks.org/problems/maximum-sum-bitonic-subsequence1857/1?page=2&difficulty[]=0&category[]=Dynamic%20Programming&sortBy=submissions\n",
    "\n",
    "\n",
    "Given an array arr[] of N integers. A subsequence\n",
    "of arr[] is called Bitonic if it is first increasing\n",
    "then decreasing. Print the max sum bitonic subsequence.\n",
    "\n",
    "Example 1:\n",
    "\n",
    "Input :\n",
    "N = 9\n",
    "arr[] = {1, 15, 51, 45, 33,\n",
    "                   100, 12, 18, 9}\n",
    "Output : 194\n",
    "Explanation :\n",
    "Bi-tonic Sub-sequence are :\n",
    "{1, 51, 9} or {1, 51, 100, 18, 9} or\n",
    "{1, 15, 51, 100, 18, 9}  or\n",
    "{1, 15, 45, 100, 12, 9}  or\n",
    "{1, 15, 45, 100, 18, 9} .. so on           \n",
    "Maximum sum Bi-tonic sub-sequence is 1 +\n",
    "15 + 51 + 100 + 18 + 9 = 194\n",
    "\n",
    "Example 2:\n",
    "\n",
    "Input :\n",
    "N = 6\n",
    "arr[] = {80, 60, 30, 40, 20, 10}\n",
    "Output :\n",
    "210\n",
    "Explanation :\n",
    "Here the sequence is strinctly decreasing.\n",
    " \n",
    "\n",
    "Your Task:  \n",
    "You don't need to read input or print anything. \n",
    "Your task is to complete the function leftIndex()\n",
    "which takes the array arr[] and its size N as inputs \n",
    "and returns the maximum Bitonic sequence sum.\n",
    "\n",
    "Expected Time Complexity: O(N2)\n",
    "Expected Auxiliary Space: O(N)\n",
    "\n",
    "Constraints:\n",
    "1<=N<=103\n",
    "1<=arr[]<=105\n",
    "\n",
    "'''"
   ]
  },
  {
   "cell_type": "code",
   "execution_count": 2,
   "id": "029ab893",
   "metadata": {},
   "outputs": [],
   "source": [
    "def maxSumBS( arr, n):\n",
    "    def lis(arr):\n",
    "        n=len(arr)\n",
    "        lis=[0]*n\n",
    "        for i in range(n):\n",
    "            lis[i]=arr[i]\n",
    "            temp=arr[i]\n",
    "            for j in range(0,i):\n",
    "                if(arr[j]<arr[i]):\n",
    "                    temp=max(temp,arr[i]+lis[j])\n",
    "            lis[i]=max(lis[i],temp)\n",
    "        return lis\n",
    "    \n",
    "    def longest_decreasing_subsequence(arr):\n",
    "        n=len(arr)\n",
    "        lds=[0]*n\n",
    "        for i in range(n-1,-1,-1):\n",
    "            lds[i]=arr[i]\n",
    "            temp=arr[i]\n",
    "            for j in range(n-1,i,-1):\n",
    "                if(arr[j]<arr[i]):\n",
    "                    temp=max(temp,arr[i]+lds[j])\n",
    "            lds[i]=max(lds[i],temp)\n",
    "        return lds\n",
    "        \n",
    "    lis=lis(arr)\n",
    "    #print(lis)\n",
    "    lds=longest_decreasing_subsequence(arr)\n",
    "    #print(lds)\n",
    "    res=0\n",
    "    for i in range(n):\n",
    "        res=max(res,lis[i]+lds[i]-arr[i])\n",
    "    return res"
   ]
  },
  {
   "cell_type": "code",
   "execution_count": null,
   "id": "ff3c09af",
   "metadata": {},
   "outputs": [],
   "source": []
  }
 ],
 "metadata": {
  "kernelspec": {
   "display_name": "Python 3 (ipykernel)",
   "language": "python",
   "name": "python3"
  },
  "language_info": {
   "codemirror_mode": {
    "name": "ipython",
    "version": 3
   },
   "file_extension": ".py",
   "mimetype": "text/x-python",
   "name": "python",
   "nbconvert_exporter": "python",
   "pygments_lexer": "ipython3",
   "version": "3.9.13"
  }
 },
 "nbformat": 4,
 "nbformat_minor": 5
}

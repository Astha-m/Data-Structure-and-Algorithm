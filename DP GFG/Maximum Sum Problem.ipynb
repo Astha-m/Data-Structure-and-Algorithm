{
 "cells": [
  {
   "cell_type": "code",
   "execution_count": 1,
   "id": "039b0a26",
   "metadata": {},
   "outputs": [
    {
     "data": {
      "text/plain": [
       "\"\\nhttps://practice.geeksforgeeks.org/problems/maximum-sum-problem2211/1?page=1&difficulty[]=0&category[]=Dynamic%20Programming&sortBy=submissions\\n\\n\\nA number n can be broken into three parts n/2,\\nn/3, and n/4 (consider only the integer part).\\nEach number obtained in this process can be divided \\nfurther recursively. Find the maximum sum that can\\nbe obtained by summing up the divided parts together.\\nNote: It is possible that we don't divide the number \\nat all.\\n\\n \\n\\nExample 1:\\n\\nInput:\\nn = 12\\nOutput: 13\\nExplanation: Break n = 12 in three parts\\n{12/2, 12/3, 12/4} = {6, 4, 3}, now current\\nsum is = (6 + 4 + 3) = 13. Further breaking 6,\\n4 and 3 into parts will produce sum less than\\nor equal to 6, 4 and 3 respectively.\\n\\nExample 2:\\n\\nInput:\\nn = 24\\nOutput: 27\\nExplanation: Break n = 24 in three parts\\n{24/2, 24/3, 24/4} = {12, 8, 6}, now current\\nsum is = (12 + 8 + 6) = 26 . But recursively\\nbreaking 12 would produce value 13.\\nSo our maximum sum is 13 + 8 + 6 = 27.\\n \\n\\nYour Task:\\nYou don't need to read input or print anything. \\nYour task is to complete the function maxSum() \\nwhich accepts an integer n and returns the maximum sum.\\n\\nExpected Time Complexity: O(n)\\nExpected Auxiliary Space: O(n)\\n\\n\\nConstraints:\\n0 <= n <= 106\\n\\n\\n\""
      ]
     },
     "execution_count": 1,
     "metadata": {},
     "output_type": "execute_result"
    }
   ],
   "source": [
    "'''\n",
    "https://practice.geeksforgeeks.org/problems/maximum-sum-problem2211/1?page=1&difficulty[]=0&category[]=Dynamic%20Programming&sortBy=submissions\n",
    "\n",
    "\n",
    "A number n can be broken into three parts n/2,\n",
    "n/3, and n/4 (consider only the integer part).\n",
    "Each number obtained in this process can be divided \n",
    "further recursively. Find the maximum sum that can\n",
    "be obtained by summing up the divided parts together.\n",
    "Note: It is possible that we don't divide the number \n",
    "at all.\n",
    "\n",
    " \n",
    "\n",
    "Example 1:\n",
    "\n",
    "Input:\n",
    "n = 12\n",
    "Output: 13\n",
    "Explanation: Break n = 12 in three parts\n",
    "{12/2, 12/3, 12/4} = {6, 4, 3}, now current\n",
    "sum is = (6 + 4 + 3) = 13. Further breaking 6,\n",
    "4 and 3 into parts will produce sum less than\n",
    "or equal to 6, 4 and 3 respectively.\n",
    "\n",
    "Example 2:\n",
    "\n",
    "Input:\n",
    "n = 24\n",
    "Output: 27\n",
    "Explanation: Break n = 24 in three parts\n",
    "{24/2, 24/3, 24/4} = {12, 8, 6}, now current\n",
    "sum is = (12 + 8 + 6) = 26 . But recursively\n",
    "breaking 12 would produce value 13.\n",
    "So our maximum sum is 13 + 8 + 6 = 27.\n",
    " \n",
    "\n",
    "Your Task:\n",
    "You don't need to read input or print anything. \n",
    "Your task is to complete the function maxSum() \n",
    "which accepts an integer n and returns the maximum sum.\n",
    "\n",
    "Expected Time Complexity: O(n)\n",
    "Expected Auxiliary Space: O(n)\n",
    "\n",
    "\n",
    "Constraints:\n",
    "0 <= n <= 106\n",
    "\n",
    "\n",
    "'''"
   ]
  },
  {
   "cell_type": "code",
   "execution_count": null,
   "id": "b6a41868",
   "metadata": {},
   "outputs": [],
   "source": [
    "def maxSum(self, n): \n",
    "        # code here \n",
    "        if(n==0 or n==1):\n",
    "            return n\n",
    "        dp=[0]*(n+1)\n",
    "        dp[0]=0\n",
    "        dp[1]=1\n",
    "        \n",
    "        for i in range(2,n+1):\n",
    "            dp[i]=max(i,dp[i//2]+dp[i//3]+dp[i//4])\n",
    "        \n",
    "        return dp[n]"
   ]
  }
 ],
 "metadata": {
  "kernelspec": {
   "display_name": "Python 3 (ipykernel)",
   "language": "python",
   "name": "python3"
  },
  "language_info": {
   "codemirror_mode": {
    "name": "ipython",
    "version": 3
   },
   "file_extension": ".py",
   "mimetype": "text/x-python",
   "name": "python",
   "nbconvert_exporter": "python",
   "pygments_lexer": "ipython3",
   "version": "3.9.13"
  }
 },
 "nbformat": 4,
 "nbformat_minor": 5
}

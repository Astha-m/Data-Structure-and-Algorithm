{
 "cells": [
  {
   "cell_type": "code",
   "execution_count": 1,
   "id": "f8e3a285",
   "metadata": {},
   "outputs": [
    {
     "data": {
      "text/plain": [
       "'\\nhttps://practice.geeksforgeeks.org/problems/minimal-moves-to-form-a-string4331/1?page=3&difficulty[]=0&category[]=Dynamic%20Programming&sortBy=submissions\\n\\n\\n\\nGiven a string S, check if it is possible to construct\\nthe given string S by performing any of the below \\noperations any number of times. In each step, we can:\\n\\nAdd any character at the end of the string.\\nor, append the string to the string itself.\\nThe above steps can be applied any number of times.\\nThe task is to find the minimum steps required to form the string.\\n\\nExample 1:\\n\\nInput: S = \"aaaaaaaa\"\\nOutput: 4\\nExplanation: \\nmove 1: add \\'a\\' to form \"a\"\\nmove 2: add \\'a\\' to form \"aa\"\\nmove 3: append \"aa\" to form \"aaaa\"\\nmove 4: append \"aaaa\" to form \"aaaaaaaa\"\\nâ€‹Example 2:\\n\\nInput: S = \"abcabca\"\\nOutput: 5\\nExplanation: \\nmove 1: add \\'a\\' to form \"a\"\\nmove 2: add \\'b\\' to form \"ab\"\\nmove 3: add \\'c\\' to form \"abc\"\\nmove 4: append \"abc\" to form \"abcabc\"\\nmove 5: add \\'a\\' to form \"abcabca\"\\n\\nYour Task:  \\nYou don\\'t need to read input or print anything.\\nYour task is to complete the function minSteps() \\nwhich takes the string s as inputs and returns the answer.\\n\\nExpected Time Complexity: O(|S|2)\\nExpected Auxiliary Space: O(|S|)\\n\\nConstraints:\\n1 ≤ |S| ≤ 103\\n'"
      ]
     },
     "execution_count": 1,
     "metadata": {},
     "output_type": "execute_result"
    }
   ],
   "source": [
    "'''\n",
    "https://practice.geeksforgeeks.org/problems/minimal-moves-to-form-a-string4331/1?page=3&difficulty[]=0&category[]=Dynamic%20Programming&sortBy=submissions\n",
    "\n",
    "\n",
    "\n",
    "Given a string S, check if it is possible to construct\n",
    "the given string S by performing any of the below \n",
    "operations any number of times. In each step, we can:\n",
    "\n",
    "Add any character at the end of the string.\n",
    "or, append the string to the string itself.\n",
    "The above steps can be applied any number of times.\n",
    "The task is to find the minimum steps required to form the string.\n",
    "\n",
    "Example 1:\n",
    "\n",
    "Input: S = \"aaaaaaaa\"\n",
    "Output: 4\n",
    "Explanation: \n",
    "move 1: add 'a' to form \"a\"\n",
    "move 2: add 'a' to form \"aa\"\n",
    "move 3: append \"aa\" to form \"aaaa\"\n",
    "move 4: append \"aaaa\" to form \"aaaaaaaa\"\n",
    "â€‹Example 2:\n",
    "\n",
    "Input: S = \"abcabca\"\n",
    "Output: 5\n",
    "Explanation: \n",
    "move 1: add 'a' to form \"a\"\n",
    "move 2: add 'b' to form \"ab\"\n",
    "move 3: add 'c' to form \"abc\"\n",
    "move 4: append \"abc\" to form \"abcabc\"\n",
    "move 5: add 'a' to form \"abcabca\"\n",
    "\n",
    "Your Task:  \n",
    "You don't need to read input or print anything.\n",
    "Your task is to complete the function minSteps() \n",
    "which takes the string s as inputs and returns the answer.\n",
    "\n",
    "Expected Time Complexity: O(|S|2)\n",
    "Expected Auxiliary Space: O(|S|)\n",
    "\n",
    "Constraints:\n",
    "1 ≤ |S| ≤ 103\n",
    "'''"
   ]
  },
  {
   "cell_type": "code",
   "execution_count": null,
   "id": "6d060ba5",
   "metadata": {},
   "outputs": [],
   "source": [
    "def minSteps(self, s):\n",
    "    # code here\n",
    "    n=len(s)\n",
    "    dp=[0]*(n)\n",
    "    dp[0]=1\n",
    "    for i in range(1,n):\n",
    "        x=dp[i-1]+1\n",
    "        y=float('inf')\n",
    "        mid=(i+1)//2\n",
    "        if(i%2!=0 and s[0:mid]==s[mid:mid+mid]):\n",
    "            y=min(y,dp[i//2]+1)\n",
    "        dp[i]=min(x,y)\n",
    "    return dp[n-1]\n"
   ]
  }
 ],
 "metadata": {
  "kernelspec": {
   "display_name": "Python 3 (ipykernel)",
   "language": "python",
   "name": "python3"
  },
  "language_info": {
   "codemirror_mode": {
    "name": "ipython",
    "version": 3
   },
   "file_extension": ".py",
   "mimetype": "text/x-python",
   "name": "python",
   "nbconvert_exporter": "python",
   "pygments_lexer": "ipython3",
   "version": "3.9.13"
  }
 },
 "nbformat": 4,
 "nbformat_minor": 5
}

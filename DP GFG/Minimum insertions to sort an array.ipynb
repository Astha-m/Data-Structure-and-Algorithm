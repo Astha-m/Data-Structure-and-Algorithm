{
 "cells": [
  {
   "cell_type": "code",
   "execution_count": 1,
   "id": "7b90a916",
   "metadata": {},
   "outputs": [
    {
     "data": {
      "text/plain": [
       "\"\\nhttps://practice.geeksforgeeks.org/problems/minimum-insertions-to-sort-an-array0535/1?page=3&difficulty[]=0&category[]=Dynamic%20Programming&sortBy=submissions\\n\\n\\nGiven an array arr of size N, the task is to sort\\nthis array in a minimum number of steps where in \\none step you can remove any array element from \\nits position and insert it in any other position.\\n\\nExample 1:\\n\\nInput:\\nN = 7\\narr[] = {2, 3, 5, 1, 4, 7, 6}\\nOutput: 3\\nExplanation: \\nWe can sort above array in 3 insertion \\nsteps as shown below,\\n1 before array value 2\\n4 before array value 5\\n6 before array value 7\\nExample 2:\\n\\nInput:\\nN = 4\\narr[] = {4, 6, 5, 1}\\nOutput: 2\\nExplanation: \\nWe can sort above array in 2 insertion \\nsteps as shown below, \\n1 before array value 4\\n6 after array value 5 \\nYour Task:  \\nYou don't need to read input or print anything. \\nComplete the function minInsertions() which takes\\nN and array arr as input parameters and returns \\nthe integer value\\n\\nExpected Time Complexity: O(N2)\\nExpected Auxiliary Space: O(N)\\n\\nConstraints:\\n1 ≤ N ≤ 103\\n\""
      ]
     },
     "execution_count": 1,
     "metadata": {},
     "output_type": "execute_result"
    }
   ],
   "source": [
    "'''\n",
    "https://practice.geeksforgeeks.org/problems/minimum-insertions-to-sort-an-array0535/1?page=3&difficulty[]=0&category[]=Dynamic%20Programming&sortBy=submissions\n",
    "\n",
    "\n",
    "Given an array arr of size N, the task is to sort\n",
    "this array in a minimum number of steps where in \n",
    "one step you can remove any array element from \n",
    "its position and insert it in any other position.\n",
    "\n",
    "Example 1:\n",
    "\n",
    "Input:\n",
    "N = 7\n",
    "arr[] = {2, 3, 5, 1, 4, 7, 6}\n",
    "Output: 3\n",
    "Explanation: \n",
    "We can sort above array in 3 insertion \n",
    "steps as shown below,\n",
    "1 before array value 2\n",
    "4 before array value 5\n",
    "6 before array value 7\n",
    "Example 2:\n",
    "\n",
    "Input:\n",
    "N = 4\n",
    "arr[] = {4, 6, 5, 1}\n",
    "Output: 2\n",
    "Explanation: \n",
    "We can sort above array in 2 insertion \n",
    "steps as shown below, \n",
    "1 before array value 4\n",
    "6 after array value 5 \n",
    "Your Task:  \n",
    "You don't need to read input or print anything. \n",
    "Complete the function minInsertions() which takes\n",
    "N and array arr as input parameters and returns \n",
    "the integer value\n",
    "\n",
    "Expected Time Complexity: O(N2)\n",
    "Expected Auxiliary Space: O(N)\n",
    "\n",
    "Constraints:\n",
    "1 ≤ N ≤ 103\n",
    "'''"
   ]
  },
  {
   "cell_type": "code",
   "execution_count": null,
   "id": "f30187a3",
   "metadata": {},
   "outputs": [],
   "source": [
    "def minInsertions(self,arr, n):\n",
    "    # code here\n",
    "    import bisect\n",
    "    lis=[]\n",
    "\n",
    "    for i in arr:\n",
    "        ind=bisect.bisect_right(lis,i)\n",
    "        if(ind>=len(lis) or lis[ind]==i):\n",
    "            lis.append(i)\n",
    "        else:\n",
    "\n",
    "            lis[ind]=i\n",
    "    #print(lis)\n",
    "    return n-len(lis)"
   ]
  }
 ],
 "metadata": {
  "kernelspec": {
   "display_name": "Python 3 (ipykernel)",
   "language": "python",
   "name": "python3"
  },
  "language_info": {
   "codemirror_mode": {
    "name": "ipython",
    "version": 3
   },
   "file_extension": ".py",
   "mimetype": "text/x-python",
   "name": "python",
   "nbconvert_exporter": "python",
   "pygments_lexer": "ipython3",
   "version": "3.9.13"
  }
 },
 "nbformat": 4,
 "nbformat_minor": 5
}

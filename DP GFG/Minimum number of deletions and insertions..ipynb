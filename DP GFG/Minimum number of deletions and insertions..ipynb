{
 "cells": [
  {
   "cell_type": "code",
   "execution_count": 1,
   "id": "1769c070",
   "metadata": {},
   "outputs": [
    {
     "data": {
      "text/plain": [
       "'\\nGiven two strings str1 and str2. The task is to remove or insert \\nthe minimum number of characters from/in str1 so as to transform \\nit into str2. It could be possible that the same character needs \\nto be removed/deleted from one point of str1 and inserted to some another point.\\n\\nExample 1:\\n\\nInput: str1 = \"heap\", str2 = \"pea\"\\nOutput: 3\\nExplanation: 2 deletions and 1 insertion\\np and h deleted from heap. Then, p is \\ninserted at the beginning One thing to \\nnote, though p was required yet it was \\nremoved/deleted first from its position \\nand then it is inserted to some other \\nposition. Thus, p contributes one to the \\ndeletion_count and one to the \\ninsertion_count.\\nExample 2:\\n\\nInput : str1 = \"geeksforgeeks\"\\nstr2 = \"geeks\"\\nOutput: 8\\nExplanation: 8 deletions\\n \\n\\nYour Task:\\nYou don\\'t need to read or print anything. Your task is to complete \\nthe function minOperations() which takes both strings as input\\nparameter and returns the minimum number of operation required.\\n\\nExpected Time Complexity: O(|str1|*|str2|)\\nExpected Space Complexity: O(|str1|*|str2|)\\n\\n\\n'"
      ]
     },
     "execution_count": 1,
     "metadata": {},
     "output_type": "execute_result"
    }
   ],
   "source": [
    "'''\n",
    "Given two strings str1 and str2. The task is to remove or insert \n",
    "the minimum number of characters from/in str1 so as to transform \n",
    "it into str2. It could be possible that the same character needs \n",
    "to be removed/deleted from one point of str1 and inserted to some another point.\n",
    "\n",
    "Example 1:\n",
    "\n",
    "Input: str1 = \"heap\", str2 = \"pea\"\n",
    "Output: 3\n",
    "Explanation: 2 deletions and 1 insertion\n",
    "p and h deleted from heap. Then, p is \n",
    "inserted at the beginning One thing to \n",
    "note, though p was required yet it was \n",
    "removed/deleted first from its position \n",
    "and then it is inserted to some other \n",
    "position. Thus, p contributes one to the \n",
    "deletion_count and one to the \n",
    "insertion_count.\n",
    "Example 2:\n",
    "\n",
    "Input : str1 = \"geeksforgeeks\"\n",
    "str2 = \"geeks\"\n",
    "Output: 8\n",
    "Explanation: 8 deletions\n",
    " \n",
    "\n",
    "Your Task:\n",
    "You don't need to read or print anything. Your task is to complete \n",
    "the function minOperations() which takes both strings as input\n",
    "parameter and returns the minimum number of operation required.\n",
    "\n",
    "Expected Time Complexity: O(|str1|*|str2|)\n",
    "Expected Space Complexity: O(|str1|*|str2|)\n",
    "\n",
    "\n",
    "'''"
   ]
  },
  {
   "cell_type": "code",
   "execution_count": null,
   "id": "90cddaa6",
   "metadata": {},
   "outputs": [],
   "source": [
    "def minOperations(self, s1, s2):\n",
    "    dp=[]\n",
    "    m=len(s1)\n",
    "    n=len(s2)\n",
    "\n",
    "    for i in range(m+1):\n",
    "        dp.append([-1]*(n+1))\n",
    "\n",
    "    for i in range(m+1):\n",
    "        dp[i][0]=0\n",
    "\n",
    "    for i in range(n+1):\n",
    "        dp[0][i]=0\n",
    "\n",
    "    for i in range(1,m+1):\n",
    "        for j in range(1,n+1):\n",
    "            if(s1[i-1]==s2[j-1]):\n",
    "                dp[i][j]=1+dp[i-1][j-1]\n",
    "            else:\n",
    "                dp[i][j]=max(dp[i-1][j],dp[i][j-1])\n",
    "    lcs=dp[m][n]\n",
    "\n",
    "    return m+n-2*lcs"
   ]
  }
 ],
 "metadata": {
  "kernelspec": {
   "display_name": "Python 3 (ipykernel)",
   "language": "python",
   "name": "python3"
  },
  "language_info": {
   "codemirror_mode": {
    "name": "ipython",
    "version": 3
   },
   "file_extension": ".py",
   "mimetype": "text/x-python",
   "name": "python",
   "nbconvert_exporter": "python",
   "pygments_lexer": "ipython3",
   "version": "3.10.7"
  }
 },
 "nbformat": 4,
 "nbformat_minor": 5
}

{
 "cells": [
  {
   "cell_type": "code",
   "execution_count": 1,
   "id": "e524c1c0",
   "metadata": {},
   "outputs": [
    {
     "data": {
      "text/plain": [
       "\"\\nhttps://practice.geeksforgeeks.org/problems/minimum-steps-to-minimize-n-as-per-given-condition0618/1?page=2&difficulty[]=0&category[]=Dynamic%20Programming&sortBy=submissions\\n\\n\\nGiven a number N, the task is to count minimum \\nsteps to minimize it to 1 according to the following criteria:\\n\\nIf N is divisible by 2 then you may reduce N to N/2.\\nIf N is divisible by 3 then you may reduce N to N/3.\\nOtherwise, Decrement N by 1.\\nExample 1:\\n\\nInput: N = 10\\nOutput: 3\\nExplanation: 10 - 1 = 9 / 3 = 3 / 3 = 1\\nExample 2:\\nInput: N = 1\\nOutput: 0\\nExplanation: N is 1\\n\\nYour Task:  \\nYou don't need to read input or print anything.\\nComplete the function minSteps() which takes N \\nas input parameters and returns the integer value\\n\\nExpected Time Complexity: O(N)\\nExpected Auxiliary Space: O(N)\\n\\nConstraints:\\n1 ≤ N ≤ 104\\n\\n\\n\\n\""
      ]
     },
     "execution_count": 1,
     "metadata": {},
     "output_type": "execute_result"
    }
   ],
   "source": [
    "'''\n",
    "https://practice.geeksforgeeks.org/problems/minimum-steps-to-minimize-n-as-per-given-condition0618/1?page=2&difficulty[]=0&category[]=Dynamic%20Programming&sortBy=submissions\n",
    "\n",
    "\n",
    "Given a number N, the task is to count minimum \n",
    "steps to minimize it to 1 according to the following criteria:\n",
    "\n",
    "If N is divisible by 2 then you may reduce N to N/2.\n",
    "If N is divisible by 3 then you may reduce N to N/3.\n",
    "Otherwise, Decrement N by 1.\n",
    "Example 1:\n",
    "\n",
    "Input: N = 10\n",
    "Output: 3\n",
    "Explanation: 10 - 1 = 9 / 3 = 3 / 3 = 1\n",
    "Example 2:\n",
    "Input: N = 1\n",
    "Output: 0\n",
    "Explanation: N is 1\n",
    "\n",
    "Your Task:  \n",
    "You don't need to read input or print anything.\n",
    "Complete the function minSteps() which takes N \n",
    "as input parameters and returns the integer value\n",
    "\n",
    "Expected Time Complexity: O(N)\n",
    "Expected Auxiliary Space: O(N)\n",
    "\n",
    "Constraints:\n",
    "1 ≤ N ≤ 104\n",
    "\n",
    "\n",
    "\n",
    "'''"
   ]
  },
  {
   "cell_type": "code",
   "execution_count": null,
   "id": "8ed84162",
   "metadata": {},
   "outputs": [],
   "source": [
    "def minSteps(self, n):\n",
    "    # code here\n",
    "    dp=[float('inf')]*(n+1)\n",
    "    dp[0]=0\n",
    "    dp[1]=0\n",
    "\n",
    "    for i in range(2,n+1):\n",
    "\n",
    "        if(i%2==0):\n",
    "            dp[i]=min(dp[i],dp[i//2]+1)\n",
    "        if(i%3==0):\n",
    "            dp[i]=min(dp[i],dp[i//3]+1)\n",
    "        else:\n",
    "            dp[i]=min(dp[i],dp[i-1]+1)\n",
    "\n",
    "    return dp[n]"
   ]
  }
 ],
 "metadata": {
  "kernelspec": {
   "display_name": "Python 3 (ipykernel)",
   "language": "python",
   "name": "python3"
  },
  "language_info": {
   "codemirror_mode": {
    "name": "ipython",
    "version": 3
   },
   "file_extension": ".py",
   "mimetype": "text/x-python",
   "name": "python",
   "nbconvert_exporter": "python",
   "pygments_lexer": "ipython3",
   "version": "3.9.13"
  }
 },
 "nbformat": 4,
 "nbformat_minor": 5
}

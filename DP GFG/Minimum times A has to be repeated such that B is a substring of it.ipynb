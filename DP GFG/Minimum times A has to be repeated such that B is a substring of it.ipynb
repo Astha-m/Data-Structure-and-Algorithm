{
 "cells": [
  {
   "cell_type": "code",
   "execution_count": 1,
   "id": "8740243d",
   "metadata": {},
   "outputs": [
    {
     "data": {
      "text/plain": [
       "'\\nhttps://practice.geeksforgeeks.org/problems/fda70097eb2895ecfff269849b6a8aace441947c/1\\n\\n\\nGiven two strings A and B. Find minimum number\\nof times A has to be repeated such that B is\\na Substring of it. If B can never be a substring\\nthen return -1.\\n\\n \\n\\nExample 1:\\n\\nInput:\\nA = \"abcd\"\\nB = \"cdabcdab\"\\nOutput:\\n3\\nExplanation:\\nRepeating A three times (abcdabcdabcd),\\nB is a substring of it. B is not a substring\\nof A when it is repeated less than 3 times.\\nExample 2:\\nInput:\\nA = \"ab\"\\nB = \"cab\"\\nOutput :\\n-1\\nExplanation:\\nNo matter how many times we repeat A, we can\\'t\\nget a string such that B is a substring of it.\\n\\nYour Task:  \\nYou don\\'t need to read input or print anything.\\nYour task is to complete the function minRepeats() \\nwhich takes 2 strings A, and B respectively and\\nreturns the minimum number of times A has to be \\nrepeated such that B is a substring of it. Return \\n-1 if it\\'s not possible.\\n\\n\\nExpected Time Complexity: O(|A| * |B|)\\nExpected Auxiliary Space: O(|B|)\\n\\n\\nConstraints:\\n1 ≤ |A|, |B| ≤ 103\\nString A and B consists of lower case alphabets\\n'"
      ]
     },
     "execution_count": 1,
     "metadata": {},
     "output_type": "execute_result"
    }
   ],
   "source": [
    "'''\n",
    "https://practice.geeksforgeeks.org/problems/fda70097eb2895ecfff269849b6a8aace441947c/1\n",
    "\n",
    "\n",
    "Given two strings A and B. Find minimum number\n",
    "of times A has to be repeated such that B is\n",
    "a Substring of it. If B can never be a substring\n",
    "then return -1.\n",
    "\n",
    " \n",
    "\n",
    "Example 1:\n",
    "\n",
    "Input:\n",
    "A = \"abcd\"\n",
    "B = \"cdabcdab\"\n",
    "Output:\n",
    "3\n",
    "Explanation:\n",
    "Repeating A three times (abcdabcdabcd),\n",
    "B is a substring of it. B is not a substring\n",
    "of A when it is repeated less than 3 times.\n",
    "Example 2:\n",
    "Input:\n",
    "A = \"ab\"\n",
    "B = \"cab\"\n",
    "Output :\n",
    "-1\n",
    "Explanation:\n",
    "No matter how many times we repeat A, we can't\n",
    "get a string such that B is a substring of it.\n",
    "\n",
    "Your Task:  \n",
    "You don't need to read input or print anything.\n",
    "Your task is to complete the function minRepeats() \n",
    "which takes 2 strings A, and B respectively and\n",
    "returns the minimum number of times A has to be \n",
    "repeated such that B is a substring of it. Return \n",
    "-1 if it's not possible.\n",
    "\n",
    "\n",
    "Expected Time Complexity: O(|A| * |B|)\n",
    "Expected Auxiliary Space: O(|B|)\n",
    "\n",
    "\n",
    "Constraints:\n",
    "1 ≤ |A|, |B| ≤ 103\n",
    "String A and B consists of lower case alphabets\n",
    "'''"
   ]
  },
  {
   "cell_type": "code",
   "execution_count": null,
   "id": "a8824619",
   "metadata": {},
   "outputs": [],
   "source": [
    "def minRepeats(self, A, B):\n",
    "    # code here \n",
    "    count=1\n",
    "    strg=A\n",
    "    while(len(A)<len(B)):\n",
    "        A+=strg\n",
    "        count+=1\n",
    "    if(A.find(B)!=-1):\n",
    "        return count\n",
    "    if((A+strg).find(B)!=-1):\n",
    "        return count+1\n",
    "    else:\n",
    "        return -1"
   ]
  }
 ],
 "metadata": {
  "kernelspec": {
   "display_name": "Python 3 (ipykernel)",
   "language": "python",
   "name": "python3"
  },
  "language_info": {
   "codemirror_mode": {
    "name": "ipython",
    "version": 3
   },
   "file_extension": ".py",
   "mimetype": "text/x-python",
   "name": "python",
   "nbconvert_exporter": "python",
   "pygments_lexer": "ipython3",
   "version": "3.9.13"
  }
 },
 "nbformat": 4,
 "nbformat_minor": 5
}

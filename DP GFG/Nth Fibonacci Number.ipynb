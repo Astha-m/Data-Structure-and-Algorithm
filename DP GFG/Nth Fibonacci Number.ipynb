{
 "cells": [
  {
   "cell_type": "code",
   "execution_count": 1,
   "id": "d80f9004",
   "metadata": {},
   "outputs": [
    {
     "data": {
      "text/plain": [
       "'\\nhttps://practice.geeksforgeeks.org/problems/nth-fibonacci-number1335/1?page=1&difficulty[]=0&category[]=Dynamic%20Programming&sortBy=submissions\\n\\n\\nGiven a positive integer n, find the nth fibonacci number. Since the answer\\ncan be very large, return the answer modulo 1000000007.\\n\\nExample 1:\\n\\nInput: n = 2\\nOutput: 1 \\nExplanation: 1 is the 2nd number\\nof fibonacci series.\\nExample 2:\\n\\nInput: n = 5\\nOutput: 5\\nExplanation: 5 is the 5th number\\nof fibonacci series.\\n\\nYour Task:  \\nYou dont need to read input or print anything. Complete the function\\nnthFibonacci() which takes n as input parameter and returns nth fibonacci number.\\n\\nExpected Time Complexity: O(n)\\nExpected Auxiliary Space: O(n)\\n\\n\\n'"
      ]
     },
     "execution_count": 1,
     "metadata": {},
     "output_type": "execute_result"
    }
   ],
   "source": [
    "'''\n",
    "https://practice.geeksforgeeks.org/problems/nth-fibonacci-number1335/1?page=1&difficulty[]=0&category[]=Dynamic%20Programming&sortBy=submissions\n",
    "\n",
    "\n",
    "Given a positive integer n, find the nth fibonacci number. Since the answer\n",
    "can be very large, return the answer modulo 1000000007.\n",
    "\n",
    "Example 1:\n",
    "\n",
    "Input: n = 2\n",
    "Output: 1 \n",
    "Explanation: 1 is the 2nd number\n",
    "of fibonacci series.\n",
    "Example 2:\n",
    "\n",
    "Input: n = 5\n",
    "Output: 5\n",
    "Explanation: 5 is the 5th number\n",
    "of fibonacci series.\n",
    "\n",
    "Your Task:  \n",
    "You dont need to read input or print anything. Complete the function\n",
    "nthFibonacci() which takes n as input parameter and returns nth fibonacci number.\n",
    "\n",
    "Expected Time Complexity: O(n)\n",
    "Expected Auxiliary Space: O(n)\n",
    "\n",
    "\n",
    "'''"
   ]
  },
  {
   "cell_type": "code",
   "execution_count": null,
   "id": "b415b2c7",
   "metadata": {},
   "outputs": [],
   "source": [
    "def nthFibonacci(self, n):\n",
    "    dp=[-1]*(n+1)\n",
    "    dp[0]=0\n",
    "    dp[1]=1\n",
    "    if(n==1):\n",
    "        return 1%1000000007\n",
    "    else:\n",
    "        for i in range(2,n+1):\n",
    "            dp[i]=dp[i-1]+dp[i-2]\n",
    "\n",
    "        return dp[n]%1000000007"
   ]
  }
 ],
 "metadata": {
  "kernelspec": {
   "display_name": "Python 3 (ipykernel)",
   "language": "python",
   "name": "python3"
  },
  "language_info": {
   "codemirror_mode": {
    "name": "ipython",
    "version": 3
   },
   "file_extension": ".py",
   "mimetype": "text/x-python",
   "name": "python",
   "nbconvert_exporter": "python",
   "pygments_lexer": "ipython3",
   "version": "3.10.7"
  }
 },
 "nbformat": 4,
 "nbformat_minor": 5
}

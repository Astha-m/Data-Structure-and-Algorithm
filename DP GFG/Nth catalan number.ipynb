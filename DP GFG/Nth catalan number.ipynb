{
 "cells": [
  {
   "cell_type": "code",
   "execution_count": 1,
   "id": "9b6d7a5d",
   "metadata": {},
   "outputs": [
    {
     "data": {
      "text/plain": [
       "'\\nhttps://practice.geeksforgeeks.org/problems/nth-catalan-number0817/1?page=1&difficulty[]=0&category[]=Dynamic%20Programming&sortBy=submissions\\n\\nGiven a number N. The task is to find the Nth catalan number.\\nThe first few Catalan numbers for N = 0, 1, 2, 3, … are 1, 1, 2, 5, 14, 42, 132, 429, 1430, 4862, …\\nNote: Positions start from 0 as shown above.\\n\\nExample 1:\\n\\nInput:\\nN = 5\\nOutput: 42\\nExample 2:\\n\\nInput:\\nN = 4\\nOutput: 14\\nYour Task:\\nComplete findCatalan() function that takes n as an argument \\nand returns the Nth Catalan number. The output is printed by the driver code.\\n\\nExpected Time Complexity: O(N).\\nExpected Auxiliary Space: O(N).\\n\\n\\n'"
      ]
     },
     "execution_count": 1,
     "metadata": {},
     "output_type": "execute_result"
    }
   ],
   "source": [
    "'''\n",
    "https://practice.geeksforgeeks.org/problems/nth-catalan-number0817/1?page=1&difficulty[]=0&category[]=Dynamic%20Programming&sortBy=submissions\n",
    "\n",
    "Given a number N. The task is to find the Nth catalan number.\n",
    "The first few Catalan numbers for N = 0, 1, 2, 3, … are 1, 1, 2, 5, 14, 42, 132, 429, 1430, 4862, …\n",
    "Note: Positions start from 0 as shown above.\n",
    "\n",
    "Example 1:\n",
    "\n",
    "Input:\n",
    "N = 5\n",
    "Output: 42\n",
    "Example 2:\n",
    "\n",
    "Input:\n",
    "N = 4\n",
    "Output: 14\n",
    "Your Task:\n",
    "Complete findCatalan() function that takes n as an argument \n",
    "and returns the Nth Catalan number. The output is printed by the driver code.\n",
    "\n",
    "Expected Time Complexity: O(N).\n",
    "Expected Auxiliary Space: O(N).\n",
    "\n",
    "\n",
    "'''"
   ]
  },
  {
   "cell_type": "code",
   "execution_count": null,
   "id": "4f66aadb",
   "metadata": {},
   "outputs": [],
   "source": [
    "def findCatalan(self,n):\n",
    "    dp=[0]*(n+1)\n",
    "    dp[0]=1\n",
    "\n",
    "    for i in range(1,n+1):\n",
    "        for j in range(0,i):\n",
    "            dp[i]=dp[i]+(dp[j]*dp[i-j-1])\n",
    "    return dp[n]\n"
   ]
  }
 ],
 "metadata": {
  "kernelspec": {
   "display_name": "Python 3 (ipykernel)",
   "language": "python",
   "name": "python3"
  },
  "language_info": {
   "codemirror_mode": {
    "name": "ipython",
    "version": 3
   },
   "file_extension": ".py",
   "mimetype": "text/x-python",
   "name": "python",
   "nbconvert_exporter": "python",
   "pygments_lexer": "ipython3",
   "version": "3.10.7"
  }
 },
 "nbformat": 4,
 "nbformat_minor": 5
}

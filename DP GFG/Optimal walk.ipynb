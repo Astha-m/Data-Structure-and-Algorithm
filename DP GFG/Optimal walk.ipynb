{
 "cells": [
  {
   "cell_type": "code",
   "execution_count": 1,
   "id": "79a748c9",
   "metadata": {},
   "outputs": [
    {
     "data": {
      "text/plain": [
       "'\\nhttps://practice.geeksforgeeks.org/problems/optimal-walk3752/1?page=3&difficulty[]=0&category[]=Dynamic%20Programming&sortBy=submissions\\n\\n\\nGiven a point on x axis, (N,0), you are \\nstanding at origin and you can only move \\non x-axis. Lets say you are at (x,0), at \\neach step you can either move one step \\nforward ie (x+1,0) or one step backwards\\n(x-1,0) or make a jump to double your current\\nposition (2*x,0). One step movement costs you\\nA while a jump costs you B. If your initial position\\nis (0,0) , find the minimum cost to reach (N,0) .\\n\\n\\nExample 1:\\n\\nInput: N = 7, A = 1, B = 100\\nOutput: 7\\nExplaination: Move forward to (N, 0) one \\nunit at each step.\\n\\nExample 2:\\n\\nInput: N = 8, A = 2, B = 4\\nOutput: 12\\nExplaination: The optimal movement is to \\n1, 2, 3, 4, 8.\\n\\nYour Task:\\nYou do not need to read input or print anything. \\nYour task is to complete the function optimalWalk() \\nwhich takes N, A and B as input parameters and returns\\nthe minimum cost to go to (N, 0) from (0, 0).\\n\\n\\nExpected Time Complexity: O(N)\\nExpected Auxiliary Space: O(N)\\n\\n\\nConstraints:\\n1 ≤ N ≤ 105\\n1 ≤ A, B ≤ 109   \\n'"
      ]
     },
     "execution_count": 1,
     "metadata": {},
     "output_type": "execute_result"
    }
   ],
   "source": [
    "'''\n",
    "https://practice.geeksforgeeks.org/problems/optimal-walk3752/1?page=3&difficulty[]=0&category[]=Dynamic%20Programming&sortBy=submissions\n",
    "\n",
    "\n",
    "Given a point on x axis, (N,0), you are \n",
    "standing at origin and you can only move \n",
    "on x-axis. Lets say you are at (x,0), at \n",
    "each step you can either move one step \n",
    "forward ie (x+1,0) or one step backwards\n",
    "(x-1,0) or make a jump to double your current\n",
    "position (2*x,0). One step movement costs you\n",
    "A while a jump costs you B. If your initial position\n",
    "is (0,0) , find the minimum cost to reach (N,0) .\n",
    "\n",
    "\n",
    "Example 1:\n",
    "\n",
    "Input: N = 7, A = 1, B = 100\n",
    "Output: 7\n",
    "Explaination: Move forward to (N, 0) one \n",
    "unit at each step.\n",
    "\n",
    "Example 2:\n",
    "\n",
    "Input: N = 8, A = 2, B = 4\n",
    "Output: 12\n",
    "Explaination: The optimal movement is to \n",
    "1, 2, 3, 4, 8.\n",
    "\n",
    "Your Task:\n",
    "You do not need to read input or print anything. \n",
    "Your task is to complete the function optimalWalk() \n",
    "which takes N, A and B as input parameters and returns\n",
    "the minimum cost to go to (N, 0) from (0, 0).\n",
    "\n",
    "\n",
    "Expected Time Complexity: O(N)\n",
    "Expected Auxiliary Space: O(N)\n",
    "\n",
    "\n",
    "Constraints:\n",
    "1 ≤ N ≤ 105\n",
    "1 ≤ A, B ≤ 109   \n",
    "'''"
   ]
  },
  {
   "cell_type": "code",
   "execution_count": null,
   "id": "9d11141e",
   "metadata": {},
   "outputs": [],
   "source": [
    "def optimalWalk(self, n, a, b):\n",
    "    # code here\n",
    "\n",
    "    dp=[0]*(n+1)\n",
    "    dp[0]=0\n",
    "    dp[1]=a\n",
    "    for i in range(2,n+1):\n",
    "        dp[i]=min( dp[i-1]+a, dp[(i+1)//2]+b+(i%2)*a)\n",
    "    return dp[n]"
   ]
  }
 ],
 "metadata": {
  "kernelspec": {
   "display_name": "Python 3 (ipykernel)",
   "language": "python",
   "name": "python3"
  },
  "language_info": {
   "codemirror_mode": {
    "name": "ipython",
    "version": 3
   },
   "file_extension": ".py",
   "mimetype": "text/x-python",
   "name": "python",
   "nbconvert_exporter": "python",
   "pygments_lexer": "ipython3",
   "version": "3.9.13"
  }
 },
 "nbformat": 4,
 "nbformat_minor": 5
}

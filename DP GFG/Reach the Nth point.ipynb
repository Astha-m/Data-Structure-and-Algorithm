{
 "cells": [
  {
   "cell_type": "code",
   "execution_count": 1,
   "id": "824ade0b",
   "metadata": {},
   "outputs": [
    {
     "data": {
      "text/plain": [
       "\"\\nhttps://practice.geeksforgeeks.org/problems/reach-the-nth-point5433/1?page=1&difficulty[]=0&category[]=Dynamic%20Programming&sortBy=submissions\\n\\n\\n\\nThere are N points on the road ,you can\\nstep ahead by 1 or 2 . Find the number of\\nways you can reach at point N. \\n\\nExample 1:\\n\\nInput: N = 4\\nOutput: 5\\nExplanation: Three ways to reach at 4th\\npoint. They are {1, 1, 1, 1}, {1, 1, 2},\\n{1, 2, 1} {2, 1, 1}, {2, 2}.\\n\\nExample 2:\\n\\nInput: N = 5\\nOutput: 8\\nExplanation: Three ways to reach at 5th\\npoint. They are {1, 1, 1, 1, 1},\\n{1, 1, 1, 2}, {1, 1, 2, 1}, {1, 2, 1, 1},\\n{2, 1, 1, 1}{1, 2, 2}, {2, 1, 2}, {2, 2, 1}\\n\\nYour Task:\\nYou don't need to read or print anyhting.\\nYour task is to complete the function nthPoint() \\nwhich takes N as input parameter and returns the\\ntotal number of ways modulo 109 + 7 to reach at Nth point.\\n\\nExpected Time Complexity: O(N)\\nExpected Space Complexity: O(N)\\n\\nConstraints:\\n1 ≤ N ≤ 104\\n\\n\\n\""
      ]
     },
     "execution_count": 1,
     "metadata": {},
     "output_type": "execute_result"
    }
   ],
   "source": [
    "'''\n",
    "https://practice.geeksforgeeks.org/problems/reach-the-nth-point5433/1?page=1&difficulty[]=0&category[]=Dynamic%20Programming&sortBy=submissions\n",
    "\n",
    "\n",
    "\n",
    "There are N points on the road ,you can\n",
    "step ahead by 1 or 2 . Find the number of\n",
    "ways you can reach at point N. \n",
    "\n",
    "Example 1:\n",
    "\n",
    "Input: N = 4\n",
    "Output: 5\n",
    "Explanation: Three ways to reach at 4th\n",
    "point. They are {1, 1, 1, 1}, {1, 1, 2},\n",
    "{1, 2, 1} {2, 1, 1}, {2, 2}.\n",
    "\n",
    "Example 2:\n",
    "\n",
    "Input: N = 5\n",
    "Output: 8\n",
    "Explanation: Three ways to reach at 5th\n",
    "point. They are {1, 1, 1, 1, 1},\n",
    "{1, 1, 1, 2}, {1, 1, 2, 1}, {1, 2, 1, 1},\n",
    "{2, 1, 1, 1}{1, 2, 2}, {2, 1, 2}, {2, 2, 1}\n",
    "\n",
    "Your Task:\n",
    "You don't need to read or print anyhting.\n",
    "Your task is to complete the function nthPoint() \n",
    "which takes N as input parameter and returns the\n",
    "total number of ways modulo 109 + 7 to reach at Nth point.\n",
    "\n",
    "Expected Time Complexity: O(N)\n",
    "Expected Space Complexity: O(N)\n",
    "\n",
    "Constraints:\n",
    "1 ≤ N ≤ 104\n",
    "\n",
    "\n",
    "'''"
   ]
  },
  {
   "cell_type": "code",
   "execution_count": null,
   "id": "8075607a",
   "metadata": {},
   "outputs": [],
   "source": [
    "def nthPoint(self,n):\n",
    "        dp=[-1]*(n+1)\n",
    "        \n",
    "        if(n==1):\n",
    "            return 1\n",
    "        \n",
    "        \n",
    "        dp[0]=0\n",
    "        dp[1]=1\n",
    "        dp[2]=2\n",
    "        for i in range(3,n+1):\n",
    "            dp[i]=dp[i-1]+dp[i-2]\n",
    "        return dp[n]%(10**9+7)"
   ]
  }
 ],
 "metadata": {
  "kernelspec": {
   "display_name": "Python 3 (ipykernel)",
   "language": "python",
   "name": "python3"
  },
  "language_info": {
   "codemirror_mode": {
    "name": "ipython",
    "version": 3
   },
   "file_extension": ".py",
   "mimetype": "text/x-python",
   "name": "python",
   "nbconvert_exporter": "python",
   "pygments_lexer": "ipython3",
   "version": "3.9.13"
  }
 },
 "nbformat": 4,
 "nbformat_minor": 5
}

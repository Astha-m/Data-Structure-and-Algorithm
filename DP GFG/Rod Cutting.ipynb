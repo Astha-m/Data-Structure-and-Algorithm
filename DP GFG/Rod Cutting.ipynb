{
 "cells": [
  {
   "cell_type": "code",
   "execution_count": 1,
   "id": "22c7c17d",
   "metadata": {},
   "outputs": [
    {
     "data": {
      "text/plain": [
       "\"\\nhttps://practice.geeksforgeeks.org/problems/rod-cutting0840/1?page=1&difficulty[]=0&category[]=Dynamic%20Programming&sortBy=submissions\\n\\n\\nGiven a rod of length N inches and an array of prices, \\nprice[]. pricei denotes the value of a piece of length i. \\nDetermine the maximum value obtainable by cutting up the rod \\nand selling the pieces.\\n\\n \\n\\nExample 1:\\n\\nInput:\\nN = 8\\nPrice[] = {1, 5, 8, 9, 10, 17, 17, 20}\\nOutput:\\n22\\nExplanation:\\nThe maximum obtainable value is 22 by\\ncutting in two pieces of lengths 2 and \\n6, i.e., 5+17=22.\\nExample 2:\\n\\nInput:\\nN=8\\nPrice[] = {3, 5, 8, 9, 10, 17, 17, 20}\\nOutput: 24\\nExplanation: \\nThe maximum obtainable value is \\n24 by cutting the rod into 8 pieces \\nof length 1, i.e, 8*3=24. \\n\\nYour Task:  \\nYou don't need to read input or print anything. Your \\ntask is to complete the function cutRod() which takes \\nthe array A[] and its size N as inputs and returns the \\nmaximum price obtainable.\\n\\n\\nExpected Time Complexity: O(N2)\\nExpected Auxiliary Space: O(N)\\n\""
      ]
     },
     "execution_count": 1,
     "metadata": {},
     "output_type": "execute_result"
    }
   ],
   "source": [
    "'''\n",
    "https://practice.geeksforgeeks.org/problems/rod-cutting0840/1?page=1&difficulty[]=0&category[]=Dynamic%20Programming&sortBy=submissions\n",
    "\n",
    "\n",
    "Given a rod of length N inches and an array of prices, \n",
    "price[]. pricei denotes the value of a piece of length i. \n",
    "Determine the maximum value obtainable by cutting up the rod \n",
    "and selling the pieces.\n",
    "\n",
    " \n",
    "\n",
    "Example 1:\n",
    "\n",
    "Input:\n",
    "N = 8\n",
    "Price[] = {1, 5, 8, 9, 10, 17, 17, 20}\n",
    "Output:\n",
    "22\n",
    "Explanation:\n",
    "The maximum obtainable value is 22 by\n",
    "cutting in two pieces of lengths 2 and \n",
    "6, i.e., 5+17=22.\n",
    "Example 2:\n",
    "\n",
    "Input:\n",
    "N=8\n",
    "Price[] = {3, 5, 8, 9, 10, 17, 17, 20}\n",
    "Output: 24\n",
    "Explanation: \n",
    "The maximum obtainable value is \n",
    "24 by cutting the rod into 8 pieces \n",
    "of length 1, i.e, 8*3=24. \n",
    "\n",
    "Your Task:  \n",
    "You don't need to read input or print anything. Your \n",
    "task is to complete the function cutRod() which takes \n",
    "the array A[] and its size N as inputs and returns the \n",
    "maximum price obtainable.\n",
    "\n",
    "\n",
    "Expected Time Complexity: O(N2)\n",
    "Expected Auxiliary Space: O(N)\n",
    "'''"
   ]
  },
  {
   "cell_type": "code",
   "execution_count": null,
   "id": "f07e0940",
   "metadata": {},
   "outputs": [],
   "source": [
    "def cutRod(self, price, n):\n",
    "    #code here\n",
    "    dp=[]\n",
    "    for i in range(n+1):\n",
    "        dp.append([-1]*(n+1))\n",
    "\n",
    "    for i in range(n+1):\n",
    "        dp[0][i]=0\n",
    "        dp[i][0]=0\n",
    "\n",
    "    for i in range(1,n+1):\n",
    "        for j in range(1,n+1):\n",
    "            if(i<=j):\n",
    "                dp[i][j]=max(price[i-1]+dp[i][j-i],dp[i-1][j])\n",
    "            else:\n",
    "                dp[i][j]=dp[i-1][j]\n",
    "    return dp[n][n]\n"
   ]
  }
 ],
 "metadata": {
  "kernelspec": {
   "display_name": "Python 3 (ipykernel)",
   "language": "python",
   "name": "python3"
  },
  "language_info": {
   "codemirror_mode": {
    "name": "ipython",
    "version": 3
   },
   "file_extension": ".py",
   "mimetype": "text/x-python",
   "name": "python",
   "nbconvert_exporter": "python",
   "pygments_lexer": "ipython3",
   "version": "3.10.7"
  }
 },
 "nbformat": 4,
 "nbformat_minor": 5
}

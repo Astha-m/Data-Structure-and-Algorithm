{
 "cells": [
  {
   "cell_type": "code",
   "execution_count": 1,
   "id": "90378117",
   "metadata": {},
   "outputs": [
    {
     "data": {
      "text/plain": [
       "'\\nhttps://practice.geeksforgeeks.org/problems/stickler-theif-1587115621/1?page=1&difficulty[]=0&category[]=Dynamic%20Programming&sortBy=submissions\\n\\nStickler the thief wants to loot money from a society having\\nn houses in a single line. He is a weird person and follows a\\ncertain rule when looting the houses. According to the rule, \\nhe will never loot two consecutive houses. At the same time, \\nhe wants to maximize the amount he loots. The thief knows which\\nhouse has what amount of money but is unable to come up with an\\noptimal looting strategy. He asks for your help to find the maximum\\nmoney he can get if he strictly follows the rule. Each house has \\na[i]amount of money present in it.\\n\\nExample 1:\\n\\nInput:\\nn = 6\\na[] = {5,5,10,100,10,5}\\nOutput: 110\\nExplanation: 5+100+5=110\\nExample 2:\\n\\nInput:\\nn = 3\\na[] = {1,2,3}\\nOutput: 4\\nExplanation: 1+3=4\\nYour Task:\\nComplete the functionFindMaxSum()which takes an array arr[] and\\nn as input which returns the maximum money he can get following \\nthe rules\\n\\nExpected Time Complexity:O(N).\\nExpected Space Complexity:O(N).\\n\\n\\n'"
      ]
     },
     "execution_count": 1,
     "metadata": {},
     "output_type": "execute_result"
    }
   ],
   "source": [
    "'''\n",
    "https://practice.geeksforgeeks.org/problems/stickler-theif-1587115621/1?page=1&difficulty[]=0&category[]=Dynamic%20Programming&sortBy=submissions\n",
    "\n",
    "Stickler the thief wants to loot money from a society having\n",
    "n houses in a single line. He is a weird person and follows a\n",
    "certain rule when looting the houses. According to the rule, \n",
    "he will never loot two consecutive houses. At the same time, \n",
    "he wants to maximize the amount he loots. The thief knows which\n",
    "house has what amount of money but is unable to come up with an\n",
    "optimal looting strategy. He asks for your help to find the maximum\n",
    "money he can get if he strictly follows the rule. Each house has \n",
    "a[i]amount of money present in it.\n",
    "\n",
    "Example 1:\n",
    "\n",
    "Input:\n",
    "n = 6\n",
    "a[] = {5,5,10,100,10,5}\n",
    "Output: 110\n",
    "Explanation: 5+100+5=110\n",
    "Example 2:\n",
    "\n",
    "Input:\n",
    "n = 3\n",
    "a[] = {1,2,3}\n",
    "Output: 4\n",
    "Explanation: 1+3=4\n",
    "Your Task:\n",
    "Complete the functionFindMaxSum()which takes an array arr[] and\n",
    "n as input which returns the maximum money he can get following \n",
    "the rules\n",
    "\n",
    "Expected Time Complexity:O(N).\n",
    "Expected Space Complexity:O(N).\n",
    "\n",
    "\n",
    "'''"
   ]
  },
  {
   "cell_type": "code",
   "execution_count": null,
   "id": "9ba56c8b",
   "metadata": {},
   "outputs": [],
   "source": [
    "def FindMaxSum(self,arr, n):\n",
    "    dp=[-1]*(n)\n",
    "    dp[0]=arr[0]\n",
    "    if(n>1):\n",
    "        dp[1]=max(arr[0],arr[1])\n",
    "\n",
    "        for i in range(2,n):\n",
    "            take=arr[i]+dp[i-2]\n",
    "            notake=dp[i-1]\n",
    "\n",
    "            dp[i]=max(take,notake)\n",
    "    return dp[-1]"
   ]
  }
 ],
 "metadata": {
  "kernelspec": {
   "display_name": "Python 3 (ipykernel)",
   "language": "python",
   "name": "python3"
  },
  "language_info": {
   "codemirror_mode": {
    "name": "ipython",
    "version": 3
   },
   "file_extension": ".py",
   "mimetype": "text/x-python",
   "name": "python",
   "nbconvert_exporter": "python",
   "pygments_lexer": "ipython3",
   "version": "3.10.7"
  }
 },
 "nbformat": 4,
 "nbformat_minor": 5
}

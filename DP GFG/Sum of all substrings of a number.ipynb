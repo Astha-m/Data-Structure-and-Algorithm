{
 "cells": [
  {
   "cell_type": "code",
   "execution_count": 1,
   "id": "8e217097",
   "metadata": {},
   "outputs": [
    {
     "data": {
      "text/plain": [
       "'\\nhttps://practice.geeksforgeeks.org/problems/sum-of-all-substrings-of-a-number-1587115621/1?page=2&difficulty[]=0&category[]=Dynamic%20Programming&sortBy=submissions\\n\\n\\nGiven an integer S represented as a string,\\nthe task is to get the sum of all possible\\nsub-strings of this string.\\nAs the answer will be large, print it modulo 10^9+7.\\n\\nExample 1:\\n\\nInput:\\nS = 1234\\nOutput: 1670\\nExplanation: Sum = 1 + 2 + 3 + 4 + 12 +\\n23 + 34 + 123 + 234 + 1234 = 1670\\nExample 2:\\n\\nInput:\\nS = 421\\nOutput: 491\\nExplanation: Sum = 4 + 2 + 1 + 42 + 21\\nYour Task:\\nYou only need to complete the function\\nsumSubstrings that takes S as an argument\\nand returns the answer modulo 1000000007.\\n\\nExpected Time Complexity: O(N).\\nExpected Auxiliary Space: O(N).\\n\\nConstraints:\\n1 <= |S| <= 104\\n\\n\\n'"
      ]
     },
     "execution_count": 1,
     "metadata": {},
     "output_type": "execute_result"
    }
   ],
   "source": [
    "'''\n",
    "https://practice.geeksforgeeks.org/problems/sum-of-all-substrings-of-a-number-1587115621/1?page=2&difficulty[]=0&category[]=Dynamic%20Programming&sortBy=submissions\n",
    "\n",
    "\n",
    "Given an integer S represented as a string,\n",
    "the task is to get the sum of all possible\n",
    "sub-strings of this string.\n",
    "As the answer will be large, print it modulo 10^9+7.\n",
    "\n",
    "Example 1:\n",
    "\n",
    "Input:\n",
    "S = 1234\n",
    "Output: 1670\n",
    "Explanation: Sum = 1 + 2 + 3 + 4 + 12 +\n",
    "23 + 34 + 123 + 234 + 1234 = 1670\n",
    "Example 2:\n",
    "\n",
    "Input:\n",
    "S = 421\n",
    "Output: 491\n",
    "Explanation: Sum = 4 + 2 + 1 + 42 + 21\n",
    "Your Task:\n",
    "You only need to complete the function\n",
    "sumSubstrings that takes S as an argument\n",
    "and returns the answer modulo 1000000007.\n",
    "\n",
    "Expected Time Complexity: O(N).\n",
    "Expected Auxiliary Space: O(N).\n",
    "\n",
    "Constraints:\n",
    "1 <= |S| <= 104\n",
    "\n",
    "\n",
    "'''"
   ]
  },
  {
   "cell_type": "code",
   "execution_count": null,
   "id": "36458fe3",
   "metadata": {},
   "outputs": [],
   "source": [
    "def sumSubstrings(self,s):\n",
    "        \n",
    "        # code here\n",
    "        prev=int(s[0])\n",
    "        \n",
    "        mod=10**9+7\n",
    "        \n",
    "        res=prev\n",
    "        \n",
    "        for i in range(1,len(s)):\n",
    "            subres=((i+1)*int(s[i])+10*prev)\n",
    "            \n",
    "            res=(res+subres)%mod\n",
    "            \n",
    "            prev=subres\n",
    "        return res\n",
    "                "
   ]
  }
 ],
 "metadata": {
  "kernelspec": {
   "display_name": "Python 3 (ipykernel)",
   "language": "python",
   "name": "python3"
  },
  "language_info": {
   "codemirror_mode": {
    "name": "ipython",
    "version": 3
   },
   "file_extension": ".py",
   "mimetype": "text/x-python",
   "name": "python",
   "nbconvert_exporter": "python",
   "pygments_lexer": "ipython3",
   "version": "3.9.13"
  }
 },
 "nbformat": 4,
 "nbformat_minor": 5
}

{
 "cells": [
  {
   "cell_type": "code",
   "execution_count": 1,
   "id": "1d845979",
   "metadata": {},
   "outputs": [
    {
     "data": {
      "text/plain": [
       "'\\nhttps://practice.geeksforgeeks.org/problems/ways-to-tile-a-floor5836/1?utm_source=gfg&utm_medium=article&utm_campaign=bottom_sticky_on_article\\n\\n\\nGiven a floor of dimensions 2 x W and tiles\\nof dimensions 2 x 1, the task is to find the\\nnumber of ways the floor can be tiled. A tile\\ncan either be placed horizontally i.e as a \\n1 x 2 tile or vertically i.e as 2 x 1 tile. \\nPrint the answer modulo 109+7.\\n\\n \\n\\nExample 1:\\n\\nInput:\\nW = 3\\nOutput:\\n3\\nExplanation:\\nWe need 3 tiles to tile the board\\nof size  2 x 3. \\nWe can tile in following ways:\\n1) Place all 3 tiles vertically. \\n2) Place first tile vertically.\\nand remaining 2 tiles horizontally.\\n3) Place first 2 tiles horizontally\\nand remaining tiles vertically.\\nExample 2:\\n\\nInput:\\nW = 4\\nOutput:\\n5\\nExplanation:\\nFor a 2 x 4 board, there are 5 ways\\n1) All 4 vertical\\n2) All 4 horizontal\\n3) First 2 vertical, remaining\\n2 horizontal.\\n4) First 2 horizontal, remaining\\n2 vertical.\\n5) Corner 2 vertical, middle\\n2 horizontal.\\n'"
      ]
     },
     "execution_count": 1,
     "metadata": {},
     "output_type": "execute_result"
    }
   ],
   "source": [
    "'''\n",
    "https://practice.geeksforgeeks.org/problems/ways-to-tile-a-floor5836/1?utm_source=gfg&utm_medium=article&utm_campaign=bottom_sticky_on_article\n",
    "\n",
    "\n",
    "Given a floor of dimensions 2 x W and tiles\n",
    "of dimensions 2 x 1, the task is to find the\n",
    "number of ways the floor can be tiled. A tile\n",
    "can either be placed horizontally i.e as a \n",
    "1 x 2 tile or vertically i.e as 2 x 1 tile. \n",
    "Print the answer modulo 109+7.\n",
    "\n",
    " \n",
    "\n",
    "Example 1:\n",
    "\n",
    "Input:\n",
    "W = 3\n",
    "Output:\n",
    "3\n",
    "Explanation:\n",
    "We need 3 tiles to tile the board\n",
    "of size  2 x 3. \n",
    "We can tile in following ways:\n",
    "1) Place all 3 tiles vertically. \n",
    "2) Place first tile vertically.\n",
    "and remaining 2 tiles horizontally.\n",
    "3) Place first 2 tiles horizontally\n",
    "and remaining tiles vertically.\n",
    "Example 2:\n",
    "\n",
    "Input:\n",
    "W = 4\n",
    "Output:\n",
    "5\n",
    "Explanation:\n",
    "For a 2 x 4 board, there are 5 ways\n",
    "1) All 4 vertical\n",
    "2) All 4 horizontal\n",
    "3) First 2 vertical, remaining\n",
    "2 horizontal.\n",
    "4) First 2 horizontal, remaining\n",
    "2 vertical.\n",
    "5) Corner 2 vertical, middle\n",
    "2 horizontal.\n",
    "'''"
   ]
  },
  {
   "cell_type": "code",
   "execution_count": null,
   "id": "6fcf7548",
   "metadata": {},
   "outputs": [],
   "source": [
    "def numberOfWays(self, n):\n",
    "    # code here\n",
    "    if(n<=2):\n",
    "        return n\n",
    "    dp=[-1]*(n+1)\n",
    "    dp[0]=0\n",
    "    dp[1]=1\n",
    "    dp[2]=2\n",
    "\n",
    "    for i in range(3,n+1):\n",
    "        dp[i]=(dp[i-1]+dp[i-2])%(10**9+7)\n",
    "    return dp[n]"
   ]
  }
 ],
 "metadata": {
  "kernelspec": {
   "display_name": "Python 3 (ipykernel)",
   "language": "python",
   "name": "python3"
  },
  "language_info": {
   "codemirror_mode": {
    "name": "ipython",
    "version": 3
   },
   "file_extension": ".py",
   "mimetype": "text/x-python",
   "name": "python",
   "nbconvert_exporter": "python",
   "pygments_lexer": "ipython3",
   "version": "3.9.13"
  }
 },
 "nbformat": 4,
 "nbformat_minor": 5
}

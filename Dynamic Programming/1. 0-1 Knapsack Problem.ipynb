{
 "cells": [
  {
   "cell_type": "code",
   "execution_count": 1,
   "id": "365be791",
   "metadata": {},
   "outputs": [],
   "source": [
    "count=0\n",
    "def knapsack01(weight,value,capacity,n):\n",
    "    global count\n",
    "    count+=1\n",
    "    print(count)\n",
    "    if(capacity==0 or n==0):\n",
    "        return 0\n",
    "    if(weight[n-1]<=capacity):\n",
    "        return max(value[n-1]+knapsack01(weight,value,capacity-weight[n-1],n-1),\n",
    "                  knapsack01(weight,value,capacity,n-1))\n",
    "    else:\n",
    "        return knapsack01(weight,value,capacity,n-1)"
   ]
  },
  {
   "cell_type": "code",
   "execution_count": 2,
   "id": "4911fff3",
   "metadata": {},
   "outputs": [
    {
     "name": "stdout",
     "output_type": "stream",
     "text": [
      "1\n",
      "2\n",
      "3\n",
      "4\n",
      "5\n",
      "6\n",
      "7\n",
      "8\n",
      "9\n",
      "10\n",
      "11\n",
      "12\n",
      "13\n",
      "14\n",
      "15\n",
      "16\n",
      "17\n",
      "18\n",
      "19\n"
     ]
    },
    {
     "data": {
      "text/plain": [
       "9"
      ]
     },
     "execution_count": 2,
     "metadata": {},
     "output_type": "execute_result"
    }
   ],
   "source": [
    "weight=[1,3,4,5]\n",
    "value=[1,4,5,7]\n",
    "capacity=7\n",
    "knapsack01(weight,value,capacity,4)"
   ]
  },
  {
   "cell_type": "code",
   "execution_count": 3,
   "id": "ee7e87c1",
   "metadata": {},
   "outputs": [
    {
     "name": "stdout",
     "output_type": "stream",
     "text": [
      "\n",
      "1\n",
      "\n",
      "2\n",
      "\n",
      "3\n",
      "\n",
      "4\n",
      "\n",
      "5\n",
      "\n",
      "6\n",
      "[[-1, -1, -1, -1, -1, -1, -1, -1], [-1, -1, 1, -1, -1, -1, -1, -1], [-1, -1, -1, -1, -1, -1, -1, -1], [-1, -1, -1, -1, -1, -1, -1, -1], [-1, -1, -1, -1, -1, -1, -1, -1]]\n",
      "[[-1, -1, -1, -1, -1, -1, -1, -1], [-1, -1, 1, -1, -1, -1, -1, -1], [-1, -1, 1, -1, -1, -1, -1, -1], [-1, -1, -1, -1, -1, -1, -1, -1], [-1, -1, -1, -1, -1, -1, -1, -1]]\n",
      "[[-1, -1, -1, -1, -1, -1, -1, -1], [-1, -1, 1, -1, -1, -1, -1, -1], [-1, -1, 1, -1, -1, -1, -1, -1], [-1, -1, 1, -1, -1, -1, -1, -1], [-1, -1, -1, -1, -1, -1, -1, -1]]\n",
      "\n",
      "7\n",
      "\n",
      "8\n",
      "\n",
      "9\n",
      "\n",
      "10\n",
      "\n",
      "11\n",
      "\n",
      "12\n",
      "[[-1, -1, -1, -1, -1, -1, -1, -1], [-1, -1, 1, 1, -1, -1, -1, -1], [-1, -1, 1, -1, -1, -1, -1, -1], [-1, -1, 1, -1, -1, -1, -1, -1], [-1, -1, -1, -1, -1, -1, -1, -1]]\n",
      "[[-1, -1, -1, -1, -1, -1, -1, -1], [-1, -1, 1, 1, -1, -1, -1, -1], [-1, -1, 1, 4, -1, -1, -1, -1], [-1, -1, 1, -1, -1, -1, -1, -1], [-1, -1, -1, -1, -1, -1, -1, -1]]\n",
      "\n",
      "13\n",
      "\n",
      "14\n",
      "\n",
      "15\n",
      "\n",
      "16\n",
      "[[-1, -1, -1, -1, -1, -1, -1, -1], [-1, -1, 1, 1, 1, -1, -1, -1], [-1, -1, 1, 4, -1, -1, -1, -1], [-1, -1, 1, -1, -1, -1, -1, -1], [-1, -1, -1, -1, -1, -1, -1, -1]]\n",
      "\n",
      "17\n",
      "\n",
      "18\n",
      "\n",
      "19\n",
      "[[-1, -1, -1, -1, -1, -1, -1, -1], [-1, -1, 1, 1, 1, -1, -1, 1], [-1, -1, 1, 4, -1, -1, -1, -1], [-1, -1, 1, -1, -1, -1, -1, -1], [-1, -1, -1, -1, -1, -1, -1, -1]]\n",
      "[[-1, -1, -1, -1, -1, -1, -1, -1], [-1, -1, 1, 1, 1, -1, -1, 1], [-1, -1, 1, 4, -1, -1, -1, 5], [-1, -1, 1, -1, -1, -1, -1, -1], [-1, -1, -1, -1, -1, -1, -1, -1]]\n",
      "[[-1, -1, -1, -1, -1, -1, -1, -1], [-1, -1, 1, 1, 1, -1, -1, 1], [-1, -1, 1, 4, -1, -1, -1, 5], [-1, -1, 1, -1, -1, -1, -1, 9], [-1, -1, -1, -1, -1, -1, -1, -1]]\n",
      "[[-1, -1, -1, -1, -1, -1, -1, -1], [-1, -1, 1, 1, 1, -1, -1, 1], [-1, -1, 1, 4, -1, -1, -1, 5], [-1, -1, 1, -1, -1, -1, -1, 9], [-1, -1, -1, -1, -1, -1, -1, 9]]\n"
     ]
    },
    {
     "data": {
      "text/plain": [
       "9"
      ]
     },
     "execution_count": 3,
     "metadata": {},
     "output_type": "execute_result"
    }
   ],
   "source": [
    "# memoisation\n",
    "weight=[1,3,4,5]\n",
    "value=[1,4,5,7]\n",
    "cap=7\n",
    "n=4\n",
    "mat=[]\n",
    "for i in range(n+1):\n",
    "    ls=[-1]*(cap+1)\n",
    "    mat.append(ls)\n",
    "#print(mat)\n",
    "counter=0\n",
    "def knapsack_memo(wt,val,cap,n):\n",
    "    global mat,counter\n",
    "    \n",
    "    counter+=1\n",
    "    print()\n",
    "    print(counter)\n",
    "    if(cap==0 or n==0):\n",
    "        return 0\n",
    "    if(mat[n][cap]!=-1):\n",
    "        return mat[n][cap]\n",
    "    if(wt[n-1]<=cap):\n",
    "        mat[n][cap]=max(val[n-1]+knapsack_memo(wt,val,cap-wt[n-1],n-1),knapsack_memo(wt,val,cap,n-1))\n",
    "    else:\n",
    "        mat[n][cap]=knapsack_memo(wt,val,cap,n-1)\n",
    "    print(mat)\n",
    "    return mat[n][cap]\n",
    "knapsack_memo(weight,value,cap,n)"
   ]
  },
  {
   "cell_type": "code",
   "execution_count": 4,
   "id": "09a1566c",
   "metadata": {},
   "outputs": [
    {
     "data": {
      "text/plain": [
       "[[-1, -1, -1, -1, -1, -1, -1, -1],\n",
       " [-1, -1, 1, 1, 1, -1, -1, 1],\n",
       " [-1, -1, 1, 4, -1, -1, -1, 5],\n",
       " [-1, -1, 1, -1, -1, -1, -1, 9],\n",
       " [-1, -1, -1, -1, -1, -1, -1, 9]]"
      ]
     },
     "execution_count": 4,
     "metadata": {},
     "output_type": "execute_result"
    }
   ],
   "source": [
    "mat"
   ]
  },
  {
   "cell_type": "code",
   "execution_count": 4,
   "id": "972b2e56",
   "metadata": {},
   "outputs": [
    {
     "name": "stdout",
     "output_type": "stream",
     "text": [
      "[[-1, -1, -1, -1, -1, -1, -1, -1], [-1, -1, -1, -1, -1, -1, -1, -1], [-1, -1, -1, -1, -1, -1, -1, -1], [-1, -1, -1, -1, -1, -1, -1, -1], [-1, -1, -1, -1, -1, -1, -1, -1]]\n",
      "9\n"
     ]
    }
   ],
   "source": [
    "# top-down approach\n",
    "weight=[1,3,4,5]\n",
    "value=[1,4,5,7]\n",
    "cap=7\n",
    "n=4\n",
    "tab=[]\n",
    "for i in range(n+1):\n",
    "    ls=[-1]*(cap+1)\n",
    "    tab.append(ls)\n",
    "print(tab)\n",
    "\n",
    "#base case\n",
    "for i in range(n+1):\n",
    "    tab[i][0]=0\n",
    "for i in range(cap+1):\n",
    "    tab[0][i]=0\n",
    "    \n",
    "#choice case\n",
    "for i in range(1,n+1):\n",
    "    for j in range(1,cap+1):\n",
    "        if(weight[i-1]<=j):\n",
    "            tab[i][j]=max(value[i-1]+tab[i-1][j-weight[i-1]],tab[i-1][j])\n",
    "        else:\n",
    "            tab[i][j]=tab[i-1][j]\n",
    "print(tab[n][cap])"
   ]
  },
  {
   "cell_type": "code",
   "execution_count": 3,
   "id": "a1d29224",
   "metadata": {},
   "outputs": [
    {
     "data": {
      "text/plain": [
       "[[0, 0, 0, 0, 0, 0, 0, 0],\n",
       " [0, 1, 1, 1, 1, 1, 1, 1],\n",
       " [0, 1, 1, 4, 5, 5, 5, 5],\n",
       " [0, 1, 1, 4, 5, 6, 6, 9],\n",
       " [0, 1, 1, 4, 5, 7, 8, 9]]"
      ]
     },
     "execution_count": 3,
     "metadata": {},
     "output_type": "execute_result"
    }
   ],
   "source": [
    "tab"
   ]
  },
  {
   "cell_type": "code",
   "execution_count": null,
   "id": "fc54c248",
   "metadata": {},
   "outputs": [],
   "source": []
  }
 ],
 "metadata": {
  "kernelspec": {
   "display_name": "Python 3 (ipykernel)",
   "language": "python",
   "name": "python3"
  },
  "language_info": {
   "codemirror_mode": {
    "name": "ipython",
    "version": 3
   },
   "file_extension": ".py",
   "mimetype": "text/x-python",
   "name": "python",
   "nbconvert_exporter": "python",
   "pygments_lexer": "ipython3",
   "version": "3.9.8"
  }
 },
 "nbformat": 4,
 "nbformat_minor": 5
}

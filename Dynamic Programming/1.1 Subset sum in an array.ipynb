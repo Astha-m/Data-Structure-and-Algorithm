{
 "cells": [
  {
   "cell_type": "code",
   "execution_count": 1,
   "id": "9ef63f47",
   "metadata": {},
   "outputs": [],
   "source": [
    "def subset_sum(arr,n,su):\n",
    "    if(su==0):\n",
    "        return True\n",
    "    if(n==0):\n",
    "        return False\n",
    "    if(arr[n-1]<=su):\n",
    "        return (subset_sum(arr,n-1,su-arr[n-1]) or subset_sum(arr,n-1,su))\n",
    "    else:\n",
    "        return subset_sum(arr,n-1,su)"
   ]
  },
  {
   "cell_type": "code",
   "execution_count": 2,
   "id": "c083b220",
   "metadata": {},
   "outputs": [
    {
     "data": {
      "text/plain": [
       "True"
      ]
     },
     "execution_count": 2,
     "metadata": {},
     "output_type": "execute_result"
    }
   ],
   "source": [
    "arr=[2,3,7,8,10]\n",
    "n=len(arr)\n",
    "su=7\n",
    "subset_sum(arr,n,su)"
   ]
  },
  {
   "cell_type": "code",
   "execution_count": 3,
   "id": "702bd5cf",
   "metadata": {},
   "outputs": [
    {
     "name": "stdout",
     "output_type": "stream",
     "text": [
      "True\n"
     ]
    }
   ],
   "source": [
    "arr=[2,3,7,8,10]\n",
    "n=len(arr)\n",
    "su=9\n",
    "tab=[]\n",
    "for i in range(n+1):\n",
    "    ls=[-1]*(su+1)\n",
    "    tab.append(ls)\n",
    "\n",
    "    \n",
    "def subset_sum_memo(arr,n,su):\n",
    "    if(su==0):\n",
    "        return True\n",
    "    if(n==0):\n",
    "        return False\n",
    "    if(tab[n][su]!=-1):\n",
    "        return tab[n][su]\n",
    "    if(arr[n-1]<=su):\n",
    "        tab[n][su]=(subset_sum_memo(arr,n-1,su-arr[n-1]) or subset_sum_memo(arr,n-1,su))\n",
    "    else:\n",
    "        tab[n][su]=subset_sum_memo(arr,n-1,su)\n",
    "    return tab[n][su]\n",
    "print(subset_sum_memo(arr,n,su))"
   ]
  },
  {
   "cell_type": "code",
   "execution_count": 4,
   "id": "8cc9b4fa",
   "metadata": {},
   "outputs": [
    {
     "data": {
      "text/plain": [
       "[[-1, -1, -1, -1, -1, -1, -1, -1, -1, -1],\n",
       " [-1, False, True, -1, -1, -1, -1, -1, -1, -1],\n",
       " [-1, False, True, -1, -1, -1, -1, -1, -1, -1],\n",
       " [-1, False, -1, -1, -1, -1, -1, -1, -1, True],\n",
       " [-1, -1, -1, -1, -1, -1, -1, -1, -1, True],\n",
       " [-1, -1, -1, -1, -1, -1, -1, -1, -1, True]]"
      ]
     },
     "execution_count": 4,
     "metadata": {},
     "output_type": "execute_result"
    }
   ],
   "source": [
    "tab"
   ]
  },
  {
   "cell_type": "code",
   "execution_count": 6,
   "id": "37259b41",
   "metadata": {},
   "outputs": [
    {
     "name": "stdout",
     "output_type": "stream",
     "text": [
      "True\n",
      "[[True, False, False, False, False, False, False, False, False, False], [True, False, True, False, False, False, False, False, False, False], [True, False, True, True, False, True, False, False, False, False], [True, False, True, True, False, True, False, True, False, True], [True, False, True, True, False, True, False, True, True, True], [True, False, True, True, False, True, False, True, True, True]]\n"
     ]
    }
   ],
   "source": [
    "arr=[2,3,7,8,10]\n",
    "n=len(arr)\n",
    "su=9\n",
    "tab=[]\n",
    "for i in range(n+1):\n",
    "    ls=[-1]*(su+1)\n",
    "    tab.append(ls)\n",
    "\n",
    "#base case\n",
    "for i in range(su+1):\n",
    "    tab[0][i]=False\n",
    "for i in range(n+1):\n",
    "    tab[i][0]=True\n",
    "\n",
    "\n",
    "for i in range(1,n+1):\n",
    "    for j in range(1,su+1):\n",
    "        if(arr[i-1]<=j):\n",
    "            tab[i][j]=tab[i-1][j-arr[i-1]] or tab[i-1][j]\n",
    "        else:\n",
    "            tab[i][j]=tab[i-1][j]\n",
    "print(tab[n][su])\n",
    "print(tab)"
   ]
  },
  {
   "cell_type": "code",
   "execution_count": null,
   "id": "56cbe2cc",
   "metadata": {},
   "outputs": [],
   "source": []
  }
 ],
 "metadata": {
  "kernelspec": {
   "display_name": "Python 3 (ipykernel)",
   "language": "python",
   "name": "python3"
  },
  "language_info": {
   "codemirror_mode": {
    "name": "ipython",
    "version": 3
   },
   "file_extension": ".py",
   "mimetype": "text/x-python",
   "name": "python",
   "nbconvert_exporter": "python",
   "pygments_lexer": "ipython3",
   "version": "3.9.8"
  }
 },
 "nbformat": 4,
 "nbformat_minor": 5
}

{
 "cells": [
  {
   "cell_type": "code",
   "execution_count": 1,
   "id": "44c0a9fc",
   "metadata": {},
   "outputs": [],
   "source": [
    "# recursion\n",
    "def subset_sum(arr,n,su):\n",
    "    if(su==0):\n",
    "        return True\n",
    "    if(n==0):\n",
    "        return False\n",
    "    if(arr[n-1]<=su):\n",
    "        return subset_sum(arr,n-1,su-arr[n-1]) or subset_sum(arr,n-1,su)\n",
    "    else:\n",
    "        return subset_sum(arr,n-1,su)\n",
    "\n",
    "\n",
    "def equal_sum_partition(arr):\n",
    "    \n",
    "    n=len(arr)\n",
    "    su=sum(arr)\n",
    "    if(su%2!=0):\n",
    "        return False\n",
    "    else:\n",
    "        return subset_sum(arr,n,su//2)\n",
    "\n"
   ]
  },
  {
   "cell_type": "code",
   "execution_count": 3,
   "id": "72928e77",
   "metadata": {},
   "outputs": [
    {
     "data": {
      "text/plain": [
       "False"
      ]
     },
     "execution_count": 3,
     "metadata": {},
     "output_type": "execute_result"
    }
   ],
   "source": [
    "arr=[3,5,11,7]\n",
    "equal_sum_partition(arr)"
   ]
  },
  {
   "cell_type": "code",
   "execution_count": null,
   "id": "6613161d",
   "metadata": {},
   "outputs": [],
   "source": [
    "# memoisation\n",
    "arr=[3,5,11,7]\n",
    "n=len(arr)\n",
    "su=sum(arr)\n",
    "tab=[]\n",
    "for i in range(n+1):\n",
    "    ls=[-1]*(su//2+1)\n",
    "    tab.append(ls)\n",
    "\n",
    "    \n",
    "    \n",
    "def subset_sum_memo(arr,n,su):\n",
    "    global tab\n",
    "    if(su==0):\n",
    "        return True\n",
    "    if(n==0):\n",
    "        return False\n",
    "    if(tab[n][su]!=-1):\n",
    "        return tab[n][su]\n",
    "    \n",
    "    if(arr[n-1]<=su):\n",
    "        tab[n][su]=subset_sum_memo(arr,n-1,su-arr[n-1]) or subset_sum_memo(arr,n-1,su)\n",
    "    else:\n",
    "        tab[n][su]=subset_sum_memo(arr,n-1,su)\n",
    "    return tab[n][su]\n",
    "\n",
    "\n",
    "def equal_sum_partition2(arr):\n",
    "    n=len(arr)\n",
    "    su=sum(arr)\n",
    "    if(su%2!=0):\n",
    "        return False\n",
    "    else:\n",
    "        return subset_sum_memo(arr,n,su//2)\n",
    "    \n",
    "equal_sum_partition2(arr)"
   ]
  },
  {
   "cell_type": "code",
   "execution_count": null,
   "id": "8f02bb83",
   "metadata": {},
   "outputs": [],
   "source": [
    "# top-down approach\n",
    "\n",
    "arr=[1,5,11,5]\n",
    "\n",
    "\n",
    "def subset_sum_topdown(arr,n,su):\n",
    "    tab=[]\n",
    "    for i in range(n+1):\n",
    "        ls=[-1]*(su+1)\n",
    "        tab.append(ls)\n",
    "    for i in range(su+1):\n",
    "        tab[0][i]=False\n",
    "        \n",
    "    for i in range(n+1):\n",
    "        tab[i][0]=True\n",
    "        \n",
    "    for i in range(1,n+1):\n",
    "        for j in range(1,su+1):\n",
    "            if(arr[i-1]<=j):\n",
    "                tab[i][j]=tab[i-1][j-arr[i-1]] or tab[i-1][j]\n",
    "            else:\n",
    "                tab[i][j]=tab[i-1][j]\n",
    "    return tab[n][su]\n",
    "\n",
    "\n",
    "def equal_sum_partition_top_down(arr):\n",
    "    \n",
    "    n=len(arr)\n",
    "    su=sum(arr)\n",
    "    if(su%2!=0):\n",
    "        return False\n",
    "    else:\n",
    "        return subset_sum_topdown(arr,n,su//2)\n",
    "\n",
    "\n",
    "equal_sum_partition_top_down(arr)"
   ]
  },
  {
   "cell_type": "code",
   "execution_count": null,
   "id": "148562e0",
   "metadata": {},
   "outputs": [],
   "source": []
  }
 ],
 "metadata": {
  "kernelspec": {
   "display_name": "Python 3 (ipykernel)",
   "language": "python",
   "name": "python3"
  },
  "language_info": {
   "codemirror_mode": {
    "name": "ipython",
    "version": 3
   },
   "file_extension": ".py",
   "mimetype": "text/x-python",
   "name": "python",
   "nbconvert_exporter": "python",
   "pygments_lexer": "ipython3",
   "version": "3.9.8"
  }
 },
 "nbformat": 4,
 "nbformat_minor": 5
}

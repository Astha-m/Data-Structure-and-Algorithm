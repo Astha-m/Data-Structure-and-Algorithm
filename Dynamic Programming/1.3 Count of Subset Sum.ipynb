{
 "cells": [
  {
   "cell_type": "code",
   "execution_count": 1,
   "id": "d0f8c8ce",
   "metadata": {},
   "outputs": [
    {
     "data": {
      "text/plain": [
       "3"
      ]
     },
     "execution_count": 1,
     "metadata": {},
     "output_type": "execute_result"
    }
   ],
   "source": [
    "# recursion\n",
    "arr=[2,3,5,6,8,10]\n",
    "su=10\n",
    "def count_of_subset_sum(arr,su,n):\n",
    "    if(su==0):\n",
    "        return 1\n",
    "    \n",
    "    if(n==0):\n",
    "        return 0\n",
    "    if(arr[n-1]<=su):\n",
    "        return count_of_subset_sum(arr,su-arr[n-1],n-1)+count_of_subset_sum(arr,su,n-1)\n",
    "    else:\n",
    "        return count_of_subset_sum(arr,su,n-1)\n",
    "    \n",
    "count_of_subset_sum(arr,su,len(arr))"
   ]
  },
  {
   "cell_type": "code",
   "execution_count": 7,
   "id": "ec98bb97",
   "metadata": {},
   "outputs": [
    {
     "data": {
      "text/plain": [
       "3"
      ]
     },
     "execution_count": 7,
     "metadata": {},
     "output_type": "execute_result"
    }
   ],
   "source": [
    "# memoisation\n",
    "arr=[2,3,5,6,8,10]\n",
    "su=10\n",
    "n=len(arr)\n",
    "tab=[]\n",
    "for i in range(n+1):\n",
    "    ls=[-1]*(su+1)\n",
    "    tab.append(ls)\n",
    "\n",
    "def count_subset_sum_memo(arr,n,su):\n",
    "    global tab\n",
    "    if(su==0):\n",
    "        return 1\n",
    "    if(n==0):\n",
    "        return 0\n",
    "    \n",
    "    \n",
    "    if(tab[n][su]!=-1):\n",
    "        return tab[n][su]\n",
    "    \n",
    "    if(arr[n-1]<=su):\n",
    "        tab[n][su]=count_subset_sum_memo(arr,n-1,su-arr[n-1])+count_subset_sum_memo(arr,n-1,su)\n",
    "    else:\n",
    "        tab[n][su]=count_subset_sum_memo(arr,n-1,su)\n",
    "    return tab[n][su]\n",
    "count_subset_sum_memo(arr,n,su)"
   ]
  },
  {
   "cell_type": "code",
   "execution_count": 8,
   "id": "2fd82d0a",
   "metadata": {},
   "outputs": [
    {
     "data": {
      "text/plain": [
       "[[-1, -1, -1, -1, -1, -1, -1, -1, -1, -1, -1],\n",
       " [-1, 0, 1, -1, 0, 0, -1, 0, -1, -1, 0],\n",
       " [-1, -1, 1, -1, 0, 1, -1, -1, -1, -1, 0],\n",
       " [-1, -1, 1, -1, 0, -1, -1, -1, -1, -1, 1],\n",
       " [-1, -1, 1, -1, -1, -1, -1, -1, -1, -1, 1],\n",
       " [-1, -1, -1, -1, -1, -1, -1, -1, -1, -1, 2],\n",
       " [-1, -1, -1, -1, -1, -1, -1, -1, -1, -1, 3]]"
      ]
     },
     "execution_count": 8,
     "metadata": {},
     "output_type": "execute_result"
    }
   ],
   "source": [
    "tab"
   ]
  },
  {
   "cell_type": "code",
   "execution_count": 9,
   "id": "69473947",
   "metadata": {},
   "outputs": [
    {
     "name": "stdout",
     "output_type": "stream",
     "text": [
      "3\n"
     ]
    }
   ],
   "source": [
    "# top-down approach\n",
    "arr=[2,3,5,6,8,10]\n",
    "su=10\n",
    "n=len(arr)\n",
    "tab=[]\n",
    "for i in range(n+1):\n",
    "    ls=[-1]*(su+1)\n",
    "    tab.append(ls)\n",
    "\n",
    "for i in range(su+1):\n",
    "    tab[0][i]=0\n",
    "    \n",
    "for i in range(n+1):\n",
    "    tab[i][0]=1\n",
    "\n",
    "for i in range(1,n+1):\n",
    "    for j in range(1,su+1):\n",
    "        if(arr[i-1]<=j):\n",
    "            tab[i][j]=tab[i-1][j-arr[i-1]]+tab[i-1][j]\n",
    "        else:\n",
    "            tab[i][j]=tab[i-1][j]\n",
    "print(tab[n][su])"
   ]
  },
  {
   "cell_type": "code",
   "execution_count": 10,
   "id": "330b3c6d",
   "metadata": {},
   "outputs": [
    {
     "data": {
      "text/plain": [
       "[[1, 0, 0, 0, 0, 0, 0, 0, 0, 0, 0],\n",
       " [1, 0, 1, 0, 0, 0, 0, 0, 0, 0, 0],\n",
       " [1, 0, 1, 1, 0, 1, 0, 0, 0, 0, 0],\n",
       " [1, 0, 1, 1, 0, 2, 0, 1, 1, 0, 1],\n",
       " [1, 0, 1, 1, 0, 2, 1, 1, 2, 1, 1],\n",
       " [1, 0, 1, 1, 0, 2, 1, 1, 3, 1, 2],\n",
       " [1, 0, 1, 1, 0, 2, 1, 1, 3, 1, 3]]"
      ]
     },
     "execution_count": 10,
     "metadata": {},
     "output_type": "execute_result"
    }
   ],
   "source": [
    "tab"
   ]
  },
  {
   "cell_type": "code",
   "execution_count": null,
   "id": "8041a766",
   "metadata": {},
   "outputs": [],
   "source": []
  }
 ],
 "metadata": {
  "kernelspec": {
   "display_name": "Python 3 (ipykernel)",
   "language": "python",
   "name": "python3"
  },
  "language_info": {
   "codemirror_mode": {
    "name": "ipython",
    "version": 3
   },
   "file_extension": ".py",
   "mimetype": "text/x-python",
   "name": "python",
   "nbconvert_exporter": "python",
   "pygments_lexer": "ipython3",
   "version": "3.9.8"
  }
 },
 "nbformat": 4,
 "nbformat_minor": 5
}

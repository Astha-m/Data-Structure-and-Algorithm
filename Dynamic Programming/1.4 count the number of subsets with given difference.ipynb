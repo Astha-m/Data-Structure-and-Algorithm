{
 "cells": [
  {
   "cell_type": "code",
   "execution_count": 2,
   "id": "efb9d281",
   "metadata": {},
   "outputs": [
    {
     "data": {
      "text/plain": [
       "3"
      ]
     },
     "execution_count": 2,
     "metadata": {},
     "output_type": "execute_result"
    }
   ],
   "source": [
    "# memosation \n",
    "arr=[1,1,2,3]\n",
    "n=len(arr)\n",
    "diff=1\n",
    "su=sum(arr)\n",
    "s1=(su+diff)//2\n",
    "tab=[]\n",
    "for i in range(n+1):\n",
    "    ls=[-1]*(s1+1)\n",
    "    tab.append(ls)\n",
    "\n",
    "def subset_sum_memo(arr,n,su):\n",
    "    global tab\n",
    "    if(su==0):\n",
    "        return 1\n",
    "    if(n==0):\n",
    "        return 0\n",
    "    if(tab[n][su]!=-1):\n",
    "        return tab[n][su]\n",
    "    if(arr[n-1]<=su):\n",
    "        tab[n][su]=subset_sum_memo(arr,n-1,su-arr[n-1]) + subset_sum_memo(arr,n-1,su)\n",
    "    else:\n",
    "        tab[n][su]=subset_sum_memo(arr,n-1,su)\n",
    "    return tab[n][su]\n",
    "subset_sum_memo(arr,n,s1)"
   ]
  },
  {
   "cell_type": "code",
   "execution_count": 3,
   "id": "577c7ba2",
   "metadata": {},
   "outputs": [
    {
     "name": "stdout",
     "output_type": "stream",
     "text": [
      "3\n"
     ]
    }
   ],
   "source": [
    "# top-down\n",
    "arr=[1,1,2,3]\n",
    "n=len(arr)\n",
    "diff=1\n",
    "su=sum(arr)\n",
    "s1=(diff+su)//2\n",
    "tab=[]\n",
    "for i in range(n+1):\n",
    "    ls=[-1]*(s1+1)\n",
    "    tab.append(ls)\n",
    "\n",
    "for i in range(s1+1):\n",
    "    tab[0][i]=0\n",
    "    \n",
    "for i in range(n+1):\n",
    "    tab[i][0]=1\n",
    "    \n",
    "for i in range(1,n+1):\n",
    "    for j in range(1,s1+1):\n",
    "        if(arr[i-1]<=j):\n",
    "            tab[i][j]=tab[i-1][j-arr[i-1]]+tab[i-1][j]\n",
    "        else:\n",
    "            tab[i][j]=tab[i-1][j]\n",
    "print(tab[n][s1])"
   ]
  },
  {
   "cell_type": "code",
   "execution_count": 4,
   "id": "006bd685",
   "metadata": {},
   "outputs": [
    {
     "data": {
      "text/plain": [
       "[[1, 0, 0, 0, 0],\n",
       " [1, 1, 0, 0, 0],\n",
       " [1, 2, 1, 0, 0],\n",
       " [1, 2, 2, 2, 1],\n",
       " [1, 2, 2, 3, 3]]"
      ]
     },
     "execution_count": 4,
     "metadata": {},
     "output_type": "execute_result"
    }
   ],
   "source": [
    "tab"
   ]
  },
  {
   "cell_type": "code",
   "execution_count": null,
   "id": "9cdc9abd",
   "metadata": {},
   "outputs": [],
   "source": []
  }
 ],
 "metadata": {
  "kernelspec": {
   "display_name": "Python 3 (ipykernel)",
   "language": "python",
   "name": "python3"
  },
  "language_info": {
   "codemirror_mode": {
    "name": "ipython",
    "version": 3
   },
   "file_extension": ".py",
   "mimetype": "text/x-python",
   "name": "python",
   "nbconvert_exporter": "python",
   "pygments_lexer": "ipython3",
   "version": "3.9.8"
  }
 },
 "nbformat": 4,
 "nbformat_minor": 5
}

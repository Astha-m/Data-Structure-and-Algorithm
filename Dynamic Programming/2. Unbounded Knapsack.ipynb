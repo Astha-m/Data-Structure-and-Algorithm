{
 "cells": [
  {
   "cell_type": "code",
   "execution_count": 4,
   "id": "b32f3418",
   "metadata": {},
   "outputs": [],
   "source": [
    "#recursion\n",
    "def unbounded_knapsack(wt,val,n,cap):\n",
    "    if(n==0 or cap==0):\n",
    "        return 0\n",
    "    if(wt[n-1]<=cap):\n",
    "        return max(val[n-1]+unbounded_knapsack(wt,val,n,cap-wt[n-1]),\n",
    "                   unbounded_knapsack(wt,val,n-1,cap))\n",
    "    else:\n",
    "        return unbounded_knapsack(wt,val,n-1,cap)"
   ]
  },
  {
   "cell_type": "code",
   "execution_count": 5,
   "id": "841ac7e0",
   "metadata": {},
   "outputs": [
    {
     "data": {
      "text/plain": [
       "50"
      ]
     },
     "execution_count": 5,
     "metadata": {},
     "output_type": "execute_result"
    }
   ],
   "source": [
    "wt=[2,3,4,5,6]\n",
    "cap=10\n",
    "val=[10,2,2,2,2]\n",
    "n=len(wt)\n",
    "unbounded_knapsack(wt,val,n,cap)"
   ]
  },
  {
   "cell_type": "code",
   "execution_count": 11,
   "id": "3f947649",
   "metadata": {},
   "outputs": [],
   "source": [
    "#memoisation\n",
    "tab=[]\n",
    "wt=[2,3,4,5,6]\n",
    "cap=10\n",
    "val=[10,2,2,2,2]\n",
    "n=len(wt)\n",
    "for i in range(n+1):\n",
    "    ls=[-1]*(cap+1)\n",
    "    tab.append(ls)\n",
    "\n",
    "def unbounded_knap_memo(wt,val,n,cap):\n",
    "    if(n==0 or cap==0):\n",
    "        return 0\n",
    "    if(tab[n][cap]!=-1):\n",
    "        return tab[n][cap]\n",
    "    if(wt[n-1]<=cap):\n",
    "        tab[n][cap]=max(val[n-1]+unbounded_knap_memo(wt,val,n,cap-wt[n-1]),\n",
    "                  unbounded_knap_memo(wt,val,n-1,cap))\n",
    "    else:\n",
    "        tab[n][cap]=unbounded_knap_memo(wt,val,n-1,cap)\n",
    "    return tab[n][cap]"
   ]
  },
  {
   "cell_type": "code",
   "execution_count": 12,
   "id": "6d8bdd54",
   "metadata": {},
   "outputs": [
    {
     "data": {
      "text/plain": [
       "50"
      ]
     },
     "execution_count": 12,
     "metadata": {},
     "output_type": "execute_result"
    }
   ],
   "source": [
    "unbounded_knap_memo(wt,val,n,cap)"
   ]
  },
  {
   "cell_type": "code",
   "execution_count": 13,
   "id": "38da0095",
   "metadata": {},
   "outputs": [
    {
     "data": {
      "text/plain": [
       "[[-1, -1, -1, -1, -1, -1, -1, -1, -1, -1, -1],\n",
       " [-1, 0, 10, 10, 20, 20, 30, 30, 40, -1, 50],\n",
       " [-1, 0, 10, 10, 20, 20, 30, 30, -1, -1, 50],\n",
       " [-1, 0, 10, -1, 20, 20, 30, -1, -1, -1, 50],\n",
       " [-1, -1, -1, -1, 20, 20, -1, -1, -1, -1, 50],\n",
       " [-1, -1, -1, -1, 20, -1, -1, -1, -1, -1, 50]]"
      ]
     },
     "execution_count": 13,
     "metadata": {},
     "output_type": "execute_result"
    }
   ],
   "source": [
    "tab"
   ]
  },
  {
   "cell_type": "code",
   "execution_count": 17,
   "id": "bc16b434",
   "metadata": {},
   "outputs": [
    {
     "name": "stdout",
     "output_type": "stream",
     "text": [
      "50\n"
     ]
    }
   ],
   "source": [
    "# top-down\n",
    "tab=[]\n",
    "wt=[2,3,4,5,6]\n",
    "cap=10\n",
    "val=[10,2,2,2,2]\n",
    "n=len(wt)\n",
    "for i in range(n+1):\n",
    "    ls=[-1]*(cap+1)\n",
    "    tab.append(ls)\n",
    "\n",
    "for i in range(n+1):\n",
    "    tab[i][0]=0\n",
    "for i in range(cap+1):\n",
    "    tab[0][i]=0\n",
    "\n",
    "for i in range(1,n+1):\n",
    "    for j in range(1,cap+1):\n",
    "        if(wt[i-1]<=j):\n",
    "            tab[i][j]=max(val[i-1]+tab[i][j-wt[i-1]],tab[i-1][j])\n",
    "        else:\n",
    "            tab[i][j]=tab[i-1][j]\n",
    "print(tab[n][cap])"
   ]
  },
  {
   "cell_type": "code",
   "execution_count": null,
   "id": "97bc12ca",
   "metadata": {},
   "outputs": [],
   "source": []
  }
 ],
 "metadata": {
  "kernelspec": {
   "display_name": "Python 3 (ipykernel)",
   "language": "python",
   "name": "python3"
  },
  "language_info": {
   "codemirror_mode": {
    "name": "ipython",
    "version": 3
   },
   "file_extension": ".py",
   "mimetype": "text/x-python",
   "name": "python",
   "nbconvert_exporter": "python",
   "pygments_lexer": "ipython3",
   "version": "3.9.8"
  }
 },
 "nbformat": 4,
 "nbformat_minor": 5
}

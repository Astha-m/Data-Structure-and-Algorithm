{
 "cells": [
  {
   "cell_type": "code",
   "execution_count": 1,
   "id": "a0b8f444",
   "metadata": {},
   "outputs": [
    {
     "data": {
      "text/plain": [
       "22"
      ]
     },
     "execution_count": 1,
     "metadata": {},
     "output_type": "execute_result"
    }
   ],
   "source": [
    "# recursion\n",
    "length=8\n",
    "larr=[1,2,3,4,5,6,7,8]\n",
    "price=[1,5,8,9,10,17,17,20]\n",
    "n=len(larr)\n",
    "def rod_cutting_problem(larr,price,n,length):\n",
    "    if(n==0 or length==0):\n",
    "        return 0\n",
    "    if(larr[n-1]<=length):\n",
    "        return max(price[n-1]+rod_cutting_problem(larr,price,n,length-larr[n-1]),\n",
    "                  rod_cutting_problem(larr,price,n-1,length))\n",
    "    else:\n",
    "        return rod_cutting_problem(larr,price,n-1,length)\n",
    "rod_cutting_problem(larr,price,n,length)"
   ]
  },
  {
   "cell_type": "code",
   "execution_count": 2,
   "id": "6d2906f8",
   "metadata": {},
   "outputs": [],
   "source": [
    "length=8\n",
    "larr=[1,2,3,4,5,6,7,8]\n",
    "price=[1,5,8,9,10,17,17,20]\n",
    "n=len(larr)\n",
    "\n",
    "tab=[]\n",
    "for i in range(n+1):\n",
    "    ls=[-1]*(length+1)\n",
    "    tab.append(ls)\n",
    "\n",
    "def rod_cutting_pblm_memo(larr,price,n,length):\n",
    "    if(n==0 or length==0):\n",
    "        return 0\n",
    "    if(tab[n][length]!=-1):\n",
    "        return tab[n][length]\n",
    "    if(larr[n-1]<=length):\n",
    "        tab[n][length]=max(price[n-1]+rod_cutting_pblm_memo(larr,price,n,length-larr[n-1]),\n",
    "                           rod_cutting_pblm_memo(larr,price,n-1,length))\n",
    "    else:\n",
    "        tab[n][length]=rod_cutting_pblm_memo(larr,price,n-1,length)\n",
    "    return tab[n][length]"
   ]
  },
  {
   "cell_type": "code",
   "execution_count": 3,
   "id": "5175c69e",
   "metadata": {},
   "outputs": [
    {
     "data": {
      "text/plain": [
       "22"
      ]
     },
     "execution_count": 3,
     "metadata": {},
     "output_type": "execute_result"
    }
   ],
   "source": [
    "rod_cutting_pblm_memo(larr,price,n,length)"
   ]
  },
  {
   "cell_type": "code",
   "execution_count": 8,
   "id": "8795b252",
   "metadata": {},
   "outputs": [
    {
     "name": "stdout",
     "output_type": "stream",
     "text": [
      "22\n"
     ]
    }
   ],
   "source": [
    "# top-down\n",
    "\n",
    "length=8\n",
    "larr=[1,2,3,4,5,6,7,8]\n",
    "price=[1,5,8,9,10,17,17,20]\n",
    "n=len(larr)\n",
    "\n",
    "tab=[]\n",
    "for i in range(n+1):\n",
    "    ls=[-1]*(length+1)\n",
    "    tab.append(ls)\n",
    "    \n",
    "for i in range(n+1):\n",
    "    tab[i][0]=0\n",
    "for i in range(length):\n",
    "    tab[0][i]=0\n",
    "    \n",
    "for i in range(1,n+1):\n",
    "    for j in range(1,length+1):\n",
    "        if(larr[i-1]<=j):\n",
    "            tab[i][j]=max(price[i-1]+tab[i][j-larr[i-1]],\n",
    "                         tab[i-1][j])\n",
    "        else:\n",
    "            tab[i][j]=tab[i-1][j]\n",
    "print(tab[n][length])"
   ]
  },
  {
   "cell_type": "code",
   "execution_count": 9,
   "id": "5e716acd",
   "metadata": {},
   "outputs": [
    {
     "data": {
      "text/plain": [
       "[[0, 0, 0, 0, 0, 0, 0, 0, -1],\n",
       " [0, 1, 2, 3, 4, 5, 6, 7, 8],\n",
       " [0, 1, 5, 6, 10, 11, 15, 16, 20],\n",
       " [0, 1, 5, 8, 10, 13, 16, 18, 21],\n",
       " [0, 1, 5, 8, 10, 13, 16, 18, 21],\n",
       " [0, 1, 5, 8, 10, 13, 16, 18, 21],\n",
       " [0, 1, 5, 8, 10, 13, 17, 18, 22],\n",
       " [0, 1, 5, 8, 10, 13, 17, 18, 22],\n",
       " [0, 1, 5, 8, 10, 13, 17, 18, 22]]"
      ]
     },
     "execution_count": 9,
     "metadata": {},
     "output_type": "execute_result"
    }
   ],
   "source": [
    "tab"
   ]
  },
  {
   "cell_type": "code",
   "execution_count": null,
   "id": "c7c50571",
   "metadata": {},
   "outputs": [],
   "source": []
  }
 ],
 "metadata": {
  "kernelspec": {
   "display_name": "Python 3 (ipykernel)",
   "language": "python",
   "name": "python3"
  },
  "language_info": {
   "codemirror_mode": {
    "name": "ipython",
    "version": 3
   },
   "file_extension": ".py",
   "mimetype": "text/x-python",
   "name": "python",
   "nbconvert_exporter": "python",
   "pygments_lexer": "ipython3",
   "version": "3.9.8"
  }
 },
 "nbformat": 4,
 "nbformat_minor": 5
}

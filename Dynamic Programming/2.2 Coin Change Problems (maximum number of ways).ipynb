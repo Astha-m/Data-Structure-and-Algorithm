{
 "cells": [
  {
   "cell_type": "code",
   "execution_count": 3,
   "id": "270eabd2",
   "metadata": {},
   "outputs": [],
   "source": [
    "coins=[1,2,3]\n",
    "value=5\n",
    "n=len(coins)\n",
    "def coin_change(coins,n,value):\n",
    "    if(value==0):\n",
    "        return 1\n",
    "    if(n==0):\n",
    "        return 0\n",
    "    if(coins[n-1]<=value):\n",
    "        return coin_change(coins,n,value-coins[n-1])+coin_change(coins,n-1,value)\n",
    "    else:\n",
    "        return coin_change(coins,n-1,value)"
   ]
  },
  {
   "cell_type": "code",
   "execution_count": 4,
   "id": "4859b39e",
   "metadata": {},
   "outputs": [
    {
     "data": {
      "text/plain": [
       "5"
      ]
     },
     "execution_count": 4,
     "metadata": {},
     "output_type": "execute_result"
    }
   ],
   "source": [
    "coin_change(coins,n,value)"
   ]
  },
  {
   "cell_type": "code",
   "execution_count": 6,
   "id": "f8b28caf",
   "metadata": {},
   "outputs": [
    {
     "data": {
      "text/plain": [
       "5"
      ]
     },
     "execution_count": 6,
     "metadata": {},
     "output_type": "execute_result"
    }
   ],
   "source": [
    "coins=[1,2,3]\n",
    "value=5\n",
    "n=len(coins)\n",
    "tab=[]\n",
    "for i in range(n+1):\n",
    "    ls=[-1]*(value+1)\n",
    "    tab.append(ls)\n",
    "\n",
    "def coin_change_memo(coins,n,value):\n",
    "    if(value==0):\n",
    "        return 1\n",
    "    if(n==0):\n",
    "        return 0\n",
    "    if(tab[n][value]!=-1):\n",
    "        return tab[n][value]\n",
    "    if(coins[n-1]<=value):\n",
    "        tab[n][value]=coin_change_memo(coins,n,value-coins[n-1])+coin_change_memo(coins,n-1,value)\n",
    "    else:\n",
    "        tab[n][value]=coin_change_memo(coins,n-1,value)\n",
    "    return tab[n][value]\n",
    "\n",
    "coin_change_memo(coins,n,value)"
   ]
  },
  {
   "cell_type": "code",
   "execution_count": 7,
   "id": "3bf91c4c",
   "metadata": {},
   "outputs": [
    {
     "name": "stdout",
     "output_type": "stream",
     "text": [
      "5\n"
     ]
    }
   ],
   "source": [
    "coins=[1,2,3]\n",
    "value=5\n",
    "n=len(coins)\n",
    "tab=[]\n",
    "for i in range(n+1):\n",
    "    ls=[-1]*(value+1)\n",
    "    tab.append(ls)\n",
    "\n",
    "for i in range(value+1):\n",
    "    tab[0][i]=0\n",
    "\n",
    "for i in range(n+1):\n",
    "    tab[i][0]=1\n",
    "\n",
    "for i in range(1,n+1):\n",
    "    for j in range(1,value+1):\n",
    "        if(coins[i-1]<=j):\n",
    "            tab[i][j]=tab[i][j-coins[i-1]]+tab[i-1][j]\n",
    "        else:\n",
    "            tab[i][j]=tab[i-1][j]\n",
    "print(tab[n][value])"
   ]
  },
  {
   "cell_type": "code",
   "execution_count": 8,
   "id": "d01e6da5",
   "metadata": {},
   "outputs": [
    {
     "data": {
      "text/plain": [
       "[[1, 0, 0, 0, 0, 0],\n",
       " [1, 1, 1, 1, 1, 1],\n",
       " [1, 1, 2, 2, 3, 3],\n",
       " [1, 1, 2, 3, 4, 5]]"
      ]
     },
     "execution_count": 8,
     "metadata": {},
     "output_type": "execute_result"
    }
   ],
   "source": [
    "tab"
   ]
  },
  {
   "cell_type": "code",
   "execution_count": null,
   "id": "9bcebfa3",
   "metadata": {},
   "outputs": [],
   "source": []
  }
 ],
 "metadata": {
  "kernelspec": {
   "display_name": "Python 3 (ipykernel)",
   "language": "python",
   "name": "python3"
  },
  "language_info": {
   "codemirror_mode": {
    "name": "ipython",
    "version": 3
   },
   "file_extension": ".py",
   "mimetype": "text/x-python",
   "name": "python",
   "nbconvert_exporter": "python",
   "pygments_lexer": "ipython3",
   "version": "3.9.8"
  }
 },
 "nbformat": 4,
 "nbformat_minor": 5
}

{
 "cells": [
  {
   "cell_type": "code",
   "execution_count": 3,
   "id": "6d757b48",
   "metadata": {},
   "outputs": [],
   "source": [
    "# recursion\n",
    "def coin_change(coins,n,val):\n",
    "    if(val==0):\n",
    "        return 0\n",
    "    res=99999\n",
    "    for i in coins:\n",
    "        if(i<=val):\n",
    "            sub_res=coin_change(coins,n,val-i)\n",
    "            if(sub_res!=99999):\n",
    "                res=min(res,sub_res+1)\n",
    "    return res"
   ]
  },
  {
   "cell_type": "code",
   "execution_count": 4,
   "id": "e49e85d3",
   "metadata": {},
   "outputs": [
    {
     "data": {
      "text/plain": [
       "2"
      ]
     },
     "execution_count": 4,
     "metadata": {},
     "output_type": "execute_result"
    }
   ],
   "source": [
    "coins=[1,2,3]\n",
    "val=5\n",
    "n=len(coins)\n",
    "coin_change(coins,n,val)"
   ]
  },
  {
   "cell_type": "code",
   "execution_count": 5,
   "id": "637496ea",
   "metadata": {},
   "outputs": [
    {
     "name": "stdout",
     "output_type": "stream",
     "text": [
      "2\n"
     ]
    }
   ],
   "source": [
    "# top-down\n",
    "coins=[1,2,3]\n",
    "val=5\n",
    "n=len(coins)\n",
    "\n",
    "dp=[99999]*(val+1)\n",
    "dp[0]=0\n",
    "\n",
    "for i in range(1,val+1):\n",
    "    for j in range(n):\n",
    "        if(coins[j]<=i):\n",
    "            sub_res=dp[i-coins[j]]\n",
    "            if(sub_res!=99999):\n",
    "                dp[i]=min(dp[i],sub_res+1)\n",
    "print(dp[val])"
   ]
  },
  {
   "cell_type": "code",
   "execution_count": 6,
   "id": "ccff3b97",
   "metadata": {},
   "outputs": [
    {
     "data": {
      "text/plain": [
       "5"
      ]
     },
     "execution_count": 6,
     "metadata": {},
     "output_type": "execute_result"
    }
   ],
   "source": [
    "val"
   ]
  },
  {
   "cell_type": "code",
   "execution_count": 7,
   "id": "8fcb10a3",
   "metadata": {},
   "outputs": [
    {
     "data": {
      "text/plain": [
       "[0, 1, 1, 1, 2, 2]"
      ]
     },
     "execution_count": 7,
     "metadata": {},
     "output_type": "execute_result"
    }
   ],
   "source": [
    "dp"
   ]
  },
  {
   "cell_type": "code",
   "execution_count": null,
   "id": "c69e3dda",
   "metadata": {},
   "outputs": [],
   "source": []
  }
 ],
 "metadata": {
  "kernelspec": {
   "display_name": "Python 3 (ipykernel)",
   "language": "python",
   "name": "python3"
  },
  "language_info": {
   "codemirror_mode": {
    "name": "ipython",
    "version": 3
   },
   "file_extension": ".py",
   "mimetype": "text/x-python",
   "name": "python",
   "nbconvert_exporter": "python",
   "pygments_lexer": "ipython3",
   "version": "3.9.8"
  }
 },
 "nbformat": 4,
 "nbformat_minor": 5
}

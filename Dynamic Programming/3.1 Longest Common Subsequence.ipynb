{
 "cells": [
  {
   "cell_type": "code",
   "execution_count": 3,
   "id": "44c47a68",
   "metadata": {},
   "outputs": [
    {
     "data": {
      "text/plain": [
       "4"
      ]
     },
     "execution_count": 3,
     "metadata": {},
     "output_type": "execute_result"
    }
   ],
   "source": [
    "# recursion\n",
    "def lcs(strg1,strg2,n,m):\n",
    "    if(n==0 or m==0):\n",
    "        return 0\n",
    "    if(strg1[n-1]==strg2[m-1]):\n",
    "        return 1+lcs(strg1,strg2,n-1,m-1)\n",
    "    else:\n",
    "        return max(lcs(strg1,strg2,n-1,m),\n",
    "                  lcs(strg1,strg2,n,m-1))\n",
    "\n",
    "strg1='abcdgh'\n",
    "strg2='abedfhr'\n",
    "n=len(strg1)\n",
    "m=len(strg2)\n",
    "lcs(strg1,strg2,n,m)"
   ]
  },
  {
   "cell_type": "code",
   "execution_count": 6,
   "id": "beef778e",
   "metadata": {},
   "outputs": [
    {
     "data": {
      "text/plain": [
       "4"
      ]
     },
     "execution_count": 6,
     "metadata": {},
     "output_type": "execute_result"
    }
   ],
   "source": [
    "# memoisation\n",
    "strg1='abcdgh'\n",
    "strg2='abedfhr'\n",
    "m=len(strg1)\n",
    "n=len(strg2)\n",
    "tab=[]\n",
    "for i in range(m+1):\n",
    "    ls=[-1]*(n+1)\n",
    "    tab.append(ls)\n",
    "\n",
    "def lcs(strg1,strg2,m,n):\n",
    "    global tab\n",
    "    if(n==0 or m==0):\n",
    "        return 0\n",
    "    if(tab[m][n]!=-1):\n",
    "        return tab[m][n]\n",
    "    if(strg1[m-1]==strg2[n-1]):\n",
    "        tab[m][n]=1+lcs(strg1,strg2,m-1,n-1)\n",
    "    else:\n",
    "        tab[m][n]=max(lcs(strg1,strg2,m-1,n),\n",
    "                     lcs(strg1,strg2,m,n-1))\n",
    "    return tab[m][n]\n",
    "\n",
    "lcs(strg1,strg2,m,n)"
   ]
  },
  {
   "cell_type": "code",
   "execution_count": 7,
   "id": "308a4c61",
   "metadata": {},
   "outputs": [
    {
     "data": {
      "text/plain": [
       "[[-1, -1, -1, -1, -1, -1, -1, -1],\n",
       " [-1, 1, 1, 1, 1, 1, 1, 1],\n",
       " [-1, 1, 2, 2, 2, 2, 2, 2],\n",
       " [-1, 1, 2, 2, 2, 2, 2, 2],\n",
       " [-1, 1, 2, 2, 3, 3, 3, 3],\n",
       " [-1, 1, 2, 2, 3, 3, 3, 3],\n",
       " [-1, -1, -1, -1, -1, -1, 4, 4]]"
      ]
     },
     "execution_count": 7,
     "metadata": {},
     "output_type": "execute_result"
    }
   ],
   "source": [
    "tab"
   ]
  },
  {
   "cell_type": "code",
   "execution_count": 9,
   "id": "0ac7af56",
   "metadata": {},
   "outputs": [
    {
     "name": "stdout",
     "output_type": "stream",
     "text": [
      "4\n"
     ]
    }
   ],
   "source": [
    "# top-down\n",
    "strg1='abcdgh'\n",
    "strg2='abedfhr'\n",
    "m=len(strg1)\n",
    "n=len(strg2)\n",
    "tab=[]\n",
    "for i in range(m+1):\n",
    "    ls=[-1]*(n+1)\n",
    "    tab.append(ls)\n",
    "    \n",
    "for i in range(m+1):\n",
    "    tab[i][0]=0\n",
    "for i in range(n+1):\n",
    "    tab[0][i]=0\n",
    "\n",
    "for i in range(1,m+1):\n",
    "    for j in range(1,n+1):\n",
    "        if(strg1[i-1]==strg2[j-1]):\n",
    "            tab[i][j]=1+tab[i-1][j-1]\n",
    "        else:\n",
    "            tab[i][j]=max(tab[i-1][j],tab[i][j-1])\n",
    "print(tab[m][n])"
   ]
  },
  {
   "cell_type": "code",
   "execution_count": 10,
   "id": "e8e4b579",
   "metadata": {},
   "outputs": [
    {
     "data": {
      "text/plain": [
       "[[0, 0, 0, 0, 0, 0, 0, 0],\n",
       " [0, 1, 1, 1, 1, 1, 1, 1],\n",
       " [0, 1, 2, 2, 2, 2, 2, 2],\n",
       " [0, 1, 2, 2, 2, 2, 2, 2],\n",
       " [0, 1, 2, 2, 3, 3, 3, 3],\n",
       " [0, 1, 2, 2, 3, 3, 3, 3],\n",
       " [0, 1, 2, 2, 3, 3, 4, 4]]"
      ]
     },
     "execution_count": 10,
     "metadata": {},
     "output_type": "execute_result"
    }
   ],
   "source": [
    "tab"
   ]
  },
  {
   "cell_type": "code",
   "execution_count": null,
   "id": "1d3d0f72",
   "metadata": {},
   "outputs": [],
   "source": []
  }
 ],
 "metadata": {
  "kernelspec": {
   "display_name": "Python 3 (ipykernel)",
   "language": "python",
   "name": "python3"
  },
  "language_info": {
   "codemirror_mode": {
    "name": "ipython",
    "version": 3
   },
   "file_extension": ".py",
   "mimetype": "text/x-python",
   "name": "python",
   "nbconvert_exporter": "python",
   "pygments_lexer": "ipython3",
   "version": "3.9.8"
  }
 },
 "nbformat": 4,
 "nbformat_minor": 5
}

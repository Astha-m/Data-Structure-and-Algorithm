{
 "cells": [
  {
   "cell_type": "code",
   "execution_count": 1,
   "id": "c04bc3eb",
   "metadata": {},
   "outputs": [
    {
     "name": "stdout",
     "output_type": "stream",
     "text": [
      "1\n"
     ]
    }
   ],
   "source": [
    "strg1='abcde'\n",
    "strg2='abfce'\n",
    "m=len(strg1)\n",
    "n=len(strg2)\n",
    "tab=[]\n",
    "for i in range(m+1):\n",
    "    ls=[-1]*(n+1)\n",
    "    tab.append(ls)\n",
    "    \n",
    "for i in range(m+1):\n",
    "    tab[i][0]=0\n",
    "for i in range(n+1):\n",
    "    tab[0][i]=0\n",
    "    \n",
    "for i in range(1,m+1):\n",
    "    for j in range(1,n+1):\n",
    "        if(strg1[i-1]==strg2[j-1]):\n",
    "            tab[i][j]=1+tab[i-1][j-1]\n",
    "        else:\n",
    "            tab[i][j]=0\n",
    "print(tab[m][n])"
   ]
  },
  {
   "cell_type": "code",
   "execution_count": 2,
   "id": "2b3b4988",
   "metadata": {},
   "outputs": [
    {
     "data": {
      "text/plain": [
       "[[0, 0, 0, 0, 0, 0],\n",
       " [0, 1, 0, 0, 0, 0],\n",
       " [0, 0, 2, 0, 0, 0],\n",
       " [0, 0, 0, 0, 1, 0],\n",
       " [0, 0, 0, 0, 0, 0],\n",
       " [0, 0, 0, 0, 0, 1]]"
      ]
     },
     "execution_count": 2,
     "metadata": {},
     "output_type": "execute_result"
    }
   ],
   "source": [
    "tab"
   ]
  },
  {
   "cell_type": "code",
   "execution_count": null,
   "id": "a32e6408",
   "metadata": {},
   "outputs": [],
   "source": []
  }
 ],
 "metadata": {
  "kernelspec": {
   "display_name": "Python 3 (ipykernel)",
   "language": "python",
   "name": "python3"
  },
  "language_info": {
   "codemirror_mode": {
    "name": "ipython",
    "version": 3
   },
   "file_extension": ".py",
   "mimetype": "text/x-python",
   "name": "python",
   "nbconvert_exporter": "python",
   "pygments_lexer": "ipython3",
   "version": "3.9.8"
  }
 },
 "nbformat": 4,
 "nbformat_minor": 5
}

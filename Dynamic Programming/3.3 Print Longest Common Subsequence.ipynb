{
 "cells": [
  {
   "cell_type": "code",
   "execution_count": 7,
   "id": "630ae1ab",
   "metadata": {},
   "outputs": [
    {
     "name": "stdout",
     "output_type": "stream",
     "text": [
      "abcf\n"
     ]
    }
   ],
   "source": [
    "strg1='acbcf'\n",
    "strg2='abcdaf'\n",
    "m=len(strg1)\n",
    "n=len(strg2)\n",
    "tab=[]\n",
    "for i in range(m+1):\n",
    "    ls=[-1]*(n+1)\n",
    "    tab.append(ls)\n",
    "\n",
    "for i in range(m+1):\n",
    "    tab[i][0]=0\n",
    "for i in range(n+1):\n",
    "    tab[0][i]=0\n",
    "\n",
    "for i in range(1,m+1):\n",
    "    for j in range(1,n+1):\n",
    "        if(strg1[i-1]==strg2[j-1]):\n",
    "            tab[i][j]=1+tab[i-1][j-1]\n",
    "        else:\n",
    "            tab[i][j]=max(tab[i-1][j],tab[i][j-1])\n",
    "        \n",
    "#print(tab)\n",
    "\n",
    "i=m\n",
    "j=n\n",
    "s=''\n",
    "while(i>0 and j>0):\n",
    "    if(strg1[i-1]==strg2[j-1]):\n",
    "        s+=strg1[i-1]\n",
    "        i-=1\n",
    "        j-=1\n",
    "        \n",
    "        #print(strg1[i-1],i,j)\n",
    "    else:\n",
    "        if(tab[i-1][j]>tab[i][j-1]):\n",
    "            i-=1\n",
    "        else:\n",
    "            j-=1\n",
    "print(s[::-1])"
   ]
  },
  {
   "cell_type": "code",
   "execution_count": null,
   "id": "af5a6465",
   "metadata": {},
   "outputs": [],
   "source": []
  }
 ],
 "metadata": {
  "kernelspec": {
   "display_name": "Python 3 (ipykernel)",
   "language": "python",
   "name": "python3"
  },
  "language_info": {
   "codemirror_mode": {
    "name": "ipython",
    "version": 3
   },
   "file_extension": ".py",
   "mimetype": "text/x-python",
   "name": "python",
   "nbconvert_exporter": "python",
   "pygments_lexer": "ipython3",
   "version": "3.9.8"
  }
 },
 "nbformat": 4,
 "nbformat_minor": 5
}

{
 "cells": [
  {
   "cell_type": "code",
   "execution_count": 2,
   "id": "dc3647b8",
   "metadata": {},
   "outputs": [],
   "source": [
    "\n",
    "def lcs(a,b):\n",
    "    \n",
    "    m=len(a)\n",
    "    n=len(b)\n",
    "    tab=[]\n",
    "    for i in range(m+1):\n",
    "        ls=[-1]*(n+1)\n",
    "        tab.append(ls)\n",
    "\n",
    "    for i in range(m+1):\n",
    "        tab[i][0]=0\n",
    "    for i in range(n+1):\n",
    "        tab[0][i]=0\n",
    "    \n",
    "    for i in range(1,m+1):\n",
    "        for j in range(1,n+1):\n",
    "            if(a[i-1]==b[j-1]):\n",
    "                tab[i][j]=1+tab[i-1][j-1]\n",
    "            else:\n",
    "                tab[i][j]=max(tab[i-1][j],tab[i][j-1])\n",
    "    return (tab[m][n])"
   ]
  },
  {
   "cell_type": "code",
   "execution_count": 3,
   "id": "ca26c170",
   "metadata": {},
   "outputs": [
    {
     "data": {
      "text/plain": [
       "5"
      ]
     },
     "execution_count": 3,
     "metadata": {},
     "output_type": "execute_result"
    }
   ],
   "source": [
    "a='geek'\n",
    "b='eke'\n",
    "def shortest_common_supersequence(a,b):\n",
    "    m=len(a)\n",
    "    n=len(b)\n",
    "    return m+n-lcs(a,b)\n",
    "shortest_common_supersequence(a,b)"
   ]
  },
  {
   "cell_type": "code",
   "execution_count": null,
   "id": "fba09c38",
   "metadata": {},
   "outputs": [],
   "source": []
  }
 ],
 "metadata": {
  "kernelspec": {
   "display_name": "Python 3 (ipykernel)",
   "language": "python",
   "name": "python3"
  },
  "language_info": {
   "codemirror_mode": {
    "name": "ipython",
    "version": 3
   },
   "file_extension": ".py",
   "mimetype": "text/x-python",
   "name": "python",
   "nbconvert_exporter": "python",
   "pygments_lexer": "ipython3",
   "version": "3.9.8"
  }
 },
 "nbformat": 4,
 "nbformat_minor": 5
}

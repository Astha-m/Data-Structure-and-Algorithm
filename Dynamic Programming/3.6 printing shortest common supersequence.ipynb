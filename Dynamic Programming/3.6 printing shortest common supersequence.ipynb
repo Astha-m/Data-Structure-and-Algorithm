{
 "cells": [
  {
   "cell_type": "code",
   "execution_count": 1,
   "id": "b2d9e0dd",
   "metadata": {},
   "outputs": [],
   "source": [
    "strg1=\"AGGTAB\"\n",
    "strg2=\"GXTXAYB\"\n",
    "m=len(strg1)\n",
    "n=len(strg2)"
   ]
  },
  {
   "cell_type": "code",
   "execution_count": 2,
   "id": "9e69318b",
   "metadata": {},
   "outputs": [
    {
     "name": "stdout",
     "output_type": "stream",
     "text": [
      "4\n"
     ]
    }
   ],
   "source": [
    "dp=[]\n",
    "for i in range(m+1):\n",
    "    ls=[-1]*(n+1)\n",
    "    dp.append(ls)\n",
    "\n",
    "for i in range(m+1):\n",
    "    dp[i][0]=0\n",
    "for i in range(n+1):\n",
    "    dp[0][i]=0\n",
    "    \n",
    "for i in range(1,m+1):\n",
    "    for j in range(1,n+1):\n",
    "        if(strg1[i-1]==strg2[j-1]):\n",
    "            dp[i][j]=1+dp[i-1][j-1]\n",
    "        else:\n",
    "            dp[i][j]=max(dp[i-1][j],dp[i][j-1])\n",
    "print(dp[m][n])"
   ]
  },
  {
   "cell_type": "code",
   "execution_count": 3,
   "id": "be803bd2",
   "metadata": {},
   "outputs": [
    {
     "data": {
      "text/plain": [
       "[[0, 0, 0, 0, 0, 0, 0, 0],\n",
       " [0, 0, 0, 0, 0, 1, 1, 1],\n",
       " [0, 1, 1, 1, 1, 1, 1, 1],\n",
       " [0, 1, 1, 1, 1, 1, 1, 1],\n",
       " [0, 1, 1, 2, 2, 2, 2, 2],\n",
       " [0, 1, 1, 2, 2, 3, 3, 3],\n",
       " [0, 1, 1, 2, 2, 3, 3, 4]]"
      ]
     },
     "execution_count": 3,
     "metadata": {},
     "output_type": "execute_result"
    }
   ],
   "source": [
    "dp"
   ]
  },
  {
   "cell_type": "code",
   "execution_count": 4,
   "id": "d2bd5f9a",
   "metadata": {},
   "outputs": [
    {
     "name": "stdout",
     "output_type": "stream",
     "text": [
      "AGGXTXAYB\n"
     ]
    }
   ],
   "source": [
    "i=m\n",
    "j=n\n",
    "s=''\n",
    "while(i>0 and j>0):\n",
    "    if(strg1[i-1]==strg2[j-1]):\n",
    "        s+=strg1[i-1]\n",
    "        i-=1\n",
    "        j-=1\n",
    "    else:\n",
    "        if(dp[i-1][j]>dp[i][j-1]):\n",
    "            s+=strg1[i-1]\n",
    "            i-=1\n",
    "        else:\n",
    "            s+=strg2[j-1]\n",
    "            j-=1\n",
    "while(i>0):\n",
    "    s+=strg1[i-1]\n",
    "    i-=1\n",
    "while(j>0):\n",
    "    s+=strg2[j-1]\n",
    "    j-=1\n",
    "print(s[::-1])"
   ]
  },
  {
   "cell_type": "code",
   "execution_count": null,
   "id": "9ae8ac5a",
   "metadata": {},
   "outputs": [],
   "source": []
  }
 ],
 "metadata": {
  "kernelspec": {
   "display_name": "Python 3 (ipykernel)",
   "language": "python",
   "name": "python3"
  },
  "language_info": {
   "codemirror_mode": {
    "name": "ipython",
    "version": 3
   },
   "file_extension": ".py",
   "mimetype": "text/x-python",
   "name": "python",
   "nbconvert_exporter": "python",
   "pygments_lexer": "ipython3",
   "version": "3.9.8"
  }
 },
 "nbformat": 4,
 "nbformat_minor": 5
}

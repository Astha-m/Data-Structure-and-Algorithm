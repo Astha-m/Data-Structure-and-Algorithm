{
 "cells": [
  {
   "cell_type": "code",
   "execution_count": 1,
   "id": "887e011a",
   "metadata": {},
   "outputs": [
    {
     "name": "stdout",
     "output_type": "stream",
     "text": [
      "[[0, 1, 2, 3, 4, 5, 6, 7], [1, 2, 3, 4, 5, 5, 6, 7], [2, 2, 3, 4, 5, 6, 7, 8], [3, 3, 4, 5, 6, 7, 8, 9], [4, 4, 5, 5, 6, 7, 8, 9], [5, 5, 6, 6, 7, 7, 8, 9], [6, 6, 7, 7, 8, 8, 9, 9]]\n",
      "B\n",
      "Y\n",
      "A\n",
      "X\n",
      "T\n",
      "G\n",
      "X\n",
      "G\n",
      "A\n"
     ]
    }
   ],
   "source": [
    "# shortest common supersequence printing\n",
    "strg1=\"AGGTAB\"\n",
    "strg2=\"GXTXAYB\"\n",
    "m=len(strg1)\n",
    "n=len(strg2)\n",
    "\n",
    "# creating the shortest common supersequence\n",
    "tab=[]\n",
    "for i in range(m+1):\n",
    "    ls=[-1]*(n+1)\n",
    "    tab.append(ls)\n",
    "    \n",
    "for i in range(m+1):\n",
    "    tab[i][0]=i\n",
    "for i in range(n+1):\n",
    "    tab[0][i]=i\n",
    "    \n",
    "for i in range(1,m+1):\n",
    "    for j in range(1,n+1):\n",
    "        if(strg1[i-1]==strg2[j-1]):\n",
    "            tab[i][j]=1+tab[i-1][j-1]\n",
    "        else:\n",
    "            tab[i][j]=1+min(tab[i-1][j],tab[i][j-1])\n",
    "print(tab)\n",
    "\n",
    "# printing the shortest common supersequence\n",
    "i=m\n",
    "j=n\n",
    "while(i>0 or j>0):\n",
    "    if(j==0):\n",
    "        print(strg1[i-1])\n",
    "        i-=1\n",
    "    elif(i==0):\n",
    "        print(strg2[j-1])\n",
    "        j-=1\n",
    "    elif(strg1[i-1]==strg2[j-1]):\n",
    "        print(strg1[i-1])\n",
    "        i-=1\n",
    "        j-=1\n",
    "    else:\n",
    "        if(tab[i-1][j]>tab[i][j-1]):\n",
    "            print(strg2[j-1])\n",
    "            j-=1\n",
    "        else:\n",
    "            print(strg1[i-1])\n",
    "            i-=1\n",
    "    #print(i,j)"
   ]
  },
  {
   "cell_type": "code",
   "execution_count": null,
   "id": "dfa5f998",
   "metadata": {},
   "outputs": [],
   "source": []
  }
 ],
 "metadata": {
  "kernelspec": {
   "display_name": "Python 3 (ipykernel)",
   "language": "python",
   "name": "python3"
  },
  "language_info": {
   "codemirror_mode": {
    "name": "ipython",
    "version": 3
   },
   "file_extension": ".py",
   "mimetype": "text/x-python",
   "name": "python",
   "nbconvert_exporter": "python",
   "pygments_lexer": "ipython3",
   "version": "3.9.8"
  }
 },
 "nbformat": 4,
 "nbformat_minor": 5
}

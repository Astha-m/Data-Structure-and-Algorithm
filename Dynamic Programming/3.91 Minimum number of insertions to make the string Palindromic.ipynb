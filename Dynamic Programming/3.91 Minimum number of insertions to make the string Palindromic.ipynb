{
 "cells": [
  {
   "cell_type": "code",
   "execution_count": 1,
   "id": "bbd37c02",
   "metadata": {},
   "outputs": [
    {
     "name": "stdout",
     "output_type": "stream",
     "text": [
      "2\n"
     ]
    }
   ],
   "source": [
    "given_s=\"aebcbda\"\n",
    "rev_s=given_s[::-1]\n",
    "n=len(given_s)\n",
    "\n",
    "tab=[]\n",
    "for i in range(n+1):\n",
    "    ls=[-1]*(n+1)\n",
    "    tab.append(ls)\n",
    "    \n",
    "for i in range(n+1):\n",
    "    tab[i][0]=0\n",
    "    tab[0][i]=0\n",
    "    \n",
    "for i in range(1,n+1):\n",
    "    for j in range(1,n+1):\n",
    "        if(given_s[i-1]==rev_s[j-1]):\n",
    "            tab[i][j]=1+tab[i-1][j-1]\n",
    "        else:\n",
    "            tab[i][j]=max(tab[i-1][j],tab[i][j-1])\n",
    "print(n-tab[n][n])"
   ]
  },
  {
   "cell_type": "code",
   "execution_count": null,
   "id": "72827cdc",
   "metadata": {},
   "outputs": [],
   "source": []
  }
 ],
 "metadata": {
  "kernelspec": {
   "display_name": "Python 3 (ipykernel)",
   "language": "python",
   "name": "python3"
  },
  "language_info": {
   "codemirror_mode": {
    "name": "ipython",
    "version": 3
   },
   "file_extension": ".py",
   "mimetype": "text/x-python",
   "name": "python",
   "nbconvert_exporter": "python",
   "pygments_lexer": "ipython3",
   "version": "3.9.8"
  }
 },
 "nbformat": 4,
 "nbformat_minor": 5
}

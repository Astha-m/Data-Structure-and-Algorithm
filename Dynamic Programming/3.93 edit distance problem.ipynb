{
 "cells": [
  {
   "cell_type": "code",
   "execution_count": 1,
   "id": "68df29fe",
   "metadata": {},
   "outputs": [],
   "source": [
    "# in edit distance problem we do insert delete and replace operation\n",
    "\n",
    "strg1='saturday'\n",
    "strg2='sunday'\n",
    "m=len(strg1)\n",
    "n=len(strg2)\n",
    "\n"
   ]
  },
  {
   "cell_type": "code",
   "execution_count": 2,
   "id": "86174f28",
   "metadata": {},
   "outputs": [
    {
     "data": {
      "text/plain": [
       "3"
      ]
     },
     "execution_count": 2,
     "metadata": {},
     "output_type": "execute_result"
    }
   ],
   "source": [
    "def edit_distance(strg1,strg2,m,n):\n",
    "    if(m==0):\n",
    "        return n\n",
    "    if(n==0):\n",
    "        return m\n",
    "    if(strg1[m-1]==strg2[n-1]):# when both the characters match so we do 0 operations\n",
    "        return edit_distance(strg1,strg2,m-1,n-1)\n",
    "    else:\n",
    "        return 1+min(edit_distance(strg1,strg2,m,n-1),# insertion\n",
    "                    edit_distance(strg1,strg2,m-1,n),# deletion\n",
    "                    edit_distance(strg1,strg2,m-1,n-1)# replace\n",
    "                    )\n",
    "edit_distance(strg1,strg2,m,n)"
   ]
  },
  {
   "cell_type": "code",
   "execution_count": null,
   "id": "36d7e1a9",
   "metadata": {},
   "outputs": [],
   "source": []
  },
  {
   "cell_type": "code",
   "execution_count": 3,
   "id": "b61fc97e",
   "metadata": {},
   "outputs": [
    {
     "name": "stdout",
     "output_type": "stream",
     "text": [
      "3\n"
     ]
    }
   ],
   "source": [
    "dp=[]\n",
    "for i in range(m+1):\n",
    "    ls=[-1]*(n+1)\n",
    "    dp.append(ls)\n",
    "\n",
    "for i in range(m+1):\n",
    "    dp[i][0]=i\n",
    "for i in range(n+1):\n",
    "    dp[0][i]=i\n",
    "    \n",
    "for i in range(1,m+1):\n",
    "    for j in range(1,n+1):\n",
    "        if(strg1[i-1]==strg2[j-1]):\n",
    "            dp[i][j]=dp[i-1][j-1]\n",
    "        else:\n",
    "            dp[i][j]=1+min(dp[i-1][j],dp[i][j-1],dp[i-1][j-1])\n",
    "print(dp[m][n])"
   ]
  },
  {
   "cell_type": "code",
   "execution_count": null,
   "id": "94439db2",
   "metadata": {},
   "outputs": [],
   "source": []
  },
  {
   "cell_type": "code",
   "execution_count": null,
   "id": "8db24276",
   "metadata": {},
   "outputs": [],
   "source": []
  }
 ],
 "metadata": {
  "kernelspec": {
   "display_name": "Python 3 (ipykernel)",
   "language": "python",
   "name": "python3"
  },
  "language_info": {
   "codemirror_mode": {
    "name": "ipython",
    "version": 3
   },
   "file_extension": ".py",
   "mimetype": "text/x-python",
   "name": "python",
   "nbconvert_exporter": "python",
   "pygments_lexer": "ipython3",
   "version": "3.9.8"
  }
 },
 "nbformat": 4,
 "nbformat_minor": 5
}

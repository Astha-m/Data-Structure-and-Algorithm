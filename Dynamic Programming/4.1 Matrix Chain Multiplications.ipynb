{
 "cells": [
  {
   "cell_type": "code",
   "execution_count": 7,
   "id": "a22066ce",
   "metadata": {},
   "outputs": [
    {
     "name": "stdout",
     "output_type": "stream",
     "text": [
      "Here\n",
      "Here\n",
      "Here\n",
      "Here\n",
      "Here\n",
      "Here\n",
      "Here\n",
      "Here\n",
      "Here\n"
     ]
    },
    {
     "data": {
      "text/plain": [
       "26000"
      ]
     },
     "execution_count": 7,
     "metadata": {},
     "output_type": "execute_result"
    }
   ],
   "source": [
    "#recursive\n",
    "arr=[40,20,30,10,30]\n",
    "def solve(arr,i,j):\n",
    "    if(i==j):\n",
    "        return 0\n",
    "    mini=99999\n",
    "    for k in range(i,j):\n",
    "        temp=solve(arr,i,k)+solve(arr,k+1,j)+(arr[i-1]*arr[k]*arr[j])\n",
    "        if(temp<mini):\n",
    "            mini=temp\n",
    "    print('Here')\n",
    "    return mini\n",
    "solve(arr,1,len(arr)-1)"
   ]
  },
  {
   "cell_type": "code",
   "execution_count": 8,
   "id": "0cedbbc1",
   "metadata": {},
   "outputs": [
    {
     "name": "stdout",
     "output_type": "stream",
     "text": [
      "Here\n",
      "Here\n",
      "Here\n",
      "Here\n",
      "Here\n",
      "Here\n"
     ]
    },
    {
     "data": {
      "text/plain": [
       "26000"
      ]
     },
     "execution_count": 8,
     "metadata": {},
     "output_type": "execute_result"
    }
   ],
   "source": [
    "# bottom-up\n",
    "arr=[40,20,30,10,30]\n",
    "n=len(arr)\n",
    "tab=[]\n",
    "for i in range(n+1):\n",
    "    ls=[-1]*(n+1)\n",
    "    tab.append(ls)\n",
    "    \n",
    "def solve(arr,i,j):\n",
    "    if(i==j):\n",
    "        return 0\n",
    "    if(tab[i][j]!=-1):\n",
    "        return tab[i][j]\n",
    "    mini=99999\n",
    "    for k in range(i,j):\n",
    "        temp=solve(arr,i,k)+solve(arr,k+1,j)+(arr[i-1]*arr[k]*arr[j])\n",
    "        if(temp<mini):\n",
    "            mini=temp\n",
    "    tab[i][j]=mini\n",
    "    #print('Here')\n",
    "    return tab[i][j]\n",
    "solve(arr,1,n-1)"
   ]
  },
  {
   "cell_type": "code",
   "execution_count": 6,
   "id": "51c8030f",
   "metadata": {},
   "outputs": [
    {
     "data": {
      "text/plain": [
       "[[-1, -1, -1, -1, -1, -1],\n",
       " [-1, -1, 24000, 14000, 26000, -1],\n",
       " [-1, -1, -1, 6000, 12000, -1],\n",
       " [-1, -1, -1, -1, 9000, -1],\n",
       " [-1, -1, -1, -1, -1, -1],\n",
       " [-1, -1, -1, -1, -1, -1]]"
      ]
     },
     "execution_count": 6,
     "metadata": {},
     "output_type": "execute_result"
    }
   ],
   "source": [
    "tab"
   ]
  },
  {
   "cell_type": "code",
   "execution_count": null,
   "id": "f91e4cb2",
   "metadata": {},
   "outputs": [],
   "source": []
  }
 ],
 "metadata": {
  "kernelspec": {
   "display_name": "Python 3 (ipykernel)",
   "language": "python",
   "name": "python3"
  },
  "language_info": {
   "codemirror_mode": {
    "name": "ipython",
    "version": 3
   },
   "file_extension": ".py",
   "mimetype": "text/x-python",
   "name": "python",
   "nbconvert_exporter": "python",
   "pygments_lexer": "ipython3",
   "version": "3.9.8"
  }
 },
 "nbformat": 4,
 "nbformat_minor": 5
}

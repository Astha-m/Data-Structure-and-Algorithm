{
 "cells": [
  {
   "cell_type": "code",
   "execution_count": 1,
   "id": "aea83747",
   "metadata": {},
   "outputs": [
    {
     "data": {
      "text/plain": [
       "2"
      ]
     },
     "execution_count": 1,
     "metadata": {},
     "output_type": "execute_result"
    }
   ],
   "source": [
    "# recursive\n",
    "strg=\"abade\"\n",
    "n=len(strg)\n",
    "def palindrome(strg,i,j):\n",
    "    tempi=i\n",
    "    tempj=j\n",
    "    while(tempi<=tempj):\n",
    "        if(strg[tempi]==strg[tempj]):\n",
    "            tempi+=1\n",
    "            tempj-=1\n",
    "            continue\n",
    "        else:\n",
    "            return False\n",
    "    return True\n",
    "\n",
    "def solve(strg,i,j):\n",
    "    if(i>=j):\n",
    "        return 0\n",
    "    if(palindrome(strg,i,j)):\n",
    "        return 0\n",
    "    mini=99999\n",
    "    for k in range(i,j):\n",
    "        if(palindrome(strg,i,k)):\n",
    "            temp=solve(strg,k+1,j)+1\n",
    "            mini=min(mini,temp)\n",
    "    return mini\n",
    "solve(strg,0,n-1)"
   ]
  },
  {
   "cell_type": "code",
   "execution_count": 2,
   "id": "c59b3bba",
   "metadata": {},
   "outputs": [
    {
     "data": {
      "text/plain": [
       "2"
      ]
     },
     "execution_count": 2,
     "metadata": {},
     "output_type": "execute_result"
    }
   ],
   "source": [
    "# memoisation\n",
    "strg=\"abade\"\n",
    "n=len(strg)\n",
    "def palindrome(strg,i,j):\n",
    "    tempi=i\n",
    "    tempj=j\n",
    "    while(tempi<=tempj):\n",
    "        if(strg[tempi]==strg[tempj]):\n",
    "            tempi+=1\n",
    "            tempj-=1\n",
    "            continue\n",
    "        else:\n",
    "            return False\n",
    "    return True\n",
    "\n",
    "tab=[]\n",
    "for i in range(n+1):\n",
    "    ls=[-1]*(n+1)\n",
    "    tab.append(ls)\n",
    "\n",
    "def solve(strg,i,j):\n",
    "    if(i>=j):\n",
    "        return 0\n",
    "    if(palindrome(strg,i,j)):\n",
    "        return 0\n",
    "    if(tab[i][j]!=-1):\n",
    "        return tab[i][j]\n",
    "    mini=99999\n",
    "    for k in range(i,j):\n",
    "        temp=solve(strg,i,k)+solve(strg,k+1,j)+1\n",
    "        if(temp<mini):\n",
    "            mini=temp\n",
    "    tab[i][j]=mini\n",
    "    return tab[i][j]\n",
    "solve(strg,0,n-1)"
   ]
  },
  {
   "cell_type": "code",
   "execution_count": 2,
   "id": "8777dc33",
   "metadata": {},
   "outputs": [
    {
     "data": {
      "text/plain": [
       "[[-1, 1, -1, 1, 2, -1],\n",
       " [-1, -1, 1, 2, 3, -1],\n",
       " [-1, -1, -1, 1, 2, -1],\n",
       " [-1, -1, -1, -1, 1, -1],\n",
       " [-1, -1, -1, -1, -1, -1],\n",
       " [-1, -1, -1, -1, -1, -1]]"
      ]
     },
     "execution_count": 2,
     "metadata": {},
     "output_type": "execute_result"
    }
   ],
   "source": [
    "tab"
   ]
  },
  {
   "cell_type": "code",
   "execution_count": null,
   "id": "0f621bd6",
   "metadata": {},
   "outputs": [],
   "source": []
  }
 ],
 "metadata": {
  "kernelspec": {
   "display_name": "Python 3 (ipykernel)",
   "language": "python",
   "name": "python3"
  },
  "language_info": {
   "codemirror_mode": {
    "name": "ipython",
    "version": 3
   },
   "file_extension": ".py",
   "mimetype": "text/x-python",
   "name": "python",
   "nbconvert_exporter": "python",
   "pygments_lexer": "ipython3",
   "version": "3.9.8"
  }
 },
 "nbformat": 4,
 "nbformat_minor": 5
}

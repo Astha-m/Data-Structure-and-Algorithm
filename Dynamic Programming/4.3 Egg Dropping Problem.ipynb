{
 "cells": [
  {
   "cell_type": "code",
   "execution_count": null,
   "id": "94bf90d1",
   "metadata": {},
   "outputs": [],
   "source": [
    "# recursion\n",
    "\n",
    "\n",
    "def solve(egg,floor):\n",
    "    if(floor<=1 or egg==1):\n",
    "        return floor\n",
    "    mini=99999\n",
    "    for k in range(1,floor+1):\n",
    "        temp=1+max(solve(egg-1,k-1),solve(egg,floor-k))\n",
    "        mini=min(temp,mini)\n",
    "    return mini"
   ]
  },
  {
   "cell_type": "code",
   "execution_count": null,
   "id": "0a1f8460",
   "metadata": {},
   "outputs": [],
   "source": [
    "solve(egg,floor)"
   ]
  },
  {
   "cell_type": "code",
   "execution_count": 3,
   "id": "bdf902b7",
   "metadata": {},
   "outputs": [
    {
     "data": {
      "text/plain": [
       "45"
      ]
     },
     "execution_count": 3,
     "metadata": {},
     "output_type": "execute_result"
    }
   ],
   "source": [
    "# bottom-up memoisation\n",
    "egg=2\n",
    "floor=1000\n",
    "\n",
    "tab=[]\n",
    "for i in range(egg+1):\n",
    "    ls=[-1]*(floor+1)\n",
    "    tab.append(ls)\n",
    "    \n",
    "def solver(egg,floor):\n",
    "    if(floor<=1 or egg==1):\n",
    "        return floor\n",
    "    if(tab[egg][floor]!=-1):\n",
    "        return tab[egg][floor]\n",
    "    mini=99999\n",
    "    for k in range(1,floor+1):\n",
    "        temp=1+max(solver(egg-1,k-1),solver(egg,floor-k))\n",
    "        mini=min(temp,mini)\n",
    "    tab[egg][floor]=mini\n",
    "    #print(tab)\n",
    "    return(tab[egg][floor])\n",
    "solver(egg,floor)"
   ]
  },
  {
   "cell_type": "code",
   "execution_count": null,
   "id": "7723cd89",
   "metadata": {},
   "outputs": [],
   "source": []
  },
  {
   "cell_type": "code",
   "execution_count": 4,
   "id": "5007c108",
   "metadata": {},
   "outputs": [
    {
     "data": {
      "text/plain": [
       "[[-1, -1, -1, -1, -1, -1, -1, -1, -1, -1, -1],\n",
       " [-1, -1, -1, -1, -1, -1, -1, -1, -1, -1, -1]]"
      ]
     },
     "execution_count": 4,
     "metadata": {},
     "output_type": "execute_result"
    }
   ],
   "source": [
    "tab"
   ]
  },
  {
   "cell_type": "code",
   "execution_count": null,
   "id": "a687024c",
   "metadata": {},
   "outputs": [],
   "source": []
  }
 ],
 "metadata": {
  "kernelspec": {
   "display_name": "Python 3 (ipykernel)",
   "language": "python",
   "name": "python3"
  },
  "language_info": {
   "codemirror_mode": {
    "name": "ipython",
    "version": 3
   },
   "file_extension": ".py",
   "mimetype": "text/x-python",
   "name": "python",
   "nbconvert_exporter": "python",
   "pygments_lexer": "ipython3",
   "version": "3.9.8"
  }
 },
 "nbformat": 4,
 "nbformat_minor": 5
}

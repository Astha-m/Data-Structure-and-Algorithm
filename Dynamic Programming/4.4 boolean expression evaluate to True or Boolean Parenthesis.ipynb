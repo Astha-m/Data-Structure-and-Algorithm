{
 "cells": [
  {
   "cell_type": "code",
   "execution_count": null,
   "id": "f4682c99",
   "metadata": {},
   "outputs": [],
   "source": [
    "# basically u have to tell the number of ways the given expression can be evaluated to true"
   ]
  },
  {
   "cell_type": "code",
   "execution_count": 7,
   "id": "c400e802",
   "metadata": {},
   "outputs": [],
   "source": [
    "expression=['T','|','F','&','T']\n",
    "\n",
    "def solve(exp,i,j,isTrue):\n",
    "    \n",
    "    if(i>j):\n",
    "        return 0\n",
    "    if(i==j):\n",
    "        if(exp[i]==isTrue):\n",
    "            return 1\n",
    "        else:\n",
    "            return 0\n",
    "    ans=0\n",
    "    for k in range(i+1,j):\n",
    "        left_true=solve(exp,i,k-1,'T')\n",
    "        left_false=solve(exp,i,k-1,'F')\n",
    "        right_true=solve(exp,k+1,j,'T')\n",
    "        right_false=solve(exp,k+1,j,'F')\n",
    "        \n",
    "        if(exp[k]=='&'):\n",
    "            if(isTrue=='T'):\n",
    "                ans=ans+(left_true*right_true)\n",
    "            else:\n",
    "                ans=ans+(left_false*right_false)+(left_false*right_true)+(left_true*right_false)\n",
    "        elif(exp[k]=='|'):\n",
    "            if(isTrue=='T'):\n",
    "                ans=ans+(left_true*right_true)+(left_true*right_false)+(left_false*right_true)\n",
    "            else:\n",
    "                ans=ans+(left_false*right_false)\n",
    "        else:\n",
    "            if(isTrue=='T'):\n",
    "                ans=ans+(left_true*right_false)+(left_false*right_true)\n",
    "            else:\n",
    "                ans=ans+(left_true*right_true)+(left_false*right_false)\n",
    "    return ans"
   ]
  },
  {
   "cell_type": "code",
   "execution_count": 8,
   "id": "5afc45c1",
   "metadata": {},
   "outputs": [
    {
     "data": {
      "text/plain": [
       "2"
      ]
     },
     "execution_count": 8,
     "metadata": {},
     "output_type": "execute_result"
    }
   ],
   "source": [
    "solve(expression,0,4,'T')"
   ]
  },
  {
   "cell_type": "code",
   "execution_count": null,
   "id": "9614e356",
   "metadata": {},
   "outputs": [],
   "source": []
  },
  {
   "cell_type": "code",
   "execution_count": null,
   "id": "f594d8d2",
   "metadata": {},
   "outputs": [],
   "source": [
    "# memoisation\n",
    "'''\n",
    "its dp solution will have 3d matrix\n",
    "\n",
    "'''\n"
   ]
  }
 ],
 "metadata": {
  "kernelspec": {
   "display_name": "Python 3 (ipykernel)",
   "language": "python",
   "name": "python3"
  },
  "language_info": {
   "codemirror_mode": {
    "name": "ipython",
    "version": 3
   },
   "file_extension": ".py",
   "mimetype": "text/x-python",
   "name": "python",
   "nbconvert_exporter": "python",
   "pygments_lexer": "ipython3",
   "version": "3.9.8"
  }
 },
 "nbformat": 4,
 "nbformat_minor": 5
}

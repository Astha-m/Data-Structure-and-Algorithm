{
 "cells": [
  {
   "cell_type": "code",
   "execution_count": 3,
   "id": "2e582ceb",
   "metadata": {},
   "outputs": [],
   "source": [
    "def longest_increasing_subsequence(arr):\n",
    "    n=len(arr)\n",
    "    lis=[1]*n\n",
    "    lis[0]=1\n",
    "    for i in range(1,n):\n",
    "        for j in range(0,i):\n",
    "            if(arr[j]<arr[i]):\n",
    "                lis[i]=max(lis[i],lis[j]+1)\n",
    "    return max(lis)"
   ]
  },
  {
   "cell_type": "code",
   "execution_count": 4,
   "id": "55c73691",
   "metadata": {},
   "outputs": [
    {
     "data": {
      "text/plain": [
       "5"
      ]
     },
     "execution_count": 4,
     "metadata": {},
     "output_type": "execute_result"
    }
   ],
   "source": [
    "longest_increasing_subsequence([4,10,6,5,8,11,2,20])"
   ]
  },
  {
   "cell_type": "code",
   "execution_count": null,
   "id": "aade4243",
   "metadata": {},
   "outputs": [],
   "source": []
  },
  {
   "cell_type": "code",
   "execution_count": 5,
   "id": "012455c1",
   "metadata": {},
   "outputs": [],
   "source": [
    "def longest_increasing_subsequence_binary(arr):\n",
    "    n=len(arr)\n",
    "    lst=[]\n",
    "    count=0\n",
    "    import bisect\n",
    "    for i in range(n):\n",
    "        ind=bisect.bisect_left(lst,arr[i])\n",
    "        if(ind>=len(lst)):\n",
    "            lst.append(arr[i])\n",
    "            count+=1\n",
    "        else:\n",
    "            lst[ind]=arr[i]\n",
    "    return count"
   ]
  },
  {
   "cell_type": "code",
   "execution_count": 6,
   "id": "f2720167",
   "metadata": {},
   "outputs": [
    {
     "data": {
      "text/plain": [
       "5"
      ]
     },
     "execution_count": 6,
     "metadata": {},
     "output_type": "execute_result"
    }
   ],
   "source": [
    "longest_increasing_subsequence_binary([4,10,6,5,8,11,2,20])"
   ]
  },
  {
   "cell_type": "code",
   "execution_count": null,
   "id": "4302ea78",
   "metadata": {},
   "outputs": [],
   "source": []
  }
 ],
 "metadata": {
  "kernelspec": {
   "display_name": "Python 3 (ipykernel)",
   "language": "python",
   "name": "python3"
  },
  "language_info": {
   "codemirror_mode": {
    "name": "ipython",
    "version": 3
   },
   "file_extension": ".py",
   "mimetype": "text/x-python",
   "name": "python",
   "nbconvert_exporter": "python",
   "pygments_lexer": "ipython3",
   "version": "3.10.7"
  }
 },
 "nbformat": 4,
 "nbformat_minor": 5
}

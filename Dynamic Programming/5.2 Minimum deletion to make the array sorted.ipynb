{
 "cells": [
  {
   "cell_type": "code",
   "execution_count": 1,
   "id": "d13b9e20",
   "metadata": {},
   "outputs": [
    {
     "name": "stdout",
     "output_type": "stream",
     "text": [
      "2\n"
     ]
    }
   ],
   "source": [
    "def lis(arr):\n",
    "    n=len(arr)\n",
    "    lst=[]\n",
    "    import bisect\n",
    "    count=0\n",
    "    for i in range(n):\n",
    "        ind=bisect.bisect_left(lst,arr[i])\n",
    "        if(ind>=len(lst)):\n",
    "            lst.append(arr[i])\n",
    "            count+=1\n",
    "        else:\n",
    "            lst[ind]=arr[i]\n",
    "    return count\n",
    "\n",
    "arr=[5,10,3,6,7,8]\n",
    "lis=lis(arr)\n",
    "print(len(arr)-lis)"
   ]
  },
  {
   "cell_type": "code",
   "execution_count": null,
   "id": "ac61b1d0",
   "metadata": {},
   "outputs": [],
   "source": []
  }
 ],
 "metadata": {
  "kernelspec": {
   "display_name": "Python 3 (ipykernel)",
   "language": "python",
   "name": "python3"
  },
  "language_info": {
   "codemirror_mode": {
    "name": "ipython",
    "version": 3
   },
   "file_extension": ".py",
   "mimetype": "text/x-python",
   "name": "python",
   "nbconvert_exporter": "python",
   "pygments_lexer": "ipython3",
   "version": "3.10.7"
  }
 },
 "nbformat": 4,
 "nbformat_minor": 5
}

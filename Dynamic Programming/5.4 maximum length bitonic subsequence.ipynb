{
 "cells": [
  {
   "cell_type": "code",
   "execution_count": 6,
   "id": "6ebe9a0a",
   "metadata": {},
   "outputs": [
    {
     "name": "stdout",
     "output_type": "stream",
     "text": [
      "[1, 2, 2, 3, 3, 4, 2, 1]\n",
      "[1, 5, 2, 4, 3, 3, 2, 1]\n",
      "6\n"
     ]
    }
   ],
   "source": [
    "arr=[1,11,2,10,4,5,2,1]\n",
    "n=len(arr)\n",
    "def lis(arr):\n",
    "    n=len(arr)\n",
    "    lis=[0]*n\n",
    "    for i in range(n):\n",
    "        lis[i]=1\n",
    "        for j in range(0,i):\n",
    "            if(arr[j]<arr[i]):\n",
    "                lis[i]=max(lis[i],lis[j]+1)\n",
    "    return lis\n",
    "lis=lis(arr)\n",
    "print(lis)\n",
    "\n",
    "def longest_decreasing_subsequence(arr):\n",
    "    n=len(arr)\n",
    "    lds=[0]*n\n",
    "    for i in range(n-1,-1,-1):\n",
    "        lds[i]=1\n",
    "        for j in range(n-1,i,-1):\n",
    "            if(arr[j]<arr[i]):\n",
    "                lds[i]=max(lds[i],lds[j]+1)\n",
    "    return lds\n",
    "lds=longest_decreasing_subsequence(arr)\n",
    "print(lds)\n",
    "\n",
    "res=0\n",
    "for i in range(n):\n",
    "    res=max(res,lds[i]+lis[i]-1)\n",
    "print(res)"
   ]
  },
  {
   "cell_type": "code",
   "execution_count": null,
   "id": "ebd9d802",
   "metadata": {},
   "outputs": [],
   "source": []
  }
 ],
 "metadata": {
  "kernelspec": {
   "display_name": "Python 3 (ipykernel)",
   "language": "python",
   "name": "python3"
  },
  "language_info": {
   "codemirror_mode": {
    "name": "ipython",
    "version": 3
   },
   "file_extension": ".py",
   "mimetype": "text/x-python",
   "name": "python",
   "nbconvert_exporter": "python",
   "pygments_lexer": "ipython3",
   "version": "3.10.7"
  }
 },
 "nbformat": 4,
 "nbformat_minor": 5
}

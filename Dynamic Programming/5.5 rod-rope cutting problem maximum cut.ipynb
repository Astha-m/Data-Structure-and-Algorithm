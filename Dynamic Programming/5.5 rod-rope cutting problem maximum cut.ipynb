{
 "cells": [
  {
   "cell_type": "code",
   "execution_count": 2,
   "id": "8f62649e",
   "metadata": {},
   "outputs": [
    {
     "name": "stdout",
     "output_type": "stream",
     "text": [
      "-1\n"
     ]
    }
   ],
   "source": [
    "rod=3\n",
    "a=2\n",
    "b=4\n",
    "c=2\n",
    "dp=[-1]*(rod+1)\n",
    "dp[0]=0\n",
    "for i in range(1,rod+1):\n",
    "    if(i-a>=0):\n",
    "        dp[i]=max(dp[i],dp[i-a])\n",
    "    if(i-b>=0):\n",
    "        dp[i]=max(dp[i],dp[i-b])\n",
    "    if(i-c>=0):\n",
    "        dp[i]=max(dp[i],dp[i-c])\n",
    "    if(dp[i]!=-1):\n",
    "        dp[i]+=1\n",
    "print(dp[-1])"
   ]
  },
  {
   "cell_type": "code",
   "execution_count": 3,
   "id": "adbc4951",
   "metadata": {},
   "outputs": [
    {
     "name": "stdout",
     "output_type": "stream",
     "text": [
      "[0, -1, 1, -1]\n"
     ]
    }
   ],
   "source": [
    "print(dp)"
   ]
  },
  {
   "cell_type": "code",
   "execution_count": null,
   "id": "021ba5a4",
   "metadata": {},
   "outputs": [],
   "source": []
  }
 ],
 "metadata": {
  "kernelspec": {
   "display_name": "Python 3 (ipykernel)",
   "language": "python",
   "name": "python3"
  },
  "language_info": {
   "codemirror_mode": {
    "name": "ipython",
    "version": 3
   },
   "file_extension": ".py",
   "mimetype": "text/x-python",
   "name": "python",
   "nbconvert_exporter": "python",
   "pygments_lexer": "ipython3",
   "version": "3.10.7"
  }
 },
 "nbformat": 4,
 "nbformat_minor": 5
}

{
 "cells": [
  {
   "cell_type": "code",
   "execution_count": 2,
   "id": "d9aa7721",
   "metadata": {},
   "outputs": [
    {
     "name": "stdout",
     "output_type": "stream",
     "text": [
      "[(1, 5), (2, 6), (4, 3), (6, 2)]\n",
      "2\n"
     ]
    }
   ],
   "source": [
    "arr=[(6,2),(4,3),(2,6),(1,5)]\n",
    "n=len(arr)\n",
    "arr.sort(key=lambda x:x[0])\n",
    "print(arr)\n",
    "lis=[]\n",
    "count=0\n",
    "import bisect\n",
    "for i in range(n):\n",
    "    ind=bisect.bisect_left(lis,arr[i][1])\n",
    "    if(ind>=len(lis)):\n",
    "        lis.append(arr[i][1])\n",
    "        count+=1\n",
    "    else:\n",
    "        lis[ind]=arr[i][1]\n",
    "print(count)"
   ]
  },
  {
   "cell_type": "code",
   "execution_count": null,
   "id": "7038dd2c",
   "metadata": {},
   "outputs": [],
   "source": []
  }
 ],
 "metadata": {
  "kernelspec": {
   "display_name": "Python 3 (ipykernel)",
   "language": "python",
   "name": "python3"
  },
  "language_info": {
   "codemirror_mode": {
    "name": "ipython",
    "version": 3
   },
   "file_extension": ".py",
   "mimetype": "text/x-python",
   "name": "python",
   "nbconvert_exporter": "python",
   "pygments_lexer": "ipython3",
   "version": "3.10.7"
  }
 },
 "nbformat": 4,
 "nbformat_minor": 5
}

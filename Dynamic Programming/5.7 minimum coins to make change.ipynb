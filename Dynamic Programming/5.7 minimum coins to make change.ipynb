{
 "cells": [
  {
   "cell_type": "code",
   "execution_count": 1,
   "id": "2479cf36",
   "metadata": {},
   "outputs": [
    {
     "name": "stdout",
     "output_type": "stream",
     "text": [
      "2\n"
     ]
    }
   ],
   "source": [
    "coins=[9,6,5,1]\n",
    "val=11\n",
    "n=len(coins)\n",
    "dp=[float('inf')]*(val+1)\n",
    "dp[0]=0\n",
    "for i in range(1,val+1):\n",
    "    for j in range(n):\n",
    "        if(coins[j]<=i):\n",
    "            subres=dp[i-coins[j]]\n",
    "            if(subres!=float('inf')):\n",
    "                dp[i]=min(dp[i],subres+1)\n",
    "print(dp[-1])"
   ]
  },
  {
   "cell_type": "code",
   "execution_count": null,
   "id": "ed293c23",
   "metadata": {},
   "outputs": [],
   "source": []
  }
 ],
 "metadata": {
  "kernelspec": {
   "display_name": "Python 3 (ipykernel)",
   "language": "python",
   "name": "python3"
  },
  "language_info": {
   "codemirror_mode": {
    "name": "ipython",
    "version": 3
   },
   "file_extension": ".py",
   "mimetype": "text/x-python",
   "name": "python",
   "nbconvert_exporter": "python",
   "pygments_lexer": "ipython3",
   "version": "3.10.7"
  }
 },
 "nbformat": 4,
 "nbformat_minor": 5
}

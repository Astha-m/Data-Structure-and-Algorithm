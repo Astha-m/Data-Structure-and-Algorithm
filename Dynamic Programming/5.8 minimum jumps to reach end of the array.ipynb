{
 "cells": [
  {
   "cell_type": "code",
   "execution_count": 1,
   "id": "df00439a",
   "metadata": {},
   "outputs": [
    {
     "name": "stdout",
     "output_type": "stream",
     "text": [
      "3\n"
     ]
    }
   ],
   "source": [
    "arr=[4,1,5,3,1,3,2,1,8]\n",
    "n=len(arr)\n",
    "dp=[float('inf')]*n\n",
    "dp[0]=0\n",
    "\n",
    "for i in range(1,n):\n",
    "    \n",
    "    for j in range(0,i):\n",
    "        if(arr[j]+j>=i):\n",
    "            dp[i]=min(dp[i],dp[j]+1)\n",
    "print(dp[-1])\n",
    "        "
   ]
  },
  {
   "cell_type": "code",
   "execution_count": null,
   "id": "d4648793",
   "metadata": {},
   "outputs": [],
   "source": []
  }
 ],
 "metadata": {
  "kernelspec": {
   "display_name": "Python 3 (ipykernel)",
   "language": "python",
   "name": "python3"
  },
  "language_info": {
   "codemirror_mode": {
    "name": "ipython",
    "version": 3
   },
   "file_extension": ".py",
   "mimetype": "text/x-python",
   "name": "python",
   "nbconvert_exporter": "python",
   "pygments_lexer": "ipython3",
   "version": "3.10.7"
  }
 },
 "nbformat": 4,
 "nbformat_minor": 5
}

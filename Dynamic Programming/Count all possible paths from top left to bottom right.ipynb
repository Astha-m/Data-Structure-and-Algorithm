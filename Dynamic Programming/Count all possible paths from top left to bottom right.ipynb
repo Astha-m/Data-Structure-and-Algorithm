{
 "cells": [
  {
   "cell_type": "code",
   "execution_count": 1,
   "id": "c88a5c87",
   "metadata": {},
   "outputs": [
    {
     "data": {
      "text/plain": [
       "'\\nThe task is to count all the possible paths from top left to bottom \\nright of a m X n matrix with the constraints that from each cell you can \\neither move only to right or down.\\n\\nExample 1:\\n\\nInput: m = 2, n = 2\\nOutput: 2 \\nExplanation: Two possible ways are\\nRD and DR.  \\n\\nExample 2:\\n\\nInput: m = 3, R = 3\\nOutput: 6\\nExplanation: Six possible ways are\\nRRDD, DDRR, RDDR, DRRD, RDRD, DRDR. \\n\\n'"
      ]
     },
     "execution_count": 1,
     "metadata": {},
     "output_type": "execute_result"
    }
   ],
   "source": [
    "'''\n",
    "The task is to count all the possible paths from top left to bottom \n",
    "right of a m X n matrix with the constraints that from each cell you can \n",
    "either move only to right or down.\n",
    "\n",
    "Example 1:\n",
    "\n",
    "Input: m = 2, n = 2\n",
    "Output: 2 \n",
    "Explanation: Two possible ways are\n",
    "RD and DR.  \n",
    "\n",
    "Example 2:\n",
    "\n",
    "Input: m = 3, R = 3\n",
    "Output: 6\n",
    "Explanation: Six possible ways are\n",
    "RRDD, DDRR, RDDR, DRRD, RDRD, DRDR. \n",
    "\n",
    "'''"
   ]
  },
  {
   "cell_type": "code",
   "execution_count": null,
   "id": "681a81b2",
   "metadata": {},
   "outputs": [],
   "source": [
    "def numberOfPaths(self, m, n):\n",
    "    dp=[]\n",
    "    for i in range(m+1):\n",
    "        ls=[-1]*(n+1)\n",
    "        dp.append(ls)\n",
    "\n",
    "    def find_paths(dp,i,j):\n",
    "        if(i>=m or j>=n):\n",
    "            return 0\n",
    "\n",
    "        if(i==m-1 and j==n-1):\n",
    "            return 1\n",
    "\n",
    "        if(dp[i][j]!=-1):\n",
    "            return dp[i][j]\n",
    "\n",
    "        dp[i][j]=find_paths(dp,i+1,j)+find_paths(dp,i,j+1)\n",
    "        return dp[i][j]\n",
    "\n",
    "    return (find_paths(dp,0,0))%(10**9+7)"
   ]
  }
 ],
 "metadata": {
  "kernelspec": {
   "display_name": "Python 3 (ipykernel)",
   "language": "python",
   "name": "python3"
  },
  "language_info": {
   "codemirror_mode": {
    "name": "ipython",
    "version": 3
   },
   "file_extension": ".py",
   "mimetype": "text/x-python",
   "name": "python",
   "nbconvert_exporter": "python",
   "pygments_lexer": "ipython3",
   "version": "3.9.8"
  }
 },
 "nbformat": 4,
 "nbformat_minor": 5
}

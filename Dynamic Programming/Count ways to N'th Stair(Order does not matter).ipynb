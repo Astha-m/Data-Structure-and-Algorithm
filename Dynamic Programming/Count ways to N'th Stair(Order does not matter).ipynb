{
 "cells": [
  {
   "cell_type": "code",
   "execution_count": 1,
   "id": "6edd9fd3",
   "metadata": {},
   "outputs": [
    {
     "data": {
      "text/plain": [
       "'\\nThere are N stairs, and a person standing \\nat the bottom wants to reach the top. The \\nperson can climb either 1 stair or 2 stairs \\nat a time. Count the number of ways, the person \\ncan reach the top (order does not matter).\\nNote: Order does not matter means for n=4 \\n{1 2 1},{2 1 1},{1 1 2} are considered same.\\n\\nExample 1:\\n\\nInput:\\nN = 4\\nOutput: 3\\nExplanation: You can reach 4th stair in\\n3 ways.\\n3 possible ways are:\\n1, 1, 1, 1\\n1, 1, 2\\n2, 2\\nExample 2:\\n\\nInput:\\nN = 5\\nOutput: 3\\nExplanation:\\nYou may reach the 5th stair in 3 ways.\\nThe 3 possible ways are:\\n1, 1, 1, 1, 1\\n1, 1, 1, 2\\n1, 2, 2\\nYour Task:\\nYour task is to complete the function countWays() \\nwhich takes single argument(N) and returns the answer.\\n\\nExpected Time Complexity: O(N)\\nExpected Auxiliary Space: O(N)\\n\\nConstraints:\\n1 <= N <= 106\\n\\n'"
      ]
     },
     "execution_count": 1,
     "metadata": {},
     "output_type": "execute_result"
    }
   ],
   "source": [
    "'''\n",
    "There are N stairs, and a person standing \n",
    "at the bottom wants to reach the top. The \n",
    "person can climb either 1 stair or 2 stairs \n",
    "at a time. Count the number of ways, the person \n",
    "can reach the top (order does not matter).\n",
    "Note: Order does not matter means for n=4 \n",
    "{1 2 1},{2 1 1},{1 1 2} are considered same.\n",
    "\n",
    "Example 1:\n",
    "\n",
    "Input:\n",
    "N = 4\n",
    "Output: 3\n",
    "Explanation: You can reach 4th stair in\n",
    "3 ways.\n",
    "3 possible ways are:\n",
    "1, 1, 1, 1\n",
    "1, 1, 2\n",
    "2, 2\n",
    "Example 2:\n",
    "\n",
    "Input:\n",
    "N = 5\n",
    "Output: 3\n",
    "Explanation:\n",
    "You may reach the 5th stair in 3 ways.\n",
    "The 3 possible ways are:\n",
    "1, 1, 1, 1, 1\n",
    "1, 1, 1, 2\n",
    "1, 2, 2\n",
    "Your Task:\n",
    "Your task is to complete the function countWays() \n",
    "which takes single argument(N) and returns the answer.\n",
    "\n",
    "Expected Time Complexity: O(N)\n",
    "Expected Auxiliary Space: O(N)\n",
    "\n",
    "Constraints:\n",
    "1 <= N <= 106\n",
    "\n",
    "'''"
   ]
  },
  {
   "cell_type": "code",
   "execution_count": null,
   "id": "7f7b36e7",
   "metadata": {},
   "outputs": [],
   "source": [
    "def countWays(self,m):\n",
    "        \n",
    "    mod = 1000000007\n",
    "    # code here\n",
    "    if(m==0):\n",
    "        return 0\n",
    "    if(m==1):\n",
    "        return 1\n",
    "    if(m==2):\n",
    "        return 2\n",
    "\n",
    "\n",
    "\n",
    "    dp=[-1]*(m+1)\n",
    "    dp[0]=0\n",
    "    dp[1]=1\n",
    "    dp[2]=2\n",
    "    for i in range(3,m+1):\n",
    "        if(i%2==0):\n",
    "            dp[i]=dp[i-1]+1\n",
    "        else:\n",
    "            dp[i]=dp[i-1]\n",
    "    return dp[m]%mod"
   ]
  }
 ],
 "metadata": {
  "kernelspec": {
   "display_name": "Python 3 (ipykernel)",
   "language": "python",
   "name": "python3"
  },
  "language_info": {
   "codemirror_mode": {
    "name": "ipython",
    "version": 3
   },
   "file_extension": ".py",
   "mimetype": "text/x-python",
   "name": "python",
   "nbconvert_exporter": "python",
   "pygments_lexer": "ipython3",
   "version": "3.9.8"
  }
 },
 "nbformat": 4,
 "nbformat_minor": 5
}

{
 "cells": [
  {
   "cell_type": "code",
   "execution_count": 1,
   "id": "c2f39ce6",
   "metadata": {},
   "outputs": [
    {
     "data": {
      "text/plain": [
       "'\\nGiven a gold mine called M of (n x m) dimensions. \\nEach field in this mine contains a positive integer which \\nis the amount of gold in tons. Initially the miner can start \\nfrom any row in the first column. From a given cell, the miner can move\\n\\nto the cell diagonally up towards the right \\nto the right\\nto the cell diagonally down towards the right\\nFind out maximum amount of gold which he can collect.\\n\\n\\nExample 1:\\n\\nInput: n = 3, m = 3\\nM = {{1, 3, 3},\\n     {2, 1, 4},\\n     {0, 6, 4}};\\nOutput: 12\\nExplaination: \\nThe path is {(1,0) -> (2,1) -> (2,2)}.\\n\\nExample 2:\\n\\nInput: n = 4, m = 4\\nM = {{1, 3, 1, 5},\\n     {2, 2, 4, 1},\\n     {5, 0, 2, 3},\\n     {0, 6, 1, 2}};\\nOutput: 16\\nExplaination: \\nThe path is {(2,0) -> (3,1) -> (2,2) \\n-> (2,3)} or {(2,0) -> (1,1) -> (1,2) \\n-> (0,3)}.\\n\\n\\n'"
      ]
     },
     "execution_count": 1,
     "metadata": {},
     "output_type": "execute_result"
    }
   ],
   "source": [
    "'''\n",
    "Given a gold mine called M of (n x m) dimensions. \n",
    "Each field in this mine contains a positive integer which \n",
    "is the amount of gold in tons. Initially the miner can start \n",
    "from any row in the first column. From a given cell, the miner can move\n",
    "\n",
    "to the cell diagonally up towards the right \n",
    "to the right\n",
    "to the cell diagonally down towards the right\n",
    "Find out maximum amount of gold which he can collect.\n",
    "\n",
    "\n",
    "Example 1:\n",
    "\n",
    "Input: n = 3, m = 3\n",
    "M = {{1, 3, 3},\n",
    "     {2, 1, 4},\n",
    "     {0, 6, 4}};\n",
    "Output: 12\n",
    "Explaination: \n",
    "The path is {(1,0) -> (2,1) -> (2,2)}.\n",
    "\n",
    "Example 2:\n",
    "\n",
    "Input: n = 4, m = 4\n",
    "M = {{1, 3, 1, 5},\n",
    "     {2, 2, 4, 1},\n",
    "     {5, 0, 2, 3},\n",
    "     {0, 6, 1, 2}};\n",
    "Output: 16\n",
    "Explaination: \n",
    "The path is {(2,0) -> (3,1) -> (2,2) \n",
    "-> (2,3)} or {(2,0) -> (1,1) -> (1,2) \n",
    "-> (0,3)}.\n",
    "\n",
    "\n",
    "'''"
   ]
  },
  {
   "cell_type": "code",
   "execution_count": null,
   "id": "865db22f",
   "metadata": {},
   "outputs": [],
   "source": [
    "def maxGold(self, n, m, M):\n",
    "        \n",
    "    def solve(dp,i,j,n,m,M):\n",
    "        if(i<0 or i>=n or j>=m):\n",
    "            return 0\n",
    "\n",
    "        if(dp[i][j]!=-1):\n",
    "            return dp[i][j]\n",
    "\n",
    "        #upward diag\n",
    "        x=M[i][j]+solve(dp,i-1,j+1,n,m,M)\n",
    "\n",
    "        #downward diagonally\n",
    "        y=M[i][j]+solve(dp,i+1,j+1,n,m,M)\n",
    "\n",
    "        #right\n",
    "        z=M[i][j]+solve(dp,i,j+1,n,m,M)\n",
    "\n",
    "        dp[i][j]=max(x,y,z)\n",
    "\n",
    "        return dp[i][j]\n",
    "\n",
    "\n",
    "\n",
    "\n",
    "    dp=[]\n",
    "    for i in range(n+1):\n",
    "        ls=[-1]*(m+1)\n",
    "        dp.append(ls)\n",
    "\n",
    "    maxi=0\n",
    "\n",
    "    for i in range(0,n):\n",
    "        ans=solve(dp,i,0,n,m,M)\n",
    "        maxi=max(maxi,ans)\n",
    "    return maxi"
   ]
  }
 ],
 "metadata": {
  "kernelspec": {
   "display_name": "Python 3 (ipykernel)",
   "language": "python",
   "name": "python3"
  },
  "language_info": {
   "codemirror_mode": {
    "name": "ipython",
    "version": 3
   },
   "file_extension": ".py",
   "mimetype": "text/x-python",
   "name": "python",
   "nbconvert_exporter": "python",
   "pygments_lexer": "ipython3",
   "version": "3.9.8"
  }
 },
 "nbformat": 4,
 "nbformat_minor": 5
}

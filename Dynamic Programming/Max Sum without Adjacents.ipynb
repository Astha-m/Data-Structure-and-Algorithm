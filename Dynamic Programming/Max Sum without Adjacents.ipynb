{
 "cells": [
  {
   "cell_type": "code",
   "execution_count": 1,
   "id": "dd7d95e3",
   "metadata": {},
   "outputs": [
    {
     "data": {
      "text/plain": [
       "'\\nGiven an array Arr of size N containing positive integers. \\nFind the maximum sum of a subsequence such that no two numbers \\nin the sequence should be adjacent in the array.\\n\\nExample 1:\\n\\nInput:\\nN = 6\\nArr[] = {5, 5, 10, 100, 10, 5}\\nOutput: 110\\nExplanation: If you take indices 0, 3\\nand 5, then Arr[0]+Arr[3]+Arr[5] =\\n5+100+5 = 110.\\nExample 2:\\n\\nInput:\\nN = 4\\nArr[] = {3, 2, 7, 10}\\nOutput: 13\\nExplanation: 3 and 10 forms a non\\ncontinuous  subsequence with maximum\\nsum.\\n\\n'"
      ]
     },
     "execution_count": 1,
     "metadata": {},
     "output_type": "execute_result"
    }
   ],
   "source": [
    "'''\n",
    "Given an array Arr of size N containing positive integers. \n",
    "Find the maximum sum of a subsequence such that no two numbers \n",
    "in the sequence should be adjacent in the array.\n",
    "\n",
    "Example 1:\n",
    "\n",
    "Input:\n",
    "N = 6\n",
    "Arr[] = {5, 5, 10, 100, 10, 5}\n",
    "Output: 110\n",
    "Explanation: If you take indices 0, 3\n",
    "and 5, then Arr[0]+Arr[3]+Arr[5] =\n",
    "5+100+5 = 110.\n",
    "Example 2:\n",
    "\n",
    "Input:\n",
    "N = 4\n",
    "Arr[] = {3, 2, 7, 10}\n",
    "Output: 13\n",
    "Explanation: 3 and 10 forms a non\n",
    "continuous  subsequence with maximum\n",
    "sum.\n",
    "\n",
    "'''"
   ]
  },
  {
   "cell_type": "code",
   "execution_count": null,
   "id": "e7d9c6a6",
   "metadata": {},
   "outputs": [],
   "source": [
    "def findMaxSum(self,arr, n):\n",
    "    dp=[-1]*(n)\n",
    "\n",
    "    dp[0]=arr[0]\n",
    "    if(n>1):\n",
    "        dp[1]=max(arr[0],arr[1])\n",
    "\n",
    "        for i in range(2,n):\n",
    "            take=arr[i]+dp[i-2]\n",
    "            notake=dp[i-1]\n",
    "            dp[i]=max(take,notake)\n",
    "    #print(dp)\n",
    "    return dp[-1]"
   ]
  }
 ],
 "metadata": {
  "kernelspec": {
   "display_name": "Python 3 (ipykernel)",
   "language": "python",
   "name": "python3"
  },
  "language_info": {
   "codemirror_mode": {
    "name": "ipython",
    "version": 3
   },
   "file_extension": ".py",
   "mimetype": "text/x-python",
   "name": "python",
   "nbconvert_exporter": "python",
   "pygments_lexer": "ipython3",
   "version": "3.9.8"
  }
 },
 "nbformat": 4,
 "nbformat_minor": 5
}

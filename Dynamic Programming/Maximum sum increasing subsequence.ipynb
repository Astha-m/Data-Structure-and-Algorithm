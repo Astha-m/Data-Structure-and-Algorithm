{
 "cells": [
  {
   "cell_type": "code",
   "execution_count": 1,
   "id": "d8f285d1",
   "metadata": {},
   "outputs": [
    {
     "data": {
      "text/plain": [
       "'\\nGiven an array of n positive integers. Find the sum of the maximum sum subsequence of the given array such \\nthat the integers in the subsequence are sorted in strictly increasing order i.e. a strictly increasing subsequence. \\n\\n\\nhttps://practice.geeksforgeeks.org/problems/maximum-sum-increasing-subsequence4749/1?page=10&company[]=Amazon&sortBy=submissions\\n'"
      ]
     },
     "execution_count": 1,
     "metadata": {},
     "output_type": "execute_result"
    }
   ],
   "source": [
    "'''\n",
    "Given an array of n positive integers. Find the sum of the maximum sum subsequence of the given array such \n",
    "that the integers in the subsequence are sorted in strictly increasing order i.e. a strictly increasing subsequence. \n",
    "\n",
    "\n",
    "https://practice.geeksforgeeks.org/problems/maximum-sum-increasing-subsequence4749/1?page=10&company[]=Amazon&sortBy=submissions\n",
    "'''"
   ]
  },
  {
   "cell_type": "code",
   "execution_count": 2,
   "id": "31da5a1f",
   "metadata": {},
   "outputs": [],
   "source": [
    "def maxSumIS(self, arr, n):\n",
    "        # code here\n",
    "        \n",
    "        dp=[0]*n\n",
    "        dp[0]=arr[0]\n",
    "        \n",
    "        maxi=arr[0]\n",
    "        \n",
    "        for i in range(1,n):\n",
    "            dp[i]=arr[i]\n",
    "            for j in range(i):\n",
    "                if(arr[j]<arr[i]):\n",
    "                    dp[i]=max(dp[i],arr[i]+dp[j])\n",
    "            maxi=max(maxi,dp[i])\n",
    "        return maxi"
   ]
  },
  {
   "cell_type": "code",
   "execution_count": null,
   "id": "9d6f13f9",
   "metadata": {},
   "outputs": [],
   "source": [
    "'''\n",
    "Input: N = 5, arr[] = {1, 101, 2, 3, 100} \n",
    "Output: 106\n",
    "Explanation:The maximum sum of a\n",
    "increasing sequence is obtained from\n",
    "{1, 2, 3, 100}\n",
    "'''"
   ]
  }
 ],
 "metadata": {
  "kernelspec": {
   "display_name": "Python 3 (ipykernel)",
   "language": "python",
   "name": "python3"
  },
  "language_info": {
   "codemirror_mode": {
    "name": "ipython",
    "version": 3
   },
   "file_extension": ".py",
   "mimetype": "text/x-python",
   "name": "python",
   "nbconvert_exporter": "python",
   "pygments_lexer": "ipython3",
   "version": "3.9.8"
  }
 },
 "nbformat": 4,
 "nbformat_minor": 5
}

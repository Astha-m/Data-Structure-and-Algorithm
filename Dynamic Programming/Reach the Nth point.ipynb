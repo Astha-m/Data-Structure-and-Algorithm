{
 "cells": [
  {
   "cell_type": "code",
   "execution_count": 1,
   "id": "c5ca5338",
   "metadata": {},
   "outputs": [
    {
     "data": {
      "text/plain": [
       "'\\nThere are N points on the road ,you can step ahead by 1 or 2 . \\nFind the number of ways you can reach at point N. \\n\\nExample 1:\\n\\nInput: N = 4\\nOutput: 5\\nExplanation: Three ways to reach at 4th\\npoint. They are {1, 1, 1, 1}, {1, 1, 2},\\n{1, 2, 1} {2, 1, 1}, {2, 2}.\\n\\nExample 2:\\n\\nInput: N = 5\\nOutput: 8\\nExplanation: Three ways to reach at 5th\\npoint. They are {1, 1, 1, 1, 1},\\n{1, 1, 1, 2}, {1, 1, 2, 1}, {1, 2, 1, 1},\\n{2, 1, 1, 1}{1, 2, 2}, {2, 1, 2}, {2, 2, 1}\\n\\n'"
      ]
     },
     "execution_count": 1,
     "metadata": {},
     "output_type": "execute_result"
    }
   ],
   "source": [
    "'''\n",
    "There are N points on the road ,you can step ahead by 1 or 2 . \n",
    "Find the number of ways you can reach at point N. \n",
    "\n",
    "Example 1:\n",
    "\n",
    "Input: N = 4\n",
    "Output: 5\n",
    "Explanation: Three ways to reach at 4th\n",
    "point. They are {1, 1, 1, 1}, {1, 1, 2},\n",
    "{1, 2, 1} {2, 1, 1}, {2, 2}.\n",
    "\n",
    "Example 2:\n",
    "\n",
    "Input: N = 5\n",
    "Output: 8\n",
    "Explanation: Three ways to reach at 5th\n",
    "point. They are {1, 1, 1, 1, 1},\n",
    "{1, 1, 1, 2}, {1, 1, 2, 1}, {1, 2, 1, 1},\n",
    "{2, 1, 1, 1}{1, 2, 2}, {2, 1, 2}, {2, 2, 1}\n",
    "\n",
    "'''"
   ]
  },
  {
   "cell_type": "code",
   "execution_count": null,
   "id": "50d3e4a8",
   "metadata": {},
   "outputs": [],
   "source": [
    "def nthPoint(self,n):\n",
    "    dp=[-1]*(n+1)\n",
    "\n",
    "    if(n==1):\n",
    "        return 1\n",
    "\n",
    "\n",
    "    dp[0]=0\n",
    "    dp[1]=1\n",
    "    dp[2]=2\n",
    "    for i in range(3,n+1):\n",
    "        dp[i]=dp[i-1]+dp[i-2]\n",
    "    return dp[n]%(10**9+7)"
   ]
  }
 ],
 "metadata": {
  "kernelspec": {
   "display_name": "Python 3 (ipykernel)",
   "language": "python",
   "name": "python3"
  },
  "language_info": {
   "codemirror_mode": {
    "name": "ipython",
    "version": 3
   },
   "file_extension": ".py",
   "mimetype": "text/x-python",
   "name": "python",
   "nbconvert_exporter": "python",
   "pygments_lexer": "ipython3",
   "version": "3.9.8"
  }
 },
 "nbformat": 4,
 "nbformat_minor": 5
}

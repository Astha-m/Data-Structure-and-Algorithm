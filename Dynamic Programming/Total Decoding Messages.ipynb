{
 "cells": [
  {
   "cell_type": "code",
   "execution_count": 1,
   "id": "b0587eae",
   "metadata": {},
   "outputs": [
    {
     "data": {
      "text/plain": [
       "'\\nA top secret message containing letters from A-Z is being encoded to numbers using the following mapping:\\n\\n\\'A\\' -> 1\\n\\'B\\' -> 2\\n...\\n\\'Z\\' -> 26\\nYou are an FBI agent. You have to determine the total number of ways that message can be decoded, \\n\\nas the answer can be large return the answer modulo 109 + 7.\\nNote: An empty digit sequence is considered to \\nhave one decoding. It may be assumed that the input contains \\nvalid digits from 0 to 9 and If there are leading 0’s, extra trailing \\n0’s and two or more consecutive 0’s then it is an invalid string.\\n\\nExample 1:\\n\\nInput: str = \"123\"\\nOutput: 3\\nExplanation: \"123\" can be decoded as \"ABC\"(123),\\n\"LC\"(12 3) and \"AW\"(1 23).\\nExample 2:\\n\\nInput: str = \"27\"\\nOutput: 1\\nExplanation: \"27\" can be decoded as \"BG\".\\n \\n\\nYour Task:\\nYou don\\'t need to read or print anything. Your task is to complete \\nthe function CountWays() which takes the string as str as input \\nparameter and returns the total number of ways the string can be \\ndecoded modulo 109 + 7.\\n'"
      ]
     },
     "execution_count": 1,
     "metadata": {},
     "output_type": "execute_result"
    }
   ],
   "source": [
    "'''\n",
    "A top secret message containing letters from A-Z is being encoded to numbers using the following mapping:\n",
    "\n",
    "'A' -> 1\n",
    "'B' -> 2\n",
    "...\n",
    "'Z' -> 26\n",
    "You are an FBI agent. You have to determine the total number of ways that message can be decoded, \n",
    "\n",
    "as the answer can be large return the answer modulo 109 + 7.\n",
    "Note: An empty digit sequence is considered to \n",
    "have one decoding. It may be assumed that the input contains \n",
    "valid digits from 0 to 9 and If there are leading 0’s, extra trailing \n",
    "0’s and two or more consecutive 0’s then it is an invalid string.\n",
    "\n",
    "Example 1:\n",
    "\n",
    "Input: str = \"123\"\n",
    "Output: 3\n",
    "Explanation: \"123\" can be decoded as \"ABC\"(123),\n",
    "\"LC\"(12 3) and \"AW\"(1 23).\n",
    "Example 2:\n",
    "\n",
    "Input: str = \"27\"\n",
    "Output: 1\n",
    "Explanation: \"27\" can be decoded as \"BG\".\n",
    " \n",
    "\n",
    "Your Task:\n",
    "You don't need to read or print anything. Your task is to complete \n",
    "the function CountWays() which takes the string as str as input \n",
    "parameter and returns the total number of ways the string can be \n",
    "decoded modulo 109 + 7.\n",
    "'''"
   ]
  },
  {
   "cell_type": "code",
   "execution_count": null,
   "id": "23d0887f",
   "metadata": {},
   "outputs": [],
   "source": [
    "def CountWays(self, strg):\n",
    "    n=len(strg)\n",
    "    if(strg[0]=='0'):\n",
    "        return 0\n",
    "\n",
    "    for i in range(1,n-1):\n",
    "        if(strg[i]=='0' and strg[i-1]=='0'):\n",
    "            return 0\n",
    "        if(strg[i]=='0' and int(strg[i-1])>=3):\n",
    "            return 0\n",
    "\n",
    "    mod=10**9+7\n",
    "    dp=[0]*(n+1)\n",
    "    dp[0]=1\n",
    "    dp[1]=1\n",
    "\n",
    "    for i in range(2,n+1):\n",
    "        if(strg[i-1]!='0'):\n",
    "            dp[i]=dp[i]+dp[i-1]\n",
    "        if(int(strg[i-2:i])<=26 and strg[i-2]!='0'):\n",
    "            dp[i]=dp[i]+dp[i-2]\n",
    "\n",
    "        dp[i]=dp[i]%mod\n",
    "    return dp[-1]"
   ]
  }
 ],
 "metadata": {
  "kernelspec": {
   "display_name": "Python 3 (ipykernel)",
   "language": "python",
   "name": "python3"
  },
  "language_info": {
   "codemirror_mode": {
    "name": "ipython",
    "version": 3
   },
   "file_extension": ".py",
   "mimetype": "text/x-python",
   "name": "python",
   "nbconvert_exporter": "python",
   "pygments_lexer": "ipython3",
   "version": "3.9.8"
  }
 },
 "nbformat": 4,
 "nbformat_minor": 5
}

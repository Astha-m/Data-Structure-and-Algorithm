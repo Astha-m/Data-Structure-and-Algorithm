{
 "cells": [
  {
   "cell_type": "code",
   "execution_count": 1,
   "id": "8b342bf8",
   "metadata": {},
   "outputs": [
    {
     "data": {
      "text/plain": [
       "'\\nGiven two strings \\'str\\' and a wildcard pattern \\'pattern\\' of length N and M \\nrespectively,  You have to print \\'1\\' if the wildcard pattern is matched with str else print \\'0\\' .\\n\\nThe wildcard pattern can include the characters ‘?’ and ‘*’\\n‘?’ – matches any single character\\n‘*’ – Matches any sequence of characters (including the empty sequence)\\n\\nNote: The matching should cover the entire str (not partial str).\\n\\n \\n\\nExample 1:\\n\\nInput:\\npattern = \"ba*a?\"\\nstr = \"baaabab\"\\nOutput: 1\\nExplanation: replace \\'*\\' with \"aab\" and \\n\\'?\\' with \\'b\\'. \\nExample 2:\\n\\nInput:\\npattern = \"a*ab\"\\nstr = \"baaabab\"\\nOutput: 0\\nExplanation: Because of\\'a\\' at first position,\\npattern and str can\\'t be matched. \\n\\nYour Task:\\nYou don\\'t need to read input or print anything. Your task is \\nto complete the function wildCard() which takes the two strings\\n\\'pattern\\' and \\'str\\' as input parameters and returns the answer.\\n\\n'"
      ]
     },
     "execution_count": 1,
     "metadata": {},
     "output_type": "execute_result"
    }
   ],
   "source": [
    "'''\n",
    "Given two strings 'str' and a wildcard pattern 'pattern' of length N and M \n",
    "respectively,  You have to print '1' if the wildcard pattern is matched with str else print '0' .\n",
    "\n",
    "The wildcard pattern can include the characters ‘?’ and ‘*’\n",
    "‘?’ – matches any single character\n",
    "‘*’ – Matches any sequence of characters (including the empty sequence)\n",
    "\n",
    "Note: The matching should cover the entire str (not partial str).\n",
    "\n",
    " \n",
    "\n",
    "Example 1:\n",
    "\n",
    "Input:\n",
    "pattern = \"ba*a?\"\n",
    "str = \"baaabab\"\n",
    "Output: 1\n",
    "Explanation: replace '*' with \"aab\" and \n",
    "'?' with 'b'. \n",
    "Example 2:\n",
    "\n",
    "Input:\n",
    "pattern = \"a*ab\"\n",
    "str = \"baaabab\"\n",
    "Output: 0\n",
    "Explanation: Because of'a' at first position,\n",
    "pattern and str can't be matched. \n",
    "\n",
    "Your Task:\n",
    "You don't need to read input or print anything. Your task is \n",
    "to complete the function wildCard() which takes the two strings\n",
    "'pattern' and 'str' as input parameters and returns the answer.\n",
    "\n",
    "'''"
   ]
  },
  {
   "cell_type": "code",
   "execution_count": null,
   "id": "932e4199",
   "metadata": {},
   "outputs": [],
   "source": [
    "def wildCard(self,pattern, string):\n",
    "    n=len(pattern)\n",
    "    m=len(string)\n",
    "    dp=[]\n",
    "    for i in range(n+1):\n",
    "        dp.append([False]*(m+1))\n",
    "\n",
    "    dp[0][0]=True\n",
    "\n",
    "    for j in range(1,m+1):\n",
    "        dp[0][j]=False\n",
    "\n",
    "    for i in range(1,n+1):\n",
    "        if(pattern[i-1]=='*'):\n",
    "            dp[i][0]=dp[i-1][0]\n",
    "\n",
    "    for i in range(1,n+1):\n",
    "        for j in range(1,m+1):\n",
    "            if(pattern[i-1]==string[j-1] or pattern[i-1]=='?'):\n",
    "                dp[i][j]=dp[i-1][j-1]\n",
    "\n",
    "            elif(pattern[i-1]=='*'):\n",
    "                dp[i][j]=dp[i-1][j] or dp[i][j-1]\n",
    "\n",
    "            else:\n",
    "                dp[i][j]=False\n",
    "    return dp[n][m]"
   ]
  }
 ],
 "metadata": {
  "kernelspec": {
   "display_name": "Python 3 (ipykernel)",
   "language": "python",
   "name": "python3"
  },
  "language_info": {
   "codemirror_mode": {
    "name": "ipython",
    "version": 3
   },
   "file_extension": ".py",
   "mimetype": "text/x-python",
   "name": "python",
   "nbconvert_exporter": "python",
   "pygments_lexer": "ipython3",
   "version": "3.9.8"
  }
 },
 "nbformat": 4,
 "nbformat_minor": 5
}

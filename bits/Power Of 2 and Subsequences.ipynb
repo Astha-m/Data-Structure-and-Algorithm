{
 "cells": [
  {
   "cell_type": "code",
   "execution_count": 1,
   "id": "a27a983b",
   "metadata": {},
   "outputs": [
    {
     "data": {
      "text/plain": [
       "\"\\nhttps://practice.geeksforgeeks.org/problems/power-of-2-and-subsequences0759/1\\n\\nGiven is an array A[] of size N. Return the number of non-empty subsequences\\nsuch that the product of all numbers in the subsequence is Power of 2. \\nSince the answer may be too large, return it modulo 109 + 7.\\n\\nExample 1:\\n\\nInput:\\nN = 3\\nA[] = {1, 6, 2}\\nOutput:\\n3\\nExplanation:\\nThe subsequence that \\ncan be chosen is {1},\\n{2} and {1,2}.\\nExample 2:\\n\\nInput:\\nN = 3\\nA[] = {3, 5, 7}\\nOutput:\\n0\\nExplanation:\\nNo subsequences exist.\\nYour Task:\\n\\nYou don't need to read input or print anything. Your task is to \\ncomplete the function numberOfSubsequences() which takes an integer\\nN and an array A and returns the number of subsequences that exist.\\nAs this number can be very large return the result under modulo 109+7.\\n\\nExpected Time Complexity: O(N)\\nExpected Auxiliary Space: O(1)\\n\\n\""
      ]
     },
     "execution_count": 1,
     "metadata": {},
     "output_type": "execute_result"
    }
   ],
   "source": [
    "'''\n",
    "https://practice.geeksforgeeks.org/problems/power-of-2-and-subsequences0759/1\n",
    "\n",
    "Given is an array A[] of size N. Return the number of non-empty subsequences\n",
    "such that the product of all numbers in the subsequence is Power of 2. \n",
    "Since the answer may be too large, return it modulo 109 + 7.\n",
    "\n",
    "Example 1:\n",
    "\n",
    "Input:\n",
    "N = 3\n",
    "A[] = {1, 6, 2}\n",
    "Output:\n",
    "3\n",
    "Explanation:\n",
    "The subsequence that \n",
    "can be chosen is {1},\n",
    "{2} and {1,2}.\n",
    "Example 2:\n",
    "\n",
    "Input:\n",
    "N = 3\n",
    "A[] = {3, 5, 7}\n",
    "Output:\n",
    "0\n",
    "Explanation:\n",
    "No subsequences exist.\n",
    "Your Task:\n",
    "\n",
    "You don't need to read input or print anything. Your task is to \n",
    "complete the function numberOfSubsequences() which takes an integer\n",
    "N and an array A and returns the number of subsequences that exist.\n",
    "As this number can be very large return the result under modulo 109+7.\n",
    "\n",
    "Expected Time Complexity: O(N)\n",
    "Expected Auxiliary Space: O(1)\n",
    "\n",
    "'''"
   ]
  },
  {
   "cell_type": "code",
   "execution_count": null,
   "id": "356f0b9c",
   "metadata": {},
   "outputs": [],
   "source": [
    "def numberOfSubsequences (self,n,arr):\n",
    "    count=0\n",
    "    for i in range(n):\n",
    "        if(arr[i]&(arr[i]-1)==0):\n",
    "            count+=1\n",
    "\n",
    "    mod=10**9+7\n",
    "    ans=1\n",
    "    for i in range(count):\n",
    "        ans*=2\n",
    "        ans=ans%mod\n",
    "\n",
    "    return ans-1\n"
   ]
  }
 ],
 "metadata": {
  "kernelspec": {
   "display_name": "Python 3 (ipykernel)",
   "language": "python",
   "name": "python3"
  },
  "language_info": {
   "codemirror_mode": {
    "name": "ipython",
    "version": 3
   },
   "file_extension": ".py",
   "mimetype": "text/x-python",
   "name": "python",
   "nbconvert_exporter": "python",
   "pygments_lexer": "ipython3",
   "version": "3.10.7"
  }
 },
 "nbformat": 4,
 "nbformat_minor": 5
}

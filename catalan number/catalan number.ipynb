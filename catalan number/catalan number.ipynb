{
 "cells": [
  {
   "cell_type": "code",
   "execution_count": 4,
   "id": "53d0de39",
   "metadata": {},
   "outputs": [],
   "source": [
    "def catalan(n):\n",
    "    dp=[0]*(n+1)\n",
    "    dp[0]=1\n",
    "    for i in range(1,n+1):\n",
    "        dp[i]=0\n",
    "        \n",
    "        for j in range(i):\n",
    "            dp[i]+=dp[j]*dp[i-j-1]\n",
    "    \n",
    "    return dp[n]"
   ]
  },
  {
   "cell_type": "code",
   "execution_count": 7,
   "id": "83936f53",
   "metadata": {},
   "outputs": [
    {
     "data": {
      "text/plain": [
       "14"
      ]
     },
     "execution_count": 7,
     "metadata": {},
     "output_type": "execute_result"
    }
   ],
   "source": [
    "catalan(4)"
   ]
  },
  {
   "cell_type": "code",
   "execution_count": null,
   "id": "9092d02f",
   "metadata": {},
   "outputs": [],
   "source": []
  }
 ],
 "metadata": {
  "kernelspec": {
   "display_name": "Python 3 (ipykernel)",
   "language": "python",
   "name": "python3"
  },
  "language_info": {
   "codemirror_mode": {
    "name": "ipython",
    "version": 3
   },
   "file_extension": ".py",
   "mimetype": "text/x-python",
   "name": "python",
   "nbconvert_exporter": "python",
   "pygments_lexer": "ipython3",
   "version": "3.9.8"
  }
 },
 "nbformat": 4,
 "nbformat_minor": 5
}

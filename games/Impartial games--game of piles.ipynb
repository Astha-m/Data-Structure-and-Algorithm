{
 "cells": [
  {
   "cell_type": "code",
   "execution_count": 1,
   "id": "4425bb02",
   "metadata": {},
   "outputs": [
    {
     "data": {
      "text/plain": [
       "'\\nthese are the games in which typically there are two players and each of them plays smartly\\nand each of them knows what the next move of the other player might be \\nthese are not the games in which we have game of chances like that of playing dice\\nof game of unkown like the game of cards.\\n\\nthese games are mostly like the game of nim\\n\\n'"
      ]
     },
     "execution_count": 1,
     "metadata": {},
     "output_type": "execute_result"
    }
   ],
   "source": [
    "'''\n",
    "these are the games in which typically there are two players and each of them plays smartly\n",
    "and each of them knows what the next move of the other player might be \n",
    "these are not the games in which we have game of chances like that of playing dice\n",
    "of game of unkown like the game of cards.\n",
    "\n",
    "these games are mostly like the game of nim\n",
    "\n",
    "'''"
   ]
  },
  {
   "cell_type": "code",
   "execution_count": 3,
   "id": "4b6c8a53",
   "metadata": {},
   "outputs": [
    {
     "name": "stdout",
     "output_type": "stream",
     "text": [
      "2nd player\n"
     ]
    }
   ],
   "source": [
    "'''\n",
    "given n piles of coins each of the two players can pick a coin on its own turn.\n",
    "the player that makes the last move will be the winner\n",
    "\n",
    "ex:-\n",
    "n=4,\n",
    "winner-2nd player\n",
    "\n",
    "n=3,\n",
    "winner-1st player\n",
    "'''\n",
    "\n",
    "def piles_1(n):\n",
    "    if(n%2==0):\n",
    "        print('2nd player')\n",
    "    else:\n",
    "        print('1st player')\n",
    "piles_1(4)"
   ]
  },
  {
   "cell_type": "code",
   "execution_count": 4,
   "id": "5db00093",
   "metadata": {},
   "outputs": [
    {
     "name": "stdout",
     "output_type": "stream",
     "text": [
      "1st player\n"
     ]
    }
   ],
   "source": [
    "'''\n",
    "given n piles of coins each of the two players can pick 1 coin or 2coin on its own turn.\n",
    "the player that makes the last move will be the winner.\n",
    "\n",
    "ex:-\n",
    "n=5,\n",
    "winner-1st player\n",
    "\n",
    "n=3,\n",
    "winner-2nd player\n",
    "\n",
    "'''\n",
    "\n",
    "def piles_2(n):\n",
    "    if(n%3==0):\n",
    "        print('2nd player')\n",
    "    else:\n",
    "        print('1st player')\n",
    "piles_2(5)"
   ]
  },
  {
   "cell_type": "code",
   "execution_count": 5,
   "id": "c1763c14",
   "metadata": {},
   "outputs": [
    {
     "name": "stdout",
     "output_type": "stream",
     "text": [
      "1st player\n"
     ]
    }
   ],
   "source": [
    "'''\n",
    "given n piles of coins each of the two players can pick 1 coin to k coin on its own turn.\n",
    "the player that makes the last move will be the winner.\n",
    "\n",
    "ex-\n",
    "n=7\n",
    "k=3\n",
    "winner-1st player\n",
    "\n",
    "'''\n",
    "def piles_k(n,k):\n",
    "    if(n%(k+1)==0):\n",
    "        print('2nd player')\n",
    "    else:\n",
    "        print('1st player')\n",
    "piles_k(7,3)"
   ]
  },
  {
   "cell_type": "code",
   "execution_count": null,
   "id": "6a3ed4ee",
   "metadata": {},
   "outputs": [],
   "source": []
  }
 ],
 "metadata": {
  "kernelspec": {
   "display_name": "Python 3 (ipykernel)",
   "language": "python",
   "name": "python3"
  },
  "language_info": {
   "codemirror_mode": {
    "name": "ipython",
    "version": 3
   },
   "file_extension": ".py",
   "mimetype": "text/x-python",
   "name": "python",
   "nbconvert_exporter": "python",
   "pygments_lexer": "ipython3",
   "version": "3.9.8"
  }
 },
 "nbformat": 4,
 "nbformat_minor": 5
}

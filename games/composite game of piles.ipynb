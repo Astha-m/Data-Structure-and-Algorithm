{
 "cells": [
  {
   "cell_type": "code",
   "execution_count": 1,
   "id": "2306e30a",
   "metadata": {},
   "outputs": [
    {
     "data": {
      "text/plain": [
       "'\\nin this game there are two piles of coins and there are two players,\\nthe condition on picking the coin is that we can pick coins from one pile at a time\\nthere will be given set of picks , we need to find the winner.\\n\\n'"
      ]
     },
     "execution_count": 1,
     "metadata": {},
     "output_type": "execute_result"
    }
   ],
   "source": [
    "'''\n",
    "in this game there are two piles of coins and there are two players,\n",
    "the condition on picking the coin is that we can pick coins from one pile at a time\n",
    "there will be given set of picks , we need to find the winner.\n",
    "\n",
    "'''"
   ]
  },
  {
   "cell_type": "code",
   "execution_count": 2,
   "id": "5548eaf0",
   "metadata": {},
   "outputs": [],
   "source": [
    "def grundy(n,picks):\n",
    "    dp=[0]*(n+1)\n",
    "    dp[0]=0\n",
    "    \n",
    "    for i in range(1,n+1):\n",
    "        mex=set()\n",
    "        for j in picks:\n",
    "            if(i-j>=0):\n",
    "                mex.add(dp[i-j])\n",
    "        \n",
    "        for j in range(len(mex)+1):\n",
    "            if(j not in mex):\n",
    "                dp[i]=j\n",
    "                break\n",
    "    return dp[n]\n",
    "\n",
    "\n",
    "\n",
    "def find_winner(n1,n2,picks):\n",
    "    \n",
    "    if(grundy(n1,picks)==grundy(n2,picks)):\n",
    "        return '2nd'\n",
    "    else:\n",
    "        return '1st'"
   ]
  },
  {
   "cell_type": "code",
   "execution_count": 5,
   "id": "093b01eb",
   "metadata": {},
   "outputs": [
    {
     "data": {
      "text/plain": [
       "'1st'"
      ]
     },
     "execution_count": 5,
     "metadata": {},
     "output_type": "execute_result"
    }
   ],
   "source": [
    "find_winner(11,6,[1,5,3])"
   ]
  },
  {
   "cell_type": "code",
   "execution_count": null,
   "id": "3b0bd2e2",
   "metadata": {},
   "outputs": [],
   "source": []
  }
 ],
 "metadata": {
  "kernelspec": {
   "display_name": "Python 3 (ipykernel)",
   "language": "python",
   "name": "python3"
  },
  "language_info": {
   "codemirror_mode": {
    "name": "ipython",
    "version": 3
   },
   "file_extension": ".py",
   "mimetype": "text/x-python",
   "name": "python",
   "nbconvert_exporter": "python",
   "pygments_lexer": "ipython3",
   "version": "3.9.8"
  }
 },
 "nbformat": 4,
 "nbformat_minor": 5
}

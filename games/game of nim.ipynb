{
 "cells": [
  {
   "cell_type": "code",
   "execution_count": 1,
   "id": "82caa15a",
   "metadata": {},
   "outputs": [
    {
     "data": {
      "text/plain": [
       "'\\ngiven a pile of coins as an array. there are two players in the game. \\neach player can pick any number of coins from one pile at a time \\n\\nex:-\\n\\n[1,2,3]\\nwinner--2nd\\n\\n[2,3,4]\\nwinner--1st\\n\\n[7,20,7,20]\\nwinner--2nd\\n\\n[7,20,10,5,15]\\nwinner--1st\\n\\n[4,2,4,2,5]\\nwinner--2nd\\n'"
      ]
     },
     "execution_count": 1,
     "metadata": {},
     "output_type": "execute_result"
    }
   ],
   "source": [
    "'''\n",
    "given a pile of coins as an array. there are two players in the game. \n",
    "each player can pick any number of coins from one pile at a time \n",
    "\n",
    "ex:-\n",
    "\n",
    "[1,2,3]\n",
    "winner--2nd\n",
    "\n",
    "[2,3,4]\n",
    "winner--1st\n",
    "\n",
    "[7,20,7,20]\n",
    "winner--2nd\n",
    "\n",
    "[7,20,10,5,15]\n",
    "winner--1st\n",
    "\n",
    "[4,2,4,2,5]\n",
    "winner--2nd\n",
    "\n",
    "\n",
    "\n",
    "\n",
    "'''"
   ]
  },
  {
   "cell_type": "code",
   "execution_count": 4,
   "id": "bcadd442",
   "metadata": {},
   "outputs": [],
   "source": [
    "def game_of_nim(arr):\n",
    "    grundy=0\n",
    "    for i in arr:\n",
    "        grundy^=i\n",
    "    \n",
    "    return '1st' if(grundy>0) else '2nd'"
   ]
  },
  {
   "cell_type": "code",
   "execution_count": 5,
   "id": "b9940a8c",
   "metadata": {},
   "outputs": [
    {
     "data": {
      "text/plain": [
       "'1st'"
      ]
     },
     "execution_count": 5,
     "metadata": {},
     "output_type": "execute_result"
    }
   ],
   "source": [
    "game_of_nim([7,20,10,5,15])"
   ]
  },
  {
   "cell_type": "code",
   "execution_count": null,
   "id": "c068430f",
   "metadata": {},
   "outputs": [],
   "source": []
  }
 ],
 "metadata": {
  "kernelspec": {
   "display_name": "Python 3 (ipykernel)",
   "language": "python",
   "name": "python3"
  },
  "language_info": {
   "codemirror_mode": {
    "name": "ipython",
    "version": 3
   },
   "file_extension": ".py",
   "mimetype": "text/x-python",
   "name": "python",
   "nbconvert_exporter": "python",
   "pygments_lexer": "ipython3",
   "version": "3.9.8"
  }
 },
 "nbformat": 4,
 "nbformat_minor": 5
}

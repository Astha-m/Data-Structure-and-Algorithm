{
 "cells": [
  {
   "cell_type": "code",
   "execution_count": 6,
   "id": "32be20bb",
   "metadata": {},
   "outputs": [
    {
     "name": "stdout",
     "output_type": "stream",
     "text": [
      "[0, 1, 2, 3, 0]\n"
     ]
    },
    {
     "data": {
      "text/plain": [
       "'2nd'"
      ]
     },
     "execution_count": 6,
     "metadata": {},
     "output_type": "execute_result"
    }
   ],
   "source": [
    "def find_winner(n,picks):\n",
    "    grundy=[0]*(n+1)\n",
    "    grundy[0]=0\n",
    "    \n",
    "    for i in range(1,n+1):\n",
    "        mex=set()\n",
    "        for j in picks:\n",
    "            if(i-j>=0):\n",
    "                mex.add(grundy[i-j])\n",
    "        for j in range(len(mex)+1):\n",
    "            if(j not in mex):\n",
    "                grundy[i]=j\n",
    "                break\n",
    "    print(grundy)\n",
    "    if(grundy[n]>0):\n",
    "        return '1st'\n",
    "    else:\n",
    "        return '2nd'\n",
    "find_winner(4,[1,2,3])"
   ]
  },
  {
   "cell_type": "code",
   "execution_count": null,
   "id": "dd624ab2",
   "metadata": {},
   "outputs": [],
   "source": []
  }
 ],
 "metadata": {
  "kernelspec": {
   "display_name": "Python 3 (ipykernel)",
   "language": "python",
   "name": "python3"
  },
  "language_info": {
   "codemirror_mode": {
    "name": "ipython",
    "version": 3
   },
   "file_extension": ".py",
   "mimetype": "text/x-python",
   "name": "python",
   "nbconvert_exporter": "python",
   "pygments_lexer": "ipython3",
   "version": "3.9.8"
  }
 },
 "nbformat": 4,
 "nbformat_minor": 5
}

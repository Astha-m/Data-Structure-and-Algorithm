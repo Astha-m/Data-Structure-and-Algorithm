{
 "cells": [
  {
   "cell_type": "code",
   "execution_count": 10,
   "id": "6a4e2ecb",
   "metadata": {},
   "outputs": [],
   "source": [
    "\n",
    "def grundy(n,picks):\n",
    "    if(n==0):\n",
    "        return 0\n",
    "    mex=set()\n",
    "    for i in picks:\n",
    "        if(n-i>=0):\n",
    "            mex.add(grundy(n-i,picks))\n",
    "    print(n,mex)\n",
    "    for i in range(len(mex)+1):\n",
    "        if(i not in mex):\n",
    "            return i\n",
    "\n",
    "def find_winner(n,picks):\n",
    "    if(grundy(n,picks)>0):\n",
    "        return '1st'\n",
    "    else:\n",
    "        return '2nd'"
   ]
  },
  {
   "cell_type": "code",
   "execution_count": 11,
   "id": "c1d0d8ff",
   "metadata": {},
   "outputs": [
    {
     "name": "stdout",
     "output_type": "stream",
     "text": [
      "1 {0}\n",
      "2 {0, 1}\n",
      "1 {0}\n",
      "3 {0, 1, 2}\n",
      "1 {0}\n",
      "2 {0, 1}\n",
      "1 {0}\n",
      "4 {1, 2, 3}\n"
     ]
    },
    {
     "data": {
      "text/plain": [
       "'2nd'"
      ]
     },
     "execution_count": 11,
     "metadata": {},
     "output_type": "execute_result"
    }
   ],
   "source": [
    "find_winner(4,[1,2,3])"
   ]
  },
  {
   "cell_type": "code",
   "execution_count": null,
   "id": "8add7aaf",
   "metadata": {},
   "outputs": [],
   "source": []
  }
 ],
 "metadata": {
  "kernelspec": {
   "display_name": "Python 3 (ipykernel)",
   "language": "python",
   "name": "python3"
  },
  "language_info": {
   "codemirror_mode": {
    "name": "ipython",
    "version": 3
   },
   "file_extension": ".py",
   "mimetype": "text/x-python",
   "name": "python",
   "nbconvert_exporter": "python",
   "pygments_lexer": "ipython3",
   "version": "3.9.8"
  }
 },
 "nbformat": 4,
 "nbformat_minor": 5
}

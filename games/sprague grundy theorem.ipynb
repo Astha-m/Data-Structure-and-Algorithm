{
 "cells": [
  {
   "cell_type": "code",
   "execution_count": 1,
   "id": "9349dcb5",
   "metadata": {},
   "outputs": [
    {
     "data": {
      "text/plain": [
       "'\\naccording to this theorem if we have multiple piles of coins and two players for the game\\nthen grundy number of entire game will be bitwise xor of individual grundy number of individual pile of coin\\n\\ngrundy(n1,n2,n3)=grundy(n1)^grundy(n2)^grundy(n3)\\n\\n\\n'"
      ]
     },
     "execution_count": 1,
     "metadata": {},
     "output_type": "execute_result"
    }
   ],
   "source": [
    "'''\n",
    "according to this theorem if we have multiple piles of coins and two players for the game\n",
    "then grundy number of entire game will be bitwise xor of individual grundy number of individual pile of coin\n",
    "\n",
    "grundy(n1,n2,n3)=grundy(n1)^grundy(n2)^grundy(n3)\n",
    "\n",
    "\n",
    "'''"
   ]
  },
  {
   "cell_type": "code",
   "execution_count": 2,
   "id": "78158bde",
   "metadata": {},
   "outputs": [],
   "source": [
    "def grundy(n,picks):\n",
    "    \n",
    "    dp=[0]*(n+1)\n",
    "    dp[0]=0\n",
    "    for i in range(1,n+1):\n",
    "        mex=set()\n",
    "        for j in picks:\n",
    "            if(i-j>=0):\n",
    "                mex.add(dp[i-j])\n",
    "        \n",
    "        for j in range(len(mex)+1):\n",
    "            if(j not in mex):\n",
    "                dp[i]=j\n",
    "                break\n",
    "    return dp[n]\n",
    "    \n",
    "\n",
    "\n",
    "\n",
    "def find_winner(n1,n2,n3,picks):\n",
    "    \n",
    "    xor=0\n",
    "    g1=grundy(n1,picks)\n",
    "    g2=grundy(n2,picks)\n",
    "    g3=grundy(n3,picks)\n",
    "    xor=g1^g2^g3\n",
    "    if(xor>0):\n",
    "        return '1st'\n",
    "    else:\n",
    "        return '2nd'"
   ]
  },
  {
   "cell_type": "code",
   "execution_count": 4,
   "id": "733a0904",
   "metadata": {},
   "outputs": [
    {
     "data": {
      "text/plain": [
       "'2nd'"
      ]
     },
     "execution_count": 4,
     "metadata": {},
     "output_type": "execute_result"
    }
   ],
   "source": [
    "find_winner(1,2,3,[1,2,3])"
   ]
  },
  {
   "cell_type": "code",
   "execution_count": null,
   "id": "e0711e71",
   "metadata": {},
   "outputs": [],
   "source": []
  }
 ],
 "metadata": {
  "kernelspec": {
   "display_name": "Python 3 (ipykernel)",
   "language": "python",
   "name": "python3"
  },
  "language_info": {
   "codemirror_mode": {
    "name": "ipython",
    "version": 3
   },
   "file_extension": ".py",
   "mimetype": "text/x-python",
   "name": "python",
   "nbconvert_exporter": "python",
   "pygments_lexer": "ipython3",
   "version": "3.9.8"
  }
 },
 "nbformat": 4,
 "nbformat_minor": 5
}

{
 "cells": [
  {
   "cell_type": "code",
   "execution_count": 1,
   "id": "25c128f6",
   "metadata": {},
   "outputs": [
    {
     "data": {
      "text/plain": [
       "'\\nGiven a length n, count the number of strings of length n that can be made using\\n‘a’, ‘b’ and ‘c’ with at-most one ‘b’ and two ‘c’s allowed.\\n\\nExample 1:\\n\\nInput: n = 1\\nOutput: 3\\nExplanation: Possible strings are: \"a\",\\n\"b\" and \"c\"\\nExample 2:\\n\\nInput: n = 3\\nOutput: 19\\nExplanation: Number of strings with 3 \\noccurrances of a: 1\\n2-a and 1-b: 3\\n2-a and 1-c: 3\\n1-a, 1-b and 1-c: 6\\n1-a and 2-c: 3\\n1-b and 2-c: 3\\nSo, total number of strings of length 3\\nis 1 + 3 + 3 + 6 + 3 + 3 = 19\\n\\n'"
      ]
     },
     "execution_count": 1,
     "metadata": {},
     "output_type": "execute_result"
    }
   ],
   "source": [
    "'''\n",
    "Given a length n, count the number of strings of length n that can be made using\n",
    "‘a’, ‘b’ and ‘c’ with at-most one ‘b’ and two ‘c’s allowed.\n",
    "\n",
    "Example 1:\n",
    "\n",
    "Input: n = 1\n",
    "Output: 3\n",
    "Explanation: Possible strings are: \"a\",\n",
    "\"b\" and \"c\"\n",
    "Example 2:\n",
    "\n",
    "Input: n = 3\n",
    "Output: 19\n",
    "Explanation: Number of strings with 3 \n",
    "occurrances of a: 1\n",
    "2-a and 1-b: 3\n",
    "2-a and 1-c: 3\n",
    "1-a, 1-b and 1-c: 6\n",
    "1-a and 2-c: 3\n",
    "1-b and 2-c: 3\n",
    "So, total number of strings of length 3\n",
    "is 1 + 3 + 3 + 6 + 3 + 3 = 19\n",
    "\n",
    "'''"
   ]
  },
  {
   "cell_type": "code",
   "execution_count": 2,
   "id": "16443d78",
   "metadata": {},
   "outputs": [],
   "source": [
    "def countStr(self, n):\n",
    "    # code here\n",
    "    count=0\n",
    "    if(n>=1):\n",
    "        count+=1 #aaaaa...\n",
    "\n",
    "        count+=n #b..aaa\n",
    "\n",
    "        count+=n #c...aaa\n",
    "\n",
    "        if(n>=2):\n",
    "\n",
    "            count+=n*(n-1) # bc..aaa..\n",
    "\n",
    "            count+= n*(n-1)//2 # cc.aaa\n",
    "\n",
    "            if(n>=3):\n",
    "\n",
    "                count+=n*(n-1)*(n-2)//2 #bcc..aa..\n",
    "    return count"
   ]
  },
  {
   "cell_type": "code",
   "execution_count": null,
   "id": "4cc33025",
   "metadata": {},
   "outputs": [],
   "source": []
  }
 ],
 "metadata": {
  "kernelspec": {
   "display_name": "Python 3 (ipykernel)",
   "language": "python",
   "name": "python3"
  },
  "language_info": {
   "codemirror_mode": {
    "name": "ipython",
    "version": 3
   },
   "file_extension": ".py",
   "mimetype": "text/x-python",
   "name": "python",
   "nbconvert_exporter": "python",
   "pygments_lexer": "ipython3",
   "version": "3.9.8"
  }
 },
 "nbformat": 4,
 "nbformat_minor": 5
}

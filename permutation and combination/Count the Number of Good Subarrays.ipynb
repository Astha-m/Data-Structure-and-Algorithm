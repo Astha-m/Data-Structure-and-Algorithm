{
 "cells": [
  {
   "cell_type": "code",
   "execution_count": 1,
   "id": "86a2c65f",
   "metadata": {},
   "outputs": [
    {
     "data": {
      "text/plain": [
       "'\\nhttps://leetcode.com/contest/weekly-contest-328/problems/count-the-number-of-good-subarrays/\\n\\n\\nGiven an integer array nums and an integer k, \\nreturn the number of good subarrays of nums.\\n\\nA subarray arr is good if it there are at least k \\npairs of indices (i, j) such that i < j and arr[i] == arr[j].\\n\\nA subarray is a contiguous non-empty sequence of elements\\nwithin an array.\\n\\nExample 1:\\n\\nInput: nums = [1,1,1,1,1], k = 10\\nOutput: 1\\nExplanation: The only good subarray is the array nums itself.\\nExample 2:\\n\\nInput: nums = [3,1,4,3,2,2,4], k = 2\\nOutput: 4\\nExplanation: There are 4 different good subarrays:\\n- [3,1,4,3,2,2] that has 2 pairs.\\n- [3,1,4,3,2,2,4] that has 3 pairs.\\n- [1,4,3,2,2,4] that has 2 pairs.\\n- [4,3,2,2,4] that has 2 pairs.\\n \\n\\nConstraints:\\n\\n1 <= nums.length <= 105\\n1 <= nums[i], k <= 109\\n'"
      ]
     },
     "execution_count": 1,
     "metadata": {},
     "output_type": "execute_result"
    }
   ],
   "source": [
    "'''\n",
    "https://leetcode.com/contest/weekly-contest-328/problems/count-the-number-of-good-subarrays/\n",
    "\n",
    "\n",
    "Given an integer array nums and an integer k, \n",
    "return the number of good subarrays of nums.\n",
    "\n",
    "A subarray arr is good if it there are at least k \n",
    "pairs of indices (i, j) such that i < j and arr[i] == arr[j].\n",
    "\n",
    "A subarray is a contiguous non-empty sequence of elements\n",
    "within an array.\n",
    "\n",
    "Example 1:\n",
    "\n",
    "Input: nums = [1,1,1,1,1], k = 10\n",
    "Output: 1\n",
    "Explanation: The only good subarray is the array nums itself.\n",
    "Example 2:\n",
    "\n",
    "Input: nums = [3,1,4,3,2,2,4], k = 2\n",
    "Output: 4\n",
    "Explanation: There are 4 different good subarrays:\n",
    "- [3,1,4,3,2,2] that has 2 pairs.\n",
    "- [3,1,4,3,2,2,4] that has 3 pairs.\n",
    "- [1,4,3,2,2,4] that has 2 pairs.\n",
    "- [4,3,2,2,4] that has 2 pairs.\n",
    " \n",
    "\n",
    "Constraints:\n",
    "\n",
    "1 <= nums.length <= 105\n",
    "1 <= nums[i], k <= 109\n",
    "'''"
   ]
  },
  {
   "cell_type": "code",
   "execution_count": null,
   "id": "156d69ed",
   "metadata": {},
   "outputs": [],
   "source": [
    "def countGood(self, nums: List[int], k: int) -> int:\n",
    "    '''\n",
    "    Idea:-\n",
    "\n",
    "    Keeping increasing the window until we get the condition\n",
    "\n",
    "    say we have three 1's the total number of combinations would be 3c2 and for 4 4c2\n",
    "\n",
    "    hence for every increase in 1 number we will have to add frequency of that number - 1\n",
    "\n",
    "    example:\n",
    "\n",
    "    one 1 :- 0 combinations\n",
    "\n",
    "    two 1:- 0 + (2 - 1) = 1 combinations\n",
    "\n",
    "    three 1:- 1 + (3 - 1) = 3 combinations\n",
    "\n",
    "    four 1 :- 3 + ( 4 - 1) = 6 and so on\n",
    "\n",
    "    we add this to global count if the global count becomes >= k then we have a good subarray . \n",
    "    Then every subarray with this as subarray will also be good hence there are (n - j) such subarrays .\n",
    "\n",
    "    After reaching a good subarray we try shrinking the window\n",
    "\n",
    "\n",
    "\n",
    "    '''\n",
    "    i=0\n",
    "    j=0\n",
    "    n=len(nums)\n",
    "    from collections import defaultdict\n",
    "    d=defaultdict(int)\n",
    "\n",
    "    combi=0\n",
    "    ans=0\n",
    "\n",
    "    while(j<n):\n",
    "        d[nums[j]]+=1\n",
    "        combi+=d[nums[j]]-1\n",
    "\n",
    "        while(i<j and combi>=k):\n",
    "            ans+=n-j\n",
    "            d[nums[i]]-=1\n",
    "            combi-=d[nums[i]]\n",
    "            i+=1\n",
    "        j+=1\n",
    "    return ans"
   ]
  }
 ],
 "metadata": {
  "kernelspec": {
   "display_name": "Python 3 (ipykernel)",
   "language": "python",
   "name": "python3"
  },
  "language_info": {
   "codemirror_mode": {
    "name": "ipython",
    "version": 3
   },
   "file_extension": ".py",
   "mimetype": "text/x-python",
   "name": "python",
   "nbconvert_exporter": "python",
   "pygments_lexer": "ipython3",
   "version": "3.9.13"
  }
 },
 "nbformat": 4,
 "nbformat_minor": 5
}

{
 "cells": [
  {
   "cell_type": "code",
   "execution_count": 2,
   "id": "a14067a0",
   "metadata": {},
   "outputs": [
    {
     "name": "stdout",
     "output_type": "stream",
     "text": [
      "['0', '1', '2', '3']\n",
      "['0', '1', '3', '2']\n",
      "['0', '2', '1', '3']\n",
      "['0', '2', '3', '1']\n",
      "['0', '3', '2', '1']\n",
      "['0', '3', '1', '2']\n",
      "['1', '0', '2', '3']\n",
      "['1', '0', '3', '2']\n",
      "['1', '2', '0', '3']\n",
      "['1', '2', '3', '0']\n",
      "['1', '3', '2', '0']\n",
      "['1', '3', '0', '2']\n",
      "['2', '1', '0', '3']\n",
      "['2', '1', '3', '0']\n",
      "['2', '0', '1', '3']\n",
      "['2', '0', '3', '1']\n",
      "['2', '3', '0', '1']\n",
      "['2', '3', '1', '0']\n",
      "['3', '1', '2', '0']\n",
      "['3', '1', '0', '2']\n",
      "['3', '2', '1', '0']\n",
      "['3', '2', '0', '1']\n",
      "['3', '0', '2', '1']\n",
      "['3', '0', '1', '2']\n"
     ]
    }
   ],
   "source": [
    "def permute(strg,i):\n",
    "    if(i==len(strg)-1):\n",
    "        print(strg)\n",
    "    \n",
    "    for j in range(i,len(strg)):\n",
    "        strg[i],strg[j]=strg[j],strg[i]\n",
    "        permute(strg,i+1)\n",
    "        strg[j],strg[i]=strg[i],strg[j]\n",
    "\n",
    "permute(['0','1','2','3'],0)"
   ]
  },
  {
   "cell_type": "code",
   "execution_count": null,
   "id": "b8bf7d90",
   "metadata": {},
   "outputs": [],
   "source": []
  }
 ],
 "metadata": {
  "kernelspec": {
   "display_name": "Python 3 (ipykernel)",
   "language": "python",
   "name": "python3"
  },
  "language_info": {
   "codemirror_mode": {
    "name": "ipython",
    "version": 3
   },
   "file_extension": ".py",
   "mimetype": "text/x-python",
   "name": "python",
   "nbconvert_exporter": "python",
   "pygments_lexer": "ipython3",
   "version": "3.9.8"
  }
 },
 "nbformat": 4,
 "nbformat_minor": 5
}
